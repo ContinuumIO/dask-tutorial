{
 "cells": [
  {
   "cell_type": "markdown",
   "metadata": {
    "tags": []
   },
   "source": [
    "<img src=\"http://dask.readthedocs.io/en/latest/_images/dask_horizontal.svg\"\n",
    "     align=\"right\"\n",
    "     width=\"30%\"\n",
    "     alt=\"Dask logo\\\">\n",
    "\n",
    "\n",
    "# Dask DataFrame - parallelized pandas\n",
    "\n",
    "Looks and feels like the pandas API, but for parallel and distributed workflows. \n",
    "\n",
    "At its core, the `dask.dataframe` module implements a \"blocked parallel\" `DataFrame` object that looks and feels like the pandas API, but for parallel and distributed workflows. One Dask `DataFrame` is comprised of many in-memory pandas `DataFrame`s separated along the index. One operation on a Dask `DataFrame` triggers many pandas operations on the constituent pandas `DataFrame`s in a way that is mindful of potential parallelism and memory constraints.\n"
   ]
  },
  {
   "cell_type": "markdown",
   "metadata": {
    "tags": []
   },
   "source": [
    "<img src=\"https://docs.dask.org/en/stable/_images/dask-dataframe.svg\"\n",
    "     align=\"right\"\n",
    "     width=\"30%\"\n",
    "     alt=\"Dask DataFrame is composed of pandas DataFrames\"/>\n",
    "\n",
    "**Related Documentation**\n",
    "\n",
    "* [DataFrame documentation](https://docs.dask.org/en/latest/dataframe.html)\n",
    "* [DataFrame screencast](https://youtu.be/AT2XtFehFSQ)\n",
    "* [DataFrame API](https://docs.dask.org/en/latest/dataframe-api.html)\n",
    "* [DataFrame examples](https://examples.dask.org/dataframe.html)\n",
    "* [pandas documentation](https://pandas.pydata.org/pandas-docs/stable/)\n",
    "\n",
    "## When to use `dask.dataframe`\n",
    "\n",
    "pandas is great for tabular datasets that fit in memory. A general rule of thumb for pandas is:\n",
    "\n",
    "> \"Have 5 to 10 times as much RAM as the size of your dataset\"\n",
    ">\n",
    "> ~ Wes McKinney (2017) in [10 things I hate about pandas](https://wesmckinney.com/blog/apache-arrow-pandas-internals/)\n",
    "\n",
    "Here \"size of dataset\" means dataset size on _the disk_.\n",
    "\n",
    "Dask becomes useful when the datasets exceed the above rule.\n",
    "\n",
    "In this notebook, you will be working with the New York City Airline data. This dataset is only ~200MB, so that you can download it in a reasonable time, but `dask.dataframe` will scale to  datasets **much** larger than memory.\n",
    "\n"
   ]
  },
  {
   "cell_type": "markdown",
   "metadata": {},
   "source": [
    "## Create datasets"
   ]
  },
  {
   "cell_type": "markdown",
   "metadata": {},
   "source": [
    "Create the datasets you will be using in this notebook:"
   ]
  },
  {
   "cell_type": "code",
   "execution_count": 1,
   "metadata": {
    "execution": {
     "iopub.execute_input": "2022-10-27T21:22:08.980876Z",
     "iopub.status.busy": "2022-10-27T21:22:08.980608Z",
     "iopub.status.idle": "2022-10-27T21:22:09.374400Z",
     "shell.execute_reply": "2022-10-27T21:22:09.373915Z"
    }
   },
   "outputs": [],
   "source": [
    "%run prep.py -d flights"
   ]
  },
  {
   "cell_type": "markdown",
   "metadata": {},
   "source": [
    "## Set up your local cluster"
   ]
  },
  {
   "cell_type": "markdown",
   "metadata": {},
   "source": [
    "Create a local Dask cluster and connect it to the client. Don't worry about this bit of code for now, you will learn more in the Distributed notebook."
   ]
  },
  {
   "cell_type": "code",
   "execution_count": 2,
   "metadata": {
    "execution": {
     "iopub.execute_input": "2022-10-27T21:22:09.377445Z",
     "iopub.status.busy": "2022-10-27T21:22:09.377185Z",
     "iopub.status.idle": "2022-10-27T21:22:11.132596Z",
     "shell.execute_reply": "2022-10-27T21:22:11.132098Z"
    }
   },
   "outputs": [
    {
     "name": "stderr",
     "output_type": "stream",
     "text": [
      "2022-10-27 21:22:10,543 - distributed.diskutils - INFO - Found stale lock file and directory '/home/runner/work/dask-tutorial/dask-tutorial/dask-worker-space/worker-ivhn7_1u', purging\n",
      "2022-10-27 21:22:10,544 - distributed.diskutils - INFO - Found stale lock file and directory '/home/runner/work/dask-tutorial/dask-tutorial/dask-worker-space/worker-rrs_4uw9', purging\n"
     ]
    },
    {
     "data": {
      "text/html": [
       "<div>\n",
       "    <div style=\"width: 24px; height: 24px; background-color: #e1e1e1; border: 3px solid #9D9D9D; border-radius: 5px; position: absolute;\"> </div>\n",
       "    <div style=\"margin-left: 48px;\">\n",
       "        <h3 style=\"margin-bottom: 0px;\">Client</h3>\n",
       "        <p style=\"color: #9D9D9D; margin-bottom: 0px;\">Client-6a4bc42b-563d-11ed-8c17-002248465dbc</p>\n",
       "        <table style=\"width: 100%; text-align: left;\">\n",
       "\n",
       "        <tr>\n",
       "        \n",
       "            <td style=\"text-align: left;\"><strong>Connection method:</strong> Cluster object</td>\n",
       "            <td style=\"text-align: left;\"><strong>Cluster type:</strong> distributed.LocalCluster</td>\n",
       "        \n",
       "        </tr>\n",
       "\n",
       "        \n",
       "            <tr>\n",
       "                <td style=\"text-align: left;\">\n",
       "                    <strong>Dashboard: </strong> <a href=\"http://127.0.0.1:8787/status\" target=\"_blank\">http://127.0.0.1:8787/status</a>\n",
       "                </td>\n",
       "                <td style=\"text-align: left;\"></td>\n",
       "            </tr>\n",
       "        \n",
       "\n",
       "        </table>\n",
       "\n",
       "        \n",
       "            <details>\n",
       "            <summary style=\"margin-bottom: 20px;\"><h3 style=\"display: inline;\">Cluster Info</h3></summary>\n",
       "            <div class=\"jp-RenderedHTMLCommon jp-RenderedHTML jp-mod-trusted jp-OutputArea-output\">\n",
       "    <div style=\"width: 24px; height: 24px; background-color: #e1e1e1; border: 3px solid #9D9D9D; border-radius: 5px; position: absolute;\">\n",
       "    </div>\n",
       "    <div style=\"margin-left: 48px;\">\n",
       "        <h3 style=\"margin-bottom: 0px; margin-top: 0px;\">LocalCluster</h3>\n",
       "        <p style=\"color: #9D9D9D; margin-bottom: 0px;\">cfa01c54</p>\n",
       "        <table style=\"width: 100%; text-align: left;\">\n",
       "            <tr>\n",
       "                <td style=\"text-align: left;\">\n",
       "                    <strong>Dashboard:</strong> <a href=\"http://127.0.0.1:8787/status\" target=\"_blank\">http://127.0.0.1:8787/status</a>\n",
       "                </td>\n",
       "                <td style=\"text-align: left;\">\n",
       "                    <strong>Workers:</strong> 4\n",
       "                </td>\n",
       "            </tr>\n",
       "            <tr>\n",
       "                <td style=\"text-align: left;\">\n",
       "                    <strong>Total threads:</strong> 4\n",
       "                </td>\n",
       "                <td style=\"text-align: left;\">\n",
       "                    <strong>Total memory:</strong> 15.63 GiB\n",
       "                </td>\n",
       "            </tr>\n",
       "            \n",
       "            <tr>\n",
       "    <td style=\"text-align: left;\"><strong>Status:</strong> running</td>\n",
       "    <td style=\"text-align: left;\"><strong>Using processes:</strong> True</td>\n",
       "</tr>\n",
       "\n",
       "            \n",
       "        </table>\n",
       "\n",
       "        <details>\n",
       "            <summary style=\"margin-bottom: 20px;\">\n",
       "                <h3 style=\"display: inline;\">Scheduler Info</h3>\n",
       "            </summary>\n",
       "\n",
       "            <div style=\"\">\n",
       "    <div>\n",
       "        <div style=\"width: 24px; height: 24px; background-color: #FFF7E5; border: 3px solid #FF6132; border-radius: 5px; position: absolute;\"> </div>\n",
       "        <div style=\"margin-left: 48px;\">\n",
       "            <h3 style=\"margin-bottom: 0px;\">Scheduler</h3>\n",
       "            <p style=\"color: #9D9D9D; margin-bottom: 0px;\">Scheduler-887ba38e-0fe5-43a4-8695-ce4cd7932d28</p>\n",
       "            <table style=\"width: 100%; text-align: left;\">\n",
       "                <tr>\n",
       "                    <td style=\"text-align: left;\">\n",
       "                        <strong>Comm:</strong> tcp://127.0.0.1:34633\n",
       "                    </td>\n",
       "                    <td style=\"text-align: left;\">\n",
       "                        <strong>Workers:</strong> 4\n",
       "                    </td>\n",
       "                </tr>\n",
       "                <tr>\n",
       "                    <td style=\"text-align: left;\">\n",
       "                        <strong>Dashboard:</strong> <a href=\"http://127.0.0.1:8787/status\" target=\"_blank\">http://127.0.0.1:8787/status</a>\n",
       "                    </td>\n",
       "                    <td style=\"text-align: left;\">\n",
       "                        <strong>Total threads:</strong> 4\n",
       "                    </td>\n",
       "                </tr>\n",
       "                <tr>\n",
       "                    <td style=\"text-align: left;\">\n",
       "                        <strong>Started:</strong> Just now\n",
       "                    </td>\n",
       "                    <td style=\"text-align: left;\">\n",
       "                        <strong>Total memory:</strong> 15.63 GiB\n",
       "                    </td>\n",
       "                </tr>\n",
       "            </table>\n",
       "        </div>\n",
       "    </div>\n",
       "\n",
       "    <details style=\"margin-left: 48px;\">\n",
       "        <summary style=\"margin-bottom: 20px;\">\n",
       "            <h3 style=\"display: inline;\">Workers</h3>\n",
       "        </summary>\n",
       "\n",
       "        \n",
       "        <div style=\"margin-bottom: 20px;\">\n",
       "            <div style=\"width: 24px; height: 24px; background-color: #DBF5FF; border: 3px solid #4CC9FF; border-radius: 5px; position: absolute;\"> </div>\n",
       "            <div style=\"margin-left: 48px;\">\n",
       "            <details>\n",
       "                <summary>\n",
       "                    <h4 style=\"margin-bottom: 0px; display: inline;\">Worker: 0</h4>\n",
       "                </summary>\n",
       "                <table style=\"width: 100%; text-align: left;\">\n",
       "                    <tr>\n",
       "                        <td style=\"text-align: left;\">\n",
       "                            <strong>Comm: </strong> tcp://127.0.0.1:39183\n",
       "                        </td>\n",
       "                        <td style=\"text-align: left;\">\n",
       "                            <strong>Total threads: </strong> 1\n",
       "                        </td>\n",
       "                    </tr>\n",
       "                    <tr>\n",
       "                        <td style=\"text-align: left;\">\n",
       "                            <strong>Dashboard: </strong> <a href=\"http://127.0.0.1:42477/status\" target=\"_blank\">http://127.0.0.1:42477/status</a>\n",
       "                        </td>\n",
       "                        <td style=\"text-align: left;\">\n",
       "                            <strong>Memory: </strong> 3.91 GiB\n",
       "                        </td>\n",
       "                    </tr>\n",
       "                    <tr>\n",
       "                        <td style=\"text-align: left;\">\n",
       "                            <strong>Nanny: </strong> tcp://127.0.0.1:44741\n",
       "                        </td>\n",
       "                        <td style=\"text-align: left;\"></td>\n",
       "                    </tr>\n",
       "                    <tr>\n",
       "                        <td colspan=\"2\" style=\"text-align: left;\">\n",
       "                            <strong>Local directory: </strong> /home/runner/work/dask-tutorial/dask-tutorial/dask-worker-space/worker-ory1h7dd\n",
       "                        </td>\n",
       "                    </tr>\n",
       "\n",
       "                    \n",
       "\n",
       "                    \n",
       "\n",
       "                </table>\n",
       "            </details>\n",
       "            </div>\n",
       "        </div>\n",
       "        \n",
       "        <div style=\"margin-bottom: 20px;\">\n",
       "            <div style=\"width: 24px; height: 24px; background-color: #DBF5FF; border: 3px solid #4CC9FF; border-radius: 5px; position: absolute;\"> </div>\n",
       "            <div style=\"margin-left: 48px;\">\n",
       "            <details>\n",
       "                <summary>\n",
       "                    <h4 style=\"margin-bottom: 0px; display: inline;\">Worker: 1</h4>\n",
       "                </summary>\n",
       "                <table style=\"width: 100%; text-align: left;\">\n",
       "                    <tr>\n",
       "                        <td style=\"text-align: left;\">\n",
       "                            <strong>Comm: </strong> tcp://127.0.0.1:39479\n",
       "                        </td>\n",
       "                        <td style=\"text-align: left;\">\n",
       "                            <strong>Total threads: </strong> 1\n",
       "                        </td>\n",
       "                    </tr>\n",
       "                    <tr>\n",
       "                        <td style=\"text-align: left;\">\n",
       "                            <strong>Dashboard: </strong> <a href=\"http://127.0.0.1:36297/status\" target=\"_blank\">http://127.0.0.1:36297/status</a>\n",
       "                        </td>\n",
       "                        <td style=\"text-align: left;\">\n",
       "                            <strong>Memory: </strong> 3.91 GiB\n",
       "                        </td>\n",
       "                    </tr>\n",
       "                    <tr>\n",
       "                        <td style=\"text-align: left;\">\n",
       "                            <strong>Nanny: </strong> tcp://127.0.0.1:37063\n",
       "                        </td>\n",
       "                        <td style=\"text-align: left;\"></td>\n",
       "                    </tr>\n",
       "                    <tr>\n",
       "                        <td colspan=\"2\" style=\"text-align: left;\">\n",
       "                            <strong>Local directory: </strong> /home/runner/work/dask-tutorial/dask-tutorial/dask-worker-space/worker-s76hc5om\n",
       "                        </td>\n",
       "                    </tr>\n",
       "\n",
       "                    \n",
       "\n",
       "                    \n",
       "\n",
       "                </table>\n",
       "            </details>\n",
       "            </div>\n",
       "        </div>\n",
       "        \n",
       "        <div style=\"margin-bottom: 20px;\">\n",
       "            <div style=\"width: 24px; height: 24px; background-color: #DBF5FF; border: 3px solid #4CC9FF; border-radius: 5px; position: absolute;\"> </div>\n",
       "            <div style=\"margin-left: 48px;\">\n",
       "            <details>\n",
       "                <summary>\n",
       "                    <h4 style=\"margin-bottom: 0px; display: inline;\">Worker: 2</h4>\n",
       "                </summary>\n",
       "                <table style=\"width: 100%; text-align: left;\">\n",
       "                    <tr>\n",
       "                        <td style=\"text-align: left;\">\n",
       "                            <strong>Comm: </strong> tcp://127.0.0.1:41145\n",
       "                        </td>\n",
       "                        <td style=\"text-align: left;\">\n",
       "                            <strong>Total threads: </strong> 1\n",
       "                        </td>\n",
       "                    </tr>\n",
       "                    <tr>\n",
       "                        <td style=\"text-align: left;\">\n",
       "                            <strong>Dashboard: </strong> <a href=\"http://127.0.0.1:41143/status\" target=\"_blank\">http://127.0.0.1:41143/status</a>\n",
       "                        </td>\n",
       "                        <td style=\"text-align: left;\">\n",
       "                            <strong>Memory: </strong> 3.91 GiB\n",
       "                        </td>\n",
       "                    </tr>\n",
       "                    <tr>\n",
       "                        <td style=\"text-align: left;\">\n",
       "                            <strong>Nanny: </strong> tcp://127.0.0.1:40899\n",
       "                        </td>\n",
       "                        <td style=\"text-align: left;\"></td>\n",
       "                    </tr>\n",
       "                    <tr>\n",
       "                        <td colspan=\"2\" style=\"text-align: left;\">\n",
       "                            <strong>Local directory: </strong> /home/runner/work/dask-tutorial/dask-tutorial/dask-worker-space/worker-7li6ffxz\n",
       "                        </td>\n",
       "                    </tr>\n",
       "\n",
       "                    \n",
       "\n",
       "                    \n",
       "\n",
       "                </table>\n",
       "            </details>\n",
       "            </div>\n",
       "        </div>\n",
       "        \n",
       "        <div style=\"margin-bottom: 20px;\">\n",
       "            <div style=\"width: 24px; height: 24px; background-color: #DBF5FF; border: 3px solid #4CC9FF; border-radius: 5px; position: absolute;\"> </div>\n",
       "            <div style=\"margin-left: 48px;\">\n",
       "            <details>\n",
       "                <summary>\n",
       "                    <h4 style=\"margin-bottom: 0px; display: inline;\">Worker: 3</h4>\n",
       "                </summary>\n",
       "                <table style=\"width: 100%; text-align: left;\">\n",
       "                    <tr>\n",
       "                        <td style=\"text-align: left;\">\n",
       "                            <strong>Comm: </strong> tcp://127.0.0.1:33971\n",
       "                        </td>\n",
       "                        <td style=\"text-align: left;\">\n",
       "                            <strong>Total threads: </strong> 1\n",
       "                        </td>\n",
       "                    </tr>\n",
       "                    <tr>\n",
       "                        <td style=\"text-align: left;\">\n",
       "                            <strong>Dashboard: </strong> <a href=\"http://127.0.0.1:45011/status\" target=\"_blank\">http://127.0.0.1:45011/status</a>\n",
       "                        </td>\n",
       "                        <td style=\"text-align: left;\">\n",
       "                            <strong>Memory: </strong> 3.91 GiB\n",
       "                        </td>\n",
       "                    </tr>\n",
       "                    <tr>\n",
       "                        <td style=\"text-align: left;\">\n",
       "                            <strong>Nanny: </strong> tcp://127.0.0.1:42583\n",
       "                        </td>\n",
       "                        <td style=\"text-align: left;\"></td>\n",
       "                    </tr>\n",
       "                    <tr>\n",
       "                        <td colspan=\"2\" style=\"text-align: left;\">\n",
       "                            <strong>Local directory: </strong> /home/runner/work/dask-tutorial/dask-tutorial/dask-worker-space/worker-a315rle5\n",
       "                        </td>\n",
       "                    </tr>\n",
       "\n",
       "                    \n",
       "\n",
       "                    \n",
       "\n",
       "                </table>\n",
       "            </details>\n",
       "            </div>\n",
       "        </div>\n",
       "        \n",
       "\n",
       "    </details>\n",
       "</div>\n",
       "\n",
       "        </details>\n",
       "    </div>\n",
       "</div>\n",
       "            </details>\n",
       "        \n",
       "\n",
       "    </div>\n",
       "</div>"
      ],
      "text/plain": [
       "<Client: 'tcp://127.0.0.1:34633' processes=4 threads=4, memory=15.63 GiB>"
      ]
     },
     "execution_count": 2,
     "metadata": {},
     "output_type": "execute_result"
    }
   ],
   "source": [
    "from dask.distributed import Client\n",
    "\n",
    "client = Client(n_workers=4)\n",
    "client"
   ]
  },
  {
   "cell_type": "markdown",
   "metadata": {},
   "source": [
    "### Dask Diagnostic Dashboard\n",
    "\n",
    "Dask Distributed provides a useful Dashboard to visualize the state of your cluster and computations.\n",
    "\n",
    "If you're on **JupyterLab or Binder**, you can use the [Dask JupyterLab extension](https://github.com/dask/dask-labextension) (which should be already installed in your environment) to open the dashboard plots:\n",
    "* Click on the Dask logo in the left sidebar\n",
    "* Click on the magnifying glass icon, which will automatically connect to the active dashboard (if that doesn't work, you can type/paste the dashboard link http://127.0.0.1:8787 in the field)\n",
    "* Click on **\"Task Stream\"**, **\"Progress Bar\"**, and **\"Worker Memory\"**, which will open these plots in new tabs\n",
    "* Re-organize the tabs to suit your workflow!\n",
    "\n",
    "Alternatively, click on the dashboard link displayed in the Client details above: http://127.0.0.1:8787/status. It will open a new browser tab with the Dashboard."
   ]
  },
  {
   "cell_type": "markdown",
   "metadata": {
    "tags": []
   },
   "source": [
    "## Reading and working with datasets\n",
    "\n",
    "Let's read an extract of flights in the USA across several years. This data is specific to flights out of the three airports in the New York City area."
   ]
  },
  {
   "cell_type": "code",
   "execution_count": 3,
   "metadata": {
    "execution": {
     "iopub.execute_input": "2022-10-27T21:22:11.135302Z",
     "iopub.status.busy": "2022-10-27T21:22:11.135020Z",
     "iopub.status.idle": "2022-10-27T21:22:11.138154Z",
     "shell.execute_reply": "2022-10-27T21:22:11.137767Z"
    }
   },
   "outputs": [],
   "source": [
    "import os\n",
    "import dask"
   ]
  },
  {
   "cell_type": "markdown",
   "metadata": {},
   "source": [
    "By convention, we import the module `dask.dataframe` as `dd`, and call the corresponding `DataFrame` object `ddf`.\n",
    "\n",
    "**Note**: The term \"Dask DataFrame\" is slightly overloaded. Depending on the context, it can refer to the module or the DataFrame object. To avoid confusion, throughout this notebook:\n",
    "- `dask.dataframe` (note the all lowercase) refers to the API, and\n",
    "- `DataFrame` (note the CamelCase) refers to the object.\n",
    "\n",
    "The following filename includes a glob pattern `*`, so all files in the path matching that pattern will be read into the same `DataFrame`."
   ]
  },
  {
   "cell_type": "code",
   "execution_count": 4,
   "metadata": {
    "execution": {
     "iopub.execute_input": "2022-10-27T21:22:11.140250Z",
     "iopub.status.busy": "2022-10-27T21:22:11.139906Z",
     "iopub.status.idle": "2022-10-27T21:22:11.228496Z",
     "shell.execute_reply": "2022-10-27T21:22:11.228019Z"
    }
   },
   "outputs": [
    {
     "data": {
      "text/html": [
       "<div><strong>Dask DataFrame Structure:</strong></div>\n",
       "<div>\n",
       "<style scoped>\n",
       "    .dataframe tbody tr th:only-of-type {\n",
       "        vertical-align: middle;\n",
       "    }\n",
       "\n",
       "    .dataframe tbody tr th {\n",
       "        vertical-align: top;\n",
       "    }\n",
       "\n",
       "    .dataframe thead th {\n",
       "        text-align: right;\n",
       "    }\n",
       "</style>\n",
       "<table border=\"1\" class=\"dataframe\">\n",
       "  <thead>\n",
       "    <tr style=\"text-align: right;\">\n",
       "      <th></th>\n",
       "      <th>Date</th>\n",
       "      <th>DayOfWeek</th>\n",
       "      <th>DepTime</th>\n",
       "      <th>CRSDepTime</th>\n",
       "      <th>ArrTime</th>\n",
       "      <th>CRSArrTime</th>\n",
       "      <th>UniqueCarrier</th>\n",
       "      <th>FlightNum</th>\n",
       "      <th>TailNum</th>\n",
       "      <th>ActualElapsedTime</th>\n",
       "      <th>CRSElapsedTime</th>\n",
       "      <th>AirTime</th>\n",
       "      <th>ArrDelay</th>\n",
       "      <th>DepDelay</th>\n",
       "      <th>Origin</th>\n",
       "      <th>Dest</th>\n",
       "      <th>Distance</th>\n",
       "      <th>TaxiIn</th>\n",
       "      <th>TaxiOut</th>\n",
       "      <th>Cancelled</th>\n",
       "      <th>Diverted</th>\n",
       "    </tr>\n",
       "    <tr>\n",
       "      <th>npartitions=10</th>\n",
       "      <th></th>\n",
       "      <th></th>\n",
       "      <th></th>\n",
       "      <th></th>\n",
       "      <th></th>\n",
       "      <th></th>\n",
       "      <th></th>\n",
       "      <th></th>\n",
       "      <th></th>\n",
       "      <th></th>\n",
       "      <th></th>\n",
       "      <th></th>\n",
       "      <th></th>\n",
       "      <th></th>\n",
       "      <th></th>\n",
       "      <th></th>\n",
       "      <th></th>\n",
       "      <th></th>\n",
       "      <th></th>\n",
       "      <th></th>\n",
       "      <th></th>\n",
       "    </tr>\n",
       "  </thead>\n",
       "  <tbody>\n",
       "    <tr>\n",
       "      <th></th>\n",
       "      <td>datetime64[ns]</td>\n",
       "      <td>int64</td>\n",
       "      <td>float64</td>\n",
       "      <td>int64</td>\n",
       "      <td>float64</td>\n",
       "      <td>int64</td>\n",
       "      <td>object</td>\n",
       "      <td>int64</td>\n",
       "      <td>float64</td>\n",
       "      <td>float64</td>\n",
       "      <td>int64</td>\n",
       "      <td>float64</td>\n",
       "      <td>float64</td>\n",
       "      <td>float64</td>\n",
       "      <td>object</td>\n",
       "      <td>object</td>\n",
       "      <td>float64</td>\n",
       "      <td>float64</td>\n",
       "      <td>float64</td>\n",
       "      <td>int64</td>\n",
       "      <td>int64</td>\n",
       "    </tr>\n",
       "    <tr>\n",
       "      <th></th>\n",
       "      <td>...</td>\n",
       "      <td>...</td>\n",
       "      <td>...</td>\n",
       "      <td>...</td>\n",
       "      <td>...</td>\n",
       "      <td>...</td>\n",
       "      <td>...</td>\n",
       "      <td>...</td>\n",
       "      <td>...</td>\n",
       "      <td>...</td>\n",
       "      <td>...</td>\n",
       "      <td>...</td>\n",
       "      <td>...</td>\n",
       "      <td>...</td>\n",
       "      <td>...</td>\n",
       "      <td>...</td>\n",
       "      <td>...</td>\n",
       "      <td>...</td>\n",
       "      <td>...</td>\n",
       "      <td>...</td>\n",
       "      <td>...</td>\n",
       "    </tr>\n",
       "    <tr>\n",
       "      <th>...</th>\n",
       "      <td>...</td>\n",
       "      <td>...</td>\n",
       "      <td>...</td>\n",
       "      <td>...</td>\n",
       "      <td>...</td>\n",
       "      <td>...</td>\n",
       "      <td>...</td>\n",
       "      <td>...</td>\n",
       "      <td>...</td>\n",
       "      <td>...</td>\n",
       "      <td>...</td>\n",
       "      <td>...</td>\n",
       "      <td>...</td>\n",
       "      <td>...</td>\n",
       "      <td>...</td>\n",
       "      <td>...</td>\n",
       "      <td>...</td>\n",
       "      <td>...</td>\n",
       "      <td>...</td>\n",
       "      <td>...</td>\n",
       "      <td>...</td>\n",
       "    </tr>\n",
       "    <tr>\n",
       "      <th></th>\n",
       "      <td>...</td>\n",
       "      <td>...</td>\n",
       "      <td>...</td>\n",
       "      <td>...</td>\n",
       "      <td>...</td>\n",
       "      <td>...</td>\n",
       "      <td>...</td>\n",
       "      <td>...</td>\n",
       "      <td>...</td>\n",
       "      <td>...</td>\n",
       "      <td>...</td>\n",
       "      <td>...</td>\n",
       "      <td>...</td>\n",
       "      <td>...</td>\n",
       "      <td>...</td>\n",
       "      <td>...</td>\n",
       "      <td>...</td>\n",
       "      <td>...</td>\n",
       "      <td>...</td>\n",
       "      <td>...</td>\n",
       "      <td>...</td>\n",
       "    </tr>\n",
       "    <tr>\n",
       "      <th></th>\n",
       "      <td>...</td>\n",
       "      <td>...</td>\n",
       "      <td>...</td>\n",
       "      <td>...</td>\n",
       "      <td>...</td>\n",
       "      <td>...</td>\n",
       "      <td>...</td>\n",
       "      <td>...</td>\n",
       "      <td>...</td>\n",
       "      <td>...</td>\n",
       "      <td>...</td>\n",
       "      <td>...</td>\n",
       "      <td>...</td>\n",
       "      <td>...</td>\n",
       "      <td>...</td>\n",
       "      <td>...</td>\n",
       "      <td>...</td>\n",
       "      <td>...</td>\n",
       "      <td>...</td>\n",
       "      <td>...</td>\n",
       "      <td>...</td>\n",
       "    </tr>\n",
       "  </tbody>\n",
       "</table>\n",
       "</div>\n",
       "<div>Dask Name: read-csv, 10 tasks</div>"
      ],
      "text/plain": [
       "Dask DataFrame Structure:\n",
       "                          Date DayOfWeek  DepTime CRSDepTime  ArrTime CRSArrTime UniqueCarrier FlightNum  TailNum ActualElapsedTime CRSElapsedTime  AirTime ArrDelay DepDelay  Origin    Dest Distance   TaxiIn  TaxiOut Cancelled Diverted\n",
       "npartitions=10                                                                                                                                                                                                                             \n",
       "                datetime64[ns]     int64  float64      int64  float64      int64        object     int64  float64           float64          int64  float64  float64  float64  object  object  float64  float64  float64     int64    int64\n",
       "                           ...       ...      ...        ...      ...        ...           ...       ...      ...               ...            ...      ...      ...      ...     ...     ...      ...      ...      ...       ...      ...\n",
       "...                        ...       ...      ...        ...      ...        ...           ...       ...      ...               ...            ...      ...      ...      ...     ...     ...      ...      ...      ...       ...      ...\n",
       "                           ...       ...      ...        ...      ...        ...           ...       ...      ...               ...            ...      ...      ...      ...     ...     ...      ...      ...      ...       ...      ...\n",
       "                           ...       ...      ...        ...      ...        ...           ...       ...      ...               ...            ...      ...      ...      ...     ...     ...      ...      ...      ...       ...      ...\n",
       "Dask Name: read-csv, 10 tasks"
      ]
     },
     "execution_count": 4,
     "metadata": {},
     "output_type": "execute_result"
    }
   ],
   "source": [
    "import dask.dataframe as dd\n",
    "\n",
    "ddf = dd.read_csv(\n",
    "    os.path.join(\"data\", \"nycflights\", \"*.csv\"), parse_dates={\"Date\": [0, 1, 2]}\n",
    ")\n",
    "ddf"
   ]
  },
  {
   "cell_type": "markdown",
   "metadata": {},
   "source": [
    "Dask has not loaded the data yet, it has:\n",
    "- investigated the input path and found that there are ten matching files\n",
    "- intelligently created a set of jobs for each chunk -- one per original CSV file in this case"
   ]
  },
  {
   "cell_type": "markdown",
   "metadata": {},
   "source": [
    "Notice that the representation of the `DataFrame` object contains no data - Dask has just done enough to read the start of the first file, and infer the column names and dtypes."
   ]
  },
  {
   "cell_type": "markdown",
   "metadata": {},
   "source": [
    "### Lazy Evaluation\n",
    "\n",
    "Most Dask Collections, including Dask `DataFrame` are evaluated lazily, which means Dask constructs the logic (called task graph) of your computation immediately but \"evaluates\" them  only when necessary. You can view this task graph using `.visualize()`.\n",
    "\n",
    "You will learn more about this in the Delayed notebook, but for now, note that we need to call `.compute()` to trigger actual computations."
   ]
  },
  {
   "cell_type": "code",
   "execution_count": 5,
   "metadata": {
    "execution": {
     "iopub.execute_input": "2022-10-27T21:22:11.230807Z",
     "iopub.status.busy": "2022-10-27T21:22:11.230645Z",
     "iopub.status.idle": "2022-10-27T21:22:13.088895Z",
     "shell.execute_reply": "2022-10-27T21:22:13.088373Z"
    }
   },
   "outputs": [
    {
     "data": {
      "image/png": "[encoded data removed]",
      "text/plain": [
       "<IPython.core.display.Image object>"
      ]
     },
     "execution_count": 5,
     "metadata": {},
     "output_type": "execute_result"
    }
   ],
   "source": [
    "ddf.visualize()"
   ]
  },
  {
   "cell_type": "markdown",
   "metadata": {},
   "source": [
    "Some functions like `len` and `head` also trigger a computation. Specifically, calling `len` will:\n",
    "- load actual data, (that is, load each file into a pandas DataFrame)\n",
    "- then apply the corresponding functions to each pandas DataFrame (also known as a partition)\n",
    "- combine the subtotals to give you the final grand total"
   ]
  },
  {
   "cell_type": "code",
   "execution_count": 6,
   "metadata": {
    "execution": {
     "iopub.execute_input": "2022-10-27T21:22:13.091083Z",
     "iopub.status.busy": "2022-10-27T21:22:13.090914Z",
     "iopub.status.idle": "2022-10-27T21:22:13.546426Z",
     "shell.execute_reply": "2022-10-27T21:22:13.545962Z"
    }
   },
   "outputs": [
    {
     "data": {
      "text/plain": [
       "9990"
      ]
     },
     "execution_count": 6,
     "metadata": {},
     "output_type": "execute_result"
    }
   ],
   "source": [
    "# load and count number of rows\n",
    "len(ddf)"
   ]
  },
  {
   "cell_type": "markdown",
   "metadata": {},
   "source": [
    "You can view the start and end of the data as you would in pandas:"
   ]
  },
  {
   "cell_type": "code",
   "execution_count": 7,
   "metadata": {
    "execution": {
     "iopub.execute_input": "2022-10-27T21:22:13.548608Z",
     "iopub.status.busy": "2022-10-27T21:22:13.548452Z",
     "iopub.status.idle": "2022-10-27T21:22:13.585769Z",
     "shell.execute_reply": "2022-10-27T21:22:13.585276Z"
    }
   },
   "outputs": [
    {
     "data": {
      "text/html": [
       "<div>\n",
       "<style scoped>\n",
       "    .dataframe tbody tr th:only-of-type {\n",
       "        vertical-align: middle;\n",
       "    }\n",
       "\n",
       "    .dataframe tbody tr th {\n",
       "        vertical-align: top;\n",
       "    }\n",
       "\n",
       "    .dataframe thead th {\n",
       "        text-align: right;\n",
       "    }\n",
       "</style>\n",
       "<table border=\"1\" class=\"dataframe\">\n",
       "  <thead>\n",
       "    <tr style=\"text-align: right;\">\n",
       "      <th></th>\n",
       "      <th>Date</th>\n",
       "      <th>DayOfWeek</th>\n",
       "      <th>DepTime</th>\n",
       "      <th>CRSDepTime</th>\n",
       "      <th>ArrTime</th>\n",
       "      <th>CRSArrTime</th>\n",
       "      <th>UniqueCarrier</th>\n",
       "      <th>FlightNum</th>\n",
       "      <th>TailNum</th>\n",
       "      <th>ActualElapsedTime</th>\n",
       "      <th>...</th>\n",
       "      <th>AirTime</th>\n",
       "      <th>ArrDelay</th>\n",
       "      <th>DepDelay</th>\n",
       "      <th>Origin</th>\n",
       "      <th>Dest</th>\n",
       "      <th>Distance</th>\n",
       "      <th>TaxiIn</th>\n",
       "      <th>TaxiOut</th>\n",
       "      <th>Cancelled</th>\n",
       "      <th>Diverted</th>\n",
       "    </tr>\n",
       "  </thead>\n",
       "  <tbody>\n",
       "    <tr>\n",
       "      <th>0</th>\n",
       "      <td>1990-01-01</td>\n",
       "      <td>1</td>\n",
       "      <td>1621.0</td>\n",
       "      <td>1540</td>\n",
       "      <td>1747.0</td>\n",
       "      <td>1701</td>\n",
       "      <td>US</td>\n",
       "      <td>33</td>\n",
       "      <td>NaN</td>\n",
       "      <td>86.0</td>\n",
       "      <td>...</td>\n",
       "      <td>NaN</td>\n",
       "      <td>46.0</td>\n",
       "      <td>41.0</td>\n",
       "      <td>EWR</td>\n",
       "      <td>PIT</td>\n",
       "      <td>319.0</td>\n",
       "      <td>NaN</td>\n",
       "      <td>NaN</td>\n",
       "      <td>0</td>\n",
       "      <td>0</td>\n",
       "    </tr>\n",
       "    <tr>\n",
       "      <th>1</th>\n",
       "      <td>1990-01-02</td>\n",
       "      <td>2</td>\n",
       "      <td>1547.0</td>\n",
       "      <td>1540</td>\n",
       "      <td>1700.0</td>\n",
       "      <td>1701</td>\n",
       "      <td>US</td>\n",
       "      <td>33</td>\n",
       "      <td>NaN</td>\n",
       "      <td>73.0</td>\n",
       "      <td>...</td>\n",
       "      <td>NaN</td>\n",
       "      <td>-1.0</td>\n",
       "      <td>7.0</td>\n",
       "      <td>EWR</td>\n",
       "      <td>PIT</td>\n",
       "      <td>319.0</td>\n",
       "      <td>NaN</td>\n",
       "      <td>NaN</td>\n",
       "      <td>0</td>\n",
       "      <td>0</td>\n",
       "    </tr>\n",
       "    <tr>\n",
       "      <th>2</th>\n",
       "      <td>1990-01-03</td>\n",
       "      <td>3</td>\n",
       "      <td>1546.0</td>\n",
       "      <td>1540</td>\n",
       "      <td>1710.0</td>\n",
       "      <td>1701</td>\n",
       "      <td>US</td>\n",
       "      <td>33</td>\n",
       "      <td>NaN</td>\n",
       "      <td>84.0</td>\n",
       "      <td>...</td>\n",
       "      <td>NaN</td>\n",
       "      <td>9.0</td>\n",
       "      <td>6.0</td>\n",
       "      <td>EWR</td>\n",
       "      <td>PIT</td>\n",
       "      <td>319.0</td>\n",
       "      <td>NaN</td>\n",
       "      <td>NaN</td>\n",
       "      <td>0</td>\n",
       "      <td>0</td>\n",
       "    </tr>\n",
       "    <tr>\n",
       "      <th>3</th>\n",
       "      <td>1990-01-04</td>\n",
       "      <td>4</td>\n",
       "      <td>1542.0</td>\n",
       "      <td>1540</td>\n",
       "      <td>1710.0</td>\n",
       "      <td>1701</td>\n",
       "      <td>US</td>\n",
       "      <td>33</td>\n",
       "      <td>NaN</td>\n",
       "      <td>88.0</td>\n",
       "      <td>...</td>\n",
       "      <td>NaN</td>\n",
       "      <td>9.0</td>\n",
       "      <td>2.0</td>\n",
       "      <td>EWR</td>\n",
       "      <td>PIT</td>\n",
       "      <td>319.0</td>\n",
       "      <td>NaN</td>\n",
       "      <td>NaN</td>\n",
       "      <td>0</td>\n",
       "      <td>0</td>\n",
       "    </tr>\n",
       "    <tr>\n",
       "      <th>4</th>\n",
       "      <td>1990-01-05</td>\n",
       "      <td>5</td>\n",
       "      <td>1549.0</td>\n",
       "      <td>1540</td>\n",
       "      <td>1706.0</td>\n",
       "      <td>1701</td>\n",
       "      <td>US</td>\n",
       "      <td>33</td>\n",
       "      <td>NaN</td>\n",
       "      <td>77.0</td>\n",
       "      <td>...</td>\n",
       "      <td>NaN</td>\n",
       "      <td>5.0</td>\n",
       "      <td>9.0</td>\n",
       "      <td>EWR</td>\n",
       "      <td>PIT</td>\n",
       "      <td>319.0</td>\n",
       "      <td>NaN</td>\n",
       "      <td>NaN</td>\n",
       "      <td>0</td>\n",
       "      <td>0</td>\n",
       "    </tr>\n",
       "  </tbody>\n",
       "</table>\n",
       "<p>5 rows × 21 columns</p>\n",
       "</div>"
      ],
      "text/plain": [
       "        Date  DayOfWeek  DepTime  CRSDepTime  ArrTime  CRSArrTime  \\\n",
       "0 1990-01-01          1   1621.0        1540   1747.0        1701   \n",
       "1 1990-01-02          2   1547.0        1540   1700.0        1701   \n",
       "2 1990-01-03          3   1546.0        1540   1710.0        1701   \n",
       "3 1990-01-04          4   1542.0        1540   1710.0        1701   \n",
       "4 1990-01-05          5   1549.0        1540   1706.0        1701   \n",
       "\n",
       "  UniqueCarrier  FlightNum  TailNum  ActualElapsedTime  ...  AirTime  \\\n",
       "0            US         33      NaN               86.0  ...      NaN   \n",
       "1            US         33      NaN               73.0  ...      NaN   \n",
       "2            US         33      NaN               84.0  ...      NaN   \n",
       "3            US         33      NaN               88.0  ...      NaN   \n",
       "4            US         33      NaN               77.0  ...      NaN   \n",
       "\n",
       "   ArrDelay  DepDelay  Origin Dest Distance  TaxiIn  TaxiOut  Cancelled  \\\n",
       "0      46.0      41.0     EWR  PIT    319.0     NaN      NaN          0   \n",
       "1      -1.0       7.0     EWR  PIT    319.0     NaN      NaN          0   \n",
       "2       9.0       6.0     EWR  PIT    319.0     NaN      NaN          0   \n",
       "3       9.0       2.0     EWR  PIT    319.0     NaN      NaN          0   \n",
       "4       5.0       9.0     EWR  PIT    319.0     NaN      NaN          0   \n",
       "\n",
       "   Diverted  \n",
       "0         0  \n",
       "1         0  \n",
       "2         0  \n",
       "3         0  \n",
       "4         0  \n",
       "\n",
       "[5 rows x 21 columns]"
      ]
     },
     "execution_count": 7,
     "metadata": {},
     "output_type": "execute_result"
    }
   ],
   "source": [
    "ddf.head()"
   ]
  },
  {
   "cell_type": "markdown",
   "metadata": {
    "tags": [
     "raises-exception"
    ]
   },
   "source": [
    "```python\n",
    "ddf.tail()\n",
    "\n",
    "# ValueError: Mismatched dtypes found in `pd.read_csv`/`pd.read_table`.\n",
    "\n",
    "# +----------------+---------+----------+\n",
    "# | Column         | Found   | Expected |\n",
    "# +----------------+---------+----------+\n",
    "# | CRSElapsedTime | float64 | int64    |\n",
    "# | TailNum        | object  | float64  |\n",
    "# +----------------+---------+----------+\n",
    "\n",
    "# The following columns also raised exceptions on conversion:\n",
    "\n",
    "# - TailNum\n",
    "#   ValueError(\"could not convert string to float: 'N54711'\")\n",
    "\n",
    "# Usually this is due to dask's dtype inference failing, and\n",
    "# *may* be fixed by specifying dtypes manually by adding:\n",
    "\n",
    "# dtype={'CRSElapsedTime': 'float64',\n",
    "#        'TailNum': 'object'}\n",
    "\n",
    "# to the call to `read_csv`/`read_table`.\n",
    "\n",
    "```"
   ]
  },
  {
   "cell_type": "markdown",
   "metadata": {},
   "source": [
    "Unlike `pandas.read_csv` which reads in the entire file before inferring datatypes, `dask.dataframe.read_csv` only reads in a sample from the beginning of the file (or first file if using a glob). These inferred datatypes are then enforced when reading all partitions.\n",
    "\n",
    "In this case, the datatypes inferred in the sample are incorrect. The first `n` rows have no value for `CRSElapsedTime` (which pandas infers as a `float`), and later on turn out to be strings (`object` dtype). Note that Dask gives an informative error message about the mismatch. When this happens you have a few options:\n",
    "\n",
    "- Specify dtypes directly using the `dtype` keyword. This is the recommended solution, as it's the least error prone (better to be explicit than implicit) and also the most performant.\n",
    "- Increase the size of the `sample` keyword (in bytes)\n",
    "- Use `assume_missing` to make `dask` assume that columns inferred to be `int` (which don't allow missing values) are actually `floats` (which do allow missing values). In our particular case this doesn't apply.\n",
    "\n",
    "In our case we'll use the first option and directly specify the `dtypes` of the offending columns. "
   ]
  },
  {
   "cell_type": "code",
   "execution_count": 8,
   "metadata": {
    "execution": {
     "iopub.execute_input": "2022-10-27T21:22:13.588439Z",
     "iopub.status.busy": "2022-10-27T21:22:13.588173Z",
     "iopub.status.idle": "2022-10-27T21:22:13.597057Z",
     "shell.execute_reply": "2022-10-27T21:22:13.596649Z"
    }
   },
   "outputs": [],
   "source": [
    "ddf = dd.read_csv(\n",
    "    os.path.join(\"data\", \"nycflights\", \"*.csv\"),\n",
    "    parse_dates={\"Date\": [0, 1, 2]},\n",
    "    dtype={\"TailNum\": str, \"CRSElapsedTime\": float, \"Cancelled\": bool},\n",
    ")"
   ]
  },
  {
   "cell_type": "code",
   "execution_count": 9,
   "metadata": {
    "execution": {
     "iopub.execute_input": "2022-10-27T21:22:13.599436Z",
     "iopub.status.busy": "2022-10-27T21:22:13.599184Z",
     "iopub.status.idle": "2022-10-27T21:22:13.637352Z",
     "shell.execute_reply": "2022-10-27T21:22:13.636872Z"
    }
   },
   "outputs": [
    {
     "data": {
      "text/html": [
       "<div>\n",
       "<style scoped>\n",
       "    .dataframe tbody tr th:only-of-type {\n",
       "        vertical-align: middle;\n",
       "    }\n",
       "\n",
       "    .dataframe tbody tr th {\n",
       "        vertical-align: top;\n",
       "    }\n",
       "\n",
       "    .dataframe thead th {\n",
       "        text-align: right;\n",
       "    }\n",
       "</style>\n",
       "<table border=\"1\" class=\"dataframe\">\n",
       "  <thead>\n",
       "    <tr style=\"text-align: right;\">\n",
       "      <th></th>\n",
       "      <th>Date</th>\n",
       "      <th>DayOfWeek</th>\n",
       "      <th>DepTime</th>\n",
       "      <th>CRSDepTime</th>\n",
       "      <th>ArrTime</th>\n",
       "      <th>CRSArrTime</th>\n",
       "      <th>UniqueCarrier</th>\n",
       "      <th>FlightNum</th>\n",
       "      <th>TailNum</th>\n",
       "      <th>ActualElapsedTime</th>\n",
       "      <th>...</th>\n",
       "      <th>AirTime</th>\n",
       "      <th>ArrDelay</th>\n",
       "      <th>DepDelay</th>\n",
       "      <th>Origin</th>\n",
       "      <th>Dest</th>\n",
       "      <th>Distance</th>\n",
       "      <th>TaxiIn</th>\n",
       "      <th>TaxiOut</th>\n",
       "      <th>Cancelled</th>\n",
       "      <th>Diverted</th>\n",
       "    </tr>\n",
       "  </thead>\n",
       "  <tbody>\n",
       "    <tr>\n",
       "      <th>994</th>\n",
       "      <td>1999-01-25</td>\n",
       "      <td>1</td>\n",
       "      <td>632.0</td>\n",
       "      <td>635</td>\n",
       "      <td>803.0</td>\n",
       "      <td>817</td>\n",
       "      <td>CO</td>\n",
       "      <td>437</td>\n",
       "      <td>N27213</td>\n",
       "      <td>91.0</td>\n",
       "      <td>...</td>\n",
       "      <td>68.0</td>\n",
       "      <td>-14.0</td>\n",
       "      <td>-3.0</td>\n",
       "      <td>EWR</td>\n",
       "      <td>RDU</td>\n",
       "      <td>416.0</td>\n",
       "      <td>4.0</td>\n",
       "      <td>19.0</td>\n",
       "      <td>False</td>\n",
       "      <td>0</td>\n",
       "    </tr>\n",
       "    <tr>\n",
       "      <th>995</th>\n",
       "      <td>1999-01-26</td>\n",
       "      <td>2</td>\n",
       "      <td>632.0</td>\n",
       "      <td>635</td>\n",
       "      <td>751.0</td>\n",
       "      <td>817</td>\n",
       "      <td>CO</td>\n",
       "      <td>437</td>\n",
       "      <td>N16217</td>\n",
       "      <td>79.0</td>\n",
       "      <td>...</td>\n",
       "      <td>62.0</td>\n",
       "      <td>-26.0</td>\n",
       "      <td>-3.0</td>\n",
       "      <td>EWR</td>\n",
       "      <td>RDU</td>\n",
       "      <td>416.0</td>\n",
       "      <td>3.0</td>\n",
       "      <td>14.0</td>\n",
       "      <td>False</td>\n",
       "      <td>0</td>\n",
       "    </tr>\n",
       "    <tr>\n",
       "      <th>996</th>\n",
       "      <td>1999-01-27</td>\n",
       "      <td>3</td>\n",
       "      <td>631.0</td>\n",
       "      <td>635</td>\n",
       "      <td>756.0</td>\n",
       "      <td>817</td>\n",
       "      <td>CO</td>\n",
       "      <td>437</td>\n",
       "      <td>N12216</td>\n",
       "      <td>85.0</td>\n",
       "      <td>...</td>\n",
       "      <td>66.0</td>\n",
       "      <td>-21.0</td>\n",
       "      <td>-4.0</td>\n",
       "      <td>EWR</td>\n",
       "      <td>RDU</td>\n",
       "      <td>416.0</td>\n",
       "      <td>4.0</td>\n",
       "      <td>15.0</td>\n",
       "      <td>False</td>\n",
       "      <td>0</td>\n",
       "    </tr>\n",
       "    <tr>\n",
       "      <th>997</th>\n",
       "      <td>1999-01-28</td>\n",
       "      <td>4</td>\n",
       "      <td>629.0</td>\n",
       "      <td>635</td>\n",
       "      <td>803.0</td>\n",
       "      <td>817</td>\n",
       "      <td>CO</td>\n",
       "      <td>437</td>\n",
       "      <td>N26210</td>\n",
       "      <td>94.0</td>\n",
       "      <td>...</td>\n",
       "      <td>69.0</td>\n",
       "      <td>-14.0</td>\n",
       "      <td>-6.0</td>\n",
       "      <td>EWR</td>\n",
       "      <td>RDU</td>\n",
       "      <td>416.0</td>\n",
       "      <td>5.0</td>\n",
       "      <td>20.0</td>\n",
       "      <td>False</td>\n",
       "      <td>0</td>\n",
       "    </tr>\n",
       "    <tr>\n",
       "      <th>998</th>\n",
       "      <td>1999-01-29</td>\n",
       "      <td>5</td>\n",
       "      <td>632.0</td>\n",
       "      <td>635</td>\n",
       "      <td>802.0</td>\n",
       "      <td>817</td>\n",
       "      <td>CO</td>\n",
       "      <td>437</td>\n",
       "      <td>N12225</td>\n",
       "      <td>90.0</td>\n",
       "      <td>...</td>\n",
       "      <td>67.0</td>\n",
       "      <td>-15.0</td>\n",
       "      <td>-3.0</td>\n",
       "      <td>EWR</td>\n",
       "      <td>RDU</td>\n",
       "      <td>416.0</td>\n",
       "      <td>5.0</td>\n",
       "      <td>18.0</td>\n",
       "      <td>False</td>\n",
       "      <td>0</td>\n",
       "    </tr>\n",
       "  </tbody>\n",
       "</table>\n",
       "<p>5 rows × 21 columns</p>\n",
       "</div>"
      ],
      "text/plain": [
       "          Date  DayOfWeek  DepTime  CRSDepTime  ArrTime  CRSArrTime  \\\n",
       "994 1999-01-25          1    632.0         635    803.0         817   \n",
       "995 1999-01-26          2    632.0         635    751.0         817   \n",
       "996 1999-01-27          3    631.0         635    756.0         817   \n",
       "997 1999-01-28          4    629.0         635    803.0         817   \n",
       "998 1999-01-29          5    632.0         635    802.0         817   \n",
       "\n",
       "    UniqueCarrier  FlightNum TailNum  ActualElapsedTime  ...  AirTime  \\\n",
       "994            CO        437  N27213               91.0  ...     68.0   \n",
       "995            CO        437  N16217               79.0  ...     62.0   \n",
       "996            CO        437  N12216               85.0  ...     66.0   \n",
       "997            CO        437  N26210               94.0  ...     69.0   \n",
       "998            CO        437  N12225               90.0  ...     67.0   \n",
       "\n",
       "     ArrDelay  DepDelay  Origin Dest Distance  TaxiIn  TaxiOut  Cancelled  \\\n",
       "994     -14.0      -3.0     EWR  RDU    416.0     4.0     19.0      False   \n",
       "995     -26.0      -3.0     EWR  RDU    416.0     3.0     14.0      False   \n",
       "996     -21.0      -4.0     EWR  RDU    416.0     4.0     15.0      False   \n",
       "997     -14.0      -6.0     EWR  RDU    416.0     5.0     20.0      False   \n",
       "998     -15.0      -3.0     EWR  RDU    416.0     5.0     18.0      False   \n",
       "\n",
       "     Diverted  \n",
       "994         0  \n",
       "995         0  \n",
       "996         0  \n",
       "997         0  \n",
       "998         0  \n",
       "\n",
       "[5 rows x 21 columns]"
      ]
     },
     "execution_count": 9,
     "metadata": {},
     "output_type": "execute_result"
    }
   ],
   "source": [
    "ddf.tail()  # now works"
   ]
  },
  {
   "cell_type": "markdown",
   "metadata": {},
   "source": [
    "### Reading from remote storage\n",
    "\n",
    "If you're thinking about distributed computing, your data is probably stored remotely on services (like Amazon's S3 or Google's cloud storage) and is in a friendlier format (like Parquet). Dask can read data in various formats directly from these remote locations **lazily** and **in parallel**.\n",
    "\n",
    "Here's how you can read the NYC taxi cab data from Amazon S3:\n",
    "\n",
    "```python\n",
    "ddf = dd.read_parquet(\n",
    "    \"s3://nyc-tlc/trip data/yellow_tripdata_2012-*.parquet\",\n",
    ")\n",
    "```\n",
    "\n",
    "You can also leverage Parquet-specific optimizations like column selection and metadata handling, learn more in [the Dask documentation on working with Parquet files](https://docs.dask.org/en/stable/dataframe-parquet.html)."
   ]
  },
  {
   "cell_type": "markdown",
   "metadata": {
    "tags": []
   },
   "source": [
    "## Computations with `dask.dataframe`\n",
    "\n",
    "Let's compute the maximum of the flight delay.\n",
    "\n",
    "With just pandas, we would loop over each file to find the individual maximums, then find the final maximum over all the individual maximums.\n",
    "\n",
    "```python\n",
    "import pandas as pd\n",
    "\n",
    "files = os.listdir(os.path.join('data', 'nycflights'))\n",
    "\n",
    "maxes = []\n",
    "\n",
    "for file in files:\n",
    "    df = pd.read_csv(os.path.join('data', 'nycflights', file))\n",
    "    maxes.append(df.DepDelay.max())\n",
    "    \n",
    "final_max = max(maxes)\n",
    "```\n",
    "\n",
    "`dask.dataframe` lets us write pandas-like code, that operates on larger-than-memory datasets in parallel."
   ]
  },
  {
   "cell_type": "code",
   "execution_count": 10,
   "metadata": {
    "execution": {
     "iopub.execute_input": "2022-10-27T21:22:13.639823Z",
     "iopub.status.busy": "2022-10-27T21:22:13.639498Z",
     "iopub.status.idle": "2022-10-27T21:22:13.702907Z",
     "shell.execute_reply": "2022-10-27T21:22:13.702360Z"
    }
   },
   "outputs": [
    {
     "name": "stdout",
     "output_type": "stream",
     "text": [
      "CPU times: user 16 ms, sys: 130 µs, total: 16.1 ms\n",
      "Wall time: 56.9 ms\n"
     ]
    },
    {
     "data": {
      "text/plain": [
       "409.0"
      ]
     },
     "execution_count": 10,
     "metadata": {},
     "output_type": "execute_result"
    }
   ],
   "source": [
    "%%time\n",
    "result = ddf.DepDelay.max()\n",
    "result.compute()"
   ]
  },
  {
   "cell_type": "markdown",
   "metadata": {},
   "source": [
    "This creates the lazy computation for us and then runs it.  "
   ]
  },
  {
   "cell_type": "markdown",
   "metadata": {},
   "source": [
    "**Note:** Dask will delete intermediate results (like the full pandas DataFrame for each file) as soon as possible. This means you can handle datasets that are larger than memory but, repeated computations will have to load all of the data in each time. (Run the code above again, is it faster or slower than you would expect?)"
   ]
  },
  {
   "cell_type": "markdown",
   "metadata": {},
   "source": [
    "You can view the underlying task graph using `.visualize()`:"
   ]
  },
  {
   "cell_type": "code",
   "execution_count": 11,
   "metadata": {
    "execution": {
     "iopub.execute_input": "2022-10-27T21:22:13.705404Z",
     "iopub.status.busy": "2022-10-27T21:22:13.705244Z",
     "iopub.status.idle": "2022-10-27T21:22:13.904323Z",
     "shell.execute_reply": "2022-10-27T21:22:13.903583Z"
    }
   },
   "outputs": [
    {
     "data": {
      "image/png": "[encoded data removed]",
      "text/plain": [
       "<IPython.core.display.Image object>"
      ]
     },
     "execution_count": 11,
     "metadata": {},
     "output_type": "execute_result"
    }
   ],
   "source": [
    "# notice the parallelism\n",
    "result.visualize()"
   ]
  },
  {
   "cell_type": "markdown",
   "metadata": {},
   "source": [
    "## Exercises\n",
    "\n",
    "In this section you will do a few `dask.dataframe` computations. If you are comfortable with pandas then these should be familiar. You will have to think about when to call `.compute()`."
   ]
  },
  {
   "cell_type": "markdown",
   "metadata": {},
   "source": [
    "### 1. How many rows are in our dataset?\n",
    "\n",
    "_Hint_: how would you check how many items are in a list?"
   ]
  },
  {
   "cell_type": "code",
   "execution_count": 12,
   "metadata": {
    "execution": {
     "iopub.execute_input": "2022-10-27T21:22:13.906593Z",
     "iopub.status.busy": "2022-10-27T21:22:13.906431Z",
     "iopub.status.idle": "2022-10-27T21:22:13.909687Z",
     "shell.execute_reply": "2022-10-27T21:22:13.909242Z"
    }
   },
   "outputs": [],
   "source": [
    "# Your code here"
   ]
  },
  {
   "cell_type": "code",
   "execution_count": 13,
   "metadata": {
    "execution": {
     "iopub.execute_input": "2022-10-27T21:22:13.911687Z",
     "iopub.status.busy": "2022-10-27T21:22:13.911516Z",
     "iopub.status.idle": "2022-10-27T21:22:13.979830Z",
     "shell.execute_reply": "2022-10-27T21:22:13.979347Z"
    },
    "jupyter": {
     "source_hidden": true
    },
    "tags": []
   },
   "outputs": [
    {
     "data": {
      "text/plain": [
       "9990"
      ]
     },
     "execution_count": 13,
     "metadata": {},
     "output_type": "execute_result"
    }
   ],
   "source": [
    "len(ddf)"
   ]
  },
  {
   "cell_type": "markdown",
   "metadata": {},
   "source": [
    "### 2. In total, how many non-canceled flights were taken?\n",
    "\n",
    "_Hint_: use [boolean indexing](https://pandas.pydata.org/pandas-docs/stable/indexing.html#boolean-indexing)."
   ]
  },
  {
   "cell_type": "code",
   "execution_count": 14,
   "metadata": {
    "execution": {
     "iopub.execute_input": "2022-10-27T21:22:13.982158Z",
     "iopub.status.busy": "2022-10-27T21:22:13.981997Z",
     "iopub.status.idle": "2022-10-27T21:22:13.984401Z",
     "shell.execute_reply": "2022-10-27T21:22:13.983924Z"
    }
   },
   "outputs": [],
   "source": [
    "# Your code here"
   ]
  },
  {
   "cell_type": "code",
   "execution_count": 15,
   "metadata": {
    "execution": {
     "iopub.execute_input": "2022-10-27T21:22:13.986404Z",
     "iopub.status.busy": "2022-10-27T21:22:13.986257Z",
     "iopub.status.idle": "2022-10-27T21:22:14.045075Z",
     "shell.execute_reply": "2022-10-27T21:22:14.044387Z"
    },
    "jupyter": {
     "source_hidden": true
    },
    "tags": []
   },
   "outputs": [
    {
     "data": {
      "text/plain": [
       "9383"
      ]
     },
     "execution_count": 15,
     "metadata": {},
     "output_type": "execute_result"
    }
   ],
   "source": [
    "len(ddf[~ddf.Cancelled])"
   ]
  },
  {
   "cell_type": "markdown",
   "metadata": {},
   "source": [
    "### 3. In total, how many non-canceled flights were taken from each airport?\n",
    "\n",
    "*Hint*: use [groupby](https://pandas.pydata.org/pandas-docs/stable/groupby.html)."
   ]
  },
  {
   "cell_type": "code",
   "execution_count": 16,
   "metadata": {
    "execution": {
     "iopub.execute_input": "2022-10-27T21:22:14.047198Z",
     "iopub.status.busy": "2022-10-27T21:22:14.047042Z",
     "iopub.status.idle": "2022-10-27T21:22:14.049919Z",
     "shell.execute_reply": "2022-10-27T21:22:14.049542Z"
    }
   },
   "outputs": [],
   "source": [
    "# Your code here"
   ]
  },
  {
   "cell_type": "code",
   "execution_count": 17,
   "metadata": {
    "execution": {
     "iopub.execute_input": "2022-10-27T21:22:14.052063Z",
     "iopub.status.busy": "2022-10-27T21:22:14.051697Z",
     "iopub.status.idle": "2022-10-27T21:22:14.143729Z",
     "shell.execute_reply": "2022-10-27T21:22:14.143233Z"
    },
    "jupyter": {
     "source_hidden": true
    },
    "tags": []
   },
   "outputs": [
    {
     "data": {
      "text/plain": [
       "Origin\n",
       "EWR    4132\n",
       "JFK    1085\n",
       "LGA    4166\n",
       "Name: Origin, dtype: int64"
      ]
     },
     "execution_count": 17,
     "metadata": {},
     "output_type": "execute_result"
    }
   ],
   "source": [
    "ddf[~ddf.Cancelled].groupby(\"Origin\").Origin.count().compute()"
   ]
  },
  {
   "cell_type": "markdown",
   "metadata": {},
   "source": [
    "### 4. What was the average departure delay from each airport?"
   ]
  },
  {
   "cell_type": "code",
   "execution_count": 18,
   "metadata": {
    "execution": {
     "iopub.execute_input": "2022-10-27T21:22:14.146583Z",
     "iopub.status.busy": "2022-10-27T21:22:14.146178Z",
     "iopub.status.idle": "2022-10-27T21:22:14.149266Z",
     "shell.execute_reply": "2022-10-27T21:22:14.148850Z"
    }
   },
   "outputs": [],
   "source": [
    "# Your code here"
   ]
  },
  {
   "cell_type": "code",
   "execution_count": 19,
   "metadata": {
    "execution": {
     "iopub.execute_input": "2022-10-27T21:22:14.151268Z",
     "iopub.status.busy": "2022-10-27T21:22:14.151110Z",
     "iopub.status.idle": "2022-10-27T21:22:14.322674Z",
     "shell.execute_reply": "2022-10-27T21:22:14.322171Z"
    },
    "jupyter": {
     "source_hidden": true
    },
    "tags": []
   },
   "outputs": [
    {
     "data": {
      "text/plain": [
       "Origin\n",
       "EWR    12.500968\n",
       "JFK    17.053456\n",
       "LGA    10.169227\n",
       "Name: DepDelay, dtype: float64"
      ]
     },
     "execution_count": 19,
     "metadata": {},
     "output_type": "execute_result"
    }
   ],
   "source": [
    "ddf.groupby(\"Origin\").DepDelay.mean().compute()"
   ]
  },
  {
   "cell_type": "markdown",
   "metadata": {},
   "source": [
    "### 5. What day of the week has the worst average departure delay?"
   ]
  },
  {
   "cell_type": "code",
   "execution_count": 20,
   "metadata": {
    "execution": {
     "iopub.execute_input": "2022-10-27T21:22:14.324940Z",
     "iopub.status.busy": "2022-10-27T21:22:14.324777Z",
     "iopub.status.idle": "2022-10-27T21:22:14.327654Z",
     "shell.execute_reply": "2022-10-27T21:22:14.327268Z"
    }
   },
   "outputs": [],
   "source": [
    "# Your code here"
   ]
  },
  {
   "cell_type": "code",
   "execution_count": 21,
   "metadata": {
    "execution": {
     "iopub.execute_input": "2022-10-27T21:22:14.329529Z",
     "iopub.status.busy": "2022-10-27T21:22:14.329383Z",
     "iopub.status.idle": "2022-10-27T21:22:14.524952Z",
     "shell.execute_reply": "2022-10-27T21:22:14.524364Z"
    },
    "jupyter": {
     "source_hidden": true
    },
    "tags": []
   },
   "outputs": [
    {
     "data": {
      "text/plain": [
       "5"
      ]
     },
     "execution_count": 21,
     "metadata": {},
     "output_type": "execute_result"
    }
   ],
   "source": [
    "ddf.groupby(\"DayOfWeek\").DepDelay.mean().idxmax().compute()"
   ]
  },
  {
   "cell_type": "markdown",
   "metadata": {},
   "source": [
    "### 6. Let's say the distance column is erroneous and you need to add 1 to all values, how would you do this?"
   ]
  },
  {
   "cell_type": "code",
   "execution_count": 22,
   "metadata": {
    "execution": {
     "iopub.execute_input": "2022-10-27T21:22:14.528114Z",
     "iopub.status.busy": "2022-10-27T21:22:14.527637Z",
     "iopub.status.idle": "2022-10-27T21:22:14.531258Z",
     "shell.execute_reply": "2022-10-27T21:22:14.530593Z"
    }
   },
   "outputs": [],
   "source": [
    "# Your code here"
   ]
  },
  {
   "cell_type": "code",
   "execution_count": 23,
   "metadata": {
    "execution": {
     "iopub.execute_input": "2022-10-27T21:22:14.533723Z",
     "iopub.status.busy": "2022-10-27T21:22:14.533484Z",
     "iopub.status.idle": "2022-10-27T21:22:14.681593Z",
     "shell.execute_reply": "2022-10-27T21:22:14.681085Z"
    },
    "jupyter": {
     "source_hidden": true
    },
    "tags": []
   },
   "outputs": [
    {
     "name": "stderr",
     "output_type": "stream",
     "text": [
      "/usr/share/miniconda3/envs/dask-tutorial/lib/python3.9/site-packages/dask/dataframe/core.py:3974: UserWarning: \n",
      "You did not provide metadata, so Dask is running your function on a small dataset to guess output types. It is possible that Dask will guess incorrectly.\n",
      "To provide an explicit output types or to silence this message, please provide the `meta=` keyword, as described in the map or apply function that you are using.\n",
      "  Before: .apply(func)\n",
      "  After:  .apply(func, meta=('Distance', 'float64'))\n",
      "\n",
      "  warnings.warn(meta_warning(meta))\n"
     ]
    },
    {
     "data": {
      "text/plain": [
       "0      320.0\n",
       "1      320.0\n",
       "2      320.0\n",
       "3      320.0\n",
       "4      320.0\n",
       "       ...  \n",
       "994    417.0\n",
       "995    417.0\n",
       "996    417.0\n",
       "997    417.0\n",
       "998    417.0\n",
       "Name: Distance, Length: 9990, dtype: float64"
      ]
     },
     "execution_count": 23,
     "metadata": {},
     "output_type": "execute_result"
    }
   ],
   "source": [
    "ddf[\"Distance\"].apply(\n",
    "    lambda x: x + 1\n",
    ").compute()  # don't worry about the warning, we'll discuss in the next sections\n",
    "\n",
    "# OR\n",
    "\n",
    "(ddf[\"Distance\"] + 1).compute()"
   ]
  },
  {
   "cell_type": "markdown",
   "metadata": {},
   "source": [
    "## Sharing Intermediate Results\n",
    "\n",
    "When computing all of the above, we sometimes did the same operation more than once. For most operations, `dask.dataframe` stores the arguments, allowing duplicate computations to be shared and only computed once.\n",
    "\n",
    "For example, let's compute the mean and standard deviation for departure delay of all non-canceled flights. Since Dask operations are lazy, those values aren't the final results yet. They're just the steps required to get the result.\n",
    "\n",
    "If you compute them with two calls to compute, there is no sharing of intermediate computations."
   ]
  },
  {
   "cell_type": "code",
   "execution_count": 24,
   "metadata": {
    "execution": {
     "iopub.execute_input": "2022-10-27T21:22:14.685156Z",
     "iopub.status.busy": "2022-10-27T21:22:14.684128Z",
     "iopub.status.idle": "2022-10-27T21:22:14.694247Z",
     "shell.execute_reply": "2022-10-27T21:22:14.693785Z"
    }
   },
   "outputs": [],
   "source": [
    "non_canceled = ddf[~ddf.Cancelled]\n",
    "mean_delay = non_canceled.DepDelay.mean()\n",
    "std_delay = non_canceled.DepDelay.std()"
   ]
  },
  {
   "cell_type": "code",
   "execution_count": 25,
   "metadata": {
    "execution": {
     "iopub.execute_input": "2022-10-27T21:22:14.696468Z",
     "iopub.status.busy": "2022-10-27T21:22:14.696083Z",
     "iopub.status.idle": "2022-10-27T21:22:14.867321Z",
     "shell.execute_reply": "2022-10-27T21:22:14.866740Z"
    },
    "tags": []
   },
   "outputs": [
    {
     "name": "stdout",
     "output_type": "stream",
     "text": [
      "CPU times: user 48.5 ms, sys: 4.95 ms, total: 53.5 ms\n",
      "Wall time: 168 ms\n"
     ]
    }
   ],
   "source": [
    "%%time\n",
    "\n",
    "mean_delay_res = mean_delay.compute()\n",
    "std_delay_res = std_delay.compute()"
   ]
  },
  {
   "cell_type": "markdown",
   "metadata": {},
   "source": [
    "### `dask.compute`"
   ]
  },
  {
   "cell_type": "markdown",
   "metadata": {},
   "source": [
    "But let's try by passing both to a single `compute` call."
   ]
  },
  {
   "cell_type": "code",
   "execution_count": 26,
   "metadata": {
    "execution": {
     "iopub.execute_input": "2022-10-27T21:22:14.869618Z",
     "iopub.status.busy": "2022-10-27T21:22:14.869450Z",
     "iopub.status.idle": "2022-10-27T21:22:14.972302Z",
     "shell.execute_reply": "2022-10-27T21:22:14.971414Z"
    },
    "tags": []
   },
   "outputs": [
    {
     "name": "stdout",
     "output_type": "stream",
     "text": [
      "CPU times: user 35.4 ms, sys: 506 µs, total: 35.9 ms\n",
      "Wall time: 97.2 ms\n"
     ]
    }
   ],
   "source": [
    "%%time\n",
    "\n",
    "mean_delay_res, std_delay_res = dask.compute(mean_delay, std_delay)"
   ]
  },
  {
   "cell_type": "markdown",
   "metadata": {},
   "source": [
    "Using `dask.compute` takes roughly 1/2 the time. This is because the task graphs for both results are merged when calling `dask.compute`, allowing shared operations to only be done once instead of twice. In particular, using `dask.compute` only does the following once:\n",
    "\n",
    "- the calls to `read_csv`\n",
    "- the filter (`df[~df.Cancelled]`)\n",
    "- some of the necessary reductions (`sum`, `count`)"
   ]
  },
  {
   "cell_type": "markdown",
   "metadata": {},
   "source": [
    "To see what the merged task graphs between multiple results look like (and what's shared), you can use the `dask.visualize` function (you might want to use `filename='graph.pdf'` to save the graph to disk so that you can zoom in more easily):"
   ]
  },
  {
   "cell_type": "code",
   "execution_count": 27,
   "metadata": {
    "execution": {
     "iopub.execute_input": "2022-10-27T21:22:14.974873Z",
     "iopub.status.busy": "2022-10-27T21:22:14.974703Z",
     "iopub.status.idle": "2022-10-27T21:22:15.589643Z",
     "shell.execute_reply": "2022-10-27T21:22:15.588594Z"
    }
   },
   "outputs": [
    {
     "data": {
      "application/vnd.jupyter.widget-view+json": {
       "model_id": "ec7528fd36bb4b018328037d0d2207f1",
       "version_major": 2,
       "version_minor": 0
      },
      "text/plain": [
       "CytoscapeWidget(cytoscape_layout={'name': 'dagre', 'rankDir': 'BT', 'nodeSep': 10, 'edgeSep': 10, 'spacingFact…"
      ]
     },
     "execution_count": 27,
     "metadata": {},
     "output_type": "execute_result"
    }
   ],
   "source": [
    "dask.visualize(mean_delay, std_delay, engine=\"cytoscape\")"
   ]
  },
  {
   "cell_type": "markdown",
   "metadata": {
    "tags": []
   },
   "source": [
    "### `.persist()`\n",
    "\n",
    "While using a distributed scheduler (you will learn more about schedulers in the upcoming notebooks), you can keep some _data that you want to use often_ in the _distributed memory_. \n",
    "\n",
    "`persist` generates \"Futures\" (more on this later as well) and stores them in the same structure as your output. You can use `persist` with any data or computation that fits in memory."
   ]
  },
  {
   "cell_type": "markdown",
   "metadata": {},
   "source": [
    "If you want to analyze data only for non-canceled flights departing from JFK airport, you can either have two compute calls like in the previous section:"
   ]
  },
  {
   "cell_type": "code",
   "execution_count": 28,
   "metadata": {
    "execution": {
     "iopub.execute_input": "2022-10-27T21:22:15.844820Z",
     "iopub.status.busy": "2022-10-27T21:22:15.844319Z",
     "iopub.status.idle": "2022-10-27T21:22:15.848691Z",
     "shell.execute_reply": "2022-10-27T21:22:15.848208Z"
    }
   },
   "outputs": [],
   "source": [
    "non_cancelled = ddf[~ddf.Cancelled]\n",
    "ddf_jfk = non_cancelled[non_cancelled.Origin == \"JFK\"]"
   ]
  },
  {
   "cell_type": "code",
   "execution_count": 29,
   "metadata": {
    "execution": {
     "iopub.execute_input": "2022-10-27T21:22:15.850734Z",
     "iopub.status.busy": "2022-10-27T21:22:15.850380Z",
     "iopub.status.idle": "2022-10-27T21:22:16.026252Z",
     "shell.execute_reply": "2022-10-27T21:22:16.025771Z"
    }
   },
   "outputs": [
    {
     "name": "stdout",
     "output_type": "stream",
     "text": [
      "CPU times: user 47.9 ms, sys: 1.94 ms, total: 49.8 ms\n",
      "Wall time: 170 ms\n"
     ]
    },
    {
     "data": {
      "text/plain": [
       "18503.0"
      ]
     },
     "execution_count": 29,
     "metadata": {},
     "output_type": "execute_result"
    }
   ],
   "source": [
    "%%time\n",
    "ddf_jfk.DepDelay.mean().compute()\n",
    "ddf_jfk.DepDelay.sum().compute()"
   ]
  },
  {
   "cell_type": "markdown",
   "metadata": {},
   "source": [
    "Or, consider persisting that subset of data in memory.\n",
    "\n",
    "See the \"Graph\" dashboard plot, the red squares indicate persisted data stored as Futures in memory. You will also notice an increase in Worker Memory (another dashboard plot) consumption."
   ]
  },
  {
   "cell_type": "code",
   "execution_count": 30,
   "metadata": {
    "execution": {
     "iopub.execute_input": "2022-10-27T21:22:16.028858Z",
     "iopub.status.busy": "2022-10-27T21:22:16.028601Z",
     "iopub.status.idle": "2022-10-27T21:22:16.047856Z",
     "shell.execute_reply": "2022-10-27T21:22:16.042019Z"
    }
   },
   "outputs": [],
   "source": [
    "ddf_jfk = ddf_jfk.persist()  # returns back control immediately"
   ]
  },
  {
   "cell_type": "code",
   "execution_count": 31,
   "metadata": {
    "execution": {
     "iopub.execute_input": "2022-10-27T21:22:16.050567Z",
     "iopub.status.busy": "2022-10-27T21:22:16.050387Z",
     "iopub.status.idle": "2022-10-27T21:22:16.184644Z",
     "shell.execute_reply": "2022-10-27T21:22:16.184031Z"
    }
   },
   "outputs": [
    {
     "name": "stdout",
     "output_type": "stream",
     "text": [
      "CPU times: user 50.1 ms, sys: 3.66 ms, total: 53.7 ms\n",
      "Wall time: 129 ms\n"
     ]
    },
    {
     "data": {
      "text/plain": [
       "36.85799641792652"
      ]
     },
     "execution_count": 31,
     "metadata": {},
     "output_type": "execute_result"
    }
   ],
   "source": [
    "%%time\n",
    "ddf_jfk.DepDelay.mean().compute()\n",
    "ddf_jfk.DepDelay.std().compute()"
   ]
  },
  {
   "cell_type": "markdown",
   "metadata": {},
   "source": [
    "Analyses on this persisted data is faster because we are not repeating the loading and selecting (non-canceled, JFK departure) operations."
   ]
  },
  {
   "cell_type": "markdown",
   "metadata": {},
   "source": [
    "## Custom code with Dask DataFrame\n",
    "\n",
    "`dask.dataframe` only covers a small but well-used portion of the pandas API.\n",
    "\n",
    "This limitation is for two reasons:\n",
    "\n",
    "1.  The Pandas API is *huge*\n",
    "2.  Some operations are genuinely hard to do in parallel, e.g, sorting.\n",
    "\n",
    "Additionally, some important operations like `set_index` work, but are slower than in pandas because they include substantial shuffling of data, and may write out to disk.\n",
    "\n",
    "**What if you want to use some custom functions that aren't (or can't be) implemented for Dask DataFrame yet?**\n",
    "\n",
    "You can open an issue on the [Dask issue tracker](https://github.com/dask/dask/issues) to check how feasible the function could be to implement, and you can consider contributing this function to Dask.\n",
    "\n",
    "In case it's a custom function or tricky to implement, `dask.dataframe` provides a few methods to make applying custom functions to Dask DataFrames easier:\n",
    "\n",
    "- [`map_partitions`](https://docs.dask.org/en/latest/generated/dask.dataframe.DataFrame.map_partitions.html): to run a function on each partition (each pandas DataFrame) of the Dask DataFrame\n",
    "- [`map_overlap`](https://docs.dask.org/en/latest/generated/dask.dataframe.rolling.map_overlap.html): to run a function on each partition (each pandas DataFrame) of the Dask DataFrame, with some rows shared between neighboring partitions\n",
    "- [`reduction`](https://docs.dask.org/en/latest/generated/dask.dataframe.Series.reduction.html): for custom row-wise reduction operations."
   ]
  },
  {
   "cell_type": "markdown",
   "metadata": {},
   "source": [
    "Let's take a quick look at the `map_partitions()` function:"
   ]
  },
  {
   "cell_type": "code",
   "execution_count": 32,
   "metadata": {
    "execution": {
     "iopub.execute_input": "2022-10-27T21:22:16.187582Z",
     "iopub.status.busy": "2022-10-27T21:22:16.187360Z",
     "iopub.status.idle": "2022-10-27T21:22:16.191839Z",
     "shell.execute_reply": "2022-10-27T21:22:16.190930Z"
    },
    "tags": []
   },
   "outputs": [
    {
     "name": "stdout",
     "output_type": "stream",
     "text": [
      "Help on method map_partitions in module dask.dataframe.core:\n",
      "\n",
      "map_partitions(func, *args, **kwargs) method of dask.dataframe.core.DataFrame instance\n",
      "    Apply Python function on each DataFrame partition.\n",
      "    \n",
      "    Note that the index and divisions are assumed to remain unchanged.\n",
      "    \n",
      "    Parameters\n",
      "    ----------\n",
      "    func : function\n",
      "        The function applied to each partition. If this function accepts\n",
      "        the special ``partition_info`` keyword argument, it will receive\n",
      "        information on the partition's relative location within the\n",
      "        dataframe.\n",
      "    args, kwargs :\n",
      "        Positional and keyword arguments to pass to the function.\n",
      "        Positional arguments are computed on a per-partition basis, while\n",
      "        keyword arguments are shared across all partitions. The partition\n",
      "        itself will be the first positional argument, with all other\n",
      "        arguments passed *after*. Arguments can be ``Scalar``, ``Delayed``,\n",
      "        or regular Python objects. DataFrame-like args (both dask and\n",
      "        pandas) will be repartitioned to align (if necessary) before\n",
      "        applying the function; see ``align_dataframes`` to control this\n",
      "        behavior.\n",
      "    enforce_metadata : bool, default True\n",
      "        Whether to enforce at runtime that the structure of the DataFrame\n",
      "        produced by ``func`` actually matches the structure of ``meta``.\n",
      "        This will rename and reorder columns for each partition,\n",
      "        and will raise an error if this doesn't work or types don't match.\n",
      "    transform_divisions : bool, default True\n",
      "        Whether to apply the function onto the divisions and apply those\n",
      "        transformed divisions to the output.\n",
      "    align_dataframes : bool, default True\n",
      "        Whether to repartition DataFrame- or Series-like args\n",
      "        (both dask and pandas) so their divisions align before applying\n",
      "        the function. This requires all inputs to have known divisions.\n",
      "        Single-partition inputs will be split into multiple partitions.\n",
      "    \n",
      "        If False, all inputs must have either the same number of partitions\n",
      "        or a single partition. Single-partition inputs will be broadcast to\n",
      "        every partition of multi-partition inputs.\n",
      "    meta : pd.DataFrame, pd.Series, dict, iterable, tuple, optional\n",
      "        An empty ``pd.DataFrame`` or ``pd.Series`` that matches the dtypes\n",
      "        and column names of the output. This metadata is necessary for\n",
      "        many algorithms in dask dataframe to work.  For ease of use, some\n",
      "        alternative inputs are also available. Instead of a ``DataFrame``,\n",
      "        a ``dict`` of ``{name: dtype}`` or iterable of ``(name, dtype)``\n",
      "        can be provided (note that the order of the names should match the\n",
      "        order of the columns). Instead of a series, a tuple of ``(name,\n",
      "        dtype)`` can be used. If not provided, dask will try to infer the\n",
      "        metadata. This may lead to unexpected results, so providing\n",
      "        ``meta`` is recommended. For more information, see\n",
      "        ``dask.dataframe.utils.make_meta``.\n",
      "    \n",
      "    Examples\n",
      "    --------\n",
      "    Given a DataFrame, Series, or Index, such as:\n",
      "    \n",
      "    >>> import pandas as pd\n",
      "    >>> import dask.dataframe as dd\n",
      "    >>> df = pd.DataFrame({'x': [1, 2, 3, 4, 5],\n",
      "    ...                    'y': [1., 2., 3., 4., 5.]})\n",
      "    >>> ddf = dd.from_pandas(df, npartitions=2)\n",
      "    \n",
      "    One can use ``map_partitions`` to apply a function on each partition.\n",
      "    Extra arguments and keywords can optionally be provided, and will be\n",
      "    passed to the function after the partition.\n",
      "    \n",
      "    Here we apply a function with arguments and keywords to a DataFrame,\n",
      "    resulting in a Series:\n",
      "    \n",
      "    >>> def myadd(df, a, b=1):\n",
      "    ...     return df.x + df.y + a + b\n",
      "    >>> res = ddf.map_partitions(myadd, 1, b=2)\n",
      "    >>> res.dtype\n",
      "    dtype('float64')\n",
      "    \n",
      "    Here we apply a function to a Series resulting in a Series:\n",
      "    \n",
      "    >>> res = ddf.x.map_partitions(lambda x: len(x)) # ddf.x is a Dask Series Structure\n",
      "    >>> res.dtype\n",
      "    dtype('int64')\n",
      "    \n",
      "    By default, dask tries to infer the output metadata by running your\n",
      "    provided function on some fake data. This works well in many cases, but\n",
      "    can sometimes be expensive, or even fail. To avoid this, you can\n",
      "    manually specify the output metadata with the ``meta`` keyword. This\n",
      "    can be specified in many forms, for more information see\n",
      "    ``dask.dataframe.utils.make_meta``.\n",
      "    \n",
      "    Here we specify the output is a Series with no name, and dtype\n",
      "    ``float64``:\n",
      "    \n",
      "    >>> res = ddf.map_partitions(myadd, 1, b=2, meta=(None, 'f8'))\n",
      "    \n",
      "    Here we map a function that takes in a DataFrame, and returns a\n",
      "    DataFrame with a new column:\n",
      "    \n",
      "    >>> res = ddf.map_partitions(lambda df: df.assign(z=df.x * df.y))\n",
      "    >>> res.dtypes\n",
      "    x      int64\n",
      "    y    float64\n",
      "    z    float64\n",
      "    dtype: object\n",
      "    \n",
      "    As before, the output metadata can also be specified manually. This\n",
      "    time we pass in a ``dict``, as the output is a DataFrame:\n",
      "    \n",
      "    >>> res = ddf.map_partitions(lambda df: df.assign(z=df.x * df.y),\n",
      "    ...                          meta={'x': 'i8', 'y': 'f8', 'z': 'f8'})\n",
      "    \n",
      "    In the case where the metadata doesn't change, you can also pass in\n",
      "    the object itself directly:\n",
      "    \n",
      "    >>> res = ddf.map_partitions(lambda df: df.head(), meta=ddf)\n",
      "    \n",
      "    Also note that the index and divisions are assumed to remain unchanged.\n",
      "    If the function you're mapping changes the index/divisions, you'll need\n",
      "    to clear them afterwards:\n",
      "    \n",
      "    >>> ddf.map_partitions(func).clear_divisions()  # doctest: +SKIP\n",
      "    \n",
      "    Your map function gets information about where it is in the dataframe by\n",
      "    accepting a special ``partition_info`` keyword argument.\n",
      "    \n",
      "    >>> def func(partition, partition_info=None):\n",
      "    ...     pass\n",
      "    \n",
      "    This will receive the following information:\n",
      "    \n",
      "    >>> partition_info  # doctest: +SKIP\n",
      "    {'number': 1, 'division': 3}\n",
      "    \n",
      "    For each argument and keyword arguments that are dask dataframes you will\n",
      "    receive the number (n) which represents the nth partition of the dataframe\n",
      "    and the division (the first index value in the partition). If divisions\n",
      "    are not known (for instance if the index is not sorted) then you will get\n",
      "    None as the division.\n",
      "\n"
     ]
    }
   ],
   "source": [
    "help(ddf.map_partitions)"
   ]
  },
  {
   "cell_type": "markdown",
   "metadata": {},
   "source": [
    "The \"Distance\" column in `ddf` is currently in miles. Let's say we want to convert the units to kilometers and we have a general helper function as shown below. In this case, we can use `map_partitions` to apply this function across each of the internal pandas `DataFrame`s in parallel. "
   ]
  },
  {
   "cell_type": "code",
   "execution_count": 33,
   "metadata": {
    "execution": {
     "iopub.execute_input": "2022-10-27T21:22:16.193818Z",
     "iopub.status.busy": "2022-10-27T21:22:16.193658Z",
     "iopub.status.idle": "2022-10-27T21:22:16.197908Z",
     "shell.execute_reply": "2022-10-27T21:22:16.197478Z"
    }
   },
   "outputs": [],
   "source": [
    "def my_custom_converter(df, multiplier=1):\n",
    "    return df * multiplier\n",
    "\n",
    "\n",
    "meta = pd.Series(name=\"Distance\", dtype=\"float64\")\n",
    "\n",
    "distance_km = ddf.Distance.map_partitions(\n",
    "    my_custom_converter, multiplier=0.6, meta=meta\n",
    ")"
   ]
  },
  {
   "cell_type": "code",
   "execution_count": 34,
   "metadata": {
    "execution": {
     "iopub.execute_input": "2022-10-27T21:22:16.199761Z",
     "iopub.status.busy": "2022-10-27T21:22:16.199589Z",
     "iopub.status.idle": "2022-10-27T21:22:16.328758Z",
     "shell.execute_reply": "2022-10-27T21:22:16.328155Z"
    }
   },
   "outputs": [
    {
     "data": {
      "image/png": "[encoded data removed]",
      "text/plain": [
       "<IPython.core.display.Image object>"
      ]
     },
     "execution_count": 34,
     "metadata": {},
     "output_type": "execute_result"
    }
   ],
   "source": [
    "distance_km.visualize()"
   ]
  },
  {
   "cell_type": "code",
   "execution_count": 35,
   "metadata": {
    "execution": {
     "iopub.execute_input": "2022-10-27T21:22:16.331266Z",
     "iopub.status.busy": "2022-10-27T21:22:16.331103Z",
     "iopub.status.idle": "2022-10-27T21:22:16.360345Z",
     "shell.execute_reply": "2022-10-27T21:22:16.359888Z"
    }
   },
   "outputs": [
    {
     "data": {
      "text/plain": [
       "0    191.4\n",
       "1    191.4\n",
       "2    191.4\n",
       "3    191.4\n",
       "4    191.4\n",
       "Name: Distance, dtype: float64"
      ]
     },
     "execution_count": 35,
     "metadata": {},
     "output_type": "execute_result"
    }
   ],
   "source": [
    "distance_km.head()"
   ]
  },
  {
   "cell_type": "markdown",
   "metadata": {},
   "source": [
    "### What is `meta`?\n",
    "\n",
    "Since Dask operates lazily, it doesn't always have enough information to infer the output structure (which includes datatypes) of certain operations.\n",
    "\n",
    "`meta` is a _suggestion_ to Dask about the output of your computation. Importantly, `meta` _never infers with the output structure_. Dask uses this `meta` until it can determine the actual output structure.\n",
    "\n",
    "Even though there are many ways to define `meta`, we suggest using a small pandas Series or DataFrame that matches the structure of your final output."
   ]
  },
  {
   "cell_type": "markdown",
   "metadata": {
    "tags": []
   },
   "source": [
    "## Close you local Dask Cluster"
   ]
  },
  {
   "cell_type": "markdown",
   "metadata": {},
   "source": [
    "It's good practice to always close any Dask cluster you create:"
   ]
  },
  {
   "cell_type": "code",
   "execution_count": 36,
   "metadata": {
    "execution": {
     "iopub.execute_input": "2022-10-27T21:22:16.362582Z",
     "iopub.status.busy": "2022-10-27T21:22:16.362422Z",
     "iopub.status.idle": "2022-10-27T21:22:17.726158Z",
     "shell.execute_reply": "2022-10-27T21:22:17.725659Z"
    }
   },
   "outputs": [],
   "source": [
    "client.shutdown()"
   ]
  }
 ],
 "metadata": {
  "anaconda-cloud": {},
  "kernelspec": {
   "display_name": "Python 3 (ipykernel)",
   "language": "python",
   "name": "python3"
  },
  "language_info": {
   "codemirror_mode": {
    "name": "ipython",
    "version": 3
   },
   "file_extension": ".py",
   "mimetype": "text/x-python",
   "name": "python",
   "nbconvert_exporter": "python",
   "pygments_lexer": "ipython3",
   "version": "3.9.13"
  },
  "widgets": {
   "application/vnd.jupyter.widget-state+json": {
    "state": {
     "0093a90632ab4b9d8be3420c87d18fb2": {
      "model_module": "jupyter-cytoscape",
      "model_module_version": "^1.3.3",
      "model_name": "EdgeModel",
      "state": {
       "_model_module": "jupyter-cytoscape",
       "_model_module_version": "^1.3.3",
       "_model_name": "EdgeModel",
       "_view_count": null,
       "_view_module": "jupyter-cytoscape",
       "_view_module_version": "^1.3.3",
       "_view_name": "EdgeView",
       "classes": " directed ",
       "data": {
        "source": "-8063163206826232081",
        "target": "-6186390191412642330"
       },
       "pannable": true,
       "removed": false,
       "selectable": false,
       "selected": false
      }
     },
     "01866867f02f411ca3ecc0820947a8fd": {
      "model_module": "jupyter-cytoscape",
      "model_module_version": "^1.3.3",
      "model_name": "EdgeModel",
      "state": {
       "_model_module": "jupyter-cytoscape",
       "_model_module_version": "^1.3.3",
       "_model_name": "EdgeModel",
       "_view_count": null,
       "_view_module": "jupyter-cytoscape",
       "_view_module_version": "^1.3.3",
       "_view_name": "EdgeView",
       "classes": " directed ",
       "data": {
        "source": "2600400115267304963",
        "target": "-2514107851155667741"
       },
       "pannable": true,
       "removed": false,
       "selectable": false,
       "selected": false
      }
     },
     "0425a5e103ba41e5ae7633a4804d0bfc": {
      "model_module": "jupyter-cytoscape",
      "model_module_version": "^1.3.3",
      "model_name": "EdgeModel",
      "state": {
       "_model_module": "jupyter-cytoscape",
       "_model_module_version": "^1.3.3",
       "_model_name": "EdgeModel",
       "_view_count": null,
       "_view_module": "jupyter-cytoscape",
       "_view_module_version": "^1.3.3",
       "_view_name": "EdgeView",
       "classes": " directed ",
       "data": {
        "source": "-3257145253004264927",
        "target": "8487955645994671605"
       },
       "pannable": true,
       "removed": false,
       "selectable": false,
       "selected": false
      }
     },
     "05626c5171cf41a49cacbcb4e37603b9": {
      "model_module": "jupyter-cytoscape",
      "model_module_version": "^1.3.3",
      "model_name": "EdgeModel",
      "state": {
       "_model_module": "jupyter-cytoscape",
       "_model_module_version": "^1.3.3",
       "_model_name": "EdgeModel",
       "_view_count": null,
       "_view_module": "jupyter-cytoscape",
       "_view_module_version": "^1.3.3",
       "_view_name": "EdgeView",
       "classes": " directed ",
       "data": {
        "source": "7968414539350968169",
        "target": "8472731335556093449"
       },
       "pannable": true,
       "removed": false,
       "selectable": false,
       "selected": false
      }
     },
     "05abe04ae11f42ac9d3989728475b6f0": {
      "model_module": "jupyter-cytoscape",
      "model_module_version": "^1.3.3",
      "model_name": "NodeModel",
      "state": {
       "_model_module": "jupyter-cytoscape",
       "_model_module_version": "^1.3.3",
       "_model_name": "NodeModel",
       "_view_count": null,
       "_view_module": "jupyter-cytoscape",
       "_view_module_version": "^1.3.3",
       "_view_name": "NodeView",
       "classes": "",
       "data": {
        "color": "gray",
        "id": "4290351737340112656",
        "label": "3",
        "shape": "rectangle"
       },
       "grabbable": true,
       "grabbed": false,
       "locked": false,
       "pannable": false,
       "position": {},
       "removed": false,
       "selectable": false,
       "selected": false
      }
     },
     "05d03002c9d74e8f8df3e9cca96bbe43": {
      "model_module": "jupyter-cytoscape",
      "model_module_version": "^1.3.3",
      "model_name": "NodeModel",
      "state": {
       "_model_module": "jupyter-cytoscape",
       "_model_module_version": "^1.3.3",
       "_model_name": "NodeModel",
       "_view_count": null,
       "_view_module": "jupyter-cytoscape",
       "_view_module_version": "^1.3.3",
       "_view_name": "NodeView",
       "classes": "",
       "data": {
        "color": "gray",
        "id": "-285489964199686289",
        "label": "4",
        "shape": "rectangle"
       },
       "grabbable": true,
       "grabbed": false,
       "locked": false,
       "pannable": false,
       "position": {},
       "removed": false,
       "selectable": false,
       "selected": false
      }
     },
     "06c56478b3a14bf3971e16bc89171647": {
      "model_module": "jupyter-cytoscape",
      "model_module_version": "^1.3.3",
      "model_name": "EdgeModel",
      "state": {
       "_model_module": "jupyter-cytoscape",
       "_model_module_version": "^1.3.3",
       "_model_name": "EdgeModel",
       "_view_count": null,
       "_view_module": "jupyter-cytoscape",
       "_view_module_version": "^1.3.3",
       "_view_name": "EdgeView",
       "classes": " directed ",
       "data": {
        "source": "-5457376334100299777",
        "target": "-212378624325725102"
       },
       "pannable": true,
       "removed": false,
       "selectable": false,
       "selected": false
      }
     },
     "075567e842da4122accb7ed987435d34": {
      "model_module": "jupyter-cytoscape",
      "model_module_version": "^1.3.3",
      "model_name": "NodeModel",
      "state": {
       "_model_module": "jupyter-cytoscape",
       "_model_module_version": "^1.3.3",
       "_model_name": "NodeModel",
       "_view_count": null,
       "_view_module": "jupyter-cytoscape",
       "_view_module_version": "^1.3.3",
       "_view_name": "NodeView",
       "classes": "",
       "data": {
        "color": "gray",
        "id": "3983880301680360876",
        "label": "values",
        "shape": "ellipse"
       },
       "grabbable": true,
       "grabbed": false,
       "locked": false,
       "pannable": false,
       "position": {},
       "removed": false,
       "selectable": false,
       "selected": false
      }
     },
     "07c630ecef7f4f5bb475c14c111e0d83": {
      "model_module": "jupyter-cytoscape",
      "model_module_version": "^1.3.3",
      "model_name": "NodeModel",
      "state": {
       "_model_module": "jupyter-cytoscape",
       "_model_module_version": "^1.3.3",
       "_model_name": "NodeModel",
       "_view_count": null,
       "_view_module": "jupyter-cytoscape",
       "_view_module_version": "^1.3.3",
       "_view_name": "NodeView",
       "classes": "",
       "data": {
        "color": "gray",
        "id": "-8112934272688690543",
        "label": "9",
        "shape": "rectangle"
       },
       "grabbable": true,
       "grabbed": false,
       "locked": false,
       "pannable": false,
       "position": {},
       "removed": false,
       "selectable": false,
       "selected": false
      }
     },
     "07f073dc416a422998cfd635ac8d64cd": {
      "model_module": "jupyter-cytoscape",
      "model_module_version": "^1.3.3",
      "model_name": "EdgeModel",
      "state": {
       "_model_module": "jupyter-cytoscape",
       "_model_module_version": "^1.3.3",
       "_model_name": "EdgeModel",
       "_view_count": null,
       "_view_module": "jupyter-cytoscape",
       "_view_module_version": "^1.3.3",
       "_view_name": "EdgeView",
       "classes": " directed ",
       "data": {
        "source": "-2041842161555158051",
        "target": "-4192081812521864262"
       },
       "pannable": true,
       "removed": false,
       "selectable": false,
       "selected": false
      }
     },
     "08842433bc6d4bbcacf2f4ab25f36050": {
      "model_module": "jupyter-cytoscape",
      "model_module_version": "^1.3.3",
      "model_name": "EdgeModel",
      "state": {
       "_model_module": "jupyter-cytoscape",
       "_model_module_version": "^1.3.3",
       "_model_name": "EdgeModel",
       "_view_count": null,
       "_view_module": "jupyter-cytoscape",
       "_view_module_version": "^1.3.3",
       "_view_name": "EdgeView",
       "classes": " directed ",
       "data": {
        "source": "-4192081812521864262",
        "target": "987227504297511239"
       },
       "pannable": true,
       "removed": false,
       "selectable": false,
       "selected": false
      }
     },
     "0c01fe6c3bad4ead81d4759b6e746083": {
      "model_module": "jupyter-cytoscape",
      "model_module_version": "^1.3.3",
      "model_name": "NodeModel",
      "state": {
       "_model_module": "jupyter-cytoscape",
       "_model_module_version": "^1.3.3",
       "_model_name": "NodeModel",
       "_view_count": null,
       "_view_module": "jupyter-cytoscape",
       "_view_module_version": "^1.3.3",
       "_view_name": "NodeView",
       "classes": "",
       "data": {
        "color": "gray",
        "id": "-3806204897521849234",
        "label": "moment_chunk",
        "shape": "ellipse"
       },
       "grabbable": true,
       "grabbed": false,
       "locked": false,
       "pannable": false,
       "position": {},
       "removed": false,
       "selectable": false,
       "selected": false
      }
     },
     "0cac7a48207f446fb30e276849bba477": {
      "model_module": "jupyter-cytoscape",
      "model_module_version": "^1.3.3",
      "model_name": "EdgeModel",
      "state": {
       "_model_module": "jupyter-cytoscape",
       "_model_module_version": "^1.3.3",
       "_model_name": "EdgeModel",
       "_view_count": null,
       "_view_module": "jupyter-cytoscape",
       "_view_module_version": "^1.3.3",
       "_view_name": "EdgeView",
       "classes": " directed ",
       "data": {
        "source": "-1203643156123595488",
        "target": "1025031135062228737"
       },
       "pannable": true,
       "removed": false,
       "selectable": false,
       "selected": false
      }
     },
     "0cd26a00c9f54044875d4bd1a18ef9e3": {
      "model_module": "jupyter-cytoscape",
      "model_module_version": "^1.3.3",
      "model_name": "NodeModel",
      "state": {
       "_model_module": "jupyter-cytoscape",
       "_model_module_version": "^1.3.3",
       "_model_name": "NodeModel",
       "_view_count": null,
       "_view_module": "jupyter-cytoscape",
       "_view_module_version": "^1.3.3",
       "_view_name": "NodeView",
       "classes": "",
       "data": {
        "color": "gray",
        "id": "3121127808614348646",
        "label": "7",
        "shape": "rectangle"
       },
       "grabbable": true,
       "grabbed": false,
       "locked": false,
       "pannable": false,
       "position": {},
       "removed": false,
       "selectable": false,
       "selected": false
      }
     },
     "0ceadbb0282240bb968fab67609a62ea": {
      "model_module": "jupyter-cytoscape",
      "model_module_version": "^1.3.3",
      "model_name": "NodeModel",
      "state": {
       "_model_module": "jupyter-cytoscape",
       "_model_module_version": "^1.3.3",
       "_model_name": "NodeModel",
       "_view_count": null,
       "_view_module": "jupyter-cytoscape",
       "_view_module_version": "^1.3.3",
       "_view_name": "NodeView",
       "classes": "",
       "data": {
        "color": "gray",
        "id": "-6437635702692098474",
        "label": "inv",
        "shape": "ellipse"
       },
       "grabbable": true,
       "grabbed": false,
       "locked": false,
       "pannable": false,
       "position": {},
       "removed": false,
       "selectable": false,
       "selected": false
      }
     },
     "0d77cd45424b4eb48356c1c47391f4bd": {
      "model_module": "jupyter-cytoscape",
      "model_module_version": "^1.3.3",
      "model_name": "NodeModel",
      "state": {
       "_model_module": "jupyter-cytoscape",
       "_model_module_version": "^1.3.3",
       "_model_name": "NodeModel",
       "_view_count": null,
       "_view_module": "jupyter-cytoscape",
       "_view_module_version": "^1.3.3",
       "_view_name": "NodeView",
       "classes": "",
       "data": {
        "color": "gray",
        "id": "7968414539350968169",
        "label": "series-sum-chunk",
        "shape": "ellipse"
       },
       "grabbable": true,
       "grabbed": false,
       "locked": false,
       "pannable": false,
       "position": {},
       "removed": false,
       "selectable": false,
       "selected": false
      }
     },
     "0e651d2a60eb49dfa5f449466a0b2d54": {
      "model_module": "jupyter-cytoscape",
      "model_module_version": "^1.3.3",
      "model_name": "NodeModel",
      "state": {
       "_model_module": "jupyter-cytoscape",
       "_model_module_version": "^1.3.3",
       "_model_name": "NodeModel",
       "_view_count": null,
       "_view_module": "jupyter-cytoscape",
       "_view_module_version": "^1.3.3",
       "_view_name": "NodeView",
       "classes": "",
       "data": {
        "color": "gray",
        "id": "-2217289018761885769",
        "label": "2",
        "shape": "rectangle"
       },
       "grabbable": true,
       "grabbed": false,
       "locked": false,
       "pannable": false,
       "position": {},
       "removed": false,
       "selectable": false,
       "selected": false
      }
     },
     "0ee23512072248a58d3ce9e539b7220b": {
      "model_module": "jupyter-cytoscape",
      "model_module_version": "^1.3.3",
      "model_name": "NodeModel",
      "state": {
       "_model_module": "jupyter-cytoscape",
       "_model_module_version": "^1.3.3",
       "_model_name": "NodeModel",
       "_view_count": null,
       "_view_module": "jupyter-cytoscape",
       "_view_module_version": "^1.3.3",
       "_view_name": "NodeView",
       "classes": "",
       "data": {
        "color": "gray",
        "id": "-9126564372126850626",
        "label": "read-csv",
        "shape": "ellipse"
       },
       "grabbable": true,
       "grabbed": false,
       "locked": false,
       "pannable": false,
       "position": {},
       "removed": false,
       "selectable": false,
       "selected": false
      }
     },
     "0f8f20818f834e8e940e8fa2a034643d": {
      "model_module": "jupyter-cytoscape",
      "model_module_version": "^1.3.3",
      "model_name": "NodeModel",
      "state": {
       "_model_module": "jupyter-cytoscape",
       "_model_module_version": "^1.3.3",
       "_model_name": "NodeModel",
       "_view_count": null,
       "_view_module": "jupyter-cytoscape",
       "_view_module_version": "^1.3.3",
       "_view_name": "NodeView",
       "classes": "",
       "data": {
        "color": "gray",
        "id": "6873388918865369546",
        "label": "0",
        "shape": "rectangle"
       },
       "grabbable": true,
       "grabbed": false,
       "locked": false,
       "pannable": false,
       "position": {},
       "removed": false,
       "selectable": false,
       "selected": false
      }
     },
     "1021dbe2579848cfa1af9cb5f63f047c": {
      "model_module": "jupyter-cytoscape",
      "model_module_version": "^1.3.3",
      "model_name": "EdgeModel",
      "state": {
       "_model_module": "jupyter-cytoscape",
       "_model_module_version": "^1.3.3",
       "_model_name": "EdgeModel",
       "_view_count": null,
       "_view_module": "jupyter-cytoscape",
       "_view_module_version": "^1.3.3",
       "_view_name": "EdgeView",
       "classes": " directed ",
       "data": {
        "source": "5759753982462646515",
        "target": "-2293980137310216365"
       },
       "pannable": true,
       "removed": false,
       "selectable": false,
       "selected": false
      }
     },
     "10a683f7f94e490eb0f6c9f22a397014": {
      "model_module": "jupyter-cytoscape",
      "model_module_version": "^1.3.3",
      "model_name": "EdgeModel",
      "state": {
       "_model_module": "jupyter-cytoscape",
       "_model_module_version": "^1.3.3",
       "_model_name": "EdgeModel",
       "_view_count": null,
       "_view_module": "jupyter-cytoscape",
       "_view_module_version": "^1.3.3",
       "_view_name": "EdgeView",
       "classes": " directed ",
       "data": {
        "source": "-690986273681872040",
        "target": "2408604677709454514"
       },
       "pannable": true,
       "removed": false,
       "selectable": false,
       "selected": false
      }
     },
     "119b82345851402595061c92c88781a7": {
      "model_module": "jupyter-cytoscape",
      "model_module_version": "^1.3.3",
      "model_name": "EdgeModel",
      "state": {
       "_model_module": "jupyter-cytoscape",
       "_model_module_version": "^1.3.3",
       "_model_name": "EdgeModel",
       "_view_count": null,
       "_view_module": "jupyter-cytoscape",
       "_view_module_version": "^1.3.3",
       "_view_name": "EdgeView",
       "classes": " directed ",
       "data": {
        "source": "-4192081812521864262",
        "target": "-9003437424032724409"
       },
       "pannable": true,
       "removed": false,
       "selectable": false,
       "selected": false
      }
     },
     "130141e995b740b9b0110b3a749b3a8c": {
      "model_module": "jupyter-cytoscape",
      "model_module_version": "^1.3.3",
      "model_name": "EdgeModel",
      "state": {
       "_model_module": "jupyter-cytoscape",
       "_model_module_version": "^1.3.3",
       "_model_name": "EdgeModel",
       "_view_count": null,
       "_view_module": "jupyter-cytoscape",
       "_view_module_version": "^1.3.3",
       "_view_name": "EdgeView",
       "classes": " directed ",
       "data": {
        "source": "-5806648539651166321",
        "target": "2828193821718404924"
       },
       "pannable": true,
       "removed": false,
       "selectable": false,
       "selected": false
      }
     },
     "13823bf61efc493e9636524995ec73fa": {
      "model_module": "jupyter-cytoscape",
      "model_module_version": "^1.3.3",
      "model_name": "EdgeModel",
      "state": {
       "_model_module": "jupyter-cytoscape",
       "_model_module_version": "^1.3.3",
       "_model_name": "EdgeModel",
       "_view_count": null,
       "_view_module": "jupyter-cytoscape",
       "_view_module_version": "^1.3.3",
       "_view_name": "EdgeView",
       "classes": " directed ",
       "data": {
        "source": "221793521085773947",
        "target": "7922096088105115316"
       },
       "pannable": true,
       "removed": false,
       "selectable": false,
       "selected": false
      }
     },
     "13c09213b9e64039a1333aaff38facf8": {
      "model_module": "jupyter-cytoscape",
      "model_module_version": "^1.3.3",
      "model_name": "EdgeModel",
      "state": {
       "_model_module": "jupyter-cytoscape",
       "_model_module_version": "^1.3.3",
       "_model_name": "EdgeModel",
       "_view_count": null,
       "_view_module": "jupyter-cytoscape",
       "_view_module_version": "^1.3.3",
       "_view_name": "EdgeView",
       "classes": " directed ",
       "data": {
        "source": "1050264422001698648",
        "target": "-4846882869028547108"
       },
       "pannable": true,
       "removed": false,
       "selectable": false,
       "selected": false
      }
     },
     "140e600b2dc042b382eded78cbbf1f5d": {
      "model_module": "jupyter-cytoscape",
      "model_module_version": "^1.3.3",
      "model_name": "EdgeModel",
      "state": {
       "_model_module": "jupyter-cytoscape",
       "_model_module_version": "^1.3.3",
       "_model_name": "EdgeModel",
       "_view_count": null,
       "_view_module": "jupyter-cytoscape",
       "_view_module_version": "^1.3.3",
       "_view_name": "EdgeView",
       "classes": " directed ",
       "data": {
        "source": "8851591055926079582",
        "target": "-2673585678245233708"
       },
       "pannable": true,
       "removed": false,
       "selectable": false,
       "selected": false
      }
     },
     "149063b2cdf94a5386e6a260bbb171bb": {
      "model_module": "jupyter-cytoscape",
      "model_module_version": "^1.3.3",
      "model_name": "EdgeModel",
      "state": {
       "_model_module": "jupyter-cytoscape",
       "_model_module_version": "^1.3.3",
       "_model_name": "EdgeModel",
       "_view_count": null,
       "_view_module": "jupyter-cytoscape",
       "_view_module_version": "^1.3.3",
       "_view_name": "EdgeView",
       "classes": " directed ",
       "data": {
        "source": "2987232032263880444",
        "target": "2583679260728880901"
       },
       "pannable": true,
       "removed": false,
       "selectable": false,
       "selected": false
      }
     },
     "14b1fbf47b0d4ce898b55edddb5b81ef": {
      "model_module": "jupyter-cytoscape",
      "model_module_version": "^1.3.3",
      "model_name": "NodeModel",
      "state": {
       "_model_module": "jupyter-cytoscape",
       "_model_module_version": "^1.3.3",
       "_model_name": "NodeModel",
       "_view_count": null,
       "_view_module": "jupyter-cytoscape",
       "_view_module_version": "^1.3.3",
       "_view_name": "NodeView",
       "classes": "",
       "data": {
        "color": "gray",
        "id": "8618678697593916783",
        "label": "getitem",
        "shape": "ellipse"
       },
       "grabbable": true,
       "grabbed": false,
       "locked": false,
       "pannable": false,
       "position": {},
       "removed": false,
       "selectable": false,
       "selected": false
      }
     },
     "167ad101d03f459baec0a4d3880cce3c": {
      "model_module": "jupyter-cytoscape",
      "model_module_version": "^1.3.3",
      "model_name": "NodeModel",
      "state": {
       "_model_module": "jupyter-cytoscape",
       "_model_module_version": "^1.3.3",
       "_model_name": "NodeModel",
       "_view_count": null,
       "_view_module": "jupyter-cytoscape",
       "_view_module_version": "^1.3.3",
       "_view_name": "NodeView",
       "classes": "",
       "data": {
        "color": "gray",
        "id": "6164616902370390668",
        "label": "0",
        "shape": "rectangle"
       },
       "grabbable": true,
       "grabbed": false,
       "locked": false,
       "pannable": false,
       "position": {},
       "removed": false,
       "selectable": false,
       "selected": false
      }
     },
     "17b269293544482b9d4dc0875dbbad1d": {
      "model_module": "jupyter-cytoscape",
      "model_module_version": "^1.3.3",
      "model_name": "EdgeModel",
      "state": {
       "_model_module": "jupyter-cytoscape",
       "_model_module_version": "^1.3.3",
       "_model_name": "EdgeModel",
       "_view_count": null,
       "_view_module": "jupyter-cytoscape",
       "_view_module_version": "^1.3.3",
       "_view_name": "EdgeView",
       "classes": " directed ",
       "data": {
        "source": "3983880301680360876",
        "target": "2675785010210810597"
       },
       "pannable": true,
       "removed": false,
       "selectable": false,
       "selected": false
      }
     },
     "180d7112b6b848dbbaccbe389cc5e6d1": {
      "model_module": "jupyter-cytoscape",
      "model_module_version": "^1.3.3",
      "model_name": "EdgeModel",
      "state": {
       "_model_module": "jupyter-cytoscape",
       "_model_module_version": "^1.3.3",
       "_model_name": "EdgeModel",
       "_view_count": null,
       "_view_module": "jupyter-cytoscape",
       "_view_module_version": "^1.3.3",
       "_view_name": "EdgeView",
       "classes": " directed ",
       "data": {
        "source": "-2739035532788873563",
        "target": "3438360136047246067"
       },
       "pannable": true,
       "removed": false,
       "selectable": false,
       "selected": false
      }
     },
     "18379af7837746d19d45343690ea334a": {
      "model_module": "jupyter-cytoscape",
      "model_module_version": "^1.3.3",
      "model_name": "EdgeModel",
      "state": {
       "_model_module": "jupyter-cytoscape",
       "_model_module_version": "^1.3.3",
       "_model_name": "EdgeModel",
       "_view_count": null,
       "_view_module": "jupyter-cytoscape",
       "_view_module_version": "^1.3.3",
       "_view_name": "EdgeView",
       "classes": " directed ",
       "data": {
        "source": "4224671680595478776",
        "target": "-8817975508993204545"
       },
       "pannable": true,
       "removed": false,
       "selectable": false,
       "selected": false
      }
     },
     "1982d99f183d45ed816108250db8fc90": {
      "model_module": "jupyter-cytoscape",
      "model_module_version": "^1.3.3",
      "model_name": "NodeModel",
      "state": {
       "_model_module": "jupyter-cytoscape",
       "_model_module_version": "^1.3.3",
       "_model_name": "NodeModel",
       "_view_count": null,
       "_view_module": "jupyter-cytoscape",
       "_view_module_version": "^1.3.3",
       "_view_name": "NodeView",
       "classes": "",
       "data": {
        "color": "gray",
        "id": "-589535592067073322",
        "label": "1",
        "shape": "rectangle"
       },
       "grabbable": true,
       "grabbed": false,
       "locked": false,
       "pannable": false,
       "position": {},
       "removed": false,
       "selectable": false,
       "selected": false
      }
     },
     "1b2fc290bca0432c811d1483dc1ef9c6": {
      "model_module": "jupyter-cytoscape",
      "model_module_version": "^1.3.3",
      "model_name": "NodeModel",
      "state": {
       "_model_module": "jupyter-cytoscape",
       "_model_module_version": "^1.3.3",
       "_model_name": "NodeModel",
       "_view_count": null,
       "_view_module": "jupyter-cytoscape",
       "_view_module_version": "^1.3.3",
       "_view_name": "NodeView",
       "classes": "",
       "data": {
        "color": "gray",
        "id": "1965090579454095024",
        "label": "8",
        "shape": "rectangle"
       },
       "grabbable": true,
       "grabbed": false,
       "locked": false,
       "pannable": false,
       "position": {},
       "removed": false,
       "selectable": false,
       "selected": false
      }
     },
     "1b62019b22a2466c97546e6db4b09f83": {
      "model_module": "jupyter-cytoscape",
      "model_module_version": "^1.3.3",
      "model_name": "EdgeModel",
      "state": {
       "_model_module": "jupyter-cytoscape",
       "_model_module_version": "^1.3.3",
       "_model_name": "EdgeModel",
       "_view_count": null,
       "_view_module": "jupyter-cytoscape",
       "_view_module_version": "^1.3.3",
       "_view_name": "EdgeView",
       "classes": " directed ",
       "data": {
        "source": "-2217289018761885769",
        "target": "5627519691258614245"
       },
       "pannable": true,
       "removed": false,
       "selectable": false,
       "selected": false
      }
     },
     "1b80407297404c2fa9d57d7fc5600208": {
      "model_module": "jupyter-cytoscape",
      "model_module_version": "^1.3.3",
      "model_name": "NodeModel",
      "state": {
       "_model_module": "jupyter-cytoscape",
       "_model_module_version": "^1.3.3",
       "_model_name": "NodeModel",
       "_view_count": null,
       "_view_module": "jupyter-cytoscape",
       "_view_module_version": "^1.3.3",
       "_view_name": "NodeView",
       "classes": "",
       "data": {
        "color": "gray",
        "id": "-3252091668141381369",
        "label": "getitem",
        "shape": "ellipse"
       },
       "grabbable": true,
       "grabbed": false,
       "locked": false,
       "pannable": false,
       "position": {},
       "removed": false,
       "selectable": false,
       "selected": false
      }
     },
     "1cdf15a7115d478592aa590bbbe14400": {
      "model_module": "jupyter-cytoscape",
      "model_module_version": "^1.3.3",
      "model_name": "NodeModel",
      "state": {
       "_model_module": "jupyter-cytoscape",
       "_model_module_version": "^1.3.3",
       "_model_name": "NodeModel",
       "_view_count": null,
       "_view_module": "jupyter-cytoscape",
       "_view_module_version": "^1.3.3",
       "_view_name": "NodeView",
       "classes": "",
       "data": {
        "color": "gray",
        "id": "-5456134517476523992",
        "label": "values",
        "shape": "ellipse"
       },
       "grabbable": true,
       "grabbed": false,
       "locked": false,
       "pannable": false,
       "position": {},
       "removed": false,
       "selectable": false,
       "selected": false
      }
     },
     "1dfe363288f74ceab365895ba611c018": {
      "model_module": "jupyter-cytoscape",
      "model_module_version": "^1.3.3",
      "model_name": "NodeModel",
      "state": {
       "_model_module": "jupyter-cytoscape",
       "_model_module_version": "^1.3.3",
       "_model_name": "NodeModel",
       "_view_count": null,
       "_view_module": "jupyter-cytoscape",
       "_view_module_version": "^1.3.3",
       "_view_name": "NodeView",
       "classes": "",
       "data": {
        "color": "gray",
        "id": "337337152759282577",
        "label": "9",
        "shape": "rectangle"
       },
       "grabbable": true,
       "grabbed": false,
       "locked": false,
       "pannable": false,
       "position": {},
       "removed": false,
       "selectable": false,
       "selected": false
      }
     },
     "1e3ca6174e174786b45c49cd0cb5b279": {
      "model_module": "jupyter-cytoscape",
      "model_module_version": "^1.3.3",
      "model_name": "NodeModel",
      "state": {
       "_model_module": "jupyter-cytoscape",
       "_model_module_version": "^1.3.3",
       "_model_name": "NodeModel",
       "_view_count": null,
       "_view_module": "jupyter-cytoscape",
       "_view_module_version": "^1.3.3",
       "_view_name": "NodeView",
       "classes": "",
       "data": {
        "color": "gray",
        "id": "9071825154878735432",
        "label": "series-count-chunk",
        "shape": "ellipse"
       },
       "grabbable": true,
       "grabbed": false,
       "locked": false,
       "pannable": false,
       "position": {},
       "removed": false,
       "selectable": false,
       "selected": false
      }
     },
     "1f1cdef2e3764fd48fca496b9b42c900": {
      "model_module": "jupyter-cytoscape",
      "model_module_version": "^1.3.3",
      "model_name": "NodeModel",
      "state": {
       "_model_module": "jupyter-cytoscape",
       "_model_module_version": "^1.3.3",
       "_model_name": "NodeModel",
       "_view_count": null,
       "_view_module": "jupyter-cytoscape",
       "_view_module_version": "^1.3.3",
       "_view_name": "NodeView",
       "classes": "",
       "data": {
        "color": "gray",
        "id": "-9085155841494560628",
        "label": "8",
        "shape": "rectangle"
       },
       "grabbable": true,
       "grabbed": false,
       "locked": false,
       "pannable": false,
       "position": {},
       "removed": false,
       "selectable": false,
       "selected": false
      }
     },
     "1f360483a2cd423da2a2de50a4da6a92": {
      "model_module": "jupyter-cytoscape",
      "model_module_version": "^1.3.3",
      "model_name": "NodeModel",
      "state": {
       "_model_module": "jupyter-cytoscape",
       "_model_module_version": "^1.3.3",
       "_model_name": "NodeModel",
       "_view_count": null,
       "_view_module": "jupyter-cytoscape",
       "_view_module_version": "^1.3.3",
       "_view_name": "NodeView",
       "classes": "",
       "data": {
        "color": "gray",
        "id": "2175316675819881552",
        "label": "values",
        "shape": "ellipse"
       },
       "grabbable": true,
       "grabbed": false,
       "locked": false,
       "pannable": false,
       "position": {},
       "removed": false,
       "selectable": false,
       "selected": false
      }
     },
     "1f97ded0953045519c420162948c2788": {
      "model_module": "jupyter-cytoscape",
      "model_module_version": "^1.3.3",
      "model_name": "NodeModel",
      "state": {
       "_model_module": "jupyter-cytoscape",
       "_model_module_version": "^1.3.3",
       "_model_name": "NodeModel",
       "_view_count": null,
       "_view_module": "jupyter-cytoscape",
       "_view_module_version": "^1.3.3",
       "_view_name": "NodeView",
       "classes": "",
       "data": {
        "color": "gray",
        "id": "969112533599578842",
        "label": "2",
        "shape": "rectangle"
       },
       "grabbable": true,
       "grabbed": false,
       "locked": false,
       "pannable": false,
       "position": {},
       "removed": false,
       "selectable": false,
       "selected": false
      }
     },
     "1fdb35f106c348a2bc4fbe85c28708d0": {
      "model_module": "jupyter-cytoscape",
      "model_module_version": "^1.3.3",
      "model_name": "EdgeModel",
      "state": {
       "_model_module": "jupyter-cytoscape",
       "_model_module_version": "^1.3.3",
       "_model_name": "EdgeModel",
       "_view_count": null,
       "_view_module": "jupyter-cytoscape",
       "_view_module_version": "^1.3.3",
       "_view_name": "EdgeView",
       "classes": " directed ",
       "data": {
        "source": "4573578961550351224",
        "target": "-4288152405374535767"
       },
       "pannable": true,
       "removed": false,
       "selectable": false,
       "selected": false
      }
     },
     "2068a3e6f90146c4b445f2e8cfdb2c5c": {
      "model_module": "jupyter-cytoscape",
      "model_module_version": "^1.3.3",
      "model_name": "NodeModel",
      "state": {
       "_model_module": "jupyter-cytoscape",
       "_model_module_version": "^1.3.3",
       "_model_name": "NodeModel",
       "_view_count": null,
       "_view_module": "jupyter-cytoscape",
       "_view_module_version": "^1.3.3",
       "_view_name": "NodeView",
       "classes": "",
       "data": {
        "color": "gray",
        "id": "4995392973644626658",
        "label": "4",
        "shape": "rectangle"
       },
       "grabbable": true,
       "grabbed": false,
       "locked": false,
       "pannable": false,
       "position": {},
       "removed": false,
       "selectable": false,
       "selected": false
      }
     },
     "206ff1828087463e84eef83b02119f5a": {
      "model_module": "jupyter-cytoscape",
      "model_module_version": "^1.3.3",
      "model_name": "EdgeModel",
      "state": {
       "_model_module": "jupyter-cytoscape",
       "_model_module_version": "^1.3.3",
       "_model_name": "EdgeModel",
       "_view_count": null,
       "_view_module": "jupyter-cytoscape",
       "_view_module_version": "^1.3.3",
       "_view_name": "EdgeView",
       "classes": " directed ",
       "data": {
        "source": "-198806626458339811",
        "target": "-1752476050327230538"
       },
       "pannable": true,
       "removed": false,
       "selectable": false,
       "selected": false
      }
     },
     "20804403445a488fb52abe268b7c1722": {
      "model_module": "jupyter-cytoscape",
      "model_module_version": "^1.3.3",
      "model_name": "EdgeModel",
      "state": {
       "_model_module": "jupyter-cytoscape",
       "_model_module_version": "^1.3.3",
       "_model_name": "EdgeModel",
       "_view_count": null,
       "_view_module": "jupyter-cytoscape",
       "_view_module_version": "^1.3.3",
       "_view_name": "EdgeView",
       "classes": " directed ",
       "data": {
        "source": "-212378624325725102",
        "target": "3121127808614348646"
       },
       "pannable": true,
       "removed": false,
       "selectable": false,
       "selected": false
      }
     },
     "235aaccada674ef989b23424f8880fc7": {
      "model_module": "jupyter-cytoscape",
      "model_module_version": "^1.3.3",
      "model_name": "NodeModel",
      "state": {
       "_model_module": "jupyter-cytoscape",
       "_model_module_version": "^1.3.3",
       "_model_name": "NodeModel",
       "_view_count": null,
       "_view_module": "jupyter-cytoscape",
       "_view_module_version": "^1.3.3",
       "_view_name": "NodeView",
       "classes": "",
       "data": {
        "color": "gray",
        "id": "566501637093180300",
        "label": "0",
        "shape": "rectangle"
       },
       "grabbable": true,
       "grabbed": false,
       "locked": false,
       "pannable": false,
       "position": {},
       "removed": false,
       "selectable": false,
       "selected": false
      }
     },
     "23f14f0da8cd4b868247be81a848b0e0": {
      "model_module": "jupyter-cytoscape",
      "model_module_version": "^1.3.3",
      "model_name": "EdgeModel",
      "state": {
       "_model_module": "jupyter-cytoscape",
       "_model_module_version": "^1.3.3",
       "_model_name": "EdgeModel",
       "_view_count": null,
       "_view_module": "jupyter-cytoscape",
       "_view_module_version": "^1.3.3",
       "_view_name": "EdgeView",
       "classes": " directed ",
       "data": {
        "source": "2675785010210810597",
        "target": "6431646596407187287"
       },
       "pannable": true,
       "removed": false,
       "selectable": false,
       "selected": false
      }
     },
     "253c763c87a240f09d5d82fa14f16f5b": {
      "model_module": "jupyter-cytoscape",
      "model_module_version": "^1.3.3",
      "model_name": "EdgeModel",
      "state": {
       "_model_module": "jupyter-cytoscape",
       "_model_module_version": "^1.3.3",
       "_model_name": "EdgeModel",
       "_view_count": null,
       "_view_module": "jupyter-cytoscape",
       "_view_module_version": "^1.3.3",
       "_view_name": "EdgeView",
       "classes": " directed ",
       "data": {
        "source": "3187832268323158133",
        "target": "337337152759282577"
       },
       "pannable": true,
       "removed": false,
       "selectable": false,
       "selected": false
      }
     },
     "25f74bd267954ae58b0e3648d5b961cd": {
      "model_module": "jupyter-cytoscape",
      "model_module_version": "^1.3.3",
      "model_name": "EdgeModel",
      "state": {
       "_model_module": "jupyter-cytoscape",
       "_model_module_version": "^1.3.3",
       "_model_name": "EdgeModel",
       "_view_count": null,
       "_view_module": "jupyter-cytoscape",
       "_view_module_version": "^1.3.3",
       "_view_name": "EdgeView",
       "classes": " directed ",
       "data": {
        "source": "4956559252988065657",
        "target": "8605751546238952959"
       },
       "pannable": true,
       "removed": false,
       "selectable": false,
       "selected": false
      }
     },
     "262f96c5a46b4ce4ba438511f66b2025": {
      "model_module": "jupyter-cytoscape",
      "model_module_version": "^1.3.3",
      "model_name": "NodeModel",
      "state": {
       "_model_module": "jupyter-cytoscape",
       "_model_module_version": "^1.3.3",
       "_model_name": "NodeModel",
       "_view_count": null,
       "_view_module": "jupyter-cytoscape",
       "_view_module_version": "^1.3.3",
       "_view_name": "NodeView",
       "classes": "",
       "data": {
        "color": "gray",
        "id": "1678070953413903177",
        "label": "read-csv",
        "shape": "ellipse"
       },
       "grabbable": true,
       "grabbed": false,
       "locked": false,
       "pannable": false,
       "position": {},
       "removed": false,
       "selectable": false,
       "selected": false
      }
     },
     "265dba22e43c426eaf6e75de781a5a8f": {
      "model_module": "jupyter-cytoscape",
      "model_module_version": "^1.3.3",
      "model_name": "NodeModel",
      "state": {
       "_model_module": "jupyter-cytoscape",
       "_model_module_version": "^1.3.3",
       "_model_name": "NodeModel",
       "_view_count": null,
       "_view_module": "jupyter-cytoscape",
       "_view_module_version": "^1.3.3",
       "_view_name": "NodeView",
       "classes": "",
       "data": {
        "color": "gray",
        "id": "3134314508179859034",
        "label": "4",
        "shape": "rectangle"
       },
       "grabbable": true,
       "grabbed": false,
       "locked": false,
       "pannable": false,
       "position": {},
       "removed": false,
       "selectable": false,
       "selected": false
      }
     },
     "28fd0ff89fb945b2b8c557f319f3bc1b": {
      "model_module": "jupyter-cytoscape",
      "model_module_version": "^1.3.3",
      "model_name": "EdgeModel",
      "state": {
       "_model_module": "jupyter-cytoscape",
       "_model_module_version": "^1.3.3",
       "_model_name": "EdgeModel",
       "_view_count": null,
       "_view_module": "jupyter-cytoscape",
       "_view_module_version": "^1.3.3",
       "_view_name": "EdgeView",
       "classes": " directed ",
       "data": {
        "source": "566501637093180300",
        "target": "2192327423968294679"
       },
       "pannable": true,
       "removed": false,
       "selectable": false,
       "selected": false
      }
     },
     "294d453d4f1b4ded88a6115ca39a7e54": {
      "model_module": "jupyter-cytoscape",
      "model_module_version": "^1.3.3",
      "model_name": "NodeModel",
      "state": {
       "_model_module": "jupyter-cytoscape",
       "_model_module_version": "^1.3.3",
       "_model_name": "NodeModel",
       "_view_count": null,
       "_view_module": "jupyter-cytoscape",
       "_view_module_version": "^1.3.3",
       "_view_name": "NodeView",
       "classes": "",
       "data": {
        "color": "gray",
        "id": "4990105663807216068",
        "label": "values",
        "shape": "ellipse"
       },
       "grabbable": true,
       "grabbed": false,
       "locked": false,
       "pannable": false,
       "position": {},
       "removed": false,
       "selectable": false,
       "selected": false
      }
     },
     "29aa74455d3442e18c9b8a8fe58f664f": {
      "model_module": "jupyter-cytoscape",
      "model_module_version": "^1.3.3",
      "model_name": "EdgeModel",
      "state": {
       "_model_module": "jupyter-cytoscape",
       "_model_module_version": "^1.3.3",
       "_model_name": "EdgeModel",
       "_view_count": null,
       "_view_module": "jupyter-cytoscape",
       "_view_module_version": "^1.3.3",
       "_view_name": "EdgeView",
       "classes": " directed ",
       "data": {
        "source": "1965090579454095024",
        "target": "4253843718629060011"
       },
       "pannable": true,
       "removed": false,
       "selectable": false,
       "selected": false
      }
     },
     "2a87fd09ac6f4c3db442fe27968eaa7e": {
      "model_module": "jupyter-cytoscape",
      "model_module_version": "^1.3.3",
      "model_name": "NodeModel",
      "state": {
       "_model_module": "jupyter-cytoscape",
       "_model_module_version": "^1.3.3",
       "_model_name": "NodeModel",
       "_view_count": null,
       "_view_module": "jupyter-cytoscape",
       "_view_module_version": "^1.3.3",
       "_view_name": "NodeView",
       "classes": "",
       "data": {
        "color": "gray",
        "id": "4748881235309161093",
        "label": "6",
        "shape": "rectangle"
       },
       "grabbable": true,
       "grabbed": false,
       "locked": false,
       "pannable": false,
       "position": {},
       "removed": false,
       "selectable": false,
       "selected": false
      }
     },
     "2b0d0d7126414e18834166acadcab717": {
      "model_module": "jupyter-cytoscape",
      "model_module_version": "^1.3.3",
      "model_name": "EdgeModel",
      "state": {
       "_model_module": "jupyter-cytoscape",
       "_model_module_version": "^1.3.3",
       "_model_name": "EdgeModel",
       "_view_count": null,
       "_view_module": "jupyter-cytoscape",
       "_view_module_version": "^1.3.3",
       "_view_name": "EdgeView",
       "classes": " directed ",
       "data": {
        "source": "8472731335556093449",
        "target": "4253843718629060011"
       },
       "pannable": true,
       "removed": false,
       "selectable": false,
       "selected": false
      }
     },
     "2b9020ff04a54e69b755818d040137c5": {
      "model_module": "jupyter-cytoscape",
      "model_module_version": "^1.3.3",
      "model_name": "EdgeModel",
      "state": {
       "_model_module": "jupyter-cytoscape",
       "_model_module_version": "^1.3.3",
       "_model_name": "EdgeModel",
       "_view_count": null,
       "_view_module": "jupyter-cytoscape",
       "_view_module_version": "^1.3.3",
       "_view_name": "EdgeView",
       "classes": " directed ",
       "data": {
        "source": "-5457376334100299777",
        "target": "-2477825641932771891"
       },
       "pannable": true,
       "removed": false,
       "selectable": false,
       "selected": false
      }
     },
     "2c3590870e834dada2e07ed32ede8cdd": {
      "model_module": "jupyter-cytoscape",
      "model_module_version": "^1.3.3",
      "model_name": "EdgeModel",
      "state": {
       "_model_module": "jupyter-cytoscape",
       "_model_module_version": "^1.3.3",
       "_model_name": "EdgeModel",
       "_view_count": null,
       "_view_module": "jupyter-cytoscape",
       "_view_module_version": "^1.3.3",
       "_view_name": "EdgeView",
       "classes": " directed ",
       "data": {
        "source": "1050264422001698648",
        "target": "4224671680595478776"
       },
       "pannable": true,
       "removed": false,
       "selectable": false,
       "selected": false
      }
     },
     "2c47174a553d475c853d780b0989bcf6": {
      "model_module": "jupyter-cytoscape",
      "model_module_version": "^1.3.3",
      "model_name": "NodeModel",
      "state": {
       "_model_module": "jupyter-cytoscape",
       "_model_module_version": "^1.3.3",
       "_model_name": "NodeModel",
       "_view_count": null,
       "_view_module": "jupyter-cytoscape",
       "_view_module_version": "^1.3.3",
       "_view_name": "NodeView",
       "classes": "",
       "data": {
        "color": "gray",
        "id": "-1965238580100955549",
        "label": "moment_chunk",
        "shape": "ellipse"
       },
       "grabbable": true,
       "grabbed": false,
       "locked": false,
       "pannable": false,
       "position": {},
       "removed": false,
       "selectable": false,
       "selected": false
      }
     },
     "2d2cb5ec9ad549f081fc71201b806727": {
      "model_module": "jupyter-cytoscape",
      "model_module_version": "^1.3.3",
      "model_name": "NodeModel",
      "state": {
       "_model_module": "jupyter-cytoscape",
       "_model_module_version": "^1.3.3",
       "_model_name": "NodeModel",
       "_view_count": null,
       "_view_module": "jupyter-cytoscape",
       "_view_module_version": "^1.3.3",
       "_view_name": "NodeView",
       "classes": "",
       "data": {
        "color": "gray",
        "id": "2187412759870376097",
        "label": "series-count-chunk",
        "shape": "ellipse"
       },
       "grabbable": true,
       "grabbed": false,
       "locked": false,
       "pannable": false,
       "position": {},
       "removed": false,
       "selectable": false,
       "selected": false
      }
     },
     "302bc88929504a0bb72c9a924a0fdfea": {
      "model_module": "jupyter-cytoscape",
      "model_module_version": "^1.3.3",
      "model_name": "NodeModel",
      "state": {
       "_model_module": "jupyter-cytoscape",
       "_model_module_version": "^1.3.3",
       "_model_name": "NodeModel",
       "_view_count": null,
       "_view_module": "jupyter-cytoscape",
       "_view_module_version": "^1.3.3",
       "_view_name": "NodeView",
       "classes": "",
       "data": {
        "color": "gray",
        "id": "-6509671042545116059",
        "label": "getitem",
        "shape": "ellipse"
       },
       "grabbable": true,
       "grabbed": false,
       "locked": false,
       "pannable": false,
       "position": {},
       "removed": false,
       "selectable": false,
       "selected": false
      }
     },
     "30a339826bf349a38e978937c7809115": {
      "model_module": "jupyter-cytoscape",
      "model_module_version": "^1.3.3",
      "model_name": "NodeModel",
      "state": {
       "_model_module": "jupyter-cytoscape",
       "_model_module_version": "^1.3.3",
       "_model_name": "NodeModel",
       "_view_count": null,
       "_view_module": "jupyter-cytoscape",
       "_view_module_version": "^1.3.3",
       "_view_name": "NodeView",
       "classes": "",
       "data": {
        "color": "gray",
        "id": "2975963326607580446",
        "label": "4",
        "shape": "rectangle"
       },
       "grabbable": true,
       "grabbed": false,
       "locked": false,
       "pannable": false,
       "position": {},
       "removed": false,
       "selectable": false,
       "selected": false
      }
     },
     "3127f14426024f00bd41af8c5b518064": {
      "model_module": "jupyter-cytoscape",
      "model_module_version": "^1.3.3",
      "model_name": "EdgeModel",
      "state": {
       "_model_module": "jupyter-cytoscape",
       "_model_module_version": "^1.3.3",
       "_model_name": "EdgeModel",
       "_view_count": null,
       "_view_module": "jupyter-cytoscape",
       "_view_module_version": "^1.3.3",
       "_view_name": "EdgeView",
       "classes": " directed ",
       "data": {
        "source": "4590530053736882505",
        "target": "-2453018347855691885"
       },
       "pannable": true,
       "removed": false,
       "selectable": false,
       "selected": false
      }
     },
     "31346ed4730440b9ba67a9b98c62b3a1": {
      "model_module": "jupyter-cytoscape",
      "model_module_version": "^1.3.3",
      "model_name": "NodeModel",
      "state": {
       "_model_module": "jupyter-cytoscape",
       "_model_module_version": "^1.3.3",
       "_model_name": "NodeModel",
       "_view_count": null,
       "_view_module": "jupyter-cytoscape",
       "_view_module_version": "^1.3.3",
       "_view_name": "NodeView",
       "classes": "",
       "data": {
        "color": "gray",
        "id": "-7182972153546168106",
        "label": "getitem",
        "shape": "ellipse"
       },
       "grabbable": true,
       "grabbed": false,
       "locked": false,
       "pannable": false,
       "position": {},
       "removed": false,
       "selectable": false,
       "selected": false
      }
     },
     "31ff7f67848f412db0c26842b28c2c5b": {
      "model_module": "jupyter-cytoscape",
      "model_module_version": "^1.3.3",
      "model_name": "EdgeModel",
      "state": {
       "_model_module": "jupyter-cytoscape",
       "_model_module_version": "^1.3.3",
       "_model_name": "EdgeModel",
       "_view_count": null,
       "_view_module": "jupyter-cytoscape",
       "_view_module_version": "^1.3.3",
       "_view_name": "EdgeView",
       "classes": " directed ",
       "data": {
        "source": "-2673585678245233708",
        "target": "-4979788706439499242"
       },
       "pannable": true,
       "removed": false,
       "selectable": false,
       "selected": false
      }
     },
     "327c6a08a96c4d499d32aa84cac8ff6b": {
      "model_module": "jupyter-cytoscape",
      "model_module_version": "^1.3.3",
      "model_name": "EdgeModel",
      "state": {
       "_model_module": "jupyter-cytoscape",
       "_model_module_version": "^1.3.3",
       "_model_name": "EdgeModel",
       "_view_count": null,
       "_view_module": "jupyter-cytoscape",
       "_view_module_version": "^1.3.3",
       "_view_name": "EdgeView",
       "classes": " directed ",
       "data": {
        "source": "-4288152405374535767",
        "target": "-1203643156123595488"
       },
       "pannable": true,
       "removed": false,
       "selectable": false,
       "selected": false
      }
     },
     "332d53879cb44661b7a69d8becd00329": {
      "model_module": "jupyter-cytoscape",
      "model_module_version": "^1.3.3",
      "model_name": "NodeModel",
      "state": {
       "_model_module": "jupyter-cytoscape",
       "_model_module_version": "^1.3.3",
       "_model_name": "NodeModel",
       "_view_count": null,
       "_view_module": "jupyter-cytoscape",
       "_view_module_version": "^1.3.3",
       "_view_name": "NodeView",
       "classes": "",
       "data": {
        "color": "gray",
        "id": "8573916103727133576",
        "label": "inv",
        "shape": "ellipse"
       },
       "grabbable": true,
       "grabbed": false,
       "locked": false,
       "pannable": false,
       "position": {},
       "removed": false,
       "selectable": false,
       "selected": false
      }
     },
     "34ed296df7794b3a86e38602f08d0b81": {
      "model_module": "jupyter-cytoscape",
      "model_module_version": "^1.3.3",
      "model_name": "NodeModel",
      "state": {
       "_model_module": "jupyter-cytoscape",
       "_model_module_version": "^1.3.3",
       "_model_name": "NodeModel",
       "_view_count": null,
       "_view_module": "jupyter-cytoscape",
       "_view_module_version": "^1.3.3",
       "_view_name": "NodeView",
       "classes": "",
       "data": {
        "color": "gray",
        "id": "8732954314272609096",
        "label": "inv",
        "shape": "ellipse"
       },
       "grabbable": true,
       "grabbed": false,
       "locked": false,
       "pannable": false,
       "position": {},
       "removed": false,
       "selectable": false,
       "selected": false
      }
     },
     "35fb64270b80419dadcf68a708654f7d": {
      "model_module": "jupyter-cytoscape",
      "model_module_version": "^1.3.3",
      "model_name": "NodeModel",
      "state": {
       "_model_module": "jupyter-cytoscape",
       "_model_module_version": "^1.3.3",
       "_model_name": "NodeModel",
       "_view_count": null,
       "_view_module": "jupyter-cytoscape",
       "_view_module_version": "^1.3.3",
       "_view_name": "NodeView",
       "classes": "",
       "data": {
        "color": "gray",
        "id": "-2192026299876784477",
        "label": "inv",
        "shape": "ellipse"
       },
       "grabbable": true,
       "grabbed": false,
       "locked": false,
       "pannable": false,
       "position": {},
       "removed": false,
       "selectable": false,
       "selected": false
      }
     },
     "366c84fbfc0b4e0287ed2d7353319589": {
      "model_module": "jupyter-cytoscape",
      "model_module_version": "^1.3.3",
      "model_name": "NodeModel",
      "state": {
       "_model_module": "jupyter-cytoscape",
       "_model_module_version": "^1.3.3",
       "_model_name": "NodeModel",
       "_view_count": null,
       "_view_module": "jupyter-cytoscape",
       "_view_module_version": "^1.3.3",
       "_view_name": "NodeView",
       "classes": "",
       "data": {
        "color": "gray",
        "id": "-4131163025680017294",
        "label": "series-count-chunk",
        "shape": "ellipse"
       },
       "grabbable": true,
       "grabbed": false,
       "locked": false,
       "pannable": false,
       "position": {},
       "removed": false,
       "selectable": false,
       "selected": false
      }
     },
     "37943db66bf24e9ca651b74d7e5c3ef1": {
      "model_module": "jupyter-cytoscape",
      "model_module_version": "^1.3.3",
      "model_name": "EdgeModel",
      "state": {
       "_model_module": "jupyter-cytoscape",
       "_model_module_version": "^1.3.3",
       "_model_name": "EdgeModel",
       "_view_count": null,
       "_view_module": "jupyter-cytoscape",
       "_view_module_version": "^1.3.3",
       "_view_name": "EdgeView",
       "classes": " directed ",
       "data": {
        "source": "6609959700773928717",
        "target": "-1590934119349483542"
       },
       "pannable": true,
       "removed": false,
       "selectable": false,
       "selected": false
      }
     },
     "37c0f1fe53044233808decf5cc6d19e5": {
      "model_module": "jupyter-cytoscape",
      "model_module_version": "^1.3.3",
      "model_name": "NodeModel",
      "state": {
       "_model_module": "jupyter-cytoscape",
       "_model_module_version": "^1.3.3",
       "_model_name": "NodeModel",
       "_view_count": null,
       "_view_module": "jupyter-cytoscape",
       "_view_module_version": "^1.3.3",
       "_view_name": "NodeView",
       "classes": "",
       "data": {
        "color": "gray",
        "id": "-7657833297781504393",
        "label": "moment_chunk",
        "shape": "ellipse"
       },
       "grabbable": true,
       "grabbed": false,
       "locked": false,
       "pannable": false,
       "position": {},
       "removed": false,
       "selectable": false,
       "selected": false
      }
     },
     "383a361498a240968643a447cec9a3cd": {
      "model_module": "jupyter-cytoscape",
      "model_module_version": "^1.3.3",
      "model_name": "NodeModel",
      "state": {
       "_model_module": "jupyter-cytoscape",
       "_model_module_version": "^1.3.3",
       "_model_name": "NodeModel",
       "_view_count": null,
       "_view_module": "jupyter-cytoscape",
       "_view_module_version": "^1.3.3",
       "_view_name": "NodeView",
       "classes": "",
       "data": {
        "color": "gray",
        "id": "3826169044918862648",
        "label": "8",
        "shape": "rectangle"
       },
       "grabbable": true,
       "grabbed": false,
       "locked": false,
       "pannable": false,
       "position": {},
       "removed": false,
       "selectable": false,
       "selected": false
      }
     },
     "386099436e684e428a85273c5f2a1647": {
      "model_module": "jupyter-cytoscape",
      "model_module_version": "^1.3.3",
      "model_name": "NodeModel",
      "state": {
       "_model_module": "jupyter-cytoscape",
       "_model_module_version": "^1.3.3",
       "_model_name": "NodeModel",
       "_view_count": null,
       "_view_module": "jupyter-cytoscape",
       "_view_module_version": "^1.3.3",
       "_view_name": "NodeView",
       "classes": "",
       "data": {
        "color": "gray",
        "id": "-1577547807921718100",
        "label": "moment_chunk",
        "shape": "ellipse"
       },
       "grabbable": true,
       "grabbed": false,
       "locked": false,
       "pannable": false,
       "position": {},
       "removed": false,
       "selectable": false,
       "selected": false
      }
     },
     "388880e53d4a4e968fe05afe78d9e3be": {
      "model_module": "jupyter-cytoscape",
      "model_module_version": "^1.3.3",
      "model_name": "EdgeModel",
      "state": {
       "_model_module": "jupyter-cytoscape",
       "_model_module_version": "^1.3.3",
       "_model_name": "EdgeModel",
       "_view_count": null,
       "_view_module": "jupyter-cytoscape",
       "_view_module_version": "^1.3.3",
       "_view_name": "EdgeView",
       "classes": " directed ",
       "data": {
        "source": "7769789198578560534",
        "target": "7779183629499692727"
       },
       "pannable": true,
       "removed": false,
       "selectable": false,
       "selected": false
      }
     },
     "3b60f1a88823483c998be4ec45c4019c": {
      "model_module": "jupyter-cytoscape",
      "model_module_version": "^1.3.3",
      "model_name": "EdgeModel",
      "state": {
       "_model_module": "jupyter-cytoscape",
       "_model_module_version": "^1.3.3",
       "_model_name": "EdgeModel",
       "_view_count": null,
       "_view_module": "jupyter-cytoscape",
       "_view_module_version": "^1.3.3",
       "_view_name": "EdgeView",
       "classes": " directed ",
       "data": {
        "source": "7922096088105115316",
        "target": "2734421992782465183"
       },
       "pannable": true,
       "removed": false,
       "selectable": false,
       "selected": false
      }
     },
     "3bebd5207412414b8904e951e889f99e": {
      "model_module": "jupyter-cytoscape",
      "model_module_version": "^1.3.3",
      "model_name": "EdgeModel",
      "state": {
       "_model_module": "jupyter-cytoscape",
       "_model_module_version": "^1.3.3",
       "_model_name": "EdgeModel",
       "_view_count": null,
       "_view_module": "jupyter-cytoscape",
       "_view_module_version": "^1.3.3",
       "_view_name": "EdgeView",
       "classes": " directed ",
       "data": {
        "source": "3834055077856764717",
        "target": "-3005916551607653423"
       },
       "pannable": true,
       "removed": false,
       "selectable": false,
       "selected": false
      }
     },
     "3c067b260138469098e7174573393c3f": {
      "model_module": "jupyter-cytoscape",
      "model_module_version": "^1.3.3",
      "model_name": "EdgeModel",
      "state": {
       "_model_module": "jupyter-cytoscape",
       "_model_module_version": "^1.3.3",
       "_model_name": "EdgeModel",
       "_view_count": null,
       "_view_module": "jupyter-cytoscape",
       "_view_module_version": "^1.3.3",
       "_view_name": "EdgeView",
       "classes": " directed ",
       "data": {
        "source": "-6322432939011908379",
        "target": "8916245433811452939"
       },
       "pannable": true,
       "removed": false,
       "selectable": false,
       "selected": false
      }
     },
     "3d306ad627ee45d3b9d7239faa3e5bce": {
      "model_module": "jupyter-cytoscape",
      "model_module_version": "^1.3.3",
      "model_name": "EdgeModel",
      "state": {
       "_model_module": "jupyter-cytoscape",
       "_model_module_version": "^1.3.3",
       "_model_name": "EdgeModel",
       "_view_count": null,
       "_view_module": "jupyter-cytoscape",
       "_view_module_version": "^1.3.3",
       "_view_name": "EdgeView",
       "classes": " directed ",
       "data": {
        "source": "2975963326607580446",
        "target": "-2453018347855691885"
       },
       "pannable": true,
       "removed": false,
       "selectable": false,
       "selected": false
      }
     },
     "3d6ca6a170a14a7bb9c629abeb644017": {
      "model_module": "jupyter-cytoscape",
      "model_module_version": "^1.3.3",
      "model_name": "EdgeModel",
      "state": {
       "_model_module": "jupyter-cytoscape",
       "_model_module_version": "^1.3.3",
       "_model_name": "EdgeModel",
       "_view_count": null,
       "_view_module": "jupyter-cytoscape",
       "_view_module_version": "^1.3.3",
       "_view_name": "EdgeView",
       "classes": " directed ",
       "data": {
        "source": "-7097176348169071747",
        "target": "4253843718629060011"
       },
       "pannable": true,
       "removed": false,
       "selectable": false,
       "selected": false
      }
     },
     "3f4ef70607f4453e8396aa83560d81e3": {
      "model_module": "jupyter-cytoscape",
      "model_module_version": "^1.3.3",
      "model_name": "EdgeModel",
      "state": {
       "_model_module": "jupyter-cytoscape",
       "_model_module_version": "^1.3.3",
       "_model_name": "EdgeModel",
       "_view_count": null,
       "_view_module": "jupyter-cytoscape",
       "_view_module_version": "^1.3.3",
       "_view_name": "EdgeView",
       "classes": " directed ",
       "data": {
        "source": "-9049960790672648124",
        "target": "4590530053736882505"
       },
       "pannable": true,
       "removed": false,
       "selectable": false,
       "selected": false
      }
     },
     "3f5cc9414ac54d6980f2af8991072513": {
      "model_module": "jupyter-cytoscape",
      "model_module_version": "^1.3.3",
      "model_name": "EdgeModel",
      "state": {
       "_model_module": "jupyter-cytoscape",
       "_model_module_version": "^1.3.3",
       "_model_name": "EdgeModel",
       "_view_count": null,
       "_view_module": "jupyter-cytoscape",
       "_view_module_version": "^1.3.3",
       "_view_name": "EdgeView",
       "classes": " directed ",
       "data": {
        "source": "992611241916121285",
        "target": "-7097176348169071747"
       },
       "pannable": true,
       "removed": false,
       "selectable": false,
       "selected": false
      }
     },
     "40db96a0c6e04c748c883ee5c0ace351": {
      "model_module": "jupyter-cytoscape",
      "model_module_version": "^1.3.3",
      "model_name": "NodeModel",
      "state": {
       "_model_module": "jupyter-cytoscape",
       "_model_module_version": "^1.3.3",
       "_model_name": "NodeModel",
       "_view_count": null,
       "_view_module": "jupyter-cytoscape",
       "_view_module_version": "^1.3.3",
       "_view_name": "NodeView",
       "classes": "",
       "data": {
        "color": "gray",
        "id": "-3367042777456532597",
        "label": "2",
        "shape": "rectangle"
       },
       "grabbable": true,
       "grabbed": false,
       "locked": false,
       "pannable": false,
       "position": {},
       "removed": false,
       "selectable": false,
       "selected": false
      }
     },
     "40de1d9718a342558cd86c3a2e0b1b68": {
      "model_module": "jupyter-cytoscape",
      "model_module_version": "^1.3.3",
      "model_name": "EdgeModel",
      "state": {
       "_model_module": "jupyter-cytoscape",
       "_model_module_version": "^1.3.3",
       "_model_name": "EdgeModel",
       "_view_count": null,
       "_view_module": "jupyter-cytoscape",
       "_view_module_version": "^1.3.3",
       "_view_name": "EdgeView",
       "classes": " directed ",
       "data": {
        "source": "5919059534575370945",
        "target": "-589535592067073322"
       },
       "pannable": true,
       "removed": false,
       "selectable": false,
       "selected": false
      }
     },
     "413d031cc57e4baba07523fc39559ff4": {
      "model_module": "jupyter-cytoscape",
      "model_module_version": "^1.3.3",
      "model_name": "EdgeModel",
      "state": {
       "_model_module": "jupyter-cytoscape",
       "_model_module_version": "^1.3.3",
       "_model_name": "EdgeModel",
       "_view_count": null,
       "_view_module": "jupyter-cytoscape",
       "_view_module_version": "^1.3.3",
       "_view_name": "EdgeView",
       "classes": " directed ",
       "data": {
        "source": "8479014806021700243",
        "target": "-6509671042545116059"
       },
       "pannable": true,
       "removed": false,
       "selectable": false,
       "selected": false
      }
     },
     "416a6fbee7944073bb4569ac65787904": {
      "model_module": "jupyter-cytoscape",
      "model_module_version": "^1.3.3",
      "model_name": "NodeModel",
      "state": {
       "_model_module": "jupyter-cytoscape",
       "_model_module_version": "^1.3.3",
       "_model_name": "NodeModel",
       "_view_count": null,
       "_view_module": "jupyter-cytoscape",
       "_view_module_version": "^1.3.3",
       "_view_name": "NodeView",
       "classes": "",
       "data": {
        "color": "gray",
        "id": "5610418373822671867",
        "label": "getitem",
        "shape": "ellipse"
       },
       "grabbable": true,
       "grabbed": false,
       "locked": false,
       "pannable": false,
       "position": {},
       "removed": false,
       "selectable": false,
       "selected": false
      }
     },
     "41af7cac35c2422ea64751e30f929888": {
      "model_module": "jupyter-cytoscape",
      "model_module_version": "^1.3.3",
      "model_name": "GraphModel",
      "state": {
       "_adj": {},
       "_model_module": "jupyter-cytoscape",
       "_model_module_version": "^1.3.3",
       "_model_name": "GraphModel",
       "_view_count": null,
       "_view_module": "jupyter-cytoscape",
       "_view_module_version": "^1.3.3",
       "_view_name": null,
       "edges": [],
       "nodes": []
      }
     },
     "41d712dcf32f4e82877938a0931172e7": {
      "model_module": "jupyter-cytoscape",
      "model_module_version": "^1.3.3",
      "model_name": "NodeModel",
      "state": {
       "_model_module": "jupyter-cytoscape",
       "_model_module_version": "^1.3.3",
       "_model_name": "NodeModel",
       "_view_count": null,
       "_view_module": "jupyter-cytoscape",
       "_view_module_version": "^1.3.3",
       "_view_name": "NodeView",
       "classes": "",
       "data": {
        "color": "gray",
        "id": "-690986273681872040",
        "label": "read-csv",
        "shape": "ellipse"
       },
       "grabbable": true,
       "grabbed": false,
       "locked": false,
       "pannable": false,
       "position": {},
       "removed": false,
       "selectable": false,
       "selected": false
      }
     },
     "4200f60277544a09ad91f9ae03bd6a52": {
      "model_module": "jupyter-cytoscape",
      "model_module_version": "^1.3.3",
      "model_name": "EdgeModel",
      "state": {
       "_model_module": "jupyter-cytoscape",
       "_model_module_version": "^1.3.3",
       "_model_name": "EdgeModel",
       "_view_count": null,
       "_view_module": "jupyter-cytoscape",
       "_view_module_version": "^1.3.3",
       "_view_name": "EdgeView",
       "classes": " directed ",
       "data": {
        "source": "-4371954404595135194",
        "target": "-1900056691328988348"
       },
       "pannable": true,
       "removed": false,
       "selectable": false,
       "selected": false
      }
     },
     "42468595f7f74231a5bec0afc2c0632b": {
      "model_module": "jupyter-cytoscape",
      "model_module_version": "^1.3.3",
      "model_name": "EdgeModel",
      "state": {
       "_model_module": "jupyter-cytoscape",
       "_model_module_version": "^1.3.3",
       "_model_name": "EdgeModel",
       "_view_count": null,
       "_view_module": "jupyter-cytoscape",
       "_view_module_version": "^1.3.3",
       "_view_name": "EdgeView",
       "classes": " directed ",
       "data": {
        "source": "9071825154878735432",
        "target": "1329076762929615770"
       },
       "pannable": true,
       "removed": false,
       "selectable": false,
       "selected": false
      }
     },
     "425cc76786cc4b149a0aa9b1efb769a3": {
      "model_module": "jupyter-cytoscape",
      "model_module_version": "^1.3.3",
      "model_name": "EdgeModel",
      "state": {
       "_model_module": "jupyter-cytoscape",
       "_model_module_version": "^1.3.3",
       "_model_name": "EdgeModel",
       "_view_count": null,
       "_view_module": "jupyter-cytoscape",
       "_view_module_version": "^1.3.3",
       "_view_name": "EdgeView",
       "classes": " directed ",
       "data": {
        "source": "-3005916551607653423",
        "target": "4748881235309161093"
       },
       "pannable": true,
       "removed": false,
       "selectable": false,
       "selected": false
      }
     },
     "4262c73ee2274cca9b26f4f9526898b6": {
      "model_module": "jupyter-cytoscape",
      "model_module_version": "^1.3.3",
      "model_name": "EdgeModel",
      "state": {
       "_model_module": "jupyter-cytoscape",
       "_model_module_version": "^1.3.3",
       "_model_name": "EdgeModel",
       "_view_count": null,
       "_view_module": "jupyter-cytoscape",
       "_view_module_version": "^1.3.3",
       "_view_name": "EdgeView",
       "classes": " directed ",
       "data": {
        "source": "-3367042777456532597",
        "target": "5610418373822671867"
       },
       "pannable": true,
       "removed": false,
       "selectable": false,
       "selected": false
      }
     },
     "42f88d349c774bad99e04e962e8ee813": {
      "model_module": "jupyter-cytoscape",
      "model_module_version": "^1.3.3",
      "model_name": "NodeModel",
      "state": {
       "_model_module": "jupyter-cytoscape",
       "_model_module_version": "^1.3.3",
       "_model_name": "NodeModel",
       "_view_count": null,
       "_view_module": "jupyter-cytoscape",
       "_view_module_version": "^1.3.3",
       "_view_name": "NodeView",
       "classes": "",
       "data": {
        "color": "gray",
        "id": "3438360136047246067",
        "label": "7",
        "shape": "rectangle"
       },
       "grabbable": true,
       "grabbed": false,
       "locked": false,
       "pannable": false,
       "position": {},
       "removed": false,
       "selectable": false,
       "selected": false
      }
     },
     "43c24df76a974a3d9e59ba7e7d834597": {
      "model_module": "jupyter-cytoscape",
      "model_module_version": "^1.3.3",
      "model_name": "NodeModel",
      "state": {
       "_model_module": "jupyter-cytoscape",
       "_model_module_version": "^1.3.3",
       "_model_name": "NodeModel",
       "_view_count": null,
       "_view_module": "jupyter-cytoscape",
       "_view_module_version": "^1.3.3",
       "_view_name": "NodeView",
       "classes": "",
       "data": {
        "color": "gray",
        "id": "-9049960790672648124",
        "label": "moment_chunk",
        "shape": "ellipse"
       },
       "grabbable": true,
       "grabbed": false,
       "locked": false,
       "pannable": false,
       "position": {},
       "removed": false,
       "selectable": false,
       "selected": false
      }
     },
     "4464c6bda9894cb489fbe759891fad6f": {
      "model_module": "jupyter-cytoscape",
      "model_module_version": "^1.3.3",
      "model_name": "NodeModel",
      "state": {
       "_model_module": "jupyter-cytoscape",
       "_model_module_version": "^1.3.3",
       "_model_name": "NodeModel",
       "_view_count": null,
       "_view_module": "jupyter-cytoscape",
       "_view_module_version": "^1.3.3",
       "_view_name": "NodeView",
       "classes": "",
       "data": {
        "color": "gray",
        "id": "1025920426234346989",
        "label": "getitem",
        "shape": "ellipse"
       },
       "grabbable": true,
       "grabbed": false,
       "locked": false,
       "pannable": false,
       "position": {},
       "removed": false,
       "selectable": false,
       "selected": false
      }
     },
     "44ba8e0eefbd46db9088b7f11186a0ab": {
      "model_module": "jupyter-cytoscape",
      "model_module_version": "^1.3.3",
      "model_name": "EdgeModel",
      "state": {
       "_model_module": "jupyter-cytoscape",
       "_model_module_version": "^1.3.3",
       "_model_name": "EdgeModel",
       "_view_count": null,
       "_view_module": "jupyter-cytoscape",
       "_view_module_version": "^1.3.3",
       "_view_name": "EdgeView",
       "classes": " directed ",
       "data": {
        "source": "2828193821718404924",
        "target": "-2309394768243815465"
       },
       "pannable": true,
       "removed": false,
       "selectable": false,
       "selected": false
      }
     },
     "4562dedb4a1643ad907628dbeed3cf1d": {
      "model_module": "jupyter-cytoscape",
      "model_module_version": "^1.3.3",
      "model_name": "EdgeModel",
      "state": {
       "_model_module": "jupyter-cytoscape",
       "_model_module_version": "^1.3.3",
       "_model_name": "EdgeModel",
       "_view_count": null,
       "_view_module": "jupyter-cytoscape",
       "_view_module_version": "^1.3.3",
       "_view_name": "EdgeView",
       "classes": " directed ",
       "data": {
        "source": "-200111395126185168",
        "target": "-8239909098176156409"
       },
       "pannable": true,
       "removed": false,
       "selectable": false,
       "selected": false
      }
     },
     "458dba7075684facbca514d65c960daa": {
      "model_module": "jupyter-cytoscape",
      "model_module_version": "^1.3.3",
      "model_name": "NodeModel",
      "state": {
       "_model_module": "jupyter-cytoscape",
       "_model_module_version": "^1.3.3",
       "_model_name": "NodeModel",
       "_view_count": null,
       "_view_module": "jupyter-cytoscape",
       "_view_module_version": "^1.3.3",
       "_view_name": "NodeView",
       "classes": "",
       "data": {
        "color": "gray",
        "id": "-1900056691328988348",
        "label": "2",
        "shape": "rectangle"
       },
       "grabbable": true,
       "grabbed": false,
       "locked": false,
       "pannable": false,
       "position": {},
       "removed": false,
       "selectable": false,
       "selected": false
      }
     },
     "4594ff48c907401296367ac3f641625a": {
      "model_module": "jupyter-cytoscape",
      "model_module_version": "^1.3.3",
      "model_name": "EdgeModel",
      "state": {
       "_model_module": "jupyter-cytoscape",
       "_model_module_version": "^1.3.3",
       "_model_name": "EdgeModel",
       "_view_count": null,
       "_view_module": "jupyter-cytoscape",
       "_view_module_version": "^1.3.3",
       "_view_name": "EdgeView",
       "classes": " directed ",
       "data": {
        "source": "-8500743181560307124",
        "target": "-8063163206826232081"
       },
       "pannable": true,
       "removed": false,
       "selectable": false,
       "selected": false
      }
     },
     "46b1df90e2a743998491a4d81d417170": {
      "model_module": "jupyter-cytoscape",
      "model_module_version": "^1.3.3",
      "model_name": "NodeModel",
      "state": {
       "_model_module": "jupyter-cytoscape",
       "_model_module_version": "^1.3.3",
       "_model_name": "NodeModel",
       "_view_count": null,
       "_view_module": "jupyter-cytoscape",
       "_view_module_version": "^1.3.3",
       "_view_name": "NodeView",
       "classes": "",
       "data": {
        "color": "gray",
        "id": "2583679260728880901",
        "label": "4",
        "shape": "rectangle"
       },
       "grabbable": true,
       "grabbed": false,
       "locked": false,
       "pannable": false,
       "position": {},
       "removed": false,
       "selectable": false,
       "selected": false
      }
     },
     "49c0b8b0c2f54953a9c4657eeec08c38": {
      "model_module": "jupyter-cytoscape",
      "model_module_version": "^1.3.3",
      "model_name": "EdgeModel",
      "state": {
       "_model_module": "jupyter-cytoscape",
       "_model_module_version": "^1.3.3",
       "_model_name": "EdgeModel",
       "_view_count": null,
       "_view_module": "jupyter-cytoscape",
       "_view_module_version": "^1.3.3",
       "_view_name": "EdgeView",
       "classes": " directed ",
       "data": {
        "source": "-1900056691328988348",
        "target": "-8063163206826232081"
       },
       "pannable": true,
       "removed": false,
       "selectable": false,
       "selected": false
      }
     },
     "4a14c59608a645d780648308e4fc9f23": {
      "model_module": "jupyter-cytoscape",
      "model_module_version": "^1.3.3",
      "model_name": "NodeModel",
      "state": {
       "_model_module": "jupyter-cytoscape",
       "_model_module_version": "^1.3.3",
       "_model_name": "NodeModel",
       "_view_count": null,
       "_view_module": "jupyter-cytoscape",
       "_view_module_version": "^1.3.3",
       "_view_name": "NodeView",
       "classes": "",
       "data": {
        "color": "gray",
        "id": "2111044150122580247",
        "label": "series-var",
        "shape": "ellipse"
       },
       "grabbable": true,
       "grabbed": false,
       "locked": false,
       "pannable": false,
       "position": {},
       "removed": false,
       "selectable": false,
       "selected": false
      }
     },
     "4a3b4cc4b0654c05b8fbc69a76085881": {
      "model_module": "jupyter-cytoscape",
      "model_module_version": "^1.3.3",
      "model_name": "EdgeModel",
      "state": {
       "_model_module": "jupyter-cytoscape",
       "_model_module_version": "^1.3.3",
       "_model_name": "EdgeModel",
       "_view_count": null,
       "_view_module": "jupyter-cytoscape",
       "_view_module_version": "^1.3.3",
       "_view_name": "EdgeView",
       "classes": " directed ",
       "data": {
        "source": "987227504297511239",
        "target": "-5093185424098881534"
       },
       "pannable": true,
       "removed": false,
       "selectable": false,
       "selected": false
      }
     },
     "4a966611877947ada46f8ab75e8266c6": {
      "model_module": "jupyter-cytoscape",
      "model_module_version": "^1.3.3",
      "model_name": "EdgeModel",
      "state": {
       "_model_module": "jupyter-cytoscape",
       "_model_module_version": "^1.3.3",
       "_model_name": "EdgeModel",
       "_view_count": null,
       "_view_module": "jupyter-cytoscape",
       "_view_module_version": "^1.3.3",
       "_view_name": "EdgeView",
       "classes": " directed ",
       "data": {
        "source": "-6975872468376930331",
        "target": "221793521085773947"
       },
       "pannable": true,
       "removed": false,
       "selectable": false,
       "selected": false
      }
     },
     "4b3480d34f3c4705970d6bab5ac09620": {
      "model_module": "jupyter-cytoscape",
      "model_module_version": "^1.3.3",
      "model_name": "NodeModel",
      "state": {
       "_model_module": "jupyter-cytoscape",
       "_model_module_version": "^1.3.3",
       "_model_name": "NodeModel",
       "_view_count": null,
       "_view_module": "jupyter-cytoscape",
       "_view_module_version": "^1.3.3",
       "_view_name": "NodeView",
       "classes": "",
       "data": {
        "color": "gray",
        "id": "2886109600526996361",
        "label": "3",
        "shape": "rectangle"
       },
       "grabbable": true,
       "grabbed": false,
       "locked": false,
       "pannable": false,
       "position": {},
       "removed": false,
       "selectable": false,
       "selected": false
      }
     },
     "4c3a9619481040c2ac39987be4ac7135": {
      "model_module": "jupyter-cytoscape",
      "model_module_version": "^1.3.3",
      "model_name": "EdgeModel",
      "state": {
       "_model_module": "jupyter-cytoscape",
       "_model_module_version": "^1.3.3",
       "_model_name": "EdgeModel",
       "_view_count": null,
       "_view_module": "jupyter-cytoscape",
       "_view_module_version": "^1.3.3",
       "_view_name": "EdgeView",
       "classes": " directed ",
       "data": {
        "source": "6222150791902312136",
        "target": "-8063163206826232081"
       },
       "pannable": true,
       "removed": false,
       "selectable": false,
       "selected": false
      }
     },
     "4d014531235b4e40beb35565debec36d": {
      "model_module": "jupyter-cytoscape",
      "model_module_version": "^1.3.3",
      "model_name": "NodeModel",
      "state": {
       "_model_module": "jupyter-cytoscape",
       "_model_module_version": "^1.3.3",
       "_model_name": "NodeModel",
       "_view_count": null,
       "_view_module": "jupyter-cytoscape",
       "_view_module_version": "^1.3.3",
       "_view_name": "NodeView",
       "classes": "",
       "data": {
        "color": "gray",
        "id": "4253843718629060011",
        "label": "series-sum-agg",
        "shape": "ellipse"
       },
       "grabbable": true,
       "grabbed": false,
       "locked": false,
       "pannable": false,
       "position": {},
       "removed": false,
       "selectable": false,
       "selected": false
      }
     },
     "4dadf56d7ba74d0092a223c99a34c0f6": {
      "model_module": "jupyter-cytoscape",
      "model_module_version": "^1.3.3",
      "model_name": "EdgeModel",
      "state": {
       "_model_module": "jupyter-cytoscape",
       "_model_module_version": "^1.3.3",
       "_model_name": "EdgeModel",
       "_view_count": null,
       "_view_module": "jupyter-cytoscape",
       "_view_module_version": "^1.3.3",
       "_view_name": "EdgeView",
       "classes": " directed ",
       "data": {
        "source": "7747021505085688929",
        "target": "-1590934119349483542"
       },
       "pannable": true,
       "removed": false,
       "selectable": false,
       "selected": false
      }
     },
     "4ee58607d4b54145af504fa498951e7b": {
      "model_module": "jupyter-cytoscape",
      "model_module_version": "^1.3.3",
      "model_name": "EdgeModel",
      "state": {
       "_model_module": "jupyter-cytoscape",
       "_model_module_version": "^1.3.3",
       "_model_name": "EdgeModel",
       "_view_count": null,
       "_view_module": "jupyter-cytoscape",
       "_view_module_version": "^1.3.3",
       "_view_name": "EdgeView",
       "classes": " directed ",
       "data": {
        "source": "1825241767808187105",
        "target": "1806739397881816436"
       },
       "pannable": true,
       "removed": false,
       "selectable": false,
       "selected": false
      }
     },
     "4f686a262dc349c099fba0cdcd6d4410": {
      "model_module": "jupyter-cytoscape",
      "model_module_version": "^1.3.3",
      "model_name": "NodeModel",
      "state": {
       "_model_module": "jupyter-cytoscape",
       "_model_module_version": "^1.3.3",
       "_model_name": "NodeModel",
       "_view_count": null,
       "_view_module": "jupyter-cytoscape",
       "_view_module_version": "^1.3.3",
       "_view_name": "NodeView",
       "classes": "",
       "data": {
        "color": "gray",
        "id": "7928052208691557259",
        "label": "read-csv",
        "shape": "ellipse"
       },
       "grabbable": true,
       "grabbed": false,
       "locked": false,
       "pannable": false,
       "position": {},
       "removed": false,
       "selectable": false,
       "selected": false
      }
     },
     "4fc6e5dc9b4f4444ae5c6ad014ca0f2c": {
      "model_module": "jupyter-cytoscape",
      "model_module_version": "^1.3.3",
      "model_name": "NodeModel",
      "state": {
       "_model_module": "jupyter-cytoscape",
       "_model_module_version": "^1.3.3",
       "_model_name": "NodeModel",
       "_view_count": null,
       "_view_module": "jupyter-cytoscape",
       "_view_module_version": "^1.3.3",
       "_view_name": "NodeView",
       "classes": "",
       "data": {
        "color": "gray",
        "id": "-1504361749519469698",
        "label": "1",
        "shape": "rectangle"
       },
       "grabbable": true,
       "grabbed": false,
       "locked": false,
       "pannable": false,
       "position": {},
       "removed": false,
       "selectable": false,
       "selected": false
      }
     },
     "50edb6b55af543488bad8de2ed29825e": {
      "model_module": "jupyter-cytoscape",
      "model_module_version": "^1.3.3",
      "model_name": "EdgeModel",
      "state": {
       "_model_module": "jupyter-cytoscape",
       "_model_module_version": "^1.3.3",
       "_model_name": "EdgeModel",
       "_view_count": null,
       "_view_module": "jupyter-cytoscape",
       "_view_module_version": "^1.3.3",
       "_view_name": "EdgeView",
       "classes": " directed ",
       "data": {
        "source": "-1577547807921718100",
        "target": "866679953489950149"
       },
       "pannable": true,
       "removed": false,
       "selectable": false,
       "selected": false
      }
     },
     "51656beebd834ef49202bfae5c889e20": {
      "model_module": "jupyter-cytoscape",
      "model_module_version": "^1.3.3",
      "model_name": "NodeModel",
      "state": {
       "_model_module": "jupyter-cytoscape",
       "_model_module_version": "^1.3.3",
       "_model_name": "NodeModel",
       "_view_count": null,
       "_view_module": "jupyter-cytoscape",
       "_view_module_version": "^1.3.3",
       "_view_name": "NodeView",
       "classes": "",
       "data": {
        "color": "gray",
        "id": "992611241916121285",
        "label": "series-sum-chunk",
        "shape": "ellipse"
       },
       "grabbable": true,
       "grabbed": false,
       "locked": false,
       "pannable": false,
       "position": {},
       "removed": false,
       "selectable": false,
       "selected": false
      }
     },
     "51779a8c713f4800950e9b66ef75495c": {
      "model_module": "jupyter-cytoscape",
      "model_module_version": "^1.3.3",
      "model_name": "NodeModel",
      "state": {
       "_model_module": "jupyter-cytoscape",
       "_model_module_version": "^1.3.3",
       "_model_name": "NodeModel",
       "_view_count": null,
       "_view_module": "jupyter-cytoscape",
       "_view_module_version": "^1.3.3",
       "_view_name": "NodeView",
       "classes": "",
       "data": {
        "color": "gray",
        "id": "-663267682343184339",
        "label": "moment_agg-aggregate",
        "shape": "ellipse"
       },
       "grabbable": true,
       "grabbed": false,
       "locked": false,
       "pannable": false,
       "position": {},
       "removed": false,
       "selectable": false,
       "selected": false
      }
     },
     "5231656b299b417ca0b049e25182a2a7": {
      "model_module": "jupyter-cytoscape",
      "model_module_version": "^1.3.3",
      "model_name": "EdgeModel",
      "state": {
       "_model_module": "jupyter-cytoscape",
       "_model_module_version": "^1.3.3",
       "_model_name": "EdgeModel",
       "_view_count": null,
       "_view_module": "jupyter-cytoscape",
       "_view_module_version": "^1.3.3",
       "_view_name": "EdgeView",
       "classes": " directed ",
       "data": {
        "source": "-5456134517476523992",
        "target": "-602722291632583710"
       },
       "pannable": true,
       "removed": false,
       "selectable": false,
       "selected": false
      }
     },
     "53cef6bb6a2843eb9c18c5db1749c48e": {
      "model_module": "jupyter-cytoscape",
      "model_module_version": "^1.3.3",
      "model_name": "EdgeModel",
      "state": {
       "_model_module": "jupyter-cytoscape",
       "_model_module_version": "^1.3.3",
       "_model_name": "EdgeModel",
       "_view_count": null,
       "_view_module": "jupyter-cytoscape",
       "_view_module_version": "^1.3.3",
       "_view_name": "EdgeView",
       "classes": " directed ",
       "data": {
        "source": "8605751546238952959",
        "target": "-5698217577522588165"
       },
       "pannable": true,
       "removed": false,
       "selectable": false,
       "selected": false
      }
     },
     "54788175f10740ecb8a3e53cbbe89e7b": {
      "model_module": "jupyter-cytoscape",
      "model_module_version": "^1.3.3",
      "model_name": "NodeModel",
      "state": {
       "_model_module": "jupyter-cytoscape",
       "_model_module_version": "^1.3.3",
       "_model_name": "NodeModel",
       "_view_count": null,
       "_view_module": "jupyter-cytoscape",
       "_view_module_version": "^1.3.3",
       "_view_name": "NodeView",
       "classes": "",
       "data": {
        "color": "gray",
        "id": "1971374049919701818",
        "label": "7",
        "shape": "rectangle"
       },
       "grabbable": true,
       "grabbed": false,
       "locked": false,
       "pannable": false,
       "position": {},
       "removed": false,
       "selectable": false,
       "selected": false
      }
     },
     "54c70e54dbbe45b1a4fb40a48e83b35f": {
      "model_module": "jupyter-cytoscape",
      "model_module_version": "^1.3.3",
      "model_name": "EdgeModel",
      "state": {
       "_model_module": "jupyter-cytoscape",
       "_model_module_version": "^1.3.3",
       "_model_name": "EdgeModel",
       "_view_count": null,
       "_view_module": "jupyter-cytoscape",
       "_view_module_version": "^1.3.3",
       "_view_name": "EdgeView",
       "classes": " directed ",
       "data": {
        "source": "8916245433811452939",
        "target": "764358489235708751"
       },
       "pannable": true,
       "removed": false,
       "selectable": false,
       "selected": false
      }
     },
     "54e73430c80d46bd9d972468717b328b": {
      "model_module": "jupyter-cytoscape",
      "model_module_version": "^1.3.3",
      "model_name": "EdgeModel",
      "state": {
       "_model_module": "jupyter-cytoscape",
       "_model_module_version": "^1.3.3",
       "_model_name": "EdgeModel",
       "_view_count": null,
       "_view_module": "jupyter-cytoscape",
       "_view_module_version": "^1.3.3",
       "_view_name": "EdgeView",
       "classes": " directed ",
       "data": {
        "source": "8223199474119253484",
        "target": "-2217289018761885769"
       },
       "pannable": true,
       "removed": false,
       "selectable": false,
       "selected": false
      }
     },
     "5589c1860d484255a03925de493e2a9c": {
      "model_module": "jupyter-cytoscape",
      "model_module_version": "^1.3.3",
      "model_name": "NodeModel",
      "state": {
       "_model_module": "jupyter-cytoscape",
       "_model_module_version": "^1.3.3",
       "_model_name": "NodeModel",
       "_view_count": null,
       "_view_module": "jupyter-cytoscape",
       "_view_module_version": "^1.3.3",
       "_view_name": "NodeView",
       "classes": "",
       "data": {
        "color": "gray",
        "id": "-3923961495373117524",
        "label": "3",
        "shape": "rectangle"
       },
       "grabbable": true,
       "grabbed": false,
       "locked": false,
       "pannable": false,
       "position": {},
       "removed": false,
       "selectable": false,
       "selected": false
      }
     },
     "56aa98987d3e4411ae8cbe6198fcfa69": {
      "model_module": "jupyter-cytoscape",
      "model_module_version": "^1.3.3",
      "model_name": "NodeModel",
      "state": {
       "_model_module": "jupyter-cytoscape",
       "_model_module_version": "^1.3.3",
       "_model_name": "NodeModel",
       "_view_count": null,
       "_view_module": "jupyter-cytoscape",
       "_view_module_version": "^1.3.3",
       "_view_name": "NodeView",
       "classes": "",
       "data": {
        "color": "gray",
        "id": "575051168026576516",
        "label": "getitem",
        "shape": "ellipse"
       },
       "grabbable": true,
       "grabbed": false,
       "locked": false,
       "pannable": false,
       "position": {},
       "removed": false,
       "selectable": false,
       "selected": false
      }
     },
     "56f54b83b9db4678b416d93ea9646b3b": {
      "model_module": "jupyter-cytoscape",
      "model_module_version": "^1.3.3",
      "model_name": "NodeModel",
      "state": {
       "_model_module": "jupyter-cytoscape",
       "_model_module_version": "^1.3.3",
       "_model_name": "NodeModel",
       "_view_count": null,
       "_view_module": "jupyter-cytoscape",
       "_view_module_version": "^1.3.3",
       "_view_name": "NodeView",
       "classes": "",
       "data": {
        "color": "gray",
        "id": "7517906306098643055",
        "label": "read-csv",
        "shape": "ellipse"
       },
       "grabbable": true,
       "grabbed": false,
       "locked": false,
       "pannable": false,
       "position": {},
       "removed": false,
       "selectable": false,
       "selected": false
      }
     },
     "572c106c1c0c4ca4bee3a183f58994d9": {
      "model_module": "jupyter-cytoscape",
      "model_module_version": "^1.3.3",
      "model_name": "EdgeModel",
      "state": {
       "_model_module": "jupyter-cytoscape",
       "_model_module_version": "^1.3.3",
       "_model_name": "EdgeModel",
       "_view_count": null,
       "_view_module": "jupyter-cytoscape",
       "_view_module_version": "^1.3.3",
       "_view_name": "EdgeView",
       "classes": " directed ",
       "data": {
        "source": "6414545278971244909",
        "target": "-1504361749519469698"
       },
       "pannable": true,
       "removed": false,
       "selectable": false,
       "selected": false
      }
     },
     "5741d070af434069a1c559f1eb308d60": {
      "model_module": "jupyter-cytoscape",
      "model_module_version": "^1.3.3",
      "model_name": "NodeModel",
      "state": {
       "_model_module": "jupyter-cytoscape",
       "_model_module_version": "^1.3.3",
       "_model_name": "NodeModel",
       "_view_count": null,
       "_view_module": "jupyter-cytoscape",
       "_view_module_version": "^1.3.3",
       "_view_name": "NodeView",
       "classes": "",
       "data": {
        "color": "gray",
        "id": "3811859984346790868",
        "label": "getitem",
        "shape": "ellipse"
       },
       "grabbable": true,
       "grabbed": false,
       "locked": false,
       "pannable": false,
       "position": {},
       "removed": false,
       "selectable": false,
       "selected": false
      }
     },
     "57df9462aadd4dae8fb419c29baed62f": {
      "model_module": "jupyter-cytoscape",
      "model_module_version": "^1.3.3",
      "model_name": "EdgeModel",
      "state": {
       "_model_module": "jupyter-cytoscape",
       "_model_module_version": "^1.3.3",
       "_model_name": "EdgeModel",
       "_view_count": null,
       "_view_module": "jupyter-cytoscape",
       "_view_module_version": "^1.3.3",
       "_view_name": "EdgeView",
       "classes": " directed ",
       "data": {
        "source": "3134314508179859034",
        "target": "4253843718629060011"
       },
       "pannable": true,
       "removed": false,
       "selectable": false,
       "selected": false
      }
     },
     "5803ddc68bb14c17ab631973f8f467ad": {
      "model_module": "jupyter-cytoscape",
      "model_module_version": "^1.3.3",
      "model_name": "NodeModel",
      "state": {
       "_model_module": "jupyter-cytoscape",
       "_model_module_version": "^1.3.3",
       "_model_name": "NodeModel",
       "_view_count": null,
       "_view_module": "jupyter-cytoscape",
       "_view_module_version": "^1.3.3",
       "_view_name": "NodeView",
       "classes": "",
       "data": {
        "color": "gray",
        "id": "2408604677709454514",
        "label": "1",
        "shape": "rectangle"
       },
       "grabbable": true,
       "grabbed": false,
       "locked": false,
       "pannable": false,
       "position": {},
       "removed": false,
       "selectable": false,
       "selected": false
      }
     },
     "588120af79f3419cab90827b8000f23e": {
      "model_module": "jupyter-cytoscape",
      "model_module_version": "^1.3.3",
      "model_name": "EdgeModel",
      "state": {
       "_model_module": "jupyter-cytoscape",
       "_model_module_version": "^1.3.3",
       "_model_name": "EdgeModel",
       "_view_count": null,
       "_view_module": "jupyter-cytoscape",
       "_view_module_version": "^1.3.3",
       "_view_name": "EdgeView",
       "classes": " directed ",
       "data": {
        "source": "4748881235309161093",
        "target": "4253843718629060011"
       },
       "pannable": true,
       "removed": false,
       "selectable": false,
       "selected": false
      }
     },
     "5885e95248c947adad96e208240b30f7": {
      "model_module": "jupyter-cytoscape",
      "model_module_version": "^1.3.3",
      "model_name": "NodeModel",
      "state": {
       "_model_module": "jupyter-cytoscape",
       "_model_module_version": "^1.3.3",
       "_model_name": "NodeModel",
       "_view_count": null,
       "_view_module": "jupyter-cytoscape",
       "_view_module_version": "^1.3.3",
       "_view_name": "NodeView",
       "classes": "",
       "data": {
        "color": "gray",
        "id": "-7987099058694741148",
        "label": "getitem",
        "shape": "ellipse"
       },
       "grabbable": true,
       "grabbed": false,
       "locked": false,
       "pannable": false,
       "position": {},
       "removed": false,
       "selectable": false,
       "selected": false
      }
     },
     "5a1d924750ee4dc9adbb2699363c8b38": {
      "model_module": "jupyter-cytoscape",
      "model_module_version": "^1.3.3",
      "model_name": "NodeModel",
      "state": {
       "_model_module": "jupyter-cytoscape",
       "_model_module_version": "^1.3.3",
       "_model_name": "NodeModel",
       "_view_count": null,
       "_view_module": "jupyter-cytoscape",
       "_view_module_version": "^1.3.3",
       "_view_name": "NodeView",
       "classes": "",
       "data": {
        "color": "gray",
        "id": "-6186390191412642330",
        "label": "0",
        "shape": "rectangle"
       },
       "grabbable": true,
       "grabbed": false,
       "locked": false,
       "pannable": false,
       "position": {},
       "removed": false,
       "selectable": false,
       "selected": false
      }
     },
     "5af606e895414f368418296aae8b93cb": {
      "model_module": "jupyter-cytoscape",
      "model_module_version": "^1.3.3",
      "model_name": "EdgeModel",
      "state": {
       "_model_module": "jupyter-cytoscape",
       "_model_module_version": "^1.3.3",
       "_model_name": "EdgeModel",
       "_view_count": null,
       "_view_module": "jupyter-cytoscape",
       "_view_module_version": "^1.3.3",
       "_view_name": "EdgeView",
       "classes": " directed ",
       "data": {
        "source": "7779183629499692727",
        "target": "764358489235708751"
       },
       "pannable": true,
       "removed": false,
       "selectable": false,
       "selected": false
      }
     },
     "5b7bb476e2d247ddb4ceb562c3f72057": {
      "model_module": "jupyter-cytoscape",
      "model_module_version": "^1.3.3",
      "model_name": "NodeModel",
      "state": {
       "_model_module": "jupyter-cytoscape",
       "_model_module_version": "^1.3.3",
       "_model_name": "NodeModel",
       "_view_count": null,
       "_view_module": "jupyter-cytoscape",
       "_view_module_version": "^1.3.3",
       "_view_name": "NodeView",
       "classes": "",
       "data": {
        "color": "gray",
        "id": "5003279006582528727",
        "label": "2",
        "shape": "rectangle"
       },
       "grabbable": true,
       "grabbed": false,
       "locked": false,
       "pannable": false,
       "position": {},
       "removed": false,
       "selectable": false,
       "selected": false
      }
     },
     "5da71737d8614f4dbbf969c4998806d2": {
      "model_module": "jupyter-cytoscape",
      "model_module_version": "^1.3.3",
      "model_name": "EdgeModel",
      "state": {
       "_model_module": "jupyter-cytoscape",
       "_model_module_version": "^1.3.3",
       "_model_name": "EdgeModel",
       "_view_count": null,
       "_view_module": "jupyter-cytoscape",
       "_view_module_version": "^1.3.3",
       "_view_name": "EdgeView",
       "classes": " directed ",
       "data": {
        "source": "-2477825641932771891",
        "target": "-7190222082298392098"
       },
       "pannable": true,
       "removed": false,
       "selectable": false,
       "selected": false
      }
     },
     "5e1f32c4dca343e3be528b6fd40e10a7": {
      "model_module": "jupyter-cytoscape",
      "model_module_version": "^1.3.3",
      "model_name": "EdgeModel",
      "state": {
       "_model_module": "jupyter-cytoscape",
       "_model_module_version": "^1.3.3",
       "_model_name": "EdgeModel",
       "_view_count": null,
       "_view_module": "jupyter-cytoscape",
       "_view_module_version": "^1.3.3",
       "_view_name": "EdgeView",
       "classes": " directed ",
       "data": {
        "source": "-3022857883796100252",
        "target": "-39768415912864291"
       },
       "pannable": true,
       "removed": false,
       "selectable": false,
       "selected": false
      }
     },
     "5e4b5ef78a51462d86589bc04d63beeb": {
      "model_module": "jupyter-cytoscape",
      "model_module_version": "^1.3.3",
      "model_name": "EdgeModel",
      "state": {
       "_model_module": "jupyter-cytoscape",
       "_model_module_version": "^1.3.3",
       "_model_name": "EdgeModel",
       "_view_count": null,
       "_view_module": "jupyter-cytoscape",
       "_view_module_version": "^1.3.3",
       "_view_name": "EdgeView",
       "classes": " directed ",
       "data": {
        "source": "1025920426234346989",
        "target": "1414455332003116891"
       },
       "pannable": true,
       "removed": false,
       "selectable": false,
       "selected": false
      }
     },
     "5e8c4d5707fe4df19c4c5f4571d19300": {
      "model_module": "@jupyter-widgets/base",
      "model_module_version": "2.0.0",
      "model_name": "LayoutModel",
      "state": {
       "_model_module": "@jupyter-widgets/base",
       "_model_module_version": "2.0.0",
       "_model_name": "LayoutModel",
       "_view_count": null,
       "_view_module": "@jupyter-widgets/base",
       "_view_module_version": "2.0.0",
       "_view_name": "LayoutView",
       "align_content": null,
       "align_items": null,
       "align_self": null,
       "border_bottom": null,
       "border_left": null,
       "border_right": null,
       "border_top": null,
       "bottom": null,
       "display": null,
       "flex": null,
       "flex_flow": null,
       "grid_area": null,
       "grid_auto_columns": null,
       "grid_auto_flow": null,
       "grid_auto_rows": null,
       "grid_column": null,
       "grid_gap": null,
       "grid_row": null,
       "grid_template_areas": null,
       "grid_template_columns": null,
       "grid_template_rows": null,
       "height": "400px",
       "justify_content": null,
       "justify_items": null,
       "left": null,
       "margin": null,
       "max_height": null,
       "max_width": null,
       "min_height": null,
       "min_width": null,
       "object_fit": null,
       "object_position": null,
       "order": null,
       "overflow": null,
       "padding": null,
       "right": null,
       "top": null,
       "visibility": null,
       "width": null
      }
     },
     "5ff49e84cdf24fc79c5d659f704cefb0": {
      "model_module": "jupyter-cytoscape",
      "model_module_version": "^1.3.3",
      "model_name": "NodeModel",
      "state": {
       "_model_module": "jupyter-cytoscape",
       "_model_module_version": "^1.3.3",
       "_model_name": "NodeModel",
       "_view_count": null,
       "_view_module": "jupyter-cytoscape",
       "_view_module_version": "^1.3.3",
       "_view_name": "NodeView",
       "classes": "",
       "data": {
        "color": "gray",
        "id": "-212378624325725102",
        "label": "values",
        "shape": "ellipse"
       },
       "grabbable": true,
       "grabbed": false,
       "locked": false,
       "pannable": false,
       "position": {},
       "removed": false,
       "selectable": false,
       "selected": false
      }
     },
     "60364a94599e4f4a931d2207a609adca": {
      "model_module": "jupyter-cytoscape",
      "model_module_version": "^1.3.3",
      "model_name": "EdgeModel",
      "state": {
       "_model_module": "jupyter-cytoscape",
       "_model_module_version": "^1.3.3",
       "_model_name": "EdgeModel",
       "_view_count": null,
       "_view_module": "jupyter-cytoscape",
       "_view_module_version": "^1.3.3",
       "_view_name": "EdgeView",
       "classes": " directed ",
       "data": {
        "source": "1329076762929615770",
        "target": "-8063163206826232081"
       },
       "pannable": true,
       "removed": false,
       "selectable": false,
       "selected": false
      }
     },
     "604417127dff480a85cd4f4e38df0df2": {
      "model_module": "jupyter-cytoscape",
      "model_module_version": "^1.3.3",
      "model_name": "EdgeModel",
      "state": {
       "_model_module": "jupyter-cytoscape",
       "_model_module_version": "^1.3.3",
       "_model_name": "EdgeModel",
       "_view_count": null,
       "_view_module": "jupyter-cytoscape",
       "_view_module_version": "^1.3.3",
       "_view_name": "EdgeView",
       "classes": " directed ",
       "data": {
        "source": "3826169044918862648",
        "target": "3811859984346790868"
       },
       "pannable": true,
       "removed": false,
       "selectable": false,
       "selected": false
      }
     },
     "60cc1a5b90534a279de7a5f995c71238": {
      "model_module": "jupyter-cytoscape",
      "model_module_version": "^1.3.3",
      "model_name": "EdgeModel",
      "state": {
       "_model_module": "jupyter-cytoscape",
       "_model_module_version": "^1.3.3",
       "_model_name": "EdgeModel",
       "_view_count": null,
       "_view_module": "jupyter-cytoscape",
       "_view_module_version": "^1.3.3",
       "_view_name": "EdgeView",
       "classes": " directed ",
       "data": {
        "source": "4607584064773010077",
        "target": "-8063163206826232081"
       },
       "pannable": true,
       "removed": false,
       "selectable": false,
       "selected": false
      }
     },
     "60e66799e2874480bdd5f1761666837d": {
      "model_module": "jupyter-cytoscape",
      "model_module_version": "^1.3.3",
      "model_name": "NodeModel",
      "state": {
       "_model_module": "jupyter-cytoscape",
       "_model_module_version": "^1.3.3",
       "_model_name": "NodeModel",
       "_view_count": null,
       "_view_module": "jupyter-cytoscape",
       "_view_module_version": "^1.3.3",
       "_view_name": "NodeView",
       "classes": "",
       "data": {
        "color": "gray",
        "id": "7922096088105115316",
        "label": "9",
        "shape": "rectangle"
       },
       "grabbable": true,
       "grabbed": false,
       "locked": false,
       "pannable": false,
       "position": {},
       "removed": false,
       "selectable": false,
       "selected": false
      }
     },
     "61a97d1d74b04bfaa54b088c55604c07": {
      "model_module": "jupyter-cytoscape",
      "model_module_version": "^1.3.3",
      "model_name": "EdgeModel",
      "state": {
       "_model_module": "jupyter-cytoscape",
       "_model_module_version": "^1.3.3",
       "_model_name": "EdgeModel",
       "_view_count": null,
       "_view_module": "jupyter-cytoscape",
       "_view_module_version": "^1.3.3",
       "_view_name": "EdgeView",
       "classes": " directed ",
       "data": {
        "source": "-5297096306931048472",
        "target": "4290351737340112656"
       },
       "pannable": true,
       "removed": false,
       "selectable": false,
       "selected": false
      }
     },
     "62b06da5198e4d3e87e65d721dbe7b68": {
      "model_module": "jupyter-cytoscape",
      "model_module_version": "^1.3.3",
      "model_name": "EdgeModel",
      "state": {
       "_model_module": "jupyter-cytoscape",
       "_model_module_version": "^1.3.3",
       "_model_name": "EdgeModel",
       "_view_count": null,
       "_view_module": "jupyter-cytoscape",
       "_view_module_version": "^1.3.3",
       "_view_name": "EdgeView",
       "classes": " directed ",
       "data": {
        "source": "866679953489950149",
        "target": "-2293980137310216365"
       },
       "pannable": true,
       "removed": false,
       "selectable": false,
       "selected": false
      }
     },
     "6337843d06e348f0a91d09c842aee5e7": {
      "model_module": "jupyter-cytoscape",
      "model_module_version": "^1.3.3",
      "model_name": "NodeModel",
      "state": {
       "_model_module": "jupyter-cytoscape",
       "_model_module_version": "^1.3.3",
       "_model_name": "NodeModel",
       "_view_count": null,
       "_view_module": "jupyter-cytoscape",
       "_view_module_version": "^1.3.3",
       "_view_name": "NodeView",
       "classes": "",
       "data": {
        "color": "gray",
        "id": "8916245433811452939",
        "label": "2",
        "shape": "rectangle"
       },
       "grabbable": true,
       "grabbed": false,
       "locked": false,
       "pannable": false,
       "position": {},
       "removed": false,
       "selectable": false,
       "selected": false
      }
     },
     "633cc40ae1cf41efb8ce11e3078324c3": {
      "model_module": "jupyter-cytoscape",
      "model_module_version": "^1.3.3",
      "model_name": "EdgeModel",
      "state": {
       "_model_module": "jupyter-cytoscape",
       "_model_module_version": "^1.3.3",
       "_model_name": "EdgeModel",
       "_view_count": null,
       "_view_module": "jupyter-cytoscape",
       "_view_module_version": "^1.3.3",
       "_view_name": "EdgeView",
       "classes": " directed ",
       "data": {
        "source": "-670176931600447666",
        "target": "-8012002505621468123"
       },
       "pannable": true,
       "removed": false,
       "selectable": false,
       "selected": false
      }
     },
     "6398fdbaccee48cdac7facd4f66c92f4": {
      "model_module": "jupyter-cytoscape",
      "model_module_version": "^1.3.3",
      "model_name": "NodeModel",
      "state": {
       "_model_module": "jupyter-cytoscape",
       "_model_module_version": "^1.3.3",
       "_model_name": "NodeModel",
       "_view_count": null,
       "_view_module": "jupyter-cytoscape",
       "_view_module_version": "^1.3.3",
       "_view_name": "NodeView",
       "classes": "",
       "data": {
        "color": "gray",
        "id": "1271542873397694302",
        "label": "1",
        "shape": "rectangle"
       },
       "grabbable": true,
       "grabbed": false,
       "locked": false,
       "pannable": false,
       "position": {},
       "removed": false,
       "selectable": false,
       "selected": false
      }
     },
     "64a47234b8f9401cad19ece0837de7e9": {
      "model_module": "jupyter-cytoscape",
      "model_module_version": "^1.3.3",
      "model_name": "EdgeModel",
      "state": {
       "_model_module": "jupyter-cytoscape",
       "_model_module_version": "^1.3.3",
       "_model_name": "EdgeModel",
       "_view_count": null,
       "_view_module": "jupyter-cytoscape",
       "_view_module_version": "^1.3.3",
       "_view_name": "EdgeView",
       "classes": " directed ",
       "data": {
        "source": "883733964526077721",
        "target": "-8063163206826232081"
       },
       "pannable": true,
       "removed": false,
       "selectable": false,
       "selected": false
      }
     },
     "64af10980cd0427ab8beef5ef082a1ff": {
      "model_module": "jupyter-cytoscape",
      "model_module_version": "^1.3.3",
      "model_name": "EdgeModel",
      "state": {
       "_model_module": "jupyter-cytoscape",
       "_model_module_version": "^1.3.3",
       "_model_name": "EdgeModel",
       "_view_count": null,
       "_view_module": "jupyter-cytoscape",
       "_view_module_version": "^1.3.3",
       "_view_name": "EdgeView",
       "classes": " directed ",
       "data": {
        "source": "3834055077856764717",
        "target": "9071825154878735432"
       },
       "pannable": true,
       "removed": false,
       "selectable": false,
       "selected": false
      }
     },
     "65c31ba386c94fe59d69f94cd09e4651": {
      "model_module": "jupyter-cytoscape",
      "model_module_version": "^1.3.3",
      "model_name": "EdgeModel",
      "state": {
       "_model_module": "jupyter-cytoscape",
       "_model_module_version": "^1.3.3",
       "_model_name": "EdgeModel",
       "_view_count": null,
       "_view_module": "jupyter-cytoscape",
       "_view_module_version": "^1.3.3",
       "_view_name": "EdgeView",
       "classes": " directed ",
       "data": {
        "source": "5003279006582528727",
        "target": "8223199474119253484"
       },
       "pannable": true,
       "removed": false,
       "selectable": false,
       "selected": false
      }
     },
     "6778353dc2f9467391bbe703ee24c9dc": {
      "model_module": "jupyter-cytoscape",
      "model_module_version": "^1.3.3",
      "model_name": "NodeModel",
      "state": {
       "_model_module": "jupyter-cytoscape",
       "_model_module_version": "^1.3.3",
       "_model_name": "NodeModel",
       "_view_count": null,
       "_view_module": "jupyter-cytoscape",
       "_view_module_version": "^1.3.3",
       "_view_name": "NodeView",
       "classes": "",
       "data": {
        "color": "gray",
        "id": "-1590934119349483542",
        "label": "getitem",
        "shape": "ellipse"
       },
       "grabbable": true,
       "grabbed": false,
       "locked": false,
       "pannable": false,
       "position": {},
       "removed": false,
       "selectable": false,
       "selected": false
      }
     },
     "677c94b3cdbd41d8bea5f5dc6c5bc895": {
      "model_module": "jupyter-cytoscape",
      "model_module_version": "^1.3.3",
      "model_name": "EdgeModel",
      "state": {
       "_model_module": "jupyter-cytoscape",
       "_model_module_version": "^1.3.3",
       "_model_name": "EdgeModel",
       "_view_count": null,
       "_view_module": "jupyter-cytoscape",
       "_view_module_version": "^1.3.3",
       "_view_name": "EdgeView",
       "classes": " directed ",
       "data": {
        "source": "-1752476050327230538",
        "target": "9010629266471555102"
       },
       "pannable": true,
       "removed": false,
       "selectable": false,
       "selected": false
      }
     },
     "67ce4e4c05144bdf8de9c2416554d229": {
      "model_module": "jupyter-cytoscape",
      "model_module_version": "^1.3.3",
      "model_name": "NodeModel",
      "state": {
       "_model_module": "jupyter-cytoscape",
       "_model_module_version": "^1.3.3",
       "_model_name": "NodeModel",
       "_view_count": null,
       "_view_module": "jupyter-cytoscape",
       "_view_module_version": "^1.3.3",
       "_view_name": "NodeView",
       "classes": "",
       "data": {
        "color": "gray",
        "id": "-2309394768243815465",
        "label": "5",
        "shape": "rectangle"
       },
       "grabbable": true,
       "grabbed": false,
       "locked": false,
       "pannable": false,
       "position": {},
       "removed": false,
       "selectable": false,
       "selected": false
      }
     },
     "67dae8ead19e4b32b58a38c6e1149053": {
      "model_module": "jupyter-cytoscape",
      "model_module_version": "^1.3.3",
      "model_name": "EdgeModel",
      "state": {
       "_model_module": "jupyter-cytoscape",
       "_model_module_version": "^1.3.3",
       "_model_name": "EdgeModel",
       "_view_count": null,
       "_view_module": "jupyter-cytoscape",
       "_view_module_version": "^1.3.3",
       "_view_name": "EdgeView",
       "classes": " directed ",
       "data": {
        "source": "-5386689872228905767",
        "target": "2600400115267304963"
       },
       "pannable": true,
       "removed": false,
       "selectable": false,
       "selected": false
      }
     },
     "68695535a92242dd97003d278cf0157e": {
      "model_module": "jupyter-cytoscape",
      "model_module_version": "^1.3.3",
      "model_name": "NodeModel",
      "state": {
       "_model_module": "jupyter-cytoscape",
       "_model_module_version": "^1.3.3",
       "_model_name": "NodeModel",
       "_view_count": null,
       "_view_module": "jupyter-cytoscape",
       "_view_module_version": "^1.3.3",
       "_view_name": "NodeView",
       "classes": "",
       "data": {
        "color": "gray",
        "id": "-1758759520792837332",
        "label": "5",
        "shape": "rectangle"
       },
       "grabbable": true,
       "grabbed": false,
       "locked": false,
       "pannable": false,
       "position": {},
       "removed": false,
       "selectable": false,
       "selected": false
      }
     },
     "69bf255f944f44e9b25e315195f4cfc6": {
      "model_module": "jupyter-cytoscape",
      "model_module_version": "^1.3.3",
      "model_name": "NodeModel",
      "state": {
       "_model_module": "jupyter-cytoscape",
       "_model_module_version": "^1.3.3",
       "_model_name": "NodeModel",
       "_view_count": null,
       "_view_module": "jupyter-cytoscape",
       "_view_module_version": "^1.3.3",
       "_view_name": "NodeView",
       "classes": "",
       "data": {
        "color": "gray",
        "id": "-1917110702365115920",
        "label": "5",
        "shape": "rectangle"
       },
       "grabbable": true,
       "grabbed": false,
       "locked": false,
       "pannable": false,
       "position": {},
       "removed": false,
       "selectable": false,
       "selected": false
      }
     },
     "6a99b4491b184255a37789478fd96e27": {
      "model_module": "jupyter-cytoscape",
      "model_module_version": "^1.3.3",
      "model_name": "NodeModel",
      "state": {
       "_model_module": "jupyter-cytoscape",
       "_model_module_version": "^1.3.3",
       "_model_name": "NodeModel",
       "_view_count": null,
       "_view_module": "jupyter-cytoscape",
       "_view_module_version": "^1.3.3",
       "_view_name": "NodeView",
       "classes": "",
       "data": {
        "color": "gray",
        "id": "-39768415912864291",
        "label": "getitem",
        "shape": "ellipse"
       },
       "grabbable": true,
       "grabbed": false,
       "locked": false,
       "pannable": false,
       "position": {},
       "removed": false,
       "selectable": false,
       "selected": false
      }
     },
     "6aa8c27524af48729bc4cb9c96776935": {
      "model_module": "jupyter-cytoscape",
      "model_module_version": "^1.3.3",
      "model_name": "NodeModel",
      "state": {
       "_model_module": "jupyter-cytoscape",
       "_model_module_version": "^1.3.3",
       "_model_name": "NodeModel",
       "_view_count": null,
       "_view_module": "jupyter-cytoscape",
       "_view_module_version": "^1.3.3",
       "_view_name": "NodeView",
       "classes": "",
       "data": {
        "color": "gray",
        "id": "-4192081812521864262",
        "label": "7",
        "shape": "rectangle"
       },
       "grabbable": true,
       "grabbed": false,
       "locked": false,
       "pannable": false,
       "position": {},
       "removed": false,
       "selectable": false,
       "selected": false
      }
     },
     "6acaed91328641538b0319e9fb9a999b": {
      "model_module": "jupyter-cytoscape",
      "model_module_version": "^1.3.3",
      "model_name": "EdgeModel",
      "state": {
       "_model_module": "jupyter-cytoscape",
       "_model_module_version": "^1.3.3",
       "_model_name": "EdgeModel",
       "_view_count": null,
       "_view_module": "jupyter-cytoscape",
       "_view_module_version": "^1.3.3",
       "_view_name": "EdgeView",
       "classes": " directed ",
       "data": {
        "source": "7747021505085688929",
        "target": "-3252091668141381369"
       },
       "pannable": true,
       "removed": false,
       "selectable": false,
       "selected": false
      }
     },
     "6b1a0dcfbad644f0a9feff2554e785d6": {
      "model_module": "jupyter-cytoscape",
      "model_module_version": "^1.3.3",
      "model_name": "EdgeModel",
      "state": {
       "_model_module": "jupyter-cytoscape",
       "_model_module_version": "^1.3.3",
       "_model_name": "EdgeModel",
       "_view_count": null,
       "_view_module": "jupyter-cytoscape",
       "_view_module_version": "^1.3.3",
       "_view_name": "EdgeView",
       "classes": " directed ",
       "data": {
        "source": "-6746707984043032608",
        "target": "2605324806656602436"
       },
       "pannable": true,
       "removed": false,
       "selectable": false,
       "selected": false
      }
     },
     "6b5bd988ebb2487e8f75ad6b02d12384": {
      "model_module": "jupyter-cytoscape",
      "model_module_version": "^1.3.3",
      "model_name": "NodeModel",
      "state": {
       "_model_module": "jupyter-cytoscape",
       "_model_module_version": "^1.3.3",
       "_model_name": "NodeModel",
       "_view_count": null,
       "_view_module": "jupyter-cytoscape",
       "_view_module_version": "^1.3.3",
       "_view_name": "NodeView",
       "classes": "",
       "data": {
        "color": "gray",
        "id": "-5457376334100299777",
        "label": "7",
        "shape": "rectangle"
       },
       "grabbable": true,
       "grabbed": false,
       "locked": false,
       "pannable": false,
       "position": {},
       "removed": false,
       "selectable": false,
       "selected": false
      }
     },
     "6bcf9c6542c4418b8f7da86cec079b64": {
      "model_module": "jupyter-cytoscape",
      "model_module_version": "^1.3.3",
      "model_name": "EdgeModel",
      "state": {
       "_model_module": "jupyter-cytoscape",
       "_model_module_version": "^1.3.3",
       "_model_name": "EdgeModel",
       "_view_count": null,
       "_view_module": "jupyter-cytoscape",
       "_view_module_version": "^1.3.3",
       "_view_name": "EdgeView",
       "classes": " directed ",
       "data": {
        "source": "-7190222082298392098",
        "target": "4253843718629060011"
       },
       "pannable": true,
       "removed": false,
       "selectable": false,
       "selected": false
      }
     },
     "6c794da993354ac2bdcb475402511ba0": {
      "model_module": "jupyter-cytoscape",
      "model_module_version": "^1.3.3",
      "model_name": "EdgeModel",
      "state": {
       "_model_module": "jupyter-cytoscape",
       "_model_module_version": "^1.3.3",
       "_model_name": "EdgeModel",
       "_view_count": null,
       "_view_module": "jupyter-cytoscape",
       "_view_module_version": "^1.3.3",
       "_view_name": "EdgeView",
       "classes": " directed ",
       "data": {
        "source": "1506561081485046587",
        "target": "4470334990377653832"
       },
       "pannable": true,
       "removed": false,
       "selectable": false,
       "selected": false
      }
     },
     "6ccded5e431a4a918eb8b9bbd4dc82bb": {
      "model_module": "jupyter-cytoscape",
      "model_module_version": "^1.3.3",
      "model_name": "EdgeModel",
      "state": {
       "_model_module": "jupyter-cytoscape",
       "_model_module_version": "^1.3.3",
       "_model_name": "EdgeModel",
       "_view_count": null,
       "_view_module": "jupyter-cytoscape",
       "_view_module_version": "^1.3.3",
       "_view_name": "EdgeView",
       "classes": " directed ",
       "data": {
        "source": "4470334990377653832",
        "target": "-1917110702365115920"
       },
       "pannable": true,
       "removed": false,
       "selectable": false,
       "selected": false
      }
     },
     "6cd6031b694d4a7387f79170bdf192df": {
      "model_module": "jupyter-cytoscape",
      "model_module_version": "^1.3.3",
      "model_name": "NodeModel",
      "state": {
       "_model_module": "jupyter-cytoscape",
       "_model_module_version": "^1.3.3",
       "_model_name": "NodeModel",
       "_view_count": null,
       "_view_module": "jupyter-cytoscape",
       "_view_module_version": "^1.3.3",
       "_view_name": "NodeView",
       "classes": "",
       "data": {
        "color": "gray",
        "id": "-7442966856528857301",
        "label": "series-sum-chunk",
        "shape": "ellipse"
       },
       "grabbable": true,
       "grabbed": false,
       "locked": false,
       "pannable": false,
       "position": {},
       "removed": false,
       "selectable": false,
       "selected": false
      }
     },
     "6cf873c2bb2240698e3c0eeae398d2c5": {
      "model_module": "jupyter-cytoscape",
      "model_module_version": "^1.3.3",
      "model_name": "EdgeModel",
      "state": {
       "_model_module": "jupyter-cytoscape",
       "_model_module_version": "^1.3.3",
       "_model_name": "EdgeModel",
       "_view_count": null,
       "_view_module": "jupyter-cytoscape",
       "_view_module_version": "^1.3.3",
       "_view_name": "EdgeView",
       "classes": " directed ",
       "data": {
        "source": "1801197901508029394",
        "target": "5924388634500531897"
       },
       "pannable": true,
       "removed": false,
       "selectable": false,
       "selected": false
      }
     },
     "6d693afb4efc4b949ec4a3e53d1d5c3c": {
      "model_module": "jupyter-cytoscape",
      "model_module_version": "^1.3.3",
      "model_name": "EdgeModel",
      "state": {
       "_model_module": "jupyter-cytoscape",
       "_model_module_version": "^1.3.3",
       "_model_name": "EdgeModel",
       "_view_count": null,
       "_view_module": "jupyter-cytoscape",
       "_view_module_version": "^1.3.3",
       "_view_name": "EdgeView",
       "classes": " directed ",
       "data": {
        "source": "3438360136047246067",
        "target": "-8063163206826232081"
       },
       "pannable": true,
       "removed": false,
       "selectable": false,
       "selected": false
      }
     },
     "6ec8f114a6494ecdb79b8e121f11807b": {
      "model_module": "jupyter-cytoscape",
      "model_module_version": "^1.3.3",
      "model_name": "EdgeModel",
      "state": {
       "_model_module": "jupyter-cytoscape",
       "_model_module_version": "^1.3.3",
       "_model_name": "EdgeModel",
       "_view_count": null,
       "_view_module": "jupyter-cytoscape",
       "_view_module_version": "^1.3.3",
       "_view_name": "EdgeView",
       "classes": " directed ",
       "data": {
        "source": "-7647811595620049880",
        "target": "8732954314272609096"
       },
       "pannable": true,
       "removed": false,
       "selectable": false,
       "selected": false
      }
     },
     "6f5663f52c3c4bbf92b354f1f468c661": {
      "model_module": "jupyter-cytoscape",
      "model_module_version": "^1.3.3",
      "model_name": "EdgeModel",
      "state": {
       "_model_module": "jupyter-cytoscape",
       "_model_module_version": "^1.3.3",
       "_model_name": "EdgeModel",
       "_view_count": null,
       "_view_module": "jupyter-cytoscape",
       "_view_module_version": "^1.3.3",
       "_view_name": "EdgeView",
       "classes": " directed ",
       "data": {
        "source": "-4131163025680017294",
        "target": "5052926863176548126"
       },
       "pannable": true,
       "removed": false,
       "selectable": false,
       "selected": false
      }
     },
     "6fe9205968514f0fa4f20cb2caa1c5db": {
      "model_module": "jupyter-cytoscape",
      "model_module_version": "^1.3.3",
      "model_name": "NodeModel",
      "state": {
       "_model_module": "jupyter-cytoscape",
       "_model_module_version": "^1.3.3",
       "_model_name": "NodeModel",
       "_view_count": null,
       "_view_module": "jupyter-cytoscape",
       "_view_module_version": "^1.3.3",
       "_view_name": "NodeView",
       "classes": "",
       "data": {
        "color": "gray",
        "id": "6431646596407187287",
        "label": "moment_chunk",
        "shape": "ellipse"
       },
       "grabbable": true,
       "grabbed": false,
       "locked": false,
       "pannable": false,
       "position": {},
       "removed": false,
       "selectable": false,
       "selected": false
      }
     },
     "71a73957937949d4a7bba04223fef2d2": {
      "model_module": "jupyter-cytoscape",
      "model_module_version": "^1.3.3",
      "model_name": "EdgeModel",
      "state": {
       "_model_module": "jupyter-cytoscape",
       "_model_module_version": "^1.3.3",
       "_model_name": "EdgeModel",
       "_view_count": null,
       "_view_module": "jupyter-cytoscape",
       "_view_module_version": "^1.3.3",
       "_view_name": "EdgeView",
       "classes": " directed ",
       "data": {
        "source": "-1504361749519469698",
        "target": "5919059534575370945"
       },
       "pannable": true,
       "removed": false,
       "selectable": false,
       "selected": false
      }
     },
     "72db3e7359a34f019cb3b5b8f057704b": {
      "model_module": "jupyter-cytoscape",
      "model_module_version": "^1.3.3",
      "model_name": "NodeModel",
      "state": {
       "_model_module": "jupyter-cytoscape",
       "_model_module_version": "^1.3.3",
       "_model_name": "NodeModel",
       "_view_count": null,
       "_view_module": "jupyter-cytoscape",
       "_view_module_version": "^1.3.3",
       "_view_name": "NodeView",
       "classes": "",
       "data": {
        "color": "gray",
        "id": "-3335114992322814551",
        "label": "series-count-chunk",
        "shape": "ellipse"
       },
       "grabbable": true,
       "grabbed": false,
       "locked": false,
       "pannable": false,
       "position": {},
       "removed": false,
       "selectable": false,
       "selected": false
      }
     },
     "72f0900d5f344e6eb37bafb0f6b59e3d": {
      "model_module": "jupyter-cytoscape",
      "model_module_version": "^1.3.3",
      "model_name": "EdgeModel",
      "state": {
       "_model_module": "jupyter-cytoscape",
       "_model_module_version": "^1.3.3",
       "_model_name": "EdgeModel",
       "_view_count": null,
       "_view_module": "jupyter-cytoscape",
       "_view_module_version": "^1.3.3",
       "_view_name": "EdgeView",
       "classes": " directed ",
       "data": {
        "source": "-6975872468376930331",
        "target": "3652821773801315348"
       },
       "pannable": true,
       "removed": false,
       "selectable": false,
       "selected": false
      }
     },
     "7314b33bd7224da08cdb43208778c087": {
      "model_module": "jupyter-cytoscape",
      "model_module_version": "^1.3.3",
      "model_name": "EdgeModel",
      "state": {
       "_model_module": "jupyter-cytoscape",
       "_model_module_version": "^1.3.3",
       "_model_name": "EdgeModel",
       "_view_count": null,
       "_view_module": "jupyter-cytoscape",
       "_view_module_version": "^1.3.3",
       "_view_name": "EdgeView",
       "classes": " directed ",
       "data": {
        "source": "-8239909098176156409",
        "target": "6609959700773928717"
       },
       "pannable": true,
       "removed": false,
       "selectable": false,
       "selected": false
      }
     },
     "73470d045cbe44e3bb7e41b361dfbe47": {
      "model_module": "jupyter-cytoscape",
      "model_module_version": "^1.3.3",
      "model_name": "EdgeModel",
      "state": {
       "_model_module": "jupyter-cytoscape",
       "_model_module_version": "^1.3.3",
       "_model_name": "EdgeModel",
       "_view_count": null,
       "_view_module": "jupyter-cytoscape",
       "_view_module_version": "^1.3.3",
       "_view_name": "EdgeView",
       "classes": " directed ",
       "data": {
        "source": "-4288152405374535767",
        "target": "-5297096306931048472"
       },
       "pannable": true,
       "removed": false,
       "selectable": false,
       "selected": false
      }
     },
     "73dea86c040741deb0962f49cb5ecaee": {
      "model_module": "jupyter-cytoscape",
      "model_module_version": "^1.3.3",
      "model_name": "NodeModel",
      "state": {
       "_model_module": "jupyter-cytoscape",
       "_model_module_version": "^1.3.3",
       "_model_name": "NodeModel",
       "_view_count": null,
       "_view_module": "jupyter-cytoscape",
       "_view_module_version": "^1.3.3",
       "_view_name": "NodeView",
       "classes": "",
       "data": {
        "color": "gray",
        "id": "7747021505085688929",
        "label": "6",
        "shape": "rectangle"
       },
       "grabbable": true,
       "grabbed": false,
       "locked": false,
       "pannable": false,
       "position": {},
       "removed": false,
       "selectable": false,
       "selected": false
      }
     },
     "73ef68a6910642bea0e3e67726be5e7b": {
      "model_module": "jupyter-cytoscape",
      "model_module_version": "^1.3.3",
      "model_name": "NodeModel",
      "state": {
       "_model_module": "jupyter-cytoscape",
       "_model_module_version": "^1.3.3",
       "_model_name": "NodeModel",
       "_view_count": null,
       "_view_module": "jupyter-cytoscape",
       "_view_module_version": "^1.3.3",
       "_view_name": "NodeView",
       "classes": "",
       "data": {
        "color": "gray",
        "id": "-2673585678245233708",
        "label": "5",
        "shape": "rectangle"
       },
       "grabbable": true,
       "grabbed": false,
       "locked": false,
       "pannable": false,
       "position": {},
       "removed": false,
       "selectable": false,
       "selected": false
      }
     },
     "740bf71fd998496a9aa7f86787d51bfb": {
      "model_module": "jupyter-cytoscape",
      "model_module_version": "^1.3.3",
      "model_name": "EdgeModel",
      "state": {
       "_model_module": "jupyter-cytoscape",
       "_model_module_version": "^1.3.3",
       "_model_name": "EdgeModel",
       "_view_count": null,
       "_view_module": "jupyter-cytoscape",
       "_view_module_version": "^1.3.3",
       "_view_name": "EdgeView",
       "classes": " directed ",
       "data": {
        "source": "2175316675819881552",
        "target": "566501637093180300"
       },
       "pannable": true,
       "removed": false,
       "selectable": false,
       "selected": false
      }
     },
     "74a4d450a30445b9b5822f036ca1c1a2": {
      "model_module": "jupyter-cytoscape",
      "model_module_version": "^1.3.3",
      "model_name": "EdgeModel",
      "state": {
       "_model_module": "jupyter-cytoscape",
       "_model_module_version": "^1.3.3",
       "_model_name": "EdgeModel",
       "_view_count": null,
       "_view_module": "jupyter-cytoscape",
       "_view_module_version": "^1.3.3",
       "_view_name": "EdgeView",
       "classes": " directed ",
       "data": {
        "source": "969112533599578842",
        "target": "7769789198578560534"
       },
       "pannable": true,
       "removed": false,
       "selectable": false,
       "selected": false
      }
     },
     "74e06c9591c1489a8b7d245c0ec2dd26": {
      "model_module": "jupyter-cytoscape",
      "model_module_version": "^1.3.3",
      "model_name": "NodeModel",
      "state": {
       "_model_module": "jupyter-cytoscape",
       "_model_module_version": "^1.3.3",
       "_model_name": "NodeModel",
       "_view_count": null,
       "_view_module": "jupyter-cytoscape",
       "_view_module_version": "^1.3.3",
       "_view_name": "NodeView",
       "classes": "",
       "data": {
        "color": "gray",
        "id": "5080860529143808382",
        "label": "read-csv",
        "shape": "ellipse"
       },
       "grabbable": true,
       "grabbed": false,
       "locked": false,
       "pannable": false,
       "position": {},
       "removed": false,
       "selectable": false,
       "selected": false
      }
     },
     "75995212db5b4384a8984b349e83a6e5": {
      "model_module": "jupyter-cytoscape",
      "model_module_version": "^1.3.3",
      "model_name": "NodeModel",
      "state": {
       "_model_module": "jupyter-cytoscape",
       "_model_module_version": "^1.3.3",
       "_model_name": "NodeModel",
       "_view_count": null,
       "_view_module": "jupyter-cytoscape",
       "_view_module_version": "^1.3.3",
       "_view_name": "NodeView",
       "classes": "",
       "data": {
        "color": "gray",
        "id": "-137909323197928479",
        "label": "6",
        "shape": "rectangle"
       },
       "grabbable": true,
       "grabbed": false,
       "locked": false,
       "pannable": false,
       "position": {},
       "removed": false,
       "selectable": false,
       "selected": false
      }
     },
     "76037438745b4f55a5aae7e23fc0bd10": {
      "model_module": "jupyter-cytoscape",
      "model_module_version": "^1.3.3",
      "model_name": "NodeModel",
      "state": {
       "_model_module": "jupyter-cytoscape",
       "_model_module_version": "^1.3.3",
       "_model_name": "NodeModel",
       "_view_count": null,
       "_view_module": "jupyter-cytoscape",
       "_view_module_version": "^1.3.3",
       "_view_name": "NodeView",
       "classes": "",
       "data": {
        "color": "gray",
        "id": "4573578961550351224",
        "label": "getitem",
        "shape": "ellipse"
       },
       "grabbable": true,
       "grabbed": false,
       "locked": false,
       "pannable": false,
       "position": {},
       "removed": false,
       "selectable": false,
       "selected": false
      }
     },
     "761ba20d40704ca498ba1ea3c7de79d8": {
      "model_module": "jupyter-cytoscape",
      "model_module_version": "^1.3.3",
      "model_name": "NodeModel",
      "state": {
       "_model_module": "jupyter-cytoscape",
       "_model_module_version": "^1.3.3",
       "_model_name": "NodeModel",
       "_view_count": null,
       "_view_module": "jupyter-cytoscape",
       "_view_module_version": "^1.3.3",
       "_view_name": "NodeView",
       "classes": "",
       "data": {
        "color": "gray",
        "id": "-2041842161555158051",
        "label": "read-csv",
        "shape": "ellipse"
       },
       "grabbable": true,
       "grabbed": false,
       "locked": false,
       "pannable": false,
       "position": {},
       "removed": false,
       "selectable": false,
       "selected": false
      }
     },
     "76325d7bc1ed411d95bfe5c2c8cba225": {
      "model_module": "jupyter-cytoscape",
      "model_module_version": "^1.3.3",
      "model_name": "NodeModel",
      "state": {
       "_model_module": "jupyter-cytoscape",
       "_model_module_version": "^1.3.3",
       "_model_name": "NodeModel",
       "_view_count": null,
       "_view_module": "jupyter-cytoscape",
       "_view_module_version": "^1.3.3",
       "_view_name": "NodeView",
       "classes": "",
       "data": {
        "color": "gray",
        "id": "-1752476050327230538",
        "label": "4",
        "shape": "rectangle"
       },
       "grabbable": true,
       "grabbed": false,
       "locked": false,
       "pannable": false,
       "position": {},
       "removed": false,
       "selectable": false,
       "selected": false
      }
     },
     "7689a7d7904a4565ac4122a1f5a7d9b3": {
      "model_module": "jupyter-cytoscape",
      "model_module_version": "^1.3.3",
      "model_name": "EdgeModel",
      "state": {
       "_model_module": "jupyter-cytoscape",
       "_model_module_version": "^1.3.3",
       "_model_name": "EdgeModel",
       "_view_count": null,
       "_view_module": "jupyter-cytoscape",
       "_view_module_version": "^1.3.3",
       "_view_name": "EdgeView",
       "classes": " directed ",
       "data": {
        "source": "-3806204897521849234",
        "target": "8314380153983814861"
       },
       "pannable": true,
       "removed": false,
       "selectable": false,
       "selected": false
      }
     },
     "778d5f35cd7043779ab950e16cfe1c38": {
      "model_module": "jupyter-cytoscape",
      "model_module_version": "^1.3.3",
      "model_name": "NodeModel",
      "state": {
       "_model_module": "jupyter-cytoscape",
       "_model_module_version": "^1.3.3",
       "_model_name": "NodeModel",
       "_view_count": null,
       "_view_module": "jupyter-cytoscape",
       "_view_module_version": "^1.3.3",
       "_view_name": "NodeView",
       "classes": "",
       "data": {
        "color": "gray",
        "id": "2192327423968294679",
        "label": "moment_chunk",
        "shape": "ellipse"
       },
       "grabbable": true,
       "grabbed": false,
       "locked": false,
       "pannable": false,
       "position": {},
       "removed": false,
       "selectable": false,
       "selected": false
      }
     },
     "77c5497f03854ddcbf33dff8a2bc41f9": {
      "model_module": "jupyter-cytoscape",
      "model_module_version": "^1.3.3",
      "model_name": "NodeModel",
      "state": {
       "_model_module": "jupyter-cytoscape",
       "_model_module_version": "^1.3.3",
       "_model_name": "NodeModel",
       "_view_count": null,
       "_view_module": "jupyter-cytoscape",
       "_view_module_version": "^1.3.3",
       "_view_name": "NodeView",
       "classes": "",
       "data": {
        "color": "gray",
        "id": "1025031135062228737",
        "label": "3",
        "shape": "rectangle"
       },
       "grabbable": true,
       "grabbed": false,
       "locked": false,
       "pannable": false,
       "position": {},
       "removed": false,
       "selectable": false,
       "selected": false
      }
     },
     "79fcbb5a69054a6baa928b9853a184ec": {
      "model_module": "jupyter-cytoscape",
      "model_module_version": "^1.3.3",
      "model_name": "NodeModel",
      "state": {
       "_model_module": "jupyter-cytoscape",
       "_model_module_version": "^1.3.3",
       "_model_name": "NodeModel",
       "_view_count": null,
       "_view_module": "jupyter-cytoscape",
       "_view_module_version": "^1.3.3",
       "_view_name": "NodeView",
       "classes": "",
       "data": {
        "color": "gray",
        "id": "-602722291632583710",
        "label": "4",
        "shape": "rectangle"
       },
       "grabbable": true,
       "grabbed": false,
       "locked": false,
       "pannable": false,
       "position": {},
       "removed": false,
       "selectable": false,
       "selected": false
      }
     },
     "7a02d6106a3c43aa9f7af0b19d854549": {
      "model_module": "jupyter-cytoscape",
      "model_module_version": "^1.3.3",
      "model_name": "EdgeModel",
      "state": {
       "_model_module": "jupyter-cytoscape",
       "_model_module_version": "^1.3.3",
       "_model_name": "EdgeModel",
       "_view_count": null,
       "_view_module": "jupyter-cytoscape",
       "_view_module_version": "^1.3.3",
       "_view_name": "EdgeView",
       "classes": " directed ",
       "data": {
        "source": "9010629266471555102",
        "target": "2219488350727462658"
       },
       "pannable": true,
       "removed": false,
       "selectable": false,
       "selected": false
      }
     },
     "7a9b1e1d0a1b462c847fea07b9dd955a": {
      "model_module": "jupyter-cytoscape",
      "model_module_version": "^1.3.3",
      "model_name": "EdgeModel",
      "state": {
       "_model_module": "jupyter-cytoscape",
       "_model_module_version": "^1.3.3",
       "_model_name": "EdgeModel",
       "_view_count": null,
       "_view_module": "jupyter-cytoscape",
       "_view_module_version": "^1.3.3",
       "_view_name": "EdgeView",
       "classes": " directed ",
       "data": {
        "source": "-6746707984043032608",
        "target": "-7182972153546168106"
       },
       "pannable": true,
       "removed": false,
       "selectable": false,
       "selected": false
      }
     },
     "7b1bcf5734c6450aabca28f25c7fd637": {
      "model_module": "jupyter-cytoscape",
      "model_module_version": "^1.3.3",
      "model_name": "EdgeModel",
      "state": {
       "_model_module": "jupyter-cytoscape",
       "_model_module_version": "^1.3.3",
       "_model_name": "EdgeModel",
       "_view_count": null,
       "_view_module": "jupyter-cytoscape",
       "_view_module_version": "^1.3.3",
       "_view_name": "EdgeView",
       "classes": " directed ",
       "data": {
        "source": "-8012002505621468123",
        "target": "8026906870815044490"
       },
       "pannable": true,
       "removed": false,
       "selectable": false,
       "selected": false
      }
     },
     "7ca8dc849a334b65bc40a5ecd3a90fd1": {
      "model_module": "jupyter-cytoscape",
      "model_module_version": "^1.3.3",
      "model_name": "EdgeModel",
      "state": {
       "_model_module": "jupyter-cytoscape",
       "_model_module_version": "^1.3.3",
       "_model_name": "EdgeModel",
       "_view_count": null,
       "_view_module": "jupyter-cytoscape",
       "_view_module_version": "^1.3.3",
       "_view_name": "EdgeView",
       "classes": " directed ",
       "data": {
        "source": "-2192026299876784477",
        "target": "3826169044918862648"
       },
       "pannable": true,
       "removed": false,
       "selectable": false,
       "selected": false
      }
     },
     "7d5fa20244ea43e2829e2578fa27946a": {
      "model_module": "jupyter-cytoscape",
      "model_module_version": "^1.3.3",
      "model_name": "EdgeModel",
      "state": {
       "_model_module": "jupyter-cytoscape",
       "_model_module_version": "^1.3.3",
       "_model_name": "EdgeModel",
       "_view_count": null,
       "_view_module": "jupyter-cytoscape",
       "_view_module_version": "^1.3.3",
       "_view_name": "EdgeView",
       "classes": " directed ",
       "data": {
        "source": "-4288152405374535767",
        "target": "-5176081309743708236"
       },
       "pannable": true,
       "removed": false,
       "selectable": false,
       "selected": false
      }
     },
     "7db1d2b62803436286b44914e420b580": {
      "model_module": "jupyter-cytoscape",
      "model_module_version": "^1.3.3",
      "model_name": "NodeModel",
      "state": {
       "_model_module": "jupyter-cytoscape",
       "_model_module_version": "^1.3.3",
       "_model_name": "NodeModel",
       "_view_count": null,
       "_view_module": "jupyter-cytoscape",
       "_view_module_version": "^1.3.3",
       "_view_name": "NodeView",
       "classes": "",
       "data": {
        "color": "gray",
        "id": "3834055077856764717",
        "label": "6",
        "shape": "rectangle"
       },
       "grabbable": true,
       "grabbed": false,
       "locked": false,
       "pannable": false,
       "position": {},
       "removed": false,
       "selectable": false,
       "selected": false
      }
     },
     "7ecdbb4e43de49fc99835aa704291c54": {
      "model_module": "jupyter-cytoscape",
      "model_module_version": "^1.3.3",
      "model_name": "EdgeModel",
      "state": {
       "_model_module": "jupyter-cytoscape",
       "_model_module_version": "^1.3.3",
       "_model_name": "EdgeModel",
       "_view_count": null,
       "_view_module": "jupyter-cytoscape",
       "_view_module_version": "^1.3.3",
       "_view_name": "EdgeView",
       "classes": " directed ",
       "data": {
        "source": "-1758759520792837332",
        "target": "4253843718629060011"
       },
       "pannable": true,
       "removed": false,
       "selectable": false,
       "selected": false
      }
     },
     "7fa87ce0c2e2413190e0af9647fa788e": {
      "model_module": "jupyter-cytoscape",
      "model_module_version": "^1.3.3",
      "model_name": "NodeModel",
      "state": {
       "_model_module": "jupyter-cytoscape",
       "_model_module_version": "^1.3.3",
       "_model_name": "NodeModel",
       "_view_count": null,
       "_view_module": "jupyter-cytoscape",
       "_view_module_version": "^1.3.3",
       "_view_name": "NodeView",
       "classes": "",
       "data": {
        "color": "gray",
        "id": "-7126559844160481421",
        "label": "read-csv",
        "shape": "ellipse"
       },
       "grabbable": true,
       "grabbed": false,
       "locked": false,
       "pannable": false,
       "position": {},
       "removed": false,
       "selectable": false,
       "selected": false
      }
     },
     "81f30cffb4fa463cb2543ad7c3a198f2": {
      "model_module": "jupyter-cytoscape",
      "model_module_version": "^1.3.3",
      "model_name": "NodeModel",
      "state": {
       "_model_module": "jupyter-cytoscape",
       "_model_module_version": "^1.3.3",
       "_model_name": "NodeModel",
       "_view_count": null,
       "_view_module": "jupyter-cytoscape",
       "_view_module_version": "^1.3.3",
       "_view_name": "NodeView",
       "classes": "",
       "data": {
        "color": "gray",
        "id": "7557905178103697073",
        "label": "9",
        "shape": "rectangle"
       },
       "grabbable": true,
       "grabbed": false,
       "locked": false,
       "pannable": false,
       "position": {},
       "removed": false,
       "selectable": false,
       "selected": false
      }
     },
     "825beeadca32401f80c95812f214a79c": {
      "model_module": "jupyter-cytoscape",
      "model_module_version": "^1.3.3",
      "model_name": "EdgeModel",
      "state": {
       "_model_module": "jupyter-cytoscape",
       "_model_module_version": "^1.3.3",
       "_model_name": "EdgeModel",
       "_view_count": null,
       "_view_module": "jupyter-cytoscape",
       "_view_module_version": "^1.3.3",
       "_view_name": "EdgeView",
       "classes": " directed ",
       "data": {
        "source": "-5329143616833624474",
        "target": "-9003437424032724409"
       },
       "pannable": true,
       "removed": false,
       "selectable": false,
       "selected": false
      }
     },
     "8267b083157749478107c8cc6e9fab6e": {
      "model_module": "jupyter-cytoscape",
      "model_module_version": "^1.3.3",
      "model_name": "NodeModel",
      "state": {
       "_model_module": "jupyter-cytoscape",
       "_model_module_version": "^1.3.3",
       "_model_name": "NodeModel",
       "_view_count": null,
       "_view_module": "jupyter-cytoscape",
       "_view_module_version": "^1.3.3",
       "_view_name": "NodeView",
       "classes": "",
       "data": {
        "color": "gray",
        "id": "-7647811595620049880",
        "label": "0",
        "shape": "rectangle"
       },
       "grabbable": true,
       "grabbed": false,
       "locked": false,
       "pannable": false,
       "position": {},
       "removed": false,
       "selectable": false,
       "selected": false
      }
     },
     "82bc0226e67c4514adf66d9d9a74b165": {
      "model_module": "jupyter-cytoscape",
      "model_module_version": "^1.3.3",
      "model_name": "EdgeModel",
      "state": {
       "_model_module": "jupyter-cytoscape",
       "_model_module_version": "^1.3.3",
       "_model_name": "EdgeModel",
       "_view_count": null,
       "_view_module": "jupyter-cytoscape",
       "_view_module_version": "^1.3.3",
       "_view_name": "EdgeView",
       "classes": " directed ",
       "data": {
        "source": "-8012002505621468123",
        "target": "992611241916121285"
       },
       "pannable": true,
       "removed": false,
       "selectable": false,
       "selected": false
      }
     },
     "837180e6bb464b00882a6f06e92a96aa": {
      "model_module": "jupyter-cytoscape",
      "model_module_version": "^1.3.3",
      "model_name": "EdgeModel",
      "state": {
       "_model_module": "jupyter-cytoscape",
       "_model_module_version": "^1.3.3",
       "_model_name": "EdgeModel",
       "_view_count": null,
       "_view_module": "jupyter-cytoscape",
       "_view_module_version": "^1.3.3",
       "_view_name": "EdgeView",
       "classes": " directed ",
       "data": {
        "source": "7517906306098643055",
        "target": "-6975872468376930331"
       },
       "pannable": true,
       "removed": false,
       "selectable": false,
       "selected": false
      }
     },
     "83d1d6a82cd0465491562774dcec7db7": {
      "model_module": "jupyter-cytoscape",
      "model_module_version": "^1.3.3",
      "model_name": "NodeModel",
      "state": {
       "_model_module": "jupyter-cytoscape",
       "_model_module_version": "^1.3.3",
       "_model_name": "NodeModel",
       "_view_count": null,
       "_view_module": "jupyter-cytoscape",
       "_view_module_version": "^1.3.3",
       "_view_name": "NodeView",
       "classes": "",
       "data": {
        "color": "gray",
        "id": "7391374720628076146",
        "label": "1",
        "shape": "rectangle"
       },
       "grabbable": true,
       "grabbed": false,
       "locked": false,
       "pannable": false,
       "position": {},
       "removed": false,
       "selectable": false,
       "selected": false
      }
     },
     "83ef9225d84f48e6818017a7812ea3a7": {
      "model_module": "jupyter-cytoscape",
      "model_module_version": "^1.3.3",
      "model_name": "EdgeModel",
      "state": {
       "_model_module": "jupyter-cytoscape",
       "_model_module_version": "^1.3.3",
       "_model_name": "EdgeModel",
       "_view_count": null,
       "_view_module": "jupyter-cytoscape",
       "_view_module_version": "^1.3.3",
       "_view_name": "EdgeView",
       "classes": " directed ",
       "data": {
        "source": "-5176081309743708236",
        "target": "4607584064773010077"
       },
       "pannable": true,
       "removed": false,
       "selectable": false,
       "selected": false
      }
     },
     "848479ae7958469c8f30e32ccf046e92": {
      "model_module": "jupyter-cytoscape",
      "model_module_version": "^1.3.3",
      "model_name": "EdgeModel",
      "state": {
       "_model_module": "jupyter-cytoscape",
       "_model_module_version": "^1.3.3",
       "_model_name": "EdgeModel",
       "_view_count": null,
       "_view_module": "jupyter-cytoscape",
       "_view_module_version": "^1.3.3",
       "_view_name": "EdgeView",
       "classes": " directed ",
       "data": {
        "source": "-1504361749519469698",
        "target": "-3335114992322814551"
       },
       "pannable": true,
       "removed": false,
       "selectable": false,
       "selected": false
      }
     },
     "8501c6a90d354549915833acacd4167b": {
      "model_module": "jupyter-cytoscape",
      "model_module_version": "^1.3.3",
      "model_name": "EdgeModel",
      "state": {
       "_model_module": "jupyter-cytoscape",
       "_model_module_version": "^1.3.3",
       "_model_name": "EdgeModel",
       "_view_count": null,
       "_view_module": "jupyter-cytoscape",
       "_view_module_version": "^1.3.3",
       "_view_name": "EdgeView",
       "classes": " directed ",
       "data": {
        "source": "6431646596407187287",
        "target": "-747886773639351910"
       },
       "pannable": true,
       "removed": false,
       "selectable": false,
       "selected": false
      }
     },
     "855c682bcd4a4b4ba0742e4a3819212b": {
      "model_module": "jupyter-cytoscape",
      "model_module_version": "^1.3.3",
      "model_name": "EdgeModel",
      "state": {
       "_model_module": "jupyter-cytoscape",
       "_model_module_version": "^1.3.3",
       "_model_name": "EdgeModel",
       "_view_count": null,
       "_view_module": "jupyter-cytoscape",
       "_view_module_version": "^1.3.3",
       "_view_name": "EdgeView",
       "classes": " directed ",
       "data": {
        "source": "8314380153983814861",
        "target": "-3257145253004264927"
       },
       "pannable": true,
       "removed": false,
       "selectable": false,
       "selected": false
      }
     },
     "861752fbe86641b9a85b074fba6eccb2": {
      "model_module": "jupyter-cytoscape",
      "model_module_version": "^1.3.3",
      "model_name": "NodeModel",
      "state": {
       "_model_module": "jupyter-cytoscape",
       "_model_module_version": "^1.3.3",
       "_model_name": "NodeModel",
       "_view_count": null,
       "_view_module": "jupyter-cytoscape",
       "_view_module_version": "^1.3.3",
       "_view_name": "NodeView",
       "classes": "",
       "data": {
        "color": "gray",
        "id": "-5297096306931048472",
        "label": "values",
        "shape": "ellipse"
       },
       "grabbable": true,
       "grabbed": false,
       "locked": false,
       "pannable": false,
       "position": {},
       "removed": false,
       "selectable": false,
       "selected": false
      }
     },
     "86309a28bc7b42ba9bd7a43cddc5ab61": {
      "model_module": "jupyter-cytoscape",
      "model_module_version": "^1.3.3",
      "model_name": "NodeModel",
      "state": {
       "_model_module": "jupyter-cytoscape",
       "_model_module_version": "^1.3.3",
       "_model_name": "NodeModel",
       "_view_count": null,
       "_view_module": "jupyter-cytoscape",
       "_view_module_version": "^1.3.3",
       "_view_name": "NodeView",
       "classes": "",
       "data": {
        "color": "gray",
        "id": "-670176931600447666",
        "label": "getitem",
        "shape": "ellipse"
       },
       "grabbable": true,
       "grabbed": false,
       "locked": false,
       "pannable": false,
       "position": {},
       "removed": false,
       "selectable": false,
       "selected": false
      }
     },
     "864066e7225a4419a8821fb817810a77": {
      "model_module": "jupyter-cytoscape",
      "model_module_version": "^1.3.3",
      "model_name": "EdgeModel",
      "state": {
       "_model_module": "jupyter-cytoscape",
       "_model_module_version": "^1.3.3",
       "_model_name": "EdgeModel",
       "_view_count": null,
       "_view_module": "jupyter-cytoscape",
       "_view_module_version": "^1.3.3",
       "_view_name": "EdgeView",
       "classes": " directed ",
       "data": {
        "source": "-5093185424098881534",
        "target": "4575388310203358868"
       },
       "pannable": true,
       "removed": false,
       "selectable": false,
       "selected": false
      }
     },
     "8686f4b2708e45ebb6246babf481b22d": {
      "model_module": "jupyter-cytoscape",
      "model_module_version": "^1.3.3",
      "model_name": "NodeModel",
      "state": {
       "_model_module": "jupyter-cytoscape",
       "_model_module_version": "^1.3.3",
       "_model_name": "NodeModel",
       "_view_count": null,
       "_view_module": "jupyter-cytoscape",
       "_view_module_version": "^1.3.3",
       "_view_name": "NodeView",
       "classes": "",
       "data": {
        "color": "gray",
        "id": "5627519691258614245",
        "label": "moment_chunk",
        "shape": "ellipse"
       },
       "grabbable": true,
       "grabbed": false,
       "locked": false,
       "pannable": false,
       "position": {},
       "removed": false,
       "selectable": false,
       "selected": false
      }
     },
     "86fccef5e2c149dabc2a61efd00a0a49": {
      "model_module": "jupyter-cytoscape",
      "model_module_version": "^1.3.3",
      "model_name": "EdgeModel",
      "state": {
       "_model_module": "jupyter-cytoscape",
       "_model_module_version": "^1.3.3",
       "_model_name": "EdgeModel",
       "_view_count": null,
       "_view_module": "jupyter-cytoscape",
       "_view_module_version": "^1.3.3",
       "_view_name": "EdgeView",
       "classes": " directed ",
       "data": {
        "source": "8916245433811452939",
        "target": "4379359525155024175"
       },
       "pannable": true,
       "removed": false,
       "selectable": false,
       "selected": false
      }
     },
     "89485b38c13841dc8e72f8a448034fd5": {
      "model_module": "jupyter-cytoscape",
      "model_module_version": "^1.3.3",
      "model_name": "EdgeModel",
      "state": {
       "_model_module": "jupyter-cytoscape",
       "_model_module_version": "^1.3.3",
       "_model_name": "EdgeModel",
       "_view_count": null,
       "_view_module": "jupyter-cytoscape",
       "_view_module_version": "^1.3.3",
       "_view_name": "EdgeView",
       "classes": " directed ",
       "data": {
        "source": "-7126559844160481421",
        "target": "-3022857883796100252"
       },
       "pannable": true,
       "removed": false,
       "selectable": false,
       "selected": false
      }
     },
     "8979684acce84fbb8ea8332d13ba76f4": {
      "model_module": "jupyter-cytoscape",
      "model_module_version": "^1.3.3",
      "model_name": "EdgeModel",
      "state": {
       "_model_module": "jupyter-cytoscape",
       "_model_module_version": "^1.3.3",
       "_model_name": "EdgeModel",
       "_view_count": null,
       "_view_module": "jupyter-cytoscape",
       "_view_module_version": "^1.3.3",
       "_view_name": "EdgeView",
       "classes": " directed ",
       "data": {
        "source": "5627519691258614245",
        "target": "5759753982462646515"
       },
       "pannable": true,
       "removed": false,
       "selectable": false,
       "selected": false
      }
     },
     "899dd2f935524f83a03d2c280bfecb2c": {
      "model_module": "jupyter-cytoscape",
      "model_module_version": "^1.3.3",
      "model_name": "NodeModel",
      "state": {
       "_model_module": "jupyter-cytoscape",
       "_model_module_version": "^1.3.3",
       "_model_name": "NodeModel",
       "_view_count": null,
       "_view_module": "jupyter-cytoscape",
       "_view_module_version": "^1.3.3",
       "_view_name": "NodeView",
       "classes": "",
       "data": {
        "color": "gray",
        "id": "3652821773801315348",
        "label": "getitem",
        "shape": "ellipse"
       },
       "grabbable": true,
       "grabbed": false,
       "locked": false,
       "pannable": false,
       "position": {},
       "removed": false,
       "selectable": false,
       "selected": false
      }
     },
     "89dec5b9a9904fe5b33549b203068ec3": {
      "model_module": "jupyter-cytoscape",
      "model_module_version": "^1.3.3",
      "model_name": "EdgeModel",
      "state": {
       "_model_module": "jupyter-cytoscape",
       "_model_module_version": "^1.3.3",
       "_model_name": "EdgeModel",
       "_view_count": null,
       "_view_module": "jupyter-cytoscape",
       "_view_module_version": "^1.3.3",
       "_view_name": "EdgeView",
       "classes": " directed ",
       "data": {
        "source": "2219488350727462658",
        "target": "-7982791425939672453"
       },
       "pannable": true,
       "removed": false,
       "selectable": false,
       "selected": false
      }
     },
     "89fff262a4f447b4bd943731fa7f5b63": {
      "model_module": "jupyter-cytoscape",
      "model_module_version": "^1.3.3",
      "model_name": "EdgeModel",
      "state": {
       "_model_module": "jupyter-cytoscape",
       "_model_module_version": "^1.3.3",
       "_model_name": "EdgeModel",
       "_view_count": null,
       "_view_module": "jupyter-cytoscape",
       "_view_module_version": "^1.3.3",
       "_view_name": "EdgeView",
       "classes": " directed ",
       "data": {
        "source": "2192327423968294679",
        "target": "4145187255333344456"
       },
       "pannable": true,
       "removed": false,
       "selectable": false,
       "selected": false
      }
     },
     "8a611224afc74d099da838c56059bba9": {
      "model_module": "jupyter-cytoscape",
      "model_module_version": "^1.3.3",
      "model_name": "EdgeModel",
      "state": {
       "_model_module": "jupyter-cytoscape",
       "_model_module_version": "^1.3.3",
       "_model_name": "EdgeModel",
       "_view_count": null,
       "_view_module": "jupyter-cytoscape",
       "_view_module_version": "^1.3.3",
       "_view_name": "EdgeView",
       "classes": " directed ",
       "data": {
        "source": "-4846882869028547108",
        "target": "1965090579454095024"
       },
       "pannable": true,
       "removed": false,
       "selectable": false,
       "selected": false
      }
     },
     "8c910000304d430192f71c24a6f2d511": {
      "model_module": "jupyter-cytoscape",
      "model_module_version": "^1.3.3",
      "model_name": "NodeModel",
      "state": {
       "_model_module": "jupyter-cytoscape",
       "_model_module_version": "^1.3.3",
       "_model_name": "NodeModel",
       "_view_count": null,
       "_view_module": "jupyter-cytoscape",
       "_view_module_version": "^1.3.3",
       "_view_name": "NodeView",
       "classes": "",
       "data": {
        "color": "gray",
        "id": "5918105164034925103",
        "label": "2",
        "shape": "rectangle"
       },
       "grabbable": true,
       "grabbed": false,
       "locked": false,
       "pannable": false,
       "position": {},
       "removed": false,
       "selectable": false,
       "selected": false
      }
     },
     "8cffa8fe768a4f1aa0d7c7451e4549cf": {
      "model_module": "jupyter-cytoscape",
      "model_module_version": "^1.3.3",
      "model_name": "NodeModel",
      "state": {
       "_model_module": "jupyter-cytoscape",
       "_model_module_version": "^1.3.3",
       "_model_name": "NodeModel",
       "_view_count": null,
       "_view_module": "jupyter-cytoscape",
       "_view_module_version": "^1.3.3",
       "_view_name": "NodeView",
       "classes": "",
       "data": {
        "color": "gray",
        "id": "-6322432939011908379",
        "label": "read-csv",
        "shape": "ellipse"
       },
       "grabbable": true,
       "grabbed": false,
       "locked": false,
       "pannable": false,
       "position": {},
       "removed": false,
       "selectable": false,
       "selected": false
      }
     },
     "8d178dc42317493485254763978151ad": {
      "model_module": "jupyter-cytoscape",
      "model_module_version": "^1.3.3",
      "model_name": "EdgeModel",
      "state": {
       "_model_module": "jupyter-cytoscape",
       "_model_module_version": "^1.3.3",
       "_model_name": "EdgeModel",
       "_view_count": null,
       "_view_module": "jupyter-cytoscape",
       "_view_module_version": "^1.3.3",
       "_view_name": "EdgeView",
       "classes": " directed ",
       "data": {
        "source": "-7987099058694741148",
        "target": "-1140170839518051455"
       },
       "pannable": true,
       "removed": false,
       "selectable": false,
       "selected": false
      }
     },
     "8d2c38205f58476b96d7dd425f879158": {
      "model_module": "jupyter-cytoscape",
      "model_module_version": "^1.3.3",
      "model_name": "NodeModel",
      "state": {
       "_model_module": "jupyter-cytoscape",
       "_model_module_version": "^1.3.3",
       "_model_name": "NodeModel",
       "_view_count": null,
       "_view_module": "jupyter-cytoscape",
       "_view_module_version": "^1.3.3",
       "_view_name": "NodeView",
       "classes": "",
       "data": {
        "color": "gray",
        "id": "-5698217577522588165",
        "label": "0",
        "shape": "rectangle"
       },
       "grabbable": true,
       "grabbed": false,
       "locked": false,
       "pannable": false,
       "position": {},
       "removed": false,
       "selectable": false,
       "selected": false
      }
     },
     "8eec944a13d2480e90d89011e77d0509": {
      "model_module": "jupyter-cytoscape",
      "model_module_version": "^1.3.3",
      "model_name": "EdgeModel",
      "state": {
       "_model_module": "jupyter-cytoscape",
       "_model_module_version": "^1.3.3",
       "_model_name": "EdgeModel",
       "_view_count": null,
       "_view_module": "jupyter-cytoscape",
       "_view_module_version": "^1.3.3",
       "_view_name": "EdgeView",
       "classes": " directed ",
       "data": {
        "source": "4995392973644626658",
        "target": "-198806626458339811"
       },
       "pannable": true,
       "removed": false,
       "selectable": false,
       "selected": false
      }
     },
     "8f3cde1b0e68458eb8b93355812fbadf": {
      "model_module": "jupyter-cytoscape",
      "model_module_version": "^1.3.3",
      "model_name": "EdgeModel",
      "state": {
       "_model_module": "jupyter-cytoscape",
       "_model_module_version": "^1.3.3",
       "_model_name": "EdgeModel",
       "_view_count": null,
       "_view_module": "jupyter-cytoscape",
       "_view_module_version": "^1.3.3",
       "_view_name": "EdgeView",
       "classes": " directed ",
       "data": {
        "source": "7391374720628076146",
        "target": "-8063163206826232081"
       },
       "pannable": true,
       "removed": false,
       "selectable": false,
       "selected": false
      }
     },
     "8feab797829040bfa14d52ea61dbcc9b": {
      "model_module": "jupyter-cytoscape",
      "model_module_version": "^1.3.3",
      "model_name": "EdgeModel",
      "state": {
       "_model_module": "jupyter-cytoscape",
       "_model_module_version": "^1.3.3",
       "_model_name": "EdgeModel",
       "_view_count": null,
       "_view_module": "jupyter-cytoscape",
       "_view_module_version": "^1.3.3",
       "_view_name": "EdgeView",
       "classes": " directed ",
       "data": {
        "source": "-7283928645983381781",
        "target": "3134314508179859034"
       },
       "pannable": true,
       "removed": false,
       "selectable": false,
       "selected": false
      }
     },
     "90d7b766cfb74047808e097faa095040": {
      "model_module": "jupyter-cytoscape",
      "model_module_version": "^1.3.3",
      "model_name": "NodeModel",
      "state": {
       "_model_module": "jupyter-cytoscape",
       "_model_module_version": "^1.3.3",
       "_model_name": "NodeModel",
       "_view_count": null,
       "_view_module": "jupyter-cytoscape",
       "_view_module_version": "^1.3.3",
       "_view_name": "NodeView",
       "classes": "",
       "data": {
        "color": "gray",
        "id": "7779183629499692727",
        "label": "2",
        "shape": "rectangle"
       },
       "grabbable": true,
       "grabbed": false,
       "locked": false,
       "pannable": false,
       "position": {},
       "removed": false,
       "selectable": false,
       "selected": false
      }
     },
     "9202c5bdb5b948e8af74221654ef9128": {
      "model_module": "jupyter-cytoscape",
      "model_module_version": "^1.3.3",
      "model_name": "NodeModel",
      "state": {
       "_model_module": "jupyter-cytoscape",
       "_model_module_version": "^1.3.3",
       "_model_name": "NodeModel",
       "_view_count": null,
       "_view_module": "jupyter-cytoscape",
       "_view_module_version": "^1.3.3",
       "_view_name": "NodeView",
       "classes": "",
       "data": {
        "color": "gray",
        "id": "5759753982462646515",
        "label": "2",
        "shape": "rectangle"
       },
       "grabbable": true,
       "grabbed": false,
       "locked": false,
       "pannable": false,
       "position": {},
       "removed": false,
       "selectable": false,
       "selected": false
      }
     },
     "936507898ad1496fb62b90f7789e4385": {
      "model_module": "jupyter-cytoscape",
      "model_module_version": "^1.3.3",
      "model_name": "EdgeModel",
      "state": {
       "_model_module": "jupyter-cytoscape",
       "_model_module_version": "^1.3.3",
       "_model_name": "EdgeModel",
       "_view_count": null,
       "_view_module": "jupyter-cytoscape",
       "_view_module_version": "^1.3.3",
       "_view_name": "EdgeView",
       "classes": " directed ",
       "data": {
        "source": "-6186390191412642330",
        "target": "2600400115267304963"
       },
       "pannable": true,
       "removed": false,
       "selectable": false,
       "selected": false
      }
     },
     "936be80e1b734eb19945a1b9c89fc61f": {
      "model_module": "jupyter-cytoscape",
      "model_module_version": "^1.3.3",
      "model_name": "EdgeModel",
      "state": {
       "_model_module": "jupyter-cytoscape",
       "_model_module_version": "^1.3.3",
       "_model_name": "EdgeModel",
       "_view_count": null,
       "_view_module": "jupyter-cytoscape",
       "_view_module_version": "^1.3.3",
       "_view_name": "EdgeView",
       "classes": " directed ",
       "data": {
        "source": "-6437635702692098474",
        "target": "2886109600526996361"
       },
       "pannable": true,
       "removed": false,
       "selectable": false,
       "selected": false
      }
     },
     "938876a1ef5a4d5ba46540bbb6addd10": {
      "model_module": "jupyter-cytoscape",
      "model_module_version": "^1.3.3",
      "model_name": "NodeModel",
      "state": {
       "_model_module": "jupyter-cytoscape",
       "_model_module_version": "^1.3.3",
       "_model_name": "NodeModel",
       "_view_count": null,
       "_view_module": "jupyter-cytoscape",
       "_view_module_version": "^1.3.3",
       "_view_name": "NodeView",
       "classes": "",
       "data": {
        "color": "gray",
        "id": "-7285598054705956941",
        "label": "read-csv",
        "shape": "ellipse"
       },
       "grabbable": true,
       "grabbed": false,
       "locked": false,
       "pannable": false,
       "position": {},
       "removed": false,
       "selectable": false,
       "selected": false
      }
     },
     "938ebbe4573f457fa1ffe12859543eab": {
      "model_module": "jupyter-cytoscape",
      "model_module_version": "^1.3.3",
      "model_name": "NodeModel",
      "state": {
       "_model_module": "jupyter-cytoscape",
       "_model_module_version": "^1.3.3",
       "_model_name": "NodeModel",
       "_view_count": null,
       "_view_module": "jupyter-cytoscape",
       "_view_module_version": "^1.3.3",
       "_view_name": "NodeView",
       "classes": "",
       "data": {
        "color": "gray",
        "id": "8472731335556093449",
        "label": "9",
        "shape": "rectangle"
       },
       "grabbable": true,
       "grabbed": false,
       "locked": false,
       "pannable": false,
       "position": {},
       "removed": false,
       "selectable": false,
       "selected": false
      }
     },
     "940c6fe08d8a42519abf1b4cad6c3f34": {
      "model_module": "jupyter-cytoscape",
      "model_module_version": "^1.3.3",
      "model_name": "NodeModel",
      "state": {
       "_model_module": "jupyter-cytoscape",
       "_model_module_version": "^1.3.3",
       "_model_name": "NodeModel",
       "_view_count": null,
       "_view_module": "jupyter-cytoscape",
       "_view_module_version": "^1.3.3",
       "_view_name": "NodeView",
       "classes": "",
       "data": {
        "color": "gray",
        "id": "1414455332003116891",
        "label": "8",
        "shape": "rectangle"
       },
       "grabbable": true,
       "grabbed": false,
       "locked": false,
       "pannable": false,
       "position": {},
       "removed": false,
       "selectable": false,
       "selected": false
      }
     },
     "9464a4276da04042bc033182b6ba394f": {
      "model_module": "jupyter-cytoscape",
      "model_module_version": "^1.3.3",
      "model_name": "EdgeModel",
      "state": {
       "_model_module": "jupyter-cytoscape",
       "_model_module_version": "^1.3.3",
       "_model_name": "EdgeModel",
       "_view_count": null,
       "_view_module": "jupyter-cytoscape",
       "_view_module_version": "^1.3.3",
       "_view_name": "EdgeView",
       "classes": " directed ",
       "data": {
        "source": "-9085155841494560628",
        "target": "3811859984346790868"
       },
       "pannable": true,
       "removed": false,
       "selectable": false,
       "selected": false
      }
     },
     "955a4206c4474827ab18d9e4947929ec": {
      "model_module": "jupyter-cytoscape",
      "model_module_version": "^1.3.3",
      "model_name": "NodeModel",
      "state": {
       "_model_module": "jupyter-cytoscape",
       "_model_module_version": "^1.3.3",
       "_model_name": "NodeModel",
       "_view_count": null,
       "_view_module": "jupyter-cytoscape",
       "_view_module_version": "^1.3.3",
       "_view_name": "NodeView",
       "classes": "",
       "data": {
        "color": "gray",
        "id": "-4979788706439499242",
        "label": "values",
        "shape": "ellipse"
       },
       "grabbable": true,
       "grabbed": false,
       "locked": false,
       "pannable": false,
       "position": {},
       "removed": false,
       "selectable": false,
       "selected": false
      }
     },
     "95ad3c9d344c41658eb359d959f31065": {
      "model_module": "jupyter-cytoscape",
      "model_module_version": "^1.3.3",
      "model_name": "NodeModel",
      "state": {
       "_model_module": "jupyter-cytoscape",
       "_model_module_version": "^1.3.3",
       "_model_name": "NodeModel",
       "_view_count": null,
       "_view_module": "jupyter-cytoscape",
       "_view_module_version": "^1.3.3",
       "_view_name": "NodeView",
       "classes": "",
       "data": {
        "color": "gray",
        "id": "-8012002505621468123",
        "label": "0",
        "shape": "rectangle"
       },
       "grabbable": true,
       "grabbed": false,
       "locked": false,
       "pannable": false,
       "position": {},
       "removed": false,
       "selectable": false,
       "selected": false
      }
     },
     "95ebe7b61ba44a98b194980ea0d6e086": {
      "model_module": "jupyter-cytoscape",
      "model_module_version": "^1.3.3",
      "model_name": "EdgeModel",
      "state": {
       "_model_module": "jupyter-cytoscape",
       "_model_module_version": "^1.3.3",
       "_model_name": "EdgeModel",
       "_view_count": null,
       "_view_module": "jupyter-cytoscape",
       "_view_module_version": "^1.3.3",
       "_view_name": "EdgeView",
       "classes": " directed ",
       "data": {
        "source": "-6509671042545116059",
        "target": "1050264422001698648"
       },
       "pannable": true,
       "removed": false,
       "selectable": false,
       "selected": false
      }
     },
     "96624fb1e97e488dbd9b573606758294": {
      "model_module": "jupyter-cytoscape",
      "model_module_version": "^1.3.3",
      "model_name": "NodeModel",
      "state": {
       "_model_module": "jupyter-cytoscape",
       "_model_module_version": "^1.3.3",
       "_model_name": "NodeModel",
       "_view_count": null,
       "_view_module": "jupyter-cytoscape",
       "_view_module_version": "^1.3.3",
       "_view_name": "NodeView",
       "classes": "",
       "data": {
        "color": "gray",
        "id": "1806739397881816436",
        "label": "8",
        "shape": "rectangle"
       },
       "grabbable": true,
       "grabbed": false,
       "locked": false,
       "pannable": false,
       "position": {},
       "removed": false,
       "selectable": false,
       "selected": false
      }
     },
     "96774c2246bb442b877c82dd8107a9f0": {
      "model_module": "jupyter-cytoscape",
      "model_module_version": "^1.3.3",
      "model_name": "EdgeModel",
      "state": {
       "_model_module": "jupyter-cytoscape",
       "_model_module_version": "^1.3.3",
       "_model_name": "EdgeModel",
       "_view_count": null,
       "_view_module": "jupyter-cytoscape",
       "_view_module_version": "^1.3.3",
       "_view_name": "EdgeView",
       "classes": " directed ",
       "data": {
        "source": "-589535592067073322",
        "target": "4253843718629060011"
       },
       "pannable": true,
       "removed": false,
       "selectable": false,
       "selected": false
      }
     },
     "975bf3032b5342edae42681bf5da5a22": {
      "model_module": "jupyter-cytoscape",
      "model_module_version": "^1.3.3",
      "model_name": "NodeModel",
      "state": {
       "_model_module": "jupyter-cytoscape",
       "_model_module_version": "^1.3.3",
       "_model_name": "NodeModel",
       "_view_count": null,
       "_view_module": "jupyter-cytoscape",
       "_view_module_version": "^1.3.3",
       "_view_name": "NodeView",
       "classes": "",
       "data": {
        "color": "gray",
        "id": "9010629266471555102",
        "label": "getitem",
        "shape": "ellipse"
       },
       "grabbable": true,
       "grabbed": false,
       "locked": false,
       "pannable": false,
       "position": {},
       "removed": false,
       "selectable": false,
       "selected": false
      }
     },
     "97dc7bf6f53e4ef890ca60c219f33888": {
      "model_module": "jupyter-cytoscape",
      "model_module_version": "^1.3.3",
      "model_name": "NodeModel",
      "state": {
       "_model_module": "jupyter-cytoscape",
       "_model_module_version": "^1.3.3",
       "_model_name": "NodeModel",
       "_view_count": null,
       "_view_module": "jupyter-cytoscape",
       "_view_module_version": "^1.3.3",
       "_view_name": "NodeView",
       "classes": "",
       "data": {
        "color": "gray",
        "id": "-4846882869028547108",
        "label": "series-sum-chunk",
        "shape": "ellipse"
       },
       "grabbable": true,
       "grabbed": false,
       "locked": false,
       "pannable": false,
       "position": {},
       "removed": false,
       "selectable": false,
       "selected": false
      }
     },
     "97e38bd32dd743b0971b9d7f702a36a7": {
      "model_module": "jupyter-cytoscape",
      "model_module_version": "^1.3.3",
      "model_name": "EdgeModel",
      "state": {
       "_model_module": "jupyter-cytoscape",
       "_model_module_version": "^1.3.3",
       "_model_name": "EdgeModel",
       "_view_count": null,
       "_view_module": "jupyter-cytoscape",
       "_view_module_version": "^1.3.3",
       "_view_name": "EdgeView",
       "classes": " directed ",
       "data": {
        "source": "-2309394768243815465",
        "target": "5967515803094502599"
       },
       "pannable": true,
       "removed": false,
       "selectable": false,
       "selected": false
      }
     },
     "9914d62db79c4ddfaf63abdde1d1c845": {
      "model_module": "jupyter-cytoscape",
      "model_module_version": "^1.3.3",
      "model_name": "NodeModel",
      "state": {
       "_model_module": "jupyter-cytoscape",
       "_model_module_version": "^1.3.3",
       "_model_name": "NodeModel",
       "_view_count": null,
       "_view_module": "jupyter-cytoscape",
       "_view_module_version": "^1.3.3",
       "_view_name": "NodeView",
       "classes": "",
       "data": {
        "color": "gray",
        "id": "8851591055926079582",
        "label": "getitem",
        "shape": "ellipse"
       },
       "grabbable": true,
       "grabbed": false,
       "locked": false,
       "pannable": false,
       "position": {},
       "removed": false,
       "selectable": false,
       "selected": false
      }
     },
     "9a94e9324c9e41e5a409b8076f6f7636": {
      "model_module": "jupyter-cytoscape",
      "model_module_version": "^1.3.3",
      "model_name": "EdgeModel",
      "state": {
       "_model_module": "jupyter-cytoscape",
       "_model_module_version": "^1.3.3",
       "_model_name": "EdgeModel",
       "_view_count": null,
       "_view_module": "jupyter-cytoscape",
       "_view_module_version": "^1.3.3",
       "_view_name": "EdgeView",
       "classes": " directed ",
       "data": {
        "source": "6771642708243075641",
        "target": "4995392973644626658"
       },
       "pannable": true,
       "removed": false,
       "selectable": false,
       "selected": false
      }
     },
     "9b99df9483f6420a9e3b5c4acd2b508f": {
      "model_module": "jupyter-cytoscape",
      "model_module_version": "^1.3.3",
      "model_name": "NodeModel",
      "state": {
       "_model_module": "jupyter-cytoscape",
       "_model_module_version": "^1.3.3",
       "_model_name": "NodeModel",
       "_view_count": null,
       "_view_module": "jupyter-cytoscape",
       "_view_module_version": "^1.3.3",
       "_view_name": "NodeView",
       "classes": "",
       "data": {
        "color": "gray",
        "id": "-2514107851155667741",
        "label": "0",
        "shape": "rectangle"
       },
       "grabbable": true,
       "grabbed": false,
       "locked": false,
       "pannable": false,
       "position": {},
       "removed": false,
       "selectable": false,
       "selected": false
      }
     },
     "9dde7de8a876420e99a1d95fcd16e6f1": {
      "model_module": "jupyter-cytoscape",
      "model_module_version": "^1.3.3",
      "model_name": "NodeModel",
      "state": {
       "_model_module": "jupyter-cytoscape",
       "_model_module_version": "^1.3.3",
       "_model_name": "NodeModel",
       "_view_count": null,
       "_view_module": "jupyter-cytoscape",
       "_view_module_version": "^1.3.3",
       "_view_name": "NodeView",
       "classes": "",
       "data": {
        "color": "gray",
        "id": "221793521085773947",
        "label": "getitem",
        "shape": "ellipse"
       },
       "grabbable": true,
       "grabbed": false,
       "locked": false,
       "pannable": false,
       "position": {},
       "removed": false,
       "selectable": false,
       "selected": false
      }
     },
     "9e4133edebcd4079894ce18e08682f58": {
      "model_module": "jupyter-cytoscape",
      "model_module_version": "^1.3.3",
      "model_name": "NodeModel",
      "state": {
       "_model_module": "jupyter-cytoscape",
       "_model_module_version": "^1.3.3",
       "_model_name": "NodeModel",
       "_view_count": null,
       "_view_module": "jupyter-cytoscape",
       "_view_module_version": "^1.3.3",
       "_view_name": "NodeView",
       "classes": "",
       "data": {
        "color": "gray",
        "id": "6414545278971244909",
        "label": "getitem",
        "shape": "ellipse"
       },
       "grabbable": true,
       "grabbed": false,
       "locked": false,
       "pannable": false,
       "position": {},
       "removed": false,
       "selectable": false,
       "selected": false
      }
     },
     "9eeaf8938d7c43aab8276470e1de3431": {
      "model_module": "jupyter-cytoscape",
      "model_module_version": "^1.3.3",
      "model_name": "NodeModel",
      "state": {
       "_model_module": "jupyter-cytoscape",
       "_model_module_version": "^1.3.3",
       "_model_name": "NodeModel",
       "_view_count": null,
       "_view_module": "jupyter-cytoscape",
       "_view_module_version": "^1.3.3",
       "_view_name": "NodeView",
       "classes": "",
       "data": {
        "color": "gray",
        "id": "-7982791425939672453",
        "label": "series-count-chunk",
        "shape": "ellipse"
       },
       "grabbable": true,
       "grabbed": false,
       "locked": false,
       "pannable": false,
       "position": {},
       "removed": false,
       "selectable": false,
       "selected": false
      }
     },
     "9f0887aecaae430bb276594a6f3b250a": {
      "model_module": "jupyter-cytoscape",
      "model_module_version": "^1.3.3",
      "model_name": "NodeModel",
      "state": {
       "_model_module": "jupyter-cytoscape",
       "_model_module_version": "^1.3.3",
       "_model_name": "NodeModel",
       "_view_count": null,
       "_view_module": "jupyter-cytoscape",
       "_view_module_version": "^1.3.3",
       "_view_name": "NodeView",
       "classes": "",
       "data": {
        "color": "gray",
        "id": "-5830253291788376150",
        "label": "getitem",
        "shape": "ellipse"
       },
       "grabbable": true,
       "grabbed": false,
       "locked": false,
       "pannable": false,
       "position": {},
       "removed": false,
       "selectable": false,
       "selected": false
      }
     },
     "9f1164fa130e4387b54d308329f47d8c": {
      "model_module": "jupyter-cytoscape",
      "model_module_version": "^1.3.3",
      "model_name": "EdgeModel",
      "state": {
       "_model_module": "jupyter-cytoscape",
       "_model_module_version": "^1.3.3",
       "_model_name": "EdgeModel",
       "_view_count": null,
       "_view_module": "jupyter-cytoscape",
       "_view_module_version": "^1.3.3",
       "_view_name": "EdgeView",
       "classes": " directed ",
       "data": {
        "source": "-137909323197928479",
        "target": "-4668704725124222374"
       },
       "pannable": true,
       "removed": false,
       "selectable": false,
       "selected": false
      }
     },
     "9f5174c6a4874facb54b2000c9618c43": {
      "model_module": "jupyter-cytoscape",
      "model_module_version": "^1.3.3",
      "model_name": "NodeModel",
      "state": {
       "_model_module": "jupyter-cytoscape",
       "_model_module_version": "^1.3.3",
       "_model_name": "NodeModel",
       "_view_count": null,
       "_view_module": "jupyter-cytoscape",
       "_view_module_version": "^1.3.3",
       "_view_name": "NodeView",
       "classes": "",
       "data": {
        "color": "gray",
        "id": "883733964526077721",
        "label": "0",
        "shape": "rectangle"
       },
       "grabbable": true,
       "grabbed": false,
       "locked": false,
       "pannable": false,
       "position": {},
       "removed": false,
       "selectable": false,
       "selected": false
      }
     },
     "9fb104e80cde4842b336f031b88781de": {
      "model_module": "jupyter-cytoscape",
      "model_module_version": "^1.3.3",
      "model_name": "NodeModel",
      "state": {
       "_model_module": "jupyter-cytoscape",
       "_model_module_version": "^1.3.3",
       "_model_name": "NodeModel",
       "_view_count": null,
       "_view_module": "jupyter-cytoscape",
       "_view_module_version": "^1.3.3",
       "_view_name": "NodeView",
       "classes": "",
       "data": {
        "color": "gray",
        "id": "1050264422001698648",
        "label": "8",
        "shape": "rectangle"
       },
       "grabbable": true,
       "grabbed": false,
       "locked": false,
       "pannable": false,
       "position": {},
       "removed": false,
       "selectable": false,
       "selected": false
      }
     },
     "a029614c820d41f8b0138472e41724db": {
      "model_module": "jupyter-cytoscape",
      "model_module_version": "^1.3.3",
      "model_name": "EdgeModel",
      "state": {
       "_model_module": "jupyter-cytoscape",
       "_model_module_version": "^1.3.3",
       "_model_name": "EdgeModel",
       "_view_count": null,
       "_view_module": "jupyter-cytoscape",
       "_view_module_version": "^1.3.3",
       "_view_name": "EdgeView",
       "classes": " directed ",
       "data": {
        "source": "-9003437424032724409",
        "target": "1971374049919701818"
       },
       "pannable": true,
       "removed": false,
       "selectable": false,
       "selected": false
      }
     },
     "a0bc1ade822c4f9c829be15c93071358": {
      "model_module": "jupyter-cytoscape",
      "model_module_version": "^1.3.3",
      "model_name": "NodeModel",
      "state": {
       "_model_module": "jupyter-cytoscape",
       "_model_module_version": "^1.3.3",
       "_model_name": "NodeModel",
       "_view_count": null,
       "_view_module": "jupyter-cytoscape",
       "_view_module_version": "^1.3.3",
       "_view_name": "NodeView",
       "classes": "",
       "data": {
        "color": "gray",
        "id": "4379359525155024175",
        "label": "getitem",
        "shape": "ellipse"
       },
       "grabbable": true,
       "grabbed": false,
       "locked": false,
       "pannable": false,
       "position": {},
       "removed": false,
       "selectable": false,
       "selected": false
      }
     },
     "a127aa3dcda1446da6b3c6ab9a5a7341": {
      "model_module": "jupyter-cytoscape",
      "model_module_version": "^1.3.3",
      "model_name": "NodeModel",
      "state": {
       "_model_module": "jupyter-cytoscape",
       "_model_module_version": "^1.3.3",
       "_model_name": "NodeModel",
       "_view_count": null,
       "_view_module": "jupyter-cytoscape",
       "_view_module_version": "^1.3.3",
       "_view_name": "NodeView",
       "classes": "",
       "data": {
        "color": "gray",
        "id": "-7283928645983381781",
        "label": "series-sum-chunk",
        "shape": "ellipse"
       },
       "grabbable": true,
       "grabbed": false,
       "locked": false,
       "pannable": false,
       "position": {},
       "removed": false,
       "selectable": false,
       "selected": false
      }
     },
     "a13b8cad806f457bb7b38ca0d3761fca": {
      "model_module": "jupyter-cytoscape",
      "model_module_version": "^1.3.3",
      "model_name": "EdgeModel",
      "state": {
       "_model_module": "jupyter-cytoscape",
       "_model_module_version": "^1.3.3",
       "_model_name": "EdgeModel",
       "_view_count": null,
       "_view_module": "jupyter-cytoscape",
       "_view_module_version": "^1.3.3",
       "_view_name": "EdgeView",
       "classes": " directed ",
       "data": {
        "source": "-2453018347855691885",
        "target": "1980314889892673180"
       },
       "pannable": true,
       "removed": false,
       "selectable": false,
       "selected": false
      }
     },
     "a16026a40dde47d2a0df93b3741cc3f2": {
      "model_module": "jupyter-cytoscape",
      "model_module_version": "^1.3.3",
      "model_name": "EdgeModel",
      "state": {
       "_model_module": "jupyter-cytoscape",
       "_model_module_version": "^1.3.3",
       "_model_name": "EdgeModel",
       "_view_count": null,
       "_view_module": "jupyter-cytoscape",
       "_view_module_version": "^1.3.3",
       "_view_name": "EdgeView",
       "classes": " directed ",
       "data": {
        "source": "5003279006582528727",
        "target": "-5442962328562488096"
       },
       "pannable": true,
       "removed": false,
       "selectable": false,
       "selected": false
      }
     },
     "a1fb0d2604f94ea39a2440059e073023": {
      "model_module": "jupyter-cytoscape",
      "model_module_version": "^1.3.3",
      "model_name": "EdgeModel",
      "state": {
       "_model_module": "jupyter-cytoscape",
       "_model_module_version": "^1.3.3",
       "_model_name": "EdgeModel",
       "_view_count": null,
       "_view_module": "jupyter-cytoscape",
       "_view_module_version": "^1.3.3",
       "_view_name": "EdgeView",
       "classes": " directed ",
       "data": {
        "source": "7557905178103697073",
        "target": "7968414539350968169"
       },
       "pannable": true,
       "removed": false,
       "selectable": false,
       "selected": false
      }
     },
     "a2e467d78235482c89fd37df23dc8ba4": {
      "model_module": "jupyter-cytoscape",
      "model_module_version": "^1.3.3",
      "model_name": "NodeModel",
      "state": {
       "_model_module": "jupyter-cytoscape",
       "_model_module_version": "^1.3.3",
       "_model_name": "NodeModel",
       "_view_count": null,
       "_view_module": "jupyter-cytoscape",
       "_view_module_version": "^1.3.3",
       "_view_name": "NodeView",
       "classes": "",
       "data": {
        "color": "gray",
        "id": "-5329143616833624474",
        "label": "7",
        "shape": "rectangle"
       },
       "grabbable": true,
       "grabbed": false,
       "locked": false,
       "pannable": false,
       "position": {},
       "removed": false,
       "selectable": false,
       "selected": false
      }
     },
     "a3c4d06bb4a243dfa2aacd1372cb65db": {
      "model_module": "jupyter-cytoscape",
      "model_module_version": "^1.3.3",
      "model_name": "EdgeModel",
      "state": {
       "_model_module": "jupyter-cytoscape",
       "_model_module_version": "^1.3.3",
       "_model_name": "EdgeModel",
       "_view_count": null,
       "_view_module": "jupyter-cytoscape",
       "_view_module_version": "^1.3.3",
       "_view_name": "EdgeView",
       "classes": " directed ",
       "data": {
        "source": "-602722291632583710",
        "target": "-7657833297781504393"
       },
       "pannable": true,
       "removed": false,
       "selectable": false,
       "selected": false
      }
     },
     "a4792197fa854bfaa4062aadac4a79c0": {
      "model_module": "jupyter-cytoscape",
      "model_module_version": "^1.3.3",
      "model_name": "NodeModel",
      "state": {
       "_model_module": "jupyter-cytoscape",
       "_model_module_version": "^1.3.3",
       "_model_name": "NodeModel",
       "_view_count": null,
       "_view_module": "jupyter-cytoscape",
       "_view_module_version": "^1.3.3",
       "_view_name": "NodeView",
       "classes": "",
       "data": {
        "color": "gray",
        "id": "5924388634500531897",
        "label": "1",
        "shape": "rectangle"
       },
       "grabbable": true,
       "grabbed": false,
       "locked": false,
       "pannable": false,
       "position": {},
       "removed": false,
       "selectable": false,
       "selected": false
      }
     },
     "a4a3b80bd2c7478a857a76fb750a2d27": {
      "model_module": "jupyter-cytoscape",
      "model_module_version": "^1.3.3",
      "model_name": "EdgeModel",
      "state": {
       "_model_module": "jupyter-cytoscape",
       "_model_module_version": "^1.3.3",
       "_model_name": "EdgeModel",
       "_view_count": null,
       "_view_module": "jupyter-cytoscape",
       "_view_module_version": "^1.3.3",
       "_view_name": "EdgeView",
       "classes": " directed ",
       "data": {
        "source": "2886109600526996361",
        "target": "-39768415912864291"
       },
       "pannable": true,
       "removed": false,
       "selectable": false,
       "selected": false
      }
     },
     "a515e8745500457bba7953572f9ba55e": {
      "model_module": "jupyter-cytoscape",
      "model_module_version": "^1.3.3",
      "model_name": "EdgeModel",
      "state": {
       "_model_module": "jupyter-cytoscape",
       "_model_module_version": "^1.3.3",
       "_model_name": "EdgeModel",
       "_view_count": null,
       "_view_module": "jupyter-cytoscape",
       "_view_module_version": "^1.3.3",
       "_view_name": "EdgeView",
       "classes": " directed ",
       "data": {
        "source": "3811859984346790868",
        "target": "8479014806021700243"
       },
       "pannable": true,
       "removed": false,
       "selectable": false,
       "selected": false
      }
     },
     "a5201c0a6f9d4dfa938c0931fa4de93f": {
      "model_module": "jupyter-cytoscape",
      "model_module_version": "^1.3.3",
      "model_name": "NodeModel",
      "state": {
       "_model_module": "jupyter-cytoscape",
       "_model_module_version": "^1.3.3",
       "_model_name": "NodeModel",
       "_view_count": null,
       "_view_module": "jupyter-cytoscape",
       "_view_module_version": "^1.3.3",
       "_view_name": "NodeView",
       "classes": "",
       "data": {
        "color": "gray",
        "id": "4470334990377653832",
        "label": "moment_chunk",
        "shape": "ellipse"
       },
       "grabbable": true,
       "grabbed": false,
       "locked": false,
       "pannable": false,
       "position": {},
       "removed": false,
       "selectable": false,
       "selected": false
      }
     },
     "a54df596ba6b4f8bb8e63ed367470b62": {
      "model_module": "jupyter-cytoscape",
      "model_module_version": "^1.3.3",
      "model_name": "NodeModel",
      "state": {
       "_model_module": "jupyter-cytoscape",
       "_model_module_version": "^1.3.3",
       "_model_name": "NodeModel",
       "_view_count": null,
       "_view_module": "jupyter-cytoscape",
       "_view_module_version": "^1.3.3",
       "_view_name": "NodeView",
       "classes": "",
       "data": {
        "color": "gray",
        "id": "1825241767808187105",
        "label": "moment_chunk",
        "shape": "ellipse"
       },
       "grabbable": true,
       "grabbed": false,
       "locked": false,
       "pannable": false,
       "position": {},
       "removed": false,
       "selectable": false,
       "selected": false
      }
     },
     "a58644e45b1f4f0dac79e479eb46e741": {
      "model_module": "jupyter-cytoscape",
      "model_module_version": "^1.3.3",
      "model_name": "EdgeModel",
      "state": {
       "_model_module": "jupyter-cytoscape",
       "_model_module_version": "^1.3.3",
       "_model_name": "EdgeModel",
       "_view_count": null,
       "_view_module": "jupyter-cytoscape",
       "_view_module_version": "^1.3.3",
       "_view_name": "EdgeView",
       "classes": " directed ",
       "data": {
        "source": "337337152759282577",
        "target": "-3806204897521849234"
       },
       "pannable": true,
       "removed": false,
       "selectable": false,
       "selected": false
      }
     },
     "a5ad1d12bbdc4f3aa9d1851bf9d333c5": {
      "model_module": "jupyter-cytoscape",
      "model_module_version": "^1.3.3",
      "model_name": "EdgeModel",
      "state": {
       "_model_module": "jupyter-cytoscape",
       "_model_module_version": "^1.3.3",
       "_model_name": "EdgeModel",
       "_view_count": null,
       "_view_module": "jupyter-cytoscape",
       "_view_module_version": "^1.3.3",
       "_view_name": "EdgeView",
       "classes": " directed ",
       "data": {
        "source": "-1140170839518051455",
        "target": "8573916103727133576"
       },
       "pannable": true,
       "removed": false,
       "selectable": false,
       "selected": false
      }
     },
     "a67d5ded83824e649c320138199e3399": {
      "model_module": "jupyter-cytoscape",
      "model_module_version": "^1.3.3",
      "model_name": "NodeModel",
      "state": {
       "_model_module": "jupyter-cytoscape",
       "_model_module_version": "^1.3.3",
       "_model_name": "NodeModel",
       "_view_count": null,
       "_view_module": "jupyter-cytoscape",
       "_view_module_version": "^1.3.3",
       "_view_name": "NodeView",
       "classes": "",
       "data": {
        "color": "gray",
        "id": "-2739035532788873563",
        "label": "series-count-chunk",
        "shape": "ellipse"
       },
       "grabbable": true,
       "grabbed": false,
       "locked": false,
       "pannable": false,
       "position": {},
       "removed": false,
       "selectable": false,
       "selected": false
      }
     },
     "a74d9b172aec4925a1cd6bcdfddc928a": {
      "model_module": "jupyter-cytoscape",
      "model_module_version": "^1.3.3",
      "model_name": "NodeModel",
      "state": {
       "_model_module": "jupyter-cytoscape",
       "_model_module_version": "^1.3.3",
       "_model_name": "NodeModel",
       "_view_count": null,
       "_view_module": "jupyter-cytoscape",
       "_view_module_version": "^1.3.3",
       "_view_name": "NodeView",
       "classes": "",
       "data": {
        "color": "gray",
        "id": "7010624738505185897",
        "label": "getitem",
        "shape": "ellipse"
       },
       "grabbable": true,
       "grabbed": false,
       "locked": false,
       "pannable": false,
       "position": {},
       "removed": false,
       "selectable": false,
       "selected": false
      }
     },
     "a93eea31fa36420f8571c22c2fe91baf": {
      "model_module": "jupyter-cytoscape",
      "model_module_version": "^1.3.3",
      "model_name": "NodeModel",
      "state": {
       "_model_module": "jupyter-cytoscape",
       "_model_module_version": "^1.3.3",
       "_model_name": "NodeModel",
       "_view_count": null,
       "_view_module": "jupyter-cytoscape",
       "_view_module_version": "^1.3.3",
       "_view_name": "NodeView",
       "classes": "",
       "data": {
        "color": "gray",
        "id": "-1140170839518051455",
        "label": "1",
        "shape": "rectangle"
       },
       "grabbable": true,
       "grabbed": false,
       "locked": false,
       "pannable": false,
       "position": {},
       "removed": false,
       "selectable": false,
       "selected": false
      }
     },
     "ab0afea456ba4e80bfe2ceb06c7d4686": {
      "model_module": "jupyter-cytoscape",
      "model_module_version": "^1.3.3",
      "model_name": "NodeModel",
      "state": {
       "_model_module": "jupyter-cytoscape",
       "_model_module_version": "^1.3.3",
       "_model_name": "NodeModel",
       "_view_count": null,
       "_view_module": "jupyter-cytoscape",
       "_view_module_version": "^1.3.3",
       "_view_name": "NodeView",
       "classes": "",
       "data": {
        "color": "gray",
        "id": "8605751546238952959",
        "label": "series-std",
        "shape": "ellipse"
       },
       "grabbable": true,
       "grabbed": false,
       "locked": false,
       "pannable": false,
       "position": {},
       "removed": false,
       "selectable": false,
       "selected": false
      }
     },
     "ab1394552f404089a65bba3e8fc551e0": {
      "model_module": "jupyter-cytoscape",
      "model_module_version": "^1.3.3",
      "model_name": "NodeModel",
      "state": {
       "_model_module": "jupyter-cytoscape",
       "_model_module_version": "^1.3.3",
       "_model_name": "NodeModel",
       "_view_count": null,
       "_view_module": "jupyter-cytoscape",
       "_view_module_version": "^1.3.3",
       "_view_name": "NodeView",
       "classes": "",
       "data": {
        "color": "gray",
        "id": "-583252121601466528",
        "label": "0",
        "shape": "rectangle"
       },
       "grabbable": true,
       "grabbed": false,
       "locked": false,
       "pannable": false,
       "position": {},
       "removed": false,
       "selectable": false,
       "selected": false
      }
     },
     "ab5aa1d7e01a432c80a1bf42f173f88d": {
      "model_module": "jupyter-cytoscape",
      "model_module_version": "^1.3.3",
      "model_name": "EdgeModel",
      "state": {
       "_model_module": "jupyter-cytoscape",
       "_model_module_version": "^1.3.3",
       "_model_name": "EdgeModel",
       "_view_count": null,
       "_view_module": "jupyter-cytoscape",
       "_view_module_version": "^1.3.3",
       "_view_name": "EdgeView",
       "classes": " directed ",
       "data": {
        "source": "-2673585678245233708",
        "target": "-7442966856528857301"
       },
       "pannable": true,
       "removed": false,
       "selectable": false,
       "selected": false
      }
     },
     "abe09a2723914610b2991cc79c26f688": {
      "model_module": "jupyter-cytoscape",
      "model_module_version": "^1.3.3",
      "model_name": "EdgeModel",
      "state": {
       "_model_module": "jupyter-cytoscape",
       "_model_module_version": "^1.3.3",
       "_model_name": "EdgeModel",
       "_view_count": null,
       "_view_module": "jupyter-cytoscape",
       "_view_module_version": "^1.3.3",
       "_view_name": "EdgeView",
       "classes": " directed ",
       "data": {
        "source": "-8817975508993204545",
        "target": "1825241767808187105"
       },
       "pannable": true,
       "removed": false,
       "selectable": false,
       "selected": false
      }
     },
     "ac5dd24c15cb4b2cb8c67807d03a9d03": {
      "model_module": "jupyter-cytoscape",
      "model_module_version": "^1.3.3",
      "model_name": "EdgeModel",
      "state": {
       "_model_module": "jupyter-cytoscape",
       "_model_module_version": "^1.3.3",
       "_model_name": "EdgeModel",
       "_view_count": null,
       "_view_module": "jupyter-cytoscape",
       "_view_module_version": "^1.3.3",
       "_view_name": "EdgeView",
       "classes": " directed ",
       "data": {
        "source": "4990105663807216068",
        "target": "-3386512947487649779"
       },
       "pannable": true,
       "removed": false,
       "selectable": false,
       "selected": false
      }
     },
     "acfd302f736643e59ee2005889fa0ed2": {
      "model_module": "jupyter-cytoscape",
      "model_module_version": "^1.3.3",
      "model_name": "NodeModel",
      "state": {
       "_model_module": "jupyter-cytoscape",
       "_model_module_version": "^1.3.3",
       "_model_name": "NodeModel",
       "_view_count": null,
       "_view_module": "jupyter-cytoscape",
       "_view_module_version": "^1.3.3",
       "_view_name": "NodeView",
       "classes": "",
       "data": {
        "color": "gray",
        "id": "-200111395126185168",
        "label": "6",
        "shape": "rectangle"
       },
       "grabbable": true,
       "grabbed": false,
       "locked": false,
       "pannable": false,
       "position": {},
       "removed": false,
       "selectable": false,
       "selected": false
      }
     },
     "ad1df235c45c48d38e15eef2b550bc09": {
      "model_module": "jupyter-cytoscape",
      "model_module_version": "^1.3.3",
      "model_name": "NodeModel",
      "state": {
       "_model_module": "jupyter-cytoscape",
       "_model_module_version": "^1.3.3",
       "_model_name": "NodeModel",
       "_view_count": null,
       "_view_module": "jupyter-cytoscape",
       "_view_module_version": "^1.3.3",
       "_view_name": "NodeView",
       "classes": "",
       "data": {
        "color": "gray",
        "id": "-8817975508993204545",
        "label": "8",
        "shape": "rectangle"
       },
       "grabbable": true,
       "grabbed": false,
       "locked": false,
       "pannable": false,
       "position": {},
       "removed": false,
       "selectable": false,
       "selected": false
      }
     },
     "ad248ceca607482ea3fbbf2ef0161a84": {
      "model_module": "jupyter-cytoscape",
      "model_module_version": "^1.3.3",
      "model_name": "NodeModel",
      "state": {
       "_model_module": "jupyter-cytoscape",
       "_model_module_version": "^1.3.3",
       "_model_name": "NodeModel",
       "_view_count": null,
       "_view_module": "jupyter-cytoscape",
       "_view_module_version": "^1.3.3",
       "_view_name": "NodeView",
       "classes": "",
       "data": {
        "color": "gray",
        "id": "6771642708243075641",
        "label": "inv",
        "shape": "ellipse"
       },
       "grabbable": true,
       "grabbed": false,
       "locked": false,
       "pannable": false,
       "position": {},
       "removed": false,
       "selectable": false,
       "selected": false
      }
     },
     "ad72b92dca1f45cb86a56a0d556c6f6f": {
      "model_module": "jupyter-cytoscape",
      "model_module_version": "^1.3.3",
      "model_name": "EdgeModel",
      "state": {
       "_model_module": "jupyter-cytoscape",
       "_model_module_version": "^1.3.3",
       "_model_name": "EdgeModel",
       "_view_count": null,
       "_view_module": "jupyter-cytoscape",
       "_view_module_version": "^1.3.3",
       "_view_name": "EdgeView",
       "classes": " directed ",
       "data": {
        "source": "8026906870815044490",
        "target": "883733964526077721"
       },
       "pannable": true,
       "removed": false,
       "selectable": false,
       "selected": false
      }
     },
     "adb9d6d7be824be08136f899c971f79b": {
      "model_module": "jupyter-cytoscape",
      "model_module_version": "^1.3.3",
      "model_name": "EdgeModel",
      "state": {
       "_model_module": "jupyter-cytoscape",
       "_model_module_version": "^1.3.3",
       "_model_name": "EdgeModel",
       "_view_count": null,
       "_view_module": "jupyter-cytoscape",
       "_view_module_version": "^1.3.3",
       "_view_name": "EdgeView",
       "classes": " directed ",
       "data": {
        "source": "1678070953413903177",
        "target": "-6746707984043032608"
       },
       "pannable": true,
       "removed": false,
       "selectable": false,
       "selected": false
      }
     },
     "add91627f9194ce4ae9fe5a6fcef1891": {
      "model_module": "jupyter-cytoscape",
      "model_module_version": "^1.3.3",
      "model_name": "EdgeModel",
      "state": {
       "_model_module": "jupyter-cytoscape",
       "_model_module_version": "^1.3.3",
       "_model_name": "EdgeModel",
       "_view_count": null,
       "_view_module": "jupyter-cytoscape",
       "_view_module_version": "^1.3.3",
       "_view_name": "EdgeView",
       "classes": " directed ",
       "data": {
        "source": "3585940777049003877",
        "target": "575051168026576516"
       },
       "pannable": true,
       "removed": false,
       "selectable": false,
       "selected": false
      }
     },
     "ae4780ed0d1740b48da3d18149132553": {
      "model_module": "jupyter-cytoscape",
      "model_module_version": "^1.3.3",
      "model_name": "EdgeModel",
      "state": {
       "_model_module": "jupyter-cytoscape",
       "_model_module_version": "^1.3.3",
       "_model_name": "EdgeModel",
       "_view_count": null,
       "_view_module": "jupyter-cytoscape",
       "_view_module_version": "^1.3.3",
       "_view_name": "EdgeView",
       "classes": " directed ",
       "data": {
        "source": "1980314889892673180",
        "target": "-663267682343184339"
       },
       "pannable": true,
       "removed": false,
       "selectable": false,
       "selected": false
      }
     },
     "aec6799ff38442c792c9276682efcda4": {
      "model_module": "jupyter-cytoscape",
      "model_module_version": "^1.3.3",
      "model_name": "NodeModel",
      "state": {
       "_model_module": "jupyter-cytoscape",
       "_model_module_version": "^1.3.3",
       "_model_name": "NodeModel",
       "_view_count": null,
       "_view_module": "jupyter-cytoscape",
       "_view_module_version": "^1.3.3",
       "_view_name": "NodeView",
       "classes": "",
       "data": {
        "color": "gray",
        "id": "7769789198578560534",
        "label": "inv",
        "shape": "ellipse"
       },
       "grabbable": true,
       "grabbed": false,
       "locked": false,
       "pannable": false,
       "position": {},
       "removed": false,
       "selectable": false,
       "selected": false
      }
     },
     "af0d8a69d6f94ffcbc3284871e029e45": {
      "model_module": "jupyter-cytoscape",
      "model_module_version": "^1.3.3",
      "model_name": "EdgeModel",
      "state": {
       "_model_module": "jupyter-cytoscape",
       "_model_module_version": "^1.3.3",
       "_model_name": "EdgeModel",
       "_view_count": null,
       "_view_module": "jupyter-cytoscape",
       "_view_module_version": "^1.3.3",
       "_view_name": "EdgeView",
       "classes": " directed ",
       "data": {
        "source": "2408604677709454514",
        "target": "1801197901508029394"
       },
       "pannable": true,
       "removed": false,
       "selectable": false,
       "selected": false
      }
     },
     "af8c5e19c5084610a91bc3961f441f2d": {
      "model_module": "jupyter-cytoscape",
      "model_module_version": "^1.3.3",
      "model_name": "NodeModel",
      "state": {
       "_model_module": "jupyter-cytoscape",
       "_model_module_version": "^1.3.3",
       "_model_name": "NodeModel",
       "_view_count": null,
       "_view_module": "jupyter-cytoscape",
       "_view_module_version": "^1.3.3",
       "_view_name": "NodeView",
       "classes": "",
       "data": {
        "color": "gray",
        "id": "-8063163206826232081",
        "label": "series-count-agg",
        "shape": "ellipse"
       },
       "grabbable": true,
       "grabbed": false,
       "locked": false,
       "pannable": false,
       "position": {},
       "removed": false,
       "selectable": false,
       "selected": false
      }
     },
     "b0f5f98f49884ed2942c58d1b829df27": {
      "model_module": "jupyter-cytoscape",
      "model_module_version": "^1.3.3",
      "model_name": "EdgeModel",
      "state": {
       "_model_module": "jupyter-cytoscape",
       "_model_module_version": "^1.3.3",
       "_model_name": "EdgeModel",
       "_view_count": null,
       "_view_module": "jupyter-cytoscape",
       "_view_module_version": "^1.3.3",
       "_view_name": "EdgeView",
       "classes": " directed ",
       "data": {
        "source": "764358489235708751",
        "target": "-3367042777456532597"
       },
       "pannable": true,
       "removed": false,
       "selectable": false,
       "selected": false
      }
     },
     "b223e2cbc83f4ec5a39093eecf4447d2": {
      "model_module": "jupyter-cytoscape",
      "model_module_version": "^1.3.3",
      "model_name": "NodeModel",
      "state": {
       "_model_module": "jupyter-cytoscape",
       "_model_module_version": "^1.3.3",
       "_model_name": "NodeModel",
       "_view_count": null,
       "_view_module": "jupyter-cytoscape",
       "_view_module_version": "^1.3.3",
       "_view_name": "NodeView",
       "classes": "",
       "data": {
        "color": "gray",
        "id": "2600400115267304963",
        "label": "series-mean",
        "shape": "ellipse"
       },
       "grabbable": true,
       "grabbed": false,
       "locked": false,
       "pannable": false,
       "position": {},
       "removed": false,
       "selectable": false,
       "selected": false
      }
     },
     "b279ae2379a149dc91d8fbf1a84057b5": {
      "model_module": "jupyter-cytoscape",
      "model_module_version": "^1.3.3",
      "model_name": "EdgeModel",
      "state": {
       "_model_module": "jupyter-cytoscape",
       "_model_module_version": "^1.3.3",
       "_model_name": "EdgeModel",
       "_view_count": null,
       "_view_module": "jupyter-cytoscape",
       "_view_module_version": "^1.3.3",
       "_view_name": "EdgeView",
       "classes": " directed ",
       "data": {
        "source": "2219488350727462658",
        "target": "-7283928645983381781"
       },
       "pannable": true,
       "removed": false,
       "selectable": false,
       "selected": false
      }
     },
     "b29b9742eda5465e8dee8013b67ded2f": {
      "model_module": "jupyter-cytoscape",
      "model_module_version": "^1.3.3",
      "model_name": "NodeModel",
      "state": {
       "_model_module": "jupyter-cytoscape",
       "_model_module_version": "^1.3.3",
       "_model_name": "NodeModel",
       "_view_count": null,
       "_view_module": "jupyter-cytoscape",
       "_view_module_version": "^1.3.3",
       "_view_name": "NodeView",
       "classes": "",
       "data": {
        "color": "gray",
        "id": "-6975872468376930331",
        "label": "9",
        "shape": "rectangle"
       },
       "grabbable": true,
       "grabbed": false,
       "locked": false,
       "pannable": false,
       "position": {},
       "removed": false,
       "selectable": false,
       "selected": false
      }
     },
     "b4050b28a19a4273b6ad469461133807": {
      "model_module": "jupyter-cytoscape",
      "model_module_version": "^1.3.3",
      "model_name": "NodeModel",
      "state": {
       "_model_module": "jupyter-cytoscape",
       "_model_module_version": "^1.3.3",
       "_model_name": "NodeModel",
       "_view_count": null,
       "_view_module": "jupyter-cytoscape",
       "_view_module_version": "^1.3.3",
       "_view_name": "NodeView",
       "classes": "",
       "data": {
        "color": "gray",
        "id": "1980314889892673180",
        "label": "1",
        "shape": "rectangle"
       },
       "grabbable": true,
       "grabbed": false,
       "locked": false,
       "pannable": false,
       "position": {},
       "removed": false,
       "selectable": false,
       "selected": false
      }
     },
     "b4721179cf314f0fbb727f084657b7c5": {
      "model_module": "jupyter-cytoscape",
      "model_module_version": "^1.3.3",
      "model_name": "NodeModel",
      "state": {
       "_model_module": "jupyter-cytoscape",
       "_model_module_version": "^1.3.3",
       "_model_name": "NodeModel",
       "_view_count": null,
       "_view_module": "jupyter-cytoscape",
       "_view_module_version": "^1.3.3",
       "_view_name": "NodeView",
       "classes": "",
       "data": {
        "color": "gray",
        "id": "8487955645994671605",
        "label": "2",
        "shape": "rectangle"
       },
       "grabbable": true,
       "grabbed": false,
       "locked": false,
       "pannable": false,
       "position": {},
       "removed": false,
       "selectable": false,
       "selected": false
      }
     },
     "b5af3077859c4b08869c819753352d95": {
      "model_module": "jupyter-cytoscape",
      "model_module_version": "^1.3.3",
      "model_name": "NodeModel",
      "state": {
       "_model_module": "jupyter-cytoscape",
       "_model_module_version": "^1.3.3",
       "_model_name": "NodeModel",
       "_view_count": null,
       "_view_module": "jupyter-cytoscape",
       "_view_module_version": "^1.3.3",
       "_view_name": "NodeView",
       "classes": "",
       "data": {
        "color": "gray",
        "id": "-3005916551607653423",
        "label": "series-sum-chunk",
        "shape": "ellipse"
       },
       "grabbable": true,
       "grabbed": false,
       "locked": false,
       "pannable": false,
       "position": {},
       "removed": false,
       "selectable": false,
       "selected": false
      }
     },
     "b5ea75e8192d43dea0040e6751b47f3d": {
      "model_module": "jupyter-cytoscape",
      "model_module_version": "^1.3.3",
      "model_name": "EdgeModel",
      "state": {
       "_model_module": "jupyter-cytoscape",
       "_model_module_version": "^1.3.3",
       "_model_name": "EdgeModel",
       "_view_count": null,
       "_view_module": "jupyter-cytoscape",
       "_view_module_version": "^1.3.3",
       "_view_name": "EdgeView",
       "classes": " directed ",
       "data": {
        "source": "4253843718629060011",
        "target": "-5386689872228905767"
       },
       "pannable": true,
       "removed": false,
       "selectable": false,
       "selected": false
      }
     },
     "b652fc1e311b4ebfa27339154d1d51ff": {
      "model_module": "jupyter-cytoscape",
      "model_module_version": "^1.3.3",
      "model_name": "EdgeModel",
      "state": {
       "_model_module": "jupyter-cytoscape",
       "_model_module_version": "^1.3.3",
       "_model_name": "EdgeModel",
       "_view_count": null,
       "_view_module": "jupyter-cytoscape",
       "_view_module_version": "^1.3.3",
       "_view_name": "EdgeView",
       "classes": " directed ",
       "data": {
        "source": "1971374049919701818",
        "target": "7010624738505185897"
       },
       "pannable": true,
       "removed": false,
       "selectable": false,
       "selected": false
      }
     },
     "b6d5ecfd60be456f8ba8cd4e6da5103d": {
      "model_module": "jupyter-cytoscape",
      "model_module_version": "^1.3.3",
      "model_name": "EdgeModel",
      "state": {
       "_model_module": "jupyter-cytoscape",
       "_model_module_version": "^1.3.3",
       "_model_name": "EdgeModel",
       "_view_count": null,
       "_view_module": "jupyter-cytoscape",
       "_view_module_version": "^1.3.3",
       "_view_name": "EdgeView",
       "classes": " directed ",
       "data": {
        "source": "1050264422001698648",
        "target": "2187412759870376097"
       },
       "pannable": true,
       "removed": false,
       "selectable": false,
       "selected": false
      }
     },
     "b74c2d61d3644265a9f1933ecd310b97": {
      "model_module": "jupyter-cytoscape",
      "model_module_version": "^1.3.3",
      "model_name": "EdgeModel",
      "state": {
       "_model_module": "jupyter-cytoscape",
       "_model_module_version": "^1.3.3",
       "_model_name": "EdgeModel",
       "_view_count": null,
       "_view_module": "jupyter-cytoscape",
       "_view_module_version": "^1.3.3",
       "_view_name": "EdgeView",
       "classes": " directed ",
       "data": {
        "source": "4145187255333344456",
        "target": "-2293980137310216365"
       },
       "pannable": true,
       "removed": false,
       "selectable": false,
       "selected": false
      }
     },
     "b85af33b29054ebcbe9a95069f4f3c74": {
      "model_module": "jupyter-cytoscape",
      "model_module_version": "^1.3.3",
      "model_name": "EdgeModel",
      "state": {
       "_model_module": "jupyter-cytoscape",
       "_model_module_version": "^1.3.3",
       "_model_name": "EdgeModel",
       "_view_count": null,
       "_view_module": "jupyter-cytoscape",
       "_view_module_version": "^1.3.3",
       "_view_name": "EdgeView",
       "classes": " directed ",
       "data": {
        "source": "2219488350727462658",
        "target": "-5456134517476523992"
       },
       "pannable": true,
       "removed": false,
       "selectable": false,
       "selected": false
      }
     },
     "b882cf2a58fe458784bf9dd7156d936d": {
      "model_module": "jupyter-cytoscape",
      "model_module_version": "^1.3.3",
      "model_name": "EdgeModel",
      "state": {
       "_model_module": "jupyter-cytoscape",
       "_model_module_version": "^1.3.3",
       "_model_name": "EdgeModel",
       "_view_count": null,
       "_view_module": "jupyter-cytoscape",
       "_view_module_version": "^1.3.3",
       "_view_name": "EdgeView",
       "classes": " directed ",
       "data": {
        "source": "1271542873397694302",
        "target": "1801197901508029394"
       },
       "pannable": true,
       "removed": false,
       "selectable": false,
       "selected": false
      }
     },
     "b8f11acc972a4b07ada004cefa55ff7e": {
      "model_module": "jupyter-cytoscape",
      "model_module_version": "^1.3.3",
      "model_name": "NodeModel",
      "state": {
       "_model_module": "jupyter-cytoscape",
       "_model_module_version": "^1.3.3",
       "_model_name": "NodeModel",
       "_view_count": null,
       "_view_module": "jupyter-cytoscape",
       "_view_module_version": "^1.3.3",
       "_view_name": "NodeView",
       "classes": "",
       "data": {
        "color": "gray",
        "id": "987227504297511239",
        "label": "getitem",
        "shape": "ellipse"
       },
       "grabbable": true,
       "grabbed": false,
       "locked": false,
       "pannable": false,
       "position": {},
       "removed": false,
       "selectable": false,
       "selected": false
      }
     },
     "b91d2e14a91645b890a548d48a7a357d": {
      "model_module": "jupyter-cytoscape",
      "model_module_version": "^1.3.3",
      "model_name": "EdgeModel",
      "state": {
       "_model_module": "jupyter-cytoscape",
       "_model_module_version": "^1.3.3",
       "_model_name": "EdgeModel",
       "_view_count": null,
       "_view_module": "jupyter-cytoscape",
       "_view_module_version": "^1.3.3",
       "_view_name": "EdgeView",
       "classes": " directed ",
       "data": {
        "source": "8487955645994671605",
        "target": "-663267682343184339"
       },
       "pannable": true,
       "removed": false,
       "selectable": false,
       "selected": false
      }
     },
     "ba812ebcc0314f73bc7c5435fd22c322": {
      "model_module": "jupyter-cytoscape",
      "model_module_version": "^1.3.3",
      "model_name": "EdgeModel",
      "state": {
       "_model_module": "jupyter-cytoscape",
       "_model_module_version": "^1.3.3",
       "_model_name": "EdgeModel",
       "_view_count": null,
       "_view_module": "jupyter-cytoscape",
       "_view_module_version": "^1.3.3",
       "_view_name": "EdgeView",
       "classes": " directed ",
       "data": {
        "source": "-7982791425939672453",
        "target": "-285489964199686289"
       },
       "pannable": true,
       "removed": false,
       "selectable": false,
       "selected": false
      }
     },
     "bac5b2e4c7414b449c51ac8f8d32a8f3": {
      "model_module": "jupyter-cytoscape",
      "model_module_version": "^1.3.3",
      "model_name": "EdgeModel",
      "state": {
       "_model_module": "jupyter-cytoscape",
       "_model_module_version": "^1.3.3",
       "_model_name": "EdgeModel",
       "_view_count": null,
       "_view_module": "jupyter-cytoscape",
       "_view_module_version": "^1.3.3",
       "_view_name": "EdgeView",
       "classes": " directed ",
       "data": {
        "source": "1806739397881816436",
        "target": "-3257145253004264927"
       },
       "pannable": true,
       "removed": false,
       "selectable": false,
       "selected": false
      }
     },
     "baca493ffdb9431d8b2abb2233145101": {
      "model_module": "jupyter-cytoscape",
      "model_module_version": "^1.3.3",
      "model_name": "NodeModel",
      "state": {
       "_model_module": "jupyter-cytoscape",
       "_model_module_version": "^1.3.3",
       "_model_name": "NodeModel",
       "_view_count": null,
       "_view_module": "jupyter-cytoscape",
       "_view_module_version": "^1.3.3",
       "_view_name": "NodeView",
       "classes": "",
       "data": {
        "color": "gray",
        "id": "-2477825641932771891",
        "label": "series-sum-chunk",
        "shape": "ellipse"
       },
       "grabbable": true,
       "grabbed": false,
       "locked": false,
       "pannable": false,
       "position": {},
       "removed": false,
       "selectable": false,
       "selected": false
      }
     },
     "bb86e4d650f14c0d96a72800f8cc7999": {
      "model_module": "jupyter-cytoscape",
      "model_module_version": "^1.3.3",
      "model_name": "EdgeModel",
      "state": {
       "_model_module": "jupyter-cytoscape",
       "_model_module_version": "^1.3.3",
       "_model_name": "EdgeModel",
       "_view_count": null,
       "_view_module": "jupyter-cytoscape",
       "_view_module_version": "^1.3.3",
       "_view_name": "EdgeView",
       "classes": " directed ",
       "data": {
        "source": "3140597978645465828",
        "target": "4573578961550351224"
       },
       "pannable": true,
       "removed": false,
       "selectable": false,
       "selected": false
      }
     },
     "bc794423d3844db9bf9d2844e9ddce01": {
      "model_module": "jupyter-cytoscape",
      "model_module_version": "^1.3.3",
      "model_name": "EdgeModel",
      "state": {
       "_model_module": "jupyter-cytoscape",
       "_model_module_version": "^1.3.3",
       "_model_name": "EdgeModel",
       "_view_count": null,
       "_view_module": "jupyter-cytoscape",
       "_view_module_version": "^1.3.3",
       "_view_name": "EdgeView",
       "classes": " directed ",
       "data": {
        "source": "-1590934119349483542",
        "target": "-137909323197928479"
       },
       "pannable": true,
       "removed": false,
       "selectable": false,
       "selected": false
      }
     },
     "be39f64c2b0f4ac5b2930713a9200e61": {
      "model_module": "jupyter-cytoscape",
      "model_module_version": "^1.3.3",
      "model_name": "NodeModel",
      "state": {
       "_model_module": "jupyter-cytoscape",
       "_model_module_version": "^1.3.3",
       "_model_name": "NodeModel",
       "_view_count": null,
       "_view_module": "jupyter-cytoscape",
       "_view_module_version": "^1.3.3",
       "_view_name": "NodeView",
       "classes": "",
       "data": {
        "color": "gray",
        "id": "4956559252988065657",
        "label": "0",
        "shape": "rectangle"
       },
       "grabbable": true,
       "grabbed": false,
       "locked": false,
       "pannable": false,
       "position": {},
       "removed": false,
       "selectable": false,
       "selected": false
      }
     },
     "beab1622fea447e68f32c9115655b367": {
      "model_module": "jupyter-cytoscape",
      "model_module_version": "^1.3.3",
      "model_name": "EdgeModel",
      "state": {
       "_model_module": "jupyter-cytoscape",
       "_model_module_version": "^1.3.3",
       "_model_name": "EdgeModel",
       "_view_count": null,
       "_view_module": "jupyter-cytoscape",
       "_view_module_version": "^1.3.3",
       "_view_name": "EdgeView",
       "classes": " directed ",
       "data": {
        "source": "-5830253291788376150",
        "target": "4755164705774767887"
       },
       "pannable": true,
       "removed": false,
       "selectable": false,
       "selected": false
      }
     },
     "beec28f25b5643a593ac9ffa83be8b27": {
      "model_module": "jupyter-cytoscape",
      "model_module_version": "^1.3.3",
      "model_name": "NodeModel",
      "state": {
       "_model_module": "jupyter-cytoscape",
       "_model_module_version": "^1.3.3",
       "_model_name": "NodeModel",
       "_view_count": null,
       "_view_module": "jupyter-cytoscape",
       "_view_module_version": "^1.3.3",
       "_view_name": "NodeView",
       "classes": "",
       "data": {
        "color": "gray",
        "id": "-4668704725124222374",
        "label": "getitem",
        "shape": "ellipse"
       },
       "grabbable": true,
       "grabbed": false,
       "locked": false,
       "pannable": false,
       "position": {},
       "removed": false,
       "selectable": false,
       "selected": false
      }
     },
     "beed9b08320b4673a9ccd9e137519bad": {
      "model_module": "jupyter-cytoscape",
      "model_module_version": "^1.3.3",
      "model_name": "EdgeModel",
      "state": {
       "_model_module": "jupyter-cytoscape",
       "_model_module_version": "^1.3.3",
       "_model_name": "EdgeModel",
       "_view_count": null,
       "_view_module": "jupyter-cytoscape",
       "_view_module_version": "^1.3.3",
       "_view_name": "EdgeView",
       "classes": " directed ",
       "data": {
        "source": "8732954314272609096",
        "target": "6164616902370390668"
       },
       "pannable": true,
       "removed": false,
       "selectable": false,
       "selected": false
      }
     },
     "bf032c6ae70643b0b345ac0a59a2b9ba": {
      "model_module": "jupyter-cytoscape",
      "model_module_version": "^1.3.3",
      "model_name": "EdgeModel",
      "state": {
       "_model_module": "jupyter-cytoscape",
       "_model_module_version": "^1.3.3",
       "_model_name": "EdgeModel",
       "_view_count": null,
       "_view_module": "jupyter-cytoscape",
       "_view_module_version": "^1.3.3",
       "_view_name": "EdgeView",
       "classes": " directed ",
       "data": {
        "source": "2408604677709454514",
        "target": "-7987099058694741148"
       },
       "pannable": true,
       "removed": false,
       "selectable": false,
       "selected": false
      }
     },
     "bf5779f96e754368b5412ba942af1141": {
      "model_module": "jupyter-cytoscape",
      "model_module_version": "^1.3.3",
      "model_name": "NodeModel",
      "state": {
       "_model_module": "jupyter-cytoscape",
       "_model_module_version": "^1.3.3",
       "_model_name": "NodeModel",
       "_view_count": null,
       "_view_module": "jupyter-cytoscape",
       "_view_module_version": "^1.3.3",
       "_view_name": "NodeView",
       "classes": "",
       "data": {
        "color": "gray",
        "id": "2828193821718404924",
        "label": "getitem",
        "shape": "ellipse"
       },
       "grabbable": true,
       "grabbed": false,
       "locked": false,
       "pannable": false,
       "position": {},
       "removed": false,
       "selectable": false,
       "selected": false
      }
     },
     "bf8236aab1604d6897d455194a96c245": {
      "model_module": "jupyter-cytoscape",
      "model_module_version": "^1.3.3",
      "model_name": "NodeModel",
      "state": {
       "_model_module": "jupyter-cytoscape",
       "_model_module_version": "^1.3.3",
       "_model_name": "NodeModel",
       "_view_count": null,
       "_view_module": "jupyter-cytoscape",
       "_view_module_version": "^1.3.3",
       "_view_name": "NodeView",
       "classes": "",
       "data": {
        "color": "gray",
        "id": "2675785010210810597",
        "label": "1",
        "shape": "rectangle"
       },
       "grabbable": true,
       "grabbed": false,
       "locked": false,
       "pannable": false,
       "position": {},
       "removed": false,
       "selectable": false,
       "selected": false
      }
     },
     "c0e04ba2ca304e0091e29259cb0c807b": {
      "model_module": "jupyter-cytoscape",
      "model_module_version": "^1.3.3",
      "model_name": "NodeModel",
      "state": {
       "_model_module": "jupyter-cytoscape",
       "_model_module_version": "^1.3.3",
       "_model_name": "NodeModel",
       "_view_count": null,
       "_view_module": "jupyter-cytoscape",
       "_view_module_version": "^1.3.3",
       "_view_name": "NodeView",
       "classes": "",
       "data": {
        "color": "gray",
        "id": "-9003437424032724409",
        "label": "getitem",
        "shape": "ellipse"
       },
       "grabbable": true,
       "grabbed": false,
       "locked": false,
       "pannable": false,
       "position": {},
       "removed": false,
       "selectable": false,
       "selected": false
      }
     },
     "c1d8a82fac5a4d7ca3e8307ace64926a": {
      "model_module": "jupyter-cytoscape",
      "model_module_version": "^1.3.3",
      "model_name": "EdgeModel",
      "state": {
       "_model_module": "jupyter-cytoscape",
       "_model_module_version": "^1.3.3",
       "_model_name": "EdgeModel",
       "_view_count": null,
       "_view_module": "jupyter-cytoscape",
       "_view_module_version": "^1.3.3",
       "_view_name": "EdgeView",
       "classes": " directed ",
       "data": {
        "source": "4575388310203358868",
        "target": "-5329143616833624474"
       },
       "pannable": true,
       "removed": false,
       "selectable": false,
       "selected": false
      }
     },
     "c22d2b67404c43fd95699a7f8e3ed10f": {
      "model_module": "jupyter-cytoscape",
      "model_module_version": "^1.3.3",
      "model_name": "EdgeModel",
      "state": {
       "_model_module": "jupyter-cytoscape",
       "_model_module_version": "^1.3.3",
       "_model_name": "EdgeModel",
       "_view_count": null,
       "_view_module": "jupyter-cytoscape",
       "_view_module_version": "^1.3.3",
       "_view_name": "EdgeView",
       "classes": " directed ",
       "data": {
        "source": "-3923961495373117524",
        "target": "-6437635702692098474"
       },
       "pannable": true,
       "removed": false,
       "selectable": false,
       "selected": false
      }
     },
     "c342127f769345ef8d0f08040662576a": {
      "model_module": "jupyter-cytoscape",
      "model_module_version": "^1.3.3",
      "model_name": "EdgeModel",
      "state": {
       "_model_module": "jupyter-cytoscape",
       "_model_module_version": "^1.3.3",
       "_model_name": "EdgeModel",
       "_view_count": null,
       "_view_module": "jupyter-cytoscape",
       "_view_module_version": "^1.3.3",
       "_view_name": "EdgeView",
       "classes": " directed ",
       "data": {
        "source": "-2293980137310216365",
        "target": "6873388918865369546"
       },
       "pannable": true,
       "removed": false,
       "selectable": false,
       "selected": false
      }
     },
     "c42ec1f83b734e048dc96a9229d1cd0f": {
      "model_module": "jupyter-cytoscape",
      "model_module_version": "^1.3.3",
      "model_name": "EdgeModel",
      "state": {
       "_model_module": "jupyter-cytoscape",
       "_model_module_version": "^1.3.3",
       "_model_name": "EdgeModel",
       "_view_count": null,
       "_view_module": "jupyter-cytoscape",
       "_view_module_version": "^1.3.3",
       "_view_name": "EdgeView",
       "classes": " directed ",
       "data": {
        "source": "4379359525155024175",
        "target": "969112533599578842"
       },
       "pannable": true,
       "removed": false,
       "selectable": false,
       "selected": false
      }
     },
     "c458fc698cfb4b719c88618091f38240": {
      "model_module": "jupyter-cytoscape",
      "model_module_version": "^1.3.3",
      "model_name": "EdgeModel",
      "state": {
       "_model_module": "jupyter-cytoscape",
       "_model_module_version": "^1.3.3",
       "_model_name": "EdgeModel",
       "_view_count": null,
       "_view_module": "jupyter-cytoscape",
       "_view_module_version": "^1.3.3",
       "_view_name": "EdgeView",
       "classes": " directed ",
       "data": {
        "source": "-663267682343184339",
        "target": "-6980817412802607968"
       },
       "pannable": true,
       "removed": false,
       "selectable": false,
       "selected": false
      }
     },
     "c4781b4131494b5395f22866f1495f8d": {
      "model_module": "jupyter-cytoscape",
      "model_module_version": "^1.3.3",
      "model_name": "EdgeModel",
      "state": {
       "_model_module": "jupyter-cytoscape",
       "_model_module_version": "^1.3.3",
       "_model_name": "EdgeModel",
       "_view_count": null,
       "_view_module": "jupyter-cytoscape",
       "_view_module_version": "^1.3.3",
       "_view_name": "EdgeView",
       "classes": " directed ",
       "data": {
        "source": "-285489964199686289",
        "target": "-8063163206826232081"
       },
       "pannable": true,
       "removed": false,
       "selectable": false,
       "selected": false
      }
     },
     "c771efe575894ee387a174dcfcf71a5f": {
      "model_module": "jupyter-cytoscape",
      "model_module_version": "^1.3.3",
      "model_name": "NodeModel",
      "state": {
       "_model_module": "jupyter-cytoscape",
       "_model_module_version": "^1.3.3",
       "_model_name": "NodeModel",
       "_view_count": null,
       "_view_module": "jupyter-cytoscape",
       "_view_module_version": "^1.3.3",
       "_view_name": "NodeView",
       "classes": "",
       "data": {
        "color": "gray",
        "id": "-6943710343962926533",
        "label": "5",
        "shape": "rectangle"
       },
       "grabbable": true,
       "grabbed": false,
       "locked": false,
       "pannable": false,
       "position": {},
       "removed": false,
       "selectable": false,
       "selected": false
      }
     },
     "c7d60e3d4d48434d81ffb6d18fa008aa": {
      "model_module": "jupyter-cytoscape",
      "model_module_version": "^1.3.3",
      "model_name": "EdgeModel",
      "state": {
       "_model_module": "jupyter-cytoscape",
       "_model_module_version": "^1.3.3",
       "_model_name": "EdgeModel",
       "_view_count": null,
       "_view_module": "jupyter-cytoscape",
       "_view_module_version": "^1.3.3",
       "_view_name": "EdgeView",
       "classes": " directed ",
       "data": {
        "source": "4755164705774767887",
        "target": "8851591055926079582"
       },
       "pannable": true,
       "removed": false,
       "selectable": false,
       "selected": false
      }
     },
     "c88e973ae51f4bf69527c75bbab9eda8": {
      "model_module": "jupyter-cytoscape",
      "model_module_version": "^1.3.3",
      "model_name": "EdgeModel",
      "state": {
       "_model_module": "jupyter-cytoscape",
       "_model_module_version": "^1.3.3",
       "_model_name": "EdgeModel",
       "_view_count": null,
       "_view_module": "jupyter-cytoscape",
       "_view_module_version": "^1.3.3",
       "_view_name": "EdgeView",
       "classes": " directed ",
       "data": {
        "source": "2605324806656602436",
        "target": "-583252121601466528"
       },
       "pannable": true,
       "removed": false,
       "selectable": false,
       "selected": false
      }
     },
     "c8c7fe1e06fa4a9a8b76b549de550206": {
      "model_module": "jupyter-cytoscape",
      "model_module_version": "^1.3.3",
      "model_name": "EdgeModel",
      "state": {
       "_model_module": "jupyter-cytoscape",
       "_model_module_version": "^1.3.3",
       "_model_name": "EdgeModel",
       "_view_count": null,
       "_view_module": "jupyter-cytoscape",
       "_view_module_version": "^1.3.3",
       "_view_name": "EdgeView",
       "classes": " directed ",
       "data": {
        "source": "-7285598054705956941",
        "target": "-7915931912768796618"
       },
       "pannable": true,
       "removed": false,
       "selectable": false,
       "selected": false
      }
     },
     "c93a4e1cd89e47f7a0e1e2cdaf531eb9": {
      "model_module": "jupyter-cytoscape",
      "model_module_version": "^1.3.3",
      "model_name": "NodeModel",
      "state": {
       "_model_module": "jupyter-cytoscape",
       "_model_module_version": "^1.3.3",
       "_model_name": "NodeModel",
       "_view_count": null,
       "_view_module": "jupyter-cytoscape",
       "_view_module_version": "^1.3.3",
       "_view_name": "NodeView",
       "classes": "",
       "data": {
        "color": "gray",
        "id": "-3386512947487649779",
        "label": "6",
        "shape": "rectangle"
       },
       "grabbable": true,
       "grabbed": false,
       "locked": false,
       "pannable": false,
       "position": {},
       "removed": false,
       "selectable": false,
       "selected": false
      }
     },
     "c9ba5fb3e5494128b242d5bbe9d6fd44": {
      "model_module": "jupyter-cytoscape",
      "model_module_version": "^1.3.3",
      "model_name": "NodeModel",
      "state": {
       "_model_module": "jupyter-cytoscape",
       "_model_module_version": "^1.3.3",
       "_model_name": "NodeModel",
       "_view_count": null,
       "_view_module": "jupyter-cytoscape",
       "_view_module_version": "^1.3.3",
       "_view_name": "NodeView",
       "classes": "",
       "data": {
        "color": "gray",
        "id": "-747886773639351910",
        "label": "1",
        "shape": "rectangle"
       },
       "grabbable": true,
       "grabbed": false,
       "locked": false,
       "pannable": false,
       "position": {},
       "removed": false,
       "selectable": false,
       "selected": false
      }
     },
     "ca8356d3e2ad4df3ac535eb9de1655aa": {
      "model_module": "jupyter-cytoscape",
      "model_module_version": "^1.3.3",
      "model_name": "NodeModel",
      "state": {
       "_model_module": "jupyter-cytoscape",
       "_model_module_version": "^1.3.3",
       "_model_name": "NodeModel",
       "_view_count": null,
       "_view_module": "jupyter-cytoscape",
       "_view_module_version": "^1.3.3",
       "_view_name": "NodeView",
       "classes": "",
       "data": {
        "color": "gray",
        "id": "-7915931912768796618",
        "label": "4",
        "shape": "rectangle"
       },
       "grabbable": true,
       "grabbed": false,
       "locked": false,
       "pannable": false,
       "position": {},
       "removed": false,
       "selectable": false,
       "selected": false
      }
     },
     "cb016f7926de43f39d6e886d1d6d9114": {
      "model_module": "jupyter-cytoscape",
      "model_module_version": "^1.3.3",
      "model_name": "EdgeModel",
      "state": {
       "_model_module": "jupyter-cytoscape",
       "_model_module_version": "^1.3.3",
       "_model_name": "EdgeModel",
       "_view_count": null,
       "_view_module": "jupyter-cytoscape",
       "_view_module_version": "^1.3.3",
       "_view_name": "EdgeView",
       "classes": " directed ",
       "data": {
        "source": "-8112934272688690543",
        "target": "3652821773801315348"
       },
       "pannable": true,
       "removed": false,
       "selectable": false,
       "selected": false
      }
     },
     "cb67d65c6f98424d9ac368efaffab104": {
      "model_module": "jupyter-cytoscape",
      "model_module_version": "^1.3.3",
      "model_name": "NodeModel",
      "state": {
       "_model_module": "jupyter-cytoscape",
       "_model_module_version": "^1.3.3",
       "_model_name": "NodeModel",
       "_view_count": null,
       "_view_module": "jupyter-cytoscape",
       "_view_module_version": "^1.3.3",
       "_view_name": "NodeView",
       "classes": "",
       "data": {
        "color": "gray",
        "id": "1801197901508029394",
        "label": "getitem",
        "shape": "ellipse"
       },
       "grabbable": true,
       "grabbed": false,
       "locked": false,
       "pannable": false,
       "position": {},
       "removed": false,
       "selectable": false,
       "selected": false
      }
     },
     "cb7cb0a1f59a44f7bd376e0d91c6f4f0": {
      "model_module": "jupyter-cytoscape",
      "model_module_version": "^1.3.3",
      "model_name": "EdgeModel",
      "state": {
       "_model_module": "jupyter-cytoscape",
       "_model_module_version": "^1.3.3",
       "_model_name": "EdgeModel",
       "_view_count": null,
       "_view_module": "jupyter-cytoscape",
       "_view_module_version": "^1.3.3",
       "_view_name": "EdgeView",
       "classes": " directed ",
       "data": {
        "source": "2734421992782465183",
        "target": "-8112934272688690543"
       },
       "pannable": true,
       "removed": false,
       "selectable": false,
       "selected": false
      }
     },
     "cbacb75a80144b60bce60deb0e79a8eb": {
      "model_module": "jupyter-cytoscape",
      "model_module_version": "^1.3.3",
      "model_name": "NodeModel",
      "state": {
       "_model_module": "jupyter-cytoscape",
       "_model_module_version": "^1.3.3",
       "_model_name": "NodeModel",
       "_view_count": null,
       "_view_module": "jupyter-cytoscape",
       "_view_module_version": "^1.3.3",
       "_view_name": "NodeView",
       "classes": "",
       "data": {
        "color": "gray",
        "id": "2219488350727462658",
        "label": "4",
        "shape": "rectangle"
       },
       "grabbable": true,
       "grabbed": false,
       "locked": false,
       "pannable": false,
       "position": {},
       "removed": false,
       "selectable": false,
       "selected": false
      }
     },
     "cbb0b934e0f541a084e8b3619d5b892b": {
      "model_module": "jupyter-cytoscape",
      "model_module_version": "^1.3.3",
      "model_name": "EdgeModel",
      "state": {
       "_model_module": "jupyter-cytoscape",
       "_model_module_version": "^1.3.3",
       "_model_name": "EdgeModel",
       "_view_count": null,
       "_view_module": "jupyter-cytoscape",
       "_view_module_version": "^1.3.3",
       "_view_name": "EdgeView",
       "classes": " directed ",
       "data": {
        "source": "-7442966856528857301",
        "target": "-1758759520792837332"
       },
       "pannable": true,
       "removed": false,
       "selectable": false,
       "selected": false
      }
     },
     "cc8721b42dde41aeb91fb9b42e1b8f07": {
      "model_module": "jupyter-cytoscape",
      "model_module_version": "^1.3.3",
      "model_name": "NodeModel",
      "state": {
       "_model_module": "jupyter-cytoscape",
       "_model_module_version": "^1.3.3",
       "_model_name": "NodeModel",
       "_view_count": null,
       "_view_module": "jupyter-cytoscape",
       "_view_module_version": "^1.3.3",
       "_view_name": "NodeView",
       "classes": "",
       "data": {
        "color": "gray",
        "id": "-4371954404595135194",
        "label": "series-count-chunk",
        "shape": "ellipse"
       },
       "grabbable": true,
       "grabbed": false,
       "locked": false,
       "pannable": false,
       "position": {},
       "removed": false,
       "selectable": false,
       "selected": false
      }
     },
     "cca31ca94d9045559a8d5d36843e0f6c": {
      "model_module": "jupyter-cytoscape",
      "model_module_version": "^1.3.3",
      "model_name": "NodeModel",
      "state": {
       "_model_module": "jupyter-cytoscape",
       "_model_module_version": "^1.3.3",
       "_model_name": "NodeModel",
       "_view_count": null,
       "_view_module": "jupyter-cytoscape",
       "_view_module_version": "^1.3.3",
       "_view_name": "NodeView",
       "classes": "",
       "data": {
        "color": "gray",
        "id": "5919059534575370945",
        "label": "series-sum-chunk",
        "shape": "ellipse"
       },
       "grabbable": true,
       "grabbed": false,
       "locked": false,
       "pannable": false,
       "position": {},
       "removed": false,
       "selectable": false,
       "selected": false
      }
     },
     "cd774804f61a4ad088457d75093495a5": {
      "model_module": "jupyter-cytoscape",
      "model_module_version": "^1.3.3",
      "model_name": "NodeModel",
      "state": {
       "_model_module": "jupyter-cytoscape",
       "_model_module_version": "^1.3.3",
       "_model_name": "NodeModel",
       "_view_count": null,
       "_view_module": "jupyter-cytoscape",
       "_view_module_version": "^1.3.3",
       "_view_name": "NodeView",
       "classes": "",
       "data": {
        "color": "gray",
        "id": "4224671680595478776",
        "label": "values",
        "shape": "ellipse"
       },
       "grabbable": true,
       "grabbed": false,
       "locked": false,
       "pannable": false,
       "position": {},
       "removed": false,
       "selectable": false,
       "selected": false
      }
     },
     "cd82e33b98c2423d846335effbf05f26": {
      "model_module": "jupyter-cytoscape",
      "model_module_version": "^1.3.3",
      "model_name": "EdgeModel",
      "state": {
       "_model_module": "jupyter-cytoscape",
       "_model_module_version": "^1.3.3",
       "_model_name": "EdgeModel",
       "_view_count": null,
       "_view_module": "jupyter-cytoscape",
       "_view_module_version": "^1.3.3",
       "_view_name": "EdgeView",
       "classes": " directed ",
       "data": {
        "source": "-9085155841494560628",
        "target": "1025920426234346989"
       },
       "pannable": true,
       "removed": false,
       "selectable": false,
       "selected": false
      }
     },
     "ce2a8a3411e24f7ca976f2b84e5b2ef3": {
      "model_module": "jupyter-cytoscape",
      "model_module_version": "^1.3.3",
      "model_name": "NodeModel",
      "state": {
       "_model_module": "jupyter-cytoscape",
       "_model_module_version": "^1.3.3",
       "_model_name": "NodeModel",
       "_view_count": null,
       "_view_module": "jupyter-cytoscape",
       "_view_module_version": "^1.3.3",
       "_view_name": "NodeView",
       "classes": "",
       "data": {
        "color": "gray",
        "id": "-2293980137310216365",
        "label": "moment_combine-partial",
        "shape": "ellipse"
       },
       "grabbable": true,
       "grabbed": false,
       "locked": false,
       "pannable": false,
       "position": {},
       "removed": false,
       "selectable": false,
       "selected": false
      }
     },
     "cefda535f43c444c9b054ba18726bab0": {
      "model_module": "jupyter-cytoscape",
      "model_module_version": "^1.3.3",
      "model_name": "EdgeModel",
      "state": {
       "_model_module": "jupyter-cytoscape",
       "_model_module_version": "^1.3.3",
       "_model_name": "EdgeModel",
       "_view_count": null,
       "_view_module": "jupyter-cytoscape",
       "_view_module_version": "^1.3.3",
       "_view_name": "EdgeView",
       "classes": " directed ",
       "data": {
        "source": "-1965238580100955549",
        "target": "-7348573263870670686"
       },
       "pannable": true,
       "removed": false,
       "selectable": false,
       "selected": false
      }
     },
     "d0e142ad913648a981bc38430e2bc847": {
      "model_module": "jupyter-cytoscape",
      "model_module_version": "^1.3.3",
      "model_name": "EdgeModel",
      "state": {
       "_model_module": "jupyter-cytoscape",
       "_model_module_version": "^1.3.3",
       "_model_name": "EdgeModel",
       "_view_count": null,
       "_view_module": "jupyter-cytoscape",
       "_view_module_version": "^1.3.3",
       "_view_name": "EdgeView",
       "classes": " directed ",
       "data": {
        "source": "5610418373822671867",
        "target": "5003279006582528727"
       },
       "pannable": true,
       "removed": false,
       "selectable": false,
       "selected": false
      }
     },
     "d13847805ae14b74a8525f048fa75b75": {
      "model_module": "jupyter-cytoscape",
      "model_module_version": "^1.3.3",
      "model_name": "EdgeModel",
      "state": {
       "_model_module": "jupyter-cytoscape",
       "_model_module_version": "^1.3.3",
       "_model_name": "EdgeModel",
       "_view_count": null,
       "_view_module": "jupyter-cytoscape",
       "_view_module_version": "^1.3.3",
       "_view_name": "EdgeView",
       "classes": " directed ",
       "data": {
        "source": "7928052208691557259",
        "target": "-9085155841494560628"
       },
       "pannable": true,
       "removed": false,
       "selectable": false,
       "selected": false
      }
     },
     "d14c910f4dfe40caa1cdb8d032440cda": {
      "model_module": "jupyter-cytoscape",
      "model_module_version": "^1.3.3",
      "model_name": "EdgeModel",
      "state": {
       "_model_module": "jupyter-cytoscape",
       "_model_module_version": "^1.3.3",
       "_model_name": "EdgeModel",
       "_view_count": null,
       "_view_module": "jupyter-cytoscape",
       "_view_module_version": "^1.3.3",
       "_view_name": "EdgeView",
       "classes": " directed ",
       "data": {
        "source": "-6943710343962926533",
        "target": "-5830253291788376150"
       },
       "pannable": true,
       "removed": false,
       "selectable": false,
       "selected": false
      }
     },
     "d2610d5bf22445d1a6e5b2022a7b8b53": {
      "model_module": "jupyter-cytoscape",
      "model_module_version": "^1.3.3",
      "model_name": "EdgeModel",
      "state": {
       "_model_module": "jupyter-cytoscape",
       "_model_module_version": "^1.3.3",
       "_model_name": "EdgeModel",
       "_view_count": null,
       "_view_module": "jupyter-cytoscape",
       "_view_module_version": "^1.3.3",
       "_view_name": "EdgeView",
       "classes": " directed ",
       "data": {
        "source": "2583679260728880901",
        "target": "6771642708243075641"
       },
       "pannable": true,
       "removed": false,
       "selectable": false,
       "selected": false
      }
     },
     "d35293e0c1fd450dbe29aefc551ab985": {
      "model_module": "jupyter-cytoscape",
      "model_module_version": "^1.3.3",
      "model_name": "NodeModel",
      "state": {
       "_model_module": "jupyter-cytoscape",
       "_model_module_version": "^1.3.3",
       "_model_name": "NodeModel",
       "_view_count": null,
       "_view_module": "jupyter-cytoscape",
       "_view_module_version": "^1.3.3",
       "_view_name": "NodeView",
       "classes": "",
       "data": {
        "color": "gray",
        "id": "2605324806656602436",
        "label": "getitem",
        "shape": "ellipse"
       },
       "grabbable": true,
       "grabbed": false,
       "locked": false,
       "pannable": false,
       "position": {},
       "removed": false,
       "selectable": false,
       "selected": false
      }
     },
     "d3b1431eeda8429ea44a75cdc976fb32": {
      "model_module": "jupyter-cytoscape",
      "model_module_version": "^1.3.3",
      "model_name": "EdgeModel",
      "state": {
       "_model_module": "jupyter-cytoscape",
       "_model_module_version": "^1.3.3",
       "_model_name": "EdgeModel",
       "_view_count": null,
       "_view_module": "jupyter-cytoscape",
       "_view_module_version": "^1.3.3",
       "_view_name": "EdgeView",
       "classes": " directed ",
       "data": {
        "source": "-9126564372126850626",
        "target": "7747021505085688929"
       },
       "pannable": true,
       "removed": false,
       "selectable": false,
       "selected": false
      }
     },
     "d4cd41977e874fbaa4d4c390b30379c1": {
      "model_module": "jupyter-cytoscape",
      "model_module_version": "^1.3.3",
      "model_name": "EdgeModel",
      "state": {
       "_model_module": "jupyter-cytoscape",
       "_model_module_version": "^1.3.3",
       "_model_name": "EdgeModel",
       "_view_count": null,
       "_view_module": "jupyter-cytoscape",
       "_view_module_version": "^1.3.3",
       "_view_name": "EdgeView",
       "classes": " directed ",
       "data": {
        "source": "7557905178103697073",
        "target": "3187832268323158133"
       },
       "pannable": true,
       "removed": false,
       "selectable": false,
       "selected": false
      }
     },
     "d5216f3b047e43e58f0adac11b9c4b98": {
      "model_module": "jupyter-cytoscape",
      "model_module_version": "^1.3.3",
      "model_name": "NodeModel",
      "state": {
       "_model_module": "jupyter-cytoscape",
       "_model_module_version": "^1.3.3",
       "_model_name": "NodeModel",
       "_view_count": null,
       "_view_module": "jupyter-cytoscape",
       "_view_module_version": "^1.3.3",
       "_view_name": "NodeView",
       "classes": "",
       "data": {
        "color": "gray",
        "id": "8479014806021700243",
        "label": "8",
        "shape": "rectangle"
       },
       "grabbable": true,
       "grabbed": false,
       "locked": false,
       "pannable": false,
       "position": {},
       "removed": false,
       "selectable": false,
       "selected": false
      }
     },
     "d59bdaa9e04d4965aed34935d6678831": {
      "model_module": "jupyter-cytoscape",
      "model_module_version": "^1.3.3",
      "model_name": "EdgeModel",
      "state": {
       "_model_module": "jupyter-cytoscape",
       "_model_module_version": "^1.3.3",
       "_model_name": "EdgeModel",
       "_view_count": null,
       "_view_module": "jupyter-cytoscape",
       "_view_module_version": "^1.3.3",
       "_view_name": "EdgeView",
       "classes": " directed ",
       "data": {
        "source": "3834055077856764717",
        "target": "4990105663807216068"
       },
       "pannable": true,
       "removed": false,
       "selectable": false,
       "selected": false
      }
     },
     "d5a4ac030cbd4a7c906e7a0580d81bb7": {
      "model_module": "jupyter-cytoscape",
      "model_module_version": "^1.3.3",
      "model_name": "EdgeModel",
      "state": {
       "_model_module": "jupyter-cytoscape",
       "_model_module_version": "^1.3.3",
       "_model_name": "EdgeModel",
       "_view_count": null,
       "_view_module": "jupyter-cytoscape",
       "_view_module_version": "^1.3.3",
       "_view_name": "EdgeView",
       "classes": " directed ",
       "data": {
        "source": "3652821773801315348",
        "target": "3585940777049003877"
       },
       "pannable": true,
       "removed": false,
       "selectable": false,
       "selected": false
      }
     },
     "d6810a1d14094e749385faa46f02549d": {
      "model_module": "jupyter-cytoscape",
      "model_module_version": "^1.3.3",
      "model_name": "NodeModel",
      "state": {
       "_model_module": "jupyter-cytoscape",
       "_model_module_version": "^1.3.3",
       "_model_name": "NodeModel",
       "_view_count": null,
       "_view_module": "jupyter-cytoscape",
       "_view_module_version": "^1.3.3",
       "_view_name": "NodeView",
       "classes": "",
       "data": {
        "color": "gray",
        "id": "-5093185424098881534",
        "label": "7",
        "shape": "rectangle"
       },
       "grabbable": true,
       "grabbed": false,
       "locked": false,
       "pannable": false,
       "position": {},
       "removed": false,
       "selectable": false,
       "selected": false
      }
     },
     "d79970983e0542aeaa9e77148a0af6c6": {
      "model_module": "jupyter-cytoscape",
      "model_module_version": "^1.3.3",
      "model_name": "EdgeModel",
      "state": {
       "_model_module": "jupyter-cytoscape",
       "_model_module_version": "^1.3.3",
       "_model_name": "EdgeModel",
       "_view_count": null,
       "_view_module": "jupyter-cytoscape",
       "_view_module_version": "^1.3.3",
       "_view_name": "EdgeView",
       "classes": " directed ",
       "data": {
        "source": "-5806648539651166321",
        "target": "-5830253291788376150"
       },
       "pannable": true,
       "removed": false,
       "selectable": false,
       "selected": false
      }
     },
     "d80ad900558c4e24b92001d25a7d934b": {
      "model_module": "jupyter-cytoscape",
      "model_module_version": "^1.3.3",
      "model_name": "NodeModel",
      "state": {
       "_model_module": "jupyter-cytoscape",
       "_model_module_version": "^1.3.3",
       "_model_name": "NodeModel",
       "_view_count": null,
       "_view_module": "jupyter-cytoscape",
       "_view_module_version": "^1.3.3",
       "_view_name": "NodeView",
       "classes": "",
       "data": {
        "color": "gray",
        "id": "4607584064773010077",
        "label": "3",
        "shape": "rectangle"
       },
       "grabbable": true,
       "grabbed": false,
       "locked": false,
       "pannable": false,
       "position": {},
       "removed": false,
       "selectable": false,
       "selected": false
      }
     },
     "d83c30bc1d4643eb92c9faa0df5890a1": {
      "model_module": "jupyter-cytoscape",
      "model_module_version": "^1.3.3",
      "model_name": "NodeModel",
      "state": {
       "_model_module": "jupyter-cytoscape",
       "_model_module_version": "^1.3.3",
       "_model_name": "NodeModel",
       "_view_count": null,
       "_view_module": "jupyter-cytoscape",
       "_view_module_version": "^1.3.3",
       "_view_name": "NodeView",
       "classes": "",
       "data": {
        "color": "gray",
        "id": "-7190222082298392098",
        "label": "7",
        "shape": "rectangle"
       },
       "grabbable": true,
       "grabbed": false,
       "locked": false,
       "pannable": false,
       "position": {},
       "removed": false,
       "selectable": false,
       "selected": false
      }
     },
     "d8bfd2dd354e43c4bdd5b5bc02c7d409": {
      "model_module": "jupyter-cytoscape",
      "model_module_version": "^1.3.3",
      "model_name": "NodeModel",
      "state": {
       "_model_module": "jupyter-cytoscape",
       "_model_module_version": "^1.3.3",
       "_model_name": "NodeModel",
       "_view_count": null,
       "_view_module": "jupyter-cytoscape",
       "_view_module_version": "^1.3.3",
       "_view_name": "NodeView",
       "classes": "",
       "data": {
        "color": "gray",
        "id": "-198806626458339811",
        "label": "getitem",
        "shape": "ellipse"
       },
       "grabbable": true,
       "grabbed": false,
       "locked": false,
       "pannable": false,
       "position": {},
       "removed": false,
       "selectable": false,
       "selected": false
      }
     },
     "d91ed071ffea4a13aa12e5de553dd5dc": {
      "model_module": "jupyter-cytoscape",
      "model_module_version": "^1.3.3",
      "model_name": "EdgeModel",
      "state": {
       "_model_module": "jupyter-cytoscape",
       "_model_module_version": "^1.3.3",
       "_model_name": "EdgeModel",
       "_view_count": null,
       "_view_module": "jupyter-cytoscape",
       "_view_module_version": "^1.3.3",
       "_view_name": "EdgeView",
       "classes": " directed ",
       "data": {
        "source": "1414455332003116891",
        "target": "-2192026299876784477"
       },
       "pannable": true,
       "removed": false,
       "selectable": false,
       "selected": false
      }
     },
     "d9db07c33053464f9a55d41082b14b46": {
      "model_module": "jupyter-cytoscape",
      "model_module_version": "^1.3.3",
      "model_name": "NodeModel",
      "state": {
       "_model_module": "jupyter-cytoscape",
       "_model_module_version": "^1.3.3",
       "_model_name": "NodeModel",
       "_view_count": null,
       "_view_module": "jupyter-cytoscape",
       "_view_module_version": "^1.3.3",
       "_view_name": "NodeView",
       "classes": "",
       "data": {
        "color": "gray",
        "id": "-4288152405374535767",
        "label": "3",
        "shape": "rectangle"
       },
       "grabbable": true,
       "grabbed": false,
       "locked": false,
       "pannable": false,
       "position": {},
       "removed": false,
       "selectable": false,
       "selected": false
      }
     },
     "d9e529b45f144ef4a023107ba5a0a336": {
      "model_module": "jupyter-cytoscape",
      "model_module_version": "^1.3.3",
      "model_name": "NodeModel",
      "state": {
       "_model_module": "jupyter-cytoscape",
       "_model_module_version": "^1.3.3",
       "_model_name": "NodeModel",
       "_view_count": null,
       "_view_module": "jupyter-cytoscape",
       "_view_module_version": "^1.3.3",
       "_view_name": "NodeView",
       "classes": "",
       "data": {
        "color": "gray",
        "id": "2987232032263880444",
        "label": "getitem",
        "shape": "ellipse"
       },
       "grabbable": true,
       "grabbed": false,
       "locked": false,
       "pannable": false,
       "position": {},
       "removed": false,
       "selectable": false,
       "selected": false
      }
     },
     "da22bcd80cb84a3f8892ed3918f6ccca": {
      "model_module": "jupyter-cytoscape",
      "model_module_version": "^1.3.3",
      "model_name": "EdgeModel",
      "state": {
       "_model_module": "jupyter-cytoscape",
       "_model_module_version": "^1.3.3",
       "_model_name": "EdgeModel",
       "_view_count": null,
       "_view_module": "jupyter-cytoscape",
       "_view_module_version": "^1.3.3",
       "_view_name": "EdgeView",
       "classes": " directed ",
       "data": {
        "source": "-1504361749519469698",
        "target": "3983880301680360876"
       },
       "pannable": true,
       "removed": false,
       "selectable": false,
       "selected": false
      }
     },
     "da42970d3c514941be4632beefe306ad": {
      "model_module": "jupyter-cytoscape",
      "model_module_version": "^1.3.3",
      "model_name": "NodeModel",
      "state": {
       "_model_module": "jupyter-cytoscape",
       "_model_module_version": "^1.3.3",
       "_model_name": "NodeModel",
       "_view_count": null,
       "_view_module": "jupyter-cytoscape",
       "_view_module_version": "^1.3.3",
       "_view_name": "NodeView",
       "classes": "",
       "data": {
        "color": "gray",
        "id": "866679953489950149",
        "label": "3",
        "shape": "rectangle"
       },
       "grabbable": true,
       "grabbed": false,
       "locked": false,
       "pannable": false,
       "position": {},
       "removed": false,
       "selectable": false,
       "selected": false
      }
     },
     "db03765517584baea0f0cdf7a58c086d": {
      "model_module": "jupyter-cytoscape",
      "model_module_version": "^1.3.3",
      "model_name": "EdgeModel",
      "state": {
       "_model_module": "jupyter-cytoscape",
       "_model_module_version": "^1.3.3",
       "_model_name": "EdgeModel",
       "_view_count": null,
       "_view_module": "jupyter-cytoscape",
       "_view_module_version": "^1.3.3",
       "_view_name": "EdgeView",
       "classes": " directed ",
       "data": {
        "source": "6164616902370390668",
        "target": "2605324806656602436"
       },
       "pannable": true,
       "removed": false,
       "selectable": false,
       "selected": false
      }
     },
     "db0bce528ad54828964f95a9f278fd8d": {
      "model_module": "jupyter-cytoscape",
      "model_module_version": "^1.3.3",
      "model_name": "EdgeModel",
      "state": {
       "_model_module": "jupyter-cytoscape",
       "_model_module_version": "^1.3.3",
       "_model_name": "EdgeModel",
       "_view_count": null,
       "_view_module": "jupyter-cytoscape",
       "_view_module_version": "^1.3.3",
       "_view_name": "EdgeView",
       "classes": " directed ",
       "data": {
        "source": "-3335114992322814551",
        "target": "7391374720628076146"
       },
       "pannable": true,
       "removed": false,
       "selectable": false,
       "selected": false
      }
     },
     "db57e20e14744ed19c4582363077f6fa": {
      "model_module": "jupyter-cytoscape",
      "model_module_version": "^1.3.3",
      "model_name": "NodeModel",
      "state": {
       "_model_module": "jupyter-cytoscape",
       "_model_module_version": "^1.3.3",
       "_model_name": "NodeModel",
       "_view_count": null,
       "_view_module": "jupyter-cytoscape",
       "_view_module_version": "^1.3.3",
       "_view_name": "NodeView",
       "classes": "",
       "data": {
        "color": "gray",
        "id": "-7097176348169071747",
        "label": "0",
        "shape": "rectangle"
       },
       "grabbable": true,
       "grabbed": false,
       "locked": false,
       "pannable": false,
       "position": {},
       "removed": false,
       "selectable": false,
       "selected": false
      }
     },
     "db9a9c418a4849de927cffdcaf78b46a": {
      "model_module": "jupyter-cytoscape",
      "model_module_version": "^1.3.3",
      "model_name": "NodeModel",
      "state": {
       "_model_module": "jupyter-cytoscape",
       "_model_module_version": "^1.3.3",
       "_model_name": "NodeModel",
       "_view_count": null,
       "_view_module": "jupyter-cytoscape",
       "_view_module_version": "^1.3.3",
       "_view_name": "NodeView",
       "classes": "",
       "data": {
        "color": "gray",
        "id": "-898069215367979878",
        "label": "series-count-chunk",
        "shape": "ellipse"
       },
       "grabbable": true,
       "grabbed": false,
       "locked": false,
       "pannable": false,
       "position": {},
       "removed": false,
       "selectable": false,
       "selected": false
      }
     },
     "dc8d63f034484d0ba0b5063d72049090": {
      "model_module": "jupyter-cytoscape",
      "model_module_version": "^1.3.3",
      "model_name": "EdgeModel",
      "state": {
       "_model_module": "jupyter-cytoscape",
       "_model_module_version": "^1.3.3",
       "_model_name": "EdgeModel",
       "_view_count": null,
       "_view_module": "jupyter-cytoscape",
       "_view_module_version": "^1.3.3",
       "_view_name": "EdgeView",
       "classes": " directed ",
       "data": {
        "source": "5080860529143808382",
        "target": "-5806648539651166321"
       },
       "pannable": true,
       "removed": false,
       "selectable": false,
       "selected": false
      }
     },
     "dcf62fb753e9421285143b89753d30e6": {
      "model_module": "jupyter-cytoscape",
      "model_module_version": "^1.3.3",
      "model_name": "EdgeModel",
      "state": {
       "_model_module": "jupyter-cytoscape",
       "_model_module_version": "^1.3.3",
       "_model_name": "EdgeModel",
       "_view_count": null,
       "_view_module": "jupyter-cytoscape",
       "_view_module_version": "^1.3.3",
       "_view_name": "EdgeView",
       "classes": " directed ",
       "data": {
        "source": "5924388634500531897",
        "target": "6414545278971244909"
       },
       "pannable": true,
       "removed": false,
       "selectable": false,
       "selected": false
      }
     },
     "dd34d785da334070a4ce3b5e54444d71": {
      "model_module": "jupyter-cytoscape",
      "model_module_version": "^1.3.3",
      "model_name": "NodeModel",
      "state": {
       "_model_module": "jupyter-cytoscape",
       "_model_module_version": "^1.3.3",
       "_model_name": "NodeModel",
       "_view_count": null,
       "_view_module": "jupyter-cytoscape",
       "_view_module_version": "^1.3.3",
       "_view_name": "NodeView",
       "classes": "",
       "data": {
        "color": "gray",
        "id": "-8500743181560307124",
        "label": "8",
        "shape": "rectangle"
       },
       "grabbable": true,
       "grabbed": false,
       "locked": false,
       "pannable": false,
       "position": {},
       "removed": false,
       "selectable": false,
       "selected": false
      }
     },
     "deeb58fded9c4ff3b18a4ced65820e23": {
      "model_module": "jupyter-cytoscape",
      "model_module_version": "^1.3.3",
      "model_name": "EdgeModel",
      "state": {
       "_model_module": "jupyter-cytoscape",
       "_model_module_version": "^1.3.3",
       "_model_name": "EdgeModel",
       "_view_count": null,
       "_view_module": "jupyter-cytoscape",
       "_view_module_version": "^1.3.3",
       "_view_name": "EdgeView",
       "classes": " directed ",
       "data": {
        "source": "7010624738505185897",
        "target": "-5457376334100299777"
       },
       "pannable": true,
       "removed": false,
       "selectable": false,
       "selected": false
      }
     },
     "df02e3b646bc42dabd88c517d398afe8": {
      "model_module": "jupyter-cytoscape",
      "model_module_version": "^1.3.3",
      "model_name": "EdgeModel",
      "state": {
       "_model_module": "jupyter-cytoscape",
       "_model_module_version": "^1.3.3",
       "_model_name": "EdgeModel",
       "_view_count": null,
       "_view_module": "jupyter-cytoscape",
       "_view_module_version": "^1.3.3",
       "_view_name": "EdgeView",
       "classes": " directed ",
       "data": {
        "source": "5052926863176548126",
        "target": "-8063163206826232081"
       },
       "pannable": true,
       "removed": false,
       "selectable": false,
       "selected": false
      }
     },
     "dfaf76a59d674fc99b254b1b0b8bc8d1": {
      "model_module": "jupyter-cytoscape",
      "model_module_version": "^1.3.3",
      "model_name": "EdgeModel",
      "state": {
       "_model_module": "jupyter-cytoscape",
       "_model_module_version": "^1.3.3",
       "_model_name": "EdgeModel",
       "_view_count": null,
       "_view_module": "jupyter-cytoscape",
       "_view_module_version": "^1.3.3",
       "_view_name": "EdgeView",
       "classes": " directed ",
       "data": {
        "source": "5918105164034925103",
        "target": "4253843718629060011"
       },
       "pannable": true,
       "removed": false,
       "selectable": false,
       "selected": false
      }
     },
     "dfbf0bfed53e4050901365717fc43e4a": {
      "model_module": "jupyter-cytoscape",
      "model_module_version": "^1.3.3",
      "model_name": "NodeModel",
      "state": {
       "_model_module": "jupyter-cytoscape",
       "_model_module_version": "^1.3.3",
       "_model_name": "NodeModel",
       "_view_count": null,
       "_view_module": "jupyter-cytoscape",
       "_view_module_version": "^1.3.3",
       "_view_name": "NodeView",
       "classes": "",
       "data": {
        "color": "gray",
        "id": "4145187255333344456",
        "label": "0",
        "shape": "rectangle"
       },
       "grabbable": true,
       "grabbed": false,
       "locked": false,
       "pannable": false,
       "position": {},
       "removed": false,
       "selectable": false,
       "selected": false
      }
     },
     "e12fb23f39e74ea0878af6ec46b36c9f": {
      "model_module": "jupyter-cytoscape",
      "model_module_version": "^1.3.3",
      "model_name": "NodeModel",
      "state": {
       "_model_module": "jupyter-cytoscape",
       "_model_module_version": "^1.3.3",
       "_model_name": "NodeModel",
       "_view_count": null,
       "_view_module": "jupyter-cytoscape",
       "_view_module_version": "^1.3.3",
       "_view_name": "NodeView",
       "classes": "",
       "data": {
        "color": "gray",
        "id": "1506561081485046587",
        "label": "5",
        "shape": "rectangle"
       },
       "grabbable": true,
       "grabbed": false,
       "locked": false,
       "pannable": false,
       "position": {},
       "removed": false,
       "selectable": false,
       "selected": false
      }
     },
     "e1b9c5675e1c4f8395437f0fe7c9ff5c": {
      "model_module": "jupyter-cytoscape",
      "model_module_version": "^1.3.3",
      "model_name": "NodeModel",
      "state": {
       "_model_module": "jupyter-cytoscape",
       "_model_module_version": "^1.3.3",
       "_model_name": "NodeModel",
       "_view_count": null,
       "_view_module": "jupyter-cytoscape",
       "_view_module_version": "^1.3.3",
       "_view_name": "NodeView",
       "classes": "",
       "data": {
        "color": "gray",
        "id": "6609959700773928717",
        "label": "6",
        "shape": "rectangle"
       },
       "grabbable": true,
       "grabbed": false,
       "locked": false,
       "pannable": false,
       "position": {},
       "removed": false,
       "selectable": false,
       "selected": false
      }
     },
     "e30d884cf15140eca5e839e973a94ecc": {
      "model_module": "jupyter-cytoscape",
      "model_module_version": "^1.3.3",
      "model_name": "EdgeModel",
      "state": {
       "_model_module": "jupyter-cytoscape",
       "_model_module_version": "^1.3.3",
       "_model_name": "EdgeModel",
       "_view_count": null,
       "_view_module": "jupyter-cytoscape",
       "_view_module_version": "^1.3.3",
       "_view_name": "EdgeView",
       "classes": " directed ",
       "data": {
        "source": "-2673585678245233708",
        "target": "-898069215367979878"
       },
       "pannable": true,
       "removed": false,
       "selectable": false,
       "selected": false
      }
     },
     "e35a1e1f73ce454ea33a8a32c98f7197": {
      "model_module": "jupyter-cytoscape",
      "model_module_version": "^1.3.3",
      "model_name": "EdgeModel",
      "state": {
       "_model_module": "jupyter-cytoscape",
       "_model_module_version": "^1.3.3",
       "_model_name": "EdgeModel",
       "_view_count": null,
       "_view_module": "jupyter-cytoscape",
       "_view_module_version": "^1.3.3",
       "_view_name": "EdgeView",
       "classes": " directed ",
       "data": {
        "source": "6873388918865369546",
        "target": "-663267682343184339"
       },
       "pannable": true,
       "removed": false,
       "selectable": false,
       "selected": false
      }
     },
     "e3f98baa37f149e483ec72352ac8175c": {
      "model_module": "jupyter-cytoscape",
      "model_module_version": "^1.3.3",
      "model_name": "EdgeModel",
      "state": {
       "_model_module": "jupyter-cytoscape",
       "_model_module_version": "^1.3.3",
       "_model_name": "EdgeModel",
       "_view_count": null,
       "_view_module": "jupyter-cytoscape",
       "_view_module_version": "^1.3.3",
       "_view_name": "EdgeView",
       "classes": " directed ",
       "data": {
        "source": "5003279006582528727",
        "target": "-4371954404595135194"
       },
       "pannable": true,
       "removed": false,
       "selectable": false,
       "selected": false
      }
     },
     "e452063c688e473e91f3dc33f77100df": {
      "model_module": "jupyter-cytoscape",
      "model_module_version": "^1.3.3",
      "model_name": "EdgeModel",
      "state": {
       "_model_module": "jupyter-cytoscape",
       "_model_module_version": "^1.3.3",
       "_model_name": "EdgeModel",
       "_view_count": null,
       "_view_module": "jupyter-cytoscape",
       "_view_module_version": "^1.3.3",
       "_view_name": "EdgeView",
       "classes": " directed ",
       "data": {
        "source": "7557905178103697073",
        "target": "-4131163025680017294"
       },
       "pannable": true,
       "removed": false,
       "selectable": false,
       "selected": false
      }
     },
     "e4e958ebf17347eab1f71d9419f1fa8c": {
      "model_module": "jupyter-cytoscape",
      "model_module_version": "^1.3.3",
      "model_name": "EdgeModel",
      "state": {
       "_model_module": "jupyter-cytoscape",
       "_model_module_version": "^1.3.3",
       "_model_name": "EdgeModel",
       "_view_count": null,
       "_view_module": "jupyter-cytoscape",
       "_view_module_version": "^1.3.3",
       "_view_name": "EdgeView",
       "classes": " directed ",
       "data": {
        "source": "-747886773639351910",
        "target": "-2293980137310216365"
       },
       "pannable": true,
       "removed": false,
       "selectable": false,
       "selected": false
      }
     },
     "e4eaab6cfe69460583f94055c7bc1907": {
      "model_module": "jupyter-cytoscape",
      "model_module_version": "^1.3.3",
      "model_name": "EdgeModel",
      "state": {
       "_model_module": "jupyter-cytoscape",
       "_model_module_version": "^1.3.3",
       "_model_name": "EdgeModel",
       "_view_count": null,
       "_view_module": "jupyter-cytoscape",
       "_view_module_version": "^1.3.3",
       "_view_name": "EdgeView",
       "classes": " directed ",
       "data": {
        "source": "-3022857883796100252",
        "target": "8618678697593916783"
       },
       "pannable": true,
       "removed": false,
       "selectable": false,
       "selected": false
      }
     },
     "e52955acba3b47b2a26fdff7ddcf1b2b": {
      "model_module": "jupyter-cytoscape",
      "model_module_version": "^1.3.3",
      "model_name": "NodeModel",
      "state": {
       "_model_module": "jupyter-cytoscape",
       "_model_module_version": "^1.3.3",
       "_model_name": "NodeModel",
       "_view_count": null,
       "_view_module": "jupyter-cytoscape",
       "_view_module_version": "^1.3.3",
       "_view_name": "NodeView",
       "classes": "",
       "data": {
        "color": "gray",
        "id": "-7348573263870670686",
        "label": "7",
        "shape": "rectangle"
       },
       "grabbable": true,
       "grabbed": false,
       "locked": false,
       "pannable": false,
       "position": {},
       "removed": false,
       "selectable": false,
       "selected": false
      }
     },
     "e5374107041c4293b51686f9a7f71994": {
      "model_module": "jupyter-cytoscape",
      "model_module_version": "^1.3.3",
      "model_name": "NodeModel",
      "state": {
       "_model_module": "jupyter-cytoscape",
       "_model_module_version": "^1.3.3",
       "_model_name": "NodeModel",
       "_view_count": null,
       "_view_module": "jupyter-cytoscape",
       "_view_module_version": "^1.3.3",
       "_view_name": "NodeView",
       "classes": "",
       "data": {
        "color": "gray",
        "id": "-5176081309743708236",
        "label": "series-count-chunk",
        "shape": "ellipse"
       },
       "grabbable": true,
       "grabbed": false,
       "locked": false,
       "pannable": false,
       "position": {},
       "removed": false,
       "selectable": false,
       "selected": false
      }
     },
     "e54a112fb8e742279f8164261c366b77": {
      "model_module": "jupyter-cytoscape",
      "model_module_version": "^1.3.3",
      "model_name": "EdgeModel",
      "state": {
       "_model_module": "jupyter-cytoscape",
       "_model_module_version": "^1.3.3",
       "_model_name": "EdgeModel",
       "_view_count": null,
       "_view_module": "jupyter-cytoscape",
       "_view_module_version": "^1.3.3",
       "_view_name": "EdgeView",
       "classes": " directed ",
       "data": {
        "source": "4290351737340112656",
        "target": "-1577547807921718100"
       },
       "pannable": true,
       "removed": false,
       "selectable": false,
       "selected": false
      }
     },
     "e5708774fac04c89bf8cedc9af515b11": {
      "model_module": "jupyter-cytoscape",
      "model_module_version": "^1.3.3",
      "model_name": "EdgeModel",
      "state": {
       "_model_module": "jupyter-cytoscape",
       "_model_module_version": "^1.3.3",
       "_model_name": "EdgeModel",
       "_view_count": null,
       "_view_module": "jupyter-cytoscape",
       "_view_module_version": "^1.3.3",
       "_view_name": "EdgeView",
       "classes": " directed ",
       "data": {
        "source": "5967515803094502599",
        "target": "-6943710343962926533"
       },
       "pannable": true,
       "removed": false,
       "selectable": false,
       "selected": false
      }
     },
     "e64ced7a947046038e27c48ed5bd01a6": {
      "model_module": "jupyter-cytoscape",
      "model_module_version": "^1.3.3",
      "model_name": "NodeModel",
      "state": {
       "_model_module": "jupyter-cytoscape",
       "_model_module_version": "^1.3.3",
       "_model_name": "NodeModel",
       "_view_count": null,
       "_view_module": "jupyter-cytoscape",
       "_view_module_version": "^1.3.3",
       "_view_name": "NodeView",
       "classes": "",
       "data": {
        "color": "gray",
        "id": "1329076762929615770",
        "label": "6",
        "shape": "rectangle"
       },
       "grabbable": true,
       "grabbed": false,
       "locked": false,
       "pannable": false,
       "position": {},
       "removed": false,
       "selectable": false,
       "selected": false
      }
     },
     "e6881e92d1244a5e97d6dd9e2155b335": {
      "model_module": "jupyter-cytoscape",
      "model_module_version": "^1.3.3",
      "model_name": "EdgeModel",
      "state": {
       "_model_module": "jupyter-cytoscape",
       "_model_module_version": "^1.3.3",
       "_model_name": "EdgeModel",
       "_view_count": null,
       "_view_module": "jupyter-cytoscape",
       "_view_module_version": "^1.3.3",
       "_view_name": "EdgeView",
       "classes": " directed ",
       "data": {
        "source": "-7915931912768796618",
        "target": "2987232032263880444"
       },
       "pannable": true,
       "removed": false,
       "selectable": false,
       "selected": false
      }
     },
     "e68cb48d8523441aa9e377222d8c7f04": {
      "model_module": "jupyter-cytoscape",
      "model_module_version": "^1.3.3",
      "model_name": "EdgeModel",
      "state": {
       "_model_module": "jupyter-cytoscape",
       "_model_module_version": "^1.3.3",
       "_model_name": "EdgeModel",
       "_view_count": null,
       "_view_module": "jupyter-cytoscape",
       "_view_module_version": "^1.3.3",
       "_view_name": "EdgeView",
       "classes": " directed ",
       "data": {
        "source": "-7182972153546168106",
        "target": "-7647811595620049880"
       },
       "pannable": true,
       "removed": false,
       "selectable": false,
       "selected": false
      }
     },
     "e6c197e1bb7948ab8de74edece71a006": {
      "model_module": "jupyter-cytoscape",
      "model_module_version": "^1.3.3",
      "model_name": "NodeModel",
      "state": {
       "_model_module": "jupyter-cytoscape",
       "_model_module_version": "^1.3.3",
       "_model_name": "NodeModel",
       "_view_count": null,
       "_view_module": "jupyter-cytoscape",
       "_view_module_version": "^1.3.3",
       "_view_name": "NodeView",
       "classes": "",
       "data": {
        "color": "gray",
        "id": "4755164705774767887",
        "label": "5",
        "shape": "rectangle"
       },
       "grabbable": true,
       "grabbed": false,
       "locked": false,
       "pannable": false,
       "position": {},
       "removed": false,
       "selectable": false,
       "selected": false
      }
     },
     "e6efe629bcd64f7bb0f663b8d9431809": {
      "model_module": "jupyter-cytoscape",
      "model_module_version": "^1.3.3",
      "model_name": "NodeModel",
      "state": {
       "_model_module": "jupyter-cytoscape",
       "_model_module_version": "^1.3.3",
       "_model_name": "NodeModel",
       "_view_count": null,
       "_view_module": "jupyter-cytoscape",
       "_view_module_version": "^1.3.3",
       "_view_name": "NodeView",
       "classes": "",
       "data": {
        "color": "gray",
        "id": "764358489235708751",
        "label": "getitem",
        "shape": "ellipse"
       },
       "grabbable": true,
       "grabbed": false,
       "locked": false,
       "pannable": false,
       "position": {},
       "removed": false,
       "selectable": false,
       "selected": false
      }
     },
     "e75d4530d02f419493ad56c06ad00d89": {
      "model_module": "jupyter-cytoscape",
      "model_module_version": "^1.3.3",
      "model_name": "NodeModel",
      "state": {
       "_model_module": "jupyter-cytoscape",
       "_model_module_version": "^1.3.3",
       "_model_name": "NodeModel",
       "_view_count": null,
       "_view_module": "jupyter-cytoscape",
       "_view_module_version": "^1.3.3",
       "_view_name": "NodeView",
       "classes": "",
       "data": {
        "color": "gray",
        "id": "-5442962328562488096",
        "label": "series-sum-chunk",
        "shape": "ellipse"
       },
       "grabbable": true,
       "grabbed": false,
       "locked": false,
       "pannable": false,
       "position": {},
       "removed": false,
       "selectable": false,
       "selected": false
      }
     },
     "e8018157d03f4c2abaf58ae7964da2d8": {
      "model_module": "jupyter-cytoscape",
      "model_module_version": "^1.3.3",
      "model_name": "NodeModel",
      "state": {
       "_model_module": "jupyter-cytoscape",
       "_model_module_version": "^1.3.3",
       "_model_name": "NodeModel",
       "_view_count": null,
       "_view_module": "jupyter-cytoscape",
       "_view_module_version": "^1.3.3",
       "_view_name": "NodeView",
       "classes": "",
       "data": {
        "color": "gray",
        "id": "-6746707984043032608",
        "label": "0",
        "shape": "rectangle"
       },
       "grabbable": true,
       "grabbed": false,
       "locked": false,
       "pannable": false,
       "position": {},
       "removed": false,
       "selectable": false,
       "selected": false
      }
     },
     "e838e56300a644468aff415000651855": {
      "model_module": "jupyter-cytoscape",
      "model_module_version": "^1.3.3",
      "model_name": "EdgeModel",
      "state": {
       "_model_module": "jupyter-cytoscape",
       "_model_module_version": "^1.3.3",
       "_model_name": "EdgeModel",
       "_view_count": null,
       "_view_module": "jupyter-cytoscape",
       "_view_module_version": "^1.3.3",
       "_view_name": "EdgeView",
       "classes": " directed ",
       "data": {
        "source": "-3252091668141381369",
        "target": "-200111395126185168"
       },
       "pannable": true,
       "removed": false,
       "selectable": false,
       "selected": false
      }
     },
     "e8a43fe3fccc48a2b07b72d7050004ad": {
      "model_module": "jupyter-cytoscape",
      "model_module_version": "^1.3.3",
      "model_name": "EdgeModel",
      "state": {
       "_model_module": "jupyter-cytoscape",
       "_model_module_version": "^1.3.3",
       "_model_name": "EdgeModel",
       "_view_count": null,
       "_view_module": "jupyter-cytoscape",
       "_view_module_version": "^1.3.3",
       "_view_name": "EdgeView",
       "classes": " directed ",
       "data": {
        "source": "-7915931912768796618",
        "target": "-198806626458339811"
       },
       "pannable": true,
       "removed": false,
       "selectable": false,
       "selected": false
      }
     },
     "e983a716844c4f0fbe2776c6f9d0b0bc": {
      "model_module": "jupyter-cytoscape",
      "model_module_version": "^1.3.3",
      "model_name": "EdgeModel",
      "state": {
       "_model_module": "jupyter-cytoscape",
       "_model_module_version": "^1.3.3",
       "_model_name": "EdgeModel",
       "_view_count": null,
       "_view_module": "jupyter-cytoscape",
       "_view_module_version": "^1.3.3",
       "_view_name": "EdgeView",
       "classes": " directed ",
       "data": {
        "source": "3121127808614348646",
        "target": "-1965238580100955549"
       },
       "pannable": true,
       "removed": false,
       "selectable": false,
       "selected": false
      }
     },
     "e9aca514dd224ccc9ae08cae9ab8086a": {
      "model_module": "jupyter-cytoscape",
      "model_module_version": "^1.3.3",
      "model_name": "NodeModel",
      "state": {
       "_model_module": "jupyter-cytoscape",
       "_model_module_version": "^1.3.3",
       "_model_name": "NodeModel",
       "_view_count": null,
       "_view_module": "jupyter-cytoscape",
       "_view_module_version": "^1.3.3",
       "_view_name": "NodeView",
       "classes": "",
       "data": {
        "color": "gray",
        "id": "-5386689872228905767",
        "label": "0",
        "shape": "rectangle"
       },
       "grabbable": true,
       "grabbed": false,
       "locked": false,
       "pannable": false,
       "position": {},
       "removed": false,
       "selectable": false,
       "selected": false
      }
     },
     "ea4970d1731c4a3abf8c94dde8464034": {
      "model_module": "jupyter-cytoscape",
      "model_module_version": "^1.3.3",
      "model_name": "NodeModel",
      "state": {
       "_model_module": "jupyter-cytoscape",
       "_model_module_version": "^1.3.3",
       "_model_name": "NodeModel",
       "_view_count": null,
       "_view_module": "jupyter-cytoscape",
       "_view_module_version": "^1.3.3",
       "_view_name": "NodeView",
       "classes": "",
       "data": {
        "color": "gray",
        "id": "5967515803094502599",
        "label": "inv",
        "shape": "ellipse"
       },
       "grabbable": true,
       "grabbed": false,
       "locked": false,
       "pannable": false,
       "position": {},
       "removed": false,
       "selectable": false,
       "selected": false
      }
     },
     "ea62a7f74dd847c0a72552dcd05f246b": {
      "model_module": "jupyter-cytoscape",
      "model_module_version": "^1.3.3",
      "model_name": "NodeModel",
      "state": {
       "_model_module": "jupyter-cytoscape",
       "_model_module_version": "^1.3.3",
       "_model_name": "NodeModel",
       "_view_count": null,
       "_view_module": "jupyter-cytoscape",
       "_view_module_version": "^1.3.3",
       "_view_name": "NodeView",
       "classes": "",
       "data": {
        "color": "gray",
        "id": "2734421992782465183",
        "label": "inv",
        "shape": "ellipse"
       },
       "grabbable": true,
       "grabbed": false,
       "locked": false,
       "pannable": false,
       "position": {},
       "removed": false,
       "selectable": false,
       "selected": false
      }
     },
     "eb2927854b24428a888123181c0beffb": {
      "model_module": "jupyter-cytoscape",
      "model_module_version": "^1.3.3",
      "model_name": "EdgeModel",
      "state": {
       "_model_module": "jupyter-cytoscape",
       "_model_module_version": "^1.3.3",
       "_model_name": "EdgeModel",
       "_view_count": null,
       "_view_module": "jupyter-cytoscape",
       "_view_module_version": "^1.3.3",
       "_view_name": "EdgeView",
       "classes": " directed ",
       "data": {
        "source": "-6980817412802607968",
        "target": "2111044150122580247"
       },
       "pannable": true,
       "removed": false,
       "selectable": false,
       "selected": false
      }
     },
     "eb511ceefe1e48868aa2272ae69a2759": {
      "model_module": "jupyter-cytoscape",
      "model_module_version": "^1.3.3",
      "model_name": "EdgeModel",
      "state": {
       "_model_module": "jupyter-cytoscape",
       "_model_module_version": "^1.3.3",
       "_model_name": "EdgeModel",
       "_view_count": null,
       "_view_module": "jupyter-cytoscape",
       "_view_module_version": "^1.3.3",
       "_view_name": "EdgeView",
       "classes": " directed ",
       "data": {
        "source": "-39768415912864291",
        "target": "3140597978645465828"
       },
       "pannable": true,
       "removed": false,
       "selectable": false,
       "selected": false
      }
     },
     "ebdf89b05ec34f24b27756f4d42efb2f": {
      "model_module": "jupyter-cytoscape",
      "model_module_version": "^1.3.3",
      "model_name": "EdgeModel",
      "state": {
       "_model_module": "jupyter-cytoscape",
       "_model_module_version": "^1.3.3",
       "_model_name": "EdgeModel",
       "_view_count": null,
       "_view_module": "jupyter-cytoscape",
       "_view_module_version": "^1.3.3",
       "_view_name": "EdgeView",
       "classes": " directed ",
       "data": {
        "source": "2187412759870376097",
        "target": "-8500743181560307124"
       },
       "pannable": true,
       "removed": false,
       "selectable": false,
       "selected": false
      }
     },
     "ec7528fd36bb4b018328037d0d2207f1": {
      "model_module": "jupyter-cytoscape",
      "model_module_version": "^1.3.3",
      "model_name": "CytoscapeModel",
      "state": {
       "_dom_classes": [],
       "_interaction_handlers": {},
       "_model_module": "jupyter-cytoscape",
       "_model_module_version": "^1.3.3",
       "_model_name": "CytoscapeModel",
       "_view_count": null,
       "_view_module": "jupyter-cytoscape",
       "_view_module_version": "^1.3.3",
       "_view_name": "CytoscapeView",
       "auto_ungrabify": false,
       "auto_unselectify": true,
       "autolock": false,
       "box_selection_enabled": false,
       "cytoscape_layout": {
        "edgeSep": 10,
        "name": "dagre",
        "nodeDimensionsIncludeLabels": true,
        "nodeSep": 10,
        "rankDir": "BT",
        "spacingFactor": 1
       },
       "cytoscape_style": [
        {
         "selector": "node",
         "style": {
          "background-color": "#eee",
          "border-color": "data(color)",
          "border-width": 4,
          "color": "black",
          "font-family": "helvetica",
          "font-size": "24px",
          "font-weight": "bold",
          "height": 64,
          "label": "data(label)",
          "opacity": "1.0",
          "shape": "data(shape)",
          "text-halign": "center",
          "text-valign": "center",
          "width": 64
         }
        },
        {
         "selector": "edge",
         "style": {
          "curve-style": "bezier",
          "line-color": "gray",
          "target-arrow-color": "gray",
          "target-arrow-shape": "triangle",
          "width": 8
         }
        }
       ],
       "desktop_tap_threshold": 4,
       "graph": "IPY_MODEL_f04c6f5308d04455952f634c11f1e48c",
       "headless": false,
       "hide_edges_on_viewport": false,
       "layout": "IPY_MODEL_5e8c4d5707fe4df19c4c5f4571d19300",
       "max_zoom": 4.0,
       "min_zoom": 0.2,
       "motion_blur": false,
       "motion_blur_opacity": 0.2,
       "panning_enabled": true,
       "pixel_ratio": "auto",
       "rendered_position": {
        "renderedPosition": {
         "x": 100,
         "y": 100
        }
       },
       "selection_type": "single",
       "style_enabled": true,
       "tabbable": null,
       "texture_on_viewport": false,
       "tooltip": null,
       "tooltip_source": "tooltip",
       "touch_tap_threshold": 8,
       "user_panning_enabled": true,
       "user_zooming_enabled": true,
       "wheel_sensitivity": 0.1,
       "zoom": 2.0,
       "zooming_enabled": true
      }
     },
     "ec8725eb0ea24392a3e63532bb690ada": {
      "model_module": "jupyter-cytoscape",
      "model_module_version": "^1.3.3",
      "model_name": "EdgeModel",
      "state": {
       "_model_module": "jupyter-cytoscape",
       "_model_module_version": "^1.3.3",
       "_model_name": "EdgeModel",
       "_view_count": null,
       "_view_module": "jupyter-cytoscape",
       "_view_module_version": "^1.3.3",
       "_view_name": "EdgeView",
       "classes": " directed ",
       "data": {
        "source": "-7657833297781504393",
        "target": "2975963326607580446"
       },
       "pannable": true,
       "removed": false,
       "selectable": false,
       "selected": false
      }
     },
     "eca31cb81c534e8facb5f2bb403b198f": {
      "model_module": "jupyter-cytoscape",
      "model_module_version": "^1.3.3",
      "model_name": "EdgeModel",
      "state": {
       "_model_module": "jupyter-cytoscape",
       "_model_module_version": "^1.3.3",
       "_model_name": "EdgeModel",
       "_view_count": null,
       "_view_module": "jupyter-cytoscape",
       "_view_module_version": "^1.3.3",
       "_view_name": "EdgeView",
       "classes": " directed ",
       "data": {
        "source": "-8012002505621468123",
        "target": "2175316675819881552"
       },
       "pannable": true,
       "removed": false,
       "selectable": false,
       "selected": false
      }
     },
     "ed23c19ac27c4aa9a6af67b105549ec2": {
      "model_module": "jupyter-cytoscape",
      "model_module_version": "^1.3.3",
      "model_name": "EdgeModel",
      "state": {
       "_model_module": "jupyter-cytoscape",
       "_model_module_version": "^1.3.3",
       "_model_name": "EdgeModel",
       "_view_count": null,
       "_view_module": "jupyter-cytoscape",
       "_view_module_version": "^1.3.3",
       "_view_name": "EdgeView",
       "classes": " directed ",
       "data": {
        "source": "-898069215367979878",
        "target": "6222150791902312136"
       },
       "pannable": true,
       "removed": false,
       "selectable": false,
       "selected": false
      }
     },
     "ee05a40b50fe4b5f858d7cda0a3b37c8": {
      "model_module": "jupyter-cytoscape",
      "model_module_version": "^1.3.3",
      "model_name": "NodeModel",
      "state": {
       "_model_module": "jupyter-cytoscape",
       "_model_module_version": "^1.3.3",
       "_model_name": "NodeModel",
       "_view_count": null,
       "_view_module": "jupyter-cytoscape",
       "_view_module_version": "^1.3.3",
       "_view_name": "NodeView",
       "classes": "",
       "data": {
        "color": "gray",
        "id": "-2453018347855691885",
        "label": "moment_combine-partial",
        "shape": "ellipse"
       },
       "grabbable": true,
       "grabbed": false,
       "locked": false,
       "pannable": false,
       "position": {},
       "removed": false,
       "selectable": false,
       "selected": false
      }
     },
     "ee582f1342a6488983466b01b86038e8": {
      "model_module": "jupyter-cytoscape",
      "model_module_version": "^1.3.3",
      "model_name": "NodeModel",
      "state": {
       "_model_module": "jupyter-cytoscape",
       "_model_module_version": "^1.3.3",
       "_model_name": "NodeModel",
       "_view_count": null,
       "_view_module": "jupyter-cytoscape",
       "_view_module_version": "^1.3.3",
       "_view_name": "NodeView",
       "classes": "",
       "data": {
        "color": "gray",
        "id": "-1203643156123595488",
        "label": "series-sum-chunk",
        "shape": "ellipse"
       },
       "grabbable": true,
       "grabbed": false,
       "locked": false,
       "pannable": false,
       "position": {},
       "removed": false,
       "selectable": false,
       "selected": false
      }
     },
     "ee62c556e36f432ea4695b06bb519092": {
      "model_module": "jupyter-cytoscape",
      "model_module_version": "^1.3.3",
      "model_name": "NodeModel",
      "state": {
       "_model_module": "jupyter-cytoscape",
       "_model_module_version": "^1.3.3",
       "_model_name": "NodeModel",
       "_view_count": null,
       "_view_module": "jupyter-cytoscape",
       "_view_module_version": "^1.3.3",
       "_view_name": "NodeView",
       "classes": "",
       "data": {
        "color": "gray",
        "id": "6222150791902312136",
        "label": "5",
        "shape": "rectangle"
       },
       "grabbable": true,
       "grabbed": false,
       "locked": false,
       "pannable": false,
       "position": {},
       "removed": false,
       "selectable": false,
       "selected": false
      }
     },
     "ef39146fa66d44a6875aae0800ccb7eb": {
      "model_module": "jupyter-cytoscape",
      "model_module_version": "^1.3.3",
      "model_name": "NodeModel",
      "state": {
       "_model_module": "jupyter-cytoscape",
       "_model_module_version": "^1.3.3",
       "_model_name": "NodeModel",
       "_view_count": null,
       "_view_module": "jupyter-cytoscape",
       "_view_module_version": "^1.3.3",
       "_view_name": "NodeView",
       "classes": "",
       "data": {
        "color": "gray",
        "id": "3187832268323158133",
        "label": "values",
        "shape": "ellipse"
       },
       "grabbable": true,
       "grabbed": false,
       "locked": false,
       "pannable": false,
       "position": {},
       "removed": false,
       "selectable": false,
       "selected": false
      }
     },
     "ef59b38b682d4cbd92823b7149384fe7": {
      "model_module": "jupyter-cytoscape",
      "model_module_version": "^1.3.3",
      "model_name": "NodeModel",
      "state": {
       "_model_module": "jupyter-cytoscape",
       "_model_module_version": "^1.3.3",
       "_model_name": "NodeModel",
       "_view_count": null,
       "_view_module": "jupyter-cytoscape",
       "_view_module_version": "^1.3.3",
       "_view_name": "NodeView",
       "classes": "",
       "data": {
        "color": "gray",
        "id": "4590530053736882505",
        "label": "6",
        "shape": "rectangle"
       },
       "grabbable": true,
       "grabbed": false,
       "locked": false,
       "pannable": false,
       "position": {},
       "removed": false,
       "selectable": false,
       "selected": false
      }
     },
     "f0206aa1a6044f3cbe29fe31bbdaf57f": {
      "model_module": "jupyter-cytoscape",
      "model_module_version": "^1.3.3",
      "model_name": "EdgeModel",
      "state": {
       "_model_module": "jupyter-cytoscape",
       "_model_module_version": "^1.3.3",
       "_model_name": "EdgeModel",
       "_view_count": null,
       "_view_module": "jupyter-cytoscape",
       "_view_module_version": "^1.3.3",
       "_view_name": "EdgeView",
       "classes": " directed ",
       "data": {
        "source": "8573916103727133576",
        "target": "1271542873397694302"
       },
       "pannable": true,
       "removed": false,
       "selectable": false,
       "selected": false
      }
     },
     "f034f3ab4d144426adaf1cedaa80340e": {
      "model_module": "jupyter-cytoscape",
      "model_module_version": "^1.3.3",
      "model_name": "EdgeModel",
      "state": {
       "_model_module": "jupyter-cytoscape",
       "_model_module_version": "^1.3.3",
       "_model_name": "EdgeModel",
       "_view_count": null,
       "_view_module": "jupyter-cytoscape",
       "_view_module_version": "^1.3.3",
       "_view_name": "EdgeView",
       "classes": " directed ",
       "data": {
        "source": "-3386512947487649779",
        "target": "-9049960790672648124"
       },
       "pannable": true,
       "removed": false,
       "selectable": false,
       "selected": false
      }
     },
     "f04c6f5308d04455952f634c11f1e48c": {
      "model_module": "jupyter-cytoscape",
      "model_module_version": "^1.3.3",
      "model_name": "GraphModel",
      "state": {
       "_adj": {
        "-1140170839518051455": {},
        "-1203643156123595488": {},
        "-137909323197928479": {},
        "-1504361749519469698": {},
        "-1577547807921718100": {},
        "-1590934119349483542": {},
        "-1752476050327230538": {},
        "-1758759520792837332": {},
        "-1900056691328988348": {},
        "-1917110702365115920": {},
        "-1965238580100955549": {},
        "-198806626458339811": {},
        "-200111395126185168": {},
        "-2041842161555158051": {},
        "-212378624325725102": {},
        "-2192026299876784477": {},
        "-2217289018761885769": {},
        "-2293980137310216365": {},
        "-2309394768243815465": {},
        "-2453018347855691885": {},
        "-2477825641932771891": {},
        "-2514107851155667741": {},
        "-2673585678245233708": {},
        "-2739035532788873563": {},
        "-285489964199686289": {},
        "-3005916551607653423": {},
        "-3022857883796100252": {},
        "-3252091668141381369": {},
        "-3257145253004264927": {},
        "-3335114992322814551": {},
        "-3367042777456532597": {},
        "-3386512947487649779": {},
        "-3806204897521849234": {},
        "-3923961495373117524": {},
        "-39768415912864291": {},
        "-4131163025680017294": {},
        "-4192081812521864262": {},
        "-4288152405374535767": {},
        "-4371954404595135194": {},
        "-4668704725124222374": {},
        "-4846882869028547108": {},
        "-4979788706439499242": {},
        "-5093185424098881534": {},
        "-5176081309743708236": {},
        "-5297096306931048472": {},
        "-5329143616833624474": {},
        "-5386689872228905767": {},
        "-5442962328562488096": {},
        "-5456134517476523992": {},
        "-5457376334100299777": {},
        "-5698217577522588165": {},
        "-5806648539651166321": {},
        "-5830253291788376150": {},
        "-583252121601466528": {},
        "-589535592067073322": {},
        "-602722291632583710": {},
        "-6186390191412642330": {},
        "-6322432939011908379": {},
        "-6437635702692098474": {},
        "-6509671042545116059": {},
        "-663267682343184339": {},
        "-670176931600447666": {},
        "-6746707984043032608": {},
        "-690986273681872040": {},
        "-6943710343962926533": {},
        "-6975872468376930331": {},
        "-6980817412802607968": {},
        "-7097176348169071747": {},
        "-7126559844160481421": {},
        "-7182972153546168106": {},
        "-7190222082298392098": {},
        "-7283928645983381781": {},
        "-7285598054705956941": {},
        "-7348573263870670686": {},
        "-7442966856528857301": {},
        "-747886773639351910": {},
        "-7647811595620049880": {},
        "-7657833297781504393": {},
        "-7915931912768796618": {},
        "-7982791425939672453": {},
        "-7987099058694741148": {},
        "-8012002505621468123": {},
        "-8063163206826232081": {},
        "-8112934272688690543": {},
        "-8239909098176156409": {},
        "-8500743181560307124": {},
        "-8817975508993204545": {},
        "-898069215367979878": {},
        "-9003437424032724409": {},
        "-9049960790672648124": {},
        "-9085155841494560628": {},
        "-9126564372126850626": {},
        "1025031135062228737": {},
        "1025920426234346989": {},
        "1050264422001698648": {},
        "1271542873397694302": {},
        "1329076762929615770": {},
        "1414455332003116891": {},
        "1506561081485046587": {},
        "1678070953413903177": {},
        "1801197901508029394": {},
        "1806739397881816436": {},
        "1825241767808187105": {},
        "1965090579454095024": {},
        "1971374049919701818": {},
        "1980314889892673180": {},
        "2111044150122580247": {},
        "2175316675819881552": {},
        "2187412759870376097": {},
        "2192327423968294679": {},
        "221793521085773947": {},
        "2219488350727462658": {},
        "2408604677709454514": {},
        "2583679260728880901": {},
        "2600400115267304963": {},
        "2605324806656602436": {},
        "2675785010210810597": {},
        "2734421992782465183": {},
        "2828193821718404924": {},
        "2886109600526996361": {},
        "2975963326607580446": {},
        "2987232032263880444": {},
        "3121127808614348646": {},
        "3134314508179859034": {},
        "3140597978645465828": {},
        "3187832268323158133": {},
        "337337152759282577": {},
        "3438360136047246067": {},
        "3585940777049003877": {},
        "3652821773801315348": {},
        "3811859984346790868": {},
        "3826169044918862648": {},
        "3834055077856764717": {},
        "3983880301680360876": {},
        "4145187255333344456": {},
        "4224671680595478776": {},
        "4253843718629060011": {},
        "4290351737340112656": {},
        "4379359525155024175": {},
        "4470334990377653832": {},
        "4573578961550351224": {},
        "4575388310203358868": {},
        "4590530053736882505": {},
        "4607584064773010077": {},
        "4748881235309161093": {},
        "4755164705774767887": {},
        "4956559252988065657": {},
        "4990105663807216068": {},
        "4995392973644626658": {},
        "5003279006582528727": {},
        "5052926863176548126": {},
        "5080860529143808382": {},
        "5610418373822671867": {},
        "5627519691258614245": {},
        "566501637093180300": {},
        "575051168026576516": {},
        "5759753982462646515": {},
        "5918105164034925103": {},
        "5919059534575370945": {},
        "5924388634500531897": {},
        "5967515803094502599": {},
        "6164616902370390668": {},
        "6222150791902312136": {},
        "6414545278971244909": {},
        "6431646596407187287": {},
        "6609959700773928717": {},
        "6771642708243075641": {},
        "6873388918865369546": {},
        "7010624738505185897": {},
        "7391374720628076146": {},
        "7517906306098643055": {},
        "7557905178103697073": {},
        "764358489235708751": {},
        "7747021505085688929": {},
        "7769789198578560534": {},
        "7779183629499692727": {},
        "7922096088105115316": {},
        "7928052208691557259": {},
        "7968414539350968169": {},
        "8026906870815044490": {},
        "8223199474119253484": {},
        "8314380153983814861": {},
        "8472731335556093449": {},
        "8479014806021700243": {},
        "8487955645994671605": {},
        "8573916103727133576": {},
        "8605751546238952959": {},
        "8618678697593916783": {},
        "866679953489950149": {},
        "8732954314272609096": {},
        "883733964526077721": {},
        "8851591055926079582": {},
        "8916245433811452939": {},
        "9010629266471555102": {},
        "9071825154878735432": {},
        "969112533599578842": {},
        "987227504297511239": {},
        "992611241916121285": {}
       },
       "_model_module": "jupyter-cytoscape",
       "_model_module_version": "^1.3.3",
       "_model_name": "GraphModel",
       "_view_count": null,
       "_view_module": "jupyter-cytoscape",
       "_view_module_version": "^1.3.3",
       "_view_name": null,
       "edges": [
        "IPY_MODEL_01866867f02f411ca3ecc0820947a8fd",
        "IPY_MODEL_67dae8ead19e4b32b58a38c6e1149053",
        "IPY_MODEL_936507898ad1496fb62b90f7789e4385",
        "IPY_MODEL_c88e973ae51f4bf69527c75bbab9eda8",
        "IPY_MODEL_6b1a0dcfbad644f0a9feff2554e785d6",
        "IPY_MODEL_db03765517584baea0f0cdf7a58c086d",
        "IPY_MODEL_6cf873c2bb2240698e3c0eeae398d2c5",
        "IPY_MODEL_af0d8a69d6f94ffcbc3284871e029e45",
        "IPY_MODEL_b882cf2a58fe458784bf9dd7156d936d",
        "IPY_MODEL_b0f5f98f49884ed2942c58d1b829df27",
        "IPY_MODEL_54c70e54dbbe45b1a4fb40a48e83b35f",
        "IPY_MODEL_5af606e895414f368418296aae8b93cb",
        "IPY_MODEL_eb511ceefe1e48868aa2272ae69a2759",
        "IPY_MODEL_a4a3b80bd2c7478a857a76fb750a2d27",
        "IPY_MODEL_5e1f32c4dca343e3be528b6fd40e10a7",
        "IPY_MODEL_206ff1828087463e84eef83b02119f5a",
        "IPY_MODEL_8eec944a13d2480e90d89011e77d0509",
        "IPY_MODEL_e8a43fe3fccc48a2b07b72d7050004ad",
        "IPY_MODEL_beab1622fea447e68f32c9115655b367",
        "IPY_MODEL_d14c910f4dfe40caa1cdb8d032440cda",
        "IPY_MODEL_d79970983e0542aeaa9e77148a0af6c6",
        "IPY_MODEL_bc794423d3844db9bf9d2844e9ddce01",
        "IPY_MODEL_4dadf56d7ba74d0092a223c99a34c0f6",
        "IPY_MODEL_37943db66bf24e9ca651b74d7e5c3ef1",
        "IPY_MODEL_a029614c820d41f8b0138472e41724db",
        "IPY_MODEL_119b82345851402595061c92c88781a7",
        "IPY_MODEL_825beeadca32401f80c95812f214a79c",
        "IPY_MODEL_a515e8745500457bba7953572f9ba55e",
        "IPY_MODEL_604417127dff480a85cd4f4e38df0df2",
        "IPY_MODEL_9464a4276da04042bc033182b6ba394f",
        "IPY_MODEL_d5a4ac030cbd4a7c906e7a0580d81bb7",
        "IPY_MODEL_cb016f7926de43f39d6e886d1d6d9114",
        "IPY_MODEL_72f0900d5f344e6eb37bafb0f6b59e3d",
        "IPY_MODEL_adb9d6d7be824be08136f899c971f79b",
        "IPY_MODEL_10a683f7f94e490eb0f6c9f22a397014",
        "IPY_MODEL_3c067b260138469098e7174573393c3f",
        "IPY_MODEL_89485b38c13841dc8e72f8a448034fd5",
        "IPY_MODEL_c8c7fe1e06fa4a9a8b76b549de550206",
        "IPY_MODEL_dc8d63f034484d0ba0b5063d72049090",
        "IPY_MODEL_d3b1431eeda8429ea44a75cdc976fb32",
        "IPY_MODEL_07f073dc416a422998cfd635ac8d64cd",
        "IPY_MODEL_d13847805ae14b74a8525f048fa75b75",
        "IPY_MODEL_837180e6bb464b00882a6f06e92a96aa",
        "IPY_MODEL_e68cb48d8523441aa9e377222d8c7f04",
        "IPY_MODEL_7a9b1e1d0a1b462c847fea07b9dd955a",
        "IPY_MODEL_8d178dc42317493485254763978151ad",
        "IPY_MODEL_bf032c6ae70643b0b345ac0a59a2b9ba",
        "IPY_MODEL_c42ec1f83b734e048dc96a9229d1cd0f",
        "IPY_MODEL_86fccef5e2c149dabc2a61efd00a0a49",
        "IPY_MODEL_f274c92ec1d544ba885929395204ee3a",
        "IPY_MODEL_e4eaab6cfe69460583f94055c7bc1907",
        "IPY_MODEL_149063b2cdf94a5386e6a260bbb171bb",
        "IPY_MODEL_e6881e92d1244a5e97d6dd9e2155b335",
        "IPY_MODEL_44ba8e0eefbd46db9088b7f11186a0ab",
        "IPY_MODEL_130141e995b740b9b0110b3a749b3a8c",
        "IPY_MODEL_e838e56300a644468aff415000651855",
        "IPY_MODEL_6acaed91328641538b0319e9fb9a999b",
        "IPY_MODEL_4a3b4cc4b0654c05b8fbc69a76085881",
        "IPY_MODEL_08842433bc6d4bbcacf2f4ab25f36050",
        "IPY_MODEL_5e4b5ef78a51462d86589bc04d63beeb",
        "IPY_MODEL_cd82e33b98c2423d846335effbf05f26",
        "IPY_MODEL_13823bf61efc493e9636524995ec73fa",
        "IPY_MODEL_4a966611877947ada46f8ab75e8266c6",
        "IPY_MODEL_beed9b08320b4673a9ccd9e137519bad",
        "IPY_MODEL_6ec8f114a6494ecdb79b8e121f11807b",
        "IPY_MODEL_f0206aa1a6044f3cbe29fe31bbdaf57f",
        "IPY_MODEL_a5ad1d12bbdc4f3aa9d1851bf9d333c5",
        "IPY_MODEL_388880e53d4a4e968fe05afe78d9e3be",
        "IPY_MODEL_74a4d450a30445b9b5822f036ca1c1a2",
        "IPY_MODEL_936be80e1b734eb19945a1b9c89fc61f",
        "IPY_MODEL_c22d2b67404c43fd95699a7f8e3ed10f",
        "IPY_MODEL_9a94e9324c9e41e5a409b8076f6f7636",
        "IPY_MODEL_d2610d5bf22445d1a6e5b2022a7b8b53",
        "IPY_MODEL_e5708774fac04c89bf8cedc9af515b11",
        "IPY_MODEL_97e38bd32dd743b0971b9d7f702a36a7",
        "IPY_MODEL_7314b33bd7224da08cdb43208778c087",
        "IPY_MODEL_4562dedb4a1643ad907628dbeed3cf1d",
        "IPY_MODEL_c1d8a82fac5a4d7ca3e8307ace64926a",
        "IPY_MODEL_864066e7225a4419a8821fb817810a77",
        "IPY_MODEL_7ca8dc849a334b65bc40a5ecd3a90fd1",
        "IPY_MODEL_d91ed071ffea4a13aa12e5de553dd5dc",
        "IPY_MODEL_cb7cb0a1f59a44f7bd376e0d91c6f4f0",
        "IPY_MODEL_3b60f1a88823483c998be4ec45c4019c",
        "IPY_MODEL_633cc40ae1cf41efb8ce11e3078324c3",
        "IPY_MODEL_fced499761214882a1067091c5fd1db1",
        "IPY_MODEL_572c106c1c0c4ca4bee3a183f58994d9",
        "IPY_MODEL_dcf62fb753e9421285143b89753d30e6",
        "IPY_MODEL_d0e142ad913648a981bc38430e2bc847",
        "IPY_MODEL_4262c73ee2274cca9b26f4f9526898b6",
        "IPY_MODEL_1fdb35f106c348a2bc4fbe85c28708d0",
        "IPY_MODEL_bb86e4d650f14c0d96a72800f8cc7999",
        "IPY_MODEL_7a02d6106a3c43aa9f7af0b19d854549",
        "IPY_MODEL_677c94b3cdbd41d8bea5f5dc6c5bc895",
        "IPY_MODEL_140e600b2dc042b382eded78cbbf1f5d",
        "IPY_MODEL_c7d60e3d4d48434d81ffb6d18fa008aa",
        "IPY_MODEL_f3e34b6dff1a43ef84d1ec77d3ceb4d9",
        "IPY_MODEL_9f1164fa130e4387b54d308329f47d8c",
        "IPY_MODEL_deeb58fded9c4ff3b18a4ced65820e23",
        "IPY_MODEL_b652fc1e311b4ebfa27339154d1d51ff",
        "IPY_MODEL_95ebe7b61ba44a98b194980ea0d6e086",
        "IPY_MODEL_413d031cc57e4baba07523fc39559ff4",
        "IPY_MODEL_f956ddc95fe34df8a46198388c698b2d",
        "IPY_MODEL_add91627f9194ce4ae9fe5a6fcef1891",
        "IPY_MODEL_3f5cc9414ac54d6980f2af8991072513",
        "IPY_MODEL_82bc0226e67c4514adf66d9d9a74b165",
        "IPY_MODEL_40de1d9718a342558cd86c3a2e0b1b68",
        "IPY_MODEL_71a73957937949d4a7bba04223fef2d2",
        "IPY_MODEL_fe6d0930851740a8b676f3211079f9a4",
        "IPY_MODEL_a16026a40dde47d2a0df93b3741cc3f2",
        "IPY_MODEL_0cac7a48207f446fb30e276849bba477",
        "IPY_MODEL_327c6a08a96c4d499d32aa84cac8ff6b",
        "IPY_MODEL_8feab797829040bfa14d52ea61dbcc9b",
        "IPY_MODEL_b279ae2379a149dc91d8fbf1a84057b5",
        "IPY_MODEL_cbb0b934e0f541a084e8b3619d5b892b",
        "IPY_MODEL_ab5aa1d7e01a432c80a1bf42f173f88d",
        "IPY_MODEL_425cc76786cc4b149a0aa9b1efb769a3",
        "IPY_MODEL_3bebd5207412414b8904e951e889f99e",
        "IPY_MODEL_5da71737d8614f4dbbf969c4998806d2",
        "IPY_MODEL_2b9020ff04a54e69b755818d040137c5",
        "IPY_MODEL_8a611224afc74d099da838c56059bba9",
        "IPY_MODEL_13c09213b9e64039a1333aaff38facf8",
        "IPY_MODEL_05626c5171cf41a49cacbcb4e37603b9",
        "IPY_MODEL_a1fb0d2604f94ea39a2440059e073023",
        "IPY_MODEL_b5ea75e8192d43dea0040e6751b47f3d",
        "IPY_MODEL_faf53412c1b24ce0bda1d122e7cf54f0",
        "IPY_MODEL_588120af79f3419cab90827b8000f23e",
        "IPY_MODEL_2b0d0d7126414e18834166acadcab717",
        "IPY_MODEL_7ecdbb4e43de49fc99835aa704291c54",
        "IPY_MODEL_dfaf76a59d674fc99b254b1b0b8bc8d1",
        "IPY_MODEL_29aa74455d3442e18c9b8a8fe58f664f",
        "IPY_MODEL_96774c2246bb442b877c82dd8107a9f0",
        "IPY_MODEL_57df9462aadd4dae8fb419c29baed62f",
        "IPY_MODEL_3d6ca6a170a14a7bb9c629abeb644017",
        "IPY_MODEL_6bcf9c6542c4418b8f7da86cec079b64",
        "IPY_MODEL_ad72b92dca1f45cb86a56a0d556c6f6f",
        "IPY_MODEL_7b1bcf5734c6450aabca28f25c7fd637",
        "IPY_MODEL_db0bce528ad54828964f95a9f278fd8d",
        "IPY_MODEL_848479ae7958469c8f30e32ccf046e92",
        "IPY_MODEL_4200f60277544a09ad91f9ae03bd6a52",
        "IPY_MODEL_e3f98baa37f149e483ec72352ac8175c",
        "IPY_MODEL_83ef9225d84f48e6818017a7812ea3a7",
        "IPY_MODEL_7d5fa20244ea43e2829e2578fa27946a",
        "IPY_MODEL_ba812ebcc0314f73bc7c5435fd22c322",
        "IPY_MODEL_89dec5b9a9904fe5b33549b203068ec3",
        "IPY_MODEL_ed23c19ac27c4aa9a6af67b105549ec2",
        "IPY_MODEL_e30d884cf15140eca5e839e973a94ecc",
        "IPY_MODEL_42468595f7f74231a5bec0afc2c0632b",
        "IPY_MODEL_64af10980cd0427ab8beef5ef082a1ff",
        "IPY_MODEL_180d7112b6b848dbbaccbe389cc5e6d1",
        "IPY_MODEL_ff1e05f84f6f4a7a9af4120119e48c95",
        "IPY_MODEL_ebdf89b05ec34f24b27756f4d42efb2f",
        "IPY_MODEL_b6d5ecfd60be456f8ba8cd4e6da5103d",
        "IPY_MODEL_6f5663f52c3c4bbf92b354f1f468c661",
        "IPY_MODEL_e452063c688e473e91f3dc33f77100df",
        "IPY_MODEL_0093a90632ab4b9d8be3420c87d18fb2",
        "IPY_MODEL_49c0b8b0c2f54953a9c4657eeec08c38",
        "IPY_MODEL_4c3a9619481040c2ac39987be4ac7135",
        "IPY_MODEL_4594ff48c907401296367ac3f641625a",
        "IPY_MODEL_c4781b4131494b5395f22866f1495f8d",
        "IPY_MODEL_8f3cde1b0e68458eb8b93355812fbadf",
        "IPY_MODEL_6d693afb4efc4b949ec4a3e53d1d5c3c",
        "IPY_MODEL_64a47234b8f9401cad19ece0837de7e9",
        "IPY_MODEL_60364a94599e4f4a931d2207a609adca",
        "IPY_MODEL_60cc1a5b90534a279de7a5f995c71238",
        "IPY_MODEL_df02e3b646bc42dabd88c517d398afe8",
        "IPY_MODEL_740bf71fd998496a9aa7f86787d51bfb",
        "IPY_MODEL_eca31cb81c534e8facb5f2bb403b198f",
        "IPY_MODEL_17b269293544482b9d4dc0875dbbad1d",
        "IPY_MODEL_da22bcd80cb84a3f8892ed3918f6ccca",
        "IPY_MODEL_54e73430c80d46bd9d972468717b328b",
        "IPY_MODEL_65c31ba386c94fe59d69f94cd09e4651",
        "IPY_MODEL_61a97d1d74b04bfaa54b088c55604c07",
        "IPY_MODEL_73470d045cbe44e3bb7e41b361dfbe47",
        "IPY_MODEL_5231656b299b417ca0b049e25182a2a7",
        "IPY_MODEL_b85af33b29054ebcbe9a95069f4f3c74",
        "IPY_MODEL_f84e28a44c3d4d5293b99e469e9101fb",
        "IPY_MODEL_31ff7f67848f412db0c26842b28c2c5b",
        "IPY_MODEL_ac5dd24c15cb4b2cb8c67807d03a9d03",
        "IPY_MODEL_d59bdaa9e04d4965aed34935d6678831",
        "IPY_MODEL_20804403445a488fb52abe268b7c1722",
        "IPY_MODEL_06c56478b3a14bf3971e16bc89171647",
        "IPY_MODEL_18379af7837746d19d45343690ea334a",
        "IPY_MODEL_2c3590870e834dada2e07ed32ede8cdd",
        "IPY_MODEL_253c763c87a240f09d5d82fa14f16f5b",
        "IPY_MODEL_d4cd41977e874fbaa4d4c390b30379c1",
        "IPY_MODEL_89fff262a4f447b4bd943731fa7f5b63",
        "IPY_MODEL_28fd0ff89fb945b2b8c557f319f3bc1b",
        "IPY_MODEL_8501c6a90d354549915833acacd4167b",
        "IPY_MODEL_23f14f0da8cd4b868247be81a848b0e0",
        "IPY_MODEL_8979684acce84fbb8ea8332d13ba76f4",
        "IPY_MODEL_1b62019b22a2466c97546e6db4b09f83",
        "IPY_MODEL_50edb6b55af543488bad8de2ed29825e",
        "IPY_MODEL_e54a112fb8e742279f8164261c366b77",
        "IPY_MODEL_ec8725eb0ea24392a3e63532bb690ada",
        "IPY_MODEL_a3c4d06bb4a243dfa2aacd1372cb65db",
        "IPY_MODEL_6ccded5e431a4a918eb8b9bbd4dc82bb",
        "IPY_MODEL_6c794da993354ac2bdcb475402511ba0",
        "IPY_MODEL_3f4ef70607f4453e8396aa83560d81e3",
        "IPY_MODEL_f034f3ab4d144426adaf1cedaa80340e",
        "IPY_MODEL_cefda535f43c444c9b054ba18726bab0",
        "IPY_MODEL_e983a716844c4f0fbe2776c6f9d0b0bc",
        "IPY_MODEL_4ee58607d4b54145af504fa498951e7b",
        "IPY_MODEL_abe09a2723914610b2991cc79c26f688",
        "IPY_MODEL_7689a7d7904a4565ac4122a1f5a7d9b3",
        "IPY_MODEL_a58644e45b1f4f0dac79e479eb46e741",
        "IPY_MODEL_c342127f769345ef8d0f08040662576a",
        "IPY_MODEL_b74c2d61d3644265a9f1933ecd310b97",
        "IPY_MODEL_e4e958ebf17347eab1f71d9419f1fa8c",
        "IPY_MODEL_1021dbe2579848cfa1af9cb5f63f047c",
        "IPY_MODEL_62b06da5198e4d3e87e65d721dbe7b68",
        "IPY_MODEL_a13b8cad806f457bb7b38ca0d3761fca",
        "IPY_MODEL_fd19691fc25949988e8587486a6bcd4a",
        "IPY_MODEL_3127f14426024f00bd41af8c5b518064",
        "IPY_MODEL_f23604a43e164d4ba5a62400177d80e9",
        "IPY_MODEL_3d306ad627ee45d3b9d7239faa3e5bce",
        "IPY_MODEL_0425a5e103ba41e5ae7633a4804d0bfc",
        "IPY_MODEL_bac5b2e4c7414b449c51ac8f8d32a8f3",
        "IPY_MODEL_855c682bcd4a4b4ba0742e4a3819212b",
        "IPY_MODEL_c458fc698cfb4b719c88618091f38240",
        "IPY_MODEL_e35a1e1f73ce454ea33a8a32c98f7197",
        "IPY_MODEL_ae4780ed0d1740b48da3d18149132553",
        "IPY_MODEL_b91d2e14a91645b890a548d48a7a357d",
        "IPY_MODEL_f4f521d1a99f414e94eaf68a183b2b94",
        "IPY_MODEL_eb2927854b24428a888123181c0beffb",
        "IPY_MODEL_53cef6bb6a2843eb9c18c5db1749c48e",
        "IPY_MODEL_25f74bd267954ae58b0e3648d5b961cd"
       ],
       "nodes": [
        "IPY_MODEL_b223e2cbc83f4ec5a39093eecf4447d2",
        "IPY_MODEL_e9aca514dd224ccc9ae08cae9ab8086a",
        "IPY_MODEL_5a1d924750ee4dc9adbb2699363c8b38",
        "IPY_MODEL_9b99df9483f6420a9e3b5c4acd2b508f",
        "IPY_MODEL_d35293e0c1fd450dbe29aefc551ab985",
        "IPY_MODEL_e8018157d03f4c2abaf58ae7964da2d8",
        "IPY_MODEL_167ad101d03f459baec0a4d3880cce3c",
        "IPY_MODEL_ab1394552f404089a65bba3e8fc551e0",
        "IPY_MODEL_cb67d65c6f98424d9ac368efaffab104",
        "IPY_MODEL_5803ddc68bb14c17ab631973f8f467ad",
        "IPY_MODEL_6398fdbaccee48cdac7facd4f66c92f4",
        "IPY_MODEL_a4792197fa854bfaa4062aadac4a79c0",
        "IPY_MODEL_e6efe629bcd64f7bb0f663b8d9431809",
        "IPY_MODEL_6337843d06e348f0a91d09c842aee5e7",
        "IPY_MODEL_90d7b766cfb74047808e097faa095040",
        "IPY_MODEL_40db96a0c6e04c748c883ee5c0ace351",
        "IPY_MODEL_6a99b4491b184255a37789478fd96e27",
        "IPY_MODEL_4b3480d34f3c4705970d6bab5ac09620",
        "IPY_MODEL_fd585089e5bd464cbd490b9811573d5e",
        "IPY_MODEL_f5f46160080a4e009b2b1e8b140551d8",
        "IPY_MODEL_d8bfd2dd354e43c4bdd5b5bc02c7d409",
        "IPY_MODEL_2068a3e6f90146c4b445f2e8cfdb2c5c",
        "IPY_MODEL_ca8356d3e2ad4df3ac535eb9de1655aa",
        "IPY_MODEL_76325d7bc1ed411d95bfe5c2c8cba225",
        "IPY_MODEL_9f0887aecaae430bb276594a6f3b250a",
        "IPY_MODEL_c771efe575894ee387a174dcfcf71a5f",
        "IPY_MODEL_fe988578e6e24ebba4b33bebf6b3dc19",
        "IPY_MODEL_e6c197e1bb7948ab8de74edece71a006",
        "IPY_MODEL_6778353dc2f9467391bbe703ee24c9dc",
        "IPY_MODEL_73dea86c040741deb0962f49cb5ecaee",
        "IPY_MODEL_e1b9c5675e1c4f8395437f0fe7c9ff5c",
        "IPY_MODEL_75995212db5b4384a8984b349e83a6e5",
        "IPY_MODEL_c0e04ba2ca304e0091e29259cb0c807b",
        "IPY_MODEL_6aa8c27524af48729bc4cb9c96776935",
        "IPY_MODEL_a2e467d78235482c89fd37df23dc8ba4",
        "IPY_MODEL_54788175f10740ecb8a3e53cbbe89e7b",
        "IPY_MODEL_5741d070af434069a1c559f1eb308d60",
        "IPY_MODEL_383a361498a240968643a447cec9a3cd",
        "IPY_MODEL_1f1cdef2e3764fd48fca496b9b42c900",
        "IPY_MODEL_d5216f3b047e43e58f0adac11b9c4b98",
        "IPY_MODEL_899dd2f935524f83a03d2c280bfecb2c",
        "IPY_MODEL_07c630ecef7f4f5bb475c14c111e0d83",
        "IPY_MODEL_b29b9742eda5465e8dee8013b67ded2f",
        "IPY_MODEL_fd02c0cb675e465bb6017bc359e935f9",
        "IPY_MODEL_262f96c5a46b4ce4ba438511f66b2025",
        "IPY_MODEL_41d712dcf32f4e82877938a0931172e7",
        "IPY_MODEL_8cffa8fe768a4f1aa0d7c7451e4549cf",
        "IPY_MODEL_7fa87ce0c2e2413190e0af9647fa788e",
        "IPY_MODEL_938876a1ef5a4d5ba46540bbb6addd10",
        "IPY_MODEL_74e06c9591c1489a8b7d245c0ec2dd26",
        "IPY_MODEL_0ee23512072248a58d3ce9e539b7220b",
        "IPY_MODEL_761ba20d40704ca498ba1ea3c7de79d8",
        "IPY_MODEL_4f686a262dc349c099fba0cdcd6d4410",
        "IPY_MODEL_56f54b83b9db4678b416d93ea9646b3b",
        "IPY_MODEL_31346ed4730440b9ba67a9b98c62b3a1",
        "IPY_MODEL_8267b083157749478107c8cc6e9fab6e",
        "IPY_MODEL_5885e95248c947adad96e208240b30f7",
        "IPY_MODEL_a93eea31fa36420f8571c22c2fe91baf",
        "IPY_MODEL_a0bc1ade822c4f9c829be15c93071358",
        "IPY_MODEL_1f97ded0953045519c420162948c2788",
        "IPY_MODEL_14b1fbf47b0d4ce898b55edddb5b81ef",
        "IPY_MODEL_5589c1860d484255a03925de493e2a9c",
        "IPY_MODEL_d9e529b45f144ef4a023107ba5a0a336",
        "IPY_MODEL_46b1df90e2a743998491a4d81d417170",
        "IPY_MODEL_bf5779f96e754368b5412ba942af1141",
        "IPY_MODEL_67ce4e4c05144bdf8de9c2416554d229",
        "IPY_MODEL_1b80407297404c2fa9d57d7fc5600208",
        "IPY_MODEL_acfd302f736643e59ee2005889fa0ed2",
        "IPY_MODEL_b8f11acc972a4b07ada004cefa55ff7e",
        "IPY_MODEL_d6810a1d14094e749385faa46f02549d",
        "IPY_MODEL_4464c6bda9894cb489fbe759891fad6f",
        "IPY_MODEL_940c6fe08d8a42519abf1b4cad6c3f34",
        "IPY_MODEL_9dde7de8a876420e99a1d95fcd16e6f1",
        "IPY_MODEL_60e66799e2874480bdd5f1761666837d",
        "IPY_MODEL_34ed296df7794b3a86e38602f08d0b81",
        "IPY_MODEL_332d53879cb44661b7a69d8becd00329",
        "IPY_MODEL_aec6799ff38442c792c9276682efcda4",
        "IPY_MODEL_0ceadbb0282240bb968fab67609a62ea",
        "IPY_MODEL_ad248ceca607482ea3fbbf2ef0161a84",
        "IPY_MODEL_ea4970d1731c4a3abf8c94dde8464034",
        "IPY_MODEL_fccd76161ab245ae8e160c3cd8284ea1",
        "IPY_MODEL_f9c7fa10827048ed8d05374b35799b3a",
        "IPY_MODEL_35fb64270b80419dadcf68a708654f7d",
        "IPY_MODEL_ea62a7f74dd847c0a72552dcd05f246b",
        "IPY_MODEL_86309a28bc7b42ba9bd7a43cddc5ab61",
        "IPY_MODEL_95ad3c9d344c41658eb359d959f31065",
        "IPY_MODEL_9e4133edebcd4079894ce18e08682f58",
        "IPY_MODEL_4fc6e5dc9b4f4444ae5c6ad014ca0f2c",
        "IPY_MODEL_416a6fbee7944073bb4569ac65787904",
        "IPY_MODEL_5b7bb476e2d247ddb4ceb562c3f72057",
        "IPY_MODEL_76037438745b4f55a5aae7e23fc0bd10",
        "IPY_MODEL_d9db07c33053464f9a55d41082b14b46",
        "IPY_MODEL_975bf3032b5342edae42681bf5da5a22",
        "IPY_MODEL_cbacb75a80144b60bce60deb0e79a8eb",
        "IPY_MODEL_9914d62db79c4ddfaf63abdde1d1c845",
        "IPY_MODEL_73ef68a6910642bea0e3e67726be5e7b",
        "IPY_MODEL_beec28f25b5643a593ac9ffa83be8b27",
        "IPY_MODEL_7db1d2b62803436286b44914e420b580",
        "IPY_MODEL_a74d9b172aec4925a1cd6bcdfddc928a",
        "IPY_MODEL_6b5bd988ebb2487e8f75ad6b02d12384",
        "IPY_MODEL_302bc88929504a0bb72c9a924a0fdfea",
        "IPY_MODEL_9fb104e80cde4842b336f031b88781de",
        "IPY_MODEL_56aa98987d3e4411ae8cbe6198fcfa69",
        "IPY_MODEL_81f30cffb4fa463cb2543ad7c3a198f2",
        "IPY_MODEL_51656beebd834ef49202bfae5c889e20",
        "IPY_MODEL_db57e20e14744ed19c4582363077f6fa",
        "IPY_MODEL_cca31ca94d9045559a8d5d36843e0f6c",
        "IPY_MODEL_1982d99f183d45ed816108250db8fc90",
        "IPY_MODEL_e75d4530d02f419493ad56c06ad00d89",
        "IPY_MODEL_8c910000304d430192f71c24a6f2d511",
        "IPY_MODEL_ee582f1342a6488983466b01b86038e8",
        "IPY_MODEL_77c5497f03854ddcbf33dff8a2bc41f9",
        "IPY_MODEL_a127aa3dcda1446da6b3c6ab9a5a7341",
        "IPY_MODEL_265dba22e43c426eaf6e75de781a5a8f",
        "IPY_MODEL_6cd6031b694d4a7387f79170bdf192df",
        "IPY_MODEL_68695535a92242dd97003d278cf0157e",
        "IPY_MODEL_b5af3077859c4b08869c819753352d95",
        "IPY_MODEL_2a87fd09ac6f4c3db442fe27968eaa7e",
        "IPY_MODEL_baca493ffdb9431d8b2abb2233145101",
        "IPY_MODEL_d83c30bc1d4643eb92c9faa0df5890a1",
        "IPY_MODEL_97dc7bf6f53e4ef890ca60c219f33888",
        "IPY_MODEL_1b2fc290bca0432c811d1483dc1ef9c6",
        "IPY_MODEL_0d77cd45424b4eb48356c1c47391f4bd",
        "IPY_MODEL_938ebbe4573f457fa1ffe12859543eab",
        "IPY_MODEL_4d014531235b4e40beb35565debec36d",
        "IPY_MODEL_f8a6a7d37bf3408892cb97c0cdaddf76",
        "IPY_MODEL_9f5174c6a4874facb54b2000c9618c43",
        "IPY_MODEL_72db3e7359a34f019cb3b5b8f057704b",
        "IPY_MODEL_83d1d6a82cd0465491562774dcec7db7",
        "IPY_MODEL_cc8721b42dde41aeb91fb9b42e1b8f07",
        "IPY_MODEL_458dba7075684facbca514d65c960daa",
        "IPY_MODEL_e5374107041c4293b51686f9a7f71994",
        "IPY_MODEL_d80ad900558c4e24b92001d25a7d934b",
        "IPY_MODEL_9eeaf8938d7c43aab8276470e1de3431",
        "IPY_MODEL_05d03002c9d74e8f8df3e9cca96bbe43",
        "IPY_MODEL_db9a9c418a4849de927cffdcaf78b46a",
        "IPY_MODEL_ee62c556e36f432ea4695b06bb519092",
        "IPY_MODEL_1e3ca6174e174786b45c49cd0cb5b279",
        "IPY_MODEL_e64ced7a947046038e27c48ed5bd01a6",
        "IPY_MODEL_a67d5ded83824e649c320138199e3399",
        "IPY_MODEL_42f88d349c774bad99e04e962e8ee813",
        "IPY_MODEL_2d2cb5ec9ad549f081fc71201b806727",
        "IPY_MODEL_dd34d785da334070a4ce3b5e54444d71",
        "IPY_MODEL_366c84fbfc0b4e0287ed2d7353319589",
        "IPY_MODEL_f170a65cb86f4e078833960af9c70faa",
        "IPY_MODEL_af8c5e19c5084610a91bc3961f441f2d",
        "IPY_MODEL_1f360483a2cd423da2a2de50a4da6a92",
        "IPY_MODEL_235aaccada674ef989b23424f8880fc7",
        "IPY_MODEL_075567e842da4122accb7ed987435d34",
        "IPY_MODEL_bf8236aab1604d6897d455194a96c245",
        "IPY_MODEL_ffa39a1da32c49e7878ebaf9e152769e",
        "IPY_MODEL_0e651d2a60eb49dfa5f449466a0b2d54",
        "IPY_MODEL_861752fbe86641b9a85b074fba6eccb2",
        "IPY_MODEL_05abe04ae11f42ac9d3989728475b6f0",
        "IPY_MODEL_1cdf15a7115d478592aa590bbbe14400",
        "IPY_MODEL_79fcbb5a69054a6baa928b9853a184ec",
        "IPY_MODEL_955a4206c4474827ab18d9e4947929ec",
        "IPY_MODEL_e12fb23f39e74ea0878af6ec46b36c9f",
        "IPY_MODEL_294d453d4f1b4ded88a6115ca39a7e54",
        "IPY_MODEL_c93a4e1cd89e47f7a0e1e2cdaf531eb9",
        "IPY_MODEL_5ff49e84cdf24fc79c5d659f704cefb0",
        "IPY_MODEL_0cd26a00c9f54044875d4bd1a18ef9e3",
        "IPY_MODEL_cd774804f61a4ad088457d75093495a5",
        "IPY_MODEL_ad1df235c45c48d38e15eef2b550bc09",
        "IPY_MODEL_ef39146fa66d44a6875aae0800ccb7eb",
        "IPY_MODEL_1dfe363288f74ceab365895ba611c018",
        "IPY_MODEL_778d5f35cd7043779ab950e16cfe1c38",
        "IPY_MODEL_dfbf0bfed53e4050901365717fc43e4a",
        "IPY_MODEL_6fe9205968514f0fa4f20cb2caa1c5db",
        "IPY_MODEL_c9ba5fb3e5494128b242d5bbe9d6fd44",
        "IPY_MODEL_8686f4b2708e45ebb6246babf481b22d",
        "IPY_MODEL_9202c5bdb5b948e8af74221654ef9128",
        "IPY_MODEL_386099436e684e428a85273c5f2a1647",
        "IPY_MODEL_da42970d3c514941be4632beefe306ad",
        "IPY_MODEL_37c0f1fe53044233808decf5cc6d19e5",
        "IPY_MODEL_30a339826bf349a38e978937c7809115",
        "IPY_MODEL_a5201c0a6f9d4dfa938c0931fa4de93f",
        "IPY_MODEL_69bf255f944f44e9b25e315195f4cfc6",
        "IPY_MODEL_43c24df76a974a3d9e59ba7e7d834597",
        "IPY_MODEL_ef59b38b682d4cbd92823b7149384fe7",
        "IPY_MODEL_2c47174a553d475c853d780b0989bcf6",
        "IPY_MODEL_e52955acba3b47b2a26fdff7ddcf1b2b",
        "IPY_MODEL_a54df596ba6b4f8bb8e63ed367470b62",
        "IPY_MODEL_96624fb1e97e488dbd9b573606758294",
        "IPY_MODEL_0c01fe6c3bad4ead81d4759b6e746083",
        "IPY_MODEL_fa621604682548b896d8dc8889c75e5f",
        "IPY_MODEL_ce2a8a3411e24f7ca976f2b84e5b2ef3",
        "IPY_MODEL_0f8f20818f834e8e940e8fa2a034643d",
        "IPY_MODEL_ee05a40b50fe4b5f858d7cda0a3b37c8",
        "IPY_MODEL_b4050b28a19a4273b6ad469461133807",
        "IPY_MODEL_fb715567a7e44f74b1e14b6fd965c23f",
        "IPY_MODEL_b4721179cf314f0fbb727f084657b7c5",
        "IPY_MODEL_51779a8c713f4800950e9b66ef75495c",
        "IPY_MODEL_f7dc7090d5234c039ac7d3c02e5f9e96",
        "IPY_MODEL_4a14c59608a645d780648308e4fc9f23",
        "IPY_MODEL_be39f64c2b0f4ac5b2930713a9200e61",
        "IPY_MODEL_ab0afea456ba4e80bfe2ceb06c7d4686",
        "IPY_MODEL_8d2c38205f58476b96d7dd425f879158"
       ]
      }
     },
     "f170a65cb86f4e078833960af9c70faa": {
      "model_module": "jupyter-cytoscape",
      "model_module_version": "^1.3.3",
      "model_name": "NodeModel",
      "state": {
       "_model_module": "jupyter-cytoscape",
       "_model_module_version": "^1.3.3",
       "_model_name": "NodeModel",
       "_view_count": null,
       "_view_module": "jupyter-cytoscape",
       "_view_module_version": "^1.3.3",
       "_view_name": "NodeView",
       "classes": "",
       "data": {
        "color": "gray",
        "id": "5052926863176548126",
        "label": "9",
        "shape": "rectangle"
       },
       "grabbable": true,
       "grabbed": false,
       "locked": false,
       "pannable": false,
       "position": {},
       "removed": false,
       "selectable": false,
       "selected": false
      }
     },
     "f23604a43e164d4ba5a62400177d80e9": {
      "model_module": "jupyter-cytoscape",
      "model_module_version": "^1.3.3",
      "model_name": "EdgeModel",
      "state": {
       "_model_module": "jupyter-cytoscape",
       "_model_module_version": "^1.3.3",
       "_model_name": "EdgeModel",
       "_view_count": null,
       "_view_module": "jupyter-cytoscape",
       "_view_module_version": "^1.3.3",
       "_view_name": "EdgeView",
       "classes": " directed ",
       "data": {
        "source": "-7348573263870670686",
        "target": "-2453018347855691885"
       },
       "pannable": true,
       "removed": false,
       "selectable": false,
       "selected": false
      }
     },
     "f274c92ec1d544ba885929395204ee3a": {
      "model_module": "jupyter-cytoscape",
      "model_module_version": "^1.3.3",
      "model_name": "EdgeModel",
      "state": {
       "_model_module": "jupyter-cytoscape",
       "_model_module_version": "^1.3.3",
       "_model_name": "EdgeModel",
       "_view_count": null,
       "_view_module": "jupyter-cytoscape",
       "_view_module_version": "^1.3.3",
       "_view_name": "EdgeView",
       "classes": " directed ",
       "data": {
        "source": "8618678697593916783",
        "target": "-3923961495373117524"
       },
       "pannable": true,
       "removed": false,
       "selectable": false,
       "selected": false
      }
     },
     "f3e34b6dff1a43ef84d1ec77d3ceb4d9": {
      "model_module": "jupyter-cytoscape",
      "model_module_version": "^1.3.3",
      "model_name": "EdgeModel",
      "state": {
       "_model_module": "jupyter-cytoscape",
       "_model_module_version": "^1.3.3",
       "_model_name": "EdgeModel",
       "_view_count": null,
       "_view_module": "jupyter-cytoscape",
       "_view_module_version": "^1.3.3",
       "_view_name": "EdgeView",
       "classes": " directed ",
       "data": {
        "source": "-4668704725124222374",
        "target": "3834055077856764717"
       },
       "pannable": true,
       "removed": false,
       "selectable": false,
       "selected": false
      }
     },
     "f4f521d1a99f414e94eaf68a183b2b94": {
      "model_module": "jupyter-cytoscape",
      "model_module_version": "^1.3.3",
      "model_name": "EdgeModel",
      "state": {
       "_model_module": "jupyter-cytoscape",
       "_model_module_version": "^1.3.3",
       "_model_name": "EdgeModel",
       "_view_count": null,
       "_view_module": "jupyter-cytoscape",
       "_view_module_version": "^1.3.3",
       "_view_name": "EdgeView",
       "classes": " directed ",
       "data": {
        "source": "2111044150122580247",
        "target": "4956559252988065657"
       },
       "pannable": true,
       "removed": false,
       "selectable": false,
       "selected": false
      }
     },
     "f5f46160080a4e009b2b1e8b140551d8": {
      "model_module": "jupyter-cytoscape",
      "model_module_version": "^1.3.3",
      "model_name": "NodeModel",
      "state": {
       "_model_module": "jupyter-cytoscape",
       "_model_module_version": "^1.3.3",
       "_model_name": "NodeModel",
       "_view_count": null,
       "_view_module": "jupyter-cytoscape",
       "_view_module_version": "^1.3.3",
       "_view_name": "NodeView",
       "classes": "",
       "data": {
        "color": "gray",
        "id": "3140597978645465828",
        "label": "3",
        "shape": "rectangle"
       },
       "grabbable": true,
       "grabbed": false,
       "locked": false,
       "pannable": false,
       "position": {},
       "removed": false,
       "selectable": false,
       "selected": false
      }
     },
     "f7dc7090d5234c039ac7d3c02e5f9e96": {
      "model_module": "jupyter-cytoscape",
      "model_module_version": "^1.3.3",
      "model_name": "NodeModel",
      "state": {
       "_model_module": "jupyter-cytoscape",
       "_model_module_version": "^1.3.3",
       "_model_name": "NodeModel",
       "_view_count": null,
       "_view_module": "jupyter-cytoscape",
       "_view_module_version": "^1.3.3",
       "_view_name": "NodeView",
       "classes": "",
       "data": {
        "color": "gray",
        "id": "-6980817412802607968",
        "label": "()",
        "shape": "rectangle"
       },
       "grabbable": true,
       "grabbed": false,
       "locked": false,
       "pannable": false,
       "position": {},
       "removed": false,
       "selectable": false,
       "selected": false
      }
     },
     "f84e28a44c3d4d5293b99e469e9101fb": {
      "model_module": "jupyter-cytoscape",
      "model_module_version": "^1.3.3",
      "model_name": "EdgeModel",
      "state": {
       "_model_module": "jupyter-cytoscape",
       "_model_module_version": "^1.3.3",
       "_model_name": "EdgeModel",
       "_view_count": null,
       "_view_module": "jupyter-cytoscape",
       "_view_module_version": "^1.3.3",
       "_view_name": "EdgeView",
       "classes": " directed ",
       "data": {
        "source": "-4979788706439499242",
        "target": "1506561081485046587"
       },
       "pannable": true,
       "removed": false,
       "selectable": false,
       "selected": false
      }
     },
     "f8a6a7d37bf3408892cb97c0cdaddf76": {
      "model_module": "jupyter-cytoscape",
      "model_module_version": "^1.3.3",
      "model_name": "NodeModel",
      "state": {
       "_model_module": "jupyter-cytoscape",
       "_model_module_version": "^1.3.3",
       "_model_name": "NodeModel",
       "_view_count": null,
       "_view_module": "jupyter-cytoscape",
       "_view_module_version": "^1.3.3",
       "_view_name": "NodeView",
       "classes": "",
       "data": {
        "color": "gray",
        "id": "8026906870815044490",
        "label": "series-count-chunk",
        "shape": "ellipse"
       },
       "grabbable": true,
       "grabbed": false,
       "locked": false,
       "pannable": false,
       "position": {},
       "removed": false,
       "selectable": false,
       "selected": false
      }
     },
     "f956ddc95fe34df8a46198388c698b2d": {
      "model_module": "jupyter-cytoscape",
      "model_module_version": "^1.3.3",
      "model_name": "EdgeModel",
      "state": {
       "_model_module": "jupyter-cytoscape",
       "_model_module_version": "^1.3.3",
       "_model_name": "EdgeModel",
       "_view_count": null,
       "_view_module": "jupyter-cytoscape",
       "_view_module_version": "^1.3.3",
       "_view_name": "EdgeView",
       "classes": " directed ",
       "data": {
        "source": "575051168026576516",
        "target": "7557905178103697073"
       },
       "pannable": true,
       "removed": false,
       "selectable": false,
       "selected": false
      }
     },
     "f9c7fa10827048ed8d05374b35799b3a": {
      "model_module": "jupyter-cytoscape",
      "model_module_version": "^1.3.3",
      "model_name": "NodeModel",
      "state": {
       "_model_module": "jupyter-cytoscape",
       "_model_module_version": "^1.3.3",
       "_model_name": "NodeModel",
       "_view_count": null,
       "_view_module": "jupyter-cytoscape",
       "_view_module_version": "^1.3.3",
       "_view_name": "NodeView",
       "classes": "",
       "data": {
        "color": "gray",
        "id": "4575388310203358868",
        "label": "inv",
        "shape": "ellipse"
       },
       "grabbable": true,
       "grabbed": false,
       "locked": false,
       "pannable": false,
       "position": {},
       "removed": false,
       "selectable": false,
       "selected": false
      }
     },
     "fa621604682548b896d8dc8889c75e5f": {
      "model_module": "jupyter-cytoscape",
      "model_module_version": "^1.3.3",
      "model_name": "NodeModel",
      "state": {
       "_model_module": "jupyter-cytoscape",
       "_model_module_version": "^1.3.3",
       "_model_name": "NodeModel",
       "_view_count": null,
       "_view_module": "jupyter-cytoscape",
       "_view_module_version": "^1.3.3",
       "_view_name": "NodeView",
       "classes": "",
       "data": {
        "color": "gray",
        "id": "8314380153983814861",
        "label": "9",
        "shape": "rectangle"
       },
       "grabbable": true,
       "grabbed": false,
       "locked": false,
       "pannable": false,
       "position": {},
       "removed": false,
       "selectable": false,
       "selected": false
      }
     },
     "faf53412c1b24ce0bda1d122e7cf54f0": {
      "model_module": "jupyter-cytoscape",
      "model_module_version": "^1.3.3",
      "model_name": "EdgeModel",
      "state": {
       "_model_module": "jupyter-cytoscape",
       "_model_module_version": "^1.3.3",
       "_model_name": "EdgeModel",
       "_view_count": null,
       "_view_module": "jupyter-cytoscape",
       "_view_module_version": "^1.3.3",
       "_view_name": "EdgeView",
       "classes": " directed ",
       "data": {
        "source": "1025031135062228737",
        "target": "4253843718629060011"
       },
       "pannable": true,
       "removed": false,
       "selectable": false,
       "selected": false
      }
     },
     "fb715567a7e44f74b1e14b6fd965c23f": {
      "model_module": "jupyter-cytoscape",
      "model_module_version": "^1.3.3",
      "model_name": "NodeModel",
      "state": {
       "_model_module": "jupyter-cytoscape",
       "_model_module_version": "^1.3.3",
       "_model_name": "NodeModel",
       "_view_count": null,
       "_view_module": "jupyter-cytoscape",
       "_view_module_version": "^1.3.3",
       "_view_name": "NodeView",
       "classes": "",
       "data": {
        "color": "gray",
        "id": "-3257145253004264927",
        "label": "moment_combine-partial",
        "shape": "ellipse"
       },
       "grabbable": true,
       "grabbed": false,
       "locked": false,
       "pannable": false,
       "position": {},
       "removed": false,
       "selectable": false,
       "selected": false
      }
     },
     "fccd76161ab245ae8e160c3cd8284ea1": {
      "model_module": "jupyter-cytoscape",
      "model_module_version": "^1.3.3",
      "model_name": "NodeModel",
      "state": {
       "_model_module": "jupyter-cytoscape",
       "_model_module_version": "^1.3.3",
       "_model_name": "NodeModel",
       "_view_count": null,
       "_view_module": "jupyter-cytoscape",
       "_view_module_version": "^1.3.3",
       "_view_name": "NodeView",
       "classes": "",
       "data": {
        "color": "gray",
        "id": "-8239909098176156409",
        "label": "inv",
        "shape": "ellipse"
       },
       "grabbable": true,
       "grabbed": false,
       "locked": false,
       "pannable": false,
       "position": {},
       "removed": false,
       "selectable": false,
       "selected": false
      }
     },
     "fced499761214882a1067091c5fd1db1": {
      "model_module": "jupyter-cytoscape",
      "model_module_version": "^1.3.3",
      "model_name": "EdgeModel",
      "state": {
       "_model_module": "jupyter-cytoscape",
       "_model_module_version": "^1.3.3",
       "_model_name": "EdgeModel",
       "_view_count": null,
       "_view_module": "jupyter-cytoscape",
       "_view_module_version": "^1.3.3",
       "_view_name": "EdgeView",
       "classes": " directed ",
       "data": {
        "source": "-583252121601466528",
        "target": "-670176931600447666"
       },
       "pannable": true,
       "removed": false,
       "selectable": false,
       "selected": false
      }
     },
     "fd02c0cb675e465bb6017bc359e935f9": {
      "model_module": "jupyter-cytoscape",
      "model_module_version": "^1.3.3",
      "model_name": "NodeModel",
      "state": {
       "_model_module": "jupyter-cytoscape",
       "_model_module_version": "^1.3.3",
       "_model_name": "NodeModel",
       "_view_count": null,
       "_view_module": "jupyter-cytoscape",
       "_view_module_version": "^1.3.3",
       "_view_name": "NodeView",
       "classes": "",
       "data": {
        "color": "gray",
        "id": "3585940777049003877",
        "label": "9",
        "shape": "rectangle"
       },
       "grabbable": true,
       "grabbed": false,
       "locked": false,
       "pannable": false,
       "position": {},
       "removed": false,
       "selectable": false,
       "selected": false
      }
     },
     "fd19691fc25949988e8587486a6bcd4a": {
      "model_module": "jupyter-cytoscape",
      "model_module_version": "^1.3.3",
      "model_name": "EdgeModel",
      "state": {
       "_model_module": "jupyter-cytoscape",
       "_model_module_version": "^1.3.3",
       "_model_name": "EdgeModel",
       "_view_count": null,
       "_view_module": "jupyter-cytoscape",
       "_view_module_version": "^1.3.3",
       "_view_name": "EdgeView",
       "classes": " directed ",
       "data": {
        "source": "-1917110702365115920",
        "target": "-2453018347855691885"
       },
       "pannable": true,
       "removed": false,
       "selectable": false,
       "selected": false
      }
     },
     "fd585089e5bd464cbd490b9811573d5e": {
      "model_module": "jupyter-cytoscape",
      "model_module_version": "^1.3.3",
      "model_name": "NodeModel",
      "state": {
       "_model_module": "jupyter-cytoscape",
       "_model_module_version": "^1.3.3",
       "_model_name": "NodeModel",
       "_view_count": null,
       "_view_module": "jupyter-cytoscape",
       "_view_module_version": "^1.3.3",
       "_view_name": "NodeView",
       "classes": "",
       "data": {
        "color": "gray",
        "id": "-3022857883796100252",
        "label": "3",
        "shape": "rectangle"
       },
       "grabbable": true,
       "grabbed": false,
       "locked": false,
       "pannable": false,
       "position": {},
       "removed": false,
       "selectable": false,
       "selected": false
      }
     },
     "fe6d0930851740a8b676f3211079f9a4": {
      "model_module": "jupyter-cytoscape",
      "model_module_version": "^1.3.3",
      "model_name": "EdgeModel",
      "state": {
       "_model_module": "jupyter-cytoscape",
       "_model_module_version": "^1.3.3",
       "_model_name": "EdgeModel",
       "_view_count": null,
       "_view_module": "jupyter-cytoscape",
       "_view_module_version": "^1.3.3",
       "_view_name": "EdgeView",
       "classes": " directed ",
       "data": {
        "source": "-5442962328562488096",
        "target": "5918105164034925103"
       },
       "pannable": true,
       "removed": false,
       "selectable": false,
       "selected": false
      }
     },
     "fe988578e6e24ebba4b33bebf6b3dc19": {
      "model_module": "jupyter-cytoscape",
      "model_module_version": "^1.3.3",
      "model_name": "NodeModel",
      "state": {
       "_model_module": "jupyter-cytoscape",
       "_model_module_version": "^1.3.3",
       "_model_name": "NodeModel",
       "_view_count": null,
       "_view_module": "jupyter-cytoscape",
       "_view_module_version": "^1.3.3",
       "_view_name": "NodeView",
       "classes": "",
       "data": {
        "color": "gray",
        "id": "-5806648539651166321",
        "label": "5",
        "shape": "rectangle"
       },
       "grabbable": true,
       "grabbed": false,
       "locked": false,
       "pannable": false,
       "position": {},
       "removed": false,
       "selectable": false,
       "selected": false
      }
     },
     "ff1e05f84f6f4a7a9af4120119e48c95": {
      "model_module": "jupyter-cytoscape",
      "model_module_version": "^1.3.3",
      "model_name": "EdgeModel",
      "state": {
       "_model_module": "jupyter-cytoscape",
       "_model_module_version": "^1.3.3",
       "_model_name": "EdgeModel",
       "_view_count": null,
       "_view_module": "jupyter-cytoscape",
       "_view_module_version": "^1.3.3",
       "_view_name": "EdgeView",
       "classes": " directed ",
       "data": {
        "source": "-5457376334100299777",
        "target": "-2739035532788873563"
       },
       "pannable": true,
       "removed": false,
       "selectable": false,
       "selected": false
      }
     },
     "ffa39a1da32c49e7878ebaf9e152769e": {
      "model_module": "jupyter-cytoscape",
      "model_module_version": "^1.3.3",
      "model_name": "NodeModel",
      "state": {
       "_model_module": "jupyter-cytoscape",
       "_model_module_version": "^1.3.3",
       "_model_name": "NodeModel",
       "_view_count": null,
       "_view_module": "jupyter-cytoscape",
       "_view_module_version": "^1.3.3",
       "_view_name": "NodeView",
       "classes": "",
       "data": {
        "color": "gray",
        "id": "8223199474119253484",
        "label": "values",
        "shape": "ellipse"
       },
       "grabbable": true,
       "grabbed": false,
       "locked": false,
       "pannable": false,
       "position": {},
       "removed": false,
       "selectable": false,
       "selected": false
      }
     }
    },
    "version_major": 2,
    "version_minor": 0
   }
  }
 },
 "nbformat": 4,
 "nbformat_minor": 4
}
