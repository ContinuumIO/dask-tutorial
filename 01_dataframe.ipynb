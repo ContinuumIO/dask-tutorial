{
 "cells": [
  {
   "cell_type": "markdown",
   "metadata": {
    "tags": []
   },
   "source": [
    "<img src=\"http://dask.readthedocs.io/en/latest/_images/dask_horizontal.svg\"\n",
    "     align=\"right\"\n",
    "     width=\"30%\"\n",
    "     alt=\"Dask logo\\\">\n",
    "\n",
    "\n",
    "# Dask DataFrame API\n",
    "\n",
    "`dask.dataframe` API is the high-level collection that looks and feels like the pandas API, but for parallel and distributed workflows. At it's core, the `dask.dataframe` module implements a \"blocked parallel\" `DataFrame` object that. One Dask `DataFrame` is comprised of many in-memory pandas `DataFrame`s separated along the index. One operation on a Dask `DataFrame` triggers many pandas operations on the constituent pandas `DataFrame`s in a way that is mindful of potential parallelism and memory constraints.\n",
    "\n",
    "<img src=\"https://docs.dask.org/en/stable/_images/dask-dataframe.svg\"\n",
    "     width=\"30%\"\n",
    "     alt=\"Dask DataFrame is compsed of pandas DataFrames\"/>\n",
    "\n",
    "The term \"Dask DataFrame\" is slightly overloaded. Depending on the context, it can refer to the API or the DataFrame object (data structure composed on multiple pandas DataFrames shown above). To avoid confusion, throughout this notebook:\n",
    "- `dask.dataframe` (note the all lowercase) refers to the API, and\n",
    "- `dask.dataframe.DataFrame` or simply `DataFrame` (note the CamelCase) refers to the object."
   ]
  },
  {
   "cell_type": "markdown",
   "metadata": {
    "tags": []
   },
   "source": [
    "## When to use `dask.dataframe`\n",
    "\n",
    "pandas is great for tabular datasets that fit in memory. A general rule of thumb for pandas is:\n",
    "\n",
    "> \"Have 5 to 10 times as much RAM as the size of your dataset\"\n",
    ">\n",
    "> ~ Wes McKinney (2017) in [10 things I hate about pandas](https://wesmckinney.com/blog/apache-arrow-pandas-internals/)\n",
    "\n",
    "Here \"size of dataset\" means dataset size on _the disk_.\n",
    "\n",
    "Dask becomes useful when the datasets exceed the above rule.\n",
    "\n",
    "In this notebook, you will be working with the New York City Airline data. This dataset is only ~200MB, so that you can download it in a reasonable time, but `dask.dataframe` will scale to  datasets **much** larger than memory."
   ]
  },
  {
   "cell_type": "markdown",
   "metadata": {},
   "source": [
    "**Related Documentation**\n",
    "\n",
    "* [DataFrame documentation](https://docs.dask.org/en/latest/dataframe.html)\n",
    "* [DataFrame screencast](https://youtu.be/AT2XtFehFSQ)\n",
    "* [DataFrame API](https://docs.dask.org/en/latest/dataframe-api.html)\n",
    "* [DataFrame examples](https://examples.dask.org/dataframe.html)\n",
    "* [pandas documentation](https://pandas.pydata.org/pandas-docs/stable/)"
   ]
  },
  {
   "cell_type": "markdown",
   "metadata": {},
   "source": [
    "## Create datasets"
   ]
  },
  {
   "cell_type": "markdown",
   "metadata": {},
   "source": [
    "Create the datasets you will be using in this notebook:"
   ]
  },
  {
   "cell_type": "code",
   "execution_count": 1,
   "metadata": {
    "execution": {
     "iopub.execute_input": "2022-07-08T15:03:26.749110Z",
     "iopub.status.busy": "2022-07-08T15:03:26.748717Z",
     "iopub.status.idle": "2022-07-08T15:03:27.198522Z",
     "shell.execute_reply": "2022-07-08T15:03:27.197859Z"
    }
   },
   "outputs": [],
   "source": [
    "%run prep.py -d flights"
   ]
  },
  {
   "cell_type": "markdown",
   "metadata": {},
   "source": [
    "## Set up your local cluster"
   ]
  },
  {
   "cell_type": "markdown",
   "metadata": {},
   "source": [
    "Create a local Dask cluster and connect it to the client. Don't worry about this bit of code for now, you will learn more in the Distributed notebook."
   ]
  },
  {
   "cell_type": "code",
   "execution_count": 2,
   "metadata": {
    "execution": {
     "iopub.execute_input": "2022-07-08T15:03:27.202707Z",
     "iopub.status.busy": "2022-07-08T15:03:27.202330Z",
     "iopub.status.idle": "2022-07-08T15:03:29.587972Z",
     "shell.execute_reply": "2022-07-08T15:03:29.587413Z"
    }
   },
   "outputs": [
    {
     "data": {
      "text/html": [
       "<div>\n",
       "    <div style=\"width: 24px; height: 24px; background-color: #e1e1e1; border: 3px solid #9D9D9D; border-radius: 5px; position: absolute;\"> </div>\n",
       "    <div style=\"margin-left: 48px;\">\n",
       "        <h3 style=\"margin-bottom: 0px;\">Client</h3>\n",
       "        <p style=\"color: #9D9D9D; margin-bottom: 0px;\">Client-1f06aaad-fecf-11ec-8b23-000d3a52cde2</p>\n",
       "        <table style=\"width: 100%; text-align: left;\">\n",
       "\n",
       "        <tr>\n",
       "        \n",
       "            <td style=\"text-align: left;\"><strong>Connection method:</strong> Cluster object</td>\n",
       "            <td style=\"text-align: left;\"><strong>Cluster type:</strong> distributed.LocalCluster</td>\n",
       "        \n",
       "        </tr>\n",
       "\n",
       "        \n",
       "            <tr>\n",
       "                <td style=\"text-align: left;\">\n",
       "                    <strong>Dashboard: </strong> <a href=\"http://127.0.0.1:8787/status\" target=\"_blank\">http://127.0.0.1:8787/status</a>\n",
       "                </td>\n",
       "                <td style=\"text-align: left;\"></td>\n",
       "            </tr>\n",
       "        \n",
       "\n",
       "        </table>\n",
       "\n",
       "        \n",
       "            <details>\n",
       "            <summary style=\"margin-bottom: 20px;\"><h3 style=\"display: inline;\">Cluster Info</h3></summary>\n",
       "            <div class=\"jp-RenderedHTMLCommon jp-RenderedHTML jp-mod-trusted jp-OutputArea-output\">\n",
       "    <div style=\"width: 24px; height: 24px; background-color: #e1e1e1; border: 3px solid #9D9D9D; border-radius: 5px; position: absolute;\">\n",
       "    </div>\n",
       "    <div style=\"margin-left: 48px;\">\n",
       "        <h3 style=\"margin-bottom: 0px; margin-top: 0px;\">LocalCluster</h3>\n",
       "        <p style=\"color: #9D9D9D; margin-bottom: 0px;\">9f87bc4c</p>\n",
       "        <table style=\"width: 100%; text-align: left;\">\n",
       "            <tr>\n",
       "                <td style=\"text-align: left;\">\n",
       "                    <strong>Dashboard:</strong> <a href=\"http://127.0.0.1:8787/status\" target=\"_blank\">http://127.0.0.1:8787/status</a>\n",
       "                </td>\n",
       "                <td style=\"text-align: left;\">\n",
       "                    <strong>Workers:</strong> 4\n",
       "                </td>\n",
       "            </tr>\n",
       "            <tr>\n",
       "                <td style=\"text-align: left;\">\n",
       "                    <strong>Total threads:</strong> 4\n",
       "                </td>\n",
       "                <td style=\"text-align: left;\">\n",
       "                    <strong>Total memory:</strong> 6.78 GiB\n",
       "                </td>\n",
       "            </tr>\n",
       "            \n",
       "            <tr>\n",
       "    <td style=\"text-align: left;\"><strong>Status:</strong> running</td>\n",
       "    <td style=\"text-align: left;\"><strong>Using processes:</strong> True</td>\n",
       "</tr>\n",
       "\n",
       "            \n",
       "        </table>\n",
       "\n",
       "        <details>\n",
       "            <summary style=\"margin-bottom: 20px;\">\n",
       "                <h3 style=\"display: inline;\">Scheduler Info</h3>\n",
       "            </summary>\n",
       "\n",
       "            <div style=\"\">\n",
       "    <div>\n",
       "        <div style=\"width: 24px; height: 24px; background-color: #FFF7E5; border: 3px solid #FF6132; border-radius: 5px; position: absolute;\"> </div>\n",
       "        <div style=\"margin-left: 48px;\">\n",
       "            <h3 style=\"margin-bottom: 0px;\">Scheduler</h3>\n",
       "            <p style=\"color: #9D9D9D; margin-bottom: 0px;\">Scheduler-766b8956-1f11-4293-a799-2454dcc5c419</p>\n",
       "            <table style=\"width: 100%; text-align: left;\">\n",
       "                <tr>\n",
       "                    <td style=\"text-align: left;\">\n",
       "                        <strong>Comm:</strong> tcp://127.0.0.1:34951\n",
       "                    </td>\n",
       "                    <td style=\"text-align: left;\">\n",
       "                        <strong>Workers:</strong> 4\n",
       "                    </td>\n",
       "                </tr>\n",
       "                <tr>\n",
       "                    <td style=\"text-align: left;\">\n",
       "                        <strong>Dashboard:</strong> <a href=\"http://127.0.0.1:8787/status\" target=\"_blank\">http://127.0.0.1:8787/status</a>\n",
       "                    </td>\n",
       "                    <td style=\"text-align: left;\">\n",
       "                        <strong>Total threads:</strong> 4\n",
       "                    </td>\n",
       "                </tr>\n",
       "                <tr>\n",
       "                    <td style=\"text-align: left;\">\n",
       "                        <strong>Started:</strong> Just now\n",
       "                    </td>\n",
       "                    <td style=\"text-align: left;\">\n",
       "                        <strong>Total memory:</strong> 6.78 GiB\n",
       "                    </td>\n",
       "                </tr>\n",
       "            </table>\n",
       "        </div>\n",
       "    </div>\n",
       "\n",
       "    <details style=\"margin-left: 48px;\">\n",
       "        <summary style=\"margin-bottom: 20px;\">\n",
       "            <h3 style=\"display: inline;\">Workers</h3>\n",
       "        </summary>\n",
       "\n",
       "        \n",
       "        <div style=\"margin-bottom: 20px;\">\n",
       "            <div style=\"width: 24px; height: 24px; background-color: #DBF5FF; border: 3px solid #4CC9FF; border-radius: 5px; position: absolute;\"> </div>\n",
       "            <div style=\"margin-left: 48px;\">\n",
       "            <details>\n",
       "                <summary>\n",
       "                    <h4 style=\"margin-bottom: 0px; display: inline;\">Worker: 0</h4>\n",
       "                </summary>\n",
       "                <table style=\"width: 100%; text-align: left;\">\n",
       "                    <tr>\n",
       "                        <td style=\"text-align: left;\">\n",
       "                            <strong>Comm: </strong> tcp://127.0.0.1:35047\n",
       "                        </td>\n",
       "                        <td style=\"text-align: left;\">\n",
       "                            <strong>Total threads: </strong> 1\n",
       "                        </td>\n",
       "                    </tr>\n",
       "                    <tr>\n",
       "                        <td style=\"text-align: left;\">\n",
       "                            <strong>Dashboard: </strong> <a href=\"http://127.0.0.1:35541/status\" target=\"_blank\">http://127.0.0.1:35541/status</a>\n",
       "                        </td>\n",
       "                        <td style=\"text-align: left;\">\n",
       "                            <strong>Memory: </strong> 1.70 GiB\n",
       "                        </td>\n",
       "                    </tr>\n",
       "                    <tr>\n",
       "                        <td style=\"text-align: left;\">\n",
       "                            <strong>Nanny: </strong> tcp://127.0.0.1:35599\n",
       "                        </td>\n",
       "                        <td style=\"text-align: left;\"></td>\n",
       "                    </tr>\n",
       "                    <tr>\n",
       "                        <td colspan=\"2\" style=\"text-align: left;\">\n",
       "                            <strong>Local directory: </strong> /home/runner/work/dask-tutorial/dask-tutorial/dask-worker-space/worker-13en9gco\n",
       "                        </td>\n",
       "                    </tr>\n",
       "\n",
       "                    \n",
       "\n",
       "                    \n",
       "\n",
       "                </table>\n",
       "            </details>\n",
       "            </div>\n",
       "        </div>\n",
       "        \n",
       "        <div style=\"margin-bottom: 20px;\">\n",
       "            <div style=\"width: 24px; height: 24px; background-color: #DBF5FF; border: 3px solid #4CC9FF; border-radius: 5px; position: absolute;\"> </div>\n",
       "            <div style=\"margin-left: 48px;\">\n",
       "            <details>\n",
       "                <summary>\n",
       "                    <h4 style=\"margin-bottom: 0px; display: inline;\">Worker: 1</h4>\n",
       "                </summary>\n",
       "                <table style=\"width: 100%; text-align: left;\">\n",
       "                    <tr>\n",
       "                        <td style=\"text-align: left;\">\n",
       "                            <strong>Comm: </strong> tcp://127.0.0.1:40163\n",
       "                        </td>\n",
       "                        <td style=\"text-align: left;\">\n",
       "                            <strong>Total threads: </strong> 1\n",
       "                        </td>\n",
       "                    </tr>\n",
       "                    <tr>\n",
       "                        <td style=\"text-align: left;\">\n",
       "                            <strong>Dashboard: </strong> <a href=\"http://127.0.0.1:44713/status\" target=\"_blank\">http://127.0.0.1:44713/status</a>\n",
       "                        </td>\n",
       "                        <td style=\"text-align: left;\">\n",
       "                            <strong>Memory: </strong> 1.70 GiB\n",
       "                        </td>\n",
       "                    </tr>\n",
       "                    <tr>\n",
       "                        <td style=\"text-align: left;\">\n",
       "                            <strong>Nanny: </strong> tcp://127.0.0.1:37837\n",
       "                        </td>\n",
       "                        <td style=\"text-align: left;\"></td>\n",
       "                    </tr>\n",
       "                    <tr>\n",
       "                        <td colspan=\"2\" style=\"text-align: left;\">\n",
       "                            <strong>Local directory: </strong> /home/runner/work/dask-tutorial/dask-tutorial/dask-worker-space/worker-8xlap2xz\n",
       "                        </td>\n",
       "                    </tr>\n",
       "\n",
       "                    \n",
       "\n",
       "                    \n",
       "\n",
       "                </table>\n",
       "            </details>\n",
       "            </div>\n",
       "        </div>\n",
       "        \n",
       "        <div style=\"margin-bottom: 20px;\">\n",
       "            <div style=\"width: 24px; height: 24px; background-color: #DBF5FF; border: 3px solid #4CC9FF; border-radius: 5px; position: absolute;\"> </div>\n",
       "            <div style=\"margin-left: 48px;\">\n",
       "            <details>\n",
       "                <summary>\n",
       "                    <h4 style=\"margin-bottom: 0px; display: inline;\">Worker: 2</h4>\n",
       "                </summary>\n",
       "                <table style=\"width: 100%; text-align: left;\">\n",
       "                    <tr>\n",
       "                        <td style=\"text-align: left;\">\n",
       "                            <strong>Comm: </strong> tcp://127.0.0.1:33133\n",
       "                        </td>\n",
       "                        <td style=\"text-align: left;\">\n",
       "                            <strong>Total threads: </strong> 1\n",
       "                        </td>\n",
       "                    </tr>\n",
       "                    <tr>\n",
       "                        <td style=\"text-align: left;\">\n",
       "                            <strong>Dashboard: </strong> <a href=\"http://127.0.0.1:42369/status\" target=\"_blank\">http://127.0.0.1:42369/status</a>\n",
       "                        </td>\n",
       "                        <td style=\"text-align: left;\">\n",
       "                            <strong>Memory: </strong> 1.70 GiB\n",
       "                        </td>\n",
       "                    </tr>\n",
       "                    <tr>\n",
       "                        <td style=\"text-align: left;\">\n",
       "                            <strong>Nanny: </strong> tcp://127.0.0.1:35057\n",
       "                        </td>\n",
       "                        <td style=\"text-align: left;\"></td>\n",
       "                    </tr>\n",
       "                    <tr>\n",
       "                        <td colspan=\"2\" style=\"text-align: left;\">\n",
       "                            <strong>Local directory: </strong> /home/runner/work/dask-tutorial/dask-tutorial/dask-worker-space/worker-vzt4emnz\n",
       "                        </td>\n",
       "                    </tr>\n",
       "\n",
       "                    \n",
       "\n",
       "                    \n",
       "\n",
       "                </table>\n",
       "            </details>\n",
       "            </div>\n",
       "        </div>\n",
       "        \n",
       "        <div style=\"margin-bottom: 20px;\">\n",
       "            <div style=\"width: 24px; height: 24px; background-color: #DBF5FF; border: 3px solid #4CC9FF; border-radius: 5px; position: absolute;\"> </div>\n",
       "            <div style=\"margin-left: 48px;\">\n",
       "            <details>\n",
       "                <summary>\n",
       "                    <h4 style=\"margin-bottom: 0px; display: inline;\">Worker: 3</h4>\n",
       "                </summary>\n",
       "                <table style=\"width: 100%; text-align: left;\">\n",
       "                    <tr>\n",
       "                        <td style=\"text-align: left;\">\n",
       "                            <strong>Comm: </strong> tcp://127.0.0.1:32811\n",
       "                        </td>\n",
       "                        <td style=\"text-align: left;\">\n",
       "                            <strong>Total threads: </strong> 1\n",
       "                        </td>\n",
       "                    </tr>\n",
       "                    <tr>\n",
       "                        <td style=\"text-align: left;\">\n",
       "                            <strong>Dashboard: </strong> <a href=\"http://127.0.0.1:35517/status\" target=\"_blank\">http://127.0.0.1:35517/status</a>\n",
       "                        </td>\n",
       "                        <td style=\"text-align: left;\">\n",
       "                            <strong>Memory: </strong> 1.70 GiB\n",
       "                        </td>\n",
       "                    </tr>\n",
       "                    <tr>\n",
       "                        <td style=\"text-align: left;\">\n",
       "                            <strong>Nanny: </strong> tcp://127.0.0.1:42737\n",
       "                        </td>\n",
       "                        <td style=\"text-align: left;\"></td>\n",
       "                    </tr>\n",
       "                    <tr>\n",
       "                        <td colspan=\"2\" style=\"text-align: left;\">\n",
       "                            <strong>Local directory: </strong> /home/runner/work/dask-tutorial/dask-tutorial/dask-worker-space/worker-_y41b3ch\n",
       "                        </td>\n",
       "                    </tr>\n",
       "\n",
       "                    \n",
       "\n",
       "                    \n",
       "\n",
       "                </table>\n",
       "            </details>\n",
       "            </div>\n",
       "        </div>\n",
       "        \n",
       "\n",
       "    </details>\n",
       "</div>\n",
       "\n",
       "        </details>\n",
       "    </div>\n",
       "</div>\n",
       "            </details>\n",
       "        \n",
       "\n",
       "    </div>\n",
       "</div>"
      ],
      "text/plain": [
       "<Client: 'tcp://127.0.0.1:34951' processes=4 threads=4, memory=6.78 GiB>"
      ]
     },
     "execution_count": 2,
     "metadata": {},
     "output_type": "execute_result"
    }
   ],
   "source": [
    "from dask.distributed import Client\n",
    "\n",
    "client = Client(n_workers=4)\n",
    "client"
   ]
  },
  {
   "cell_type": "markdown",
   "metadata": {},
   "source": [
    "### Dask Diagnostic Dashboard\n",
    "\n",
    "Dask Distributed provides a useful Dashboard to visualize the state of your cluster and computations.\n",
    "\n",
    "If you're on **JupyterLab or Binder**, you can use the [Dask JupyterLab extension](https://github.com/dask/dask-labextension) (which should be already installed in your environment) to open the dashboard plots:\n",
    "* Click on the Dask logo in the left sidebar\n",
    "* Click on the magnifying glass icon, which will automatically connect to the active dashboard (if that doesn't work, you can type/paste the dashboard link http://127.0.0.1:8787 in the field)\n",
    "* Click on **\"Task Stream\"**, **\"Progress Bar\"**, and **\"Worker Memory\"**, which will open these plots in new tabs\n",
    "* Re-organize the tabs to suit your workflow!\n",
    "\n",
    "Alternatively, click on the dashboard link displayed in the Client details above: http://127.0.0.1:8787/status. It will open a new browser tab with the Dashboard."
   ]
  },
  {
   "cell_type": "markdown",
   "metadata": {
    "tags": []
   },
   "source": [
    "## Reading and working with datasets\n",
    "\n",
    "Let's read an extract of flights in the USA across several years. This data is specific to flights out of the three airports in the New York City area."
   ]
  },
  {
   "cell_type": "markdown",
   "metadata": {},
   "source": [
    "The following filename includes a glob pattern `*`, so all files in the path matching that pattern will be read into the same Dask `DataFrame`."
   ]
  },
  {
   "cell_type": "code",
   "execution_count": 3,
   "metadata": {
    "execution": {
     "iopub.execute_input": "2022-07-08T15:03:29.592168Z",
     "iopub.status.busy": "2022-07-08T15:03:29.591932Z",
     "iopub.status.idle": "2022-07-08T15:03:29.594831Z",
     "shell.execute_reply": "2022-07-08T15:03:29.594225Z"
    }
   },
   "outputs": [],
   "source": [
    "import os\n",
    "import dask"
   ]
  },
  {
   "cell_type": "markdown",
   "metadata": {},
   "source": [
    "By convention, we import `dask.dataframe` as `dd`, and call the corresponding Dask DataFrame `ddf`."
   ]
  },
  {
   "cell_type": "code",
   "execution_count": 4,
   "metadata": {
    "execution": {
     "iopub.execute_input": "2022-07-08T15:03:29.597546Z",
     "iopub.status.busy": "2022-07-08T15:03:29.597344Z",
     "iopub.status.idle": "2022-07-08T15:03:29.679532Z",
     "shell.execute_reply": "2022-07-08T15:03:29.678903Z"
    }
   },
   "outputs": [],
   "source": [
    "import dask.dataframe as dd"
   ]
  },
  {
   "cell_type": "code",
   "execution_count": 5,
   "metadata": {
    "execution": {
     "iopub.execute_input": "2022-07-08T15:03:29.683143Z",
     "iopub.status.busy": "2022-07-08T15:03:29.682737Z",
     "iopub.status.idle": "2022-07-08T15:03:29.695895Z",
     "shell.execute_reply": "2022-07-08T15:03:29.695340Z"
    }
   },
   "outputs": [],
   "source": [
    "ddf = dd.read_csv(os.path.join('data', 'nycflights', '*.csv'),\n",
    "                  parse_dates={'Date': [0, 1, 2]})"
   ]
  },
  {
   "cell_type": "code",
   "execution_count": 6,
   "metadata": {
    "execution": {
     "iopub.execute_input": "2022-07-08T15:03:29.698925Z",
     "iopub.status.busy": "2022-07-08T15:03:29.698536Z",
     "iopub.status.idle": "2022-07-08T15:03:29.720609Z",
     "shell.execute_reply": "2022-07-08T15:03:29.720012Z"
    }
   },
   "outputs": [
    {
     "data": {
      "text/html": [
       "<div><strong>Dask DataFrame Structure:</strong></div>\n",
       "<div>\n",
       "<style scoped>\n",
       "    .dataframe tbody tr th:only-of-type {\n",
       "        vertical-align: middle;\n",
       "    }\n",
       "\n",
       "    .dataframe tbody tr th {\n",
       "        vertical-align: top;\n",
       "    }\n",
       "\n",
       "    .dataframe thead th {\n",
       "        text-align: right;\n",
       "    }\n",
       "</style>\n",
       "<table border=\"1\" class=\"dataframe\">\n",
       "  <thead>\n",
       "    <tr style=\"text-align: right;\">\n",
       "      <th></th>\n",
       "      <th>Date</th>\n",
       "      <th>DayOfWeek</th>\n",
       "      <th>DepTime</th>\n",
       "      <th>CRSDepTime</th>\n",
       "      <th>ArrTime</th>\n",
       "      <th>CRSArrTime</th>\n",
       "      <th>UniqueCarrier</th>\n",
       "      <th>FlightNum</th>\n",
       "      <th>TailNum</th>\n",
       "      <th>ActualElapsedTime</th>\n",
       "      <th>CRSElapsedTime</th>\n",
       "      <th>AirTime</th>\n",
       "      <th>ArrDelay</th>\n",
       "      <th>DepDelay</th>\n",
       "      <th>Origin</th>\n",
       "      <th>Dest</th>\n",
       "      <th>Distance</th>\n",
       "      <th>TaxiIn</th>\n",
       "      <th>TaxiOut</th>\n",
       "      <th>Cancelled</th>\n",
       "      <th>Diverted</th>\n",
       "    </tr>\n",
       "    <tr>\n",
       "      <th>npartitions=10</th>\n",
       "      <th></th>\n",
       "      <th></th>\n",
       "      <th></th>\n",
       "      <th></th>\n",
       "      <th></th>\n",
       "      <th></th>\n",
       "      <th></th>\n",
       "      <th></th>\n",
       "      <th></th>\n",
       "      <th></th>\n",
       "      <th></th>\n",
       "      <th></th>\n",
       "      <th></th>\n",
       "      <th></th>\n",
       "      <th></th>\n",
       "      <th></th>\n",
       "      <th></th>\n",
       "      <th></th>\n",
       "      <th></th>\n",
       "      <th></th>\n",
       "      <th></th>\n",
       "    </tr>\n",
       "  </thead>\n",
       "  <tbody>\n",
       "    <tr>\n",
       "      <th></th>\n",
       "      <td>datetime64[ns]</td>\n",
       "      <td>int64</td>\n",
       "      <td>float64</td>\n",
       "      <td>int64</td>\n",
       "      <td>float64</td>\n",
       "      <td>int64</td>\n",
       "      <td>object</td>\n",
       "      <td>int64</td>\n",
       "      <td>float64</td>\n",
       "      <td>float64</td>\n",
       "      <td>int64</td>\n",
       "      <td>float64</td>\n",
       "      <td>float64</td>\n",
       "      <td>float64</td>\n",
       "      <td>object</td>\n",
       "      <td>object</td>\n",
       "      <td>float64</td>\n",
       "      <td>float64</td>\n",
       "      <td>float64</td>\n",
       "      <td>int64</td>\n",
       "      <td>int64</td>\n",
       "    </tr>\n",
       "    <tr>\n",
       "      <th></th>\n",
       "      <td>...</td>\n",
       "      <td>...</td>\n",
       "      <td>...</td>\n",
       "      <td>...</td>\n",
       "      <td>...</td>\n",
       "      <td>...</td>\n",
       "      <td>...</td>\n",
       "      <td>...</td>\n",
       "      <td>...</td>\n",
       "      <td>...</td>\n",
       "      <td>...</td>\n",
       "      <td>...</td>\n",
       "      <td>...</td>\n",
       "      <td>...</td>\n",
       "      <td>...</td>\n",
       "      <td>...</td>\n",
       "      <td>...</td>\n",
       "      <td>...</td>\n",
       "      <td>...</td>\n",
       "      <td>...</td>\n",
       "      <td>...</td>\n",
       "    </tr>\n",
       "    <tr>\n",
       "      <th>...</th>\n",
       "      <td>...</td>\n",
       "      <td>...</td>\n",
       "      <td>...</td>\n",
       "      <td>...</td>\n",
       "      <td>...</td>\n",
       "      <td>...</td>\n",
       "      <td>...</td>\n",
       "      <td>...</td>\n",
       "      <td>...</td>\n",
       "      <td>...</td>\n",
       "      <td>...</td>\n",
       "      <td>...</td>\n",
       "      <td>...</td>\n",
       "      <td>...</td>\n",
       "      <td>...</td>\n",
       "      <td>...</td>\n",
       "      <td>...</td>\n",
       "      <td>...</td>\n",
       "      <td>...</td>\n",
       "      <td>...</td>\n",
       "      <td>...</td>\n",
       "    </tr>\n",
       "    <tr>\n",
       "      <th></th>\n",
       "      <td>...</td>\n",
       "      <td>...</td>\n",
       "      <td>...</td>\n",
       "      <td>...</td>\n",
       "      <td>...</td>\n",
       "      <td>...</td>\n",
       "      <td>...</td>\n",
       "      <td>...</td>\n",
       "      <td>...</td>\n",
       "      <td>...</td>\n",
       "      <td>...</td>\n",
       "      <td>...</td>\n",
       "      <td>...</td>\n",
       "      <td>...</td>\n",
       "      <td>...</td>\n",
       "      <td>...</td>\n",
       "      <td>...</td>\n",
       "      <td>...</td>\n",
       "      <td>...</td>\n",
       "      <td>...</td>\n",
       "      <td>...</td>\n",
       "    </tr>\n",
       "    <tr>\n",
       "      <th></th>\n",
       "      <td>...</td>\n",
       "      <td>...</td>\n",
       "      <td>...</td>\n",
       "      <td>...</td>\n",
       "      <td>...</td>\n",
       "      <td>...</td>\n",
       "      <td>...</td>\n",
       "      <td>...</td>\n",
       "      <td>...</td>\n",
       "      <td>...</td>\n",
       "      <td>...</td>\n",
       "      <td>...</td>\n",
       "      <td>...</td>\n",
       "      <td>...</td>\n",
       "      <td>...</td>\n",
       "      <td>...</td>\n",
       "      <td>...</td>\n",
       "      <td>...</td>\n",
       "      <td>...</td>\n",
       "      <td>...</td>\n",
       "      <td>...</td>\n",
       "    </tr>\n",
       "  </tbody>\n",
       "</table>\n",
       "</div>\n",
       "<div>Dask Name: read-csv, 10 tasks</div>"
      ],
      "text/plain": [
       "Dask DataFrame Structure:\n",
       "                          Date DayOfWeek  DepTime CRSDepTime  ArrTime CRSArrTime UniqueCarrier FlightNum  TailNum ActualElapsedTime CRSElapsedTime  AirTime ArrDelay DepDelay  Origin    Dest Distance   TaxiIn  TaxiOut Cancelled Diverted\n",
       "npartitions=10                                                                                                                                                                                                                             \n",
       "                datetime64[ns]     int64  float64      int64  float64      int64        object     int64  float64           float64          int64  float64  float64  float64  object  object  float64  float64  float64     int64    int64\n",
       "                           ...       ...      ...        ...      ...        ...           ...       ...      ...               ...            ...      ...      ...      ...     ...     ...      ...      ...      ...       ...      ...\n",
       "...                        ...       ...      ...        ...      ...        ...           ...       ...      ...               ...            ...      ...      ...      ...     ...     ...      ...      ...      ...       ...      ...\n",
       "                           ...       ...      ...        ...      ...        ...           ...       ...      ...               ...            ...      ...      ...      ...     ...     ...      ...      ...      ...       ...      ...\n",
       "                           ...       ...      ...        ...      ...        ...           ...       ...      ...               ...            ...      ...      ...      ...     ...     ...      ...      ...      ...       ...      ...\n",
       "Dask Name: read-csv, 10 tasks"
      ]
     },
     "execution_count": 6,
     "metadata": {},
     "output_type": "execute_result"
    }
   ],
   "source": [
    "ddf"
   ]
  },
  {
   "cell_type": "markdown",
   "metadata": {},
   "source": [
    "Dask has not loaded the data yet, it has:\n",
    "- investigated the input path and found that there are ten matching files\n",
    "- intelligently created a set of jobs for each chunk -- one per original CSV file in this case"
   ]
  },
  {
   "cell_type": "markdown",
   "metadata": {},
   "source": [
    "Notice that the representation of the DataFrame object contains no data - Dask has just done enough to read the start of the first file, and infer the column names and dtypes."
   ]
  },
  {
   "cell_type": "markdown",
   "metadata": {},
   "source": [
    "### Lazy Evaluation\n",
    "\n",
    "Most Dask Collections, including Dask `DataFrame` are evaluated lazily, which means Dask constructs the logic (called task graph) of your computation immediately but \"evaluates\" them  only when necessary. You can view this task graph using `.visualize()`.\n",
    "\n",
    "You will learn more about this in the Delayed notebook, but for now, note that we need to call `.compute()` to trigger actual computations."
   ]
  },
  {
   "cell_type": "code",
   "execution_count": 7,
   "metadata": {
    "execution": {
     "iopub.execute_input": "2022-07-08T15:03:29.723952Z",
     "iopub.status.busy": "2022-07-08T15:03:29.723534Z",
     "iopub.status.idle": "2022-07-08T15:03:31.133033Z",
     "shell.execute_reply": "2022-07-08T15:03:31.132327Z"
    }
   },
   "outputs": [
    {
     "data": {
      "image/png": "[encoded data removed]",
      "text/plain": [
       "<IPython.core.display.Image object>"
      ]
     },
     "execution_count": 7,
     "metadata": {},
     "output_type": "execute_result"
    }
   ],
   "source": [
    "ddf.visualize()"
   ]
  },
  {
   "cell_type": "markdown",
   "metadata": {},
   "source": [
    "Some functions like `len` and `head` also trigger a computation. Specifically, calling `len` will:\n",
    "- load actual data, (that is, load each file into a pandas DataFrame)\n",
    "- then apply the corresponding functions to each pandas DataFrame (also known as a partition)\n",
    "- combine the subtotals to give you the final grand total"
   ]
  },
  {
   "cell_type": "code",
   "execution_count": 8,
   "metadata": {
    "execution": {
     "iopub.execute_input": "2022-07-08T15:03:31.137583Z",
     "iopub.status.busy": "2022-07-08T15:03:31.136346Z",
     "iopub.status.idle": "2022-07-08T15:03:31.784591Z",
     "shell.execute_reply": "2022-07-08T15:03:31.783939Z"
    }
   },
   "outputs": [
    {
     "data": {
      "text/plain": [
       "9990"
      ]
     },
     "execution_count": 8,
     "metadata": {},
     "output_type": "execute_result"
    }
   ],
   "source": [
    "# load and count number of rows\n",
    "len(ddf)"
   ]
  },
  {
   "cell_type": "markdown",
   "metadata": {},
   "source": [
    "You can view the start and end of the data as you would in pandas:"
   ]
  },
  {
   "cell_type": "code",
   "execution_count": 9,
   "metadata": {
    "execution": {
     "iopub.execute_input": "2022-07-08T15:03:31.788001Z",
     "iopub.status.busy": "2022-07-08T15:03:31.787624Z",
     "iopub.status.idle": "2022-07-08T15:03:31.840629Z",
     "shell.execute_reply": "2022-07-08T15:03:31.840073Z"
    }
   },
   "outputs": [
    {
     "data": {
      "text/html": [
       "<div>\n",
       "<style scoped>\n",
       "    .dataframe tbody tr th:only-of-type {\n",
       "        vertical-align: middle;\n",
       "    }\n",
       "\n",
       "    .dataframe tbody tr th {\n",
       "        vertical-align: top;\n",
       "    }\n",
       "\n",
       "    .dataframe thead th {\n",
       "        text-align: right;\n",
       "    }\n",
       "</style>\n",
       "<table border=\"1\" class=\"dataframe\">\n",
       "  <thead>\n",
       "    <tr style=\"text-align: right;\">\n",
       "      <th></th>\n",
       "      <th>Date</th>\n",
       "      <th>DayOfWeek</th>\n",
       "      <th>DepTime</th>\n",
       "      <th>CRSDepTime</th>\n",
       "      <th>ArrTime</th>\n",
       "      <th>CRSArrTime</th>\n",
       "      <th>UniqueCarrier</th>\n",
       "      <th>FlightNum</th>\n",
       "      <th>TailNum</th>\n",
       "      <th>ActualElapsedTime</th>\n",
       "      <th>...</th>\n",
       "      <th>AirTime</th>\n",
       "      <th>ArrDelay</th>\n",
       "      <th>DepDelay</th>\n",
       "      <th>Origin</th>\n",
       "      <th>Dest</th>\n",
       "      <th>Distance</th>\n",
       "      <th>TaxiIn</th>\n",
       "      <th>TaxiOut</th>\n",
       "      <th>Cancelled</th>\n",
       "      <th>Diverted</th>\n",
       "    </tr>\n",
       "  </thead>\n",
       "  <tbody>\n",
       "    <tr>\n",
       "      <th>0</th>\n",
       "      <td>1990-01-01</td>\n",
       "      <td>1</td>\n",
       "      <td>1621.0</td>\n",
       "      <td>1540</td>\n",
       "      <td>1747.0</td>\n",
       "      <td>1701</td>\n",
       "      <td>US</td>\n",
       "      <td>33</td>\n",
       "      <td>NaN</td>\n",
       "      <td>86.0</td>\n",
       "      <td>...</td>\n",
       "      <td>NaN</td>\n",
       "      <td>46.0</td>\n",
       "      <td>41.0</td>\n",
       "      <td>EWR</td>\n",
       "      <td>PIT</td>\n",
       "      <td>319.0</td>\n",
       "      <td>NaN</td>\n",
       "      <td>NaN</td>\n",
       "      <td>0</td>\n",
       "      <td>0</td>\n",
       "    </tr>\n",
       "    <tr>\n",
       "      <th>1</th>\n",
       "      <td>1990-01-02</td>\n",
       "      <td>2</td>\n",
       "      <td>1547.0</td>\n",
       "      <td>1540</td>\n",
       "      <td>1700.0</td>\n",
       "      <td>1701</td>\n",
       "      <td>US</td>\n",
       "      <td>33</td>\n",
       "      <td>NaN</td>\n",
       "      <td>73.0</td>\n",
       "      <td>...</td>\n",
       "      <td>NaN</td>\n",
       "      <td>-1.0</td>\n",
       "      <td>7.0</td>\n",
       "      <td>EWR</td>\n",
       "      <td>PIT</td>\n",
       "      <td>319.0</td>\n",
       "      <td>NaN</td>\n",
       "      <td>NaN</td>\n",
       "      <td>0</td>\n",
       "      <td>0</td>\n",
       "    </tr>\n",
       "    <tr>\n",
       "      <th>2</th>\n",
       "      <td>1990-01-03</td>\n",
       "      <td>3</td>\n",
       "      <td>1546.0</td>\n",
       "      <td>1540</td>\n",
       "      <td>1710.0</td>\n",
       "      <td>1701</td>\n",
       "      <td>US</td>\n",
       "      <td>33</td>\n",
       "      <td>NaN</td>\n",
       "      <td>84.0</td>\n",
       "      <td>...</td>\n",
       "      <td>NaN</td>\n",
       "      <td>9.0</td>\n",
       "      <td>6.0</td>\n",
       "      <td>EWR</td>\n",
       "      <td>PIT</td>\n",
       "      <td>319.0</td>\n",
       "      <td>NaN</td>\n",
       "      <td>NaN</td>\n",
       "      <td>0</td>\n",
       "      <td>0</td>\n",
       "    </tr>\n",
       "    <tr>\n",
       "      <th>3</th>\n",
       "      <td>1990-01-04</td>\n",
       "      <td>4</td>\n",
       "      <td>1542.0</td>\n",
       "      <td>1540</td>\n",
       "      <td>1710.0</td>\n",
       "      <td>1701</td>\n",
       "      <td>US</td>\n",
       "      <td>33</td>\n",
       "      <td>NaN</td>\n",
       "      <td>88.0</td>\n",
       "      <td>...</td>\n",
       "      <td>NaN</td>\n",
       "      <td>9.0</td>\n",
       "      <td>2.0</td>\n",
       "      <td>EWR</td>\n",
       "      <td>PIT</td>\n",
       "      <td>319.0</td>\n",
       "      <td>NaN</td>\n",
       "      <td>NaN</td>\n",
       "      <td>0</td>\n",
       "      <td>0</td>\n",
       "    </tr>\n",
       "    <tr>\n",
       "      <th>4</th>\n",
       "      <td>1990-01-05</td>\n",
       "      <td>5</td>\n",
       "      <td>1549.0</td>\n",
       "      <td>1540</td>\n",
       "      <td>1706.0</td>\n",
       "      <td>1701</td>\n",
       "      <td>US</td>\n",
       "      <td>33</td>\n",
       "      <td>NaN</td>\n",
       "      <td>77.0</td>\n",
       "      <td>...</td>\n",
       "      <td>NaN</td>\n",
       "      <td>5.0</td>\n",
       "      <td>9.0</td>\n",
       "      <td>EWR</td>\n",
       "      <td>PIT</td>\n",
       "      <td>319.0</td>\n",
       "      <td>NaN</td>\n",
       "      <td>NaN</td>\n",
       "      <td>0</td>\n",
       "      <td>0</td>\n",
       "    </tr>\n",
       "  </tbody>\n",
       "</table>\n",
       "<p>5 rows × 21 columns</p>\n",
       "</div>"
      ],
      "text/plain": [
       "        Date  DayOfWeek  DepTime  CRSDepTime  ArrTime  CRSArrTime  \\\n",
       "0 1990-01-01          1   1621.0        1540   1747.0        1701   \n",
       "1 1990-01-02          2   1547.0        1540   1700.0        1701   \n",
       "2 1990-01-03          3   1546.0        1540   1710.0        1701   \n",
       "3 1990-01-04          4   1542.0        1540   1710.0        1701   \n",
       "4 1990-01-05          5   1549.0        1540   1706.0        1701   \n",
       "\n",
       "  UniqueCarrier  FlightNum  TailNum  ActualElapsedTime  ...  AirTime  \\\n",
       "0            US         33      NaN               86.0  ...      NaN   \n",
       "1            US         33      NaN               73.0  ...      NaN   \n",
       "2            US         33      NaN               84.0  ...      NaN   \n",
       "3            US         33      NaN               88.0  ...      NaN   \n",
       "4            US         33      NaN               77.0  ...      NaN   \n",
       "\n",
       "   ArrDelay  DepDelay  Origin Dest Distance  TaxiIn  TaxiOut  Cancelled  \\\n",
       "0      46.0      41.0     EWR  PIT    319.0     NaN      NaN          0   \n",
       "1      -1.0       7.0     EWR  PIT    319.0     NaN      NaN          0   \n",
       "2       9.0       6.0     EWR  PIT    319.0     NaN      NaN          0   \n",
       "3       9.0       2.0     EWR  PIT    319.0     NaN      NaN          0   \n",
       "4       5.0       9.0     EWR  PIT    319.0     NaN      NaN          0   \n",
       "\n",
       "   Diverted  \n",
       "0         0  \n",
       "1         0  \n",
       "2         0  \n",
       "3         0  \n",
       "4         0  \n",
       "\n",
       "[5 rows x 21 columns]"
      ]
     },
     "execution_count": 9,
     "metadata": {},
     "output_type": "execute_result"
    }
   ],
   "source": [
    "ddf.head()"
   ]
  },
  {
   "cell_type": "markdown",
   "metadata": {
    "tags": [
     "raises-exception"
    ]
   },
   "source": [
    "```python\n",
    "ddf.tail()\n",
    "\n",
    "# ValueError: Mismatched dtypes found in `pd.read_csv`/`pd.read_table`.\n",
    "\n",
    "# +----------------+---------+----------+\n",
    "# | Column         | Found   | Expected |\n",
    "# +----------------+---------+----------+\n",
    "# | CRSElapsedTime | float64 | int64    |\n",
    "# | TailNum        | object  | float64  |\n",
    "# +----------------+---------+----------+\n",
    "\n",
    "# The following columns also raised exceptions on conversion:\n",
    "\n",
    "# - TailNum\n",
    "#   ValueError(\"could not convert string to float: 'N54711'\")\n",
    "\n",
    "# Usually this is due to dask's dtype inference failing, and\n",
    "# *may* be fixed by specifying dtypes manually by adding:\n",
    "\n",
    "# dtype={'CRSElapsedTime': 'float64',\n",
    "#        'TailNum': 'object'}\n",
    "\n",
    "# to the call to `read_csv`/`read_table`.\n",
    "\n",
    "```"
   ]
  },
  {
   "cell_type": "markdown",
   "metadata": {},
   "source": [
    "Unlike `pandas.read_csv` which reads in the entire file before inferring datatypes, `dask.dataframe.read_csv` only reads in a sample from the beginning of the file (or first file if using a glob). These inferred datatypes are then enforced when reading all partitions.\n",
    "\n",
    "In this case, the datatypes inferred in the sample are incorrect. The first `n` rows have no value for `CRSElapsedTime` (which pandas infers as a `float`), and later on turn out to be strings (`object` dtype). Note that Dask gives an informative error message about the mismatch. When this happens you have a few options:\n",
    "\n",
    "- Specify dtypes directly using the `dtype` keyword. This is the recommended solution, as it's the least error prone (better to be explicit than implicit) and also the most performant.\n",
    "- Increase the size of the `sample` keyword (in bytes)\n",
    "- Use `assume_missing` to make `dask` assume that columns inferred to be `int` (which don't allow missing values) are actually `floats` (which do allow missing values). In our particular case this doesn't apply.\n",
    "\n",
    "In our case we'll use the first option and directly specify the `dtypes` of the offending columns. "
   ]
  },
  {
   "cell_type": "code",
   "execution_count": 10,
   "metadata": {
    "execution": {
     "iopub.execute_input": "2022-07-08T15:03:31.846498Z",
     "iopub.status.busy": "2022-07-08T15:03:31.845930Z",
     "iopub.status.idle": "2022-07-08T15:03:31.858313Z",
     "shell.execute_reply": "2022-07-08T15:03:31.857722Z"
    }
   },
   "outputs": [],
   "source": [
    "ddf = dd.read_csv(os.path.join('data', 'nycflights', '*.csv'),\n",
    "                 parse_dates={'Date': [0, 1, 2]},\n",
    "                 dtype={'TailNum': str,\n",
    "                        'CRSElapsedTime': float,\n",
    "                        'Cancelled': bool})"
   ]
  },
  {
   "cell_type": "code",
   "execution_count": 11,
   "metadata": {
    "execution": {
     "iopub.execute_input": "2022-07-08T15:03:31.861001Z",
     "iopub.status.busy": "2022-07-08T15:03:31.860784Z",
     "iopub.status.idle": "2022-07-08T15:03:31.913634Z",
     "shell.execute_reply": "2022-07-08T15:03:31.913138Z"
    }
   },
   "outputs": [
    {
     "data": {
      "text/html": [
       "<div>\n",
       "<style scoped>\n",
       "    .dataframe tbody tr th:only-of-type {\n",
       "        vertical-align: middle;\n",
       "    }\n",
       "\n",
       "    .dataframe tbody tr th {\n",
       "        vertical-align: top;\n",
       "    }\n",
       "\n",
       "    .dataframe thead th {\n",
       "        text-align: right;\n",
       "    }\n",
       "</style>\n",
       "<table border=\"1\" class=\"dataframe\">\n",
       "  <thead>\n",
       "    <tr style=\"text-align: right;\">\n",
       "      <th></th>\n",
       "      <th>Date</th>\n",
       "      <th>DayOfWeek</th>\n",
       "      <th>DepTime</th>\n",
       "      <th>CRSDepTime</th>\n",
       "      <th>ArrTime</th>\n",
       "      <th>CRSArrTime</th>\n",
       "      <th>UniqueCarrier</th>\n",
       "      <th>FlightNum</th>\n",
       "      <th>TailNum</th>\n",
       "      <th>ActualElapsedTime</th>\n",
       "      <th>...</th>\n",
       "      <th>AirTime</th>\n",
       "      <th>ArrDelay</th>\n",
       "      <th>DepDelay</th>\n",
       "      <th>Origin</th>\n",
       "      <th>Dest</th>\n",
       "      <th>Distance</th>\n",
       "      <th>TaxiIn</th>\n",
       "      <th>TaxiOut</th>\n",
       "      <th>Cancelled</th>\n",
       "      <th>Diverted</th>\n",
       "    </tr>\n",
       "  </thead>\n",
       "  <tbody>\n",
       "    <tr>\n",
       "      <th>994</th>\n",
       "      <td>1999-01-25</td>\n",
       "      <td>1</td>\n",
       "      <td>632.0</td>\n",
       "      <td>635</td>\n",
       "      <td>803.0</td>\n",
       "      <td>817</td>\n",
       "      <td>CO</td>\n",
       "      <td>437</td>\n",
       "      <td>N27213</td>\n",
       "      <td>91.0</td>\n",
       "      <td>...</td>\n",
       "      <td>68.0</td>\n",
       "      <td>-14.0</td>\n",
       "      <td>-3.0</td>\n",
       "      <td>EWR</td>\n",
       "      <td>RDU</td>\n",
       "      <td>416.0</td>\n",
       "      <td>4.0</td>\n",
       "      <td>19.0</td>\n",
       "      <td>False</td>\n",
       "      <td>0</td>\n",
       "    </tr>\n",
       "    <tr>\n",
       "      <th>995</th>\n",
       "      <td>1999-01-26</td>\n",
       "      <td>2</td>\n",
       "      <td>632.0</td>\n",
       "      <td>635</td>\n",
       "      <td>751.0</td>\n",
       "      <td>817</td>\n",
       "      <td>CO</td>\n",
       "      <td>437</td>\n",
       "      <td>N16217</td>\n",
       "      <td>79.0</td>\n",
       "      <td>...</td>\n",
       "      <td>62.0</td>\n",
       "      <td>-26.0</td>\n",
       "      <td>-3.0</td>\n",
       "      <td>EWR</td>\n",
       "      <td>RDU</td>\n",
       "      <td>416.0</td>\n",
       "      <td>3.0</td>\n",
       "      <td>14.0</td>\n",
       "      <td>False</td>\n",
       "      <td>0</td>\n",
       "    </tr>\n",
       "    <tr>\n",
       "      <th>996</th>\n",
       "      <td>1999-01-27</td>\n",
       "      <td>3</td>\n",
       "      <td>631.0</td>\n",
       "      <td>635</td>\n",
       "      <td>756.0</td>\n",
       "      <td>817</td>\n",
       "      <td>CO</td>\n",
       "      <td>437</td>\n",
       "      <td>N12216</td>\n",
       "      <td>85.0</td>\n",
       "      <td>...</td>\n",
       "      <td>66.0</td>\n",
       "      <td>-21.0</td>\n",
       "      <td>-4.0</td>\n",
       "      <td>EWR</td>\n",
       "      <td>RDU</td>\n",
       "      <td>416.0</td>\n",
       "      <td>4.0</td>\n",
       "      <td>15.0</td>\n",
       "      <td>False</td>\n",
       "      <td>0</td>\n",
       "    </tr>\n",
       "    <tr>\n",
       "      <th>997</th>\n",
       "      <td>1999-01-28</td>\n",
       "      <td>4</td>\n",
       "      <td>629.0</td>\n",
       "      <td>635</td>\n",
       "      <td>803.0</td>\n",
       "      <td>817</td>\n",
       "      <td>CO</td>\n",
       "      <td>437</td>\n",
       "      <td>N26210</td>\n",
       "      <td>94.0</td>\n",
       "      <td>...</td>\n",
       "      <td>69.0</td>\n",
       "      <td>-14.0</td>\n",
       "      <td>-6.0</td>\n",
       "      <td>EWR</td>\n",
       "      <td>RDU</td>\n",
       "      <td>416.0</td>\n",
       "      <td>5.0</td>\n",
       "      <td>20.0</td>\n",
       "      <td>False</td>\n",
       "      <td>0</td>\n",
       "    </tr>\n",
       "    <tr>\n",
       "      <th>998</th>\n",
       "      <td>1999-01-29</td>\n",
       "      <td>5</td>\n",
       "      <td>632.0</td>\n",
       "      <td>635</td>\n",
       "      <td>802.0</td>\n",
       "      <td>817</td>\n",
       "      <td>CO</td>\n",
       "      <td>437</td>\n",
       "      <td>N12225</td>\n",
       "      <td>90.0</td>\n",
       "      <td>...</td>\n",
       "      <td>67.0</td>\n",
       "      <td>-15.0</td>\n",
       "      <td>-3.0</td>\n",
       "      <td>EWR</td>\n",
       "      <td>RDU</td>\n",
       "      <td>416.0</td>\n",
       "      <td>5.0</td>\n",
       "      <td>18.0</td>\n",
       "      <td>False</td>\n",
       "      <td>0</td>\n",
       "    </tr>\n",
       "  </tbody>\n",
       "</table>\n",
       "<p>5 rows × 21 columns</p>\n",
       "</div>"
      ],
      "text/plain": [
       "          Date  DayOfWeek  DepTime  CRSDepTime  ArrTime  CRSArrTime  \\\n",
       "994 1999-01-25          1    632.0         635    803.0         817   \n",
       "995 1999-01-26          2    632.0         635    751.0         817   \n",
       "996 1999-01-27          3    631.0         635    756.0         817   \n",
       "997 1999-01-28          4    629.0         635    803.0         817   \n",
       "998 1999-01-29          5    632.0         635    802.0         817   \n",
       "\n",
       "    UniqueCarrier  FlightNum TailNum  ActualElapsedTime  ...  AirTime  \\\n",
       "994            CO        437  N27213               91.0  ...     68.0   \n",
       "995            CO        437  N16217               79.0  ...     62.0   \n",
       "996            CO        437  N12216               85.0  ...     66.0   \n",
       "997            CO        437  N26210               94.0  ...     69.0   \n",
       "998            CO        437  N12225               90.0  ...     67.0   \n",
       "\n",
       "     ArrDelay  DepDelay  Origin Dest Distance  TaxiIn  TaxiOut  Cancelled  \\\n",
       "994     -14.0      -3.0     EWR  RDU    416.0     4.0     19.0      False   \n",
       "995     -26.0      -3.0     EWR  RDU    416.0     3.0     14.0      False   \n",
       "996     -21.0      -4.0     EWR  RDU    416.0     4.0     15.0      False   \n",
       "997     -14.0      -6.0     EWR  RDU    416.0     5.0     20.0      False   \n",
       "998     -15.0      -3.0     EWR  RDU    416.0     5.0     18.0      False   \n",
       "\n",
       "     Diverted  \n",
       "994         0  \n",
       "995         0  \n",
       "996         0  \n",
       "997         0  \n",
       "998         0  \n",
       "\n",
       "[5 rows x 21 columns]"
      ]
     },
     "execution_count": 11,
     "metadata": {},
     "output_type": "execute_result"
    }
   ],
   "source": [
    "ddf.tail()  # now works"
   ]
  },
  {
   "cell_type": "markdown",
   "metadata": {},
   "source": [
    "### Reading from remote storage\n",
    "\n",
    "If you're thinking about distributed computing, your data is probably stored remotely on services (like Amazon's S3 or Google's cloud storage) and is in a friendlier format (like Parquet). Dask can read data in various formats directly from these remote locations **lazily** and **in parallel**.\n",
    "\n",
    "Here's how you can read the NYC taxi cab data from Amazon S3:\n",
    "\n",
    "```python\n",
    "ddf = dd.read_parquet(\n",
    "    \"s3://nyc-tlc/trip data/yellow_tripdata_2012-*.parquet\",\n",
    ")\n",
    "```\n",
    "\n",
    "You can also leverage Parquet-specific optimizations like column selection and metadata handling, learn more in [the Dask documentation on working with Parquet files](https://docs.dask.org/en/stable/dataframe-parquet.html)."
   ]
  },
  {
   "cell_type": "markdown",
   "metadata": {
    "tags": []
   },
   "source": [
    "## Computations with `dask.dataframe`\n",
    "\n",
    "Let's compute the maximum of the `DepDelay` column.\n",
    "\n",
    "With just pandas, we would loop over each file to find the individual maximums, then find the final maximum over all the individual maximums.\n",
    "\n",
    "```python\n",
    "import pandas as pd\n",
    "\n",
    "files = os.listdir(os.path.join('data', 'nycflights'))\n",
    "\n",
    "maxes = []\n",
    "\n",
    "for fn in file:\n",
    "    df = pd.read_csv(os.path.join('data', 'nycflights', file))\n",
    "    maxes.append(df.DepDelay.max())\n",
    "    \n",
    "final_max = max(maxes)\n",
    "```\n",
    "\n",
    "`dask.dataframe` lets us write pandas-like code, that operates on larger-than-memory datasets in parallel."
   ]
  },
  {
   "cell_type": "code",
   "execution_count": 12,
   "metadata": {
    "execution": {
     "iopub.execute_input": "2022-07-08T15:03:31.917030Z",
     "iopub.status.busy": "2022-07-08T15:03:31.916798Z",
     "iopub.status.idle": "2022-07-08T15:03:32.029264Z",
     "shell.execute_reply": "2022-07-08T15:03:32.028296Z"
    }
   },
   "outputs": [
    {
     "name": "stdout",
     "output_type": "stream",
     "text": [
      "CPU times: user 26.5 ms, sys: 0 ns, total: 26.5 ms\n",
      "Wall time: 104 ms\n"
     ]
    },
    {
     "data": {
      "text/plain": [
       "409.0"
      ]
     },
     "execution_count": 12,
     "metadata": {},
     "output_type": "execute_result"
    }
   ],
   "source": [
    "%%time\n",
    "ddf.DepDelay.max().compute()"
   ]
  },
  {
   "cell_type": "markdown",
   "metadata": {},
   "source": [
    "This creates the lazy computation for us and then runs it.  "
   ]
  },
  {
   "cell_type": "markdown",
   "metadata": {},
   "source": [
    "**Note:** Dask will delete intermediate results (like the full pandas DataFrame for each file) as soon as possible. This means you can handle datasets that are larger than memory but, repeated computations will have to load all of the data in each time. (Run the code above again, is it faster or slower than you would expect?)"
   ]
  },
  {
   "cell_type": "markdown",
   "metadata": {},
   "source": [
    "You can view the underlying task graph using the `.visualize` method:"
   ]
  },
  {
   "cell_type": "code",
   "execution_count": 13,
   "metadata": {
    "execution": {
     "iopub.execute_input": "2022-07-08T15:03:32.032810Z",
     "iopub.status.busy": "2022-07-08T15:03:32.032590Z",
     "iopub.status.idle": "2022-07-08T15:03:32.284160Z",
     "shell.execute_reply": "2022-07-08T15:03:32.281230Z"
    }
   },
   "outputs": [
    {
     "data": {
      "image/png": "[encoded data removed]",
      "text/plain": [
       "<IPython.core.display.Image object>"
      ]
     },
     "execution_count": 13,
     "metadata": {},
     "output_type": "execute_result"
    }
   ],
   "source": [
    "# notice the parallelism\n",
    "ddf.DepDelay.max().visualize()"
   ]
  },
  {
   "cell_type": "markdown",
   "metadata": {},
   "source": [
    "## Exercises\n",
    "\n",
    "In this section you will do a few `dask.dataframe` computations. If you are comfortable with pandas then these should be familiar. You will have to think about when to call `compute`."
   ]
  },
  {
   "cell_type": "markdown",
   "metadata": {},
   "source": [
    "### 1. How many rows are in our dataset?\n",
    "\n",
    "If you aren't familiar with pandas, how would you check how many records are in a list of tuples?"
   ]
  },
  {
   "cell_type": "code",
   "execution_count": 14,
   "metadata": {
    "execution": {
     "iopub.execute_input": "2022-07-08T15:03:32.287788Z",
     "iopub.status.busy": "2022-07-08T15:03:32.287542Z",
     "iopub.status.idle": "2022-07-08T15:03:32.291557Z",
     "shell.execute_reply": "2022-07-08T15:03:32.290804Z"
    }
   },
   "outputs": [],
   "source": [
    "# Your code here"
   ]
  },
  {
   "cell_type": "code",
   "execution_count": 15,
   "metadata": {
    "execution": {
     "iopub.execute_input": "2022-07-08T15:03:32.294534Z",
     "iopub.status.busy": "2022-07-08T15:03:32.294045Z",
     "iopub.status.idle": "2022-07-08T15:03:32.378464Z",
     "shell.execute_reply": "2022-07-08T15:03:32.377750Z"
    },
    "tags": []
   },
   "outputs": [
    {
     "data": {
      "text/plain": [
       "9990"
      ]
     },
     "execution_count": 15,
     "metadata": {},
     "output_type": "execute_result"
    }
   ],
   "source": [
    "len(ddf)"
   ]
  },
  {
   "cell_type": "markdown",
   "metadata": {},
   "source": [
    "### 2. In total, how many non-canceled flights were taken?\n",
    "\n",
    "With pandas, you would use [boolean indexing](https://pandas.pydata.org/pandas-docs/stable/indexing.html#boolean-indexing)."
   ]
  },
  {
   "cell_type": "code",
   "execution_count": 16,
   "metadata": {
    "execution": {
     "iopub.execute_input": "2022-07-08T15:03:32.381823Z",
     "iopub.status.busy": "2022-07-08T15:03:32.381422Z",
     "iopub.status.idle": "2022-07-08T15:03:32.384548Z",
     "shell.execute_reply": "2022-07-08T15:03:32.383985Z"
    }
   },
   "outputs": [],
   "source": [
    "# Your code here"
   ]
  },
  {
   "cell_type": "code",
   "execution_count": 17,
   "metadata": {
    "execution": {
     "iopub.execute_input": "2022-07-08T15:03:32.387185Z",
     "iopub.status.busy": "2022-07-08T15:03:32.386811Z",
     "iopub.status.idle": "2022-07-08T15:03:32.470760Z",
     "shell.execute_reply": "2022-07-08T15:03:32.470044Z"
    },
    "tags": []
   },
   "outputs": [
    {
     "data": {
      "text/plain": [
       "9383"
      ]
     },
     "execution_count": 17,
     "metadata": {},
     "output_type": "execute_result"
    }
   ],
   "source": [
    "len(ddf[~ddf.Cancelled])"
   ]
  },
  {
   "cell_type": "markdown",
   "metadata": {},
   "source": [
    "### 3. In total, how many non-cancelled flights were taken from each airport?\n",
    "\n",
    "*Hint*: use [`groupby`](https://pandas.pydata.org/pandas-docs/stable/groupby.html)."
   ]
  },
  {
   "cell_type": "code",
   "execution_count": 18,
   "metadata": {
    "execution": {
     "iopub.execute_input": "2022-07-08T15:03:32.473799Z",
     "iopub.status.busy": "2022-07-08T15:03:32.473566Z",
     "iopub.status.idle": "2022-07-08T15:03:32.477504Z",
     "shell.execute_reply": "2022-07-08T15:03:32.476892Z"
    }
   },
   "outputs": [],
   "source": [
    "# Your code here"
   ]
  },
  {
   "cell_type": "code",
   "execution_count": 19,
   "metadata": {
    "execution": {
     "iopub.execute_input": "2022-07-08T15:03:32.480402Z",
     "iopub.status.busy": "2022-07-08T15:03:32.479886Z",
     "iopub.status.idle": "2022-07-08T15:03:32.605385Z",
     "shell.execute_reply": "2022-07-08T15:03:32.604889Z"
    },
    "tags": []
   },
   "outputs": [
    {
     "data": {
      "text/plain": [
       "Origin\n",
       "EWR    4132\n",
       "JFK    1085\n",
       "LGA    4166\n",
       "Name: Origin, dtype: int64"
      ]
     },
     "execution_count": 19,
     "metadata": {},
     "output_type": "execute_result"
    }
   ],
   "source": [
    "ddf[~ddf.Cancelled].groupby('Origin').Origin.count().compute()"
   ]
  },
  {
   "cell_type": "markdown",
   "metadata": {},
   "source": [
    "### 4. What was the average departure delay from each airport?"
   ]
  },
  {
   "cell_type": "code",
   "execution_count": 20,
   "metadata": {
    "execution": {
     "iopub.execute_input": "2022-07-08T15:03:32.608863Z",
     "iopub.status.busy": "2022-07-08T15:03:32.608465Z",
     "iopub.status.idle": "2022-07-08T15:03:32.611298Z",
     "shell.execute_reply": "2022-07-08T15:03:32.610639Z"
    }
   },
   "outputs": [],
   "source": [
    "# Your code here"
   ]
  },
  {
   "cell_type": "code",
   "execution_count": 21,
   "metadata": {
    "execution": {
     "iopub.execute_input": "2022-07-08T15:03:32.614074Z",
     "iopub.status.busy": "2022-07-08T15:03:32.613681Z",
     "iopub.status.idle": "2022-07-08T15:03:32.774638Z",
     "shell.execute_reply": "2022-07-08T15:03:32.774048Z"
    },
    "tags": []
   },
   "outputs": [
    {
     "data": {
      "text/plain": [
       "Origin\n",
       "EWR    12.500968\n",
       "JFK    17.053456\n",
       "LGA    10.169227\n",
       "Name: DepDelay, dtype: float64"
      ]
     },
     "execution_count": 21,
     "metadata": {},
     "output_type": "execute_result"
    }
   ],
   "source": [
    "ddf.groupby(\"Origin\").DepDelay.mean().compute()"
   ]
  },
  {
   "cell_type": "markdown",
   "metadata": {},
   "source": [
    "### 5. What day of the week has the worst average departure delay?"
   ]
  },
  {
   "cell_type": "code",
   "execution_count": 22,
   "metadata": {
    "execution": {
     "iopub.execute_input": "2022-07-08T15:03:32.778196Z",
     "iopub.status.busy": "2022-07-08T15:03:32.777759Z",
     "iopub.status.idle": "2022-07-08T15:03:32.782566Z",
     "shell.execute_reply": "2022-07-08T15:03:32.781436Z"
    }
   },
   "outputs": [],
   "source": [
    "# Your code here"
   ]
  },
  {
   "cell_type": "code",
   "execution_count": 23,
   "metadata": {
    "execution": {
     "iopub.execute_input": "2022-07-08T15:03:32.786453Z",
     "iopub.status.busy": "2022-07-08T15:03:32.785219Z",
     "iopub.status.idle": "2022-07-08T15:03:32.969598Z",
     "shell.execute_reply": "2022-07-08T15:03:32.968787Z"
    },
    "tags": []
   },
   "outputs": [
    {
     "data": {
      "text/plain": [
       "5"
      ]
     },
     "execution_count": 23,
     "metadata": {},
     "output_type": "execute_result"
    }
   ],
   "source": [
    "ddf.groupby(\"DayOfWeek\").DepDelay.mean().idxmax().compute()"
   ]
  },
  {
   "cell_type": "markdown",
   "metadata": {},
   "source": [
    "### 6. Let's say the distance column is erroneous and you need to add 1 to all values, how would you do this?"
   ]
  },
  {
   "cell_type": "code",
   "execution_count": 24,
   "metadata": {
    "execution": {
     "iopub.execute_input": "2022-07-08T15:03:32.972772Z",
     "iopub.status.busy": "2022-07-08T15:03:32.972420Z",
     "iopub.status.idle": "2022-07-08T15:03:32.976477Z",
     "shell.execute_reply": "2022-07-08T15:03:32.975922Z"
    }
   },
   "outputs": [],
   "source": [
    "# Your code here"
   ]
  },
  {
   "cell_type": "code",
   "execution_count": 25,
   "metadata": {
    "execution": {
     "iopub.execute_input": "2022-07-08T15:03:32.978854Z",
     "iopub.status.busy": "2022-07-08T15:03:32.978652Z",
     "iopub.status.idle": "2022-07-08T15:03:33.132474Z",
     "shell.execute_reply": "2022-07-08T15:03:33.130757Z"
    },
    "tags": []
   },
   "outputs": [
    {
     "name": "stderr",
     "output_type": "stream",
     "text": [
      "/usr/share/miniconda3/envs/dask-tutorial/lib/python3.9/site-packages/dask/dataframe/core.py:3974: UserWarning: \n",
      "You did not provide metadata, so Dask is running your function on a small dataset to guess output types. It is possible that Dask will guess incorrectly.\n",
      "To provide an explicit output types or to silence this message, please provide the `meta=` keyword, as described in the map or apply function that you are using.\n",
      "  Before: .apply(func)\n",
      "  After:  .apply(func, meta=('Distance', 'float64'))\n",
      "\n",
      "  warnings.warn(meta_warning(meta))\n"
     ]
    },
    {
     "data": {
      "text/plain": [
       "0      320.0\n",
       "1      320.0\n",
       "2      320.0\n",
       "3      320.0\n",
       "4      320.0\n",
       "       ...  \n",
       "994    417.0\n",
       "995    417.0\n",
       "996    417.0\n",
       "997    417.0\n",
       "998    417.0\n",
       "Name: Distance, Length: 9990, dtype: float64"
      ]
     },
     "execution_count": 25,
     "metadata": {},
     "output_type": "execute_result"
    }
   ],
   "source": [
    "ddf[\"Distance\"].apply(lambda x: x+1).compute() # don't worry about the warning, we'll discuss in the next sections"
   ]
  },
  {
   "cell_type": "markdown",
   "metadata": {},
   "source": [
    "## Sharing Intermediate Results\n",
    "\n",
    "When computing all of the above, we sometimes did the same operation more than once. For most operations, `dask.dataframe` hashes the arguments, allowing duplicate computations to be shared, and only computed once.\n",
    "\n",
    "For example, lets compute the mean and standard deviation for departure delay of all non-canceled flights. Since Dask operations are lazy, those values aren't the final results yet. They're just the recipe required to get the result.\n",
    "\n",
    "If you compute them with two calls to compute, there is no sharing of intermediate computations."
   ]
  },
  {
   "cell_type": "code",
   "execution_count": 26,
   "metadata": {
    "execution": {
     "iopub.execute_input": "2022-07-08T15:03:33.136159Z",
     "iopub.status.busy": "2022-07-08T15:03:33.135680Z",
     "iopub.status.idle": "2022-07-08T15:03:33.150630Z",
     "shell.execute_reply": "2022-07-08T15:03:33.149970Z"
    }
   },
   "outputs": [],
   "source": [
    "non_canceled = ddf[~ddf.Cancelled]\n",
    "mean_delay = non_canceled.DepDelay.mean()\n",
    "std_delay = non_canceled.DepDelay.std()"
   ]
  },
  {
   "cell_type": "code",
   "execution_count": 27,
   "metadata": {
    "execution": {
     "iopub.execute_input": "2022-07-08T15:03:33.154668Z",
     "iopub.status.busy": "2022-07-08T15:03:33.154312Z",
     "iopub.status.idle": "2022-07-08T15:03:33.374385Z",
     "shell.execute_reply": "2022-07-08T15:03:33.373367Z"
    },
    "tags": []
   },
   "outputs": [
    {
     "name": "stdout",
     "output_type": "stream",
     "text": [
      "CPU times: user 62.9 ms, sys: 6.86 ms, total: 69.8 ms\n",
      "Wall time: 213 ms\n"
     ]
    }
   ],
   "source": [
    "%%time\n",
    "\n",
    "mean_delay_res = mean_delay.compute()\n",
    "std_delay_res = std_delay.compute()"
   ]
  },
  {
   "cell_type": "markdown",
   "metadata": {},
   "source": [
    "### `dask.compute`"
   ]
  },
  {
   "cell_type": "markdown",
   "metadata": {},
   "source": [
    "But let's try by passing both to a single `compute` call."
   ]
  },
  {
   "cell_type": "code",
   "execution_count": 28,
   "metadata": {
    "execution": {
     "iopub.execute_input": "2022-07-08T15:03:33.378093Z",
     "iopub.status.busy": "2022-07-08T15:03:33.377484Z",
     "iopub.status.idle": "2022-07-08T15:03:33.511242Z",
     "shell.execute_reply": "2022-07-08T15:03:33.510193Z"
    },
    "tags": []
   },
   "outputs": [
    {
     "name": "stdout",
     "output_type": "stream",
     "text": [
      "CPU times: user 44.3 ms, sys: 3.06 ms, total: 47.3 ms\n",
      "Wall time: 126 ms\n"
     ]
    }
   ],
   "source": [
    "%%time\n",
    "\n",
    "mean_delay_res, std_delay_res = dask.compute(mean_delay, std_delay)"
   ]
  },
  {
   "cell_type": "markdown",
   "metadata": {},
   "source": [
    "Using `dask.compute` takes roughly 1/2 the time. This is because the task graphs for both results are merged when calling `dask.compute`, allowing shared operations to only be done once instead of twice. In particular, using `dask.compute` only does the following once:\n",
    "\n",
    "- the calls to `read_csv`\n",
    "- the filter (`df[~df.Cancelled]`)\n",
    "- some of the necessary reductions (`sum`, `count`)"
   ]
  },
  {
   "cell_type": "markdown",
   "metadata": {},
   "source": [
    "To see what the merged task graphs between multiple results look like (and what's shared), you can use the `dask.visualize` function (you might want to use `filename='graph.pdf'` to save the graph to disk so that you can zoom in more easily):"
   ]
  },
  {
   "cell_type": "code",
   "execution_count": 29,
   "metadata": {
    "execution": {
     "iopub.execute_input": "2022-07-08T15:03:33.514446Z",
     "iopub.status.busy": "2022-07-08T15:03:33.514084Z",
     "iopub.status.idle": "2022-07-08T15:03:34.553567Z",
     "shell.execute_reply": "2022-07-08T15:03:34.552912Z"
    }
   },
   "outputs": [
    {
     "data": {
      "application/vnd.jupyter.widget-view+json": {
       "model_id": "4cf42b5204814126b6a0c2b5d73322a8",
       "version_major": 2,
       "version_minor": 0
      },
      "text/plain": [
       "CytoscapeWidget(cytoscape_layout={'name': 'dagre', 'rankDir': 'BT', 'nodeSep': 10, 'edgeSep': 10, 'spacingFact…"
      ]
     },
     "metadata": {},
     "output_type": "display_data"
    }
   ],
   "source": [
    "dask.visualize(mean_delay, std_delay, engine=\"cytoscape\")"
   ]
  },
  {
   "cell_type": "markdown",
   "metadata": {
    "tags": []
   },
   "source": [
    "### `persit`\n",
    "\n",
    "While using a distributed scheduler (you will learn more about schedulers in the upcoming notebooks), which is the case in this notebook, you can keep some _data that you want to use often_ in the _distributed memory_. \n",
    "\n",
    "`persist` computes the \"Futures\" ( and stores it in the same structure as your output. You can use persist with any data or computation that fits in memory."
   ]
  },
  {
   "cell_type": "markdown",
   "metadata": {},
   "source": [
    "If you want to analyze data only for non-canceled flights departing from JFK airport, you can either have two compute calls like in the previous section:"
   ]
  },
  {
   "cell_type": "code",
   "execution_count": 30,
   "metadata": {
    "execution": {
     "iopub.execute_input": "2022-07-08T15:03:34.557423Z",
     "iopub.status.busy": "2022-07-08T15:03:34.557204Z",
     "iopub.status.idle": "2022-07-08T15:03:34.563762Z",
     "shell.execute_reply": "2022-07-08T15:03:34.563168Z"
    }
   },
   "outputs": [],
   "source": [
    "non_cancelled = ddf[~ddf.Cancelled]\n",
    "ddf_jfk = non_cancelled[non_cancelled.Origin == \"JFK\"]"
   ]
  },
  {
   "cell_type": "code",
   "execution_count": 31,
   "metadata": {
    "execution": {
     "iopub.execute_input": "2022-07-08T15:03:34.566965Z",
     "iopub.status.busy": "2022-07-08T15:03:34.566484Z",
     "iopub.status.idle": "2022-07-08T15:03:34.839429Z",
     "shell.execute_reply": "2022-07-08T15:03:34.838732Z"
    }
   },
   "outputs": [
    {
     "name": "stdout",
     "output_type": "stream",
     "text": [
      "CPU times: user 80.3 ms, sys: 7.59 ms, total: 87.9 ms\n",
      "Wall time: 265 ms\n"
     ]
    },
    {
     "data": {
      "text/plain": [
       "18503.0"
      ]
     },
     "execution_count": 31,
     "metadata": {},
     "output_type": "execute_result"
    }
   ],
   "source": [
    "%%time\n",
    "ddf_jfk.DepDelay.mean().compute()\n",
    "ddf_jfk.DepDelay.sum().compute()"
   ]
  },
  {
   "cell_type": "markdown",
   "metadata": {},
   "source": [
    "Or, consider persisting that subset of data in memory.\n",
    "\n",
    "See the \"Graph\" dashboard plot, the red squares indicate persisted data stored as Futures in memory. You will also notice an increase in Worker Memory (another dashboard plot) consumption."
   ]
  },
  {
   "cell_type": "code",
   "execution_count": 32,
   "metadata": {
    "execution": {
     "iopub.execute_input": "2022-07-08T15:03:34.842764Z",
     "iopub.status.busy": "2022-07-08T15:03:34.842427Z",
     "iopub.status.idle": "2022-07-08T15:03:34.855546Z",
     "shell.execute_reply": "2022-07-08T15:03:34.854426Z"
    }
   },
   "outputs": [],
   "source": [
    "ddf_jfk = ddf_jfk.persist() # returns back control immediately"
   ]
  },
  {
   "cell_type": "code",
   "execution_count": 33,
   "metadata": {
    "execution": {
     "iopub.execute_input": "2022-07-08T15:03:34.858641Z",
     "iopub.status.busy": "2022-07-08T15:03:34.858171Z",
     "iopub.status.idle": "2022-07-08T15:03:35.171592Z",
     "shell.execute_reply": "2022-07-08T15:03:35.170906Z"
    }
   },
   "outputs": [
    {
     "name": "stdout",
     "output_type": "stream",
     "text": [
      "CPU times: user 84.1 ms, sys: 300 µs, total: 84.4 ms\n",
      "Wall time: 305 ms\n"
     ]
    },
    {
     "data": {
      "text/plain": [
       "36.85799641792652"
      ]
     },
     "execution_count": 33,
     "metadata": {},
     "output_type": "execute_result"
    }
   ],
   "source": [
    "%%time\n",
    "ddf_jfk.DepDelay.mean().compute()\n",
    "ddf_jfk.DepDelay.std().compute()"
   ]
  },
  {
   "cell_type": "markdown",
   "metadata": {},
   "source": [
    "Analyses on this persisted data is faster because we are not repeating the loading and selecting (non-canceled, JFK departure) operations."
   ]
  },
  {
   "cell_type": "markdown",
   "metadata": {},
   "source": [
    "## Custom code with Dask DataFrame\n",
    "\n",
    "`dask.dataframe` only covers a small but well-used portion of the pandas API.\n",
    "\n",
    "This limitation is for two reasons:\n",
    "\n",
    "1.  The Pandas API is *huge*\n",
    "2.  Some operations are genuinely hard to do in parallel, e.g, sorting.\n",
    "\n",
    "Additionally, some important operations like `set_index` work, but are slower than in pandas because they include substantial shuffling of data, and may write out to disk.\n",
    "\n",
    "**So, what if you want to use some custom functions that aren't (or can't be) implemented for Dask DataFrame yet?**\n",
    "\n",
    "You can open an issue on the [Dask issue tracker](https://github.com/dask/dask/issues) to check how feasible the function could be to implement, and you can consider contributing this function to Dask.\n",
    "\n",
    "If it's a custom function or tricky to implement, `dask.dataframe` provides a few methods to make applying custom functions to Dask DataFrames easier:\n",
    "\n",
    "- [`map_partitions`](https://docs.dask.org/en/latest/generated/dask.dataframe.DataFrame.map_partitions.html): to use a function on each partition (each pandas DataFrame) of the Dask DataFrame\n",
    "- [`map_overlap`](https://docs.dask.org/en/latest/generated/dask.dataframe.rolling.map_overlap.html): to use a function on each partition (each pandas DataFrame) of the Dask DataFrame, with some overlap between partitions\n",
    "- [`reduction`](https://docs.dask.org/en/latest/generated/dask.dataframe.Series.reduction.html): for custom row-wise reduction operations."
   ]
  },
  {
   "cell_type": "markdown",
   "metadata": {},
   "source": [
    "Let's take a quick look at the `map_partitions()` function:"
   ]
  },
  {
   "cell_type": "code",
   "execution_count": 34,
   "metadata": {
    "execution": {
     "iopub.execute_input": "2022-07-08T15:03:35.174931Z",
     "iopub.status.busy": "2022-07-08T15:03:35.174670Z",
     "iopub.status.idle": "2022-07-08T15:03:35.179086Z",
     "shell.execute_reply": "2022-07-08T15:03:35.178416Z"
    },
    "tags": []
   },
   "outputs": [
    {
     "name": "stdout",
     "output_type": "stream",
     "text": [
      "Help on method map_partitions in module dask.dataframe.core:\n",
      "\n",
      "map_partitions(func, *args, **kwargs) method of dask.dataframe.core.DataFrame instance\n",
      "    Apply Python function on each DataFrame partition.\n",
      "    \n",
      "    Note that the index and divisions are assumed to remain unchanged.\n",
      "    \n",
      "    Parameters\n",
      "    ----------\n",
      "    func : function\n",
      "        The function applied to each partition. If this function accepts\n",
      "        the special ``partition_info`` keyword argument, it will receive\n",
      "        information on the partition's relative location within the\n",
      "        dataframe.\n",
      "    args, kwargs :\n",
      "        Positional and keyword arguments to pass to the function.\n",
      "        Positional arguments are computed on a per-partition basis, while\n",
      "        keyword arguments are shared across all partitions. The partition\n",
      "        itself will be the first positional argument, with all other\n",
      "        arguments passed *after*. Arguments can be ``Scalar``, ``Delayed``,\n",
      "        or regular Python objects. DataFrame-like args (both dask and\n",
      "        pandas) will be repartitioned to align (if necessary) before\n",
      "        applying the function; see ``align_dataframes`` to control this\n",
      "        behavior.\n",
      "    enforce_metadata : bool, default True\n",
      "        Whether to enforce at runtime that the structure of the DataFrame\n",
      "        produced by ``func`` actually matches the structure of ``meta``.\n",
      "        This will rename and reorder columns for each partition,\n",
      "        and will raise an error if this doesn't work or types don't match.\n",
      "    transform_divisions : bool, default True\n",
      "        Whether to apply the function onto the divisions and apply those\n",
      "        transformed divisions to the output.\n",
      "    align_dataframes : bool, default True\n",
      "        Whether to repartition DataFrame- or Series-like args\n",
      "        (both dask and pandas) so their divisions align before applying\n",
      "        the function. This requires all inputs to have known divisions.\n",
      "        Single-partition inputs will be split into multiple partitions.\n",
      "    \n",
      "        If False, all inputs must have either the same number of partitions\n",
      "        or a single partition. Single-partition inputs will be broadcast to\n",
      "        every partition of multi-partition inputs.\n",
      "    meta : pd.DataFrame, pd.Series, dict, iterable, tuple, optional\n",
      "        An empty ``pd.DataFrame`` or ``pd.Series`` that matches the dtypes\n",
      "        and column names of the output. This metadata is necessary for\n",
      "        many algorithms in dask dataframe to work.  For ease of use, some\n",
      "        alternative inputs are also available. Instead of a ``DataFrame``,\n",
      "        a ``dict`` of ``{name: dtype}`` or iterable of ``(name, dtype)``\n",
      "        can be provided (note that the order of the names should match the\n",
      "        order of the columns). Instead of a series, a tuple of ``(name,\n",
      "        dtype)`` can be used. If not provided, dask will try to infer the\n",
      "        metadata. This may lead to unexpected results, so providing\n",
      "        ``meta`` is recommended. For more information, see\n",
      "        ``dask.dataframe.utils.make_meta``.\n",
      "    \n",
      "    Examples\n",
      "    --------\n",
      "    Given a DataFrame, Series, or Index, such as:\n",
      "    \n",
      "    >>> import pandas as pd\n",
      "    >>> import dask.dataframe as dd\n",
      "    >>> df = pd.DataFrame({'x': [1, 2, 3, 4, 5],\n",
      "    ...                    'y': [1., 2., 3., 4., 5.]})\n",
      "    >>> ddf = dd.from_pandas(df, npartitions=2)\n",
      "    \n",
      "    One can use ``map_partitions`` to apply a function on each partition.\n",
      "    Extra arguments and keywords can optionally be provided, and will be\n",
      "    passed to the function after the partition.\n",
      "    \n",
      "    Here we apply a function with arguments and keywords to a DataFrame,\n",
      "    resulting in a Series:\n",
      "    \n",
      "    >>> def myadd(df, a, b=1):\n",
      "    ...     return df.x + df.y + a + b\n",
      "    >>> res = ddf.map_partitions(myadd, 1, b=2)\n",
      "    >>> res.dtype\n",
      "    dtype('float64')\n",
      "    \n",
      "    Here we apply a function to a Series resulting in a Series:\n",
      "    \n",
      "    >>> res = ddf.x.map_partitions(lambda x: len(x)) # ddf.x is a Dask Series Structure\n",
      "    >>> res.dtype\n",
      "    dtype('int64')\n",
      "    \n",
      "    By default, dask tries to infer the output metadata by running your\n",
      "    provided function on some fake data. This works well in many cases, but\n",
      "    can sometimes be expensive, or even fail. To avoid this, you can\n",
      "    manually specify the output metadata with the ``meta`` keyword. This\n",
      "    can be specified in many forms, for more information see\n",
      "    ``dask.dataframe.utils.make_meta``.\n",
      "    \n",
      "    Here we specify the output is a Series with no name, and dtype\n",
      "    ``float64``:\n",
      "    \n",
      "    >>> res = ddf.map_partitions(myadd, 1, b=2, meta=(None, 'f8'))\n",
      "    \n",
      "    Here we map a function that takes in a DataFrame, and returns a\n",
      "    DataFrame with a new column:\n",
      "    \n",
      "    >>> res = ddf.map_partitions(lambda df: df.assign(z=df.x * df.y))\n",
      "    >>> res.dtypes\n",
      "    x      int64\n",
      "    y    float64\n",
      "    z    float64\n",
      "    dtype: object\n",
      "    \n",
      "    As before, the output metadata can also be specified manually. This\n",
      "    time we pass in a ``dict``, as the output is a DataFrame:\n",
      "    \n",
      "    >>> res = ddf.map_partitions(lambda df: df.assign(z=df.x * df.y),\n",
      "    ...                          meta={'x': 'i8', 'y': 'f8', 'z': 'f8'})\n",
      "    \n",
      "    In the case where the metadata doesn't change, you can also pass in\n",
      "    the object itself directly:\n",
      "    \n",
      "    >>> res = ddf.map_partitions(lambda df: df.head(), meta=ddf)\n",
      "    \n",
      "    Also note that the index and divisions are assumed to remain unchanged.\n",
      "    If the function you're mapping changes the index/divisions, you'll need\n",
      "    to clear them afterwards:\n",
      "    \n",
      "    >>> ddf.map_partitions(func).clear_divisions()  # doctest: +SKIP\n",
      "    \n",
      "    Your map function gets information about where it is in the dataframe by\n",
      "    accepting a special ``partition_info`` keyword argument.\n",
      "    \n",
      "    >>> def func(partition, partition_info=None):\n",
      "    ...     pass\n",
      "    \n",
      "    This will receive the following information:\n",
      "    \n",
      "    >>> partition_info  # doctest: +SKIP\n",
      "    {'number': 1, 'division': 3}\n",
      "    \n",
      "    For each argument and keyword arguments that are dask dataframes you will\n",
      "    receive the number (n) which represents the nth partition of the dataframe\n",
      "    and the division (the first index value in the partition). If divisions\n",
      "    are not known (for instance if the index is not sorted) then you will get\n",
      "    None as the division.\n",
      "\n"
     ]
    }
   ],
   "source": [
    "help(ddf.map_partitions)"
   ]
  },
  {
   "cell_type": "code",
   "execution_count": 35,
   "metadata": {
    "execution": {
     "iopub.execute_input": "2022-07-08T15:03:35.183108Z",
     "iopub.status.busy": "2022-07-08T15:03:35.182675Z",
     "iopub.status.idle": "2022-07-08T15:03:35.219212Z",
     "shell.execute_reply": "2022-07-08T15:03:35.218429Z"
    }
   },
   "outputs": [],
   "source": [
    "# TODO: update with df.a + df.b - df.c\n",
    "\n",
    "def my_custom_function(df, parameter_a=True):\n",
    "    # toy function just for demonstration\n",
    "    if parameter_a:\n",
    "        # do something with df\n",
    "        return df\n",
    "    return df\n",
    "\n",
    "meta = ddf.head()\n",
    "\n",
    "ddf = ddf.map_partitions(my_custom_function, True, meta=meta)"
   ]
  },
  {
   "cell_type": "markdown",
   "metadata": {},
   "source": [
    "We suggest using Dask's `apply` and `map` functions when you can because they already use `map_partitions` internally.\n",
    "\n",
    "Using the correct `meta` is important here, because your output will depend on it. A few notes about `meta`:\n",
    "* Think of `meta` as a suggestion that Dask will while it is operating lazily and can not infer the output structure.\n",
    "* The best way to specify `meta` is using a small pandas DataFrame and Series that match the structure of your final output."
   ]
  },
  {
   "cell_type": "markdown",
   "metadata": {
    "tags": []
   },
   "source": [
    "## Close you local Dask Cluster"
   ]
  },
  {
   "cell_type": "markdown",
   "metadata": {},
   "source": [
    "It's good practice to close any Dask cluster you create:"
   ]
  },
  {
   "cell_type": "code",
   "execution_count": 36,
   "metadata": {
    "execution": {
     "iopub.execute_input": "2022-07-08T15:03:35.224219Z",
     "iopub.status.busy": "2022-07-08T15:03:35.223591Z",
     "iopub.status.idle": "2022-07-08T15:03:36.797347Z",
     "shell.execute_reply": "2022-07-08T15:03:36.796593Z"
    }
   },
   "outputs": [],
   "source": [
    "client.shutdown()"
   ]
  },
  {
   "cell_type": "markdown",
   "metadata": {},
   "source": [
    "## Final thoughts"
   ]
  },
  {
   "cell_type": "markdown",
   "metadata": {},
   "source": [
    "`dask.dataframe` operations use `pandas` operations internally. Generally, they run at about the same speed except in the following two cases:\n",
    "\n",
    "1.  Dask introduces a bit of overhead, around 1ms per task. This is usually negligible.\n",
    "2.  When pandas releases the GIL `dask.dataframe` can call several pandas operations in parallel within a process, increasing speed somewhat proportional to the number of cores. For operations which don't release the GIL, multiple processes would be needed to get the same speedup.\n",
    "\n",
    "**To reiterate**, in this tutorial you used a small dataset consisting of a few CSV files. This dataset is small enough that you would normally use pandas. We've chosen this size so that exercises finish quickly. `dask.dataframe` only really becomes meaningful for problems significantly larger than this, when pandas breaks with the dreaded \n",
    "\n",
    "    MemoryError:  ...\n",
    "    \n",
    "Furthermore, the distributed scheduler (you will learn about it later) allows the same `dask.dataframe` expressions to be executed across a cluster. To enable massive \"big data\" processing, one could execute data ingestion functions such as `read_parquet`, where the data is held on storage accessible to every worker node (e.g., amazon's S3), and because most operations begin by selecting only some columns, transforming and filtering the data, only relatively small amounts of data need to be communicated between the machines."
   ]
  },
  {
   "cell_type": "code",
   "execution_count": null,
   "metadata": {},
   "outputs": [],
   "source": []
  }
 ],
 "metadata": {
  "anaconda-cloud": {},
  "kernelspec": {
   "display_name": "Python 3 (ipykernel)",
   "language": "python",
   "name": "python3"
  },
  "language_info": {
   "codemirror_mode": {
    "name": "ipython",
    "version": 3
   },
   "file_extension": ".py",
   "mimetype": "text/x-python",
   "name": "python",
   "nbconvert_exporter": "python",
   "pygments_lexer": "ipython3",
   "version": "3.9.13"
  },
  "widgets": {
   "application/vnd.jupyter.widget-state+json": {
    "state": {
     "0000f017161148e8a067b5c37e5702e2": {
      "model_module": "jupyter-cytoscape",
      "model_module_version": "^1.3.3",
      "model_name": "NodeModel",
      "state": {
       "_model_module": "jupyter-cytoscape",
       "_model_module_version": "^1.3.3",
       "_model_name": "NodeModel",
       "_view_count": null,
       "_view_module": "jupyter-cytoscape",
       "_view_module_version": "^1.3.3",
       "_view_name": "NodeView",
       "classes": "",
       "data": {
        "color": "gray",
        "id": "-6665468836333944252",
        "label": "series-sum-chunk",
        "shape": "ellipse"
       },
       "grabbable": true,
       "grabbed": false,
       "locked": false,
       "pannable": false,
       "position": {},
       "removed": false,
       "selectable": false,
       "selected": false
      }
     },
     "010bb5778a314d61b46b521d5b9f427e": {
      "model_module": "jupyter-cytoscape",
      "model_module_version": "^1.3.3",
      "model_name": "EdgeModel",
      "state": {
       "_model_module": "jupyter-cytoscape",
       "_model_module_version": "^1.3.3",
       "_model_name": "EdgeModel",
       "_view_count": null,
       "_view_module": "jupyter-cytoscape",
       "_view_module_version": "^1.3.3",
       "_view_name": "EdgeView",
       "classes": " directed ",
       "data": {
        "source": "-8328653701801429634",
        "target": "-2708583374570755581"
       },
       "pannable": true,
       "removed": false,
       "selectable": false,
       "selected": false
      }
     },
     "019ca1658ab749c6b2fd8951ebac7ec0": {
      "model_module": "jupyter-cytoscape",
      "model_module_version": "^1.3.3",
      "model_name": "NodeModel",
      "state": {
       "_model_module": "jupyter-cytoscape",
       "_model_module_version": "^1.3.3",
       "_model_name": "NodeModel",
       "_view_count": null,
       "_view_module": "jupyter-cytoscape",
       "_view_module_version": "^1.3.3",
       "_view_name": "NodeView",
       "classes": "",
       "data": {
        "color": "gray",
        "id": "-4748219351743241466",
        "label": "inv",
        "shape": "ellipse"
       },
       "grabbable": true,
       "grabbed": false,
       "locked": false,
       "pannable": false,
       "position": {},
       "removed": false,
       "selectable": false,
       "selected": false
      }
     },
     "01d6b734785c4a62abffdb17444ccb51": {
      "model_module": "jupyter-cytoscape",
      "model_module_version": "^1.3.3",
      "model_name": "NodeModel",
      "state": {
       "_model_module": "jupyter-cytoscape",
       "_model_module_version": "^1.3.3",
       "_model_name": "NodeModel",
       "_view_count": null,
       "_view_module": "jupyter-cytoscape",
       "_view_module_version": "^1.3.3",
       "_view_name": "NodeView",
       "classes": "",
       "data": {
        "color": "gray",
        "id": "4065327348394646085",
        "label": "5",
        "shape": "rectangle"
       },
       "grabbable": true,
       "grabbed": false,
       "locked": false,
       "pannable": false,
       "position": {},
       "removed": false,
       "selectable": false,
       "selected": false
      }
     },
     "03101d363f3c4fc4ab8bba82e1e0b6cc": {
      "model_module": "jupyter-cytoscape",
      "model_module_version": "^1.3.3",
      "model_name": "NodeModel",
      "state": {
       "_model_module": "jupyter-cytoscape",
       "_model_module_version": "^1.3.3",
       "_model_name": "NodeModel",
       "_view_count": null,
       "_view_module": "jupyter-cytoscape",
       "_view_module_version": "^1.3.3",
       "_view_name": "NodeView",
       "classes": "",
       "data": {
        "color": "gray",
        "id": "7476773797743250496",
        "label": "8",
        "shape": "rectangle"
       },
       "grabbable": true,
       "grabbed": false,
       "locked": false,
       "pannable": false,
       "position": {},
       "removed": false,
       "selectable": false,
       "selected": false
      }
     },
     "0380525e62764a80aeac6719cffd8a39": {
      "model_module": "jupyter-cytoscape",
      "model_module_version": "^1.3.3",
      "model_name": "EdgeModel",
      "state": {
       "_model_module": "jupyter-cytoscape",
       "_model_module_version": "^1.3.3",
       "_model_name": "EdgeModel",
       "_view_count": null,
       "_view_module": "jupyter-cytoscape",
       "_view_module_version": "^1.3.3",
       "_view_name": "EdgeView",
       "classes": " directed ",
       "data": {
        "source": "7551397683276951282",
        "target": "-1142954263604264911"
       },
       "pannable": true,
       "removed": false,
       "selectable": false,
       "selected": false
      }
     },
     "03a08327c32448ddbaf7a5647f9d1b27": {
      "model_module": "jupyter-cytoscape",
      "model_module_version": "^1.3.3",
      "model_name": "EdgeModel",
      "state": {
       "_model_module": "jupyter-cytoscape",
       "_model_module_version": "^1.3.3",
       "_model_name": "EdgeModel",
       "_view_count": null,
       "_view_module": "jupyter-cytoscape",
       "_view_module_version": "^1.3.3",
       "_view_name": "EdgeView",
       "classes": " directed ",
       "data": {
        "source": "4968281310257006854",
        "target": "5529985243745774996"
       },
       "pannable": true,
       "removed": false,
       "selectable": false,
       "selected": false
      }
     },
     "050e04e058dc478282c4b4bc4fcd455f": {
      "model_module": "jupyter-cytoscape",
      "model_module_version": "^1.3.3",
      "model_name": "NodeModel",
      "state": {
       "_model_module": "jupyter-cytoscape",
       "_model_module_version": "^1.3.3",
       "_model_name": "NodeModel",
       "_view_count": null,
       "_view_module": "jupyter-cytoscape",
       "_view_module_version": "^1.3.3",
       "_view_name": "NodeView",
       "classes": "",
       "data": {
        "color": "gray",
        "id": "-3750991364865634352",
        "label": "getitem",
        "shape": "ellipse"
       },
       "grabbable": true,
       "grabbed": false,
       "locked": false,
       "pannable": false,
       "position": {},
       "removed": false,
       "selectable": false,
       "selected": false
      }
     },
     "053f5365dd2d433ab80fe314385ea116": {
      "model_module": "jupyter-cytoscape",
      "model_module_version": "^1.3.3",
      "model_name": "NodeModel",
      "state": {
       "_model_module": "jupyter-cytoscape",
       "_model_module_version": "^1.3.3",
       "_model_name": "NodeModel",
       "_view_count": null,
       "_view_module": "jupyter-cytoscape",
       "_view_module_version": "^1.3.3",
       "_view_name": "NodeView",
       "classes": "",
       "data": {
        "color": "gray",
        "id": "-1557321562444232389",
        "label": "series-count-chunk",
        "shape": "ellipse"
       },
       "grabbable": true,
       "grabbed": false,
       "locked": false,
       "pannable": false,
       "position": {},
       "removed": false,
       "selectable": false,
       "selected": false
      }
     },
     "05722e7eae30481a8d0341bea356d2af": {
      "model_module": "jupyter-cytoscape",
      "model_module_version": "^1.3.3",
      "model_name": "NodeModel",
      "state": {
       "_model_module": "jupyter-cytoscape",
       "_model_module_version": "^1.3.3",
       "_model_name": "NodeModel",
       "_view_count": null,
       "_view_module": "jupyter-cytoscape",
       "_view_module_version": "^1.3.3",
       "_view_name": "NodeView",
       "classes": "",
       "data": {
        "color": "gray",
        "id": "6975172233324997474",
        "label": "series-sum-chunk",
        "shape": "ellipse"
       },
       "grabbable": true,
       "grabbed": false,
       "locked": false,
       "pannable": false,
       "position": {},
       "removed": false,
       "selectable": false,
       "selected": false
      }
     },
     "0680961e0de040fab6dcb2ed0a4183ac": {
      "model_module": "jupyter-cytoscape",
      "model_module_version": "^1.3.3",
      "model_name": "NodeModel",
      "state": {
       "_model_module": "jupyter-cytoscape",
       "_model_module_version": "^1.3.3",
       "_model_name": "NodeModel",
       "_view_count": null,
       "_view_module": "jupyter-cytoscape",
       "_view_module_version": "^1.3.3",
       "_view_name": "NodeView",
       "classes": "",
       "data": {
        "color": "gray",
        "id": "1733882126380121509",
        "label": "0",
        "shape": "rectangle"
       },
       "grabbable": true,
       "grabbed": false,
       "locked": false,
       "pannable": false,
       "position": {},
       "removed": false,
       "selectable": false,
       "selected": false
      }
     },
     "06f248e4750f419ca12419dd51cd859c": {
      "model_module": "jupyter-cytoscape",
      "model_module_version": "^1.3.3",
      "model_name": "EdgeModel",
      "state": {
       "_model_module": "jupyter-cytoscape",
       "_model_module_version": "^1.3.3",
       "_model_name": "EdgeModel",
       "_view_count": null,
       "_view_module": "jupyter-cytoscape",
       "_view_module_version": "^1.3.3",
       "_view_name": "EdgeView",
       "classes": " directed ",
       "data": {
        "source": "-8894675563035275468",
        "target": "5537724665293057018"
       },
       "pannable": true,
       "removed": false,
       "selectable": false,
       "selected": false
      }
     },
     "07e6c6d1f26b443d94c0943f31350738": {
      "model_module": "jupyter-cytoscape",
      "model_module_version": "^1.3.3",
      "model_name": "NodeModel",
      "state": {
       "_model_module": "jupyter-cytoscape",
       "_model_module_version": "^1.3.3",
       "_model_name": "NodeModel",
       "_view_count": null,
       "_view_module": "jupyter-cytoscape",
       "_view_module_version": "^1.3.3",
       "_view_name": "NodeView",
       "classes": "",
       "data": {
        "color": "gray",
        "id": "-9123840047369173191",
        "label": "9",
        "shape": "rectangle"
       },
       "grabbable": true,
       "grabbed": false,
       "locked": false,
       "pannable": false,
       "position": {},
       "removed": false,
       "selectable": false,
       "selected": false
      }
     },
     "08dad3bd02514a788f219c090a51c8ed": {
      "model_module": "jupyter-cytoscape",
      "model_module_version": "^1.3.3",
      "model_name": "NodeModel",
      "state": {
       "_model_module": "jupyter-cytoscape",
       "_model_module_version": "^1.3.3",
       "_model_name": "NodeModel",
       "_view_count": null,
       "_view_module": "jupyter-cytoscape",
       "_view_module_version": "^1.3.3",
       "_view_name": "NodeView",
       "classes": "",
       "data": {
        "color": "gray",
        "id": "-6836473340103990327",
        "label": "getitem",
        "shape": "ellipse"
       },
       "grabbable": true,
       "grabbed": false,
       "locked": false,
       "pannable": false,
       "position": {},
       "removed": false,
       "selectable": false,
       "selected": false
      }
     },
     "091a8705e8f4433ba2172e3795599a65": {
      "model_module": "jupyter-cytoscape",
      "model_module_version": "^1.3.3",
      "model_name": "EdgeModel",
      "state": {
       "_model_module": "jupyter-cytoscape",
       "_model_module_version": "^1.3.3",
       "_model_name": "EdgeModel",
       "_view_count": null,
       "_view_module": "jupyter-cytoscape",
       "_view_module_version": "^1.3.3",
       "_view_name": "EdgeView",
       "classes": " directed ",
       "data": {
        "source": "-7146572206761240389",
        "target": "8645997726469014506"
       },
       "pannable": true,
       "removed": false,
       "selectable": false,
       "selected": false
      }
     },
     "093d8c7932c844f889c0fb495308c074": {
      "model_module": "jupyter-cytoscape",
      "model_module_version": "^1.3.3",
      "model_name": "NodeModel",
      "state": {
       "_model_module": "jupyter-cytoscape",
       "_model_module_version": "^1.3.3",
       "_model_name": "NodeModel",
       "_view_count": null,
       "_view_module": "jupyter-cytoscape",
       "_view_module_version": "^1.3.3",
       "_view_name": "NodeView",
       "classes": "",
       "data": {
        "color": "gray",
        "id": "-4892268065022749394",
        "label": "1",
        "shape": "rectangle"
       },
       "grabbable": true,
       "grabbed": false,
       "locked": false,
       "pannable": false,
       "position": {},
       "removed": false,
       "selectable": false,
       "selected": false
      }
     },
     "0b10d2f15b044ef1b2d72428c7811552": {
      "model_module": "jupyter-cytoscape",
      "model_module_version": "^1.3.3",
      "model_name": "EdgeModel",
      "state": {
       "_model_module": "jupyter-cytoscape",
       "_model_module_version": "^1.3.3",
       "_model_name": "EdgeModel",
       "_view_count": null,
       "_view_module": "jupyter-cytoscape",
       "_view_module_version": "^1.3.3",
       "_view_name": "EdgeView",
       "classes": " directed ",
       "data": {
        "source": "-1539359445844991571",
        "target": "-5859979184636504983"
       },
       "pannable": true,
       "removed": false,
       "selectable": false,
       "selected": false
      }
     },
     "0b3f0976c81d4ad28d7ee10e2811c523": {
      "model_module": "jupyter-cytoscape",
      "model_module_version": "^1.3.3",
      "model_name": "NodeModel",
      "state": {
       "_model_module": "jupyter-cytoscape",
       "_model_module_version": "^1.3.3",
       "_model_name": "NodeModel",
       "_view_count": null,
       "_view_module": "jupyter-cytoscape",
       "_view_module_version": "^1.3.3",
       "_view_name": "NodeView",
       "classes": "",
       "data": {
        "color": "gray",
        "id": "3855796558417638853",
        "label": "values",
        "shape": "ellipse"
       },
       "grabbable": true,
       "grabbed": false,
       "locked": false,
       "pannable": false,
       "position": {},
       "removed": false,
       "selectable": false,
       "selected": false
      }
     },
     "0b661cc4bafc4f969f62e0d6f18446bb": {
      "model_module": "jupyter-cytoscape",
      "model_module_version": "^1.3.3",
      "model_name": "EdgeModel",
      "state": {
       "_model_module": "jupyter-cytoscape",
       "_model_module_version": "^1.3.3",
       "_model_name": "EdgeModel",
       "_view_count": null,
       "_view_module": "jupyter-cytoscape",
       "_view_module_version": "^1.3.3",
       "_view_name": "EdgeView",
       "classes": " directed ",
       "data": {
        "source": "7213620653222748128",
        "target": "5527400648127460186"
       },
       "pannable": true,
       "removed": false,
       "selectable": false,
       "selected": false
      }
     },
     "0b6fd231da984960aa1d22ae99d43d20": {
      "model_module": "jupyter-cytoscape",
      "model_module_version": "^1.3.3",
      "model_name": "NodeModel",
      "state": {
       "_model_module": "jupyter-cytoscape",
       "_model_module_version": "^1.3.3",
       "_model_name": "NodeModel",
       "_view_count": null,
       "_view_module": "jupyter-cytoscape",
       "_view_module_version": "^1.3.3",
       "_view_name": "NodeView",
       "classes": "",
       "data": {
        "color": "gray",
        "id": "-443849172938267357",
        "label": "0",
        "shape": "rectangle"
       },
       "grabbable": true,
       "grabbed": false,
       "locked": false,
       "pannable": false,
       "position": {},
       "removed": false,
       "selectable": false,
       "selected": false
      }
     },
     "0b7a5e2e2568499999492c6597d39b29": {
      "model_module": "jupyter-cytoscape",
      "model_module_version": "^1.3.3",
      "model_name": "EdgeModel",
      "state": {
       "_model_module": "jupyter-cytoscape",
       "_model_module_version": "^1.3.3",
       "_model_name": "EdgeModel",
       "_view_count": null,
       "_view_module": "jupyter-cytoscape",
       "_view_module_version": "^1.3.3",
       "_view_name": "EdgeView",
       "classes": " directed ",
       "data": {
        "source": "7774410054834616600",
        "target": "431511445360471944"
       },
       "pannable": true,
       "removed": false,
       "selectable": false,
       "selected": false
      }
     },
     "0ba129a24261432b8ee6e5572b4286a7": {
      "model_module": "jupyter-cytoscape",
      "model_module_version": "^1.3.3",
      "model_name": "NodeModel",
      "state": {
       "_model_module": "jupyter-cytoscape",
       "_model_module_version": "^1.3.3",
       "_model_name": "NodeModel",
       "_view_count": null,
       "_view_module": "jupyter-cytoscape",
       "_view_module_version": "^1.3.3",
       "_view_name": "NodeView",
       "classes": "",
       "data": {
        "color": "gray",
        "id": "-7954616118643409181",
        "label": "5",
        "shape": "rectangle"
       },
       "grabbable": true,
       "grabbed": false,
       "locked": false,
       "pannable": false,
       "position": {},
       "removed": false,
       "selectable": false,
       "selected": false
      }
     },
     "0cc01549facf40f1ad0db1f04ec280e9": {
      "model_module": "jupyter-cytoscape",
      "model_module_version": "^1.3.3",
      "model_name": "NodeModel",
      "state": {
       "_model_module": "jupyter-cytoscape",
       "_model_module_version": "^1.3.3",
       "_model_name": "NodeModel",
       "_view_count": null,
       "_view_module": "jupyter-cytoscape",
       "_view_module_version": "^1.3.3",
       "_view_name": "NodeView",
       "classes": "",
       "data": {
        "color": "gray",
        "id": "-4640376822563944501",
        "label": "7",
        "shape": "rectangle"
       },
       "grabbable": true,
       "grabbed": false,
       "locked": false,
       "pannable": false,
       "position": {},
       "removed": false,
       "selectable": false,
       "selected": false
      }
     },
     "0ddb58f661994193bc1e40d5a3521577": {
      "model_module": "jupyter-cytoscape",
      "model_module_version": "^1.3.3",
      "model_name": "EdgeModel",
      "state": {
       "_model_module": "jupyter-cytoscape",
       "_model_module_version": "^1.3.3",
       "_model_name": "EdgeModel",
       "_view_count": null,
       "_view_module": "jupyter-cytoscape",
       "_view_module_version": "^1.3.3",
       "_view_name": "EdgeView",
       "classes": " directed ",
       "data": {
        "source": "8316103845837713824",
        "target": "-6876354734296537757"
       },
       "pannable": true,
       "removed": false,
       "selectable": false,
       "selected": false
      }
     },
     "0e3c451ad1f64727b9815b13ae8e11bb": {
      "model_module": "jupyter-cytoscape",
      "model_module_version": "^1.3.3",
      "model_name": "NodeModel",
      "state": {
       "_model_module": "jupyter-cytoscape",
       "_model_module_version": "^1.3.3",
       "_model_name": "NodeModel",
       "_view_count": null,
       "_view_module": "jupyter-cytoscape",
       "_view_module_version": "^1.3.3",
       "_view_name": "NodeView",
       "classes": "",
       "data": {
        "color": "gray",
        "id": "-2708583374570755581",
        "label": "6",
        "shape": "rectangle"
       },
       "grabbable": true,
       "grabbed": false,
       "locked": false,
       "pannable": false,
       "position": {},
       "removed": false,
       "selectable": false,
       "selected": false
      }
     },
     "0e4595cb3df94c4fb7d0584a0b9c1317": {
      "model_module": "jupyter-cytoscape",
      "model_module_version": "^1.3.3",
      "model_name": "NodeModel",
      "state": {
       "_model_module": "jupyter-cytoscape",
       "_model_module_version": "^1.3.3",
       "_model_name": "NodeModel",
       "_view_count": null,
       "_view_module": "jupyter-cytoscape",
       "_view_module_version": "^1.3.3",
       "_view_name": "NodeView",
       "classes": "",
       "data": {
        "color": "gray",
        "id": "5118316826027154421",
        "label": "series-mean",
        "shape": "ellipse"
       },
       "grabbable": true,
       "grabbed": false,
       "locked": false,
       "pannable": false,
       "position": {},
       "removed": false,
       "selectable": false,
       "selected": false
      }
     },
     "0e61a148a66940e7b01d0ca4e5dc0109": {
      "model_module": "jupyter-cytoscape",
      "model_module_version": "^1.3.3",
      "model_name": "EdgeModel",
      "state": {
       "_model_module": "jupyter-cytoscape",
       "_model_module_version": "^1.3.3",
       "_model_name": "EdgeModel",
       "_view_count": null,
       "_view_module": "jupyter-cytoscape",
       "_view_module_version": "^1.3.3",
       "_view_name": "EdgeView",
       "classes": " directed ",
       "data": {
        "source": "-5580436266955810788",
        "target": "-4004662620460150333"
       },
       "pannable": true,
       "removed": false,
       "selectable": false,
       "selected": false
      }
     },
     "0f0e3916a2a545358d11c0d0ddc8eede": {
      "model_module": "jupyter-cytoscape",
      "model_module_version": "^1.3.3",
      "model_name": "EdgeModel",
      "state": {
       "_model_module": "jupyter-cytoscape",
       "_model_module_version": "^1.3.3",
       "_model_name": "EdgeModel",
       "_view_count": null,
       "_view_module": "jupyter-cytoscape",
       "_view_module_version": "^1.3.3",
       "_view_name": "EdgeView",
       "classes": " directed ",
       "data": {
        "source": "-2752110461598922091",
        "target": "4006167973290477409"
       },
       "pannable": true,
       "removed": false,
       "selectable": false,
       "selected": false
      }
     },
     "1035b668d8d342088b824b93d3eb6ccf": {
      "model_module": "jupyter-cytoscape",
      "model_module_version": "^1.3.3",
      "model_name": "NodeModel",
      "state": {
       "_model_module": "jupyter-cytoscape",
       "_model_module_version": "^1.3.3",
       "_model_name": "NodeModel",
       "_view_count": null,
       "_view_module": "jupyter-cytoscape",
       "_view_module_version": "^1.3.3",
       "_view_name": "NodeView",
       "classes": "",
       "data": {
        "color": "gray",
        "id": "-7146572206761240389",
        "label": "inv",
        "shape": "ellipse"
       },
       "grabbable": true,
       "grabbed": false,
       "locked": false,
       "pannable": false,
       "position": {},
       "removed": false,
       "selectable": false,
       "selected": false
      }
     },
     "117078b0069a4bdf86cea4092ea09254": {
      "model_module": "jupyter-cytoscape",
      "model_module_version": "^1.3.3",
      "model_name": "NodeModel",
      "state": {
       "_model_module": "jupyter-cytoscape",
       "_model_module_version": "^1.3.3",
       "_model_name": "NodeModel",
       "_view_count": null,
       "_view_module": "jupyter-cytoscape",
       "_view_module_version": "^1.3.3",
       "_view_name": "NodeView",
       "classes": "",
       "data": {
        "color": "gray",
        "id": "-5429968936040284074",
        "label": "8",
        "shape": "rectangle"
       },
       "grabbable": true,
       "grabbed": false,
       "locked": false,
       "pannable": false,
       "position": {},
       "removed": false,
       "selectable": false,
       "selected": false
      }
     },
     "1185b7c9bca14d4f905c48767d387374": {
      "model_module": "jupyter-cytoscape",
      "model_module_version": "^1.3.3",
      "model_name": "NodeModel",
      "state": {
       "_model_module": "jupyter-cytoscape",
       "_model_module_version": "^1.3.3",
       "_model_name": "NodeModel",
       "_view_count": null,
       "_view_module": "jupyter-cytoscape",
       "_view_module_version": "^1.3.3",
       "_view_name": "NodeView",
       "classes": "",
       "data": {
        "color": "gray",
        "id": "1808463089735715399",
        "label": "3",
        "shape": "rectangle"
       },
       "grabbable": true,
       "grabbed": false,
       "locked": false,
       "pannable": false,
       "position": {},
       "removed": false,
       "selectable": false,
       "selected": false
      }
     },
     "12a9bd08c9c140e58f9dcd3bbfed3a5b": {
      "model_module": "jupyter-cytoscape",
      "model_module_version": "^1.3.3",
      "model_name": "NodeModel",
      "state": {
       "_model_module": "jupyter-cytoscape",
       "_model_module_version": "^1.3.3",
       "_model_name": "NodeModel",
       "_view_count": null,
       "_view_module": "jupyter-cytoscape",
       "_view_module_version": "^1.3.3",
       "_view_name": "NodeView",
       "classes": "",
       "data": {
        "color": "gray",
        "id": "7406347445675627729",
        "label": "series-count-chunk",
        "shape": "ellipse"
       },
       "grabbable": true,
       "grabbed": false,
       "locked": false,
       "pannable": false,
       "position": {},
       "removed": false,
       "selectable": false,
       "selected": false
      }
     },
     "14656d4e3899441887055a75305db91e": {
      "model_module": "jupyter-cytoscape",
      "model_module_version": "^1.3.3",
      "model_name": "NodeModel",
      "state": {
       "_model_module": "jupyter-cytoscape",
       "_model_module_version": "^1.3.3",
       "_model_name": "NodeModel",
       "_view_count": null,
       "_view_module": "jupyter-cytoscape",
       "_view_module_version": "^1.3.3",
       "_view_name": "NodeView",
       "classes": "",
       "data": {
        "color": "gray",
        "id": "952322906809979714",
        "label": "read-csv",
        "shape": "ellipse"
       },
       "grabbable": true,
       "grabbed": false,
       "locked": false,
       "pannable": false,
       "position": {},
       "removed": false,
       "selectable": false,
       "selected": false
      }
     },
     "14ce21c6699646bbb668d00309e771a9": {
      "model_module": "jupyter-cytoscape",
      "model_module_version": "^1.3.3",
      "model_name": "EdgeModel",
      "state": {
       "_model_module": "jupyter-cytoscape",
       "_model_module_version": "^1.3.3",
       "_model_name": "EdgeModel",
       "_view_count": null,
       "_view_module": "jupyter-cytoscape",
       "_view_module_version": "^1.3.3",
       "_view_name": "EdgeView",
       "classes": " directed ",
       "data": {
        "source": "6768277854819210079",
        "target": "-5861341931185371210"
       },
       "pannable": true,
       "removed": false,
       "selectable": false,
       "selected": false
      }
     },
     "1555a08c746b4fc8be73e8d9575bfdb7": {
      "model_module": "jupyter-cytoscape",
      "model_module_version": "^1.3.3",
      "model_name": "EdgeModel",
      "state": {
       "_model_module": "jupyter-cytoscape",
       "_model_module_version": "^1.3.3",
       "_model_name": "EdgeModel",
       "_view_count": null,
       "_view_module": "jupyter-cytoscape",
       "_view_module_version": "^1.3.3",
       "_view_name": "EdgeView",
       "classes": " directed ",
       "data": {
        "source": "-8364226922810876857",
        "target": "-5396790113351294064"
       },
       "pannable": true,
       "removed": false,
       "selectable": false,
       "selected": false
      }
     },
     "15bd802ebeab4b7ebf42004e6920c8a8": {
      "model_module": "jupyter-cytoscape",
      "model_module_version": "^1.3.3",
      "model_name": "EdgeModel",
      "state": {
       "_model_module": "jupyter-cytoscape",
       "_model_module_version": "^1.3.3",
       "_model_name": "EdgeModel",
       "_view_count": null,
       "_view_module": "jupyter-cytoscape",
       "_view_module_version": "^1.3.3",
       "_view_name": "EdgeView",
       "classes": " directed ",
       "data": {
        "source": "-7237756430772187749",
        "target": "5599053926093446069"
       },
       "pannable": true,
       "removed": false,
       "selectable": false,
       "selected": false
      }
     },
     "1628be5468ef4a38a431da053429e207": {
      "model_module": "jupyter-cytoscape",
      "model_module_version": "^1.3.3",
      "model_name": "NodeModel",
      "state": {
       "_model_module": "jupyter-cytoscape",
       "_model_module_version": "^1.3.3",
       "_model_name": "NodeModel",
       "_view_count": null,
       "_view_module": "jupyter-cytoscape",
       "_view_module_version": "^1.3.3",
       "_view_name": "NodeView",
       "classes": "",
       "data": {
        "color": "gray",
        "id": "6528131734081259889",
        "label": "getitem",
        "shape": "ellipse"
       },
       "grabbable": true,
       "grabbed": false,
       "locked": false,
       "pannable": false,
       "position": {},
       "removed": false,
       "selectable": false,
       "selected": false
      }
     },
     "16723d26c6fb4dc7ac0f8249ba18d8bf": {
      "model_module": "jupyter-cytoscape",
      "model_module_version": "^1.3.3",
      "model_name": "EdgeModel",
      "state": {
       "_model_module": "jupyter-cytoscape",
       "_model_module_version": "^1.3.3",
       "_model_name": "EdgeModel",
       "_view_count": null,
       "_view_module": "jupyter-cytoscape",
       "_view_module_version": "^1.3.3",
       "_view_name": "EdgeView",
       "classes": " directed ",
       "data": {
        "source": "-2163696303039256648",
        "target": "-8894675563035275468"
       },
       "pannable": true,
       "removed": false,
       "selectable": false,
       "selected": false
      }
     },
     "172d3c6f40c1457da404398a1ee8970f": {
      "model_module": "jupyter-cytoscape",
      "model_module_version": "^1.3.3",
      "model_name": "EdgeModel",
      "state": {
       "_model_module": "jupyter-cytoscape",
       "_model_module_version": "^1.3.3",
       "_model_name": "EdgeModel",
       "_view_count": null,
       "_view_module": "jupyter-cytoscape",
       "_view_module_version": "^1.3.3",
       "_view_name": "EdgeView",
       "classes": " directed ",
       "data": {
        "source": "2138356970367016081",
        "target": "5529985243745774996"
       },
       "pannable": true,
       "removed": false,
       "selectable": false,
       "selected": false
      }
     },
     "17597d39e996484b95ade5062f96cbf6": {
      "model_module": "jupyter-cytoscape",
      "model_module_version": "^1.3.3",
      "model_name": "EdgeModel",
      "state": {
       "_model_module": "jupyter-cytoscape",
       "_model_module_version": "^1.3.3",
       "_model_name": "EdgeModel",
       "_view_count": null,
       "_view_module": "jupyter-cytoscape",
       "_view_module_version": "^1.3.3",
       "_view_name": "EdgeView",
       "classes": " directed ",
       "data": {
        "source": "-4323150101700057640",
        "target": "-8677439657524884012"
       },
       "pannable": true,
       "removed": false,
       "selectable": false,
       "selected": false
      }
     },
     "179b23dfb0a2417a98f50e6587c415b5": {
      "model_module": "jupyter-cytoscape",
      "model_module_version": "^1.3.3",
      "model_name": "EdgeModel",
      "state": {
       "_model_module": "jupyter-cytoscape",
       "_model_module_version": "^1.3.3",
       "_model_name": "EdgeModel",
       "_view_count": null,
       "_view_module": "jupyter-cytoscape",
       "_view_module_version": "^1.3.3",
       "_view_name": "EdgeView",
       "classes": " directed ",
       "data": {
        "source": "6373723574289061567",
        "target": "2138356970367016081"
       },
       "pannable": true,
       "removed": false,
       "selectable": false,
       "selected": false
      }
     },
     "18849f2219dd41198797e7deca14857b": {
      "model_module": "jupyter-cytoscape",
      "model_module_version": "^1.3.3",
      "model_name": "EdgeModel",
      "state": {
       "_model_module": "jupyter-cytoscape",
       "_model_module_version": "^1.3.3",
       "_model_name": "EdgeModel",
       "_view_count": null,
       "_view_module": "jupyter-cytoscape",
       "_view_module_version": "^1.3.3",
       "_view_name": "EdgeView",
       "classes": " directed ",
       "data": {
        "source": "2606720331293153741",
        "target": "-2337641893501581048"
       },
       "pannable": true,
       "removed": false,
       "selectable": false,
       "selected": false
      }
     },
     "190641e76c7b4a5497ff19b07d11ce59": {
      "model_module": "jupyter-cytoscape",
      "model_module_version": "^1.3.3",
      "model_name": "NodeModel",
      "state": {
       "_model_module": "jupyter-cytoscape",
       "_model_module_version": "^1.3.3",
       "_model_name": "NodeModel",
       "_view_count": null,
       "_view_module": "jupyter-cytoscape",
       "_view_module_version": "^1.3.3",
       "_view_name": "NodeView",
       "classes": "",
       "data": {
        "color": "gray",
        "id": "-5396790113351294064",
        "label": "getitem",
        "shape": "ellipse"
       },
       "grabbable": true,
       "grabbed": false,
       "locked": false,
       "pannable": false,
       "position": {},
       "removed": false,
       "selectable": false,
       "selected": false
      }
     },
     "19530c6b96734f15b5c17119973f814a": {
      "model_module": "jupyter-cytoscape",
      "model_module_version": "^1.3.3",
      "model_name": "NodeModel",
      "state": {
       "_model_module": "jupyter-cytoscape",
       "_model_module_version": "^1.3.3",
       "_model_name": "NodeModel",
       "_view_count": null,
       "_view_module": "jupyter-cytoscape",
       "_view_module_version": "^1.3.3",
       "_view_name": "NodeView",
       "classes": "",
       "data": {
        "color": "gray",
        "id": "6373723574289061567",
        "label": "inv",
        "shape": "ellipse"
       },
       "grabbable": true,
       "grabbed": false,
       "locked": false,
       "pannable": false,
       "position": {},
       "removed": false,
       "selectable": false,
       "selected": false
      }
     },
     "1977934c7a984bed96fc68df479b1bbc": {
      "model_module": "jupyter-cytoscape",
      "model_module_version": "^1.3.3",
      "model_name": "EdgeModel",
      "state": {
       "_model_module": "jupyter-cytoscape",
       "_model_module_version": "^1.3.3",
       "_model_name": "EdgeModel",
       "_view_count": null,
       "_view_module": "jupyter-cytoscape",
       "_view_module_version": "^1.3.3",
       "_view_name": "EdgeView",
       "classes": " directed ",
       "data": {
        "source": "7406347445675627729",
        "target": "7678358310293033127"
       },
       "pannable": true,
       "removed": false,
       "selectable": false,
       "selected": false
      }
     },
     "1994c29e6d8c4dbf9995834d8e19c360": {
      "model_module": "jupyter-cytoscape",
      "model_module_version": "^1.3.3",
      "model_name": "EdgeModel",
      "state": {
       "_model_module": "jupyter-cytoscape",
       "_model_module_version": "^1.3.3",
       "_model_name": "EdgeModel",
       "_view_count": null,
       "_view_module": "jupyter-cytoscape",
       "_view_module_version": "^1.3.3",
       "_view_name": "EdgeView",
       "classes": " directed ",
       "data": {
        "source": "523790243237714022",
        "target": "6528131734081259889"
       },
       "pannable": true,
       "removed": false,
       "selectable": false,
       "selected": false
      }
     },
     "19f17d4ba5e248b08df3f1ec5aa55d4a": {
      "model_module": "jupyter-cytoscape",
      "model_module_version": "^1.3.3",
      "model_name": "NodeModel",
      "state": {
       "_model_module": "jupyter-cytoscape",
       "_model_module_version": "^1.3.3",
       "_model_name": "NodeModel",
       "_view_count": null,
       "_view_module": "jupyter-cytoscape",
       "_view_module_version": "^1.3.3",
       "_view_name": "NodeView",
       "classes": "",
       "data": {
        "color": "gray",
        "id": "-3471152893838180491",
        "label": "3",
        "shape": "rectangle"
       },
       "grabbable": true,
       "grabbed": false,
       "locked": false,
       "pannable": false,
       "position": {},
       "removed": false,
       "selectable": false,
       "selected": false
      }
     },
     "1aed44a0d96f48b1b1ba32df546ba0ca": {
      "model_module": "jupyter-cytoscape",
      "model_module_version": "^1.3.3",
      "model_name": "EdgeModel",
      "state": {
       "_model_module": "jupyter-cytoscape",
       "_model_module_version": "^1.3.3",
       "_model_name": "EdgeModel",
       "_view_count": null,
       "_view_module": "jupyter-cytoscape",
       "_view_module_version": "^1.3.3",
       "_view_name": "EdgeView",
       "classes": " directed ",
       "data": {
        "source": "187903613662866949",
        "target": "-6481371090980499326"
       },
       "pannable": true,
       "removed": false,
       "selectable": false,
       "selected": false
      }
     },
     "1afb3798a95b4559b0f9c830a2556d11": {
      "model_module": "jupyter-cytoscape",
      "model_module_version": "^1.3.3",
      "model_name": "EdgeModel",
      "state": {
       "_model_module": "jupyter-cytoscape",
       "_model_module_version": "^1.3.3",
       "_model_name": "EdgeModel",
       "_view_count": null,
       "_view_module": "jupyter-cytoscape",
       "_view_module_version": "^1.3.3",
       "_view_name": "EdgeView",
       "classes": " directed ",
       "data": {
        "source": "-9123840047369173191",
        "target": "5905151563193236077"
       },
       "pannable": true,
       "removed": false,
       "selectable": false,
       "selected": false
      }
     },
     "1b069bd9be064a4599561d8c0468258e": {
      "model_module": "jupyter-cytoscape",
      "model_module_version": "^1.3.3",
      "model_name": "NodeModel",
      "state": {
       "_model_module": "jupyter-cytoscape",
       "_model_module_version": "^1.3.3",
       "_model_name": "NodeModel",
       "_view_count": null,
       "_view_module": "jupyter-cytoscape",
       "_view_module_version": "^1.3.3",
       "_view_name": "NodeView",
       "classes": "",
       "data": {
        "color": "gray",
        "id": "2737840592670449670",
        "label": "series-count-agg",
        "shape": "ellipse"
       },
       "grabbable": true,
       "grabbed": false,
       "locked": false,
       "pannable": false,
       "position": {},
       "removed": false,
       "selectable": false,
       "selected": false
      }
     },
     "1b1dd12aff4548049fde75aff72284d1": {
      "model_module": "jupyter-cytoscape",
      "model_module_version": "^1.3.3",
      "model_name": "EdgeModel",
      "state": {
       "_model_module": "jupyter-cytoscape",
       "_model_module_version": "^1.3.3",
       "_model_name": "EdgeModel",
       "_view_count": null,
       "_view_module": "jupyter-cytoscape",
       "_view_module_version": "^1.3.3",
       "_view_name": "EdgeView",
       "classes": " directed ",
       "data": {
        "source": "260637098717211654",
        "target": "3855796558417638853"
       },
       "pannable": true,
       "removed": false,
       "selectable": false,
       "selected": false
      }
     },
     "1b2dc0bf3d0049fca57fa4df6fd3b3f6": {
      "model_module": "jupyter-cytoscape",
      "model_module_version": "^1.3.3",
      "model_name": "EdgeModel",
      "state": {
       "_model_module": "jupyter-cytoscape",
       "_model_module_version": "^1.3.3",
       "_model_name": "EdgeModel",
       "_view_count": null,
       "_view_module": "jupyter-cytoscape",
       "_view_module_version": "^1.3.3",
       "_view_name": "EdgeView",
       "classes": " directed ",
       "data": {
        "source": "-301769445651611375",
        "target": "7146879917111949814"
       },
       "pannable": true,
       "removed": false,
       "selectable": false,
       "selected": false
      }
     },
     "1c273a0c8c6545b8a33fd339f2093bb0": {
      "model_module": "jupyter-cytoscape",
      "model_module_version": "^1.3.3",
      "model_name": "NodeModel",
      "state": {
       "_model_module": "jupyter-cytoscape",
       "_model_module_version": "^1.3.3",
       "_model_name": "NodeModel",
       "_view_count": null,
       "_view_module": "jupyter-cytoscape",
       "_view_module_version": "^1.3.3",
       "_view_name": "NodeView",
       "classes": "",
       "data": {
        "color": "gray",
        "id": "1492764528285164538",
        "label": "getitem",
        "shape": "ellipse"
       },
       "grabbable": true,
       "grabbed": false,
       "locked": false,
       "pannable": false,
       "position": {},
       "removed": false,
       "selectable": false,
       "selected": false
      }
     },
     "1ccbce70a7834ff6acf472798e136a81": {
      "model_module": "jupyter-cytoscape",
      "model_module_version": "^1.3.3",
      "model_name": "NodeModel",
      "state": {
       "_model_module": "jupyter-cytoscape",
       "_model_module_version": "^1.3.3",
       "_model_name": "NodeModel",
       "_view_count": null,
       "_view_module": "jupyter-cytoscape",
       "_view_module_version": "^1.3.3",
       "_view_name": "NodeView",
       "classes": "",
       "data": {
        "color": "gray",
        "id": "4968281310257006854",
        "label": "3",
        "shape": "rectangle"
       },
       "grabbable": true,
       "grabbed": false,
       "locked": false,
       "pannable": false,
       "position": {},
       "removed": false,
       "selectable": false,
       "selected": false
      }
     },
     "1d3f48a050b24432bd321dabacf9e408": {
      "model_module": "jupyter-cytoscape",
      "model_module_version": "^1.3.3",
      "model_name": "EdgeModel",
      "state": {
       "_model_module": "jupyter-cytoscape",
       "_model_module_version": "^1.3.3",
       "_model_name": "EdgeModel",
       "_view_count": null,
       "_view_module": "jupyter-cytoscape",
       "_view_module_version": "^1.3.3",
       "_view_name": "EdgeView",
       "classes": " directed ",
       "data": {
        "source": "8686865680885657983",
        "target": "-4748219351743241466"
       },
       "pannable": true,
       "removed": false,
       "selectable": false,
       "selected": false
      }
     },
     "1e182ab5012c4bc38b003d7459dfce66": {
      "model_module": "jupyter-cytoscape",
      "model_module_version": "^1.3.3",
      "model_name": "EdgeModel",
      "state": {
       "_model_module": "jupyter-cytoscape",
       "_model_module_version": "^1.3.3",
       "_model_name": "EdgeModel",
       "_view_count": null,
       "_view_module": "jupyter-cytoscape",
       "_view_module_version": "^1.3.3",
       "_view_name": "EdgeView",
       "classes": " directed ",
       "data": {
        "source": "1733882126380121509",
        "target": "1129967681138262677"
       },
       "pannable": true,
       "removed": false,
       "selectable": false,
       "selected": false
      }
     },
     "1efcf7019d474ad6993eca25867f0a65": {
      "model_module": "jupyter-cytoscape",
      "model_module_version": "^1.3.3",
      "model_name": "EdgeModel",
      "state": {
       "_model_module": "jupyter-cytoscape",
       "_model_module_version": "^1.3.3",
       "_model_name": "EdgeModel",
       "_view_count": null,
       "_view_module": "jupyter-cytoscape",
       "_view_module_version": "^1.3.3",
       "_view_name": "EdgeView",
       "classes": " directed ",
       "data": {
        "source": "5700989747515821071",
        "target": "8958401377367342451"
       },
       "pannable": true,
       "removed": false,
       "selectable": false,
       "selected": false
      }
     },
     "1f3a977b03d54696aa2b14beab6cc32d": {
      "model_module": "jupyter-cytoscape",
      "model_module_version": "^1.3.3",
      "model_name": "NodeModel",
      "state": {
       "_model_module": "jupyter-cytoscape",
       "_model_module_version": "^1.3.3",
       "_model_name": "NodeModel",
       "_view_count": null,
       "_view_module": "jupyter-cytoscape",
       "_view_module_version": "^1.3.3",
       "_view_name": "NodeView",
       "classes": "",
       "data": {
        "color": "gray",
        "id": "-2163696303039256648",
        "label": "getitem",
        "shape": "ellipse"
       },
       "grabbable": true,
       "grabbed": false,
       "locked": false,
       "pannable": false,
       "position": {},
       "removed": false,
       "selectable": false,
       "selected": false
      }
     },
     "20068094fb174a19bd42fe385d15246c": {
      "model_module": "jupyter-cytoscape",
      "model_module_version": "^1.3.3",
      "model_name": "NodeModel",
      "state": {
       "_model_module": "jupyter-cytoscape",
       "_model_module_version": "^1.3.3",
       "_model_name": "NodeModel",
       "_view_count": null,
       "_view_module": "jupyter-cytoscape",
       "_view_module_version": "^1.3.3",
       "_view_name": "NodeView",
       "classes": "",
       "data": {
        "color": "gray",
        "id": "-4004662620460150333",
        "label": "getitem",
        "shape": "ellipse"
       },
       "grabbable": true,
       "grabbed": false,
       "locked": false,
       "pannable": false,
       "position": {},
       "removed": false,
       "selectable": false,
       "selected": false
      }
     },
     "208e05d3cd034aa3a154875d783c521c": {
      "model_module": "jupyter-cytoscape",
      "model_module_version": "^1.3.3",
      "model_name": "EdgeModel",
      "state": {
       "_model_module": "jupyter-cytoscape",
       "_model_module_version": "^1.3.3",
       "_model_name": "EdgeModel",
       "_view_count": null,
       "_view_module": "jupyter-cytoscape",
       "_view_module_version": "^1.3.3",
       "_view_name": "EdgeView",
       "classes": " directed ",
       "data": {
        "source": "639239161009951389",
        "target": "-4478001879278538834"
       },
       "pannable": true,
       "removed": false,
       "selectable": false,
       "selected": false
      }
     },
     "20e6456591a84e68a78de0b6aaebb47b": {
      "model_module": "jupyter-cytoscape",
      "model_module_version": "^1.3.3",
      "model_name": "NodeModel",
      "state": {
       "_model_module": "jupyter-cytoscape",
       "_model_module_version": "^1.3.3",
       "_model_name": "NodeModel",
       "_view_count": null,
       "_view_module": "jupyter-cytoscape",
       "_view_module_version": "^1.3.3",
       "_view_name": "NodeView",
       "classes": "",
       "data": {
        "color": "gray",
        "id": "-2337641893501581048",
        "label": "8",
        "shape": "rectangle"
       },
       "grabbable": true,
       "grabbed": false,
       "locked": false,
       "pannable": false,
       "position": {},
       "removed": false,
       "selectable": false,
       "selected": false
      }
     },
     "214456b261f142d5b13fbcf4c65b5801": {
      "model_module": "jupyter-cytoscape",
      "model_module_version": "^1.3.3",
      "model_name": "EdgeModel",
      "state": {
       "_model_module": "jupyter-cytoscape",
       "_model_module_version": "^1.3.3",
       "_model_name": "EdgeModel",
       "_view_count": null,
       "_view_module": "jupyter-cytoscape",
       "_view_module_version": "^1.3.3",
       "_view_name": "EdgeView",
       "classes": " directed ",
       "data": {
        "source": "7247309235130152209",
        "target": "2785284281320336761"
       },
       "pannable": true,
       "removed": false,
       "selectable": false,
       "selected": false
      }
     },
     "21765d8d0f124ea1859effffba7bc5f3": {
      "model_module": "jupyter-cytoscape",
      "model_module_version": "^1.3.3",
      "model_name": "NodeModel",
      "state": {
       "_model_module": "jupyter-cytoscape",
       "_model_module_version": "^1.3.3",
       "_model_name": "NodeModel",
       "_view_count": null,
       "_view_module": "jupyter-cytoscape",
       "_view_module_version": "^1.3.3",
       "_view_name": "NodeView",
       "classes": "",
       "data": {
        "color": "gray",
        "id": "8958401377367342451",
        "label": "4",
        "shape": "rectangle"
       },
       "grabbable": true,
       "grabbed": false,
       "locked": false,
       "pannable": false,
       "position": {},
       "removed": false,
       "selectable": false,
       "selected": false
      }
     },
     "223d42cb0bec438dbfb578a34b7ecf21": {
      "model_module": "jupyter-cytoscape",
      "model_module_version": "^1.3.3",
      "model_name": "EdgeModel",
      "state": {
       "_model_module": "jupyter-cytoscape",
       "_model_module_version": "^1.3.3",
       "_model_name": "EdgeModel",
       "_view_count": null,
       "_view_module": "jupyter-cytoscape",
       "_view_module_version": "^1.3.3",
       "_view_name": "EdgeView",
       "classes": " directed ",
       "data": {
        "source": "7046835252584803797",
        "target": "1041134959757340135"
       },
       "pannable": true,
       "removed": false,
       "selectable": false,
       "selected": false
      }
     },
     "22569ba7520448b592d983dbab6c63c9": {
      "model_module": "jupyter-cytoscape",
      "model_module_version": "^1.3.3",
      "model_name": "NodeModel",
      "state": {
       "_model_module": "jupyter-cytoscape",
       "_model_module_version": "^1.3.3",
       "_model_name": "NodeModel",
       "_view_count": null,
       "_view_module": "jupyter-cytoscape",
       "_view_module_version": "^1.3.3",
       "_view_name": "NodeView",
       "classes": "",
       "data": {
        "color": "gray",
        "id": "7191646607215241527",
        "label": "read-csv",
        "shape": "ellipse"
       },
       "grabbable": true,
       "grabbed": false,
       "locked": false,
       "pannable": false,
       "position": {},
       "removed": false,
       "selectable": false,
       "selected": false
      }
     },
     "22fdd4dce6604804a4caec994aea3811": {
      "model_module": "jupyter-cytoscape",
      "model_module_version": "^1.3.3",
      "model_name": "EdgeModel",
      "state": {
       "_model_module": "jupyter-cytoscape",
       "_model_module_version": "^1.3.3",
       "_model_name": "EdgeModel",
       "_view_count": null,
       "_view_module": "jupyter-cytoscape",
       "_view_module_version": "^1.3.3",
       "_view_name": "EdgeView",
       "classes": " directed ",
       "data": {
        "source": "5679894075523948144",
        "target": "-1295738571246152183"
       },
       "pannable": true,
       "removed": false,
       "selectable": false,
       "selected": false
      }
     },
     "24f1129f28334db4a30de3b9e19c8af6": {
      "model_module": "jupyter-cytoscape",
      "model_module_version": "^1.3.3",
      "model_name": "NodeModel",
      "state": {
       "_model_module": "jupyter-cytoscape",
       "_model_module_version": "^1.3.3",
       "_model_name": "NodeModel",
       "_view_count": null,
       "_view_module": "jupyter-cytoscape",
       "_view_module_version": "^1.3.3",
       "_view_name": "NodeView",
       "classes": "",
       "data": {
        "color": "gray",
        "id": "-1244908068966501418",
        "label": "moment_chunk",
        "shape": "ellipse"
       },
       "grabbable": true,
       "grabbed": false,
       "locked": false,
       "pannable": false,
       "position": {},
       "removed": false,
       "selectable": false,
       "selected": false
      }
     },
     "2511dff940994df5aba4c4b5d049a319": {
      "model_module": "jupyter-cytoscape",
      "model_module_version": "^1.3.3",
      "model_name": "EdgeModel",
      "state": {
       "_model_module": "jupyter-cytoscape",
       "_model_module_version": "^1.3.3",
       "_model_name": "EdgeModel",
       "_view_count": null,
       "_view_module": "jupyter-cytoscape",
       "_view_module_version": "^1.3.3",
       "_view_name": "EdgeView",
       "classes": " directed ",
       "data": {
        "source": "5599053926093446069",
        "target": "-753194657295659347"
       },
       "pannable": true,
       "removed": false,
       "selectable": false,
       "selected": false
      }
     },
     "2576ec5d3eea4077b82edc279f1a0fd2": {
      "model_module": "jupyter-cytoscape",
      "model_module_version": "^1.3.3",
      "model_name": "EdgeModel",
      "state": {
       "_model_module": "jupyter-cytoscape",
       "_model_module_version": "^1.3.3",
       "_model_name": "EdgeModel",
       "_view_count": null,
       "_view_module": "jupyter-cytoscape",
       "_view_module_version": "^1.3.3",
       "_view_name": "EdgeView",
       "classes": " directed ",
       "data": {
        "source": "1129967681138262677",
        "target": "-1585493129879916275"
       },
       "pannable": true,
       "removed": false,
       "selectable": false,
       "selected": false
      }
     },
     "258523d28f904d7cad2966bb86cab58c": {
      "model_module": "jupyter-cytoscape",
      "model_module_version": "^1.3.3",
      "model_name": "NodeModel",
      "state": {
       "_model_module": "jupyter-cytoscape",
       "_model_module_version": "^1.3.3",
       "_model_name": "NodeModel",
       "_view_count": null,
       "_view_module": "jupyter-cytoscape",
       "_view_module_version": "^1.3.3",
       "_view_name": "NodeView",
       "classes": "",
       "data": {
        "color": "gray",
        "id": "6849118004249712154",
        "label": "3",
        "shape": "rectangle"
       },
       "grabbable": true,
       "grabbed": false,
       "locked": false,
       "pannable": false,
       "position": {},
       "removed": false,
       "selectable": false,
       "selected": false
      }
     },
     "268368d6438c4896918b6e6810a4e82b": {
      "model_module": "jupyter-cytoscape",
      "model_module_version": "^1.3.3",
      "model_name": "EdgeModel",
      "state": {
       "_model_module": "jupyter-cytoscape",
       "_model_module_version": "^1.3.3",
       "_model_name": "EdgeModel",
       "_view_count": null,
       "_view_module": "jupyter-cytoscape",
       "_view_module_version": "^1.3.3",
       "_view_name": "EdgeView",
       "classes": " directed ",
       "data": {
        "source": "-4004662620460150333",
        "target": "6768277854819210079"
       },
       "pannable": true,
       "removed": false,
       "selectable": false,
       "selected": false
      }
     },
     "27943f1fe8e8423db7c2ca966837eaa5": {
      "model_module": "jupyter-cytoscape",
      "model_module_version": "^1.3.3",
      "model_name": "NodeModel",
      "state": {
       "_model_module": "jupyter-cytoscape",
       "_model_module_version": "^1.3.3",
       "_model_name": "NodeModel",
       "_view_count": null,
       "_view_module": "jupyter-cytoscape",
       "_view_module_version": "^1.3.3",
       "_view_name": "NodeView",
       "classes": "",
       "data": {
        "color": "gray",
        "id": "-8590654464098129623",
        "label": "3",
        "shape": "rectangle"
       },
       "grabbable": true,
       "grabbed": false,
       "locked": false,
       "pannable": false,
       "position": {},
       "removed": false,
       "selectable": false,
       "selected": false
      }
     },
     "285bd3c204354cb0a9224b51d47e30b7": {
      "model_module": "jupyter-cytoscape",
      "model_module_version": "^1.3.3",
      "model_name": "NodeModel",
      "state": {
       "_model_module": "jupyter-cytoscape",
       "_model_module_version": "^1.3.3",
       "_model_name": "NodeModel",
       "_view_count": null,
       "_view_module": "jupyter-cytoscape",
       "_view_module_version": "^1.3.3",
       "_view_name": "NodeView",
       "classes": "",
       "data": {
        "color": "gray",
        "id": "-8845282649603579473",
        "label": "7",
        "shape": "rectangle"
       },
       "grabbable": true,
       "grabbed": false,
       "locked": false,
       "pannable": false,
       "position": {},
       "removed": false,
       "selectable": false,
       "selected": false
      }
     },
     "29e26345ce5f4468b08bdeb66f36235e": {
      "model_module": "jupyter-cytoscape",
      "model_module_version": "^1.3.3",
      "model_name": "NodeModel",
      "state": {
       "_model_module": "jupyter-cytoscape",
       "_model_module_version": "^1.3.3",
       "_model_name": "NodeModel",
       "_view_count": null,
       "_view_module": "jupyter-cytoscape",
       "_view_module_version": "^1.3.3",
       "_view_name": "NodeView",
       "classes": "",
       "data": {
        "color": "gray",
        "id": "-3910029575411109872",
        "label": "getitem",
        "shape": "ellipse"
       },
       "grabbable": true,
       "grabbed": false,
       "locked": false,
       "pannable": false,
       "position": {},
       "removed": false,
       "selectable": false,
       "selected": false
      }
     },
     "2a34c82a93394ebf8aa191782b3d8744": {
      "model_module": "jupyter-cytoscape",
      "model_module_version": "^1.3.3",
      "model_name": "EdgeModel",
      "state": {
       "_model_module": "jupyter-cytoscape",
       "_model_module_version": "^1.3.3",
       "_model_name": "EdgeModel",
       "_view_count": null,
       "_view_module": "jupyter-cytoscape",
       "_view_module_version": "^1.3.3",
       "_view_name": "EdgeView",
       "classes": " directed ",
       "data": {
        "source": "-8506435153754837937",
        "target": "4065327348394646085"
       },
       "pannable": true,
       "removed": false,
       "selectable": false,
       "selected": false
      }
     },
     "2c85173e14d245abab363999a5404c0d": {
      "model_module": "jupyter-cytoscape",
      "model_module_version": "^1.3.3",
      "model_name": "EdgeModel",
      "state": {
       "_model_module": "jupyter-cytoscape",
       "_model_module_version": "^1.3.3",
       "_model_name": "EdgeModel",
       "_view_count": null,
       "_view_module": "jupyter-cytoscape",
       "_view_module_version": "^1.3.3",
       "_view_name": "EdgeView",
       "classes": " directed ",
       "data": {
        "source": "6768277854819210079",
        "target": "2479899153016378069"
       },
       "pannable": true,
       "removed": false,
       "selectable": false,
       "selected": false
      }
     },
     "2d072f8c760445c38f68dc94a73a7dd2": {
      "model_module": "jupyter-cytoscape",
      "model_module_version": "^1.3.3",
      "model_name": "NodeModel",
      "state": {
       "_model_module": "jupyter-cytoscape",
       "_model_module_version": "^1.3.3",
       "_model_name": "NodeModel",
       "_view_count": null,
       "_view_module": "jupyter-cytoscape",
       "_view_module_version": "^1.3.3",
       "_view_name": "NodeView",
       "classes": "",
       "data": {
        "color": "gray",
        "id": "-6749660195681574798",
        "label": "6",
        "shape": "rectangle"
       },
       "grabbable": true,
       "grabbed": false,
       "locked": false,
       "pannable": false,
       "position": {},
       "removed": false,
       "selectable": false,
       "selected": false
      }
     },
     "2d9a33b59e1e4e07b899ddbb34945949": {
      "model_module": "jupyter-cytoscape",
      "model_module_version": "^1.3.3",
      "model_name": "EdgeModel",
      "state": {
       "_model_module": "jupyter-cytoscape",
       "_model_module_version": "^1.3.3",
       "_model_name": "EdgeModel",
       "_view_count": null,
       "_view_module": "jupyter-cytoscape",
       "_view_module_version": "^1.3.3",
       "_view_name": "EdgeView",
       "classes": " directed ",
       "data": {
        "source": "5862207070613948437",
        "target": "-3910029575411109872"
       },
       "pannable": true,
       "removed": false,
       "selectable": false,
       "selected": false
      }
     },
     "2de497a0c0384095abbf752c7b21f4d5": {
      "model_module": "jupyter-cytoscape",
      "model_module_version": "^1.3.3",
      "model_name": "EdgeModel",
      "state": {
       "_model_module": "jupyter-cytoscape",
       "_model_module_version": "^1.3.3",
       "_model_name": "EdgeModel",
       "_view_count": null,
       "_view_module": "jupyter-cytoscape",
       "_view_module_version": "^1.3.3",
       "_view_name": "EdgeView",
       "classes": " directed ",
       "data": {
        "source": "4894567654437967058",
        "target": "2737840592670449670"
       },
       "pannable": true,
       "removed": false,
       "selectable": false,
       "selected": false
      }
     },
     "2e33b3f2c02d455995c17bcf60382b61": {
      "model_module": "jupyter-cytoscape",
      "model_module_version": "^1.3.3",
      "model_name": "EdgeModel",
      "state": {
       "_model_module": "jupyter-cytoscape",
       "_model_module_version": "^1.3.3",
       "_model_name": "EdgeModel",
       "_view_count": null,
       "_view_module": "jupyter-cytoscape",
       "_view_module_version": "^1.3.3",
       "_view_name": "EdgeView",
       "classes": " directed ",
       "data": {
        "source": "8382844581948512138",
        "target": "-8898352797611363919"
       },
       "pannable": true,
       "removed": false,
       "selectable": false,
       "selected": false
      }
     },
     "2e4afa7ef89e41aeab39a15976f22555": {
      "model_module": "jupyter-cytoscape",
      "model_module_version": "^1.3.3",
      "model_name": "EdgeModel",
      "state": {
       "_model_module": "jupyter-cytoscape",
       "_model_module_version": "^1.3.3",
       "_model_name": "EdgeModel",
       "_view_count": null,
       "_view_module": "jupyter-cytoscape",
       "_view_module_version": "^1.3.3",
       "_view_name": "EdgeView",
       "classes": " directed ",
       "data": {
        "source": "1197821667672790837",
        "target": "260637098717211654"
       },
       "pannable": true,
       "removed": false,
       "selectable": false,
       "selected": false
      }
     },
     "2ea73f71b7724d13b5001be04e12345f": {
      "model_module": "jupyter-cytoscape",
      "model_module_version": "^1.3.3",
      "model_name": "NodeModel",
      "state": {
       "_model_module": "jupyter-cytoscape",
       "_model_module_version": "^1.3.3",
       "_model_name": "NodeModel",
       "_view_count": null,
       "_view_module": "jupyter-cytoscape",
       "_view_module_version": "^1.3.3",
       "_view_name": "NodeView",
       "classes": "",
       "data": {
        "color": "gray",
        "id": "-8677439657524884012",
        "label": "getitem",
        "shape": "ellipse"
       },
       "grabbable": true,
       "grabbed": false,
       "locked": false,
       "pannable": false,
       "position": {},
       "removed": false,
       "selectable": false,
       "selected": false
      }
     },
     "2f40d4938fa846fbaf84189f0f669edc": {
      "model_module": "jupyter-cytoscape",
      "model_module_version": "^1.3.3",
      "model_name": "EdgeModel",
      "state": {
       "_model_module": "jupyter-cytoscape",
       "_model_module_version": "^1.3.3",
       "_model_name": "EdgeModel",
       "_view_count": null,
       "_view_module": "jupyter-cytoscape",
       "_view_module_version": "^1.3.3",
       "_view_name": "EdgeView",
       "classes": " directed ",
       "data": {
        "source": "2785284281320336761",
        "target": "2737840592670449670"
       },
       "pannable": true,
       "removed": false,
       "selectable": false,
       "selected": false
      }
     },
     "2f4e78264a084c3886ac6c128647652e": {
      "model_module": "jupyter-cytoscape",
      "model_module_version": "^1.3.3",
      "model_name": "NodeModel",
      "state": {
       "_model_module": "jupyter-cytoscape",
       "_model_module_version": "^1.3.3",
       "_model_name": "NodeModel",
       "_view_count": null,
       "_view_module": "jupyter-cytoscape",
       "_view_module_version": "^1.3.3",
       "_view_name": "NodeView",
       "classes": "",
       "data": {
        "color": "gray",
        "id": "-4323150101700057640",
        "label": "4",
        "shape": "rectangle"
       },
       "grabbable": true,
       "grabbed": false,
       "locked": false,
       "pannable": false,
       "position": {},
       "removed": false,
       "selectable": false,
       "selected": false
      }
     },
     "3145fefadb87466eae45ef170b2b3188": {
      "model_module": "jupyter-cytoscape",
      "model_module_version": "^1.3.3",
      "model_name": "EdgeModel",
      "state": {
       "_model_module": "jupyter-cytoscape",
       "_model_module_version": "^1.3.3",
       "_model_name": "EdgeModel",
       "_view_count": null,
       "_view_module": "jupyter-cytoscape",
       "_view_module_version": "^1.3.3",
       "_view_name": "EdgeView",
       "classes": " directed ",
       "data": {
        "source": "-8717321051717431442",
        "target": "-3952208620630883107"
       },
       "pannable": true,
       "removed": false,
       "selectable": false,
       "selected": false
      }
     },
     "31573e6db4254b108224157cb80310e7": {
      "model_module": "jupyter-cytoscape",
      "model_module_version": "^1.3.3",
      "model_name": "NodeModel",
      "state": {
       "_model_module": "jupyter-cytoscape",
       "_model_module_version": "^1.3.3",
       "_model_name": "NodeModel",
       "_view_count": null,
       "_view_module": "jupyter-cytoscape",
       "_view_module_version": "^1.3.3",
       "_view_name": "NodeView",
       "classes": "",
       "data": {
        "color": "gray",
        "id": "-1934688317457873006",
        "label": "values",
        "shape": "ellipse"
       },
       "grabbable": true,
       "grabbed": false,
       "locked": false,
       "pannable": false,
       "position": {},
       "removed": false,
       "selectable": false,
       "selected": false
      }
     },
     "31aa6718cafc4544b33130d93da6025e": {
      "model_module": "jupyter-cytoscape",
      "model_module_version": "^1.3.3",
      "model_name": "NodeModel",
      "state": {
       "_model_module": "jupyter-cytoscape",
       "_model_module_version": "^1.3.3",
       "_model_name": "NodeModel",
       "_view_count": null,
       "_view_module": "jupyter-cytoscape",
       "_view_module_version": "^1.3.3",
       "_view_name": "NodeView",
       "classes": "",
       "data": {
        "color": "gray",
        "id": "2479899153016378069",
        "label": "series-count-chunk",
        "shape": "ellipse"
       },
       "grabbable": true,
       "grabbed": false,
       "locked": false,
       "pannable": false,
       "position": {},
       "removed": false,
       "selectable": false,
       "selected": false
      }
     },
     "346616dbece54b9ab64c3028bec5c167": {
      "model_module": "jupyter-cytoscape",
      "model_module_version": "^1.3.3",
      "model_name": "EdgeModel",
      "state": {
       "_model_module": "jupyter-cytoscape",
       "_model_module_version": "^1.3.3",
       "_model_name": "EdgeModel",
       "_view_count": null,
       "_view_module": "jupyter-cytoscape",
       "_view_module_version": "^1.3.3",
       "_view_name": "EdgeView",
       "classes": " directed ",
       "data": {
        "source": "-1085869858421025898",
        "target": "-2782984691905119097"
       },
       "pannable": true,
       "removed": false,
       "selectable": false,
       "selected": false
      }
     },
     "348ed0bb2645498bbbbea5357441537b": {
      "model_module": "jupyter-cytoscape",
      "model_module_version": "^1.3.3",
      "model_name": "NodeModel",
      "state": {
       "_model_module": "jupyter-cytoscape",
       "_model_module_version": "^1.3.3",
       "_model_name": "NodeModel",
       "_view_count": null,
       "_view_module": "jupyter-cytoscape",
       "_view_module_version": "^1.3.3",
       "_view_name": "NodeView",
       "classes": "",
       "data": {
        "color": "gray",
        "id": "-3697580435125433257",
        "label": "2",
        "shape": "rectangle"
       },
       "grabbable": true,
       "grabbed": false,
       "locked": false,
       "pannable": false,
       "position": {},
       "removed": false,
       "selectable": false,
       "selected": false
      }
     },
     "357bd97b7d034045b748c4a0202a2100": {
      "model_module": "jupyter-cytoscape",
      "model_module_version": "^1.3.3",
      "model_name": "EdgeModel",
      "state": {
       "_model_module": "jupyter-cytoscape",
       "_model_module_version": "^1.3.3",
       "_model_name": "EdgeModel",
       "_view_count": null,
       "_view_module": "jupyter-cytoscape",
       "_view_module_version": "^1.3.3",
       "_view_name": "EdgeView",
       "classes": " directed ",
       "data": {
        "source": "-8845282649603579473",
        "target": "5280454132196232743"
       },
       "pannable": true,
       "removed": false,
       "selectable": false,
       "selected": false
      }
     },
     "35b8a59ec5c24a2fa6cdd41a09070d6f": {
      "model_module": "jupyter-cytoscape",
      "model_module_version": "^1.3.3",
      "model_name": "EdgeModel",
      "state": {
       "_model_module": "jupyter-cytoscape",
       "_model_module_version": "^1.3.3",
       "_model_name": "EdgeModel",
       "_view_count": null,
       "_view_module": "jupyter-cytoscape",
       "_view_module_version": "^1.3.3",
       "_view_name": "EdgeView",
       "classes": " directed ",
       "data": {
        "source": "260637098717211654",
        "target": "2638937363561853589"
       },
       "pannable": true,
       "removed": false,
       "selectable": false,
       "selected": false
      }
     },
     "368afa799b5645d294b3ff751808462f": {
      "model_module": "jupyter-cytoscape",
      "model_module_version": "^1.3.3",
      "model_name": "EdgeModel",
      "state": {
       "_model_module": "jupyter-cytoscape",
       "_model_module_version": "^1.3.3",
       "_model_name": "EdgeModel",
       "_view_count": null,
       "_view_module": "jupyter-cytoscape",
       "_view_module_version": "^1.3.3",
       "_view_name": "EdgeView",
       "classes": " directed ",
       "data": {
        "source": "-2708583374570755581",
        "target": "-9093072994948542399"
       },
       "pannable": true,
       "removed": false,
       "selectable": false,
       "selected": false
      }
     },
     "36b42d7d71dc459fb6e4fd5720da4d32": {
      "model_module": "jupyter-cytoscape",
      "model_module_version": "^1.3.3",
      "model_name": "EdgeModel",
      "state": {
       "_model_module": "jupyter-cytoscape",
       "_model_module_version": "^1.3.3",
       "_model_name": "EdgeModel",
       "_view_count": null,
       "_view_module": "jupyter-cytoscape",
       "_view_module_version": "^1.3.3",
       "_view_name": "EdgeView",
       "classes": " directed ",
       "data": {
        "source": "-8898352797611363919",
        "target": "8316103845837713824"
       },
       "pannable": true,
       "removed": false,
       "selectable": false,
       "selected": false
      }
     },
     "37a659814b2b4bacb4c1b5b165fc8018": {
      "model_module": "jupyter-cytoscape",
      "model_module_version": "^1.3.3",
      "model_name": "NodeModel",
      "state": {
       "_model_module": "jupyter-cytoscape",
       "_model_module_version": "^1.3.3",
       "_model_name": "NodeModel",
       "_view_count": null,
       "_view_module": "jupyter-cytoscape",
       "_view_module_version": "^1.3.3",
       "_view_name": "NodeView",
       "classes": "",
       "data": {
        "color": "gray",
        "id": "6419437748365081947",
        "label": "0",
        "shape": "rectangle"
       },
       "grabbable": true,
       "grabbed": false,
       "locked": false,
       "pannable": false,
       "position": {},
       "removed": false,
       "selectable": false,
       "selected": false
      }
     },
     "386f8105425643e9b924de72cdc1ad33": {
      "model_module": "jupyter-cytoscape",
      "model_module_version": "^1.3.3",
      "model_name": "EdgeModel",
      "state": {
       "_model_module": "jupyter-cytoscape",
       "_model_module_version": "^1.3.3",
       "_model_name": "EdgeModel",
       "_view_count": null,
       "_view_module": "jupyter-cytoscape",
       "_view_module_version": "^1.3.3",
       "_view_name": "EdgeView",
       "classes": " directed ",
       "data": {
        "source": "6509134381567269117",
        "target": "2737840592670449670"
       },
       "pannable": true,
       "removed": false,
       "selectable": false,
       "selected": false
      }
     },
     "388ad26230a7461ebdb01c2e8ab22bc1": {
      "model_module": "jupyter-cytoscape",
      "model_module_version": "^1.3.3",
      "model_name": "NodeModel",
      "state": {
       "_model_module": "jupyter-cytoscape",
       "_model_module_version": "^1.3.3",
       "_model_name": "NodeModel",
       "_view_count": null,
       "_view_module": "jupyter-cytoscape",
       "_view_module_version": "^1.3.3",
       "_view_name": "NodeView",
       "classes": "",
       "data": {
        "color": "gray",
        "id": "187903613662866949",
        "label": "getitem",
        "shape": "ellipse"
       },
       "grabbable": true,
       "grabbed": false,
       "locked": false,
       "pannable": false,
       "position": {},
       "removed": false,
       "selectable": false,
       "selected": false
      }
     },
     "39385f6b36b1458eb82fd181961121c3": {
      "model_module": "jupyter-cytoscape",
      "model_module_version": "^1.3.3",
      "model_name": "NodeModel",
      "state": {
       "_model_module": "jupyter-cytoscape",
       "_model_module_version": "^1.3.3",
       "_model_name": "NodeModel",
       "_view_count": null,
       "_view_module": "jupyter-cytoscape",
       "_view_module_version": "^1.3.3",
       "_view_name": "NodeView",
       "classes": "",
       "data": {
        "color": "gray",
        "id": "4532757256868167882",
        "label": "inv",
        "shape": "ellipse"
       },
       "grabbable": true,
       "grabbed": false,
       "locked": false,
       "pannable": false,
       "position": {},
       "removed": false,
       "selectable": false,
       "selected": false
      }
     },
     "3942b2f402f046069e6ea87556066696": {
      "model_module": "jupyter-cytoscape",
      "model_module_version": "^1.3.3",
      "model_name": "NodeModel",
      "state": {
       "_model_module": "jupyter-cytoscape",
       "_model_module_version": "^1.3.3",
       "_model_name": "NodeModel",
       "_view_count": null,
       "_view_module": "jupyter-cytoscape",
       "_view_module_version": "^1.3.3",
       "_view_name": "NodeView",
       "classes": "",
       "data": {
        "color": "gray",
        "id": "-6061491993748513404",
        "label": "5",
        "shape": "rectangle"
       },
       "grabbable": true,
       "grabbed": false,
       "locked": false,
       "pannable": false,
       "position": {},
       "removed": false,
       "selectable": false,
       "selected": false
      }
     },
     "39d71ebd3c274dc48275e128a1380aca": {
      "model_module": "jupyter-cytoscape",
      "model_module_version": "^1.3.3",
      "model_name": "EdgeModel",
      "state": {
       "_model_module": "jupyter-cytoscape",
       "_model_module_version": "^1.3.3",
       "_model_name": "EdgeModel",
       "_view_count": null,
       "_view_module": "jupyter-cytoscape",
       "_view_module_version": "^1.3.3",
       "_view_name": "EdgeView",
       "classes": " directed ",
       "data": {
        "source": "4968281310257006854",
        "target": "4109915185610210327"
       },
       "pannable": true,
       "removed": false,
       "selectable": false,
       "selected": false
      }
     },
     "39f726fa5dc24da990ecd25018ba41c3": {
      "model_module": "jupyter-cytoscape",
      "model_module_version": "^1.3.3",
      "model_name": "NodeModel",
      "state": {
       "_model_module": "jupyter-cytoscape",
       "_model_module_version": "^1.3.3",
       "_model_name": "NodeModel",
       "_view_count": null,
       "_view_module": "jupyter-cytoscape",
       "_view_module_version": "^1.3.3",
       "_view_name": "NodeView",
       "classes": "",
       "data": {
        "color": "gray",
        "id": "557365326517556517",
        "label": "moment_chunk",
        "shape": "ellipse"
       },
       "grabbable": true,
       "grabbed": false,
       "locked": false,
       "pannable": false,
       "position": {},
       "removed": false,
       "selectable": false,
       "selected": false
      }
     },
     "3a0d0d2a7da34fc9b0348244a0bcc898": {
      "model_module": "jupyter-cytoscape",
      "model_module_version": "^1.3.3",
      "model_name": "EdgeModel",
      "state": {
       "_model_module": "jupyter-cytoscape",
       "_model_module_version": "^1.3.3",
       "_model_name": "EdgeModel",
       "_view_count": null,
       "_view_module": "jupyter-cytoscape",
       "_view_module_version": "^1.3.3",
       "_view_name": "EdgeView",
       "classes": " directed ",
       "data": {
        "source": "1493625465270692",
        "target": "2737840592670449670"
       },
       "pannable": true,
       "removed": false,
       "selectable": false,
       "selected": false
      }
     },
     "3a58251ebf0249268d182ee624d37e76": {
      "model_module": "jupyter-cytoscape",
      "model_module_version": "^1.3.3",
      "model_name": "EdgeModel",
      "state": {
       "_model_module": "jupyter-cytoscape",
       "_model_module_version": "^1.3.3",
       "_model_name": "EdgeModel",
       "_view_count": null,
       "_view_module": "jupyter-cytoscape",
       "_view_module_version": "^1.3.3",
       "_view_name": "EdgeView",
       "classes": " directed ",
       "data": {
        "source": "-4291432986340819176",
        "target": "-8047000201946989996"
       },
       "pannable": true,
       "removed": false,
       "selectable": false,
       "selected": false
      }
     },
     "3aa0fdfd69124d60847005b2c74b7540": {
      "model_module": "jupyter-cytoscape",
      "model_module_version": "^1.3.3",
      "model_name": "EdgeModel",
      "state": {
       "_model_module": "jupyter-cytoscape",
       "_model_module_version": "^1.3.3",
       "_model_name": "EdgeModel",
       "_view_count": null,
       "_view_module": "jupyter-cytoscape",
       "_view_module_version": "^1.3.3",
       "_view_name": "EdgeView",
       "classes": " directed ",
       "data": {
        "source": "6063791583163731068",
        "target": "2737840592670449670"
       },
       "pannable": true,
       "removed": false,
       "selectable": false,
       "selected": false
      }
     },
     "3b355cbc55704857ba4eac0c9be23019": {
      "model_module": "jupyter-cytoscape",
      "model_module_version": "^1.3.3",
      "model_name": "NodeModel",
      "state": {
       "_model_module": "jupyter-cytoscape",
       "_model_module_version": "^1.3.3",
       "_model_name": "NodeModel",
       "_view_count": null,
       "_view_module": "jupyter-cytoscape",
       "_view_module_version": "^1.3.3",
       "_view_name": "NodeView",
       "classes": "",
       "data": {
        "color": "gray",
        "id": "-8894675563035275468",
        "label": "0",
        "shape": "rectangle"
       },
       "grabbable": true,
       "grabbed": false,
       "locked": false,
       "pannable": false,
       "position": {},
       "removed": false,
       "selectable": false,
       "selected": false
      }
     },
     "3b8edf82a7c24b83b20269a1ed052a65": {
      "model_module": "jupyter-cytoscape",
      "model_module_version": "^1.3.3",
      "model_name": "EdgeModel",
      "state": {
       "_model_module": "jupyter-cytoscape",
       "_model_module_version": "^1.3.3",
       "_model_name": "EdgeModel",
       "_view_count": null,
       "_view_module": "jupyter-cytoscape",
       "_view_module_version": "^1.3.3",
       "_view_name": "EdgeView",
       "classes": " directed ",
       "data": {
        "source": "1808463089735715399",
        "target": "-1244908068966501418"
       },
       "pannable": true,
       "removed": false,
       "selectable": false,
       "selected": false
      }
     },
     "3bb14ce7075a466282d2c02f312115fb": {
      "model_module": "jupyter-cytoscape",
      "model_module_version": "^1.3.3",
      "model_name": "NodeModel",
      "state": {
       "_model_module": "jupyter-cytoscape",
       "_model_module_version": "^1.3.3",
       "_model_name": "NodeModel",
       "_view_count": null,
       "_view_module": "jupyter-cytoscape",
       "_view_module_version": "^1.3.3",
       "_view_name": "NodeView",
       "classes": "",
       "data": {
        "color": "gray",
        "id": "-7199063508835351999",
        "label": "getitem",
        "shape": "ellipse"
       },
       "grabbable": true,
       "grabbed": false,
       "locked": false,
       "pannable": false,
       "position": {},
       "removed": false,
       "selectable": false,
       "selected": false
      }
     },
     "3c32239835dc49439f59ded4a8d7c415": {
      "model_module": "jupyter-cytoscape",
      "model_module_version": "^1.3.3",
      "model_name": "EdgeModel",
      "state": {
       "_model_module": "jupyter-cytoscape",
       "_model_module_version": "^1.3.3",
       "_model_name": "EdgeModel",
       "_view_count": null,
       "_view_module": "jupyter-cytoscape",
       "_view_module_version": "^1.3.3",
       "_view_name": "EdgeView",
       "classes": " directed ",
       "data": {
        "source": "7789177448641578441",
        "target": "-1295738571246152183"
       },
       "pannable": true,
       "removed": false,
       "selectable": false,
       "selected": false
      }
     },
     "3ceb5efc09fd42fd8a1c2bc7439a35b9": {
      "model_module": "jupyter-cytoscape",
      "model_module_version": "^1.3.3",
      "model_name": "NodeModel",
      "state": {
       "_model_module": "jupyter-cytoscape",
       "_model_module_version": "^1.3.3",
       "_model_name": "NodeModel",
       "_view_count": null,
       "_view_module": "jupyter-cytoscape",
       "_view_module_version": "^1.3.3",
       "_view_name": "NodeView",
       "classes": "",
       "data": {
        "color": "gray",
        "id": "2184490654401940785",
        "label": "5",
        "shape": "rectangle"
       },
       "grabbable": true,
       "grabbed": false,
       "locked": false,
       "pannable": false,
       "position": {},
       "removed": false,
       "selectable": false,
       "selected": false
      }
     },
     "3e4de533b11141a3b3e186cc9c42b92d": {
      "model_module": "jupyter-cytoscape",
      "model_module_version": "^1.3.3",
      "model_name": "NodeModel",
      "state": {
       "_model_module": "jupyter-cytoscape",
       "_model_module_version": "^1.3.3",
       "_model_name": "NodeModel",
       "_view_count": null,
       "_view_module": "jupyter-cytoscape",
       "_view_module_version": "^1.3.3",
       "_view_name": "NodeView",
       "classes": "",
       "data": {
        "color": "gray",
        "id": "260637098717211654",
        "label": "1",
        "shape": "rectangle"
       },
       "grabbable": true,
       "grabbed": false,
       "locked": false,
       "pannable": false,
       "position": {},
       "removed": false,
       "selectable": false,
       "selected": false
      }
     },
     "3f0bd5eb150940bebe097eb87815e904": {
      "model_module": "jupyter-cytoscape",
      "model_module_version": "^1.3.3",
      "model_name": "EdgeModel",
      "state": {
       "_model_module": "jupyter-cytoscape",
       "_model_module_version": "^1.3.3",
       "_model_name": "EdgeModel",
       "_view_count": null,
       "_view_module": "jupyter-cytoscape",
       "_view_module_version": "^1.3.3",
       "_view_name": "EdgeView",
       "classes": " directed ",
       "data": {
        "source": "7476773797743250496",
        "target": "1492764528285164538"
       },
       "pannable": true,
       "removed": false,
       "selectable": false,
       "selected": false
      }
     },
     "3fdb9756dc8c445cba7ca906d9fa4027": {
      "model_module": "jupyter-cytoscape",
      "model_module_version": "^1.3.3",
      "model_name": "NodeModel",
      "state": {
       "_model_module": "jupyter-cytoscape",
       "_model_module_version": "^1.3.3",
       "_model_name": "NodeModel",
       "_view_count": null,
       "_view_module": "jupyter-cytoscape",
       "_view_module_version": "^1.3.3",
       "_view_name": "NodeView",
       "classes": "",
       "data": {
        "color": "gray",
        "id": "-301769445651611375",
        "label": "values",
        "shape": "ellipse"
       },
       "grabbable": true,
       "grabbed": false,
       "locked": false,
       "pannable": false,
       "position": {},
       "removed": false,
       "selectable": false,
       "selected": false
      }
     },
     "3fdfee921fcf4805963e627a7b8ba6c7": {
      "model_module": "jupyter-cytoscape",
      "model_module_version": "^1.3.3",
      "model_name": "EdgeModel",
      "state": {
       "_model_module": "jupyter-cytoscape",
       "_model_module_version": "^1.3.3",
       "_model_name": "EdgeModel",
       "_view_count": null,
       "_view_module": "jupyter-cytoscape",
       "_view_module_version": "^1.3.3",
       "_view_name": "EdgeView",
       "classes": " directed ",
       "data": {
        "source": "193896362606413340",
        "target": "596058248454392267"
       },
       "pannable": true,
       "removed": false,
       "selectable": false,
       "selected": false
      }
     },
     "40228d5a3aaf49168b0b6c9d3b9bef59": {
      "model_module": "jupyter-cytoscape",
      "model_module_version": "^1.3.3",
      "model_name": "EdgeModel",
      "state": {
       "_model_module": "jupyter-cytoscape",
       "_model_module_version": "^1.3.3",
       "_model_name": "EdgeModel",
       "_view_count": null,
       "_view_module": "jupyter-cytoscape",
       "_view_module_version": "^1.3.3",
       "_view_name": "EdgeView",
       "classes": " directed ",
       "data": {
        "source": "-3045190196649170467",
        "target": "-7650595019706263336"
       },
       "pannable": true,
       "removed": false,
       "selectable": false,
       "selected": false
      }
     },
     "40253c562f294ce7bd2e4e0e46c5ee42": {
      "model_module": "jupyter-cytoscape",
      "model_module_version": "^1.3.3",
      "model_name": "NodeModel",
      "state": {
       "_model_module": "jupyter-cytoscape",
       "_model_module_version": "^1.3.3",
       "_model_name": "NodeModel",
       "_view_count": null,
       "_view_module": "jupyter-cytoscape",
       "_view_module_version": "^1.3.3",
       "_view_name": "NodeView",
       "classes": "",
       "data": {
        "color": "gray",
        "id": "-3025810095434642442",
        "label": "9",
        "shape": "rectangle"
       },
       "grabbable": true,
       "grabbed": false,
       "locked": false,
       "pannable": false,
       "position": {},
       "removed": false,
       "selectable": false,
       "selected": false
      }
     },
     "40f5824532c94964b1499be0589aab48": {
      "model_module": "jupyter-cytoscape",
      "model_module_version": "^1.3.3",
      "model_name": "EdgeModel",
      "state": {
       "_model_module": "jupyter-cytoscape",
       "_model_module_version": "^1.3.3",
       "_model_name": "EdgeModel",
       "_view_count": null,
       "_view_module": "jupyter-cytoscape",
       "_view_module_version": "^1.3.3",
       "_view_name": "EdgeView",
       "classes": " directed ",
       "data": {
        "source": "-1934688317457873006",
        "target": "1808463089735715399"
       },
       "pannable": true,
       "removed": false,
       "selectable": false,
       "selected": false
      }
     },
     "4226458c84f14910916aebaa5433ed25": {
      "model_module": "jupyter-cytoscape",
      "model_module_version": "^1.3.3",
      "model_name": "EdgeModel",
      "state": {
       "_model_module": "jupyter-cytoscape",
       "_model_module_version": "^1.3.3",
       "_model_name": "EdgeModel",
       "_view_count": null,
       "_view_module": "jupyter-cytoscape",
       "_view_module_version": "^1.3.3",
       "_view_name": "EdgeView",
       "classes": " directed ",
       "data": {
        "source": "-7873775969212907106",
        "target": "-1295738571246152183"
       },
       "pannable": true,
       "removed": false,
       "selectable": false,
       "selected": false
      }
     },
     "428179c847424a93b5cd6abd05a24f93": {
      "model_module": "jupyter-cytoscape",
      "model_module_version": "^1.3.3",
      "model_name": "NodeModel",
      "state": {
       "_model_module": "jupyter-cytoscape",
       "_model_module_version": "^1.3.3",
       "_model_name": "NodeModel",
       "_view_count": null,
       "_view_module": "jupyter-cytoscape",
       "_view_module_version": "^1.3.3",
       "_view_name": "NodeView",
       "classes": "",
       "data": {
        "color": "gray",
        "id": "502357459496961667",
        "label": "values",
        "shape": "ellipse"
       },
       "grabbable": true,
       "grabbed": false,
       "locked": false,
       "pannable": false,
       "position": {},
       "removed": false,
       "selectable": false,
       "selected": false
      }
     },
     "4374ae5ff1b74eb087e73a3a8331f19d": {
      "model_module": "jupyter-cytoscape",
      "model_module_version": "^1.3.3",
      "model_name": "NodeModel",
      "state": {
       "_model_module": "jupyter-cytoscape",
       "_model_module_version": "^1.3.3",
       "_model_name": "NodeModel",
       "_view_count": null,
       "_view_module": "jupyter-cytoscape",
       "_view_module_version": "^1.3.3",
       "_view_name": "NodeView",
       "classes": "",
       "data": {
        "color": "gray",
        "id": "1493625465270692",
        "label": "6",
        "shape": "rectangle"
       },
       "grabbable": true,
       "grabbed": false,
       "locked": false,
       "pannable": false,
       "position": {},
       "removed": false,
       "selectable": false,
       "selected": false
      }
     },
     "446433028dcf4c6d91fb1f153af55e24": {
      "model_module": "jupyter-cytoscape",
      "model_module_version": "^1.3.3",
      "model_name": "NodeModel",
      "state": {
       "_model_module": "jupyter-cytoscape",
       "_model_module_version": "^1.3.3",
       "_model_name": "NodeModel",
       "_view_count": null,
       "_view_module": "jupyter-cytoscape",
       "_view_module_version": "^1.3.3",
       "_view_name": "NodeView",
       "classes": "",
       "data": {
        "color": "gray",
        "id": "-9040029826256245684",
        "label": "getitem",
        "shape": "ellipse"
       },
       "grabbable": true,
       "grabbed": false,
       "locked": false,
       "pannable": false,
       "position": {},
       "removed": false,
       "selectable": false,
       "selected": false
      }
     },
     "457c0921d0714e03b263cae07ff4ce36": {
      "model_module": "jupyter-cytoscape",
      "model_module_version": "^1.3.3",
      "model_name": "EdgeModel",
      "state": {
       "_model_module": "jupyter-cytoscape",
       "_model_module_version": "^1.3.3",
       "_model_name": "EdgeModel",
       "_view_count": null,
       "_view_module": "jupyter-cytoscape",
       "_view_module_version": "^1.3.3",
       "_view_name": "EdgeView",
       "classes": " directed ",
       "data": {
        "source": "1041134959757340135",
        "target": "2140963567373774275"
       },
       "pannable": true,
       "removed": false,
       "selectable": false,
       "selected": false
      }
     },
     "45c445fb3b324d57a1d56061785cb0b8": {
      "model_module": "jupyter-cytoscape",
      "model_module_version": "^1.3.3",
      "model_name": "EdgeModel",
      "state": {
       "_model_module": "jupyter-cytoscape",
       "_model_module_version": "^1.3.3",
       "_model_name": "EdgeModel",
       "_view_count": null,
       "_view_module": "jupyter-cytoscape",
       "_view_module_version": "^1.3.3",
       "_view_name": "EdgeView",
       "classes": " directed ",
       "data": {
        "source": "-1244908068966501418",
        "target": "-7676058720877815463"
       },
       "pannable": true,
       "removed": false,
       "selectable": false,
       "selected": false
      }
     },
     "47355f4f1dc644b6b2d04ddc6b0ea8d2": {
      "model_module": "jupyter-cytoscape",
      "model_module_version": "^1.3.3",
      "model_name": "NodeModel",
      "state": {
       "_model_module": "jupyter-cytoscape",
       "_model_module_version": "^1.3.3",
       "_model_name": "NodeModel",
       "_view_count": null,
       "_view_module": "jupyter-cytoscape",
       "_view_module_version": "^1.3.3",
       "_view_name": "NodeView",
       "classes": "",
       "data": {
        "color": "gray",
        "id": "-7650595019706263336",
        "label": "8",
        "shape": "rectangle"
       },
       "grabbable": true,
       "grabbed": false,
       "locked": false,
       "pannable": false,
       "position": {},
       "removed": false,
       "selectable": false,
       "selected": false
      }
     },
     "47497757ef9a4bdba0cd82b31ab3aecc": {
      "model_module": "jupyter-cytoscape",
      "model_module_version": "^1.3.3",
      "model_name": "NodeModel",
      "state": {
       "_model_module": "jupyter-cytoscape",
       "_model_module_version": "^1.3.3",
       "_model_name": "NodeModel",
       "_view_count": null,
       "_view_module": "jupyter-cytoscape",
       "_view_module_version": "^1.3.3",
       "_view_name": "NodeView",
       "classes": "",
       "data": {
        "color": "gray",
        "id": "1802593426144580699",
        "label": "moment_chunk",
        "shape": "ellipse"
       },
       "grabbable": true,
       "grabbed": false,
       "locked": false,
       "pannable": false,
       "position": {},
       "removed": false,
       "selectable": false,
       "selected": false
      }
     },
     "475fa89a9668406ea2708288dc7300e0": {
      "model_module": "jupyter-cytoscape",
      "model_module_version": "^1.3.3",
      "model_name": "EdgeModel",
      "state": {
       "_model_module": "jupyter-cytoscape",
       "_model_module_version": "^1.3.3",
       "_model_name": "EdgeModel",
       "_view_count": null,
       "_view_module": "jupyter-cytoscape",
       "_view_module_version": "^1.3.3",
       "_view_name": "EdgeView",
       "classes": " directed ",
       "data": {
        "source": "260637098717211654",
        "target": "7013865155261833224"
       },
       "pannable": true,
       "removed": false,
       "selectable": false,
       "selected": false
      }
     },
     "47cb152934ee4e0fb618f52e6a6ffb80": {
      "model_module": "jupyter-cytoscape",
      "model_module_version": "^1.3.3",
      "model_name": "EdgeModel",
      "state": {
       "_model_module": "jupyter-cytoscape",
       "_model_module_version": "^1.3.3",
       "_model_name": "EdgeModel",
       "_view_count": null,
       "_view_module": "jupyter-cytoscape",
       "_view_module_version": "^1.3.3",
       "_view_name": "EdgeView",
       "classes": " directed ",
       "data": {
        "source": "-6340049391514107122",
        "target": "2817606229255747246"
       },
       "pannable": true,
       "removed": false,
       "selectable": false,
       "selected": false
      }
     },
     "483155ad4be74985a92f0af69b691ecc": {
      "model_module": "jupyter-cytoscape",
      "model_module_version": "^1.3.3",
      "model_name": "NodeModel",
      "state": {
       "_model_module": "jupyter-cytoscape",
       "_model_module_version": "^1.3.3",
       "_model_name": "NodeModel",
       "_view_count": null,
       "_view_module": "jupyter-cytoscape",
       "_view_module_version": "^1.3.3",
       "_view_name": "NodeView",
       "classes": "",
       "data": {
        "color": "gray",
        "id": "-3153926172974293630",
        "label": "0",
        "shape": "rectangle"
       },
       "grabbable": true,
       "grabbed": false,
       "locked": false,
       "pannable": false,
       "position": {},
       "removed": false,
       "selectable": false,
       "selected": false
      }
     },
     "48f25190cc5744f9ac064ac2646faa59": {
      "model_module": "jupyter-cytoscape",
      "model_module_version": "^1.3.3",
      "model_name": "EdgeModel",
      "state": {
       "_model_module": "jupyter-cytoscape",
       "_model_module_version": "^1.3.3",
       "_model_name": "EdgeModel",
       "_view_count": null,
       "_view_module": "jupyter-cytoscape",
       "_view_module_version": "^1.3.3",
       "_view_name": "EdgeView",
       "classes": " directed ",
       "data": {
        "source": "1174371044317164831",
        "target": "-4149925868965974750"
       },
       "pannable": true,
       "removed": false,
       "selectable": false,
       "selected": false
      }
     },
     "48f51a81155d4caab9d5e0089e097e20": {
      "model_module": "jupyter-cytoscape",
      "model_module_version": "^1.3.3",
      "model_name": "EdgeModel",
      "state": {
       "_model_module": "jupyter-cytoscape",
       "_model_module_version": "^1.3.3",
       "_model_name": "EdgeModel",
       "_view_count": null,
       "_view_module": "jupyter-cytoscape",
       "_view_module_version": "^1.3.3",
       "_view_name": "EdgeView",
       "classes": " directed ",
       "data": {
        "source": "-3153926172974293630",
        "target": "-5094545201424767691"
       },
       "pannable": true,
       "removed": false,
       "selectable": false,
       "selected": false
      }
     },
     "4a7257e5b8594ac690b39fac58872754": {
      "model_module": "jupyter-cytoscape",
      "model_module_version": "^1.3.3",
      "model_name": "NodeModel",
      "state": {
       "_model_module": "jupyter-cytoscape",
       "_model_module_version": "^1.3.3",
       "_model_name": "NodeModel",
       "_view_count": null,
       "_view_module": "jupyter-cytoscape",
       "_view_module_version": "^1.3.3",
       "_view_name": "NodeView",
       "classes": "",
       "data": {
        "color": "gray",
        "id": "-2280770903502057702",
        "label": "read-csv",
        "shape": "ellipse"
       },
       "grabbable": true,
       "grabbed": false,
       "locked": false,
       "pannable": false,
       "position": {},
       "removed": false,
       "selectable": false,
       "selected": false
      }
     },
     "4aaa8db1d8b9418eab30b16ece422509": {
      "model_module": "jupyter-cytoscape",
      "model_module_version": "^1.3.3",
      "model_name": "NodeModel",
      "state": {
       "_model_module": "jupyter-cytoscape",
       "_model_module_version": "^1.3.3",
       "_model_name": "NodeModel",
       "_view_count": null,
       "_view_module": "jupyter-cytoscape",
       "_view_module_version": "^1.3.3",
       "_view_name": "NodeView",
       "classes": "",
       "data": {
        "color": "gray",
        "id": "-4149925868965974750",
        "label": "9",
        "shape": "rectangle"
       },
       "grabbable": true,
       "grabbed": false,
       "locked": false,
       "pannable": false,
       "position": {},
       "removed": false,
       "selectable": false,
       "selected": false
      }
     },
     "4bb2cc84957f4800a0d14ea49b14de7f": {
      "model_module": "jupyter-cytoscape",
      "model_module_version": "^1.3.3",
      "model_name": "EdgeModel",
      "state": {
       "_model_module": "jupyter-cytoscape",
       "_model_module_version": "^1.3.3",
       "_model_name": "EdgeModel",
       "_view_count": null,
       "_view_module": "jupyter-cytoscape",
       "_view_module_version": "^1.3.3",
       "_view_name": "EdgeView",
       "classes": " directed ",
       "data": {
        "source": "2817606229255747246",
        "target": "5679894075523948144"
       },
       "pannable": true,
       "removed": false,
       "selectable": false,
       "selected": false
      }
     },
     "4bc65817e95142539ff5a4f18e580a64": {
      "model_module": "jupyter-cytoscape",
      "model_module_version": "^1.3.3",
      "model_name": "EdgeModel",
      "state": {
       "_model_module": "jupyter-cytoscape",
       "_model_module_version": "^1.3.3",
       "_model_name": "EdgeModel",
       "_view_count": null,
       "_view_module": "jupyter-cytoscape",
       "_view_module_version": "^1.3.3",
       "_view_name": "EdgeView",
       "classes": " directed ",
       "data": {
        "source": "3725343725712203048",
        "target": "2737840592670449670"
       },
       "pannable": true,
       "removed": false,
       "selectable": false,
       "selected": false
      }
     },
     "4c1843c97b274520a3c1aeb2db513d2b": {
      "model_module": "jupyter-cytoscape",
      "model_module_version": "^1.3.3",
      "model_name": "NodeModel",
      "state": {
       "_model_module": "jupyter-cytoscape",
       "_model_module_version": "^1.3.3",
       "_model_name": "NodeModel",
       "_view_count": null,
       "_view_module": "jupyter-cytoscape",
       "_view_module_version": "^1.3.3",
       "_view_name": "NodeView",
       "classes": "",
       "data": {
        "color": "gray",
        "id": "-1243931491229737059",
        "label": "read-csv",
        "shape": "ellipse"
       },
       "grabbable": true,
       "grabbed": false,
       "locked": false,
       "pannable": false,
       "position": {},
       "removed": false,
       "selectable": false,
       "selected": false
      }
     },
     "4cf42b5204814126b6a0c2b5d73322a8": {
      "model_module": "jupyter-cytoscape",
      "model_module_version": "^1.3.3",
      "model_name": "CytoscapeModel",
      "state": {
       "_dom_classes": [],
       "_interaction_handlers": {},
       "_model_module": "jupyter-cytoscape",
       "_model_module_version": "^1.3.3",
       "_model_name": "CytoscapeModel",
       "_view_count": null,
       "_view_module": "jupyter-cytoscape",
       "_view_module_version": "^1.3.3",
       "_view_name": "CytoscapeView",
       "auto_ungrabify": false,
       "auto_unselectify": true,
       "autolock": false,
       "box_selection_enabled": false,
       "cytoscape_layout": {
        "edgeSep": 10,
        "name": "dagre",
        "nodeDimensionsIncludeLabels": true,
        "nodeSep": 10,
        "rankDir": "BT",
        "spacingFactor": 1
       },
       "cytoscape_style": [
        {
         "selector": "node",
         "style": {
          "background-color": "#eee",
          "border-color": "data(color)",
          "border-width": 4,
          "color": "black",
          "font-family": "helvetica",
          "font-size": "24px",
          "font-weight": "bold",
          "height": 64,
          "label": "data(label)",
          "opacity": "1.0",
          "shape": "data(shape)",
          "text-halign": "center",
          "text-valign": "center",
          "width": 64
         }
        },
        {
         "selector": "edge",
         "style": {
          "curve-style": "bezier",
          "line-color": "gray",
          "target-arrow-color": "gray",
          "target-arrow-shape": "triangle",
          "width": 8
         }
        }
       ],
       "desktop_tap_threshold": 4,
       "graph": "IPY_MODEL_d1339bf2fd53467d977fe508bb53eb7d",
       "headless": false,
       "hide_edges_on_viewport": false,
       "layout": "IPY_MODEL_ec06e31c03e849e88de46983ca963866",
       "max_zoom": 4.0,
       "min_zoom": 0.2,
       "motion_blur": false,
       "motion_blur_opacity": 0.2,
       "panning_enabled": true,
       "pixel_ratio": "auto",
       "rendered_position": {
        "renderedPosition": {
         "x": 100,
         "y": 100
        }
       },
       "selection_type": "single",
       "style_enabled": true,
       "texture_on_viewport": false,
       "tooltip_source": "tooltip",
       "touch_tap_threshold": 8,
       "user_panning_enabled": true,
       "user_zooming_enabled": true,
       "wheel_sensitivity": 0.1,
       "zoom": 2.0,
       "zooming_enabled": true
      }
     },
     "4d91bf2ca4564349a1b9929d35a5c338": {
      "model_module": "jupyter-cytoscape",
      "model_module_version": "^1.3.3",
      "model_name": "EdgeModel",
      "state": {
       "_model_module": "jupyter-cytoscape",
       "_model_module_version": "^1.3.3",
       "_model_name": "EdgeModel",
       "_view_count": null,
       "_view_module": "jupyter-cytoscape",
       "_view_module_version": "^1.3.3",
       "_view_name": "EdgeView",
       "classes": " directed ",
       "data": {
        "source": "1875203825846513713",
        "target": "-1934688317457873006"
       },
       "pannable": true,
       "removed": false,
       "selectable": false,
       "selected": false
      }
     },
     "4dd929b446ba46eab8ad10e228fb2aca": {
      "model_module": "jupyter-cytoscape",
      "model_module_version": "^1.3.3",
      "model_name": "EdgeModel",
      "state": {
       "_model_module": "jupyter-cytoscape",
       "_model_module_version": "^1.3.3",
       "_model_name": "EdgeModel",
       "_view_count": null,
       "_view_module": "jupyter-cytoscape",
       "_view_module_version": "^1.3.3",
       "_view_name": "EdgeView",
       "classes": " directed ",
       "data": {
        "source": "7146879917111949814",
        "target": "2606720331293153741"
       },
       "pannable": true,
       "removed": false,
       "selectable": false,
       "selected": false
      }
     },
     "5065ad75c2eb481d8c01e418c1bef56f": {
      "model_module": "jupyter-cytoscape",
      "model_module_version": "^1.3.3",
      "model_name": "NodeModel",
      "state": {
       "_model_module": "jupyter-cytoscape",
       "_model_module_version": "^1.3.3",
       "_model_name": "NodeModel",
       "_view_count": null,
       "_view_module": "jupyter-cytoscape",
       "_view_module_version": "^1.3.3",
       "_view_name": "NodeView",
       "classes": "",
       "data": {
        "color": "gray",
        "id": "4169998862600417377",
        "label": "9",
        "shape": "rectangle"
       },
       "grabbable": true,
       "grabbed": false,
       "locked": false,
       "pannable": false,
       "position": {},
       "removed": false,
       "selectable": false,
       "selected": false
      }
     },
     "506ef396b17942638b14838d5312e107": {
      "model_module": "jupyter-cytoscape",
      "model_module_version": "^1.3.3",
      "model_name": "EdgeModel",
      "state": {
       "_model_module": "jupyter-cytoscape",
       "_model_module_version": "^1.3.3",
       "_model_name": "EdgeModel",
       "_view_count": null,
       "_view_module": "jupyter-cytoscape",
       "_view_module_version": "^1.3.3",
       "_view_name": "EdgeView",
       "classes": " directed ",
       "data": {
        "source": "4065327348394646085",
        "target": "-1295738571246152183"
       },
       "pannable": true,
       "removed": false,
       "selectable": false,
       "selected": false
      }
     },
     "50a93a9b142a493c91311cad4a6d84d8": {
      "model_module": "jupyter-cytoscape",
      "model_module_version": "^1.3.3",
      "model_name": "EdgeModel",
      "state": {
       "_model_module": "jupyter-cytoscape",
       "_model_module_version": "^1.3.3",
       "_model_name": "EdgeModel",
       "_view_count": null,
       "_view_module": "jupyter-cytoscape",
       "_view_module_version": "^1.3.3",
       "_view_name": "EdgeView",
       "classes": " directed ",
       "data": {
        "source": "-4892268065022749394",
        "target": "1041134959757340135"
       },
       "pannable": true,
       "removed": false,
       "selectable": false,
       "selected": false
      }
     },
     "512c317e942a40ae9a2108d3c4b369ac": {
      "model_module": "jupyter-cytoscape",
      "model_module_version": "^1.3.3",
      "model_name": "EdgeModel",
      "state": {
       "_model_module": "jupyter-cytoscape",
       "_model_module_version": "^1.3.3",
       "_model_name": "EdgeModel",
       "_view_count": null,
       "_view_module": "jupyter-cytoscape",
       "_view_module_version": "^1.3.3",
       "_view_name": "EdgeView",
       "classes": " directed ",
       "data": {
        "source": "1170717554191034702",
        "target": "2737840592670449670"
       },
       "pannable": true,
       "removed": false,
       "selectable": false,
       "selected": false
      }
     },
     "514d78bdcaa6470ea393368dcb490c6e": {
      "model_module": "jupyter-cytoscape",
      "model_module_version": "^1.3.3",
      "model_name": "EdgeModel",
      "state": {
       "_model_module": "jupyter-cytoscape",
       "_model_module_version": "^1.3.3",
       "_model_name": "EdgeModel",
       "_view_count": null,
       "_view_module": "jupyter-cytoscape",
       "_view_module_version": "^1.3.3",
       "_view_name": "EdgeView",
       "classes": " directed ",
       "data": {
        "source": "4006167973290477409",
        "target": "7774410054834616600"
       },
       "pannable": true,
       "removed": false,
       "selectable": false,
       "selected": false
      }
     },
     "528f44e86a844905ba078c4be13ecebd": {
      "model_module": "jupyter-cytoscape",
      "model_module_version": "^1.3.3",
      "model_name": "EdgeModel",
      "state": {
       "_model_module": "jupyter-cytoscape",
       "_model_module_version": "^1.3.3",
       "_model_name": "EdgeModel",
       "_view_count": null,
       "_view_module": "jupyter-cytoscape",
       "_view_module_version": "^1.3.3",
       "_view_name": "EdgeView",
       "classes": " directed ",
       "data": {
        "source": "8382844581948512138",
        "target": "5700989747515821071"
       },
       "pannable": true,
       "removed": false,
       "selectable": false,
       "selected": false
      }
     },
     "52cd9782ec024733bd877dc2ed639307": {
      "model_module": "jupyter-cytoscape",
      "model_module_version": "^1.3.3",
      "model_name": "EdgeModel",
      "state": {
       "_model_module": "jupyter-cytoscape",
       "_model_module_version": "^1.3.3",
       "_model_name": "EdgeModel",
       "_view_count": null,
       "_view_module": "jupyter-cytoscape",
       "_view_module_version": "^1.3.3",
       "_view_name": "EdgeView",
       "classes": " directed ",
       "data": {
        "source": "-4748219351743241466",
        "target": "969133041641252071"
       },
       "pannable": true,
       "removed": false,
       "selectable": false,
       "selected": false
      }
     },
     "53a6cf1c6557405095c4b07c2a4793e5": {
      "model_module": "jupyter-cytoscape",
      "model_module_version": "^1.3.3",
      "model_name": "NodeModel",
      "state": {
       "_model_module": "jupyter-cytoscape",
       "_model_module_version": "^1.3.3",
       "_model_name": "NodeModel",
       "_view_count": null,
       "_view_module": "jupyter-cytoscape",
       "_view_module_version": "^1.3.3",
       "_view_name": "NodeView",
       "classes": "",
       "data": {
        "color": "gray",
        "id": "1015266725676176775",
        "label": "9",
        "shape": "rectangle"
       },
       "grabbable": true,
       "grabbed": false,
       "locked": false,
       "pannable": false,
       "position": {},
       "removed": false,
       "selectable": false,
       "selected": false
      }
     },
     "53f1361530704d8a87fbe13492ebb92c": {
      "model_module": "jupyter-cytoscape",
      "model_module_version": "^1.3.3",
      "model_name": "EdgeModel",
      "state": {
       "_model_module": "jupyter-cytoscape",
       "_model_module_version": "^1.3.3",
       "_model_name": "EdgeModel",
       "_view_count": null,
       "_view_module": "jupyter-cytoscape",
       "_view_module_version": "^1.3.3",
       "_view_name": "EdgeView",
       "classes": " directed ",
       "data": {
        "source": "-8047000201946989996",
        "target": "-5055852279487931941"
       },
       "pannable": true,
       "removed": false,
       "selectable": false,
       "selected": false
      }
     },
     "56a08ae51c1a4368b961fdbfc547398c": {
      "model_module": "jupyter-cytoscape",
      "model_module_version": "^1.3.3",
      "model_name": "NodeModel",
      "state": {
       "_model_module": "jupyter-cytoscape",
       "_model_module_version": "^1.3.3",
       "_model_name": "NodeModel",
       "_view_count": null,
       "_view_module": "jupyter-cytoscape",
       "_view_module_version": "^1.3.3",
       "_view_name": "NodeView",
       "classes": "",
       "data": {
        "color": "gray",
        "id": "-5055852279487931941",
        "label": "getitem",
        "shape": "ellipse"
       },
       "grabbable": true,
       "grabbed": false,
       "locked": false,
       "pannable": false,
       "position": {},
       "removed": false,
       "selectable": false,
       "selected": false
      }
     },
     "57175a1b962a48669d318efbcd28f3f4": {
      "model_module": "jupyter-cytoscape",
      "model_module_version": "^1.3.3",
      "model_name": "EdgeModel",
      "state": {
       "_model_module": "jupyter-cytoscape",
       "_model_module_version": "^1.3.3",
       "_model_name": "EdgeModel",
       "_view_count": null,
       "_view_module": "jupyter-cytoscape",
       "_view_module_version": "^1.3.3",
       "_view_name": "EdgeView",
       "classes": " directed ",
       "data": {
        "source": "2140963567373774275",
        "target": "4006167973290477409"
       },
       "pannable": true,
       "removed": false,
       "selectable": false,
       "selected": false
      }
     },
     "576a09a8a64145f597c5a38a0436b001": {
      "model_module": "jupyter-cytoscape",
      "model_module_version": "^1.3.3",
      "model_name": "NodeModel",
      "state": {
       "_model_module": "jupyter-cytoscape",
       "_model_module_version": "^1.3.3",
       "_model_name": "NodeModel",
       "_view_count": null,
       "_view_module": "jupyter-cytoscape",
       "_view_module_version": "^1.3.3",
       "_view_name": "NodeView",
       "classes": "",
       "data": {
        "color": "gray",
        "id": "6969668470498471259",
        "label": "getitem",
        "shape": "ellipse"
       },
       "grabbable": true,
       "grabbed": false,
       "locked": false,
       "pannable": false,
       "position": {},
       "removed": false,
       "selectable": false,
       "selected": false
      }
     },
     "584fe1b064524210aef86256105cbcf6": {
      "model_module": "jupyter-cytoscape",
      "model_module_version": "^1.3.3",
      "model_name": "EdgeModel",
      "state": {
       "_model_module": "jupyter-cytoscape",
       "_model_module_version": "^1.3.3",
       "_model_name": "EdgeModel",
       "_view_count": null,
       "_view_module": "jupyter-cytoscape",
       "_view_module_version": "^1.3.3",
       "_view_name": "EdgeView",
       "classes": " directed ",
       "data": {
        "source": "3799057381531242844",
        "target": "9194632868215533697"
       },
       "pannable": true,
       "removed": false,
       "selectable": false,
       "selected": false
      }
     },
     "58ce1b3945fe4ebb808022f2acee2f76": {
      "model_module": "jupyter-cytoscape",
      "model_module_version": "^1.3.3",
      "model_name": "EdgeModel",
      "state": {
       "_model_module": "jupyter-cytoscape",
       "_model_module_version": "^1.3.3",
       "_model_name": "EdgeModel",
       "_view_count": null,
       "_view_module": "jupyter-cytoscape",
       "_view_module_version": "^1.3.3",
       "_view_name": "EdgeView",
       "classes": " directed ",
       "data": {
        "source": "-975327566119350670",
        "target": "-2637035561857645149"
       },
       "pannable": true,
       "removed": false,
       "selectable": false,
       "selected": false
      }
     },
     "58ec7bbaf52545fe938f8a1bc08b7201": {
      "model_module": "jupyter-cytoscape",
      "model_module_version": "^1.3.3",
      "model_name": "EdgeModel",
      "state": {
       "_model_module": "jupyter-cytoscape",
       "_model_module_version": "^1.3.3",
       "_model_name": "EdgeModel",
       "_view_count": null,
       "_view_module": "jupyter-cytoscape",
       "_view_module_version": "^1.3.3",
       "_view_name": "EdgeView",
       "classes": " directed ",
       "data": {
        "source": "7191646607215241527",
        "target": "-1539359445844991571"
       },
       "pannable": true,
       "removed": false,
       "selectable": false,
       "selected": false
      }
     },
     "5957ba4e1756470c96f2e110da946b76": {
      "model_module": "jupyter-cytoscape",
      "model_module_version": "^1.3.3",
      "model_name": "NodeModel",
      "state": {
       "_model_module": "jupyter-cytoscape",
       "_model_module_version": "^1.3.3",
       "_model_name": "NodeModel",
       "_view_count": null,
       "_view_module": "jupyter-cytoscape",
       "_view_module_version": "^1.3.3",
       "_view_name": "NodeView",
       "classes": "",
       "data": {
        "color": "gray",
        "id": "5532313189982647755",
        "label": "6",
        "shape": "rectangle"
       },
       "grabbable": true,
       "grabbed": false,
       "locked": false,
       "pannable": false,
       "position": {},
       "removed": false,
       "selectable": false,
       "selected": false
      }
     },
     "596dce1032954e1c920c22219a4daaa1": {
      "model_module": "jupyter-cytoscape",
      "model_module_version": "^1.3.3",
      "model_name": "EdgeModel",
      "state": {
       "_model_module": "jupyter-cytoscape",
       "_model_module_version": "^1.3.3",
       "_model_name": "EdgeModel",
       "_view_count": null,
       "_view_module": "jupyter-cytoscape",
       "_view_module_version": "^1.3.3",
       "_view_name": "EdgeView",
       "classes": " directed ",
       "data": {
        "source": "-6061491993748513404",
        "target": "5280454132196232743"
       },
       "pannable": true,
       "removed": false,
       "selectable": false,
       "selected": false
      }
     },
     "5aec9e3d5e9547ccbd27dbe442047993": {
      "model_module": "jupyter-cytoscape",
      "model_module_version": "^1.3.3",
      "model_name": "EdgeModel",
      "state": {
       "_model_module": "jupyter-cytoscape",
       "_model_module_version": "^1.3.3",
       "_model_name": "EdgeModel",
       "_view_count": null,
       "_view_module": "jupyter-cytoscape",
       "_view_module_version": "^1.3.3",
       "_view_name": "EdgeView",
       "classes": " directed ",
       "data": {
        "source": "-3775654634878766691",
        "target": "-975327566119350670"
       },
       "pannable": true,
       "removed": false,
       "selectable": false,
       "selected": false
      }
     },
     "5bfd90ebcccc46d2ad0bb4cec1ebebab": {
      "model_module": "jupyter-cytoscape",
      "model_module_version": "^1.3.3",
      "model_name": "EdgeModel",
      "state": {
       "_model_module": "jupyter-cytoscape",
       "_model_module_version": "^1.3.3",
       "_model_name": "EdgeModel",
       "_view_count": null,
       "_view_module": "jupyter-cytoscape",
       "_view_module_version": "^1.3.3",
       "_view_name": "EdgeView",
       "classes": " directed ",
       "data": {
        "source": "6419437748365081947",
        "target": "5118316826027154421"
       },
       "pannable": true,
       "removed": false,
       "selectable": false,
       "selected": false
      }
     },
     "5ce423bf07ab40efa702744bba216611": {
      "model_module": "jupyter-cytoscape",
      "model_module_version": "^1.3.3",
      "model_name": "NodeModel",
      "state": {
       "_model_module": "jupyter-cytoscape",
       "_model_module_version": "^1.3.3",
       "_model_name": "NodeModel",
       "_view_count": null,
       "_view_module": "jupyter-cytoscape",
       "_view_module_version": "^1.3.3",
       "_view_name": "NodeView",
       "classes": "",
       "data": {
        "color": "gray",
        "id": "-1142954263604264911",
        "label": "9",
        "shape": "rectangle"
       },
       "grabbable": true,
       "grabbed": false,
       "locked": false,
       "pannable": false,
       "position": {},
       "removed": false,
       "selectable": false,
       "selected": false
      }
     },
     "5e1d7c83656b4c19a1184c743eeeabb3": {
      "model_module": "jupyter-cytoscape",
      "model_module_version": "^1.3.3",
      "model_name": "NodeModel",
      "state": {
       "_model_module": "jupyter-cytoscape",
       "_model_module_version": "^1.3.3",
       "_model_name": "NodeModel",
       "_view_count": null,
       "_view_module": "jupyter-cytoscape",
       "_view_module_version": "^1.3.3",
       "_view_name": "NodeView",
       "classes": "",
       "data": {
        "color": "gray",
        "id": "7072298953756355924",
        "label": "5",
        "shape": "rectangle"
       },
       "grabbable": true,
       "grabbed": false,
       "locked": false,
       "pannable": false,
       "position": {},
       "removed": false,
       "selectable": false,
       "selected": false
      }
     },
     "5eb22bf0d11b4fbabedffd8275ee54ba": {
      "model_module": "jupyter-cytoscape",
      "model_module_version": "^1.3.3",
      "model_name": "NodeModel",
      "state": {
       "_model_module": "jupyter-cytoscape",
       "_model_module_version": "^1.3.3",
       "_model_name": "NodeModel",
       "_view_count": null,
       "_view_module": "jupyter-cytoscape",
       "_view_module_version": "^1.3.3",
       "_view_name": "NodeView",
       "classes": "",
       "data": {
        "color": "gray",
        "id": "7247309235130152209",
        "label": "series-count-chunk",
        "shape": "ellipse"
       },
       "grabbable": true,
       "grabbed": false,
       "locked": false,
       "pannable": false,
       "position": {},
       "removed": false,
       "selectable": false,
       "selected": false
      }
     },
     "60020af7d3874fdca00327bf944c9562": {
      "model_module": "jupyter-cytoscape",
      "model_module_version": "^1.3.3",
      "model_name": "NodeModel",
      "state": {
       "_model_module": "jupyter-cytoscape",
       "_model_module_version": "^1.3.3",
       "_model_name": "NodeModel",
       "_view_count": null,
       "_view_module": "jupyter-cytoscape",
       "_view_module_version": "^1.3.3",
       "_view_name": "NodeView",
       "classes": "",
       "data": {
        "color": "gray",
        "id": "-9190580783479971505",
        "label": "9",
        "shape": "rectangle"
       },
       "grabbable": true,
       "grabbed": false,
       "locked": false,
       "pannable": false,
       "position": {},
       "removed": false,
       "selectable": false,
       "selected": false
      }
     },
     "60f35297144d41ed8970e82e5f5e91b1": {
      "model_module": "jupyter-cytoscape",
      "model_module_version": "^1.3.3",
      "model_name": "EdgeModel",
      "state": {
       "_model_module": "jupyter-cytoscape",
       "_model_module_version": "^1.3.3",
       "_model_name": "EdgeModel",
       "_view_count": null,
       "_view_module": "jupyter-cytoscape",
       "_view_module_version": "^1.3.3",
       "_view_name": "EdgeView",
       "classes": " directed ",
       "data": {
        "source": "-5492374030425821650",
        "target": "1492764528285164538"
       },
       "pannable": true,
       "removed": false,
       "selectable": false,
       "selected": false
      }
     },
     "61a1129ff5d2492ca2adff674c5c1fe5": {
      "model_module": "jupyter-cytoscape",
      "model_module_version": "^1.3.3",
      "model_name": "EdgeModel",
      "state": {
       "_model_module": "jupyter-cytoscape",
       "_model_module_version": "^1.3.3",
       "_model_name": "EdgeModel",
       "_view_count": null,
       "_view_module": "jupyter-cytoscape",
       "_view_module_version": "^1.3.3",
       "_view_name": "EdgeView",
       "classes": " directed ",
       "data": {
        "source": "-7195002994085112847",
        "target": "-2163696303039256648"
       },
       "pannable": true,
       "removed": false,
       "selectable": false,
       "selected": false
      }
     },
     "61da646330de425cb88bbac6bad4f495": {
      "model_module": "jupyter-cytoscape",
      "model_module_version": "^1.3.3",
      "model_name": "EdgeModel",
      "state": {
       "_model_module": "jupyter-cytoscape",
       "_model_module_version": "^1.3.3",
       "_model_name": "EdgeModel",
       "_view_count": null,
       "_view_module": "jupyter-cytoscape",
       "_view_module_version": "^1.3.3",
       "_view_name": "EdgeView",
       "classes": " directed ",
       "data": {
        "source": "1492764528285164538",
        "target": "1867263933538053924"
       },
       "pannable": true,
       "removed": false,
       "selectable": false,
       "selected": false
      }
     },
     "62a748653e3b4587bb71410349b2e0e3": {
      "model_module": "jupyter-cytoscape",
      "model_module_version": "^1.3.3",
      "model_name": "NodeModel",
      "state": {
       "_model_module": "jupyter-cytoscape",
       "_model_module_version": "^1.3.3",
       "_model_name": "NodeModel",
       "_view_count": null,
       "_view_module": "jupyter-cytoscape",
       "_view_module_version": "^1.3.3",
       "_view_name": "NodeView",
       "classes": "",
       "data": {
        "color": "gray",
        "id": "4109915185610210327",
        "label": "getitem",
        "shape": "ellipse"
       },
       "grabbable": true,
       "grabbed": false,
       "locked": false,
       "pannable": false,
       "position": {},
       "removed": false,
       "selectable": false,
       "selected": false
      }
     },
     "62b7b8c9cf6e4092be0785a1953eb9e9": {
      "model_module": "jupyter-cytoscape",
      "model_module_version": "^1.3.3",
      "model_name": "NodeModel",
      "state": {
       "_model_module": "jupyter-cytoscape",
       "_model_module_version": "^1.3.3",
       "_model_name": "NodeModel",
       "_view_count": null,
       "_view_module": "jupyter-cytoscape",
       "_view_module_version": "^1.3.3",
       "_view_name": "NodeView",
       "classes": "",
       "data": {
        "color": "gray",
        "id": "596058248454392267",
        "label": "moment_chunk",
        "shape": "ellipse"
       },
       "grabbable": true,
       "grabbed": false,
       "locked": false,
       "pannable": false,
       "position": {},
       "removed": false,
       "selectable": false,
       "selected": false
      }
     },
     "62f6a55e3ba744a299817b9a0829b746": {
      "model_module": "jupyter-cytoscape",
      "model_module_version": "^1.3.3",
      "model_name": "NodeModel",
      "state": {
       "_model_module": "jupyter-cytoscape",
       "_model_module_version": "^1.3.3",
       "_model_name": "NodeModel",
       "_view_count": null,
       "_view_module": "jupyter-cytoscape",
       "_view_module_version": "^1.3.3",
       "_view_name": "NodeView",
       "classes": "",
       "data": {
        "color": "gray",
        "id": "-7195002994085112847",
        "label": "0",
        "shape": "rectangle"
       },
       "grabbable": true,
       "grabbed": false,
       "locked": false,
       "pannable": false,
       "position": {},
       "removed": false,
       "selectable": false,
       "selected": false
      }
     },
     "635646fb58954635a6e777791a36e898": {
      "model_module": "jupyter-cytoscape",
      "model_module_version": "^1.3.3",
      "model_name": "EdgeModel",
      "state": {
       "_model_module": "jupyter-cytoscape",
       "_model_module_version": "^1.3.3",
       "_model_name": "EdgeModel",
       "_view_count": null,
       "_view_module": "jupyter-cytoscape",
       "_view_module_version": "^1.3.3",
       "_view_name": "EdgeView",
       "classes": " directed ",
       "data": {
        "source": "-7954616118643409181",
        "target": "-8506435153754837937"
       },
       "pannable": true,
       "removed": false,
       "selectable": false,
       "selected": false
      }
     },
     "63e285c8fbe14e9a8a5fd8c38972bbce": {
      "model_module": "jupyter-cytoscape",
      "model_module_version": "^1.3.3",
      "model_name": "NodeModel",
      "state": {
       "_model_module": "jupyter-cytoscape",
       "_model_module_version": "^1.3.3",
       "_model_name": "NodeModel",
       "_view_count": null,
       "_view_module": "jupyter-cytoscape",
       "_view_module_version": "^1.3.3",
       "_view_name": "NodeView",
       "classes": "",
       "data": {
        "color": "gray",
        "id": "-5094545201424767691",
        "label": "getitem",
        "shape": "ellipse"
       },
       "grabbable": true,
       "grabbed": false,
       "locked": false,
       "pannable": false,
       "position": {},
       "removed": false,
       "selectable": false,
       "selected": false
      }
     },
     "64dd9735328042f89c35f20ea160669e": {
      "model_module": "jupyter-cytoscape",
      "model_module_version": "^1.3.3",
      "model_name": "EdgeModel",
      "state": {
       "_model_module": "jupyter-cytoscape",
       "_model_module_version": "^1.3.3",
       "_model_name": "EdgeModel",
       "_view_count": null,
       "_view_module": "jupyter-cytoscape",
       "_view_module_version": "^1.3.3",
       "_view_name": "EdgeView",
       "classes": " directed ",
       "data": {
        "source": "969133041641252071",
        "target": "2296891433433737580"
       },
       "pannable": true,
       "removed": false,
       "selectable": false,
       "selected": false
      }
     },
     "66ef9af3da50418096c0496a86ddcf7f": {
      "model_module": "jupyter-cytoscape",
      "model_module_version": "^1.3.3",
      "model_name": "EdgeModel",
      "state": {
       "_model_module": "jupyter-cytoscape",
       "_model_module_version": "^1.3.3",
       "_model_name": "EdgeModel",
       "_view_count": null,
       "_view_module": "jupyter-cytoscape",
       "_view_module_version": "^1.3.3",
       "_view_name": "EdgeView",
       "classes": " directed ",
       "data": {
        "source": "1875203825846513713",
        "target": "7406347445675627729"
       },
       "pannable": true,
       "removed": false,
       "selectable": false,
       "selected": false
      }
     },
     "6702506a7931467cb61e1d68f254573c": {
      "model_module": "jupyter-cytoscape",
      "model_module_version": "^1.3.3",
      "model_name": "EdgeModel",
      "state": {
       "_model_module": "jupyter-cytoscape",
       "_model_module_version": "^1.3.3",
       "_model_name": "EdgeModel",
       "_view_count": null,
       "_view_module": "jupyter-cytoscape",
       "_view_module_version": "^1.3.3",
       "_view_name": "EdgeView",
       "classes": " directed ",
       "data": {
        "source": "-645433685488049988",
        "target": "-3750991364865634352"
       },
       "pannable": true,
       "removed": false,
       "selectable": false,
       "selected": false
      }
     },
     "6863b2c81c82401384609c61215460d4": {
      "model_module": "jupyter-cytoscape",
      "model_module_version": "^1.3.3",
      "model_name": "NodeModel",
      "state": {
       "_model_module": "jupyter-cytoscape",
       "_model_module_version": "^1.3.3",
       "_model_name": "NodeModel",
       "_view_count": null,
       "_view_module": "jupyter-cytoscape",
       "_view_module_version": "^1.3.3",
       "_view_name": "NodeView",
       "classes": "",
       "data": {
        "color": "gray",
        "id": "-4709526429806405716",
        "label": "inv",
        "shape": "ellipse"
       },
       "grabbable": true,
       "grabbed": false,
       "locked": false,
       "pannable": false,
       "position": {},
       "removed": false,
       "selectable": false,
       "selected": false
      }
     },
     "68a511e257d443cf87faab769b135c54": {
      "model_module": "jupyter-cytoscape",
      "model_module_version": "^1.3.3",
      "model_name": "EdgeModel",
      "state": {
       "_model_module": "jupyter-cytoscape",
       "_model_module_version": "^1.3.3",
       "_model_name": "EdgeModel",
       "_view_count": null,
       "_view_module": "jupyter-cytoscape",
       "_view_module_version": "^1.3.3",
       "_view_name": "EdgeView",
       "classes": " directed ",
       "data": {
        "source": "-7954616118643409181",
        "target": "-3775654634878766691"
       },
       "pannable": true,
       "removed": false,
       "selectable": false,
       "selected": false
      }
     },
     "68cf25da4dc34359b79326c86bb2ebd4": {
      "model_module": "jupyter-cytoscape",
      "model_module_version": "^1.3.3",
      "model_name": "NodeModel",
      "state": {
       "_model_module": "jupyter-cytoscape",
       "_model_module_version": "^1.3.3",
       "_model_name": "NodeModel",
       "_view_count": null,
       "_view_module": "jupyter-cytoscape",
       "_view_module_version": "^1.3.3",
       "_view_name": "NodeView",
       "classes": "",
       "data": {
        "color": "gray",
        "id": "2583699768770554130",
        "label": "9",
        "shape": "rectangle"
       },
       "grabbable": true,
       "grabbed": false,
       "locked": false,
       "pannable": false,
       "position": {},
       "removed": false,
       "selectable": false,
       "selected": false
      }
     },
     "6997ff857e814b19abbe63a1663bd1e7": {
      "model_module": "jupyter-cytoscape",
      "model_module_version": "^1.3.3",
      "model_name": "NodeModel",
      "state": {
       "_model_module": "jupyter-cytoscape",
       "_model_module_version": "^1.3.3",
       "_model_name": "NodeModel",
       "_view_count": null,
       "_view_module": "jupyter-cytoscape",
       "_view_module_version": "^1.3.3",
       "_view_name": "NodeView",
       "classes": "",
       "data": {
        "color": "gray",
        "id": "2638937363561853589",
        "label": "series-count-chunk",
        "shape": "ellipse"
       },
       "grabbable": true,
       "grabbed": false,
       "locked": false,
       "pannable": false,
       "position": {},
       "removed": false,
       "selectable": false,
       "selected": false
      }
     },
     "69d63df9dcda4ee9ae01bda71b6cc70f": {
      "model_module": "jupyter-cytoscape",
      "model_module_version": "^1.3.3",
      "model_name": "NodeModel",
      "state": {
       "_model_module": "jupyter-cytoscape",
       "_model_module_version": "^1.3.3",
       "_model_name": "NodeModel",
       "_view_count": null,
       "_view_module": "jupyter-cytoscape",
       "_view_module_version": "^1.3.3",
       "_view_name": "NodeView",
       "classes": "",
       "data": {
        "color": "gray",
        "id": "969133041641252071",
        "label": "7",
        "shape": "rectangle"
       },
       "grabbable": true,
       "grabbed": false,
       "locked": false,
       "pannable": false,
       "position": {},
       "removed": false,
       "selectable": false,
       "selected": false
      }
     },
     "6a201c3e7cb84072961ee529fe2d9669": {
      "model_module": "jupyter-cytoscape",
      "model_module_version": "^1.3.3",
      "model_name": "EdgeModel",
      "state": {
       "_model_module": "jupyter-cytoscape",
       "_model_module_version": "^1.3.3",
       "_model_name": "EdgeModel",
       "_view_count": null,
       "_view_module": "jupyter-cytoscape",
       "_view_module_version": "^1.3.3",
       "_view_name": "EdgeView",
       "classes": " directed ",
       "data": {
        "source": "-8745665757311998085",
        "target": "4787656273146107238"
       },
       "pannable": true,
       "removed": false,
       "selectable": false,
       "selected": false
      }
     },
     "6dbe2212153c4a46b7dcdfdc2ff210b7": {
      "model_module": "jupyter-cytoscape",
      "model_module_version": "^1.3.3",
      "model_name": "EdgeModel",
      "state": {
       "_model_module": "jupyter-cytoscape",
       "_model_module_version": "^1.3.3",
       "_model_name": "EdgeModel",
       "_view_count": null,
       "_view_module": "jupyter-cytoscape",
       "_view_module_version": "^1.3.3",
       "_view_name": "EdgeView",
       "classes": " directed ",
       "data": {
        "source": "5599053926093446069",
        "target": "-1421712943183145362"
       },
       "pannable": true,
       "removed": false,
       "selectable": false,
       "selected": false
      }
     },
     "6eab710bf39f4aadb8541db66c472a9b": {
      "model_module": "jupyter-cytoscape",
      "model_module_version": "^1.3.3",
      "model_name": "EdgeModel",
      "state": {
       "_model_module": "jupyter-cytoscape",
       "_model_module_version": "^1.3.3",
       "_model_name": "EdgeModel",
       "_view_count": null,
       "_view_module": "jupyter-cytoscape",
       "_view_module_version": "^1.3.3",
       "_view_name": "EdgeView",
       "classes": " directed ",
       "data": {
        "source": "8645997726469014506",
        "target": "-8677439657524884012"
       },
       "pannable": true,
       "removed": false,
       "selectable": false,
       "selected": false
      }
     },
     "6f568117e4dc45d681be1aa9cc07b188": {
      "model_module": "jupyter-cytoscape",
      "model_module_version": "^1.3.3",
      "model_name": "NodeModel",
      "state": {
       "_model_module": "jupyter-cytoscape",
       "_model_module_version": "^1.3.3",
       "_model_name": "NodeModel",
       "_view_count": null,
       "_view_module": "jupyter-cytoscape",
       "_view_module_version": "^1.3.3",
       "_view_name": "NodeView",
       "classes": "",
       "data": {
        "color": "gray",
        "id": "5234551277120410095",
        "label": "1",
        "shape": "rectangle"
       },
       "grabbable": true,
       "grabbed": false,
       "locked": false,
       "pannable": false,
       "position": {},
       "removed": false,
       "selectable": false,
       "selected": false
      }
     },
     "6f75496b06854d788fccc304dbf9dfe8": {
      "model_module": "jupyter-cytoscape",
      "model_module_version": "^1.3.3",
      "model_name": "NodeModel",
      "state": {
       "_model_module": "jupyter-cytoscape",
       "_model_module_version": "^1.3.3",
       "_model_name": "NodeModel",
       "_view_count": null,
       "_view_module": "jupyter-cytoscape",
       "_view_module_version": "^1.3.3",
       "_view_name": "NodeView",
       "classes": "",
       "data": {
        "color": "gray",
        "id": "2296891433433737580",
        "label": "getitem",
        "shape": "ellipse"
       },
       "grabbable": true,
       "grabbed": false,
       "locked": false,
       "pannable": false,
       "position": {},
       "removed": false,
       "selectable": false,
       "selected": false
      }
     },
     "6f884cb14eb54cf595c555f9cb0406bc": {
      "model_module": "jupyter-cytoscape",
      "model_module_version": "^1.3.3",
      "model_name": "NodeModel",
      "state": {
       "_model_module": "jupyter-cytoscape",
       "_model_module_version": "^1.3.3",
       "_model_name": "NodeModel",
       "_view_count": null,
       "_view_module": "jupyter-cytoscape",
       "_view_module_version": "^1.3.3",
       "_view_name": "NodeView",
       "classes": "",
       "data": {
        "color": "gray",
        "id": "1129967681138262677",
        "label": "inv",
        "shape": "ellipse"
       },
       "grabbable": true,
       "grabbed": false,
       "locked": false,
       "pannable": false,
       "position": {},
       "removed": false,
       "selectable": false,
       "selected": false
      }
     },
     "7230cd1159b1422180b0082907c1e877": {
      "model_module": "jupyter-cytoscape",
      "model_module_version": "^1.3.3",
      "model_name": "EdgeModel",
      "state": {
       "_model_module": "jupyter-cytoscape",
       "_model_module_version": "^1.3.3",
       "_model_name": "EdgeModel",
       "_view_count": null,
       "_view_module": "jupyter-cytoscape",
       "_view_module_version": "^1.3.3",
       "_view_name": "EdgeView",
       "classes": " directed ",
       "data": {
        "source": "-753194657295659347",
        "target": "1493625465270692"
       },
       "pannable": true,
       "removed": false,
       "selectable": false,
       "selected": false
      }
     },
     "729f27810849470d839338c95acfd66d": {
      "model_module": "jupyter-cytoscape",
      "model_module_version": "^1.3.3",
      "model_name": "EdgeModel",
      "state": {
       "_model_module": "jupyter-cytoscape",
       "_model_module_version": "^1.3.3",
       "_model_name": "EdgeModel",
       "_view_count": null,
       "_view_module": "jupyter-cytoscape",
       "_view_module_version": "^1.3.3",
       "_view_name": "EdgeView",
       "classes": " directed ",
       "data": {
        "source": "-2708583374570755581",
        "target": "-3910029575411109872"
       },
       "pannable": true,
       "removed": false,
       "selectable": false,
       "selected": false
      }
     },
     "72cd1580967842e2aa89110f3f7f784e": {
      "model_module": "jupyter-cytoscape",
      "model_module_version": "^1.3.3",
      "model_name": "NodeModel",
      "state": {
       "_model_module": "jupyter-cytoscape",
       "_model_module_version": "^1.3.3",
       "_model_name": "NodeModel",
       "_view_count": null,
       "_view_module": "jupyter-cytoscape",
       "_view_module_version": "^1.3.3",
       "_view_name": "NodeView",
       "classes": "",
       "data": {
        "color": "gray",
        "id": "8645997726469014506",
        "label": "4",
        "shape": "rectangle"
       },
       "grabbable": true,
       "grabbed": false,
       "locked": false,
       "pannable": false,
       "position": {},
       "removed": false,
       "selectable": false,
       "selected": false
      }
     },
     "7473b5df46d846909a497c5cb7af1cd3": {
      "model_module": "jupyter-cytoscape",
      "model_module_version": "^1.3.3",
      "model_name": "EdgeModel",
      "state": {
       "_model_module": "jupyter-cytoscape",
       "_model_module_version": "^1.3.3",
       "_model_name": "EdgeModel",
       "_view_count": null,
       "_view_module": "jupyter-cytoscape",
       "_view_module_version": "^1.3.3",
       "_view_name": "EdgeView",
       "classes": " directed ",
       "data": {
        "source": "2583699768770554130",
        "target": "1333726317739689018"
       },
       "pannable": true,
       "removed": false,
       "selectable": false,
       "selected": false
      }
     },
     "753a2de9446c4b0b9ac1da41e883d413": {
      "model_module": "jupyter-cytoscape",
      "model_module_version": "^1.3.3",
      "model_name": "NodeModel",
      "state": {
       "_model_module": "jupyter-cytoscape",
       "_model_module_version": "^1.3.3",
       "_model_name": "NodeModel",
       "_view_count": null,
       "_view_module": "jupyter-cytoscape",
       "_view_module_version": "^1.3.3",
       "_view_name": "NodeView",
       "classes": "",
       "data": {
        "color": "gray",
        "id": "-4866804363851197267",
        "label": "6",
        "shape": "rectangle"
       },
       "grabbable": true,
       "grabbed": false,
       "locked": false,
       "pannable": false,
       "position": {},
       "removed": false,
       "selectable": false,
       "selected": false
      }
     },
     "769da2bc69a7431687833804a3326ba9": {
      "model_module": "jupyter-cytoscape",
      "model_module_version": "^1.3.3",
      "model_name": "EdgeModel",
      "state": {
       "_model_module": "jupyter-cytoscape",
       "_model_module_version": "^1.3.3",
       "_model_name": "EdgeModel",
       "_view_count": null,
       "_view_module": "jupyter-cytoscape",
       "_view_module_version": "^1.3.3",
       "_view_name": "EdgeView",
       "classes": " directed ",
       "data": {
        "source": "2479899153016378069",
        "target": "1170717554191034702"
       },
       "pannable": true,
       "removed": false,
       "selectable": false,
       "selected": false
      }
     },
     "7886fe4e1e2b4b52a6f6180911ff6deb": {
      "model_module": "jupyter-cytoscape",
      "model_module_version": "^1.3.3",
      "model_name": "NodeModel",
      "state": {
       "_model_module": "jupyter-cytoscape",
       "_model_module_version": "^1.3.3",
       "_model_name": "NodeModel",
       "_view_count": null,
       "_view_module": "jupyter-cytoscape",
       "_view_module_version": "^1.3.3",
       "_view_name": "NodeView",
       "classes": "",
       "data": {
        "color": "gray",
        "id": "-5580436266955810788",
        "label": "2",
        "shape": "rectangle"
       },
       "grabbable": true,
       "grabbed": false,
       "locked": false,
       "pannable": false,
       "position": {},
       "removed": false,
       "selectable": false,
       "selected": false
      }
     },
     "79057153c0cd4a66bfbf2fdc73c3bbbb": {
      "model_module": "jupyter-cytoscape",
      "model_module_version": "^1.3.3",
      "model_name": "NodeModel",
      "state": {
       "_model_module": "jupyter-cytoscape",
       "_model_module_version": "^1.3.3",
       "_model_name": "NodeModel",
       "_view_count": null,
       "_view_module": "jupyter-cytoscape",
       "_view_module_version": "^1.3.3",
       "_view_name": "NodeView",
       "classes": "",
       "data": {
        "color": "gray",
        "id": "-3262679260604039047",
        "label": "series-sum-chunk",
        "shape": "ellipse"
       },
       "grabbable": true,
       "grabbed": false,
       "locked": false,
       "pannable": false,
       "position": {},
       "removed": false,
       "selectable": false,
       "selected": false
      }
     },
     "79303e73b4b84104ae6ed9937b92f57d": {
      "model_module": "jupyter-cytoscape",
      "model_module_version": "^1.3.3",
      "model_name": "EdgeModel",
      "state": {
       "_model_module": "jupyter-cytoscape",
       "_model_module_version": "^1.3.3",
       "_model_name": "EdgeModel",
       "_view_count": null,
       "_view_module": "jupyter-cytoscape",
       "_view_module_version": "^1.3.3",
       "_view_name": "EdgeView",
       "classes": " directed ",
       "data": {
        "source": "6975172233324997474",
        "target": "-1273089478981588330"
       },
       "pannable": true,
       "removed": false,
       "selectable": false,
       "selected": false
      }
     },
     "7b9b8d6aa83446389a9183c4a0b553f5": {
      "model_module": "jupyter-cytoscape",
      "model_module_version": "^1.3.3",
      "model_name": "NodeModel",
      "state": {
       "_model_module": "jupyter-cytoscape",
       "_model_module_version": "^1.3.3",
       "_model_name": "NodeModel",
       "_view_count": null,
       "_view_module": "jupyter-cytoscape",
       "_view_module_version": "^1.3.3",
       "_view_name": "NodeView",
       "classes": "",
       "data": {
        "color": "gray",
        "id": "8316103845837713824",
        "label": "4",
        "shape": "rectangle"
       },
       "grabbable": true,
       "grabbed": false,
       "locked": false,
       "pannable": false,
       "position": {},
       "removed": false,
       "selectable": false,
       "selected": false
      }
     },
     "7bd57151c9fa4c9e809bb8fe2bb14838": {
      "model_module": "jupyter-cytoscape",
      "model_module_version": "^1.3.3",
      "model_name": "NodeModel",
      "state": {
       "_model_module": "jupyter-cytoscape",
       "_model_module_version": "^1.3.3",
       "_model_name": "NodeModel",
       "_view_count": null,
       "_view_module": "jupyter-cytoscape",
       "_view_module_version": "^1.3.3",
       "_view_name": "NodeView",
       "classes": "",
       "data": {
        "color": "gray",
        "id": "-3736961712941930941",
        "label": "values",
        "shape": "ellipse"
       },
       "grabbable": true,
       "grabbed": false,
       "locked": false,
       "pannable": false,
       "position": {},
       "removed": false,
       "selectable": false,
       "selected": false
      }
     },
     "7bfb7ed2e6cb4029b23f4a4a875e4fd0": {
      "model_module": "jupyter-cytoscape",
      "model_module_version": "^1.3.3",
      "model_name": "EdgeModel",
      "state": {
       "_model_module": "jupyter-cytoscape",
       "_model_module_version": "^1.3.3",
       "_model_name": "EdgeModel",
       "_view_count": null,
       "_view_module": "jupyter-cytoscape",
       "_view_module_version": "^1.3.3",
       "_view_name": "EdgeView",
       "classes": " directed ",
       "data": {
        "source": "-1915387010511216957",
        "target": "557365326517556517"
       },
       "pannable": true,
       "removed": false,
       "selectable": false,
       "selected": false
      }
     },
     "7cb09729925641658526c5fb97bdc775": {
      "model_module": "jupyter-cytoscape",
      "model_module_version": "^1.3.3",
      "model_name": "NodeModel",
      "state": {
       "_model_module": "jupyter-cytoscape",
       "_model_module_version": "^1.3.3",
       "_model_name": "NodeModel",
       "_view_count": null,
       "_view_module": "jupyter-cytoscape",
       "_view_module_version": "^1.3.3",
       "_view_name": "NodeView",
       "classes": "",
       "data": {
        "color": "gray",
        "id": "-753194657295659347",
        "label": "series-count-chunk",
        "shape": "ellipse"
       },
       "grabbable": true,
       "grabbed": false,
       "locked": false,
       "pannable": false,
       "position": {},
       "removed": false,
       "selectable": false,
       "selected": false
      }
     },
     "7e65c17074404bcdb9dce3a7c515e7ce": {
      "model_module": "jupyter-cytoscape",
      "model_module_version": "^1.3.3",
      "model_name": "NodeModel",
      "state": {
       "_model_module": "jupyter-cytoscape",
       "_model_module_version": "^1.3.3",
       "_model_name": "NodeModel",
       "_view_count": null,
       "_view_module": "jupyter-cytoscape",
       "_view_module_version": "^1.3.3",
       "_view_name": "NodeView",
       "classes": "",
       "data": {
        "color": "gray",
        "id": "-3775654634878766691",
        "label": "values",
        "shape": "ellipse"
       },
       "grabbable": true,
       "grabbed": false,
       "locked": false,
       "pannable": false,
       "position": {},
       "removed": false,
       "selectable": false,
       "selected": false
      }
     },
     "7e6e44256bca47c292d4932defb42107": {
      "model_module": "jupyter-cytoscape",
      "model_module_version": "^1.3.3",
      "model_name": "EdgeModel",
      "state": {
       "_model_module": "jupyter-cytoscape",
       "_model_module_version": "^1.3.3",
       "_model_name": "EdgeModel",
       "_view_count": null,
       "_view_module": "jupyter-cytoscape",
       "_view_module_version": "^1.3.3",
       "_view_name": "EdgeView",
       "classes": " directed ",
       "data": {
        "source": "-4992513829734551955",
        "target": "4894567654437967058"
       },
       "pannable": true,
       "removed": false,
       "selectable": false,
       "selected": false
      }
     },
     "7f1664f80fd84e5eac3b170dba9f8367": {
      "model_module": "jupyter-cytoscape",
      "model_module_version": "^1.3.3",
      "model_name": "EdgeModel",
      "state": {
       "_model_module": "jupyter-cytoscape",
       "_model_module_version": "^1.3.3",
       "_model_name": "EdgeModel",
       "_view_count": null,
       "_view_module": "jupyter-cytoscape",
       "_view_module_version": "^1.3.3",
       "_view_name": "EdgeView",
       "classes": " directed ",
       "data": {
        "source": "5965231749786564977",
        "target": "1875203825846513713"
       },
       "pannable": true,
       "removed": false,
       "selectable": false,
       "selected": false
      }
     },
     "7f1d5d32e3c14e34b3e09ac6c8ecb829": {
      "model_module": "jupyter-cytoscape",
      "model_module_version": "^1.3.3",
      "model_name": "EdgeModel",
      "state": {
       "_model_module": "jupyter-cytoscape",
       "_model_module_version": "^1.3.3",
       "_model_name": "EdgeModel",
       "_view_count": null,
       "_view_module": "jupyter-cytoscape",
       "_view_module_version": "^1.3.3",
       "_view_name": "EdgeView",
       "classes": " directed ",
       "data": {
        "source": "-3471152893838180491",
        "target": "5965231749786564977"
       },
       "pannable": true,
       "removed": false,
       "selectable": false,
       "selected": false
      }
     },
     "7fb9857d6d804fbf822406032d733191": {
      "model_module": "jupyter-cytoscape",
      "model_module_version": "^1.3.3",
      "model_name": "NodeModel",
      "state": {
       "_model_module": "jupyter-cytoscape",
       "_model_module_version": "^1.3.3",
       "_model_name": "NodeModel",
       "_view_count": null,
       "_view_module": "jupyter-cytoscape",
       "_view_module_version": "^1.3.3",
       "_view_name": "NodeView",
       "classes": "",
       "data": {
        "color": "gray",
        "id": "-4478001879278538834",
        "label": "moment_chunk",
        "shape": "ellipse"
       },
       "grabbable": true,
       "grabbed": false,
       "locked": false,
       "pannable": false,
       "position": {},
       "removed": false,
       "selectable": false,
       "selected": false
      }
     },
     "8009c6415ad64c65bccf22fc26553d47": {
      "model_module": "jupyter-cytoscape",
      "model_module_version": "^1.3.3",
      "model_name": "EdgeModel",
      "state": {
       "_model_module": "jupyter-cytoscape",
       "_model_module_version": "^1.3.3",
       "_model_name": "EdgeModel",
       "_view_count": null,
       "_view_module": "jupyter-cytoscape",
       "_view_module_version": "^1.3.3",
       "_view_name": "EdgeView",
       "classes": " directed ",
       "data": {
        "source": "-3750991364865634352",
        "target": "-1856586166708878432"
       },
       "pannable": true,
       "removed": false,
       "selectable": false,
       "selected": false
      }
     },
     "80854bbe86e14bd09f7a6b8ef6866ee8": {
      "model_module": "jupyter-cytoscape",
      "model_module_version": "^1.3.3",
      "model_name": "EdgeModel",
      "state": {
       "_model_module": "jupyter-cytoscape",
       "_model_module_version": "^1.3.3",
       "_model_name": "EdgeModel",
       "_view_count": null,
       "_view_module": "jupyter-cytoscape",
       "_view_module_version": "^1.3.3",
       "_view_name": "EdgeView",
       "classes": " directed ",
       "data": {
        "source": "-8590654464098129623",
        "target": "6373723574289061567"
       },
       "pannable": true,
       "removed": false,
       "selectable": false,
       "selected": false
      }
     },
     "80a107d0a73741f28321f252f97c2d31": {
      "model_module": "jupyter-cytoscape",
      "model_module_version": "^1.3.3",
      "model_name": "EdgeModel",
      "state": {
       "_model_module": "jupyter-cytoscape",
       "_model_module_version": "^1.3.3",
       "_model_name": "EdgeModel",
       "_view_count": null,
       "_view_module": "jupyter-cytoscape",
       "_view_module_version": "^1.3.3",
       "_view_name": "EdgeView",
       "classes": " directed ",
       "data": {
        "source": "-2280770903502057702",
        "target": "-5492374030425821650"
       },
       "pannable": true,
       "removed": false,
       "selectable": false,
       "selected": false
      }
     },
     "80a4ddbbd9cb40bea034e9deff28cd25": {
      "model_module": "jupyter-cytoscape",
      "model_module_version": "^1.3.3",
      "model_name": "NodeModel",
      "state": {
       "_model_module": "jupyter-cytoscape",
       "_model_module_version": "^1.3.3",
       "_model_name": "NodeModel",
       "_view_count": null,
       "_view_module": "jupyter-cytoscape",
       "_view_module_version": "^1.3.3",
       "_view_name": "NodeView",
       "classes": "",
       "data": {
        "color": "gray",
        "id": "-2959744336396459391",
        "label": "getitem",
        "shape": "ellipse"
       },
       "grabbable": true,
       "grabbed": false,
       "locked": false,
       "pannable": false,
       "position": {},
       "removed": false,
       "selectable": false,
       "selected": false
      }
     },
     "81452cfb23bb48348df00af18089edbf": {
      "model_module": "jupyter-cytoscape",
      "model_module_version": "^1.3.3",
      "model_name": "EdgeModel",
      "state": {
       "_model_module": "jupyter-cytoscape",
       "_model_module_version": "^1.3.3",
       "_model_name": "EdgeModel",
       "_view_count": null,
       "_view_module": "jupyter-cytoscape",
       "_view_module_version": "^1.3.3",
       "_view_name": "EdgeView",
       "classes": " directed ",
       "data": {
        "source": "-9040029826256245684",
        "target": "-9123840047369173191"
       },
       "pannable": true,
       "removed": false,
       "selectable": false,
       "selected": false
      }
     },
     "823b8d22a03045ba84470e695eb2fc57": {
      "model_module": "jupyter-cytoscape",
      "model_module_version": "^1.3.3",
      "model_name": "EdgeModel",
      "state": {
       "_model_module": "jupyter-cytoscape",
       "_model_module_version": "^1.3.3",
       "_model_name": "EdgeModel",
       "_view_count": null,
       "_view_module": "jupyter-cytoscape",
       "_view_module_version": "^1.3.3",
       "_view_name": "EdgeView",
       "classes": " directed ",
       "data": {
        "source": "596058248454392267",
        "target": "-4892268065022749394"
       },
       "pannable": true,
       "removed": false,
       "selectable": false,
       "selected": false
      }
     },
     "82660ad89b344e04b2c6bcc8902f6708": {
      "model_module": "jupyter-cytoscape",
      "model_module_version": "^1.3.3",
      "model_name": "NodeModel",
      "state": {
       "_model_module": "jupyter-cytoscape",
       "_model_module_version": "^1.3.3",
       "_model_name": "NodeModel",
       "_view_count": null,
       "_view_module": "jupyter-cytoscape",
       "_view_module_version": "^1.3.3",
       "_view_name": "NodeView",
       "classes": "",
       "data": {
        "color": "gray",
        "id": "5529985243745774996",
        "label": "getitem",
        "shape": "ellipse"
       },
       "grabbable": true,
       "grabbed": false,
       "locked": false,
       "pannable": false,
       "position": {},
       "removed": false,
       "selectable": false,
       "selected": false
      }
     },
     "82678133d696427e87d36fd6365205b6": {
      "model_module": "jupyter-cytoscape",
      "model_module_version": "^1.3.3",
      "model_name": "EdgeModel",
      "state": {
       "_model_module": "jupyter-cytoscape",
       "_model_module_version": "^1.3.3",
       "_model_name": "EdgeModel",
       "_view_count": null,
       "_view_module": "jupyter-cytoscape",
       "_view_module_version": "^1.3.3",
       "_view_name": "EdgeView",
       "classes": " directed ",
       "data": {
        "source": "2184490654401940785",
        "target": "-8288946089799969357"
       },
       "pannable": true,
       "removed": false,
       "selectable": false,
       "selected": false
      }
     },
     "8293542c128a43489298535a929d5730": {
      "model_module": "jupyter-cytoscape",
      "model_module_version": "^1.3.3",
      "model_name": "EdgeModel",
      "state": {
       "_model_module": "jupyter-cytoscape",
       "_model_module_version": "^1.3.3",
       "_model_name": "EdgeModel",
       "_view_count": null,
       "_view_module": "jupyter-cytoscape",
       "_view_module_version": "^1.3.3",
       "_view_name": "EdgeView",
       "classes": " directed ",
       "data": {
        "source": "-4478001879278538834",
        "target": "-8845282649603579473"
       },
       "pannable": true,
       "removed": false,
       "selectable": false,
       "selected": false
      }
     },
     "82d8fd67ad094f13a7b8c1a8ded28222": {
      "model_module": "jupyter-cytoscape",
      "model_module_version": "^1.3.3",
      "model_name": "NodeModel",
      "state": {
       "_model_module": "jupyter-cytoscape",
       "_model_module_version": "^1.3.3",
       "_model_name": "NodeModel",
       "_view_count": null,
       "_view_module": "jupyter-cytoscape",
       "_view_module_version": "^1.3.3",
       "_view_name": "NodeView",
       "classes": "",
       "data": {
        "color": "gray",
        "id": "-8328653701801429634",
        "label": "read-csv",
        "shape": "ellipse"
       },
       "grabbable": true,
       "grabbed": false,
       "locked": false,
       "pannable": false,
       "position": {},
       "removed": false,
       "selectable": false,
       "selected": false
      }
     },
     "833fc72598a74871a983c67c7d146f88": {
      "model_module": "jupyter-cytoscape",
      "model_module_version": "^1.3.3",
      "model_name": "NodeModel",
      "state": {
       "_model_module": "jupyter-cytoscape",
       "_model_module_version": "^1.3.3",
       "_model_name": "NodeModel",
       "_view_count": null,
       "_view_module": "jupyter-cytoscape",
       "_view_module_version": "^1.3.3",
       "_view_name": "NodeView",
       "classes": "",
       "data": {
        "color": "gray",
        "id": "-2637035561857645149",
        "label": "moment_chunk",
        "shape": "ellipse"
       },
       "grabbable": true,
       "grabbed": false,
       "locked": false,
       "pannable": false,
       "position": {},
       "removed": false,
       "selectable": false,
       "selected": false
      }
     },
     "84c001febe6f41b5a8ecf3af587e0f25": {
      "model_module": "jupyter-cytoscape",
      "model_module_version": "^1.3.3",
      "model_name": "EdgeModel",
      "state": {
       "_model_module": "jupyter-cytoscape",
       "_model_module_version": "^1.3.3",
       "_model_name": "EdgeModel",
       "_view_count": null,
       "_view_module": "jupyter-cytoscape",
       "_view_module_version": "^1.3.3",
       "_view_name": "EdgeView",
       "classes": " directed ",
       "data": {
        "source": "-3910029575411109872",
        "target": "-6749660195681574798"
       },
       "pannable": true,
       "removed": false,
       "selectable": false,
       "selected": false
      }
     },
     "84d35bc1d3374e2284065978d12fa95a": {
      "model_module": "jupyter-cytoscape",
      "model_module_version": "^1.3.3",
      "model_name": "NodeModel",
      "state": {
       "_model_module": "jupyter-cytoscape",
       "_model_module_version": "^1.3.3",
       "_model_name": "NodeModel",
       "_view_count": null,
       "_view_module": "jupyter-cytoscape",
       "_view_module_version": "^1.3.3",
       "_view_name": "NodeView",
       "classes": "",
       "data": {
        "color": "gray",
        "id": "2140963567373774275",
        "label": "0",
        "shape": "rectangle"
       },
       "grabbable": true,
       "grabbed": false,
       "locked": false,
       "pannable": false,
       "position": {},
       "removed": false,
       "selectable": false,
       "selected": false
      }
     },
     "84e4a1a39de246d495975157b42f42b8": {
      "model_module": "jupyter-cytoscape",
      "model_module_version": "^1.3.3",
      "model_name": "EdgeModel",
      "state": {
       "_model_module": "jupyter-cytoscape",
       "_model_module_version": "^1.3.3",
       "_model_name": "EdgeModel",
       "_view_count": null,
       "_view_module": "jupyter-cytoscape",
       "_view_module_version": "^1.3.3",
       "_view_name": "EdgeView",
       "classes": " directed ",
       "data": {
        "source": "-3952208620630883107",
        "target": "5280454132196232743"
       },
       "pannable": true,
       "removed": false,
       "selectable": false,
       "selected": false
      }
     },
     "85667fb9a0d44c22a7423e2a8aba57f7": {
      "model_module": "jupyter-cytoscape",
      "model_module_version": "^1.3.3",
      "model_name": "EdgeModel",
      "state": {
       "_model_module": "jupyter-cytoscape",
       "_model_module_version": "^1.3.3",
       "_model_name": "EdgeModel",
       "_view_count": null,
       "_view_module": "jupyter-cytoscape",
       "_view_module_version": "^1.3.3",
       "_view_name": "EdgeView",
       "classes": " directed ",
       "data": {
        "source": "1015266725676176775",
        "target": "1333726317739689018"
       },
       "pannable": true,
       "removed": false,
       "selectable": false,
       "selected": false
      }
     },
     "864c968f4e0f45fc852b1fc36a74c9f4": {
      "model_module": "jupyter-cytoscape",
      "model_module_version": "^1.3.3",
      "model_name": "NodeModel",
      "state": {
       "_model_module": "jupyter-cytoscape",
       "_model_module_version": "^1.3.3",
       "_model_name": "NodeModel",
       "_view_count": null,
       "_view_module": "jupyter-cytoscape",
       "_view_module_version": "^1.3.3",
       "_view_name": "NodeView",
       "classes": "",
       "data": {
        "color": "gray",
        "id": "-1856586166708878432",
        "label": "5",
        "shape": "rectangle"
       },
       "grabbable": true,
       "grabbed": false,
       "locked": false,
       "pannable": false,
       "position": {},
       "removed": false,
       "selectable": false,
       "selected": false
      }
     },
     "876c3d774bb84948bda679f21f155717": {
      "model_module": "jupyter-cytoscape",
      "model_module_version": "^1.3.3",
      "model_name": "NodeModel",
      "state": {
       "_model_module": "jupyter-cytoscape",
       "_model_module_version": "^1.3.3",
       "_model_name": "NodeModel",
       "_view_count": null,
       "_view_module": "jupyter-cytoscape",
       "_view_module_version": "^1.3.3",
       "_view_name": "NodeView",
       "classes": "",
       "data": {
        "color": "gray",
        "id": "-710998636282631008",
        "label": "inv",
        "shape": "ellipse"
       },
       "grabbable": true,
       "grabbed": false,
       "locked": false,
       "pannable": false,
       "position": {},
       "removed": false,
       "selectable": false,
       "selected": false
      }
     },
     "87b2adb56662429991c298aaa4bc0fb3": {
      "model_module": "jupyter-cytoscape",
      "model_module_version": "^1.3.3",
      "model_name": "EdgeModel",
      "state": {
       "_model_module": "jupyter-cytoscape",
       "_model_module_version": "^1.3.3",
       "_model_name": "EdgeModel",
       "_view_count": null,
       "_view_module": "jupyter-cytoscape",
       "_view_module_version": "^1.3.3",
       "_view_name": "EdgeView",
       "classes": " directed ",
       "data": {
        "source": "-4709526429806405716",
        "target": "7476773797743250496"
       },
       "pannable": true,
       "removed": false,
       "selectable": false,
       "selected": false
      }
     },
     "886d6e52b0084b40a95d9138f025f860": {
      "model_module": "jupyter-cytoscape",
      "model_module_version": "^1.3.3",
      "model_name": "NodeModel",
      "state": {
       "_model_module": "jupyter-cytoscape",
       "_model_module_version": "^1.3.3",
       "_model_name": "NodeModel",
       "_view_count": null,
       "_view_module": "jupyter-cytoscape",
       "_view_module_version": "^1.3.3",
       "_view_name": "NodeView",
       "classes": "",
       "data": {
        "color": "gray",
        "id": "5207735522976017808",
        "label": "0",
        "shape": "rectangle"
       },
       "grabbable": true,
       "grabbed": false,
       "locked": false,
       "pannable": false,
       "position": {},
       "removed": false,
       "selectable": false,
       "selected": false
      }
     },
     "8888f6c5ff0547bb92b928ee2a5996af": {
      "model_module": "jupyter-cytoscape",
      "model_module_version": "^1.3.3",
      "model_name": "EdgeModel",
      "state": {
       "_model_module": "jupyter-cytoscape",
       "_model_module_version": "^1.3.3",
       "_model_name": "EdgeModel",
       "_view_count": null,
       "_view_module": "jupyter-cytoscape",
       "_view_module_version": "^1.3.3",
       "_view_name": "EdgeView",
       "classes": " directed ",
       "data": {
        "source": "-687362237983114422",
        "target": "1197821667672790837"
       },
       "pannable": true,
       "removed": false,
       "selectable": false,
       "selected": false
      }
     },
     "889718f5e49f42948ce8be76cabe800e": {
      "model_module": "jupyter-cytoscape",
      "model_module_version": "^1.3.3",
      "model_name": "EdgeModel",
      "state": {
       "_model_module": "jupyter-cytoscape",
       "_model_module_version": "^1.3.3",
       "_model_name": "EdgeModel",
       "_view_count": null,
       "_view_module": "jupyter-cytoscape",
       "_view_module_version": "^1.3.3",
       "_view_name": "EdgeView",
       "classes": " directed ",
       "data": {
        "source": "4490561235855139543",
        "target": "3725343725712203048"
       },
       "pannable": true,
       "removed": false,
       "selectable": false,
       "selected": false
      }
     },
     "893b1c57084544589ca9b212d1636e48": {
      "model_module": "jupyter-cytoscape",
      "model_module_version": "^1.3.3",
      "model_name": "NodeModel",
      "state": {
       "_model_module": "jupyter-cytoscape",
       "_model_module_version": "^1.3.3",
       "_model_name": "NodeModel",
       "_view_count": null,
       "_view_module": "jupyter-cytoscape",
       "_view_module_version": "^1.3.3",
       "_view_name": "NodeView",
       "classes": "",
       "data": {
        "color": "gray",
        "id": "523790243237714022",
        "label": "1",
        "shape": "rectangle"
       },
       "grabbable": true,
       "grabbed": false,
       "locked": false,
       "pannable": false,
       "position": {},
       "removed": false,
       "selectable": false,
       "selected": false
      }
     },
     "89aefcd5530640c1bc86027f812b1d8f": {
      "model_module": "jupyter-cytoscape",
      "model_module_version": "^1.3.3",
      "model_name": "NodeModel",
      "state": {
       "_model_module": "jupyter-cytoscape",
       "_model_module_version": "^1.3.3",
       "_model_name": "NodeModel",
       "_view_count": null,
       "_view_module": "jupyter-cytoscape",
       "_view_module_version": "^1.3.3",
       "_view_name": "NodeView",
       "classes": "",
       "data": {
        "color": "gray",
        "id": "5537724665293057018",
        "label": "values",
        "shape": "ellipse"
       },
       "grabbable": true,
       "grabbed": false,
       "locked": false,
       "pannable": false,
       "position": {},
       "removed": false,
       "selectable": false,
       "selected": false
      }
     },
     "89ee0ba0847a4c31abb1196867e9c520": {
      "model_module": "jupyter-cytoscape",
      "model_module_version": "^1.3.3",
      "model_name": "NodeModel",
      "state": {
       "_model_module": "jupyter-cytoscape",
       "_model_module_version": "^1.3.3",
       "_model_name": "NodeModel",
       "_view_count": null,
       "_view_module": "jupyter-cytoscape",
       "_view_module_version": "^1.3.3",
       "_view_name": "NodeView",
       "classes": "",
       "data": {
        "color": "gray",
        "id": "5965231749786564977",
        "label": "getitem",
        "shape": "ellipse"
       },
       "grabbable": true,
       "grabbed": false,
       "locked": false,
       "pannable": false,
       "position": {},
       "removed": false,
       "selectable": false,
       "selected": false
      }
     },
     "8b798b2f97d147dea9cd2e8d21c1f2da": {
      "model_module": "jupyter-cytoscape",
      "model_module_version": "^1.3.3",
      "model_name": "NodeModel",
      "state": {
       "_model_module": "jupyter-cytoscape",
       "_model_module_version": "^1.3.3",
       "_model_name": "NodeModel",
       "_view_count": null,
       "_view_module": "jupyter-cytoscape",
       "_view_module_version": "^1.3.3",
       "_view_name": "NodeView",
       "classes": "",
       "data": {
        "color": "gray",
        "id": "7719737516890123059",
        "label": "read-csv",
        "shape": "ellipse"
       },
       "grabbable": true,
       "grabbed": false,
       "locked": false,
       "pannable": false,
       "position": {},
       "removed": false,
       "selectable": false,
       "selected": false
      }
     },
     "8baea921d5d64af8be1b62f6cae27668": {
      "model_module": "jupyter-cytoscape",
      "model_module_version": "^1.3.3",
      "model_name": "EdgeModel",
      "state": {
       "_model_module": "jupyter-cytoscape",
       "_model_module_version": "^1.3.3",
       "_model_name": "EdgeModel",
       "_view_count": null,
       "_view_module": "jupyter-cytoscape",
       "_view_module_version": "^1.3.3",
       "_view_name": "EdgeView",
       "classes": " directed ",
       "data": {
        "source": "-3153926172974293630",
        "target": "7332258639229832931"
       },
       "pannable": true,
       "removed": false,
       "selectable": false,
       "selected": false
      }
     },
     "8bb404bf7ccd4fe8b4e3c4f6870e9978": {
      "model_module": "jupyter-cytoscape",
      "model_module_version": "^1.3.3",
      "model_name": "EdgeModel",
      "state": {
       "_model_module": "jupyter-cytoscape",
       "_model_module_version": "^1.3.3",
       "_model_name": "EdgeModel",
       "_view_count": null,
       "_view_module": "jupyter-cytoscape",
       "_view_module_version": "^1.3.3",
       "_view_name": "EdgeView",
       "classes": " directed ",
       "data": {
        "source": "-4369283785734982344",
        "target": "-6836473340103990327"
       },
       "pannable": true,
       "removed": false,
       "selectable": false,
       "selected": false
      }
     },
     "8bea29b935344c13b6b82dfaee7a7043": {
      "model_module": "jupyter-cytoscape",
      "model_module_version": "^1.3.3",
      "model_name": "NodeModel",
      "state": {
       "_model_module": "jupyter-cytoscape",
       "_model_module_version": "^1.3.3",
       "_model_name": "NodeModel",
       "_view_count": null,
       "_view_module": "jupyter-cytoscape",
       "_view_module_version": "^1.3.3",
       "_view_name": "NodeView",
       "classes": "",
       "data": {
        "color": "gray",
        "id": "5280454132196232743",
        "label": "moment_combine-partial",
        "shape": "ellipse"
       },
       "grabbable": true,
       "grabbed": false,
       "locked": false,
       "pannable": false,
       "position": {},
       "removed": false,
       "selectable": false,
       "selected": false
      }
     },
     "8c13a5d899f840d496897eedbde6c2d9": {
      "model_module": "jupyter-cytoscape",
      "model_module_version": "^1.3.3",
      "model_name": "EdgeModel",
      "state": {
       "_model_module": "jupyter-cytoscape",
       "_model_module_version": "^1.3.3",
       "_model_name": "EdgeModel",
       "_view_count": null,
       "_view_module": "jupyter-cytoscape",
       "_view_module_version": "^1.3.3",
       "_view_name": "EdgeView",
       "classes": " directed ",
       "data": {
        "source": "7213620653222748128",
        "target": "-3262679260604039047"
       },
       "pannable": true,
       "removed": false,
       "selectable": false,
       "selected": false
      }
     },
     "8d38093013ef4cfb834baec60bde27df": {
      "model_module": "jupyter-cytoscape",
      "model_module_version": "^1.3.3",
      "model_name": "EdgeModel",
      "state": {
       "_model_module": "jupyter-cytoscape",
       "_model_module_version": "^1.3.3",
       "_model_name": "EdgeModel",
       "_view_count": null,
       "_view_module": "jupyter-cytoscape",
       "_view_module_version": "^1.3.3",
       "_view_name": "EdgeView",
       "classes": " directed ",
       "data": {
        "source": "1015266725676176775",
        "target": "7551397683276951282"
       },
       "pannable": true,
       "removed": false,
       "selectable": false,
       "selected": false
      }
     },
     "8dc8bdc90d3e4c5cb16c5d46608910dc": {
      "model_module": "jupyter-cytoscape",
      "model_module_version": "^1.3.3",
      "model_name": "NodeModel",
      "state": {
       "_model_module": "jupyter-cytoscape",
       "_model_module_version": "^1.3.3",
       "_model_name": "NodeModel",
       "_view_count": null,
       "_view_module": "jupyter-cytoscape",
       "_view_module_version": "^1.3.3",
       "_view_name": "NodeView",
       "classes": "",
       "data": {
        "color": "gray",
        "id": "5862207070613948437",
        "label": "6",
        "shape": "rectangle"
       },
       "grabbable": true,
       "grabbed": false,
       "locked": false,
       "pannable": false,
       "position": {},
       "removed": false,
       "selectable": false,
       "selected": false
      }
     },
     "8df26ea8cb5e48a78811bee53f779dcb": {
      "model_module": "jupyter-cytoscape",
      "model_module_version": "^1.3.3",
      "model_name": "NodeModel",
      "state": {
       "_model_module": "jupyter-cytoscape",
       "_model_module_version": "^1.3.3",
       "_model_name": "NodeModel",
       "_view_count": null,
       "_view_module": "jupyter-cytoscape",
       "_view_module_version": "^1.3.3",
       "_view_name": "NodeView",
       "classes": "",
       "data": {
        "color": "gray",
        "id": "5700989747515821071",
        "label": "series-sum-chunk",
        "shape": "ellipse"
       },
       "grabbable": true,
       "grabbed": false,
       "locked": false,
       "pannable": false,
       "position": {},
       "removed": false,
       "selectable": false,
       "selected": false
      }
     },
     "8ea7dec22893433fb6ef41df885f4b42": {
      "model_module": "jupyter-cytoscape",
      "model_module_version": "^1.3.3",
      "model_name": "NodeModel",
      "state": {
       "_model_module": "jupyter-cytoscape",
       "_model_module_version": "^1.3.3",
       "_model_name": "NodeModel",
       "_view_count": null,
       "_view_module": "jupyter-cytoscape",
       "_view_module_version": "^1.3.3",
       "_view_name": "NodeView",
       "classes": "",
       "data": {
        "color": "gray",
        "id": "8382844581948512138",
        "label": "4",
        "shape": "rectangle"
       },
       "grabbable": true,
       "grabbed": false,
       "locked": false,
       "pannable": false,
       "position": {},
       "removed": false,
       "selectable": false,
       "selected": false
      }
     },
     "8ed1b73125614f909c9416650d0fddf8": {
      "model_module": "jupyter-cytoscape",
      "model_module_version": "^1.3.3",
      "model_name": "EdgeModel",
      "state": {
       "_model_module": "jupyter-cytoscape",
       "_model_module_version": "^1.3.3",
       "_model_name": "EdgeModel",
       "_view_count": null,
       "_view_module": "jupyter-cytoscape",
       "_view_module_version": "^1.3.3",
       "_view_name": "EdgeView",
       "classes": " directed ",
       "data": {
        "source": "-9123840047369173191",
        "target": "1174371044317164831"
       },
       "pannable": true,
       "removed": false,
       "selectable": false,
       "selected": false
      }
     },
     "8fc316cfdd804a21a5dce12827e8f85f": {
      "model_module": "jupyter-cytoscape",
      "model_module_version": "^1.3.3",
      "model_name": "EdgeModel",
      "state": {
       "_model_module": "jupyter-cytoscape",
       "_model_module_version": "^1.3.3",
       "_model_name": "EdgeModel",
       "_view_count": null,
       "_view_module": "jupyter-cytoscape",
       "_view_module_version": "^1.3.3",
       "_view_name": "EdgeView",
       "classes": " directed ",
       "data": {
        "source": "5599053926093446069",
        "target": "-3736961712941930941"
       },
       "pannable": true,
       "removed": false,
       "selectable": false,
       "selected": false
      }
     },
     "8fdbc56436364cc1acb19d51dc2d61f3": {
      "model_module": "jupyter-cytoscape",
      "model_module_version": "^1.3.3",
      "model_name": "NodeModel",
      "state": {
       "_model_module": "jupyter-cytoscape",
       "_model_module_version": "^1.3.3",
       "_model_name": "NodeModel",
       "_view_count": null,
       "_view_module": "jupyter-cytoscape",
       "_view_module_version": "^1.3.3",
       "_view_name": "NodeView",
       "classes": "",
       "data": {
        "color": "gray",
        "id": "1197821667672790837",
        "label": "getitem",
        "shape": "ellipse"
       },
       "grabbable": true,
       "grabbed": false,
       "locked": false,
       "pannable": false,
       "position": {},
       "removed": false,
       "selectable": false,
       "selected": false
      }
     },
     "91265cc6e24b404da887acbcbd46ad32": {
      "model_module": "jupyter-cytoscape",
      "model_module_version": "^1.3.3",
      "model_name": "EdgeModel",
      "state": {
       "_model_module": "jupyter-cytoscape",
       "_model_module_version": "^1.3.3",
       "_model_name": "EdgeModel",
       "_view_count": null,
       "_view_module": "jupyter-cytoscape",
       "_view_module_version": "^1.3.3",
       "_view_name": "EdgeView",
       "classes": " directed ",
       "data": {
        "source": "-3025810095434642442",
        "target": "-9040029826256245684"
       },
       "pannable": true,
       "removed": false,
       "selectable": false,
       "selected": false
      }
     },
     "9152787ad56e4579b15dbbf4e3205e9b": {
      "model_module": "jupyter-cytoscape",
      "model_module_version": "^1.3.3",
      "model_name": "NodeModel",
      "state": {
       "_model_module": "jupyter-cytoscape",
       "_model_module_version": "^1.3.3",
       "_model_name": "NodeModel",
       "_view_count": null,
       "_view_module": "jupyter-cytoscape",
       "_view_module_version": "^1.3.3",
       "_view_name": "NodeView",
       "classes": "",
       "data": {
        "color": "gray",
        "id": "1875203825846513713",
        "label": "3",
        "shape": "rectangle"
       },
       "grabbable": true,
       "grabbed": false,
       "locked": false,
       "pannable": false,
       "position": {},
       "removed": false,
       "selectable": false,
       "selected": false
      }
     },
     "91826af7bee04f66874f4caa2cccc199": {
      "model_module": "jupyter-cytoscape",
      "model_module_version": "^1.3.3",
      "model_name": "EdgeModel",
      "state": {
       "_model_module": "jupyter-cytoscape",
       "_model_module_version": "^1.3.3",
       "_model_name": "EdgeModel",
       "_view_count": null,
       "_view_module": "jupyter-cytoscape",
       "_view_module_version": "^1.3.3",
       "_view_name": "EdgeView",
       "classes": " directed ",
       "data": {
        "source": "557365326517556517",
        "target": "7046835252584803797"
       },
       "pannable": true,
       "removed": false,
       "selectable": false,
       "selected": false
      }
     },
     "934a9dffa97d4004bd14d3d50dbd7b8e": {
      "model_module": "jupyter-cytoscape",
      "model_module_version": "^1.3.3",
      "model_name": "NodeModel",
      "state": {
       "_model_module": "jupyter-cytoscape",
       "_model_module_version": "^1.3.3",
       "_model_name": "NodeModel",
       "_view_count": null,
       "_view_module": "jupyter-cytoscape",
       "_view_module_version": "^1.3.3",
       "_view_name": "NodeView",
       "classes": "",
       "data": {
        "color": "gray",
        "id": "-5861341931185371210",
        "label": "series-sum-chunk",
        "shape": "ellipse"
       },
       "grabbable": true,
       "grabbed": false,
       "locked": false,
       "pannable": false,
       "position": {},
       "removed": false,
       "selectable": false,
       "selected": false
      }
     },
     "9359a4fad0af41df9d7ff0bce26f8a72": {
      "model_module": "jupyter-cytoscape",
      "model_module_version": "^1.3.3",
      "model_name": "NodeModel",
      "state": {
       "_model_module": "jupyter-cytoscape",
       "_model_module_version": "^1.3.3",
       "_model_name": "NodeModel",
       "_view_count": null,
       "_view_module": "jupyter-cytoscape",
       "_view_module_version": "^1.3.3",
       "_view_name": "NodeView",
       "classes": "",
       "data": {
        "color": "gray",
        "id": "5679894075523948144",
        "label": "7",
        "shape": "rectangle"
       },
       "grabbable": true,
       "grabbed": false,
       "locked": false,
       "pannable": false,
       "position": {},
       "removed": false,
       "selectable": false,
       "selected": false
      }
     },
     "9404b95f0f354c8780a63d6f1bdb8260": {
      "model_module": "jupyter-cytoscape",
      "model_module_version": "^1.3.3",
      "model_name": "EdgeModel",
      "state": {
       "_model_module": "jupyter-cytoscape",
       "_model_module_version": "^1.3.3",
       "_model_name": "EdgeModel",
       "_view_count": null,
       "_view_module": "jupyter-cytoscape",
       "_view_module_version": "^1.3.3",
       "_view_name": "EdgeView",
       "classes": " directed ",
       "data": {
        "source": "-3736961712941930941",
        "target": "5532313189982647755"
       },
       "pannable": true,
       "removed": false,
       "selectable": false,
       "selected": false
      }
     },
     "944d36e712ba42779219d08d1f10ada5": {
      "model_module": "jupyter-cytoscape",
      "model_module_version": "^1.3.3",
      "model_name": "EdgeModel",
      "state": {
       "_model_module": "jupyter-cytoscape",
       "_model_module_version": "^1.3.3",
       "_model_name": "EdgeModel",
       "_view_count": null,
       "_view_module": "jupyter-cytoscape",
       "_view_module_version": "^1.3.3",
       "_view_name": "EdgeView",
       "classes": " directed ",
       "data": {
        "source": "1867263933538053924",
        "target": "-2959744336396459391"
       },
       "pannable": true,
       "removed": false,
       "selectable": false,
       "selected": false
      }
     },
     "9455c3f8b4254185a99a6cf9cfe0bd63": {
      "model_module": "jupyter-cytoscape",
      "model_module_version": "^1.3.3",
      "model_name": "EdgeModel",
      "state": {
       "_model_module": "jupyter-cytoscape",
       "_model_module_version": "^1.3.3",
       "_model_name": "EdgeModel",
       "_view_count": null,
       "_view_module": "jupyter-cytoscape",
       "_view_module_version": "^1.3.3",
       "_view_name": "EdgeView",
       "classes": " directed ",
       "data": {
        "source": "8958401377367342451",
        "target": "-1295738571246152183"
       },
       "pannable": true,
       "removed": false,
       "selectable": false,
       "selected": false
      }
     },
     "95863f014834437992a8a6a858bb0adb": {
      "model_module": "jupyter-cytoscape",
      "model_module_version": "^1.3.3",
      "model_name": "NodeModel",
      "state": {
       "_model_module": "jupyter-cytoscape",
       "_model_module_version": "^1.3.3",
       "_model_name": "NodeModel",
       "_view_count": null,
       "_view_module": "jupyter-cytoscape",
       "_view_module_version": "^1.3.3",
       "_view_name": "NodeView",
       "classes": "",
       "data": {
        "color": "gray",
        "id": "-8506435153754837937",
        "label": "series-sum-chunk",
        "shape": "ellipse"
       },
       "grabbable": true,
       "grabbed": false,
       "locked": false,
       "pannable": false,
       "position": {},
       "removed": false,
       "selectable": false,
       "selected": false
      }
     },
     "95d0e453ea1a4099b67c0506a65d734b": {
      "model_module": "jupyter-cytoscape",
      "model_module_version": "^1.3.3",
      "model_name": "EdgeModel",
      "state": {
       "_model_module": "jupyter-cytoscape",
       "_model_module_version": "^1.3.3",
       "_model_name": "EdgeModel",
       "_view_count": null,
       "_view_module": "jupyter-cytoscape",
       "_view_module_version": "^1.3.3",
       "_view_name": "EdgeView",
       "classes": " directed ",
       "data": {
        "source": "6768277854819210079",
        "target": "-7506225304720220188"
       },
       "pannable": true,
       "removed": false,
       "selectable": false,
       "selected": false
      }
     },
     "960d0c97147a49aeb69d95b0afa1397c": {
      "model_module": "jupyter-cytoscape",
      "model_module_version": "^1.3.3",
      "model_name": "EdgeModel",
      "state": {
       "_model_module": "jupyter-cytoscape",
       "_model_module_version": "^1.3.3",
       "_model_name": "EdgeModel",
       "_view_count": null,
       "_view_module": "jupyter-cytoscape",
       "_view_module_version": "^1.3.3",
       "_view_name": "EdgeView",
       "classes": " directed ",
       "data": {
        "source": "-8894675563035275468",
        "target": "6975172233324997474"
       },
       "pannable": true,
       "removed": false,
       "selectable": false,
       "selected": false
      }
     },
     "9696c660ac7b424b981cfcafc52f2fdc": {
      "model_module": "jupyter-cytoscape",
      "model_module_version": "^1.3.3",
      "model_name": "NodeModel",
      "state": {
       "_model_module": "jupyter-cytoscape",
       "_model_module_version": "^1.3.3",
       "_model_name": "NodeModel",
       "_view_count": null,
       "_view_module": "jupyter-cytoscape",
       "_view_module_version": "^1.3.3",
       "_view_name": "NodeView",
       "classes": "",
       "data": {
        "color": "gray",
        "id": "1174371044317164831",
        "label": "series-sum-chunk",
        "shape": "ellipse"
       },
       "grabbable": true,
       "grabbed": false,
       "locked": false,
       "pannable": false,
       "position": {},
       "removed": false,
       "selectable": false,
       "selected": false
      }
     },
     "96c64c3251ff4814b8d6f4022dace18b": {
      "model_module": "jupyter-cytoscape",
      "model_module_version": "^1.3.3",
      "model_name": "NodeModel",
      "state": {
       "_model_module": "jupyter-cytoscape",
       "_model_module_version": "^1.3.3",
       "_model_name": "NodeModel",
       "_view_count": null,
       "_view_module": "jupyter-cytoscape",
       "_view_module_version": "^1.3.3",
       "_view_name": "NodeView",
       "classes": "",
       "data": {
        "color": "gray",
        "id": "-4291432986340819176",
        "label": "read-csv",
        "shape": "ellipse"
       },
       "grabbable": true,
       "grabbed": false,
       "locked": false,
       "pannable": false,
       "position": {},
       "removed": false,
       "selectable": false,
       "selected": false
      }
     },
     "971a6cc7f5da4529b19d746ac765c8e4": {
      "model_module": "jupyter-cytoscape",
      "model_module_version": "^1.3.3",
      "model_name": "EdgeModel",
      "state": {
       "_model_module": "jupyter-cytoscape",
       "_model_module_version": "^1.3.3",
       "_model_name": "EdgeModel",
       "_view_count": null,
       "_view_module": "jupyter-cytoscape",
       "_view_module_version": "^1.3.3",
       "_view_name": "EdgeView",
       "classes": " directed ",
       "data": {
        "source": "-5055852279487931941",
        "target": "8241522882482119934"
       },
       "pannable": true,
       "removed": false,
       "selectable": false,
       "selected": false
      }
     },
     "9884150b17074649952cebae4b2e791c": {
      "model_module": "jupyter-cytoscape",
      "model_module_version": "^1.3.3",
      "model_name": "EdgeModel",
      "state": {
       "_model_module": "jupyter-cytoscape",
       "_model_module_version": "^1.3.3",
       "_model_name": "EdgeModel",
       "_view_count": null,
       "_view_module": "jupyter-cytoscape",
       "_view_module_version": "^1.3.3",
       "_view_name": "EdgeView",
       "classes": " directed ",
       "data": {
        "source": "-1273089478981588330",
        "target": "-1295738571246152183"
       },
       "pannable": true,
       "removed": false,
       "selectable": false,
       "selected": false
      }
     },
     "997c47acefec4752abecb6ea2651ad9a": {
      "model_module": "jupyter-cytoscape",
      "model_module_version": "^1.3.3",
      "model_name": "EdgeModel",
      "state": {
       "_model_module": "jupyter-cytoscape",
       "_model_module_version": "^1.3.3",
       "_model_name": "EdgeModel",
       "_view_count": null,
       "_view_module": "jupyter-cytoscape",
       "_view_module_version": "^1.3.3",
       "_view_name": "EdgeView",
       "classes": " directed ",
       "data": {
        "source": "4532757256868167882",
        "target": "-645433685488049988"
       },
       "pannable": true,
       "removed": false,
       "selectable": false,
       "selected": false
      }
     },
     "99d252e8b8824d2f8d99402bf1178d06": {
      "model_module": "jupyter-cytoscape",
      "model_module_version": "^1.3.3",
      "model_name": "EdgeModel",
      "state": {
       "_model_module": "jupyter-cytoscape",
       "_model_module_version": "^1.3.3",
       "_model_name": "EdgeModel",
       "_view_count": null,
       "_view_module": "jupyter-cytoscape",
       "_view_module_version": "^1.3.3",
       "_view_name": "EdgeView",
       "classes": " directed ",
       "data": {
        "source": "8241522882482119934",
        "target": "-551960425737155488"
       },
       "pannable": true,
       "removed": false,
       "selectable": false,
       "selected": false
      }
     },
     "99e2f2e0f125476695c5acb3de906ed2": {
      "model_module": "jupyter-cytoscape",
      "model_module_version": "^1.3.3",
      "model_name": "NodeModel",
      "state": {
       "_model_module": "jupyter-cytoscape",
       "_model_module_version": "^1.3.3",
       "_model_name": "NodeModel",
       "_view_count": null,
       "_view_module": "jupyter-cytoscape",
       "_view_module_version": "^1.3.3",
       "_view_name": "NodeView",
       "classes": "",
       "data": {
        "color": "gray",
        "id": "6701537118708411765",
        "label": "2",
        "shape": "rectangle"
       },
       "grabbable": true,
       "grabbed": false,
       "locked": false,
       "pannable": false,
       "position": {},
       "removed": false,
       "selectable": false,
       "selected": false
      }
     },
     "9a759f6dd8ce45b8add03c2ea0ac6c84": {
      "model_module": "jupyter-cytoscape",
      "model_module_version": "^1.3.3",
      "model_name": "NodeModel",
      "state": {
       "_model_module": "jupyter-cytoscape",
       "_model_module_version": "^1.3.3",
       "_model_name": "NodeModel",
       "_view_count": null,
       "_view_module": "jupyter-cytoscape",
       "_view_module_version": "^1.3.3",
       "_view_name": "NodeView",
       "classes": "",
       "data": {
        "color": "gray",
        "id": "9194632868215533697",
        "label": "getitem",
        "shape": "ellipse"
       },
       "grabbable": true,
       "grabbed": false,
       "locked": false,
       "pannable": false,
       "position": {},
       "removed": false,
       "selectable": false,
       "selected": false
      }
     },
     "9bd4dfb97404495e9ba711626e9ef284": {
      "model_module": "jupyter-cytoscape",
      "model_module_version": "^1.3.3",
      "model_name": "EdgeModel",
      "state": {
       "_model_module": "jupyter-cytoscape",
       "_model_module_version": "^1.3.3",
       "_model_name": "EdgeModel",
       "_view_count": null,
       "_view_module": "jupyter-cytoscape",
       "_view_module_version": "^1.3.3",
       "_view_name": "EdgeView",
       "classes": " directed ",
       "data": {
        "source": "1875203825846513713",
        "target": "-6665468836333944252"
       },
       "pannable": true,
       "removed": false,
       "selectable": false,
       "selected": false
      }
     },
     "9bd55d8814e547389f2971402469e89a": {
      "model_module": "jupyter-cytoscape",
      "model_module_version": "^1.3.3",
      "model_name": "EdgeModel",
      "state": {
       "_model_module": "jupyter-cytoscape",
       "_model_module_version": "^1.3.3",
       "_model_name": "EdgeModel",
       "_view_count": null,
       "_view_module": "jupyter-cytoscape",
       "_view_module_version": "^1.3.3",
       "_view_name": "EdgeView",
       "classes": " directed ",
       "data": {
        "source": "-9093072994948542399",
        "target": "-4866804363851197267"
       },
       "pannable": true,
       "removed": false,
       "selectable": false,
       "selected": false
      }
     },
     "9beae519e61b4a1fbe810b04c3057a27": {
      "model_module": "jupyter-cytoscape",
      "model_module_version": "^1.3.3",
      "model_name": "EdgeModel",
      "state": {
       "_model_module": "jupyter-cytoscape",
       "_model_module_version": "^1.3.3",
       "_model_name": "EdgeModel",
       "_view_count": null,
       "_view_module": "jupyter-cytoscape",
       "_view_module_version": "^1.3.3",
       "_view_name": "EdgeView",
       "classes": " directed ",
       "data": {
        "source": "-1142954263604264911",
        "target": "-4868564640351881236"
       },
       "pannable": true,
       "removed": false,
       "selectable": false,
       "selected": false
      }
     },
     "9beb449f39b143cea728e54ca9ca8910": {
      "model_module": "jupyter-cytoscape",
      "model_module_version": "^1.3.3",
      "model_name": "NodeModel",
      "state": {
       "_model_module": "jupyter-cytoscape",
       "_model_module_version": "^1.3.3",
       "_model_name": "NodeModel",
       "_view_count": null,
       "_view_module": "jupyter-cytoscape",
       "_view_module_version": "^1.3.3",
       "_view_name": "NodeView",
       "classes": "",
       "data": {
        "color": "gray",
        "id": "639239161009951389",
        "label": "7",
        "shape": "rectangle"
       },
       "grabbable": true,
       "grabbed": false,
       "locked": false,
       "pannable": false,
       "position": {},
       "removed": false,
       "selectable": false,
       "selected": false
      }
     },
     "9cc9561759c04e68bfcf4f1e873d1f74": {
      "model_module": "jupyter-cytoscape",
      "model_module_version": "^1.3.3",
      "model_name": "EdgeModel",
      "state": {
       "_model_module": "jupyter-cytoscape",
       "_model_module_version": "^1.3.3",
       "_model_name": "EdgeModel",
       "_view_count": null,
       "_view_module": "jupyter-cytoscape",
       "_view_module_version": "^1.3.3",
       "_view_name": "EdgeView",
       "classes": " directed ",
       "data": {
        "source": "-5859979184636504983",
        "target": "-3697580435125433257"
       },
       "pannable": true,
       "removed": false,
       "selectable": false,
       "selected": false
      }
     },
     "9d440776232449daa5067ea36b318438": {
      "model_module": "jupyter-cytoscape",
      "model_module_version": "^1.3.3",
      "model_name": "NodeModel",
      "state": {
       "_model_module": "jupyter-cytoscape",
       "_model_module_version": "^1.3.3",
       "_model_name": "NodeModel",
       "_view_count": null,
       "_view_module": "jupyter-cytoscape",
       "_view_module_version": "^1.3.3",
       "_view_name": "NodeView",
       "classes": "",
       "data": {
        "color": "gray",
        "id": "-551960425737155488",
        "label": "inv",
        "shape": "ellipse"
       },
       "grabbable": true,
       "grabbed": false,
       "locked": false,
       "pannable": false,
       "position": {},
       "removed": false,
       "selectable": false,
       "selected": false
      }
     },
     "9e335899db2c4a81bba1fb32dee42c50": {
      "model_module": "jupyter-cytoscape",
      "model_module_version": "^1.3.3",
      "model_name": "EdgeModel",
      "state": {
       "_model_module": "jupyter-cytoscape",
       "_model_module_version": "^1.3.3",
       "_model_name": "EdgeModel",
       "_view_count": null,
       "_view_module": "jupyter-cytoscape",
       "_view_module_version": "^1.3.3",
       "_view_name": "EdgeView",
       "classes": " directed ",
       "data": {
        "source": "1333726317739689018",
        "target": "-3025810095434642442"
       },
       "pannable": true,
       "removed": false,
       "selectable": false,
       "selected": false
      }
     },
     "9fcefb05ea1e4e7b9d90203012874ed8": {
      "model_module": "jupyter-cytoscape",
      "model_module_version": "^1.3.3",
      "model_name": "EdgeModel",
      "state": {
       "_model_module": "jupyter-cytoscape",
       "_model_module_version": "^1.3.3",
       "_model_name": "EdgeModel",
       "_view_count": null,
       "_view_module": "jupyter-cytoscape",
       "_view_module_version": "^1.3.3",
       "_view_name": "EdgeView",
       "classes": " directed ",
       "data": {
        "source": "-551960425737155488",
        "target": "523790243237714022"
       },
       "pannable": true,
       "removed": false,
       "selectable": false,
       "selected": false
      }
     },
     "a01965af25884c36995d1389915f6c68": {
      "model_module": "jupyter-cytoscape",
      "model_module_version": "^1.3.3",
      "model_name": "EdgeModel",
      "state": {
       "_model_module": "jupyter-cytoscape",
       "_model_module_version": "^1.3.3",
       "_model_name": "EdgeModel",
       "_view_count": null,
       "_view_module": "jupyter-cytoscape",
       "_view_module_version": "^1.3.3",
       "_view_name": "EdgeView",
       "classes": " directed ",
       "data": {
        "source": "5529985243745774996",
        "target": "-3471152893838180491"
       },
       "pannable": true,
       "removed": false,
       "selectable": false,
       "selected": false
      }
     },
     "a06d9fb9461743a48567b43ee648176b": {
      "model_module": "jupyter-cytoscape",
      "model_module_version": "^1.3.3",
      "model_name": "NodeModel",
      "state": {
       "_model_module": "jupyter-cytoscape",
       "_model_module_version": "^1.3.3",
       "_model_name": "NodeModel",
       "_view_count": null,
       "_view_module": "jupyter-cytoscape",
       "_view_module_version": "^1.3.3",
       "_view_name": "NodeView",
       "classes": "",
       "data": {
        "color": "gray",
        "id": "-4369283785734982344",
        "label": "2",
        "shape": "rectangle"
       },
       "grabbable": true,
       "grabbed": false,
       "locked": false,
       "pannable": false,
       "position": {},
       "removed": false,
       "selectable": false,
       "selected": false
      }
     },
     "a0bf603650d74b848a462f1b546ace79": {
      "model_module": "jupyter-cytoscape",
      "model_module_version": "^1.3.3",
      "model_name": "EdgeModel",
      "state": {
       "_model_module": "jupyter-cytoscape",
       "_model_module_version": "^1.3.3",
       "_model_name": "EdgeModel",
       "_view_count": null,
       "_view_module": "jupyter-cytoscape",
       "_view_module_version": "^1.3.3",
       "_view_name": "EdgeView",
       "classes": " directed ",
       "data": {
        "source": "-6749660195681574798",
        "target": "-7237756430772187749"
       },
       "pannable": true,
       "removed": false,
       "selectable": false,
       "selected": false
      }
     },
     "a25db7da626e4d2d90b115d7442fb50f": {
      "model_module": "jupyter-cytoscape",
      "model_module_version": "^1.3.3",
      "model_name": "NodeModel",
      "state": {
       "_model_module": "jupyter-cytoscape",
       "_model_module_version": "^1.3.3",
       "_model_name": "NodeModel",
       "_view_count": null,
       "_view_module": "jupyter-cytoscape",
       "_view_module_version": "^1.3.3",
       "_view_name": "NodeView",
       "classes": "",
       "data": {
        "color": "gray",
        "id": "-975327566119350670",
        "label": "5",
        "shape": "rectangle"
       },
       "grabbable": true,
       "grabbed": false,
       "locked": false,
       "pannable": false,
       "position": {},
       "removed": false,
       "selectable": false,
       "selected": false
      }
     },
     "a3f61aafc8ba4d3faced4413cf58c962": {
      "model_module": "jupyter-cytoscape",
      "model_module_version": "^1.3.3",
      "model_name": "EdgeModel",
      "state": {
       "_model_module": "jupyter-cytoscape",
       "_model_module_version": "^1.3.3",
       "_model_name": "EdgeModel",
       "_view_count": null,
       "_view_module": "jupyter-cytoscape",
       "_view_module_version": "^1.3.3",
       "_view_name": "EdgeView",
       "classes": " directed ",
       "data": {
        "source": "6969668470498471259",
        "target": "-7954616118643409181"
       },
       "pannable": true,
       "removed": false,
       "selectable": false,
       "selected": false
      }
     },
     "a43797ad9e814bd0a5a8c08b633fc1b6": {
      "model_module": "jupyter-cytoscape",
      "model_module_version": "^1.3.3",
      "model_name": "EdgeModel",
      "state": {
       "_model_module": "jupyter-cytoscape",
       "_model_module_version": "^1.3.3",
       "_model_name": "EdgeModel",
       "_view_count": null,
       "_view_module": "jupyter-cytoscape",
       "_view_module_version": "^1.3.3",
       "_view_name": "EdgeView",
       "classes": " directed ",
       "data": {
        "source": "-4132394775795343656",
        "target": "-3153926172974293630"
       },
       "pannable": true,
       "removed": false,
       "selectable": false,
       "selected": false
      }
     },
     "a474eb7d630d423c8a3552fac61aaf67": {
      "model_module": "jupyter-cytoscape",
      "model_module_version": "^1.3.3",
      "model_name": "EdgeModel",
      "state": {
       "_model_module": "jupyter-cytoscape",
       "_model_module_version": "^1.3.3",
       "_model_name": "EdgeModel",
       "_view_count": null,
       "_view_module": "jupyter-cytoscape",
       "_view_module_version": "^1.3.3",
       "_view_name": "EdgeView",
       "classes": " directed ",
       "data": {
        "source": "4109915185610210327",
        "target": "-8590654464098129623"
       },
       "pannable": true,
       "removed": false,
       "selectable": false,
       "selected": false
      }
     },
     "a4c3e69d88d44a93ad101218d94173bf": {
      "model_module": "jupyter-cytoscape",
      "model_module_version": "^1.3.3",
      "model_name": "NodeModel",
      "state": {
       "_model_module": "jupyter-cytoscape",
       "_model_module_version": "^1.3.3",
       "_model_name": "NodeModel",
       "_view_count": null,
       "_view_module": "jupyter-cytoscape",
       "_view_module_version": "^1.3.3",
       "_view_name": "NodeView",
       "classes": "",
       "data": {
        "color": "gray",
        "id": "-8717321051717431442",
        "label": "moment_chunk",
        "shape": "ellipse"
       },
       "grabbable": true,
       "grabbed": false,
       "locked": false,
       "pannable": false,
       "position": {},
       "removed": false,
       "selectable": false,
       "selected": false
      }
     },
     "a52a2ccf1a69435eb8f643f118a24c4b": {
      "model_module": "jupyter-cytoscape",
      "model_module_version": "^1.3.3",
      "model_name": "NodeModel",
      "state": {
       "_model_module": "jupyter-cytoscape",
       "_model_module_version": "^1.3.3",
       "_model_name": "NodeModel",
       "_view_count": null,
       "_view_module": "jupyter-cytoscape",
       "_view_module_version": "^1.3.3",
       "_view_name": "NodeView",
       "classes": "",
       "data": {
        "color": "gray",
        "id": "1041134959757340135",
        "label": "moment_combine-partial",
        "shape": "ellipse"
       },
       "grabbable": true,
       "grabbed": false,
       "locked": false,
       "pannable": false,
       "position": {},
       "removed": false,
       "selectable": false,
       "selected": false
      }
     },
     "a5e001c1b048451191e068a937cff4fa": {
      "model_module": "jupyter-cytoscape",
      "model_module_version": "^1.3.3",
      "model_name": "EdgeModel",
      "state": {
       "_model_module": "jupyter-cytoscape",
       "_model_module_version": "^1.3.3",
       "_model_name": "EdgeModel",
       "_view_count": null,
       "_view_module": "jupyter-cytoscape",
       "_view_module_version": "^1.3.3",
       "_view_name": "EdgeView",
       "classes": " directed ",
       "data": {
        "source": "-1798112941359350289",
        "target": "-443849172938267357"
       },
       "pannable": true,
       "removed": false,
       "selectable": false,
       "selected": false
      }
     },
     "a6e3e833fe784451b828966703dafa8e": {
      "model_module": "jupyter-cytoscape",
      "model_module_version": "^1.3.3",
      "model_name": "EdgeModel",
      "state": {
       "_model_module": "jupyter-cytoscape",
       "_model_module_version": "^1.3.3",
       "_model_name": "EdgeModel",
       "_view_count": null,
       "_view_module": "jupyter-cytoscape",
       "_view_module_version": "^1.3.3",
       "_view_name": "EdgeView",
       "classes": " directed ",
       "data": {
        "source": "-3084897808650630744",
        "target": "1015266725676176775"
       },
       "pannable": true,
       "removed": false,
       "selectable": false,
       "selected": false
      }
     },
     "a7ed6fb91583484798c1cf7574f18eac": {
      "model_module": "jupyter-cytoscape",
      "model_module_version": "^1.3.3",
      "model_name": "EdgeModel",
      "state": {
       "_model_module": "jupyter-cytoscape",
       "_model_module_version": "^1.3.3",
       "_model_name": "EdgeModel",
       "_view_count": null,
       "_view_module": "jupyter-cytoscape",
       "_view_module_version": "^1.3.3",
       "_view_name": "EdgeView",
       "classes": " directed ",
       "data": {
        "source": "-2959744336396459391",
        "target": "7213620653222748128"
       },
       "pannable": true,
       "removed": false,
       "selectable": false,
       "selected": false
      }
     },
     "a87691f1481c4a199d9859c0a0d32e5d": {
      "model_module": "jupyter-cytoscape",
      "model_module_version": "^1.3.3",
      "model_name": "EdgeModel",
      "state": {
       "_model_module": "jupyter-cytoscape",
       "_model_module_version": "^1.3.3",
       "_model_name": "EdgeModel",
       "_view_count": null,
       "_view_module": "jupyter-cytoscape",
       "_view_module_version": "^1.3.3",
       "_view_name": "EdgeView",
       "classes": " directed ",
       "data": {
        "source": "2184490654401940785",
        "target": "-3750991364865634352"
       },
       "pannable": true,
       "removed": false,
       "selectable": false,
       "selected": false
      }
     },
     "a88e3c99f9f24dcfa7f1e2adba87e65a": {
      "model_module": "jupyter-cytoscape",
      "model_module_version": "^1.3.3",
      "model_name": "EdgeModel",
      "state": {
       "_model_module": "jupyter-cytoscape",
       "_model_module_version": "^1.3.3",
       "_model_name": "EdgeModel",
       "_view_count": null,
       "_view_module": "jupyter-cytoscape",
       "_view_module_version": "^1.3.3",
       "_view_name": "EdgeView",
       "classes": " directed ",
       "data": {
        "source": "-1295738571246152183",
        "target": "5207735522976017808"
       },
       "pannable": true,
       "removed": false,
       "selectable": false,
       "selected": false
      }
     },
     "a8acb79d022f4015a78ac8dc22d680ec": {
      "model_module": "jupyter-cytoscape",
      "model_module_version": "^1.3.3",
      "model_name": "EdgeModel",
      "state": {
       "_model_module": "jupyter-cytoscape",
       "_model_module_version": "^1.3.3",
       "_model_name": "EdgeModel",
       "_view_count": null,
       "_view_module": "jupyter-cytoscape",
       "_view_module_version": "^1.3.3",
       "_view_name": "EdgeView",
       "classes": " directed ",
       "data": {
        "source": "-4868564640351881236",
        "target": "2583699768770554130"
       },
       "pannable": true,
       "removed": false,
       "selectable": false,
       "selected": false
      }
     },
     "aa7084f4c6034e5c907e41766309c84a": {
      "model_module": "jupyter-cytoscape",
      "model_module_version": "^1.3.3",
      "model_name": "EdgeModel",
      "state": {
       "_model_module": "jupyter-cytoscape",
       "_model_module_version": "^1.3.3",
       "_model_name": "EdgeModel",
       "_view_count": null,
       "_view_module": "jupyter-cytoscape",
       "_view_module_version": "^1.3.3",
       "_view_name": "EdgeView",
       "classes": " directed ",
       "data": {
        "source": "-9123840047369173191",
        "target": "4490561235855139543"
       },
       "pannable": true,
       "removed": false,
       "selectable": false,
       "selected": false
      }
     },
     "ab1372e2f1014d92a91ecb9746d1c23c": {
      "model_module": "jupyter-cytoscape",
      "model_module_version": "^1.3.3",
      "model_name": "EdgeModel",
      "state": {
       "_model_module": "jupyter-cytoscape",
       "_model_module_version": "^1.3.3",
       "_model_name": "EdgeModel",
       "_view_count": null,
       "_view_module": "jupyter-cytoscape",
       "_view_module_version": "^1.3.3",
       "_view_name": "EdgeView",
       "classes": " directed ",
       "data": {
        "source": "-1539359445844991571",
        "target": "-6836473340103990327"
       },
       "pannable": true,
       "removed": false,
       "selectable": false,
       "selected": false
      }
     },
     "ab43d22ee6b84d8baf5930dda1a6e117": {
      "model_module": "jupyter-cytoscape",
      "model_module_version": "^1.3.3",
      "model_name": "EdgeModel",
      "state": {
       "_model_module": "jupyter-cytoscape",
       "_model_module_version": "^1.3.3",
       "_model_name": "EdgeModel",
       "_view_count": null,
       "_view_module": "jupyter-cytoscape",
       "_view_module_version": "^1.3.3",
       "_view_name": "EdgeView",
       "classes": " directed ",
       "data": {
        "source": "502357459496961667",
        "target": "639239161009951389"
       },
       "pannable": true,
       "removed": false,
       "selectable": false,
       "selected": false
      }
     },
     "ab49f1b6d7444ee79d232441302fb452": {
      "model_module": "jupyter-cytoscape",
      "model_module_version": "^1.3.3",
      "model_name": "EdgeModel",
      "state": {
       "_model_module": "jupyter-cytoscape",
       "_model_module_version": "^1.3.3",
       "_model_name": "EdgeModel",
       "_view_count": null,
       "_view_module": "jupyter-cytoscape",
       "_view_module_version": "^1.3.3",
       "_view_name": "EdgeView",
       "classes": " directed ",
       "data": {
        "source": "-1557321562444232389",
        "target": "6509134381567269117"
       },
       "pannable": true,
       "removed": false,
       "selectable": false,
       "selected": false
      }
     },
     "abc2233213f14bacb8f55582874309fc": {
      "model_module": "jupyter-cytoscape",
      "model_module_version": "^1.3.3",
      "model_name": "EdgeModel",
      "state": {
       "_model_module": "jupyter-cytoscape",
       "_model_module_version": "^1.3.3",
       "_model_name": "EdgeModel",
       "_view_count": null,
       "_view_module": "jupyter-cytoscape",
       "_view_module_version": "^1.3.3",
       "_view_name": "EdgeView",
       "classes": " directed ",
       "data": {
        "source": "-4149925868965974750",
        "target": "-1295738571246152183"
       },
       "pannable": true,
       "removed": false,
       "selectable": false,
       "selected": false
      }
     },
     "ae6953fc17be46d4bc2e69615b391697": {
      "model_module": "jupyter-cytoscape",
      "model_module_version": "^1.3.3",
      "model_name": "EdgeModel",
      "state": {
       "_model_module": "jupyter-cytoscape",
       "_model_module_version": "^1.3.3",
       "_model_name": "EdgeModel",
       "_view_count": null,
       "_view_module": "jupyter-cytoscape",
       "_view_module_version": "^1.3.3",
       "_view_name": "EdgeView",
       "classes": " directed ",
       "data": {
        "source": "-7954616118643409181",
        "target": "-4992513829734551955"
       },
       "pannable": true,
       "removed": false,
       "selectable": false,
       "selected": false
      }
     },
     "ae773918f47949408030443dfd56e49c": {
      "model_module": "jupyter-cytoscape",
      "model_module_version": "^1.3.3",
      "model_name": "EdgeModel",
      "state": {
       "_model_module": "jupyter-cytoscape",
       "_model_module_version": "^1.3.3",
       "_model_name": "EdgeModel",
       "_view_count": null,
       "_view_module": "jupyter-cytoscape",
       "_view_module_version": "^1.3.3",
       "_view_name": "EdgeView",
       "classes": " directed ",
       "data": {
        "source": "3855796558417638853",
        "target": "193896362606413340"
       },
       "pannable": true,
       "removed": false,
       "selectable": false,
       "selected": false
      }
     },
     "af594fd3a67e436b98fcc39689c92944": {
      "model_module": "jupyter-cytoscape",
      "model_module_version": "^1.3.3",
      "model_name": "EdgeModel",
      "state": {
       "_model_module": "jupyter-cytoscape",
       "_model_module_version": "^1.3.3",
       "_model_name": "EdgeModel",
       "_view_count": null,
       "_view_module": "jupyter-cytoscape",
       "_view_module_version": "^1.3.3",
       "_view_name": "EdgeView",
       "classes": " directed ",
       "data": {
        "source": "5878771199469229374",
        "target": "2184490654401940785"
       },
       "pannable": true,
       "removed": false,
       "selectable": false,
       "selected": false
      }
     },
     "afc3762ced9b4daf9d4470c1adbb39f6": {
      "model_module": "jupyter-cytoscape",
      "model_module_version": "^1.3.3",
      "model_name": "EdgeModel",
      "state": {
       "_model_module": "jupyter-cytoscape",
       "_model_module_version": "^1.3.3",
       "_model_name": "EdgeModel",
       "_view_count": null,
       "_view_module": "jupyter-cytoscape",
       "_view_module_version": "^1.3.3",
       "_view_name": "EdgeView",
       "classes": " directed ",
       "data": {
        "source": "-6081567730941626298",
        "target": "3755530294503076334"
       },
       "pannable": true,
       "removed": false,
       "selectable": false,
       "selected": false
      }
     },
     "b005ac7dd4f64277b3e19fbfc008f53d": {
      "model_module": "jupyter-cytoscape",
      "model_module_version": "^1.3.3",
      "model_name": "NodeModel",
      "state": {
       "_model_module": "jupyter-cytoscape",
       "_model_module_version": "^1.3.3",
       "_model_name": "NodeModel",
       "_view_count": null,
       "_view_module": "jupyter-cytoscape",
       "_view_module_version": "^1.3.3",
       "_view_name": "NodeView",
       "classes": "",
       "data": {
        "color": "gray",
        "id": "4894567654437967058",
        "label": "5",
        "shape": "rectangle"
       },
       "grabbable": true,
       "grabbed": false,
       "locked": false,
       "pannable": false,
       "position": {},
       "removed": false,
       "selectable": false,
       "selected": false
      }
     },
     "b04f2c47720946429bd27ded1e1cc49f": {
      "model_module": "jupyter-cytoscape",
      "model_module_version": "^1.3.3",
      "model_name": "EdgeModel",
      "state": {
       "_model_module": "jupyter-cytoscape",
       "_model_module_version": "^1.3.3",
       "_model_name": "EdgeModel",
       "_view_count": null,
       "_view_module": "jupyter-cytoscape",
       "_view_module_version": "^1.3.3",
       "_view_name": "EdgeView",
       "classes": " directed ",
       "data": {
        "source": "-8677439657524884012",
        "target": "-8364226922810876857"
       },
       "pannable": true,
       "removed": false,
       "selectable": false,
       "selected": false
      }
     },
     "b0f1871c359a4555a2bdb1837a4c39b6": {
      "model_module": "jupyter-cytoscape",
      "model_module_version": "^1.3.3",
      "model_name": "EdgeModel",
      "state": {
       "_model_module": "jupyter-cytoscape",
       "_model_module_version": "^1.3.3",
       "_model_name": "EdgeModel",
       "_view_count": null,
       "_view_module": "jupyter-cytoscape",
       "_view_module_version": "^1.3.3",
       "_view_name": "EdgeView",
       "classes": " directed ",
       "data": {
        "source": "-9190580783479971505",
        "target": "1802593426144580699"
       },
       "pannable": true,
       "removed": false,
       "selectable": false,
       "selected": false
      }
     },
     "b1129ac3c68c4bbebe73cc3e36cb9974": {
      "model_module": "jupyter-cytoscape",
      "model_module_version": "^1.3.3",
      "model_name": "EdgeModel",
      "state": {
       "_model_module": "jupyter-cytoscape",
       "_model_module_version": "^1.3.3",
       "_model_name": "EdgeModel",
       "_view_count": null,
       "_view_module": "jupyter-cytoscape",
       "_view_module_version": "^1.3.3",
       "_view_name": "EdgeView",
       "classes": " directed ",
       "data": {
        "source": "5280454132196232743",
        "target": "-2752110461598922091"
       },
       "pannable": true,
       "removed": false,
       "selectable": false,
       "selected": false
      }
     },
     "b1419e436696446d8626f974185db0dc": {
      "model_module": "jupyter-cytoscape",
      "model_module_version": "^1.3.3",
      "model_name": "NodeModel",
      "state": {
       "_model_module": "jupyter-cytoscape",
       "_model_module_version": "^1.3.3",
       "_model_name": "NodeModel",
       "_view_count": null,
       "_view_module": "jupyter-cytoscape",
       "_view_module_version": "^1.3.3",
       "_view_name": "NodeView",
       "classes": "",
       "data": {
        "color": "gray",
        "id": "-687362237983114422",
        "label": "1",
        "shape": "rectangle"
       },
       "grabbable": true,
       "grabbed": false,
       "locked": false,
       "pannable": false,
       "position": {},
       "removed": false,
       "selectable": false,
       "selected": false
      }
     },
     "b2d3845f07834231a5333d300a4851c9": {
      "model_module": "jupyter-cytoscape",
      "model_module_version": "^1.3.3",
      "model_name": "EdgeModel",
      "state": {
       "_model_module": "jupyter-cytoscape",
       "_model_module_version": "^1.3.3",
       "_model_name": "EdgeModel",
       "_view_count": null,
       "_view_module": "jupyter-cytoscape",
       "_view_module_version": "^1.3.3",
       "_view_name": "EdgeView",
       "classes": " directed ",
       "data": {
        "source": "9194632868215533697",
        "target": "8686865680885657983"
       },
       "pannable": true,
       "removed": false,
       "selectable": false,
       "selected": false
      }
     },
     "b4e1c2f286d842409fce53c9703b904b": {
      "model_module": "jupyter-cytoscape",
      "model_module_version": "^1.3.3",
      "model_name": "EdgeModel",
      "state": {
       "_model_module": "jupyter-cytoscape",
       "_model_module_version": "^1.3.3",
       "_model_name": "EdgeModel",
       "_view_count": null,
       "_view_module": "jupyter-cytoscape",
       "_view_module_version": "^1.3.3",
       "_view_name": "EdgeView",
       "classes": " directed ",
       "data": {
        "source": "7678358310293033127",
        "target": "2737840592670449670"
       },
       "pannable": true,
       "removed": false,
       "selectable": false,
       "selected": false
      }
     },
     "b52c9f950c734e889abfa0d19f75b011": {
      "model_module": "jupyter-cytoscape",
      "model_module_version": "^1.3.3",
      "model_name": "NodeModel",
      "state": {
       "_model_module": "jupyter-cytoscape",
       "_model_module_version": "^1.3.3",
       "_model_name": "NodeModel",
       "_view_count": null,
       "_view_module": "jupyter-cytoscape",
       "_view_module_version": "^1.3.3",
       "_view_name": "NodeView",
       "classes": "",
       "data": {
        "color": "gray",
        "id": "8686865680885657983",
        "label": "7",
        "shape": "rectangle"
       },
       "grabbable": true,
       "grabbed": false,
       "locked": false,
       "pannable": false,
       "position": {},
       "removed": false,
       "selectable": false,
       "selected": false
      }
     },
     "b708565cda3449979de86c04601789eb": {
      "model_module": "jupyter-cytoscape",
      "model_module_version": "^1.3.3",
      "model_name": "NodeModel",
      "state": {
       "_model_module": "jupyter-cytoscape",
       "_model_module_version": "^1.3.3",
       "_model_name": "NodeModel",
       "_view_count": null,
       "_view_module": "jupyter-cytoscape",
       "_view_module_version": "^1.3.3",
       "_view_name": "NodeView",
       "classes": "",
       "data": {
        "color": "gray",
        "id": "-8288946089799969357",
        "label": "getitem",
        "shape": "ellipse"
       },
       "grabbable": true,
       "grabbed": false,
       "locked": false,
       "pannable": false,
       "position": {},
       "removed": false,
       "selectable": false,
       "selected": false
      }
     },
     "b731a9edf3e44e2380320552691c852e": {
      "model_module": "jupyter-cytoscape",
      "model_module_version": "^1.3.3",
      "model_name": "EdgeModel",
      "state": {
       "_model_module": "jupyter-cytoscape",
       "_model_module_version": "^1.3.3",
       "_model_name": "EdgeModel",
       "_view_count": null,
       "_view_module": "jupyter-cytoscape",
       "_view_module_version": "^1.3.3",
       "_view_name": "EdgeView",
       "classes": " directed ",
       "data": {
        "source": "6849118004249712154",
        "target": "-1295738571246152183"
       },
       "pannable": true,
       "removed": false,
       "selectable": false,
       "selected": false
      }
     },
     "b7af3b44434546c7bc7242995745ab08": {
      "model_module": "jupyter-cytoscape",
      "model_module_version": "^1.3.3",
      "model_name": "NodeModel",
      "state": {
       "_model_module": "jupyter-cytoscape",
       "_model_module_version": "^1.3.3",
       "_model_name": "NodeModel",
       "_view_count": null,
       "_view_module": "jupyter-cytoscape",
       "_view_module_version": "^1.3.3",
       "_view_name": "NodeView",
       "classes": "",
       "data": {
        "color": "gray",
        "id": "-9093072994948542399",
        "label": "getitem",
        "shape": "ellipse"
       },
       "grabbable": true,
       "grabbed": false,
       "locked": false,
       "pannable": false,
       "position": {},
       "removed": false,
       "selectable": false,
       "selected": false
      }
     },
     "b81597385ac141b89b96377a1dabd859": {
      "model_module": "jupyter-cytoscape",
      "model_module_version": "^1.3.3",
      "model_name": "NodeModel",
      "state": {
       "_model_module": "jupyter-cytoscape",
       "_model_module_version": "^1.3.3",
       "_model_name": "NodeModel",
       "_view_count": null,
       "_view_module": "jupyter-cytoscape",
       "_view_module_version": "^1.3.3",
       "_view_name": "NodeView",
       "classes": "",
       "data": {
        "color": "gray",
        "id": "-7506225304720220188",
        "label": "values",
        "shape": "ellipse"
       },
       "grabbable": true,
       "grabbed": false,
       "locked": false,
       "pannable": false,
       "position": {},
       "removed": false,
       "selectable": false,
       "selected": false
      }
     },
     "b91f5554fdd54996bab3bf67e6192410": {
      "model_module": "jupyter-cytoscape",
      "model_module_version": "^1.3.3",
      "model_name": "EdgeModel",
      "state": {
       "_model_module": "jupyter-cytoscape",
       "_model_module_version": "^1.3.3",
       "_model_name": "EdgeModel",
       "_view_count": null,
       "_view_module": "jupyter-cytoscape",
       "_view_module_version": "^1.3.3",
       "_view_name": "EdgeView",
       "classes": " directed ",
       "data": {
        "source": "-5492374030425821650",
        "target": "-3045190196649170467"
       },
       "pannable": true,
       "removed": false,
       "selectable": false,
       "selected": false
      }
     },
     "b95746be1d954427bb7bcd406d8fbcb5": {
      "model_module": "jupyter-cytoscape",
      "model_module_version": "^1.3.3",
      "model_name": "NodeModel",
      "state": {
       "_model_module": "jupyter-cytoscape",
       "_model_module_version": "^1.3.3",
       "_model_name": "NodeModel",
       "_view_count": null,
       "_view_module": "jupyter-cytoscape",
       "_view_module_version": "^1.3.3",
       "_view_name": "NodeView",
       "classes": "",
       "data": {
        "color": "gray",
        "id": "7774410054834616600",
        "label": "()",
        "shape": "rectangle"
       },
       "grabbable": true,
       "grabbed": false,
       "locked": false,
       "pannable": false,
       "position": {},
       "removed": false,
       "selectable": false,
       "selected": false
      }
     },
     "ba7279aafd234731ba76ec08cf5eee58": {
      "model_module": "jupyter-cytoscape",
      "model_module_version": "^1.3.3",
      "model_name": "NodeModel",
      "state": {
       "_model_module": "jupyter-cytoscape",
       "_model_module_version": "^1.3.3",
       "_model_name": "NodeModel",
       "_view_count": null,
       "_view_module": "jupyter-cytoscape",
       "_view_module_version": "^1.3.3",
       "_view_name": "NodeView",
       "classes": "",
       "data": {
        "color": "gray",
        "id": "-1168417964775817038",
        "label": "4",
        "shape": "rectangle"
       },
       "grabbable": true,
       "grabbed": false,
       "locked": false,
       "pannable": false,
       "position": {},
       "removed": false,
       "selectable": false,
       "selected": false
      }
     },
     "bbba9b13dd914e0294e73bce4361cc61": {
      "model_module": "jupyter-cytoscape",
      "model_module_version": "^1.3.3",
      "model_name": "NodeModel",
      "state": {
       "_model_module": "jupyter-cytoscape",
       "_model_module_version": "^1.3.3",
       "_model_name": "NodeModel",
       "_view_count": null,
       "_view_module": "jupyter-cytoscape",
       "_view_module_version": "^1.3.3",
       "_view_name": "NodeView",
       "classes": "",
       "data": {
        "color": "gray",
        "id": "-3952208620630883107",
        "label": "6",
        "shape": "rectangle"
       },
       "grabbable": true,
       "grabbed": false,
       "locked": false,
       "pannable": false,
       "position": {},
       "removed": false,
       "selectable": false,
       "selected": false
      }
     },
     "bc800096ceba4001845c63c97961ae5a": {
      "model_module": "jupyter-cytoscape",
      "model_module_version": "^1.3.3",
      "model_name": "NodeModel",
      "state": {
       "_model_module": "jupyter-cytoscape",
       "_model_module_version": "^1.3.3",
       "_model_name": "NodeModel",
       "_view_count": null,
       "_view_module": "jupyter-cytoscape",
       "_view_module_version": "^1.3.3",
       "_view_name": "NodeView",
       "classes": "",
       "data": {
        "color": "gray",
        "id": "-8047000201946989996",
        "label": "1",
        "shape": "rectangle"
       },
       "grabbable": true,
       "grabbed": false,
       "locked": false,
       "pannable": false,
       "position": {},
       "removed": false,
       "selectable": false,
       "selected": false
      }
     },
     "be3f1dd850664daa9d2fd6b97c49cdc7": {
      "model_module": "jupyter-cytoscape",
      "model_module_version": "^1.3.3",
      "model_name": "NodeModel",
      "state": {
       "_model_module": "jupyter-cytoscape",
       "_model_module_version": "^1.3.3",
       "_model_name": "NodeModel",
       "_view_count": null,
       "_view_module": "jupyter-cytoscape",
       "_view_module_version": "^1.3.3",
       "_view_name": "NodeView",
       "classes": "",
       "data": {
        "color": "gray",
        "id": "6063791583163731068",
        "label": "1",
        "shape": "rectangle"
       },
       "grabbable": true,
       "grabbed": false,
       "locked": false,
       "pannable": false,
       "position": {},
       "removed": false,
       "selectable": false,
       "selected": false
      }
     },
     "be859392a5ec44a4a3a0211be85a054f": {
      "model_module": "jupyter-cytoscape",
      "model_module_version": "^1.3.3",
      "model_name": "NodeModel",
      "state": {
       "_model_module": "jupyter-cytoscape",
       "_model_module_version": "^1.3.3",
       "_model_name": "NodeModel",
       "_view_count": null,
       "_view_module": "jupyter-cytoscape",
       "_view_module_version": "^1.3.3",
       "_view_name": "NodeView",
       "classes": "",
       "data": {
        "color": "gray",
        "id": "5527400648127460186",
        "label": "series-count-chunk",
        "shape": "ellipse"
       },
       "grabbable": true,
       "grabbed": false,
       "locked": false,
       "pannable": false,
       "position": {},
       "removed": false,
       "selectable": false,
       "selected": false
      }
     },
     "bed6545891ba4bb8b41b3ec873066a7e": {
      "model_module": "jupyter-cytoscape",
      "model_module_version": "^1.3.3",
      "model_name": "EdgeModel",
      "state": {
       "_model_module": "jupyter-cytoscape",
       "_model_module_version": "^1.3.3",
       "_model_name": "EdgeModel",
       "_view_count": null,
       "_view_module": "jupyter-cytoscape",
       "_view_module_version": "^1.3.3",
       "_view_name": "EdgeView",
       "classes": " directed ",
       "data": {
        "source": "5118316826027154421",
        "target": "1039658251086610763"
       },
       "pannable": true,
       "removed": false,
       "selectable": false,
       "selected": false
      }
     },
     "bf2aaf5e9e9848e4b02031e6e2b21590": {
      "model_module": "jupyter-cytoscape",
      "model_module_version": "^1.3.3",
      "model_name": "NodeModel",
      "state": {
       "_model_module": "jupyter-cytoscape",
       "_model_module_version": "^1.3.3",
       "_model_name": "NodeModel",
       "_view_count": null,
       "_view_module": "jupyter-cytoscape",
       "_view_module_version": "^1.3.3",
       "_view_name": "NodeView",
       "classes": "",
       "data": {
        "color": "gray",
        "id": "-1798112941359350289",
        "label": "series-count-chunk",
        "shape": "ellipse"
       },
       "grabbable": true,
       "grabbed": false,
       "locked": false,
       "pannable": false,
       "position": {},
       "removed": false,
       "selectable": false,
       "selected": false
      }
     },
     "bf9708fc0f1d49bebc349518d05fd495": {
      "model_module": "jupyter-cytoscape",
      "model_module_version": "^1.3.3",
      "model_name": "EdgeModel",
      "state": {
       "_model_module": "jupyter-cytoscape",
       "_model_module_version": "^1.3.3",
       "_model_name": "EdgeModel",
       "_view_count": null,
       "_view_module": "jupyter-cytoscape",
       "_view_module_version": "^1.3.3",
       "_view_name": "EdgeView",
       "classes": " directed ",
       "data": {
        "source": "-2337641893501581048",
        "target": "-6081567730941626298"
       },
       "pannable": true,
       "removed": false,
       "selectable": false,
       "selected": false
      }
     },
     "c0c2dbdc9f504a6cbe75c2bf5723f316": {
      "model_module": "jupyter-cytoscape",
      "model_module_version": "^1.3.3",
      "model_name": "NodeModel",
      "state": {
       "_model_module": "jupyter-cytoscape",
       "_model_module_version": "^1.3.3",
       "_model_name": "NodeModel",
       "_view_count": null,
       "_view_module": "jupyter-cytoscape",
       "_view_module_version": "^1.3.3",
       "_view_name": "NodeView",
       "classes": "",
       "data": {
        "color": "gray",
        "id": "-6081567730941626298",
        "label": "moment_combine-partial",
        "shape": "ellipse"
       },
       "grabbable": true,
       "grabbed": false,
       "locked": false,
       "pannable": false,
       "position": {},
       "removed": false,
       "selectable": false,
       "selected": false
      }
     },
     "c0fb34df48b14b389452748f12698085": {
      "model_module": "jupyter-cytoscape",
      "model_module_version": "^1.3.3",
      "model_name": "NodeModel",
      "state": {
       "_model_module": "jupyter-cytoscape",
       "_model_module_version": "^1.3.3",
       "_model_name": "NodeModel",
       "_view_count": null,
       "_view_module": "jupyter-cytoscape",
       "_view_module_version": "^1.3.3",
       "_view_name": "NodeView",
       "classes": "",
       "data": {
        "color": "gray",
        "id": "-7237756430772187749",
        "label": "getitem",
        "shape": "ellipse"
       },
       "grabbable": true,
       "grabbed": false,
       "locked": false,
       "pannable": false,
       "position": {},
       "removed": false,
       "selectable": false,
       "selected": false
      }
     },
     "c1188fd6d55c4c22ae4c3d05713155e2": {
      "model_module": "jupyter-cytoscape",
      "model_module_version": "^1.3.3",
      "model_name": "EdgeModel",
      "state": {
       "_model_module": "jupyter-cytoscape",
       "_model_module_version": "^1.3.3",
       "_model_name": "EdgeModel",
       "_view_count": null,
       "_view_module": "jupyter-cytoscape",
       "_view_module_version": "^1.3.3",
       "_view_name": "EdgeView",
       "classes": " directed ",
       "data": {
        "source": "4169998862600417377",
        "target": "-6081567730941626298"
       },
       "pannable": true,
       "removed": false,
       "selectable": false,
       "selected": false
      }
     },
     "c267002a2aaa4d7f9d20bbd6c0b4752d": {
      "model_module": "jupyter-cytoscape",
      "model_module_version": "^1.3.3",
      "model_name": "EdgeModel",
      "state": {
       "_model_module": "jupyter-cytoscape",
       "_model_module_version": "^1.3.3",
       "_model_name": "EdgeModel",
       "_view_count": null,
       "_view_module": "jupyter-cytoscape",
       "_view_module_version": "^1.3.3",
       "_view_name": "EdgeView",
       "classes": " directed ",
       "data": {
        "source": "-3697580435125433257",
        "target": "-710998636282631008"
       },
       "pannable": true,
       "removed": false,
       "selectable": false,
       "selected": false
      }
     },
     "c26dcc974a2c406a8e708a5a1338f847": {
      "model_module": "jupyter-cytoscape",
      "model_module_version": "^1.3.3",
      "model_name": "NodeModel",
      "state": {
       "_model_module": "jupyter-cytoscape",
       "_model_module_version": "^1.3.3",
       "_model_name": "NodeModel",
       "_view_count": null,
       "_view_module": "jupyter-cytoscape",
       "_view_module_version": "^1.3.3",
       "_view_name": "NodeView",
       "classes": "",
       "data": {
        "color": "gray",
        "id": "8241522882482119934",
        "label": "1",
        "shape": "rectangle"
       },
       "grabbable": true,
       "grabbed": false,
       "locked": false,
       "pannable": false,
       "position": {},
       "removed": false,
       "selectable": false,
       "selected": false
      }
     },
     "c2b497d0bdb849ed924622a5d0839c23": {
      "model_module": "jupyter-cytoscape",
      "model_module_version": "^1.3.3",
      "model_name": "EdgeModel",
      "state": {
       "_model_module": "jupyter-cytoscape",
       "_model_module_version": "^1.3.3",
       "_model_name": "EdgeModel",
       "_view_count": null,
       "_view_module": "jupyter-cytoscape",
       "_view_module_version": "^1.3.3",
       "_view_name": "EdgeView",
       "classes": " directed ",
       "data": {
        "source": "-4640376822563944501",
        "target": "-7199063508835351999"
       },
       "pannable": true,
       "removed": false,
       "selectable": false,
       "selected": false
      }
     },
     "c3327c14bab5436f8e6f88e18c930e28": {
      "model_module": "jupyter-cytoscape",
      "model_module_version": "^1.3.3",
      "model_name": "NodeModel",
      "state": {
       "_model_module": "jupyter-cytoscape",
       "_model_module_version": "^1.3.3",
       "_model_name": "NodeModel",
       "_view_count": null,
       "_view_module": "jupyter-cytoscape",
       "_view_module_version": "^1.3.3",
       "_view_name": "NodeView",
       "classes": "",
       "data": {
        "color": "gray",
        "id": "-8364226922810876857",
        "label": "4",
        "shape": "rectangle"
       },
       "grabbable": true,
       "grabbed": false,
       "locked": false,
       "pannable": false,
       "position": {},
       "removed": false,
       "selectable": false,
       "selected": false
      }
     },
     "c355f608f4c54306ba19e4157a873428": {
      "model_module": "jupyter-cytoscape",
      "model_module_version": "^1.3.3",
      "model_name": "GraphModel",
      "state": {
       "_adj": {},
       "_model_module": "jupyter-cytoscape",
       "_model_module_version": "^1.3.3",
       "_model_name": "GraphModel",
       "_view_count": null,
       "_view_module": "jupyter-cytoscape",
       "_view_module_version": "^1.3.3",
       "_view_name": null,
       "edges": [],
       "nodes": []
      }
     },
     "c37a85f121d34bdbbeb56ee9fa3f9790": {
      "model_module": "jupyter-cytoscape",
      "model_module_version": "^1.3.3",
      "model_name": "NodeModel",
      "state": {
       "_model_module": "jupyter-cytoscape",
       "_model_module_version": "^1.3.3",
       "_model_name": "NodeModel",
       "_view_count": null,
       "_view_module": "jupyter-cytoscape",
       "_view_module_version": "^1.3.3",
       "_view_name": "NodeView",
       "classes": "",
       "data": {
        "color": "gray",
        "id": "6509134381567269117",
        "label": "7",
        "shape": "rectangle"
       },
       "grabbable": true,
       "grabbed": false,
       "locked": false,
       "pannable": false,
       "position": {},
       "removed": false,
       "selectable": false,
       "selected": false
      }
     },
     "c54799ba12d9485d9e6cd5986066e86f": {
      "model_module": "jupyter-cytoscape",
      "model_module_version": "^1.3.3",
      "model_name": "NodeModel",
      "state": {
       "_model_module": "jupyter-cytoscape",
       "_model_module_version": "^1.3.3",
       "_model_name": "NodeModel",
       "_view_count": null,
       "_view_module": "jupyter-cytoscape",
       "_view_module_version": "^1.3.3",
       "_view_name": "NodeView",
       "classes": "",
       "data": {
        "color": "gray",
        "id": "-3045190196649170467",
        "label": "getitem",
        "shape": "ellipse"
       },
       "grabbable": true,
       "grabbed": false,
       "locked": false,
       "pannable": false,
       "position": {},
       "removed": false,
       "selectable": false,
       "selected": false
      }
     },
     "c5a7fc9041574338800d4358b02f98c6": {
      "model_module": "jupyter-cytoscape",
      "model_module_version": "^1.3.3",
      "model_name": "EdgeModel",
      "state": {
       "_model_module": "jupyter-cytoscape",
       "_model_module_version": "^1.3.3",
       "_model_name": "EdgeModel",
       "_view_count": null,
       "_view_module": "jupyter-cytoscape",
       "_view_module_version": "^1.3.3",
       "_view_name": "EdgeView",
       "classes": " directed ",
       "data": {
        "source": "-3262679260604039047",
        "target": "7789177448641578441"
       },
       "pannable": true,
       "removed": false,
       "selectable": false,
       "selected": false
      }
     },
     "c6006fcaf7574733b06a1cba8d50b372": {
      "model_module": "jupyter-cytoscape",
      "model_module_version": "^1.3.3",
      "model_name": "EdgeModel",
      "state": {
       "_model_module": "jupyter-cytoscape",
       "_model_module_version": "^1.3.3",
       "_model_name": "EdgeModel",
       "_view_count": null,
       "_view_module": "jupyter-cytoscape",
       "_view_module_version": "^1.3.3",
       "_view_name": "EdgeView",
       "classes": " directed ",
       "data": {
        "source": "2737840592670449670",
        "target": "6419437748365081947"
       },
       "pannable": true,
       "removed": false,
       "selectable": false,
       "selected": false
      }
     },
     "c65229f647044e93b3bd15ab7d88a240": {
      "model_module": "jupyter-cytoscape",
      "model_module_version": "^1.3.3",
      "model_name": "EdgeModel",
      "state": {
       "_model_module": "jupyter-cytoscape",
       "_model_module_version": "^1.3.3",
       "_model_name": "EdgeModel",
       "_view_count": null,
       "_view_module": "jupyter-cytoscape",
       "_view_module_version": "^1.3.3",
       "_view_name": "EdgeView",
       "classes": " directed ",
       "data": {
        "source": "341477248147713729",
        "target": "-1295738571246152183"
       },
       "pannable": true,
       "removed": false,
       "selectable": false,
       "selected": false
      }
     },
     "c746ab582ae149e4bdc6a3ff8f3c1904": {
      "model_module": "jupyter-cytoscape",
      "model_module_version": "^1.3.3",
      "model_name": "NodeModel",
      "state": {
       "_model_module": "jupyter-cytoscape",
       "_model_module_version": "^1.3.3",
       "_model_name": "NodeModel",
       "_view_count": null,
       "_view_module": "jupyter-cytoscape",
       "_view_module_version": "^1.3.3",
       "_view_name": "NodeView",
       "classes": "",
       "data": {
        "color": "gray",
        "id": "5599053926093446069",
        "label": "6",
        "shape": "rectangle"
       },
       "grabbable": true,
       "grabbed": false,
       "locked": false,
       "pannable": false,
       "position": {},
       "removed": false,
       "selectable": false,
       "selected": false
      }
     },
     "c779b4a1fdbf4df28e8e2e5b793605be": {
      "model_module": "jupyter-cytoscape",
      "model_module_version": "^1.3.3",
      "model_name": "NodeModel",
      "state": {
       "_model_module": "jupyter-cytoscape",
       "_model_module_version": "^1.3.3",
       "_model_name": "NodeModel",
       "_view_count": null,
       "_view_module": "jupyter-cytoscape",
       "_view_module_version": "^1.3.3",
       "_view_name": "NodeView",
       "classes": "",
       "data": {
        "color": "gray",
        "id": "-8745665757311998085",
        "label": "0",
        "shape": "rectangle"
       },
       "grabbable": true,
       "grabbed": false,
       "locked": false,
       "pannable": false,
       "position": {},
       "removed": false,
       "selectable": false,
       "selected": false
      }
     },
     "c7f03f74d0f24f5dbdb8b56386c4d7ea": {
      "model_module": "jupyter-cytoscape",
      "model_module_version": "^1.3.3",
      "model_name": "NodeModel",
      "state": {
       "_model_module": "jupyter-cytoscape",
       "_model_module_version": "^1.3.3",
       "_model_name": "NodeModel",
       "_view_count": null,
       "_view_module": "jupyter-cytoscape",
       "_view_module_version": "^1.3.3",
       "_view_name": "NodeView",
       "classes": "",
       "data": {
        "color": "gray",
        "id": "-5492374030425821650",
        "label": "8",
        "shape": "rectangle"
       },
       "grabbable": true,
       "grabbed": false,
       "locked": false,
       "pannable": false,
       "position": {},
       "removed": false,
       "selectable": false,
       "selected": false
      }
     },
     "c879d1a4ec1742f7bb8de203282fe482": {
      "model_module": "jupyter-cytoscape",
      "model_module_version": "^1.3.3",
      "model_name": "NodeModel",
      "state": {
       "_model_module": "jupyter-cytoscape",
       "_model_module_version": "^1.3.3",
       "_model_name": "NodeModel",
       "_view_count": null,
       "_view_module": "jupyter-cytoscape",
       "_view_module_version": "^1.3.3",
       "_view_name": "NodeView",
       "classes": "",
       "data": {
        "color": "gray",
        "id": "-3084897808650630744",
        "label": "read-csv",
        "shape": "ellipse"
       },
       "grabbable": true,
       "grabbed": false,
       "locked": false,
       "pannable": false,
       "position": {},
       "removed": false,
       "selectable": false,
       "selected": false
      }
     },
     "c89ff53e65804225ba8a475d8f667ec5": {
      "model_module": "jupyter-cytoscape",
      "model_module_version": "^1.3.3",
      "model_name": "NodeModel",
      "state": {
       "_model_module": "jupyter-cytoscape",
       "_model_module_version": "^1.3.3",
       "_model_name": "NodeModel",
       "_view_count": null,
       "_view_module": "jupyter-cytoscape",
       "_view_module_version": "^1.3.3",
       "_view_name": "NodeView",
       "classes": "",
       "data": {
        "color": "gray",
        "id": "7046835252584803797",
        "label": "0",
        "shape": "rectangle"
       },
       "grabbable": true,
       "grabbed": false,
       "locked": false,
       "pannable": false,
       "position": {},
       "removed": false,
       "selectable": false,
       "selected": false
      }
     },
     "c8c5225c5de64c959acfc5f7672c85cc": {
      "model_module": "jupyter-cytoscape",
      "model_module_version": "^1.3.3",
      "model_name": "NodeModel",
      "state": {
       "_model_module": "jupyter-cytoscape",
       "_model_module_version": "^1.3.3",
       "_model_name": "NodeModel",
       "_view_count": null,
       "_view_module": "jupyter-cytoscape",
       "_view_module_version": "^1.3.3",
       "_view_name": "NodeView",
       "classes": "",
       "data": {
        "color": "gray",
        "id": "-6340049391514107122",
        "label": "7",
        "shape": "rectangle"
       },
       "grabbable": true,
       "grabbed": false,
       "locked": false,
       "pannable": false,
       "position": {},
       "removed": false,
       "selectable": false,
       "selected": false
      }
     },
     "c972e623c3d34b51957c12412c9447c1": {
      "model_module": "jupyter-cytoscape",
      "model_module_version": "^1.3.3",
      "model_name": "NodeModel",
      "state": {
       "_model_module": "jupyter-cytoscape",
       "_model_module_version": "^1.3.3",
       "_model_name": "NodeModel",
       "_view_count": null,
       "_view_module": "jupyter-cytoscape",
       "_view_module_version": "^1.3.3",
       "_view_name": "NodeView",
       "classes": "",
       "data": {
        "color": "gray",
        "id": "7013865155261833224",
        "label": "series-sum-chunk",
        "shape": "ellipse"
       },
       "grabbable": true,
       "grabbed": false,
       "locked": false,
       "pannable": false,
       "position": {},
       "removed": false,
       "selectable": false,
       "selected": false
      }
     },
     "c9f557832ced48a8adaabddf398b0ec3": {
      "model_module": "jupyter-cytoscape",
      "model_module_version": "^1.3.3",
      "model_name": "NodeModel",
      "state": {
       "_model_module": "jupyter-cytoscape",
       "_model_module_version": "^1.3.3",
       "_model_name": "NodeModel",
       "_view_count": null,
       "_view_module": "jupyter-cytoscape",
       "_view_module_version": "^1.3.3",
       "_view_name": "NodeView",
       "classes": "",
       "data": {
        "color": "gray",
        "id": "7213620653222748128",
        "label": "8",
        "shape": "rectangle"
       },
       "grabbable": true,
       "grabbed": false,
       "locked": false,
       "pannable": false,
       "position": {},
       "removed": false,
       "selectable": false,
       "selected": false
      }
     },
     "ca044e8deef1430983dbaa4e9dc5c4ec": {
      "model_module": "jupyter-cytoscape",
      "model_module_version": "^1.3.3",
      "model_name": "EdgeModel",
      "state": {
       "_model_module": "jupyter-cytoscape",
       "_model_module_version": "^1.3.3",
       "_model_name": "EdgeModel",
       "_view_count": null,
       "_view_module": "jupyter-cytoscape",
       "_view_module_version": "^1.3.3",
       "_view_name": "EdgeView",
       "classes": " directed ",
       "data": {
        "source": "5234551277120410095",
        "target": "-1295738571246152183"
       },
       "pannable": true,
       "removed": false,
       "selectable": false,
       "selected": false
      }
     },
     "ca21a5dff7c24dad8b9fc1f8b4675ea2": {
      "model_module": "jupyter-cytoscape",
      "model_module_version": "^1.3.3",
      "model_name": "NodeModel",
      "state": {
       "_model_module": "jupyter-cytoscape",
       "_model_module_version": "^1.3.3",
       "_model_name": "NodeModel",
       "_view_count": null,
       "_view_module": "jupyter-cytoscape",
       "_view_module_version": "^1.3.3",
       "_view_name": "NodeView",
       "classes": "",
       "data": {
        "color": "gray",
        "id": "341477248147713729",
        "label": "2",
        "shape": "rectangle"
       },
       "grabbable": true,
       "grabbed": false,
       "locked": false,
       "pannable": false,
       "position": {},
       "removed": false,
       "selectable": false,
       "selected": false
      }
     },
     "cb54b979687640b48b24d9685753bfeb": {
      "model_module": "jupyter-cytoscape",
      "model_module_version": "^1.3.3",
      "model_name": "NodeModel",
      "state": {
       "_model_module": "jupyter-cytoscape",
       "_model_module_version": "^1.3.3",
       "_model_name": "NodeModel",
       "_view_count": null,
       "_view_module": "jupyter-cytoscape",
       "_view_module_version": "^1.3.3",
       "_view_name": "NodeView",
       "classes": "",
       "data": {
        "color": "gray",
        "id": "7146879917111949814",
        "label": "8",
        "shape": "rectangle"
       },
       "grabbable": true,
       "grabbed": false,
       "locked": false,
       "pannable": false,
       "position": {},
       "removed": false,
       "selectable": false,
       "selected": false
      }
     },
     "cb6c2c7d170d4360b3ffce7c544197f1": {
      "model_module": "jupyter-cytoscape",
      "model_module_version": "^1.3.3",
      "model_name": "NodeModel",
      "state": {
       "_model_module": "jupyter-cytoscape",
       "_model_module_version": "^1.3.3",
       "_model_name": "NodeModel",
       "_view_count": null,
       "_view_module": "jupyter-cytoscape",
       "_view_module_version": "^1.3.3",
       "_view_name": "NodeView",
       "classes": "",
       "data": {
        "color": "gray",
        "id": "-6876354734296537757",
        "label": "moment_chunk",
        "shape": "ellipse"
       },
       "grabbable": true,
       "grabbed": false,
       "locked": false,
       "pannable": false,
       "position": {},
       "removed": false,
       "selectable": false,
       "selected": false
      }
     },
     "ce5018d34af04097a6e80f1f355a2e1d": {
      "model_module": "jupyter-cytoscape",
      "model_module_version": "^1.3.3",
      "model_name": "NodeModel",
      "state": {
       "_model_module": "jupyter-cytoscape",
       "_model_module_version": "^1.3.3",
       "_model_name": "NodeModel",
       "_view_count": null,
       "_view_module": "jupyter-cytoscape",
       "_view_module_version": "^1.3.3",
       "_view_name": "NodeView",
       "classes": "",
       "data": {
        "color": "gray",
        "id": "5878771199469229374",
        "label": "read-csv",
        "shape": "ellipse"
       },
       "grabbable": true,
       "grabbed": false,
       "locked": false,
       "pannable": false,
       "position": {},
       "removed": false,
       "selectable": false,
       "selected": false
      }
     },
     "cef2120f3dc34c7385b54c942bca309e": {
      "model_module": "jupyter-cytoscape",
      "model_module_version": "^1.3.3",
      "model_name": "EdgeModel",
      "state": {
       "_model_module": "jupyter-cytoscape",
       "_model_module_version": "^1.3.3",
       "_model_name": "EdgeModel",
       "_view_count": null,
       "_view_module": "jupyter-cytoscape",
       "_view_module_version": "^1.3.3",
       "_view_name": "EdgeView",
       "classes": " directed ",
       "data": {
        "source": "-8894675563035275468",
        "target": "-1798112941359350289"
       },
       "pannable": true,
       "removed": false,
       "selectable": false,
       "selected": false
      }
     },
     "cf193c84d7b943bb84a9e9c9de701b6e": {
      "model_module": "jupyter-cytoscape",
      "model_module_version": "^1.3.3",
      "model_name": "EdgeModel",
      "state": {
       "_model_module": "jupyter-cytoscape",
       "_model_module_version": "^1.3.3",
       "_model_name": "EdgeModel",
       "_view_count": null,
       "_view_module": "jupyter-cytoscape",
       "_view_module_version": "^1.3.3",
       "_view_name": "EdgeView",
       "classes": " directed ",
       "data": {
        "source": "-5094545201424767691",
        "target": "1733882126380121509"
       },
       "pannable": true,
       "removed": false,
       "selectable": false,
       "selected": false
      }
     },
     "cf618a8a45ad4e04b925e0d76dd32cd1": {
      "model_module": "jupyter-cytoscape",
      "model_module_version": "^1.3.3",
      "model_name": "NodeModel",
      "state": {
       "_model_module": "jupyter-cytoscape",
       "_model_module_version": "^1.3.3",
       "_model_name": "NodeModel",
       "_view_count": null,
       "_view_module": "jupyter-cytoscape",
       "_view_module_version": "^1.3.3",
       "_view_name": "NodeView",
       "classes": "",
       "data": {
        "color": "gray",
        "id": "2138356970367016081",
        "label": "3",
        "shape": "rectangle"
       },
       "grabbable": true,
       "grabbed": false,
       "locked": false,
       "pannable": false,
       "position": {},
       "removed": false,
       "selectable": false,
       "selected": false
      }
     },
     "cfd8fb9da2f0434dab9d26b3676c1ef7": {
      "model_module": "jupyter-cytoscape",
      "model_module_version": "^1.3.3",
      "model_name": "EdgeModel",
      "state": {
       "_model_module": "jupyter-cytoscape",
       "_model_module_version": "^1.3.3",
       "_model_name": "EdgeModel",
       "_view_count": null,
       "_view_module": "jupyter-cytoscape",
       "_view_module_version": "^1.3.3",
       "_view_name": "EdgeView",
       "classes": " directed ",
       "data": {
        "source": "-6481371090980499326",
        "target": "-7146572206761240389"
       },
       "pannable": true,
       "removed": false,
       "selectable": false,
       "selected": false
      }
     },
     "d0e5f2775fc644b1b4aaac8ce743ffc2": {
      "model_module": "jupyter-cytoscape",
      "model_module_version": "^1.3.3",
      "model_name": "NodeModel",
      "state": {
       "_model_module": "jupyter-cytoscape",
       "_model_module_version": "^1.3.3",
       "_model_name": "NodeModel",
       "_view_count": null,
       "_view_module": "jupyter-cytoscape",
       "_view_module_version": "^1.3.3",
       "_view_name": "NodeView",
       "classes": "",
       "data": {
        "color": "gray",
        "id": "-1273089478981588330",
        "label": "0",
        "shape": "rectangle"
       },
       "grabbable": true,
       "grabbed": false,
       "locked": false,
       "pannable": false,
       "position": {},
       "removed": false,
       "selectable": false,
       "selected": false
      }
     },
     "d1339bf2fd53467d977fe508bb53eb7d": {
      "model_module": "jupyter-cytoscape",
      "model_module_version": "^1.3.3",
      "model_name": "GraphModel",
      "state": {
       "_adj": {
        "-1085869858421025898": {},
        "-1142954263604264911": {},
        "-1168417964775817038": {},
        "-1243931491229737059": {},
        "-1244908068966501418": {},
        "-1273089478981588330": {},
        "-1295738571246152183": {},
        "-1421712943183145362": {},
        "-1539359445844991571": {},
        "-1557321562444232389": {},
        "-1585493129879916275": {},
        "-1798112941359350289": {},
        "-1856586166708878432": {},
        "-1915387010511216957": {},
        "-1934688317457873006": {},
        "-2163696303039256648": {},
        "-2280770903502057702": {},
        "-2337641893501581048": {},
        "-2637035561857645149": {},
        "-2708583374570755581": {},
        "-2752110461598922091": {},
        "-2782984691905119097": {},
        "-2959744336396459391": {},
        "-301769445651611375": {},
        "-3025810095434642442": {},
        "-3045190196649170467": {},
        "-3084897808650630744": {},
        "-3153926172974293630": {},
        "-3262679260604039047": {},
        "-3471152893838180491": {},
        "-3697580435125433257": {},
        "-3736961712941930941": {},
        "-3750991364865634352": {},
        "-3775654634878766691": {},
        "-3910029575411109872": {},
        "-3952208620630883107": {},
        "-4004662620460150333": {},
        "-4132394775795343656": {},
        "-4149925868965974750": {},
        "-4291432986340819176": {},
        "-4323150101700057640": {},
        "-4369283785734982344": {},
        "-443849172938267357": {},
        "-4478001879278538834": {},
        "-4640376822563944501": {},
        "-4709526429806405716": {},
        "-4748219351743241466": {},
        "-4866804363851197267": {},
        "-4868564640351881236": {},
        "-4892268065022749394": {},
        "-4992513829734551955": {},
        "-5055852279487931941": {},
        "-5094545201424767691": {},
        "-5396790113351294064": {},
        "-5429968936040284074": {},
        "-5492374030425821650": {},
        "-551960425737155488": {},
        "-5580436266955810788": {},
        "-5859979184636504983": {},
        "-5861341931185371210": {},
        "-6061491993748513404": {},
        "-6081567730941626298": {},
        "-6340049391514107122": {},
        "-645433685488049988": {},
        "-6481371090980499326": {},
        "-6665468836333944252": {},
        "-6749660195681574798": {},
        "-6836473340103990327": {},
        "-687362237983114422": {},
        "-6876354734296537757": {},
        "-710998636282631008": {},
        "-7146572206761240389": {},
        "-7195002994085112847": {},
        "-7199063508835351999": {},
        "-7237756430772187749": {},
        "-7506225304720220188": {},
        "-753194657295659347": {},
        "-7650595019706263336": {},
        "-7676058720877815463": {},
        "-7873775969212907106": {},
        "-7954616118643409181": {},
        "-8047000201946989996": {},
        "-8288946089799969357": {},
        "-8328653701801429634": {},
        "-8364226922810876857": {},
        "-8506435153754837937": {},
        "-8590654464098129623": {},
        "-8677439657524884012": {},
        "-8717321051717431442": {},
        "-8745665757311998085": {},
        "-8845282649603579473": {},
        "-8894675563035275468": {},
        "-8898352797611363919": {},
        "-8987538524182134074": {},
        "-9040029826256245684": {},
        "-9093072994948542399": {},
        "-9123840047369173191": {},
        "-9190580783479971505": {},
        "-975327566119350670": {},
        "1015266725676176775": {},
        "1039658251086610763": {},
        "1041134959757340135": {},
        "1129967681138262677": {},
        "1170717554191034702": {},
        "1174371044317164831": {},
        "1197821667672790837": {},
        "1333726317739689018": {},
        "1492764528285164538": {},
        "1493625465270692": {},
        "1733882126380121509": {},
        "1802593426144580699": {},
        "1808463089735715399": {},
        "1867263933538053924": {},
        "1875203825846513713": {},
        "187903613662866949": {},
        "193896362606413340": {},
        "2138356970367016081": {},
        "2140963567373774275": {},
        "2184490654401940785": {},
        "2296891433433737580": {},
        "2479899153016378069": {},
        "2583699768770554130": {},
        "260637098717211654": {},
        "2606720331293153741": {},
        "2638937363561853589": {},
        "2737840592670449670": {},
        "2785284281320336761": {},
        "2817606229255747246": {},
        "341477248147713729": {},
        "3725343725712203048": {},
        "3755530294503076334": {},
        "3799057381531242844": {},
        "3855796558417638853": {},
        "4006167973290477409": {},
        "4065327348394646085": {},
        "4109915185610210327": {},
        "4137745440851380952": {},
        "4169998862600417377": {},
        "431511445360471944": {},
        "4490561235855139543": {},
        "4532757256868167882": {},
        "4787656273146107238": {},
        "4894567654437967058": {},
        "4968281310257006854": {},
        "502357459496961667": {},
        "5118316826027154421": {},
        "5207735522976017808": {},
        "5234551277120410095": {},
        "523790243237714022": {},
        "5280454132196232743": {},
        "5527400648127460186": {},
        "5529985243745774996": {},
        "5532313189982647755": {},
        "5537724665293057018": {},
        "557365326517556517": {},
        "5599053926093446069": {},
        "5679894075523948144": {},
        "5700989747515821071": {},
        "5862207070613948437": {},
        "5878771199469229374": {},
        "5905151563193236077": {},
        "596058248454392267": {},
        "5965231749786564977": {},
        "6063791583163731068": {},
        "6373723574289061567": {},
        "639239161009951389": {},
        "6419437748365081947": {},
        "6509134381567269117": {},
        "6528131734081259889": {},
        "6701537118708411765": {},
        "6768277854819210079": {},
        "6849118004249712154": {},
        "6969668470498471259": {},
        "6975172233324997474": {},
        "7013865155261833224": {},
        "7046835252584803797": {},
        "7072298953756355924": {},
        "7146879917111949814": {},
        "7191646607215241527": {},
        "7213620653222748128": {},
        "7247309235130152209": {},
        "7332258639229832931": {},
        "7406347445675627729": {},
        "7476773797743250496": {},
        "7551397683276951282": {},
        "7678358310293033127": {},
        "7719737516890123059": {},
        "7774410054834616600": {},
        "7789177448641578441": {},
        "8241522882482119934": {},
        "8316103845837713824": {},
        "8382844581948512138": {},
        "8645997726469014506": {},
        "8686865680885657983": {},
        "8958401377367342451": {},
        "9194632868215533697": {},
        "952322906809979714": {},
        "969133041641252071": {}
       },
       "_model_module": "jupyter-cytoscape",
       "_model_module_version": "^1.3.3",
       "_model_name": "GraphModel",
       "_view_count": null,
       "_view_module": "jupyter-cytoscape",
       "_view_module_version": "^1.3.3",
       "_view_name": null,
       "edges": [
        "IPY_MODEL_bed6545891ba4bb8b41b3ec873066a7e",
        "IPY_MODEL_e43c81e9366a4cb5b7a199109d27e3bc",
        "IPY_MODEL_5bfd90ebcccc46d2ad0bb4cec1ebebab",
        "IPY_MODEL_f1fffa7359534c7ab3f8dd701e23ff67",
        "IPY_MODEL_8baea921d5d64af8be1b62f6cae27668",
        "IPY_MODEL_d933bc64105e4dc1b06ad5428139e7fd",
        "IPY_MODEL_f5396fb12f8943e99dac865721460390",
        "IPY_MODEL_d1a20cf172c841a1b20c9a678e928052",
        "IPY_MODEL_1994c29e6d8c4dbf9995834d8e19c360",
        "IPY_MODEL_ecebf707aef045dd9cf879d275ce1d4d",
        "IPY_MODEL_8bb404bf7ccd4fe8b4e3c4f6870e9978",
        "IPY_MODEL_ab1372e2f1014d92a91ecb9746d1c23c",
        "IPY_MODEL_a01965af25884c36995d1389915f6c68",
        "IPY_MODEL_172d3c6f40c1457da404398a1ee8970f",
        "IPY_MODEL_03a08327c32448ddbaf7a5647f9d1b27",
        "IPY_MODEL_b04f2c47720946429bd27ded1e1cc49f",
        "IPY_MODEL_17597d39e996484b95ade5062f96cbf6",
        "IPY_MODEL_6eab710bf39f4aadb8541db66c472a9b",
        "IPY_MODEL_8009c6415ad64c65bccf22fc26553d47",
        "IPY_MODEL_a87691f1481c4a199d9859c0a0d32e5d",
        "IPY_MODEL_6702506a7931467cb61e1d68f254573c",
        "IPY_MODEL_84c001febe6f41b5a8ecf3af587e0f25",
        "IPY_MODEL_729f27810849470d839338c95acfd66d",
        "IPY_MODEL_2d9a33b59e1e4e07b899ddbb34945949",
        "IPY_MODEL_e57f6be610aa4572b29568d73aaeb740",
        "IPY_MODEL_fefa1f7e44d344a5ab6ed5e63b37b4bf",
        "IPY_MODEL_64dd9735328042f89c35f20ea160669e",
        "IPY_MODEL_61da646330de425cb88bbac6bad4f495",
        "IPY_MODEL_3f0bd5eb150940bebe097eb87815e904",
        "IPY_MODEL_60f35297144d41ed8970e82e5f5e91b1",
        "IPY_MODEL_9e335899db2c4a81bba1fb32dee42c50",
        "IPY_MODEL_7473b5df46d846909a497c5cb7af1cd3",
        "IPY_MODEL_85667fb9a0d44c22a7423e2a8aba57f7",
        "IPY_MODEL_a43797ad9e814bd0a5a8c08b633fc1b6",
        "IPY_MODEL_3a58251ebf0249268d182ee624d37e76",
        "IPY_MODEL_58ec7bbaf52545fe938f8a1bc08b7201",
        "IPY_MODEL_edd5e86f52ff4f208b589e4dc3f0ff35",
        "IPY_MODEL_f46148aea7f84447a8e50b1923f7b392",
        "IPY_MODEL_af594fd3a67e436b98fcc39689c92944",
        "IPY_MODEL_010bb5778a314d61b46b521d5b9f427e",
        "IPY_MODEL_f3894788eb0547478ca9b33c4e7d0a0a",
        "IPY_MODEL_80a107d0a73741f28321f252f97c2d31",
        "IPY_MODEL_a6e3e833fe784451b828966703dafa8e",
        "IPY_MODEL_cf193c84d7b943bb84a9e9c9de701b6e",
        "IPY_MODEL_48f51a81155d4caab9d5e0089e097e20",
        "IPY_MODEL_971a6cc7f5da4529b19d746ac765c8e4",
        "IPY_MODEL_53f1361530704d8a87fbe13492ebb92c",
        "IPY_MODEL_9cc9561759c04e68bfcf4f1e873d1f74",
        "IPY_MODEL_0b10d2f15b044ef1b2d72428c7811552",
        "IPY_MODEL_a474eb7d630d423c8a3552fac61aaf67",
        "IPY_MODEL_39d71ebd3c274dc48275e128a1380aca",
        "IPY_MODEL_1aed44a0d96f48b1b1ba32df546ba0ca",
        "IPY_MODEL_e903c2dfc0644f3197521369228da6a7",
        "IPY_MODEL_f563a8ba756344c48c4f10dec2382906",
        "IPY_MODEL_82678133d696427e87d36fd6365205b6",
        "IPY_MODEL_9bd55d8814e547389f2971402469e89a",
        "IPY_MODEL_368afa799b5645d294b3ff751808462f",
        "IPY_MODEL_b2d3845f07834231a5333d300a4851c9",
        "IPY_MODEL_584fe1b064524210aef86256105cbcf6",
        "IPY_MODEL_40228d5a3aaf49168b0b6c9d3b9bef59",
        "IPY_MODEL_b91f5554fdd54996bab3bf67e6192410",
        "IPY_MODEL_0380525e62764a80aeac6719cffd8a39",
        "IPY_MODEL_8d38093013ef4cfb834baec60bde27df",
        "IPY_MODEL_2576ec5d3eea4077b82edc279f1a0fd2",
        "IPY_MODEL_1e182ab5012c4bc38b003d7459dfce66",
        "IPY_MODEL_9fcefb05ea1e4e7b9d90203012874ed8",
        "IPY_MODEL_99d252e8b8824d2f8d99402bf1178d06",
        "IPY_MODEL_e0e3b206add44a9b83bd6019cc8bea22",
        "IPY_MODEL_c267002a2aaa4d7f9d20bbd6c0b4752d",
        "IPY_MODEL_179b23dfb0a2417a98f50e6587c415b5",
        "IPY_MODEL_80854bbe86e14bd09f7a6b8ef6866ee8",
        "IPY_MODEL_091a8705e8f4433ba2172e3795599a65",
        "IPY_MODEL_cfd8fb9da2f0434dab9d26b3676c1ef7",
        "IPY_MODEL_997c47acefec4752abecb6ea2651ad9a",
        "IPY_MODEL_dc41cecd66cf4c4ca2717360e465bb1a",
        "IPY_MODEL_ee3a57146f9e45f291e8ba3172d124ab",
        "IPY_MODEL_e94470f2edb542f0bb936b525e262a89",
        "IPY_MODEL_52cd9782ec024733bd877dc2ed639307",
        "IPY_MODEL_1d3f48a050b24432bd321dabacf9e408",
        "IPY_MODEL_87b2adb56662429991c298aaa4bc0fb3",
        "IPY_MODEL_d43178cdb47949ed81b7cbaf026aa310",
        "IPY_MODEL_a8acb79d022f4015a78ac8dc22d680ec",
        "IPY_MODEL_9beae519e61b4a1fbe810b04c3057a27",
        "IPY_MODEL_16723d26c6fb4dc7ac0f8249ba18d8bf",
        "IPY_MODEL_61a1129ff5d2492ca2adff674c5c1fe5",
        "IPY_MODEL_2e4afa7ef89e41aeab39a15976f22555",
        "IPY_MODEL_8888f6c5ff0547bb92b928ee2a5996af",
        "IPY_MODEL_268368d6438c4896918b6e6810a4e82b",
        "IPY_MODEL_0e61a148a66940e7b01d0ca4e5dc0109",
        "IPY_MODEL_7f1664f80fd84e5eac3b170dba9f8367",
        "IPY_MODEL_7f1d5d32e3c14e34b3e09ac6c8ecb829",
        "IPY_MODEL_eb5acce0058443f0b7fd74a7314c6706",
        "IPY_MODEL_1555a08c746b4fc8be73e8d9575bfdb7",
        "IPY_MODEL_a3f61aafc8ba4d3faced4413cf58c962",
        "IPY_MODEL_ee068ae1952746a6b97e50131b1d2bb7",
        "IPY_MODEL_15bd802ebeab4b7ebf42004e6920c8a8",
        "IPY_MODEL_a0bf603650d74b848a462f1b546ace79",
        "IPY_MODEL_eb9228ebce70426588a3e6e6477b6c57",
        "IPY_MODEL_c2b497d0bdb849ed924622a5d0839c23",
        "IPY_MODEL_a7ed6fb91583484798c1cf7574f18eac",
        "IPY_MODEL_944d36e712ba42779219d08d1f10ada5",
        "IPY_MODEL_81452cfb23bb48348df00af18089edbf",
        "IPY_MODEL_91265cc6e24b404da887acbcbd46ad32",
        "IPY_MODEL_79303e73b4b84104ae6ed9937b92f57d",
        "IPY_MODEL_960d0c97147a49aeb69d95b0afa1397c",
        "IPY_MODEL_ec44b6d3f7134f1891b21eb560fff9d1",
        "IPY_MODEL_475fa89a9668406ea2708288dc7300e0",
        "IPY_MODEL_fa7c1f0cdaa942c4908d2a888250d31c",
        "IPY_MODEL_14ce21c6699646bbb668d00309e771a9",
        "IPY_MODEL_e3b93deba66340adb6e14efed5a2af6f",
        "IPY_MODEL_9bd4dfb97404495e9ba711626e9ef284",
        "IPY_MODEL_1efcf7019d474ad6993eca25867f0a65",
        "IPY_MODEL_528f44e86a844905ba078c4be13ecebd",
        "IPY_MODEL_2a34c82a93394ebf8aa191782b3d8744",
        "IPY_MODEL_635646fb58954635a6e777791a36e898",
        "IPY_MODEL_e6195f82d9ca4ee389152a1b9170c0d7",
        "IPY_MODEL_6dbe2212153c4a46b7dcdfdc2ff210b7",
        "IPY_MODEL_4bb2cc84957f4800a0d14ea49b14de7f",
        "IPY_MODEL_47cb152934ee4e0fb618f52e6a6ffb80",
        "IPY_MODEL_c5a7fc9041574338800d4358b02f98c6",
        "IPY_MODEL_8c13a5d899f840d496897eedbde6c2d9",
        "IPY_MODEL_48f25190cc5744f9ac064ac2646faa59",
        "IPY_MODEL_8ed1b73125614f909c9416650d0fddf8",
        "IPY_MODEL_a88e3c99f9f24dcfa7f1e2adba87e65a",
        "IPY_MODEL_c65229f647044e93b3bd15ab7d88a240",
        "IPY_MODEL_abc2233213f14bacb8f55582874309fc",
        "IPY_MODEL_506ef396b17942638b14838d5312e107",
        "IPY_MODEL_3c32239835dc49439f59ded4a8d7c415",
        "IPY_MODEL_ca044e8deef1430983dbaa4e9dc5c4ec",
        "IPY_MODEL_22fdd4dce6604804a4caec994aea3811",
        "IPY_MODEL_9455c3f8b4254185a99a6cf9cfe0bd63",
        "IPY_MODEL_9884150b17074649952cebae4b2e791c",
        "IPY_MODEL_b731a9edf3e44e2380320552691c852e",
        "IPY_MODEL_4226458c84f14910916aebaa5433ed25",
        "IPY_MODEL_a5e001c1b048451191e068a937cff4fa",
        "IPY_MODEL_cef2120f3dc34c7385b54c942bca309e",
        "IPY_MODEL_dae751b8bbd044a988cdca882fc7d4b2",
        "IPY_MODEL_35b8a59ec5c24a2fa6cdd41a09070d6f",
        "IPY_MODEL_769da2bc69a7431687833804a3326ba9",
        "IPY_MODEL_2c85173e14d245abab363999a5404c0d",
        "IPY_MODEL_1977934c7a984bed96fc68df479b1bbc",
        "IPY_MODEL_66ef9af3da50418096c0496a86ddcf7f",
        "IPY_MODEL_214456b261f142d5b13fbcf4c65b5801",
        "IPY_MODEL_d326cc5555784059a28a552bf7784edf",
        "IPY_MODEL_7e6e44256bca47c292d4932defb42107",
        "IPY_MODEL_ae6953fc17be46d4bc2e69615b391697",
        "IPY_MODEL_7230cd1159b1422180b0082907c1e877",
        "IPY_MODEL_2511dff940994df5aba4c4b5d049a319",
        "IPY_MODEL_ab49f1b6d7444ee79d232441302fb452",
        "IPY_MODEL_e8b3c07195ea41648dba8bf0d2b93ebd",
        "IPY_MODEL_e6620e852b464ecf92afa1b418b68078",
        "IPY_MODEL_0b661cc4bafc4f969f62e0d6f18446bb",
        "IPY_MODEL_889718f5e49f42948ce8be76cabe800e",
        "IPY_MODEL_aa7084f4c6034e5c907e41766309c84a",
        "IPY_MODEL_c6006fcaf7574733b06a1cba8d50b372",
        "IPY_MODEL_e1c8d3a08ab74fdfb7c180fa09766336",
        "IPY_MODEL_3a0d0d2a7da34fc9b0348244a0bcc898",
        "IPY_MODEL_b4e1c2f286d842409fce53c9703b904b",
        "IPY_MODEL_4bc65817e95142539ff5a4f18e580a64",
        "IPY_MODEL_512c317e942a40ae9a2108d3c4b369ac",
        "IPY_MODEL_2de497a0c0384095abbf752c7b21f4d5",
        "IPY_MODEL_d7f804ac675c47faa09fde125d3a1b95",
        "IPY_MODEL_2f40d4938fa846fbaf84189f0f669edc",
        "IPY_MODEL_3aa0fdfd69124d60847005b2c74b7540",
        "IPY_MODEL_386f8105425643e9b924de72cdc1ad33",
        "IPY_MODEL_e11752e37219487ca855fb8c7cca5323",
        "IPY_MODEL_06f248e4750f419ca12419dd51cd859c",
        "IPY_MODEL_ae773918f47949408030443dfd56e49c",
        "IPY_MODEL_1b1dd12aff4548049fde75aff72284d1",
        "IPY_MODEL_f8e3ab7fdd524dcab0d6d2fbbab1a734",
        "IPY_MODEL_95d0e453ea1a4099b67c0506a65d734b",
        "IPY_MODEL_40f5824532c94964b1499be0589aab48",
        "IPY_MODEL_4d91bf2ca4564349a1b9929d35a5c338",
        "IPY_MODEL_36b42d7d71dc459fb6e4fd5720da4d32",
        "IPY_MODEL_2e33b3f2c02d455995c17bcf60382b61",
        "IPY_MODEL_5aec9e3d5e9547ccbd27dbe442047993",
        "IPY_MODEL_68a511e257d443cf87faab769b135c54",
        "IPY_MODEL_9404b95f0f354c8780a63d6f1bdb8260",
        "IPY_MODEL_8fc316cfdd804a21a5dce12827e8f85f",
        "IPY_MODEL_ab43d22ee6b84d8baf5930dda1a6e117",
        "IPY_MODEL_dcfb272127374ef69b199a4392636c80",
        "IPY_MODEL_1b2dc0bf3d0049fca57fa4df6fd3b3f6",
        "IPY_MODEL_e0cc208a10a04d6985b8b30fe4d40d3e",
        "IPY_MODEL_f9bd54f12e3746c99721082504886d62",
        "IPY_MODEL_1afb3798a95b4559b0f9c830a2556d11",
        "IPY_MODEL_91826af7bee04f66874f4caa2cccc199",
        "IPY_MODEL_7bfb7ed2e6cb4029b23f4a4a875e4fd0",
        "IPY_MODEL_823b8d22a03045ba84470e695eb2fc57",
        "IPY_MODEL_3fdfee921fcf4805963e627a7b8ba6c7",
        "IPY_MODEL_346616dbece54b9ab64c3028bec5c167",
        "IPY_MODEL_f7c65a70ad0a4c4d86d0f99f5b61a11e",
        "IPY_MODEL_45c445fb3b324d57a1d56061785cb0b8",
        "IPY_MODEL_3b8edf82a7c24b83b20269a1ed052a65",
        "IPY_MODEL_de59a96d2fcc4680b514f650e3daaf0c",
        "IPY_MODEL_0ddb58f661994193bc1e40d5a3521577",
        "IPY_MODEL_e0772fe253ac4417805655e6d8f7a02a",
        "IPY_MODEL_58ce1b3945fe4ebb808022f2acee2f76",
        "IPY_MODEL_3145fefadb87466eae45ef170b2b3188",
        "IPY_MODEL_d5cc93b988a041ff98ccc8be32a8e74e",
        "IPY_MODEL_8293542c128a43489298535a929d5730",
        "IPY_MODEL_208e05d3cd034aa3a154875d783c521c",
        "IPY_MODEL_18849f2219dd41198797e7deca14857b",
        "IPY_MODEL_4dd929b446ba46eab8ad10e228fb2aca",
        "IPY_MODEL_fa07e3bfc9b74685b29c4d45626316d8",
        "IPY_MODEL_b0f1871c359a4555a2bdb1837a4c39b6",
        "IPY_MODEL_457c0921d0714e03b263cae07ff4ce36",
        "IPY_MODEL_eec5910694bc4591a8a0abe53e87fdad",
        "IPY_MODEL_223d42cb0bec438dbfb578a34b7ecf21",
        "IPY_MODEL_50a93a9b142a493c91311cad4a6d84d8",
        "IPY_MODEL_eedec6f4d1e746d0ac1a3f0ead565466",
        "IPY_MODEL_b1129ac3c68c4bbebe73cc3e36cb9974",
        "IPY_MODEL_f209decf7405490cbfa6f0ff4fa51dac",
        "IPY_MODEL_596dce1032954e1c920c22219a4daaa1",
        "IPY_MODEL_84e4a1a39de246d495975157b42f42b8",
        "IPY_MODEL_357bd97b7d034045b748c4a0202a2100",
        "IPY_MODEL_afc3762ced9b4daf9d4470c1adbb39f6",
        "IPY_MODEL_bf9708fc0f1d49bebc349518d05fd495",
        "IPY_MODEL_c1188fd6d55c4c22ae4c3d05713155e2",
        "IPY_MODEL_514d78bdcaa6470ea393368dcb490c6e",
        "IPY_MODEL_57175a1b962a48669d318efbcd28f3f4",
        "IPY_MODEL_0f0e3916a2a545358d11c0d0ddc8eede",
        "IPY_MODEL_d13e32415c4a429a931dbf518943613e",
        "IPY_MODEL_ea9543a65f834ff0bcd8298d260294f0",
        "IPY_MODEL_0b7a5e2e2568499999492c6597d39b29",
        "IPY_MODEL_ef0d6920878d48c19833a16b67bfa7f3",
        "IPY_MODEL_6a201c3e7cb84072961ee529fe2d9669"
       ],
       "nodes": [
        "IPY_MODEL_0e4595cb3df94c4fb7d0584a0b9c1317",
        "IPY_MODEL_886d6e52b0084b40a95d9138f025f860",
        "IPY_MODEL_37a659814b2b4bacb4c1b5b165fc8018",
        "IPY_MODEL_e05c8d68e86240778cc1ebba726d3acb",
        "IPY_MODEL_f32d19ed2cfd4e72a55ae7a8754ae3e8",
        "IPY_MODEL_483155ad4be74985a92f0af69b691ecc",
        "IPY_MODEL_e6053b8e995a4bc19328a20280a23eb8",
        "IPY_MODEL_62f6a55e3ba744a299817b9a0829b746",
        "IPY_MODEL_1628be5468ef4a38a431da053429e207",
        "IPY_MODEL_bc800096ceba4001845c63c97961ae5a",
        "IPY_MODEL_893b1c57084544589ca9b212d1636e48",
        "IPY_MODEL_b1419e436696446d8626f974185db0dc",
        "IPY_MODEL_08dad3bd02514a788f219c090a51c8ed",
        "IPY_MODEL_a06d9fb9461743a48567b43ee648176b",
        "IPY_MODEL_e461bef15ec84ab084cc773bc9e53d6f",
        "IPY_MODEL_7886fe4e1e2b4b52a6f6180911ff6deb",
        "IPY_MODEL_82660ad89b344e04b2c6bcc8902f6708",
        "IPY_MODEL_cf618a8a45ad4e04b925e0d76dd32cd1",
        "IPY_MODEL_1ccbce70a7834ff6acf472798e136a81",
        "IPY_MODEL_19f17d4ba5e248b08df3f1ec5aa55d4a",
        "IPY_MODEL_2ea73f71b7724d13b5001be04e12345f",
        "IPY_MODEL_2f4e78264a084c3886ac6c128647652e",
        "IPY_MODEL_72cd1580967842e2aa89110f3f7f784e",
        "IPY_MODEL_c3327c14bab5436f8e6f88e18c930e28",
        "IPY_MODEL_050e04e058dc478282c4b4bc4fcd455f",
        "IPY_MODEL_3ceb5efc09fd42fd8a1c2bc7439a35b9",
        "IPY_MODEL_e6e39f1fd3604118ab2c6afe90ceede1",
        "IPY_MODEL_864c968f4e0f45fc852b1fc36a74c9f4",
        "IPY_MODEL_29e26345ce5f4468b08bdeb66f36235e",
        "IPY_MODEL_0e3c451ad1f64727b9815b13ae8e11bb",
        "IPY_MODEL_8dc8bdc90d3e4c5cb16c5d46608910dc",
        "IPY_MODEL_2d072f8c760445c38f68dc94a73a7dd2",
        "IPY_MODEL_6f75496b06854d788fccc304dbf9dfe8",
        "IPY_MODEL_e1d0bfcdcc354530b94967d3d728689e",
        "IPY_MODEL_69d63df9dcda4ee9ae01bda71b6cc70f",
        "IPY_MODEL_0cc01549facf40f1ad0db1f04ec280e9",
        "IPY_MODEL_1c273a0c8c6545b8a33fd339f2093bb0",
        "IPY_MODEL_03101d363f3c4fc4ab8bba82e1e0b6cc",
        "IPY_MODEL_c7f03f74d0f24f5dbdb8b56386c4d7ea",
        "IPY_MODEL_e68879a091e6448180e67bf3febe66a9",
        "IPY_MODEL_f506b00ca2b44cefa0cb01f4b9115395",
        "IPY_MODEL_68cf25da4dc34359b79326c86bb2ebd4",
        "IPY_MODEL_53a6cf1c6557405095c4b07c2a4793e5",
        "IPY_MODEL_40253c562f294ce7bd2e4e0e46c5ee42",
        "IPY_MODEL_feeb14fac3b24a72aa2eaa44b469b965",
        "IPY_MODEL_96c64c3251ff4814b8d6f4022dace18b",
        "IPY_MODEL_22569ba7520448b592d983dbab6c63c9",
        "IPY_MODEL_8b798b2f97d147dea9cd2e8d21c1f2da",
        "IPY_MODEL_14656d4e3899441887055a75305db91e",
        "IPY_MODEL_ce5018d34af04097a6e80f1f355a2e1d",
        "IPY_MODEL_82d8fd67ad094f13a7b8c1a8ded28222",
        "IPY_MODEL_4c1843c97b274520a3c1aeb2db513d2b",
        "IPY_MODEL_4a7257e5b8594ac690b39fac58872754",
        "IPY_MODEL_c879d1a4ec1742f7bb8de203282fe482",
        "IPY_MODEL_63e285c8fbe14e9a8a5fd8c38972bbce",
        "IPY_MODEL_0680961e0de040fab6dcb2ed0a4183ac",
        "IPY_MODEL_56a08ae51c1a4368b961fdbfc547398c",
        "IPY_MODEL_c26dcc974a2c406a8e708a5a1338f847",
        "IPY_MODEL_d252240f9b7f4fe2ad393d0424f67957",
        "IPY_MODEL_348ed0bb2645498bbbbea5357441537b",
        "IPY_MODEL_62a748653e3b4587bb71410349b2e0e3",
        "IPY_MODEL_27943f1fe8e8423db7c2ca966837eaa5",
        "IPY_MODEL_388ad26230a7461ebdb01c2e8ab22bc1",
        "IPY_MODEL_e0c02f392be243029c37925bd1bd1178",
        "IPY_MODEL_b708565cda3449979de86c04601789eb",
        "IPY_MODEL_5e1d7c83656b4c19a1184c743eeeabb3",
        "IPY_MODEL_b7af3b44434546c7bc7242995745ab08",
        "IPY_MODEL_753a2de9446c4b0b9ac1da41e883d413",
        "IPY_MODEL_9a759f6dd8ce45b8add03c2ea0ac6c84",
        "IPY_MODEL_b52c9f950c734e889abfa0d19f75b011",
        "IPY_MODEL_c54799ba12d9485d9e6cd5986066e86f",
        "IPY_MODEL_47355f4f1dc644b6b2d04ddc6b0ea8d2",
        "IPY_MODEL_e1406e32dc7a4eecad8a4c4a32f1e5e3",
        "IPY_MODEL_5ce423bf07ab40efa702744bba216611",
        "IPY_MODEL_6f884cb14eb54cf595c555f9cb0406bc",
        "IPY_MODEL_9d440776232449daa5067ea36b318438",
        "IPY_MODEL_876c3d774bb84948bda679f21f155717",
        "IPY_MODEL_19530c6b96734f15b5c17119973f814a",
        "IPY_MODEL_1035b668d8d342088b824b93d3eb6ccf",
        "IPY_MODEL_39385f6b36b1458eb82fd181961121c3",
        "IPY_MODEL_edecef4eeb4749b19540abe907586bd5",
        "IPY_MODEL_019ca1658ab749c6b2fd8951ebac7ec0",
        "IPY_MODEL_6863b2c81c82401384609c61215460d4",
        "IPY_MODEL_dd0623ba9c5945da8821a4ced74b661f",
        "IPY_MODEL_1f3a977b03d54696aa2b14beab6cc32d",
        "IPY_MODEL_3b355cbc55704857ba4eac0c9be23019",
        "IPY_MODEL_8fdbc56436364cc1acb19d51dc2d61f3",
        "IPY_MODEL_3e4de533b11141a3b3e186cc9c42b92d",
        "IPY_MODEL_20068094fb174a19bd42fe385d15246c",
        "IPY_MODEL_fb86cd51dbe34b8589833e9da2c9bdae",
        "IPY_MODEL_89ee0ba0847a4c31abb1196867e9c520",
        "IPY_MODEL_9152787ad56e4579b15dbbf4e3205e9b",
        "IPY_MODEL_190641e76c7b4a5497ff19b07d11ce59",
        "IPY_MODEL_8ea7dec22893433fb6ef41df885f4b42",
        "IPY_MODEL_576a09a8a64145f597c5a38a0436b001",
        "IPY_MODEL_0ba129a24261432b8ee6e5572b4286a7",
        "IPY_MODEL_c0fb34df48b14b389452748f12698085",
        "IPY_MODEL_c746ab582ae149e4bdc6a3ff8f3c1904",
        "IPY_MODEL_3bb14ce7075a466282d2c02f312115fb",
        "IPY_MODEL_c8c5225c5de64c959acfc5f7672c85cc",
        "IPY_MODEL_80a4ddbbd9cb40bea034e9deff28cd25",
        "IPY_MODEL_c9f557832ced48a8adaabddf398b0ec3",
        "IPY_MODEL_446433028dcf4c6d91fb1f153af55e24",
        "IPY_MODEL_07e6c6d1f26b443d94c0943f31350738",
        "IPY_MODEL_05722e7eae30481a8d0341bea356d2af",
        "IPY_MODEL_d0e5f2775fc644b1b4aaac8ce743ffc2",
        "IPY_MODEL_c972e623c3d34b51957c12412c9447c1",
        "IPY_MODEL_6f568117e4dc45d681be1aa9cc07b188",
        "IPY_MODEL_934a9dffa97d4004bd14d3d50dbd7b8e",
        "IPY_MODEL_ca21a5dff7c24dad8b9fc1f8b4675ea2",
        "IPY_MODEL_0000f017161148e8a067b5c37e5702e2",
        "IPY_MODEL_258523d28f904d7cad2966bb86cab58c",
        "IPY_MODEL_8df26ea8cb5e48a78811bee53f779dcb",
        "IPY_MODEL_21765d8d0f124ea1859effffba7bc5f3",
        "IPY_MODEL_95863f014834437992a8a6a858bb0adb",
        "IPY_MODEL_01d6b734785c4a62abffdb17444ccb51",
        "IPY_MODEL_fac9a9838e7c4a7298c705dd8dc94796",
        "IPY_MODEL_d7e1c38cd6c24240a46b60e94bb7f76b",
        "IPY_MODEL_d90145bbb851496885a8b285b77b4e3a",
        "IPY_MODEL_9359a4fad0af41df9d7ff0bce26f8a72",
        "IPY_MODEL_79057153c0cd4a66bfbf2fdc73c3bbbb",
        "IPY_MODEL_e58262c957f4490795b52ab404cc96c3",
        "IPY_MODEL_9696c660ac7b424b981cfcafc52f2fdc",
        "IPY_MODEL_4aaa8db1d8b9418eab30b16ece422509",
        "IPY_MODEL_d56ec5a0bc604eb9a7329ff20e04037d",
        "IPY_MODEL_bf2aaf5e9e9848e4b02031e6e2b21590",
        "IPY_MODEL_0b6fd231da984960aa1d22ae99d43d20",
        "IPY_MODEL_6997ff857e814b19abbe63a1663bd1e7",
        "IPY_MODEL_be3f1dd850664daa9d2fd6b97c49cdc7",
        "IPY_MODEL_31aa6718cafc4544b33130d93da6025e",
        "IPY_MODEL_f300d150a08f4fa6a5f8af12eb23a387",
        "IPY_MODEL_12a9bd08c9c140e58f9dcd3bbfed3a5b",
        "IPY_MODEL_d2713931f417458792e855310f7f57bc",
        "IPY_MODEL_5eb22bf0d11b4fbabedffd8275ee54ba",
        "IPY_MODEL_d1aec730a0e74d9d8bf3bcaadcc19b0f",
        "IPY_MODEL_fd2481e73a5c471ea66b96004eb235d6",
        "IPY_MODEL_b005ac7dd4f64277b3e19fbfc008f53d",
        "IPY_MODEL_7cb09729925641658526c5fb97bdc775",
        "IPY_MODEL_4374ae5ff1b74eb087e73a3a8331f19d",
        "IPY_MODEL_053f5365dd2d433ab80fe314385ea116",
        "IPY_MODEL_c37a85f121d34bdbbeb56ee9fa3f9790",
        "IPY_MODEL_be859392a5ec44a4a3a0211be85a054f",
        "IPY_MODEL_117078b0069a4bdf86cea4092ea09254",
        "IPY_MODEL_eb55c36ca3cd461e932cff4b468e9b58",
        "IPY_MODEL_f8b4c0cde7c3449c88192ba0ac2fe894",
        "IPY_MODEL_1b069bd9be064a4599561d8c0468258e",
        "IPY_MODEL_89aefcd5530640c1bc86027f812b1d8f",
        "IPY_MODEL_d4b15ada25a2475584d8a75cbf69137f",
        "IPY_MODEL_0b3f0976c81d4ad28d7ee10e2811c523",
        "IPY_MODEL_f06b68be2d624baa83fbc92b5f7781bb",
        "IPY_MODEL_b81597385ac141b89b96377a1dabd859",
        "IPY_MODEL_99e2f2e0f125476695c5acb3de906ed2",
        "IPY_MODEL_31573e6db4254b108224157cb80310e7",
        "IPY_MODEL_1185b7c9bca14d4f905c48767d387374",
        "IPY_MODEL_eeb8b26e3ac34d6285a7f36bd7288bad",
        "IPY_MODEL_7b9b8d6aa83446389a9183c4a0b553f5",
        "IPY_MODEL_7e65c17074404bcdb9dce3a7c515e7ce",
        "IPY_MODEL_a25db7da626e4d2d90b115d7442fb50f",
        "IPY_MODEL_7bd57151c9fa4c9e809bb8fe2bb14838",
        "IPY_MODEL_5957ba4e1756470c96f2e110da946b76",
        "IPY_MODEL_428179c847424a93b5cd6abd05a24f93",
        "IPY_MODEL_9beb449f39b143cea728e54ca9ca8910",
        "IPY_MODEL_3fdb9756dc8c445cba7ca906d9fa4027",
        "IPY_MODEL_cb54b979687640b48b24d9685753bfeb",
        "IPY_MODEL_f94b52bcdf464d8482d6d2abe7f82dcd",
        "IPY_MODEL_60020af7d3874fdca00327bf944c9562",
        "IPY_MODEL_39f726fa5dc24da990ecd25018ba41c3",
        "IPY_MODEL_c89ff53e65804225ba8a475d8f667ec5",
        "IPY_MODEL_62b7b8c9cf6e4092be0785a1953eb9e9",
        "IPY_MODEL_093d8c7932c844f889c0fb495308c074",
        "IPY_MODEL_f9475ce7eb2b457d9f4304fdf461e4ad",
        "IPY_MODEL_e0b67bdaa4be47c99199c3a614df79ec",
        "IPY_MODEL_24f1129f28334db4a30de3b9e19c8af6",
        "IPY_MODEL_e290d58c4f3f4a87a7a0fb291d7a49ac",
        "IPY_MODEL_cb6c2c7d170d4360b3ffce7c544197f1",
        "IPY_MODEL_ba7279aafd234731ba76ec08cf5eee58",
        "IPY_MODEL_833fc72598a74871a983c67c7d146f88",
        "IPY_MODEL_3942b2f402f046069e6ea87556066696",
        "IPY_MODEL_a4c3e69d88d44a93ad101218d94173bf",
        "IPY_MODEL_bbba9b13dd914e0294e73bce4361cc61",
        "IPY_MODEL_7fb9857d6d804fbf822406032d733191",
        "IPY_MODEL_285bd3c204354cb0a9224b51d47e30b7",
        "IPY_MODEL_de4790c3d926403797313d701435443a",
        "IPY_MODEL_20e6456591a84e68a78de0b6aaebb47b",
        "IPY_MODEL_47497757ef9a4bdba0cd82b31ab3aecc",
        "IPY_MODEL_5065ad75c2eb481d8c01e418c1bef56f",
        "IPY_MODEL_a52a2ccf1a69435eb8f643f118a24c4b",
        "IPY_MODEL_84d35bc1d3374e2284065978d12fa95a",
        "IPY_MODEL_8bea29b935344c13b6b82dfaee7a7043",
        "IPY_MODEL_d96b4f46fa6347b6a3f52ea19c64e8de",
        "IPY_MODEL_c0c2dbdc9f504a6cbe75c2bf5723f316",
        "IPY_MODEL_e8c5a06b129348a1b43eb2eca213a41d",
        "IPY_MODEL_f56d660e4a994a21a43d705cbe845bbf",
        "IPY_MODEL_b95746be1d954427bb7bcd406d8fbcb5",
        "IPY_MODEL_fdd4d9260d94448d87490bb0f3b5e225",
        "IPY_MODEL_c779b4a1fdbf4df28e8e2e5b793605be",
        "IPY_MODEL_e0b44f0b0837469aa1bc522974af0148",
        "IPY_MODEL_eedc56b2900044a9900149824ce2b4f7"
       ]
      }
     },
     "d13e32415c4a429a931dbf518943613e": {
      "model_module": "jupyter-cytoscape",
      "model_module_version": "^1.3.3",
      "model_name": "EdgeModel",
      "state": {
       "_model_module": "jupyter-cytoscape",
       "_model_module_version": "^1.3.3",
       "_model_name": "EdgeModel",
       "_view_count": null,
       "_view_module": "jupyter-cytoscape",
       "_view_module_version": "^1.3.3",
       "_view_name": "EdgeView",
       "classes": " directed ",
       "data": {
        "source": "3755530294503076334",
        "target": "4006167973290477409"
       },
       "pannable": true,
       "removed": false,
       "selectable": false,
       "selected": false
      }
     },
     "d1a20cf172c841a1b20c9a678e928052": {
      "model_module": "jupyter-cytoscape",
      "model_module_version": "^1.3.3",
      "model_name": "EdgeModel",
      "state": {
       "_model_module": "jupyter-cytoscape",
       "_model_module_version": "^1.3.3",
       "_model_name": "EdgeModel",
       "_view_count": null,
       "_view_module": "jupyter-cytoscape",
       "_view_module_version": "^1.3.3",
       "_view_name": "EdgeView",
       "classes": " directed ",
       "data": {
        "source": "-8047000201946989996",
        "target": "6528131734081259889"
       },
       "pannable": true,
       "removed": false,
       "selectable": false,
       "selected": false
      }
     },
     "d1aec730a0e74d9d8bf3bcaadcc19b0f": {
      "model_module": "jupyter-cytoscape",
      "model_module_version": "^1.3.3",
      "model_name": "NodeModel",
      "state": {
       "_model_module": "jupyter-cytoscape",
       "_model_module_version": "^1.3.3",
       "_model_name": "NodeModel",
       "_view_count": null,
       "_view_module": "jupyter-cytoscape",
       "_view_module_version": "^1.3.3",
       "_view_name": "NodeView",
       "classes": "",
       "data": {
        "color": "gray",
        "id": "2785284281320336761",
        "label": "4",
        "shape": "rectangle"
       },
       "grabbable": true,
       "grabbed": false,
       "locked": false,
       "pannable": false,
       "position": {},
       "removed": false,
       "selectable": false,
       "selected": false
      }
     },
     "d252240f9b7f4fe2ad393d0424f67957": {
      "model_module": "jupyter-cytoscape",
      "model_module_version": "^1.3.3",
      "model_name": "NodeModel",
      "state": {
       "_model_module": "jupyter-cytoscape",
       "_model_module_version": "^1.3.3",
       "_model_name": "NodeModel",
       "_view_count": null,
       "_view_module": "jupyter-cytoscape",
       "_view_module_version": "^1.3.3",
       "_view_name": "NodeView",
       "classes": "",
       "data": {
        "color": "gray",
        "id": "-5859979184636504983",
        "label": "getitem",
        "shape": "ellipse"
       },
       "grabbable": true,
       "grabbed": false,
       "locked": false,
       "pannable": false,
       "position": {},
       "removed": false,
       "selectable": false,
       "selected": false
      }
     },
     "d2713931f417458792e855310f7f57bc": {
      "model_module": "jupyter-cytoscape",
      "model_module_version": "^1.3.3",
      "model_name": "NodeModel",
      "state": {
       "_model_module": "jupyter-cytoscape",
       "_model_module_version": "^1.3.3",
       "_model_name": "NodeModel",
       "_view_count": null,
       "_view_module": "jupyter-cytoscape",
       "_view_module_version": "^1.3.3",
       "_view_name": "NodeView",
       "classes": "",
       "data": {
        "color": "gray",
        "id": "7678358310293033127",
        "label": "3",
        "shape": "rectangle"
       },
       "grabbable": true,
       "grabbed": false,
       "locked": false,
       "pannable": false,
       "position": {},
       "removed": false,
       "selectable": false,
       "selected": false
      }
     },
     "d326cc5555784059a28a552bf7784edf": {
      "model_module": "jupyter-cytoscape",
      "model_module_version": "^1.3.3",
      "model_name": "EdgeModel",
      "state": {
       "_model_module": "jupyter-cytoscape",
       "_model_module_version": "^1.3.3",
       "_model_name": "EdgeModel",
       "_view_count": null,
       "_view_module": "jupyter-cytoscape",
       "_view_module_version": "^1.3.3",
       "_view_name": "EdgeView",
       "classes": " directed ",
       "data": {
        "source": "8382844581948512138",
        "target": "7247309235130152209"
       },
       "pannable": true,
       "removed": false,
       "selectable": false,
       "selected": false
      }
     },
     "d43178cdb47949ed81b7cbaf026aa310": {
      "model_module": "jupyter-cytoscape",
      "model_module_version": "^1.3.3",
      "model_name": "EdgeModel",
      "state": {
       "_model_module": "jupyter-cytoscape",
       "_model_module_version": "^1.3.3",
       "_model_name": "EdgeModel",
       "_view_count": null,
       "_view_module": "jupyter-cytoscape",
       "_view_module_version": "^1.3.3",
       "_view_name": "EdgeView",
       "classes": " directed ",
       "data": {
        "source": "-7650595019706263336",
        "target": "-4709526429806405716"
       },
       "pannable": true,
       "removed": false,
       "selectable": false,
       "selected": false
      }
     },
     "d4b15ada25a2475584d8a75cbf69137f": {
      "model_module": "jupyter-cytoscape",
      "model_module_version": "^1.3.3",
      "model_name": "NodeModel",
      "state": {
       "_model_module": "jupyter-cytoscape",
       "_model_module_version": "^1.3.3",
       "_model_name": "NodeModel",
       "_view_count": null,
       "_view_module": "jupyter-cytoscape",
       "_view_module_version": "^1.3.3",
       "_view_name": "NodeView",
       "classes": "",
       "data": {
        "color": "gray",
        "id": "-1915387010511216957",
        "label": "0",
        "shape": "rectangle"
       },
       "grabbable": true,
       "grabbed": false,
       "locked": false,
       "pannable": false,
       "position": {},
       "removed": false,
       "selectable": false,
       "selected": false
      }
     },
     "d56ec5a0bc604eb9a7329ff20e04037d": {
      "model_module": "jupyter-cytoscape",
      "model_module_version": "^1.3.3",
      "model_name": "NodeModel",
      "state": {
       "_model_module": "jupyter-cytoscape",
       "_model_module_version": "^1.3.3",
       "_model_name": "NodeModel",
       "_view_count": null,
       "_view_module": "jupyter-cytoscape",
       "_view_module_version": "^1.3.3",
       "_view_name": "NodeView",
       "classes": "",
       "data": {
        "color": "gray",
        "id": "-1295738571246152183",
        "label": "series-sum-agg",
        "shape": "ellipse"
       },
       "grabbable": true,
       "grabbed": false,
       "locked": false,
       "pannable": false,
       "position": {},
       "removed": false,
       "selectable": false,
       "selected": false
      }
     },
     "d5cc93b988a041ff98ccc8be32a8e74e": {
      "model_module": "jupyter-cytoscape",
      "model_module_version": "^1.3.3",
      "model_name": "EdgeModel",
      "state": {
       "_model_module": "jupyter-cytoscape",
       "_model_module_version": "^1.3.3",
       "_model_name": "EdgeModel",
       "_view_count": null,
       "_view_module": "jupyter-cytoscape",
       "_view_module_version": "^1.3.3",
       "_view_name": "EdgeView",
       "classes": " directed ",
       "data": {
        "source": "5532313189982647755",
        "target": "-8717321051717431442"
       },
       "pannable": true,
       "removed": false,
       "selectable": false,
       "selected": false
      }
     },
     "d7e1c38cd6c24240a46b60e94bb7f76b": {
      "model_module": "jupyter-cytoscape",
      "model_module_version": "^1.3.3",
      "model_name": "NodeModel",
      "state": {
       "_model_module": "jupyter-cytoscape",
       "_model_module_version": "^1.3.3",
       "_model_name": "NodeModel",
       "_view_count": null,
       "_view_module": "jupyter-cytoscape",
       "_view_module_version": "^1.3.3",
       "_view_name": "NodeView",
       "classes": "",
       "data": {
        "color": "gray",
        "id": "-7873775969212907106",
        "label": "6",
        "shape": "rectangle"
       },
       "grabbable": true,
       "grabbed": false,
       "locked": false,
       "pannable": false,
       "position": {},
       "removed": false,
       "selectable": false,
       "selected": false
      }
     },
     "d7f804ac675c47faa09fde125d3a1b95": {
      "model_module": "jupyter-cytoscape",
      "model_module_version": "^1.3.3",
      "model_name": "EdgeModel",
      "state": {
       "_model_module": "jupyter-cytoscape",
       "_model_module_version": "^1.3.3",
       "_model_name": "EdgeModel",
       "_view_count": null,
       "_view_module": "jupyter-cytoscape",
       "_view_module_version": "^1.3.3",
       "_view_name": "EdgeView",
       "classes": " directed ",
       "data": {
        "source": "-5429968936040284074",
        "target": "2737840592670449670"
       },
       "pannable": true,
       "removed": false,
       "selectable": false,
       "selected": false
      }
     },
     "d90145bbb851496885a8b285b77b4e3a": {
      "model_module": "jupyter-cytoscape",
      "model_module_version": "^1.3.3",
      "model_name": "NodeModel",
      "state": {
       "_model_module": "jupyter-cytoscape",
       "_model_module_version": "^1.3.3",
       "_model_name": "NodeModel",
       "_view_count": null,
       "_view_module": "jupyter-cytoscape",
       "_view_module_version": "^1.3.3",
       "_view_name": "NodeView",
       "classes": "",
       "data": {
        "color": "gray",
        "id": "2817606229255747246",
        "label": "series-sum-chunk",
        "shape": "ellipse"
       },
       "grabbable": true,
       "grabbed": false,
       "locked": false,
       "pannable": false,
       "position": {},
       "removed": false,
       "selectable": false,
       "selected": false
      }
     },
     "d933bc64105e4dc1b06ad5428139e7fd": {
      "model_module": "jupyter-cytoscape",
      "model_module_version": "^1.3.3",
      "model_name": "EdgeModel",
      "state": {
       "_model_module": "jupyter-cytoscape",
       "_model_module_version": "^1.3.3",
       "_model_name": "EdgeModel",
       "_view_count": null,
       "_view_module": "jupyter-cytoscape",
       "_view_module_version": "^1.3.3",
       "_view_name": "EdgeView",
       "classes": " directed ",
       "data": {
        "source": "-1585493129879916275",
        "target": "7332258639229832931"
       },
       "pannable": true,
       "removed": false,
       "selectable": false,
       "selected": false
      }
     },
     "d96b4f46fa6347b6a3f52ea19c64e8de": {
      "model_module": "jupyter-cytoscape",
      "model_module_version": "^1.3.3",
      "model_name": "NodeModel",
      "state": {
       "_model_module": "jupyter-cytoscape",
       "_model_module_version": "^1.3.3",
       "_model_name": "NodeModel",
       "_view_count": null,
       "_view_module": "jupyter-cytoscape",
       "_view_module_version": "^1.3.3",
       "_view_name": "NodeView",
       "classes": "",
       "data": {
        "color": "gray",
        "id": "-2752110461598922091",
        "label": "1",
        "shape": "rectangle"
       },
       "grabbable": true,
       "grabbed": false,
       "locked": false,
       "pannable": false,
       "position": {},
       "removed": false,
       "selectable": false,
       "selected": false
      }
     },
     "dae751b8bbd044a988cdca882fc7d4b2": {
      "model_module": "jupyter-cytoscape",
      "model_module_version": "^1.3.3",
      "model_name": "EdgeModel",
      "state": {
       "_model_module": "jupyter-cytoscape",
       "_model_module_version": "^1.3.3",
       "_model_name": "EdgeModel",
       "_view_count": null,
       "_view_module": "jupyter-cytoscape",
       "_view_module_version": "^1.3.3",
       "_view_name": "EdgeView",
       "classes": " directed ",
       "data": {
        "source": "2638937363561853589",
        "target": "6063791583163731068"
       },
       "pannable": true,
       "removed": false,
       "selectable": false,
       "selected": false
      }
     },
     "dc41cecd66cf4c4ca2717360e465bb1a": {
      "model_module": "jupyter-cytoscape",
      "model_module_version": "^1.3.3",
      "model_name": "EdgeModel",
      "state": {
       "_model_module": "jupyter-cytoscape",
       "_model_module_version": "^1.3.3",
       "_model_name": "EdgeModel",
       "_view_count": null,
       "_view_module": "jupyter-cytoscape",
       "_view_module_version": "^1.3.3",
       "_view_name": "EdgeView",
       "classes": " directed ",
       "data": {
        "source": "7072298953756355924",
        "target": "4532757256868167882"
       },
       "pannable": true,
       "removed": false,
       "selectable": false,
       "selected": false
      }
     },
     "dcfb272127374ef69b199a4392636c80": {
      "model_module": "jupyter-cytoscape",
      "model_module_version": "^1.3.3",
      "model_name": "EdgeModel",
      "state": {
       "_model_module": "jupyter-cytoscape",
       "_model_module_version": "^1.3.3",
       "_model_name": "EdgeModel",
       "_view_count": null,
       "_view_module": "jupyter-cytoscape",
       "_view_module_version": "^1.3.3",
       "_view_name": "EdgeView",
       "classes": " directed ",
       "data": {
        "source": "-6340049391514107122",
        "target": "502357459496961667"
       },
       "pannable": true,
       "removed": false,
       "selectable": false,
       "selected": false
      }
     },
     "dd0623ba9c5945da8821a4ced74b661f": {
      "model_module": "jupyter-cytoscape",
      "model_module_version": "^1.3.3",
      "model_name": "NodeModel",
      "state": {
       "_model_module": "jupyter-cytoscape",
       "_model_module_version": "^1.3.3",
       "_model_name": "NodeModel",
       "_view_count": null,
       "_view_module": "jupyter-cytoscape",
       "_view_module_version": "^1.3.3",
       "_view_name": "NodeView",
       "classes": "",
       "data": {
        "color": "gray",
        "id": "-4868564640351881236",
        "label": "inv",
        "shape": "ellipse"
       },
       "grabbable": true,
       "grabbed": false,
       "locked": false,
       "pannable": false,
       "position": {},
       "removed": false,
       "selectable": false,
       "selected": false
      }
     },
     "de4790c3d926403797313d701435443a": {
      "model_module": "jupyter-cytoscape",
      "model_module_version": "^1.3.3",
      "model_name": "NodeModel",
      "state": {
       "_model_module": "jupyter-cytoscape",
       "_model_module_version": "^1.3.3",
       "_model_name": "NodeModel",
       "_view_count": null,
       "_view_module": "jupyter-cytoscape",
       "_view_module_version": "^1.3.3",
       "_view_name": "NodeView",
       "classes": "",
       "data": {
        "color": "gray",
        "id": "2606720331293153741",
        "label": "moment_chunk",
        "shape": "ellipse"
       },
       "grabbable": true,
       "grabbed": false,
       "locked": false,
       "pannable": false,
       "position": {},
       "removed": false,
       "selectable": false,
       "selected": false
      }
     },
     "de59a96d2fcc4680b514f650e3daaf0c": {
      "model_module": "jupyter-cytoscape",
      "model_module_version": "^1.3.3",
      "model_name": "EdgeModel",
      "state": {
       "_model_module": "jupyter-cytoscape",
       "_model_module_version": "^1.3.3",
       "_model_name": "EdgeModel",
       "_view_count": null,
       "_view_module": "jupyter-cytoscape",
       "_view_module_version": "^1.3.3",
       "_view_name": "EdgeView",
       "classes": " directed ",
       "data": {
        "source": "-6876354734296537757",
        "target": "-1168417964775817038"
       },
       "pannable": true,
       "removed": false,
       "selectable": false,
       "selected": false
      }
     },
     "e05c8d68e86240778cc1ebba726d3acb": {
      "model_module": "jupyter-cytoscape",
      "model_module_version": "^1.3.3",
      "model_name": "NodeModel",
      "state": {
       "_model_module": "jupyter-cytoscape",
       "_model_module_version": "^1.3.3",
       "_model_name": "NodeModel",
       "_view_count": null,
       "_view_module": "jupyter-cytoscape",
       "_view_module_version": "^1.3.3",
       "_view_name": "NodeView",
       "classes": "",
       "data": {
        "color": "gray",
        "id": "1039658251086610763",
        "label": "0",
        "shape": "rectangle"
       },
       "grabbable": true,
       "grabbed": false,
       "locked": false,
       "pannable": false,
       "position": {},
       "removed": false,
       "selectable": false,
       "selected": false
      }
     },
     "e0772fe253ac4417805655e6d8f7a02a": {
      "model_module": "jupyter-cytoscape",
      "model_module_version": "^1.3.3",
      "model_name": "EdgeModel",
      "state": {
       "_model_module": "jupyter-cytoscape",
       "_model_module_version": "^1.3.3",
       "_model_name": "EdgeModel",
       "_view_count": null,
       "_view_module": "jupyter-cytoscape",
       "_view_module_version": "^1.3.3",
       "_view_name": "EdgeView",
       "classes": " directed ",
       "data": {
        "source": "-2637035561857645149",
        "target": "-6061491993748513404"
       },
       "pannable": true,
       "removed": false,
       "selectable": false,
       "selected": false
      }
     },
     "e0b44f0b0837469aa1bc522974af0148": {
      "model_module": "jupyter-cytoscape",
      "model_module_version": "^1.3.3",
      "model_name": "NodeModel",
      "state": {
       "_model_module": "jupyter-cytoscape",
       "_model_module_version": "^1.3.3",
       "_model_name": "NodeModel",
       "_view_count": null,
       "_view_module": "jupyter-cytoscape",
       "_view_module_version": "^1.3.3",
       "_view_name": "NodeView",
       "classes": "",
       "data": {
        "color": "gray",
        "id": "4787656273146107238",
        "label": "series-std",
        "shape": "ellipse"
       },
       "grabbable": true,
       "grabbed": false,
       "locked": false,
       "pannable": false,
       "position": {},
       "removed": false,
       "selectable": false,
       "selected": false
      }
     },
     "e0b67bdaa4be47c99199c3a614df79ec": {
      "model_module": "jupyter-cytoscape",
      "model_module_version": "^1.3.3",
      "model_name": "NodeModel",
      "state": {
       "_model_module": "jupyter-cytoscape",
       "_model_module_version": "^1.3.3",
       "_model_name": "NodeModel",
       "_view_count": null,
       "_view_module": "jupyter-cytoscape",
       "_view_module_version": "^1.3.3",
       "_view_name": "NodeView",
       "classes": "",
       "data": {
        "color": "gray",
        "id": "-2782984691905119097",
        "label": "2",
        "shape": "rectangle"
       },
       "grabbable": true,
       "grabbed": false,
       "locked": false,
       "pannable": false,
       "position": {},
       "removed": false,
       "selectable": false,
       "selected": false
      }
     },
     "e0c02f392be243029c37925bd1bd1178": {
      "model_module": "jupyter-cytoscape",
      "model_module_version": "^1.3.3",
      "model_name": "NodeModel",
      "state": {
       "_model_module": "jupyter-cytoscape",
       "_model_module_version": "^1.3.3",
       "_model_name": "NodeModel",
       "_view_count": null,
       "_view_module": "jupyter-cytoscape",
       "_view_module_version": "^1.3.3",
       "_view_name": "NodeView",
       "classes": "",
       "data": {
        "color": "gray",
        "id": "-6481371090980499326",
        "label": "4",
        "shape": "rectangle"
       },
       "grabbable": true,
       "grabbed": false,
       "locked": false,
       "pannable": false,
       "position": {},
       "removed": false,
       "selectable": false,
       "selected": false
      }
     },
     "e0cc208a10a04d6985b8b30fe4d40d3e": {
      "model_module": "jupyter-cytoscape",
      "model_module_version": "^1.3.3",
      "model_name": "EdgeModel",
      "state": {
       "_model_module": "jupyter-cytoscape",
       "_model_module_version": "^1.3.3",
       "_model_name": "EdgeModel",
       "_view_count": null,
       "_view_module": "jupyter-cytoscape",
       "_view_module_version": "^1.3.3",
       "_view_name": "EdgeView",
       "classes": " directed ",
       "data": {
        "source": "7213620653222748128",
        "target": "-301769445651611375"
       },
       "pannable": true,
       "removed": false,
       "selectable": false,
       "selected": false
      }
     },
     "e0e3b206add44a9b83bd6019cc8bea22": {
      "model_module": "jupyter-cytoscape",
      "model_module_version": "^1.3.3",
      "model_name": "EdgeModel",
      "state": {
       "_model_module": "jupyter-cytoscape",
       "_model_module_version": "^1.3.3",
       "_model_name": "EdgeModel",
       "_view_count": null,
       "_view_module": "jupyter-cytoscape",
       "_view_module_version": "^1.3.3",
       "_view_name": "EdgeView",
       "classes": " directed ",
       "data": {
        "source": "-710998636282631008",
        "target": "-4369283785734982344"
       },
       "pannable": true,
       "removed": false,
       "selectable": false,
       "selected": false
      }
     },
     "e11752e37219487ca855fb8c7cca5323": {
      "model_module": "jupyter-cytoscape",
      "model_module_version": "^1.3.3",
      "model_name": "EdgeModel",
      "state": {
       "_model_module": "jupyter-cytoscape",
       "_model_module_version": "^1.3.3",
       "_model_name": "EdgeModel",
       "_view_count": null,
       "_view_module": "jupyter-cytoscape",
       "_view_module_version": "^1.3.3",
       "_view_name": "EdgeView",
       "classes": " directed ",
       "data": {
        "source": "5537724665293057018",
        "target": "-1915387010511216957"
       },
       "pannable": true,
       "removed": false,
       "selectable": false,
       "selected": false
      }
     },
     "e1406e32dc7a4eecad8a4c4a32f1e5e3": {
      "model_module": "jupyter-cytoscape",
      "model_module_version": "^1.3.3",
      "model_name": "NodeModel",
      "state": {
       "_model_module": "jupyter-cytoscape",
       "_model_module_version": "^1.3.3",
       "_model_name": "NodeModel",
       "_view_count": null,
       "_view_module": "jupyter-cytoscape",
       "_view_module_version": "^1.3.3",
       "_view_name": "NodeView",
       "classes": "",
       "data": {
        "color": "gray",
        "id": "7551397683276951282",
        "label": "getitem",
        "shape": "ellipse"
       },
       "grabbable": true,
       "grabbed": false,
       "locked": false,
       "pannable": false,
       "position": {},
       "removed": false,
       "selectable": false,
       "selected": false
      }
     },
     "e1c8d3a08ab74fdfb7c180fa09766336": {
      "model_module": "jupyter-cytoscape",
      "model_module_version": "^1.3.3",
      "model_name": "EdgeModel",
      "state": {
       "_model_module": "jupyter-cytoscape",
       "_model_module_version": "^1.3.3",
       "_model_name": "EdgeModel",
       "_view_count": null,
       "_view_module": "jupyter-cytoscape",
       "_view_module_version": "^1.3.3",
       "_view_name": "EdgeView",
       "classes": " directed ",
       "data": {
        "source": "-443849172938267357",
        "target": "2737840592670449670"
       },
       "pannable": true,
       "removed": false,
       "selectable": false,
       "selected": false
      }
     },
     "e1d0bfcdcc354530b94967d3d728689e": {
      "model_module": "jupyter-cytoscape",
      "model_module_version": "^1.3.3",
      "model_name": "NodeModel",
      "state": {
       "_model_module": "jupyter-cytoscape",
       "_model_module_version": "^1.3.3",
       "_model_name": "NodeModel",
       "_view_count": null,
       "_view_module": "jupyter-cytoscape",
       "_view_module_version": "^1.3.3",
       "_view_name": "NodeView",
       "classes": "",
       "data": {
        "color": "gray",
        "id": "3799057381531242844",
        "label": "7",
        "shape": "rectangle"
       },
       "grabbable": true,
       "grabbed": false,
       "locked": false,
       "pannable": false,
       "position": {},
       "removed": false,
       "selectable": false,
       "selected": false
      }
     },
     "e290d58c4f3f4a87a7a0fb291d7a49ac": {
      "model_module": "jupyter-cytoscape",
      "model_module_version": "^1.3.3",
      "model_name": "NodeModel",
      "state": {
       "_model_module": "jupyter-cytoscape",
       "_model_module_version": "^1.3.3",
       "_model_name": "NodeModel",
       "_view_count": null,
       "_view_module": "jupyter-cytoscape",
       "_view_module_version": "^1.3.3",
       "_view_name": "NodeView",
       "classes": "",
       "data": {
        "color": "gray",
        "id": "-7676058720877815463",
        "label": "3",
        "shape": "rectangle"
       },
       "grabbable": true,
       "grabbed": false,
       "locked": false,
       "pannable": false,
       "position": {},
       "removed": false,
       "selectable": false,
       "selected": false
      }
     },
     "e3b93deba66340adb6e14efed5a2af6f": {
      "model_module": "jupyter-cytoscape",
      "model_module_version": "^1.3.3",
      "model_name": "EdgeModel",
      "state": {
       "_model_module": "jupyter-cytoscape",
       "_model_module_version": "^1.3.3",
       "_model_name": "EdgeModel",
       "_view_count": null,
       "_view_module": "jupyter-cytoscape",
       "_view_module_version": "^1.3.3",
       "_view_name": "EdgeView",
       "classes": " directed ",
       "data": {
        "source": "-6665468836333944252",
        "target": "6849118004249712154"
       },
       "pannable": true,
       "removed": false,
       "selectable": false,
       "selected": false
      }
     },
     "e43c81e9366a4cb5b7a199109d27e3bc": {
      "model_module": "jupyter-cytoscape",
      "model_module_version": "^1.3.3",
      "model_name": "EdgeModel",
      "state": {
       "_model_module": "jupyter-cytoscape",
       "_model_module_version": "^1.3.3",
       "_model_name": "EdgeModel",
       "_view_count": null,
       "_view_module": "jupyter-cytoscape",
       "_view_module_version": "^1.3.3",
       "_view_name": "EdgeView",
       "classes": " directed ",
       "data": {
        "source": "5207735522976017808",
        "target": "5118316826027154421"
       },
       "pannable": true,
       "removed": false,
       "selectable": false,
       "selected": false
      }
     },
     "e461bef15ec84ab084cc773bc9e53d6f": {
      "model_module": "jupyter-cytoscape",
      "model_module_version": "^1.3.3",
      "model_name": "NodeModel",
      "state": {
       "_model_module": "jupyter-cytoscape",
       "_model_module_version": "^1.3.3",
       "_model_name": "NodeModel",
       "_view_count": null,
       "_view_module": "jupyter-cytoscape",
       "_view_module_version": "^1.3.3",
       "_view_name": "NodeView",
       "classes": "",
       "data": {
        "color": "gray",
        "id": "-1539359445844991571",
        "label": "2",
        "shape": "rectangle"
       },
       "grabbable": true,
       "grabbed": false,
       "locked": false,
       "pannable": false,
       "position": {},
       "removed": false,
       "selectable": false,
       "selected": false
      }
     },
     "e57f6be610aa4572b29568d73aaeb740": {
      "model_module": "jupyter-cytoscape",
      "model_module_version": "^1.3.3",
      "model_name": "EdgeModel",
      "state": {
       "_model_module": "jupyter-cytoscape",
       "_model_module_version": "^1.3.3",
       "_model_name": "EdgeModel",
       "_view_count": null,
       "_view_module": "jupyter-cytoscape",
       "_view_module_version": "^1.3.3",
       "_view_name": "EdgeView",
       "classes": " directed ",
       "data": {
        "source": "2296891433433737580",
        "target": "-4640376822563944501"
       },
       "pannable": true,
       "removed": false,
       "selectable": false,
       "selected": false
      }
     },
     "e58262c957f4490795b52ab404cc96c3": {
      "model_module": "jupyter-cytoscape",
      "model_module_version": "^1.3.3",
      "model_name": "NodeModel",
      "state": {
       "_model_module": "jupyter-cytoscape",
       "_model_module_version": "^1.3.3",
       "_model_name": "NodeModel",
       "_view_count": null,
       "_view_module": "jupyter-cytoscape",
       "_view_module_version": "^1.3.3",
       "_view_name": "NodeView",
       "classes": "",
       "data": {
        "color": "gray",
        "id": "7789177448641578441",
        "label": "8",
        "shape": "rectangle"
       },
       "grabbable": true,
       "grabbed": false,
       "locked": false,
       "pannable": false,
       "position": {},
       "removed": false,
       "selectable": false,
       "selected": false
      }
     },
     "e6053b8e995a4bc19328a20280a23eb8": {
      "model_module": "jupyter-cytoscape",
      "model_module_version": "^1.3.3",
      "model_name": "NodeModel",
      "state": {
       "_model_module": "jupyter-cytoscape",
       "_model_module_version": "^1.3.3",
       "_model_name": "NodeModel",
       "_view_count": null,
       "_view_module": "jupyter-cytoscape",
       "_view_module_version": "^1.3.3",
       "_view_name": "NodeView",
       "classes": "",
       "data": {
        "color": "gray",
        "id": "-1585493129879916275",
        "label": "0",
        "shape": "rectangle"
       },
       "grabbable": true,
       "grabbed": false,
       "locked": false,
       "pannable": false,
       "position": {},
       "removed": false,
       "selectable": false,
       "selected": false
      }
     },
     "e6195f82d9ca4ee389152a1b9170c0d7": {
      "model_module": "jupyter-cytoscape",
      "model_module_version": "^1.3.3",
      "model_name": "EdgeModel",
      "state": {
       "_model_module": "jupyter-cytoscape",
       "_model_module_version": "^1.3.3",
       "_model_name": "EdgeModel",
       "_view_count": null,
       "_view_module": "jupyter-cytoscape",
       "_view_module_version": "^1.3.3",
       "_view_name": "EdgeView",
       "classes": " directed ",
       "data": {
        "source": "-1421712943183145362",
        "target": "-7873775969212907106"
       },
       "pannable": true,
       "removed": false,
       "selectable": false,
       "selected": false
      }
     },
     "e6620e852b464ecf92afa1b418b68078": {
      "model_module": "jupyter-cytoscape",
      "model_module_version": "^1.3.3",
      "model_name": "EdgeModel",
      "state": {
       "_model_module": "jupyter-cytoscape",
       "_model_module_version": "^1.3.3",
       "_model_name": "EdgeModel",
       "_view_count": null,
       "_view_module": "jupyter-cytoscape",
       "_view_module_version": "^1.3.3",
       "_view_name": "EdgeView",
       "classes": " directed ",
       "data": {
        "source": "5527400648127460186",
        "target": "-5429968936040284074"
       },
       "pannable": true,
       "removed": false,
       "selectable": false,
       "selected": false
      }
     },
     "e68879a091e6448180e67bf3febe66a9": {
      "model_module": "jupyter-cytoscape",
      "model_module_version": "^1.3.3",
      "model_name": "NodeModel",
      "state": {
       "_model_module": "jupyter-cytoscape",
       "_model_module_version": "^1.3.3",
       "_model_name": "NodeModel",
       "_view_count": null,
       "_view_module": "jupyter-cytoscape",
       "_view_module_version": "^1.3.3",
       "_view_name": "NodeView",
       "classes": "",
       "data": {
        "color": "gray",
        "id": "1867263933538053924",
        "label": "8",
        "shape": "rectangle"
       },
       "grabbable": true,
       "grabbed": false,
       "locked": false,
       "pannable": false,
       "position": {},
       "removed": false,
       "selectable": false,
       "selected": false
      }
     },
     "e6e39f1fd3604118ab2c6afe90ceede1": {
      "model_module": "jupyter-cytoscape",
      "model_module_version": "^1.3.3",
      "model_name": "NodeModel",
      "state": {
       "_model_module": "jupyter-cytoscape",
       "_model_module_version": "^1.3.3",
       "_model_name": "NodeModel",
       "_view_count": null,
       "_view_module": "jupyter-cytoscape",
       "_view_module_version": "^1.3.3",
       "_view_name": "NodeView",
       "classes": "",
       "data": {
        "color": "gray",
        "id": "-645433685488049988",
        "label": "5",
        "shape": "rectangle"
       },
       "grabbable": true,
       "grabbed": false,
       "locked": false,
       "pannable": false,
       "position": {},
       "removed": false,
       "selectable": false,
       "selected": false
      }
     },
     "e8b3c07195ea41648dba8bf0d2b93ebd": {
      "model_module": "jupyter-cytoscape",
      "model_module_version": "^1.3.3",
      "model_name": "EdgeModel",
      "state": {
       "_model_module": "jupyter-cytoscape",
       "_model_module_version": "^1.3.3",
       "_model_name": "EdgeModel",
       "_view_count": null,
       "_view_module": "jupyter-cytoscape",
       "_view_module_version": "^1.3.3",
       "_view_name": "EdgeView",
       "classes": " directed ",
       "data": {
        "source": "-6340049391514107122",
        "target": "-1557321562444232389"
       },
       "pannable": true,
       "removed": false,
       "selectable": false,
       "selected": false
      }
     },
     "e8c5a06b129348a1b43eb2eca213a41d": {
      "model_module": "jupyter-cytoscape",
      "model_module_version": "^1.3.3",
      "model_name": "NodeModel",
      "state": {
       "_model_module": "jupyter-cytoscape",
       "_model_module_version": "^1.3.3",
       "_model_name": "NodeModel",
       "_view_count": null,
       "_view_module": "jupyter-cytoscape",
       "_view_module_version": "^1.3.3",
       "_view_name": "NodeView",
       "classes": "",
       "data": {
        "color": "gray",
        "id": "3755530294503076334",
        "label": "2",
        "shape": "rectangle"
       },
       "grabbable": true,
       "grabbed": false,
       "locked": false,
       "pannable": false,
       "position": {},
       "removed": false,
       "selectable": false,
       "selected": false
      }
     },
     "e903c2dfc0644f3197521369228da6a7": {
      "model_module": "jupyter-cytoscape",
      "model_module_version": "^1.3.3",
      "model_name": "EdgeModel",
      "state": {
       "_model_module": "jupyter-cytoscape",
       "_model_module_version": "^1.3.3",
       "_model_name": "EdgeModel",
       "_view_count": null,
       "_view_module": "jupyter-cytoscape",
       "_view_module_version": "^1.3.3",
       "_view_name": "EdgeView",
       "classes": " directed ",
       "data": {
        "source": "-4323150101700057640",
        "target": "187903613662866949"
       },
       "pannable": true,
       "removed": false,
       "selectable": false,
       "selected": false
      }
     },
     "e94470f2edb542f0bb936b525e262a89": {
      "model_module": "jupyter-cytoscape",
      "model_module_version": "^1.3.3",
      "model_name": "EdgeModel",
      "state": {
       "_model_module": "jupyter-cytoscape",
       "_model_module_version": "^1.3.3",
       "_model_name": "EdgeModel",
       "_view_count": null,
       "_view_module": "jupyter-cytoscape",
       "_view_module_version": "^1.3.3",
       "_view_name": "EdgeView",
       "classes": " directed ",
       "data": {
        "source": "-4866804363851197267",
        "target": "-8987538524182134074"
       },
       "pannable": true,
       "removed": false,
       "selectable": false,
       "selected": false
      }
     },
     "ea9543a65f834ff0bcd8298d260294f0": {
      "model_module": "jupyter-cytoscape",
      "model_module_version": "^1.3.3",
      "model_name": "EdgeModel",
      "state": {
       "_model_module": "jupyter-cytoscape",
       "_model_module_version": "^1.3.3",
       "_model_name": "EdgeModel",
       "_view_count": null,
       "_view_module": "jupyter-cytoscape",
       "_view_module_version": "^1.3.3",
       "_view_name": "EdgeView",
       "classes": " directed ",
       "data": {
        "source": "431511445360471944",
        "target": "-8745665757311998085"
       },
       "pannable": true,
       "removed": false,
       "selectable": false,
       "selected": false
      }
     },
     "eb55c36ca3cd461e932cff4b468e9b58": {
      "model_module": "jupyter-cytoscape",
      "model_module_version": "^1.3.3",
      "model_name": "NodeModel",
      "state": {
       "_model_module": "jupyter-cytoscape",
       "_model_module_version": "^1.3.3",
       "_model_name": "NodeModel",
       "_view_count": null,
       "_view_module": "jupyter-cytoscape",
       "_view_module_version": "^1.3.3",
       "_view_name": "NodeView",
       "classes": "",
       "data": {
        "color": "gray",
        "id": "4490561235855139543",
        "label": "series-count-chunk",
        "shape": "ellipse"
       },
       "grabbable": true,
       "grabbed": false,
       "locked": false,
       "pannable": false,
       "position": {},
       "removed": false,
       "selectable": false,
       "selected": false
      }
     },
     "eb5acce0058443f0b7fd74a7314c6706": {
      "model_module": "jupyter-cytoscape",
      "model_module_version": "^1.3.3",
      "model_name": "EdgeModel",
      "state": {
       "_model_module": "jupyter-cytoscape",
       "_model_module_version": "^1.3.3",
       "_model_name": "EdgeModel",
       "_view_count": null,
       "_view_module": "jupyter-cytoscape",
       "_view_module_version": "^1.3.3",
       "_view_name": "EdgeView",
       "classes": " directed ",
       "data": {
        "source": "-5396790113351294064",
        "target": "8382844581948512138"
       },
       "pannable": true,
       "removed": false,
       "selectable": false,
       "selected": false
      }
     },
     "eb9228ebce70426588a3e6e6477b6c57": {
      "model_module": "jupyter-cytoscape",
      "model_module_version": "^1.3.3",
      "model_name": "EdgeModel",
      "state": {
       "_model_module": "jupyter-cytoscape",
       "_model_module_version": "^1.3.3",
       "_model_name": "EdgeModel",
       "_view_count": null,
       "_view_module": "jupyter-cytoscape",
       "_view_module_version": "^1.3.3",
       "_view_name": "EdgeView",
       "classes": " directed ",
       "data": {
        "source": "-7199063508835351999",
        "target": "-6340049391514107122"
       },
       "pannable": true,
       "removed": false,
       "selectable": false,
       "selected": false
      }
     },
     "ec06e31c03e849e88de46983ca963866": {
      "model_module": "@jupyter-widgets/base",
      "model_module_version": "1.2.0",
      "model_name": "LayoutModel",
      "state": {
       "_model_module": "@jupyter-widgets/base",
       "_model_module_version": "1.2.0",
       "_model_name": "LayoutModel",
       "_view_count": null,
       "_view_module": "@jupyter-widgets/base",
       "_view_module_version": "1.2.0",
       "_view_name": "LayoutView",
       "align_content": null,
       "align_items": null,
       "align_self": null,
       "border": null,
       "bottom": null,
       "display": null,
       "flex": null,
       "flex_flow": null,
       "grid_area": null,
       "grid_auto_columns": null,
       "grid_auto_flow": null,
       "grid_auto_rows": null,
       "grid_column": null,
       "grid_gap": null,
       "grid_row": null,
       "grid_template_areas": null,
       "grid_template_columns": null,
       "grid_template_rows": null,
       "height": "400px",
       "justify_content": null,
       "justify_items": null,
       "left": null,
       "margin": null,
       "max_height": null,
       "max_width": null,
       "min_height": null,
       "min_width": null,
       "object_fit": null,
       "object_position": null,
       "order": null,
       "overflow": null,
       "overflow_x": null,
       "overflow_y": null,
       "padding": null,
       "right": null,
       "top": null,
       "visibility": null,
       "width": null
      }
     },
     "ec44b6d3f7134f1891b21eb560fff9d1": {
      "model_module": "jupyter-cytoscape",
      "model_module_version": "^1.3.3",
      "model_name": "EdgeModel",
      "state": {
       "_model_module": "jupyter-cytoscape",
       "_model_module_version": "^1.3.3",
       "_model_name": "EdgeModel",
       "_view_count": null,
       "_view_module": "jupyter-cytoscape",
       "_view_module_version": "^1.3.3",
       "_view_name": "EdgeView",
       "classes": " directed ",
       "data": {
        "source": "7013865155261833224",
        "target": "5234551277120410095"
       },
       "pannable": true,
       "removed": false,
       "selectable": false,
       "selected": false
      }
     },
     "ecebf707aef045dd9cf879d275ce1d4d": {
      "model_module": "jupyter-cytoscape",
      "model_module_version": "^1.3.3",
      "model_name": "EdgeModel",
      "state": {
       "_model_module": "jupyter-cytoscape",
       "_model_module_version": "^1.3.3",
       "_model_name": "EdgeModel",
       "_view_count": null,
       "_view_module": "jupyter-cytoscape",
       "_view_module_version": "^1.3.3",
       "_view_name": "EdgeView",
       "classes": " directed ",
       "data": {
        "source": "-6836473340103990327",
        "target": "-5580436266955810788"
       },
       "pannable": true,
       "removed": false,
       "selectable": false,
       "selected": false
      }
     },
     "edd5e86f52ff4f208b589e4dc3f0ff35": {
      "model_module": "jupyter-cytoscape",
      "model_module_version": "^1.3.3",
      "model_name": "EdgeModel",
      "state": {
       "_model_module": "jupyter-cytoscape",
       "_model_module_version": "^1.3.3",
       "_model_name": "EdgeModel",
       "_view_count": null,
       "_view_module": "jupyter-cytoscape",
       "_view_module_version": "^1.3.3",
       "_view_name": "EdgeView",
       "classes": " directed ",
       "data": {
        "source": "7719737516890123059",
        "target": "4968281310257006854"
       },
       "pannable": true,
       "removed": false,
       "selectable": false,
       "selected": false
      }
     },
     "edecef4eeb4749b19540abe907586bd5": {
      "model_module": "jupyter-cytoscape",
      "model_module_version": "^1.3.3",
      "model_name": "NodeModel",
      "state": {
       "_model_module": "jupyter-cytoscape",
       "_model_module_version": "^1.3.3",
       "_model_name": "NodeModel",
       "_view_count": null,
       "_view_module": "jupyter-cytoscape",
       "_view_module_version": "^1.3.3",
       "_view_name": "NodeView",
       "classes": "",
       "data": {
        "color": "gray",
        "id": "-8987538524182134074",
        "label": "inv",
        "shape": "ellipse"
       },
       "grabbable": true,
       "grabbed": false,
       "locked": false,
       "pannable": false,
       "position": {},
       "removed": false,
       "selectable": false,
       "selected": false
      }
     },
     "ee068ae1952746a6b97e50131b1d2bb7": {
      "model_module": "jupyter-cytoscape",
      "model_module_version": "^1.3.3",
      "model_name": "EdgeModel",
      "state": {
       "_model_module": "jupyter-cytoscape",
       "_model_module_version": "^1.3.3",
       "_model_name": "EdgeModel",
       "_view_count": null,
       "_view_module": "jupyter-cytoscape",
       "_view_module_version": "^1.3.3",
       "_view_name": "EdgeView",
       "classes": " directed ",
       "data": {
        "source": "-1856586166708878432",
        "target": "6969668470498471259"
       },
       "pannable": true,
       "removed": false,
       "selectable": false,
       "selected": false
      }
     },
     "ee3a57146f9e45f291e8ba3172d124ab": {
      "model_module": "jupyter-cytoscape",
      "model_module_version": "^1.3.3",
      "model_name": "EdgeModel",
      "state": {
       "_model_module": "jupyter-cytoscape",
       "_model_module_version": "^1.3.3",
       "_model_name": "EdgeModel",
       "_view_count": null,
       "_view_module": "jupyter-cytoscape",
       "_view_module_version": "^1.3.3",
       "_view_name": "EdgeView",
       "classes": " directed ",
       "data": {
        "source": "-8987538524182134074",
        "target": "5862207070613948437"
       },
       "pannable": true,
       "removed": false,
       "selectable": false,
       "selected": false
      }
     },
     "eeb8b26e3ac34d6285a7f36bd7288bad": {
      "model_module": "jupyter-cytoscape",
      "model_module_version": "^1.3.3",
      "model_name": "NodeModel",
      "state": {
       "_model_module": "jupyter-cytoscape",
       "_model_module_version": "^1.3.3",
       "_model_name": "NodeModel",
       "_view_count": null,
       "_view_module": "jupyter-cytoscape",
       "_view_module_version": "^1.3.3",
       "_view_name": "NodeView",
       "classes": "",
       "data": {
        "color": "gray",
        "id": "-8898352797611363919",
        "label": "values",
        "shape": "ellipse"
       },
       "grabbable": true,
       "grabbed": false,
       "locked": false,
       "pannable": false,
       "position": {},
       "removed": false,
       "selectable": false,
       "selected": false
      }
     },
     "eec5910694bc4591a8a0abe53e87fdad": {
      "model_module": "jupyter-cytoscape",
      "model_module_version": "^1.3.3",
      "model_name": "EdgeModel",
      "state": {
       "_model_module": "jupyter-cytoscape",
       "_model_module_version": "^1.3.3",
       "_model_name": "EdgeModel",
       "_view_count": null,
       "_view_module": "jupyter-cytoscape",
       "_view_module_version": "^1.3.3",
       "_view_name": "EdgeView",
       "classes": " directed ",
       "data": {
        "source": "-7676058720877815463",
        "target": "1041134959757340135"
       },
       "pannable": true,
       "removed": false,
       "selectable": false,
       "selected": false
      }
     },
     "eedc56b2900044a9900149824ce2b4f7": {
      "model_module": "jupyter-cytoscape",
      "model_module_version": "^1.3.3",
      "model_name": "NodeModel",
      "state": {
       "_model_module": "jupyter-cytoscape",
       "_model_module_version": "^1.3.3",
       "_model_name": "NodeModel",
       "_view_count": null,
       "_view_module": "jupyter-cytoscape",
       "_view_module_version": "^1.3.3",
       "_view_name": "NodeView",
       "classes": "",
       "data": {
        "color": "gray",
        "id": "4137745440851380952",
        "label": "0",
        "shape": "rectangle"
       },
       "grabbable": true,
       "grabbed": false,
       "locked": false,
       "pannable": false,
       "position": {},
       "removed": false,
       "selectable": false,
       "selected": false
      }
     },
     "eedec6f4d1e746d0ac1a3f0ead565466": {
      "model_module": "jupyter-cytoscape",
      "model_module_version": "^1.3.3",
      "model_name": "EdgeModel",
      "state": {
       "_model_module": "jupyter-cytoscape",
       "_model_module_version": "^1.3.3",
       "_model_name": "EdgeModel",
       "_view_count": null,
       "_view_module": "jupyter-cytoscape",
       "_view_module_version": "^1.3.3",
       "_view_name": "EdgeView",
       "classes": " directed ",
       "data": {
        "source": "-2782984691905119097",
        "target": "1041134959757340135"
       },
       "pannable": true,
       "removed": false,
       "selectable": false,
       "selected": false
      }
     },
     "ef0d6920878d48c19833a16b67bfa7f3": {
      "model_module": "jupyter-cytoscape",
      "model_module_version": "^1.3.3",
      "model_name": "EdgeModel",
      "state": {
       "_model_module": "jupyter-cytoscape",
       "_model_module_version": "^1.3.3",
       "_model_name": "EdgeModel",
       "_view_count": null,
       "_view_module": "jupyter-cytoscape",
       "_view_module_version": "^1.3.3",
       "_view_name": "EdgeView",
       "classes": " directed ",
       "data": {
        "source": "4787656273146107238",
        "target": "4137745440851380952"
       },
       "pannable": true,
       "removed": false,
       "selectable": false,
       "selected": false
      }
     },
     "f06b68be2d624baa83fbc92b5f7781bb": {
      "model_module": "jupyter-cytoscape",
      "model_module_version": "^1.3.3",
      "model_name": "NodeModel",
      "state": {
       "_model_module": "jupyter-cytoscape",
       "_model_module_version": "^1.3.3",
       "_model_name": "NodeModel",
       "_view_count": null,
       "_view_module": "jupyter-cytoscape",
       "_view_module_version": "^1.3.3",
       "_view_name": "NodeView",
       "classes": "",
       "data": {
        "color": "gray",
        "id": "193896362606413340",
        "label": "1",
        "shape": "rectangle"
       },
       "grabbable": true,
       "grabbed": false,
       "locked": false,
       "pannable": false,
       "position": {},
       "removed": false,
       "selectable": false,
       "selected": false
      }
     },
     "f1fffa7359534c7ab3f8dd701e23ff67": {
      "model_module": "jupyter-cytoscape",
      "model_module_version": "^1.3.3",
      "model_name": "EdgeModel",
      "state": {
       "_model_module": "jupyter-cytoscape",
       "_model_module_version": "^1.3.3",
       "_model_name": "EdgeModel",
       "_view_count": null,
       "_view_module": "jupyter-cytoscape",
       "_view_module_version": "^1.3.3",
       "_view_name": "EdgeView",
       "classes": " directed ",
       "data": {
        "source": "7332258639229832931",
        "target": "-7195002994085112847"
       },
       "pannable": true,
       "removed": false,
       "selectable": false,
       "selected": false
      }
     },
     "f209decf7405490cbfa6f0ff4fa51dac": {
      "model_module": "jupyter-cytoscape",
      "model_module_version": "^1.3.3",
      "model_name": "EdgeModel",
      "state": {
       "_model_module": "jupyter-cytoscape",
       "_model_module_version": "^1.3.3",
       "_model_name": "EdgeModel",
       "_view_count": null,
       "_view_module": "jupyter-cytoscape",
       "_view_module_version": "^1.3.3",
       "_view_name": "EdgeView",
       "classes": " directed ",
       "data": {
        "source": "-1168417964775817038",
        "target": "5280454132196232743"
       },
       "pannable": true,
       "removed": false,
       "selectable": false,
       "selected": false
      }
     },
     "f300d150a08f4fa6a5f8af12eb23a387": {
      "model_module": "jupyter-cytoscape",
      "model_module_version": "^1.3.3",
      "model_name": "NodeModel",
      "state": {
       "_model_module": "jupyter-cytoscape",
       "_model_module_version": "^1.3.3",
       "_model_name": "NodeModel",
       "_view_count": null,
       "_view_module": "jupyter-cytoscape",
       "_view_module_version": "^1.3.3",
       "_view_name": "NodeView",
       "classes": "",
       "data": {
        "color": "gray",
        "id": "1170717554191034702",
        "label": "2",
        "shape": "rectangle"
       },
       "grabbable": true,
       "grabbed": false,
       "locked": false,
       "pannable": false,
       "position": {},
       "removed": false,
       "selectable": false,
       "selected": false
      }
     },
     "f32d19ed2cfd4e72a55ae7a8754ae3e8": {
      "model_module": "jupyter-cytoscape",
      "model_module_version": "^1.3.3",
      "model_name": "NodeModel",
      "state": {
       "_model_module": "jupyter-cytoscape",
       "_model_module_version": "^1.3.3",
       "_model_name": "NodeModel",
       "_view_count": null,
       "_view_module": "jupyter-cytoscape",
       "_view_module_version": "^1.3.3",
       "_view_name": "NodeView",
       "classes": "",
       "data": {
        "color": "gray",
        "id": "7332258639229832931",
        "label": "getitem",
        "shape": "ellipse"
       },
       "grabbable": true,
       "grabbed": false,
       "locked": false,
       "pannable": false,
       "position": {},
       "removed": false,
       "selectable": false,
       "selected": false
      }
     },
     "f3894788eb0547478ca9b33c4e7d0a0a": {
      "model_module": "jupyter-cytoscape",
      "model_module_version": "^1.3.3",
      "model_name": "EdgeModel",
      "state": {
       "_model_module": "jupyter-cytoscape",
       "_model_module_version": "^1.3.3",
       "_model_name": "EdgeModel",
       "_view_count": null,
       "_view_module": "jupyter-cytoscape",
       "_view_module_version": "^1.3.3",
       "_view_name": "EdgeView",
       "classes": " directed ",
       "data": {
        "source": "-1243931491229737059",
        "target": "3799057381531242844"
       },
       "pannable": true,
       "removed": false,
       "selectable": false,
       "selected": false
      }
     },
     "f46148aea7f84447a8e50b1923f7b392": {
      "model_module": "jupyter-cytoscape",
      "model_module_version": "^1.3.3",
      "model_name": "EdgeModel",
      "state": {
       "_model_module": "jupyter-cytoscape",
       "_model_module_version": "^1.3.3",
       "_model_name": "EdgeModel",
       "_view_count": null,
       "_view_module": "jupyter-cytoscape",
       "_view_module_version": "^1.3.3",
       "_view_name": "EdgeView",
       "classes": " directed ",
       "data": {
        "source": "952322906809979714",
        "target": "-4323150101700057640"
       },
       "pannable": true,
       "removed": false,
       "selectable": false,
       "selected": false
      }
     },
     "f506b00ca2b44cefa0cb01f4b9115395": {
      "model_module": "jupyter-cytoscape",
      "model_module_version": "^1.3.3",
      "model_name": "NodeModel",
      "state": {
       "_model_module": "jupyter-cytoscape",
       "_model_module_version": "^1.3.3",
       "_model_name": "NodeModel",
       "_view_count": null,
       "_view_module": "jupyter-cytoscape",
       "_view_module_version": "^1.3.3",
       "_view_name": "NodeView",
       "classes": "",
       "data": {
        "color": "gray",
        "id": "1333726317739689018",
        "label": "getitem",
        "shape": "ellipse"
       },
       "grabbable": true,
       "grabbed": false,
       "locked": false,
       "pannable": false,
       "position": {},
       "removed": false,
       "selectable": false,
       "selected": false
      }
     },
     "f5396fb12f8943e99dac865721460390": {
      "model_module": "jupyter-cytoscape",
      "model_module_version": "^1.3.3",
      "model_name": "EdgeModel",
      "state": {
       "_model_module": "jupyter-cytoscape",
       "_model_module_version": "^1.3.3",
       "_model_name": "EdgeModel",
       "_view_count": null,
       "_view_module": "jupyter-cytoscape",
       "_view_module_version": "^1.3.3",
       "_view_name": "EdgeView",
       "classes": " directed ",
       "data": {
        "source": "6528131734081259889",
        "target": "-687362237983114422"
       },
       "pannable": true,
       "removed": false,
       "selectable": false,
       "selected": false
      }
     },
     "f563a8ba756344c48c4f10dec2382906": {
      "model_module": "jupyter-cytoscape",
      "model_module_version": "^1.3.3",
      "model_name": "EdgeModel",
      "state": {
       "_model_module": "jupyter-cytoscape",
       "_model_module_version": "^1.3.3",
       "_model_name": "EdgeModel",
       "_view_count": null,
       "_view_module": "jupyter-cytoscape",
       "_view_module_version": "^1.3.3",
       "_view_name": "EdgeView",
       "classes": " directed ",
       "data": {
        "source": "-8288946089799969357",
        "target": "7072298953756355924"
       },
       "pannable": true,
       "removed": false,
       "selectable": false,
       "selected": false
      }
     },
     "f56d660e4a994a21a43d705cbe845bbf": {
      "model_module": "jupyter-cytoscape",
      "model_module_version": "^1.3.3",
      "model_name": "NodeModel",
      "state": {
       "_model_module": "jupyter-cytoscape",
       "_model_module_version": "^1.3.3",
       "_model_name": "NodeModel",
       "_view_count": null,
       "_view_module": "jupyter-cytoscape",
       "_view_module_version": "^1.3.3",
       "_view_name": "NodeView",
       "classes": "",
       "data": {
        "color": "gray",
        "id": "4006167973290477409",
        "label": "moment_agg-aggregate",
        "shape": "ellipse"
       },
       "grabbable": true,
       "grabbed": false,
       "locked": false,
       "pannable": false,
       "position": {},
       "removed": false,
       "selectable": false,
       "selected": false
      }
     },
     "f7c65a70ad0a4c4d86d0f99f5b61a11e": {
      "model_module": "jupyter-cytoscape",
      "model_module_version": "^1.3.3",
      "model_name": "EdgeModel",
      "state": {
       "_model_module": "jupyter-cytoscape",
       "_model_module_version": "^1.3.3",
       "_model_name": "EdgeModel",
       "_view_count": null,
       "_view_module": "jupyter-cytoscape",
       "_view_module_version": "^1.3.3",
       "_view_name": "EdgeView",
       "classes": " directed ",
       "data": {
        "source": "6701537118708411765",
        "target": "-1085869858421025898"
       },
       "pannable": true,
       "removed": false,
       "selectable": false,
       "selected": false
      }
     },
     "f8b4c0cde7c3449c88192ba0ac2fe894": {
      "model_module": "jupyter-cytoscape",
      "model_module_version": "^1.3.3",
      "model_name": "NodeModel",
      "state": {
       "_model_module": "jupyter-cytoscape",
       "_model_module_version": "^1.3.3",
       "_model_name": "NodeModel",
       "_view_count": null,
       "_view_module": "jupyter-cytoscape",
       "_view_module_version": "^1.3.3",
       "_view_name": "NodeView",
       "classes": "",
       "data": {
        "color": "gray",
        "id": "3725343725712203048",
        "label": "9",
        "shape": "rectangle"
       },
       "grabbable": true,
       "grabbed": false,
       "locked": false,
       "pannable": false,
       "position": {},
       "removed": false,
       "selectable": false,
       "selected": false
      }
     },
     "f8e3ab7fdd524dcab0d6d2fbbab1a734": {
      "model_module": "jupyter-cytoscape",
      "model_module_version": "^1.3.3",
      "model_name": "EdgeModel",
      "state": {
       "_model_module": "jupyter-cytoscape",
       "_model_module_version": "^1.3.3",
       "_model_name": "EdgeModel",
       "_view_count": null,
       "_view_module": "jupyter-cytoscape",
       "_view_module_version": "^1.3.3",
       "_view_name": "EdgeView",
       "classes": " directed ",
       "data": {
        "source": "-7506225304720220188",
        "target": "6701537118708411765"
       },
       "pannable": true,
       "removed": false,
       "selectable": false,
       "selected": false
      }
     },
     "f9475ce7eb2b457d9f4304fdf461e4ad": {
      "model_module": "jupyter-cytoscape",
      "model_module_version": "^1.3.3",
      "model_name": "NodeModel",
      "state": {
       "_model_module": "jupyter-cytoscape",
       "_model_module_version": "^1.3.3",
       "_model_name": "NodeModel",
       "_view_count": null,
       "_view_module": "jupyter-cytoscape",
       "_view_module_version": "^1.3.3",
       "_view_name": "NodeView",
       "classes": "",
       "data": {
        "color": "gray",
        "id": "-1085869858421025898",
        "label": "moment_chunk",
        "shape": "ellipse"
       },
       "grabbable": true,
       "grabbed": false,
       "locked": false,
       "pannable": false,
       "position": {},
       "removed": false,
       "selectable": false,
       "selected": false
      }
     },
     "f94b52bcdf464d8482d6d2abe7f82dcd": {
      "model_module": "jupyter-cytoscape",
      "model_module_version": "^1.3.3",
      "model_name": "NodeModel",
      "state": {
       "_model_module": "jupyter-cytoscape",
       "_model_module_version": "^1.3.3",
       "_model_name": "NodeModel",
       "_view_count": null,
       "_view_module": "jupyter-cytoscape",
       "_view_module_version": "^1.3.3",
       "_view_name": "NodeView",
       "classes": "",
       "data": {
        "color": "gray",
        "id": "5905151563193236077",
        "label": "values",
        "shape": "ellipse"
       },
       "grabbable": true,
       "grabbed": false,
       "locked": false,
       "pannable": false,
       "position": {},
       "removed": false,
       "selectable": false,
       "selected": false
      }
     },
     "f9bd54f12e3746c99721082504886d62": {
      "model_module": "jupyter-cytoscape",
      "model_module_version": "^1.3.3",
      "model_name": "EdgeModel",
      "state": {
       "_model_module": "jupyter-cytoscape",
       "_model_module_version": "^1.3.3",
       "_model_name": "EdgeModel",
       "_view_count": null,
       "_view_module": "jupyter-cytoscape",
       "_view_module_version": "^1.3.3",
       "_view_name": "EdgeView",
       "classes": " directed ",
       "data": {
        "source": "5905151563193236077",
        "target": "-9190580783479971505"
       },
       "pannable": true,
       "removed": false,
       "selectable": false,
       "selected": false
      }
     },
     "fa07e3bfc9b74685b29c4d45626316d8": {
      "model_module": "jupyter-cytoscape",
      "model_module_version": "^1.3.3",
      "model_name": "EdgeModel",
      "state": {
       "_model_module": "jupyter-cytoscape",
       "_model_module_version": "^1.3.3",
       "_model_name": "EdgeModel",
       "_view_count": null,
       "_view_module": "jupyter-cytoscape",
       "_view_module_version": "^1.3.3",
       "_view_name": "EdgeView",
       "classes": " directed ",
       "data": {
        "source": "1802593426144580699",
        "target": "4169998862600417377"
       },
       "pannable": true,
       "removed": false,
       "selectable": false,
       "selected": false
      }
     },
     "fa7c1f0cdaa942c4908d2a888250d31c": {
      "model_module": "jupyter-cytoscape",
      "model_module_version": "^1.3.3",
      "model_name": "EdgeModel",
      "state": {
       "_model_module": "jupyter-cytoscape",
       "_model_module_version": "^1.3.3",
       "_model_name": "EdgeModel",
       "_view_count": null,
       "_view_module": "jupyter-cytoscape",
       "_view_module_version": "^1.3.3",
       "_view_name": "EdgeView",
       "classes": " directed ",
       "data": {
        "source": "-5861341931185371210",
        "target": "341477248147713729"
       },
       "pannable": true,
       "removed": false,
       "selectable": false,
       "selected": false
      }
     },
     "fac9a9838e7c4a7298c705dd8dc94796": {
      "model_module": "jupyter-cytoscape",
      "model_module_version": "^1.3.3",
      "model_name": "NodeModel",
      "state": {
       "_model_module": "jupyter-cytoscape",
       "_model_module_version": "^1.3.3",
       "_model_name": "NodeModel",
       "_view_count": null,
       "_view_module": "jupyter-cytoscape",
       "_view_module_version": "^1.3.3",
       "_view_name": "NodeView",
       "classes": "",
       "data": {
        "color": "gray",
        "id": "-1421712943183145362",
        "label": "series-sum-chunk",
        "shape": "ellipse"
       },
       "grabbable": true,
       "grabbed": false,
       "locked": false,
       "pannable": false,
       "position": {},
       "removed": false,
       "selectable": false,
       "selected": false
      }
     },
     "fb86cd51dbe34b8589833e9da2c9bdae": {
      "model_module": "jupyter-cytoscape",
      "model_module_version": "^1.3.3",
      "model_name": "NodeModel",
      "state": {
       "_model_module": "jupyter-cytoscape",
       "_model_module_version": "^1.3.3",
       "_model_name": "NodeModel",
       "_view_count": null,
       "_view_module": "jupyter-cytoscape",
       "_view_module_version": "^1.3.3",
       "_view_name": "NodeView",
       "classes": "",
       "data": {
        "color": "gray",
        "id": "6768277854819210079",
        "label": "2",
        "shape": "rectangle"
       },
       "grabbable": true,
       "grabbed": false,
       "locked": false,
       "pannable": false,
       "position": {},
       "removed": false,
       "selectable": false,
       "selected": false
      }
     },
     "fd2481e73a5c471ea66b96004eb235d6": {
      "model_module": "jupyter-cytoscape",
      "model_module_version": "^1.3.3",
      "model_name": "NodeModel",
      "state": {
       "_model_module": "jupyter-cytoscape",
       "_model_module_version": "^1.3.3",
       "_model_name": "NodeModel",
       "_view_count": null,
       "_view_module": "jupyter-cytoscape",
       "_view_module_version": "^1.3.3",
       "_view_name": "NodeView",
       "classes": "",
       "data": {
        "color": "gray",
        "id": "-4992513829734551955",
        "label": "series-count-chunk",
        "shape": "ellipse"
       },
       "grabbable": true,
       "grabbed": false,
       "locked": false,
       "pannable": false,
       "position": {},
       "removed": false,
       "selectable": false,
       "selected": false
      }
     },
     "fdd4d9260d94448d87490bb0f3b5e225": {
      "model_module": "jupyter-cytoscape",
      "model_module_version": "^1.3.3",
      "model_name": "NodeModel",
      "state": {
       "_model_module": "jupyter-cytoscape",
       "_model_module_version": "^1.3.3",
       "_model_name": "NodeModel",
       "_view_count": null,
       "_view_module": "jupyter-cytoscape",
       "_view_module_version": "^1.3.3",
       "_view_name": "NodeView",
       "classes": "",
       "data": {
        "color": "gray",
        "id": "431511445360471944",
        "label": "series-var",
        "shape": "ellipse"
       },
       "grabbable": true,
       "grabbed": false,
       "locked": false,
       "pannable": false,
       "position": {},
       "removed": false,
       "selectable": false,
       "selected": false
      }
     },
     "feeb14fac3b24a72aa2eaa44b469b965": {
      "model_module": "jupyter-cytoscape",
      "model_module_version": "^1.3.3",
      "model_name": "NodeModel",
      "state": {
       "_model_module": "jupyter-cytoscape",
       "_model_module_version": "^1.3.3",
       "_model_name": "NodeModel",
       "_view_count": null,
       "_view_module": "jupyter-cytoscape",
       "_view_module_version": "^1.3.3",
       "_view_name": "NodeView",
       "classes": "",
       "data": {
        "color": "gray",
        "id": "-4132394775795343656",
        "label": "read-csv",
        "shape": "ellipse"
       },
       "grabbable": true,
       "grabbed": false,
       "locked": false,
       "pannable": false,
       "position": {},
       "removed": false,
       "selectable": false,
       "selected": false
      }
     },
     "fefa1f7e44d344a5ab6ed5e63b37b4bf": {
      "model_module": "jupyter-cytoscape",
      "model_module_version": "^1.3.3",
      "model_name": "EdgeModel",
      "state": {
       "_model_module": "jupyter-cytoscape",
       "_model_module_version": "^1.3.3",
       "_model_name": "EdgeModel",
       "_view_count": null,
       "_view_module": "jupyter-cytoscape",
       "_view_module_version": "^1.3.3",
       "_view_name": "EdgeView",
       "classes": " directed ",
       "data": {
        "source": "3799057381531242844",
        "target": "2296891433433737580"
       },
       "pannable": true,
       "removed": false,
       "selectable": false,
       "selected": false
      }
     }
    },
    "version_major": 2,
    "version_minor": 0
   }
  }
 },
 "nbformat": 4,
 "nbformat_minor": 4
}
