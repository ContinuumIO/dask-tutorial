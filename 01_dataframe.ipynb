{
 "cells": [
  {
   "cell_type": "markdown",
   "metadata": {
    "tags": []
   },
   "source": [
    "<img src=\"http://dask.readthedocs.io/en/latest/_images/dask_horizontal.svg\"\n",
    "     align=\"right\"\n",
    "     width=\"30%\"\n",
    "     alt=\"Dask logo\\\">\n",
    "\n",
    "\n",
    "# Dask DataFrame - parallelized pandas\n",
    "\n",
    "Looks and feels like the pandas API, but for parallel and distributed workflows. \n",
    "\n",
    "At its core, the `dask.dataframe` module implements a \"blocked parallel\" `DataFrame` object that looks and feels like the pandas API, but for parallel and distributed workflows. One Dask `DataFrame` is comprised of many in-memory pandas `DataFrame`s separated along the index. One operation on a Dask `DataFrame` triggers many pandas operations on the constituent pandas `DataFrame`s in a way that is mindful of potential parallelism and memory constraints.\n"
   ]
  },
  {
   "cell_type": "markdown",
   "metadata": {
    "tags": []
   },
   "source": [
    "<img src=\"https://docs.dask.org/en/stable/_images/dask-dataframe.svg\"\n",
    "     align=\"right\"\n",
    "     width=\"30%\"\n",
    "     alt=\"Dask DataFrame is composed of pandas DataFrames\"/>\n",
    "\n",
    "**Related Documentation**\n",
    "\n",
    "* [DataFrame documentation](https://docs.dask.org/en/latest/dataframe.html)\n",
    "* [DataFrame screencast](https://youtu.be/AT2XtFehFSQ)\n",
    "* [DataFrame API](https://docs.dask.org/en/latest/dataframe-api.html)\n",
    "* [DataFrame examples](https://examples.dask.org/dataframe.html)\n",
    "* [pandas documentation](https://pandas.pydata.org/pandas-docs/stable/)\n",
    "\n",
    "## When to use `dask.dataframe`\n",
    "\n",
    "pandas is great for tabular datasets that fit in memory. A general rule of thumb for pandas is:\n",
    "\n",
    "> \"Have 5 to 10 times as much RAM as the size of your dataset\"\n",
    ">\n",
    "> ~ Wes McKinney (2017) in [10 things I hate about pandas](https://wesmckinney.com/blog/apache-arrow-pandas-internals/)\n",
    "\n",
    "Here \"size of dataset\" means dataset size on _the disk_.\n",
    "\n",
    "Dask becomes useful when the datasets exceed the above rule.\n",
    "\n",
    "In this notebook, you will be working with the New York City Airline data. This dataset is only ~200MB, so that you can download it in a reasonable time, but `dask.dataframe` will scale to  datasets **much** larger than memory.\n",
    "\n"
   ]
  },
  {
   "cell_type": "markdown",
   "metadata": {},
   "source": [
    "## Create datasets"
   ]
  },
  {
   "cell_type": "markdown",
   "metadata": {},
   "source": [
    "Create the datasets you will be using in this notebook:"
   ]
  },
  {
   "cell_type": "code",
   "execution_count": 1,
   "metadata": {
    "execution": {
     "iopub.execute_input": "2023-02-09T17:23:34.491362Z",
     "iopub.status.busy": "2023-02-09T17:23:34.491120Z",
     "iopub.status.idle": "2023-02-09T17:23:35.083151Z",
     "shell.execute_reply": "2023-02-09T17:23:35.082275Z"
    }
   },
   "outputs": [],
   "source": [
    "%run prep.py -d flights"
   ]
  },
  {
   "cell_type": "markdown",
   "metadata": {},
   "source": [
    "## Set up your local cluster"
   ]
  },
  {
   "cell_type": "markdown",
   "metadata": {},
   "source": [
    "Create a local Dask cluster and connect it to the client. Don't worry about this bit of code for now, you will learn more in the Distributed notebook."
   ]
  },
  {
   "cell_type": "code",
   "execution_count": 2,
   "metadata": {
    "execution": {
     "iopub.execute_input": "2023-02-09T17:23:35.086781Z",
     "iopub.status.busy": "2023-02-09T17:23:35.086518Z",
     "iopub.status.idle": "2023-02-09T17:23:37.613651Z",
     "shell.execute_reply": "2023-02-09T17:23:37.613019Z"
    }
   },
   "outputs": [
    {
     "data": {
      "text/html": [
       "<div>\n",
       "    <div style=\"width: 24px; height: 24px; background-color: #e1e1e1; border: 3px solid #9D9D9D; border-radius: 5px; position: absolute;\"> </div>\n",
       "    <div style=\"margin-left: 48px;\">\n",
       "        <h3 style=\"margin-bottom: 0px;\">Client</h3>\n",
       "        <p style=\"color: #9D9D9D; margin-bottom: 0px;\">Client-7bc39ad6-a89e-11ed-8d89-000d3a99faab</p>\n",
       "        <table style=\"width: 100%; text-align: left;\">\n",
       "\n",
       "        <tr>\n",
       "        \n",
       "            <td style=\"text-align: left;\"><strong>Connection method:</strong> Cluster object</td>\n",
       "            <td style=\"text-align: left;\"><strong>Cluster type:</strong> distributed.LocalCluster</td>\n",
       "        \n",
       "        </tr>\n",
       "\n",
       "        \n",
       "            <tr>\n",
       "                <td style=\"text-align: left;\">\n",
       "                    <strong>Dashboard: </strong> <a href=\"http://127.0.0.1:8787/status\" target=\"_blank\">http://127.0.0.1:8787/status</a>\n",
       "                </td>\n",
       "                <td style=\"text-align: left;\"></td>\n",
       "            </tr>\n",
       "        \n",
       "\n",
       "        </table>\n",
       "\n",
       "        \n",
       "            <button style=\"margin-bottom: 12px;\" data-commandlinker-command=\"dask:populate-and-launch-layout\" data-commandlinker-args='{\"url\": \"http://127.0.0.1:8787/status\" }'>\n",
       "                Launch dashboard in JupyterLab\n",
       "            </button>\n",
       "        \n",
       "\n",
       "        \n",
       "            <details>\n",
       "            <summary style=\"margin-bottom: 20px;\"><h3 style=\"display: inline;\">Cluster Info</h3></summary>\n",
       "            <div class=\"jp-RenderedHTMLCommon jp-RenderedHTML jp-mod-trusted jp-OutputArea-output\">\n",
       "    <div style=\"width: 24px; height: 24px; background-color: #e1e1e1; border: 3px solid #9D9D9D; border-radius: 5px; position: absolute;\">\n",
       "    </div>\n",
       "    <div style=\"margin-left: 48px;\">\n",
       "        <h3 style=\"margin-bottom: 0px; margin-top: 0px;\">LocalCluster</h3>\n",
       "        <p style=\"color: #9D9D9D; margin-bottom: 0px;\">aba309fb</p>\n",
       "        <table style=\"width: 100%; text-align: left;\">\n",
       "            <tr>\n",
       "                <td style=\"text-align: left;\">\n",
       "                    <strong>Dashboard:</strong> <a href=\"http://127.0.0.1:8787/status\" target=\"_blank\">http://127.0.0.1:8787/status</a>\n",
       "                </td>\n",
       "                <td style=\"text-align: left;\">\n",
       "                    <strong>Workers:</strong> 4\n",
       "                </td>\n",
       "            </tr>\n",
       "            <tr>\n",
       "                <td style=\"text-align: left;\">\n",
       "                    <strong>Total threads:</strong> 4\n",
       "                </td>\n",
       "                <td style=\"text-align: left;\">\n",
       "                    <strong>Total memory:</strong> 6.78 GiB\n",
       "                </td>\n",
       "            </tr>\n",
       "            \n",
       "            <tr>\n",
       "    <td style=\"text-align: left;\"><strong>Status:</strong> running</td>\n",
       "    <td style=\"text-align: left;\"><strong>Using processes:</strong> True</td>\n",
       "</tr>\n",
       "\n",
       "            \n",
       "        </table>\n",
       "\n",
       "        <details>\n",
       "            <summary style=\"margin-bottom: 20px;\">\n",
       "                <h3 style=\"display: inline;\">Scheduler Info</h3>\n",
       "            </summary>\n",
       "\n",
       "            <div style=\"\">\n",
       "    <div>\n",
       "        <div style=\"width: 24px; height: 24px; background-color: #FFF7E5; border: 3px solid #FF6132; border-radius: 5px; position: absolute;\"> </div>\n",
       "        <div style=\"margin-left: 48px;\">\n",
       "            <h3 style=\"margin-bottom: 0px;\">Scheduler</h3>\n",
       "            <p style=\"color: #9D9D9D; margin-bottom: 0px;\">Scheduler-7cac785b-5dd5-4c38-a9dd-66c85a5806be</p>\n",
       "            <table style=\"width: 100%; text-align: left;\">\n",
       "                <tr>\n",
       "                    <td style=\"text-align: left;\">\n",
       "                        <strong>Comm:</strong> tcp://127.0.0.1:36121\n",
       "                    </td>\n",
       "                    <td style=\"text-align: left;\">\n",
       "                        <strong>Workers:</strong> 4\n",
       "                    </td>\n",
       "                </tr>\n",
       "                <tr>\n",
       "                    <td style=\"text-align: left;\">\n",
       "                        <strong>Dashboard:</strong> <a href=\"http://127.0.0.1:8787/status\" target=\"_blank\">http://127.0.0.1:8787/status</a>\n",
       "                    </td>\n",
       "                    <td style=\"text-align: left;\">\n",
       "                        <strong>Total threads:</strong> 4\n",
       "                    </td>\n",
       "                </tr>\n",
       "                <tr>\n",
       "                    <td style=\"text-align: left;\">\n",
       "                        <strong>Started:</strong> Just now\n",
       "                    </td>\n",
       "                    <td style=\"text-align: left;\">\n",
       "                        <strong>Total memory:</strong> 6.78 GiB\n",
       "                    </td>\n",
       "                </tr>\n",
       "            </table>\n",
       "        </div>\n",
       "    </div>\n",
       "\n",
       "    <details style=\"margin-left: 48px;\">\n",
       "        <summary style=\"margin-bottom: 20px;\">\n",
       "            <h3 style=\"display: inline;\">Workers</h3>\n",
       "        </summary>\n",
       "\n",
       "        \n",
       "        <div style=\"margin-bottom: 20px;\">\n",
       "            <div style=\"width: 24px; height: 24px; background-color: #DBF5FF; border: 3px solid #4CC9FF; border-radius: 5px; position: absolute;\"> </div>\n",
       "            <div style=\"margin-left: 48px;\">\n",
       "            <details>\n",
       "                <summary>\n",
       "                    <h4 style=\"margin-bottom: 0px; display: inline;\">Worker: 0</h4>\n",
       "                </summary>\n",
       "                <table style=\"width: 100%; text-align: left;\">\n",
       "                    <tr>\n",
       "                        <td style=\"text-align: left;\">\n",
       "                            <strong>Comm: </strong> tcp://127.0.0.1:40149\n",
       "                        </td>\n",
       "                        <td style=\"text-align: left;\">\n",
       "                            <strong>Total threads: </strong> 1\n",
       "                        </td>\n",
       "                    </tr>\n",
       "                    <tr>\n",
       "                        <td style=\"text-align: left;\">\n",
       "                            <strong>Dashboard: </strong> <a href=\"http://127.0.0.1:33121/status\" target=\"_blank\">http://127.0.0.1:33121/status</a>\n",
       "                        </td>\n",
       "                        <td style=\"text-align: left;\">\n",
       "                            <strong>Memory: </strong> 1.70 GiB\n",
       "                        </td>\n",
       "                    </tr>\n",
       "                    <tr>\n",
       "                        <td style=\"text-align: left;\">\n",
       "                            <strong>Nanny: </strong> tcp://127.0.0.1:35375\n",
       "                        </td>\n",
       "                        <td style=\"text-align: left;\"></td>\n",
       "                    </tr>\n",
       "                    <tr>\n",
       "                        <td colspan=\"2\" style=\"text-align: left;\">\n",
       "                            <strong>Local directory: </strong> /tmp/dask-worker-space/worker-g_2m6yar\n",
       "                        </td>\n",
       "                    </tr>\n",
       "\n",
       "                    \n",
       "\n",
       "                    \n",
       "\n",
       "                </table>\n",
       "            </details>\n",
       "            </div>\n",
       "        </div>\n",
       "        \n",
       "        <div style=\"margin-bottom: 20px;\">\n",
       "            <div style=\"width: 24px; height: 24px; background-color: #DBF5FF; border: 3px solid #4CC9FF; border-radius: 5px; position: absolute;\"> </div>\n",
       "            <div style=\"margin-left: 48px;\">\n",
       "            <details>\n",
       "                <summary>\n",
       "                    <h4 style=\"margin-bottom: 0px; display: inline;\">Worker: 1</h4>\n",
       "                </summary>\n",
       "                <table style=\"width: 100%; text-align: left;\">\n",
       "                    <tr>\n",
       "                        <td style=\"text-align: left;\">\n",
       "                            <strong>Comm: </strong> tcp://127.0.0.1:46575\n",
       "                        </td>\n",
       "                        <td style=\"text-align: left;\">\n",
       "                            <strong>Total threads: </strong> 1\n",
       "                        </td>\n",
       "                    </tr>\n",
       "                    <tr>\n",
       "                        <td style=\"text-align: left;\">\n",
       "                            <strong>Dashboard: </strong> <a href=\"http://127.0.0.1:34543/status\" target=\"_blank\">http://127.0.0.1:34543/status</a>\n",
       "                        </td>\n",
       "                        <td style=\"text-align: left;\">\n",
       "                            <strong>Memory: </strong> 1.70 GiB\n",
       "                        </td>\n",
       "                    </tr>\n",
       "                    <tr>\n",
       "                        <td style=\"text-align: left;\">\n",
       "                            <strong>Nanny: </strong> tcp://127.0.0.1:34883\n",
       "                        </td>\n",
       "                        <td style=\"text-align: left;\"></td>\n",
       "                    </tr>\n",
       "                    <tr>\n",
       "                        <td colspan=\"2\" style=\"text-align: left;\">\n",
       "                            <strong>Local directory: </strong> /tmp/dask-worker-space/worker-vilphfbh\n",
       "                        </td>\n",
       "                    </tr>\n",
       "\n",
       "                    \n",
       "\n",
       "                    \n",
       "\n",
       "                </table>\n",
       "            </details>\n",
       "            </div>\n",
       "        </div>\n",
       "        \n",
       "        <div style=\"margin-bottom: 20px;\">\n",
       "            <div style=\"width: 24px; height: 24px; background-color: #DBF5FF; border: 3px solid #4CC9FF; border-radius: 5px; position: absolute;\"> </div>\n",
       "            <div style=\"margin-left: 48px;\">\n",
       "            <details>\n",
       "                <summary>\n",
       "                    <h4 style=\"margin-bottom: 0px; display: inline;\">Worker: 2</h4>\n",
       "                </summary>\n",
       "                <table style=\"width: 100%; text-align: left;\">\n",
       "                    <tr>\n",
       "                        <td style=\"text-align: left;\">\n",
       "                            <strong>Comm: </strong> tcp://127.0.0.1:44173\n",
       "                        </td>\n",
       "                        <td style=\"text-align: left;\">\n",
       "                            <strong>Total threads: </strong> 1\n",
       "                        </td>\n",
       "                    </tr>\n",
       "                    <tr>\n",
       "                        <td style=\"text-align: left;\">\n",
       "                            <strong>Dashboard: </strong> <a href=\"http://127.0.0.1:36601/status\" target=\"_blank\">http://127.0.0.1:36601/status</a>\n",
       "                        </td>\n",
       "                        <td style=\"text-align: left;\">\n",
       "                            <strong>Memory: </strong> 1.70 GiB\n",
       "                        </td>\n",
       "                    </tr>\n",
       "                    <tr>\n",
       "                        <td style=\"text-align: left;\">\n",
       "                            <strong>Nanny: </strong> tcp://127.0.0.1:41115\n",
       "                        </td>\n",
       "                        <td style=\"text-align: left;\"></td>\n",
       "                    </tr>\n",
       "                    <tr>\n",
       "                        <td colspan=\"2\" style=\"text-align: left;\">\n",
       "                            <strong>Local directory: </strong> /tmp/dask-worker-space/worker-c2oqz7hv\n",
       "                        </td>\n",
       "                    </tr>\n",
       "\n",
       "                    \n",
       "\n",
       "                    \n",
       "\n",
       "                </table>\n",
       "            </details>\n",
       "            </div>\n",
       "        </div>\n",
       "        \n",
       "        <div style=\"margin-bottom: 20px;\">\n",
       "            <div style=\"width: 24px; height: 24px; background-color: #DBF5FF; border: 3px solid #4CC9FF; border-radius: 5px; position: absolute;\"> </div>\n",
       "            <div style=\"margin-left: 48px;\">\n",
       "            <details>\n",
       "                <summary>\n",
       "                    <h4 style=\"margin-bottom: 0px; display: inline;\">Worker: 3</h4>\n",
       "                </summary>\n",
       "                <table style=\"width: 100%; text-align: left;\">\n",
       "                    <tr>\n",
       "                        <td style=\"text-align: left;\">\n",
       "                            <strong>Comm: </strong> tcp://127.0.0.1:39447\n",
       "                        </td>\n",
       "                        <td style=\"text-align: left;\">\n",
       "                            <strong>Total threads: </strong> 1\n",
       "                        </td>\n",
       "                    </tr>\n",
       "                    <tr>\n",
       "                        <td style=\"text-align: left;\">\n",
       "                            <strong>Dashboard: </strong> <a href=\"http://127.0.0.1:34691/status\" target=\"_blank\">http://127.0.0.1:34691/status</a>\n",
       "                        </td>\n",
       "                        <td style=\"text-align: left;\">\n",
       "                            <strong>Memory: </strong> 1.70 GiB\n",
       "                        </td>\n",
       "                    </tr>\n",
       "                    <tr>\n",
       "                        <td style=\"text-align: left;\">\n",
       "                            <strong>Nanny: </strong> tcp://127.0.0.1:42985\n",
       "                        </td>\n",
       "                        <td style=\"text-align: left;\"></td>\n",
       "                    </tr>\n",
       "                    <tr>\n",
       "                        <td colspan=\"2\" style=\"text-align: left;\">\n",
       "                            <strong>Local directory: </strong> /tmp/dask-worker-space/worker-vsgfh6ft\n",
       "                        </td>\n",
       "                    </tr>\n",
       "\n",
       "                    \n",
       "\n",
       "                    \n",
       "\n",
       "                </table>\n",
       "            </details>\n",
       "            </div>\n",
       "        </div>\n",
       "        \n",
       "\n",
       "    </details>\n",
       "</div>\n",
       "\n",
       "        </details>\n",
       "    </div>\n",
       "</div>\n",
       "            </details>\n",
       "        \n",
       "\n",
       "    </div>\n",
       "</div>"
      ],
      "text/plain": [
       "<Client: 'tcp://127.0.0.1:36121' processes=4 threads=4, memory=6.78 GiB>"
      ]
     },
     "execution_count": 2,
     "metadata": {},
     "output_type": "execute_result"
    }
   ],
   "source": [
    "from dask.distributed import Client\n",
    "\n",
    "client = Client(n_workers=4)\n",
    "client"
   ]
  },
  {
   "cell_type": "markdown",
   "metadata": {},
   "source": [
    "### Dask Diagnostic Dashboard\n",
    "\n",
    "Dask Distributed provides a useful Dashboard to visualize the state of your cluster and computations.\n",
    "\n",
    "If you're on **JupyterLab or Binder**, you can use the [Dask JupyterLab extension](https://github.com/dask/dask-labextension) (which should be already installed in your environment) to open the dashboard plots:\n",
    "* Click on the Dask logo in the left sidebar\n",
    "* Click on the magnifying glass icon, which will automatically connect to the active dashboard (if that doesn't work, you can type/paste the dashboard link http://127.0.0.1:8787 in the field)\n",
    "* Click on **\"Task Stream\"**, **\"Progress Bar\"**, and **\"Worker Memory\"**, which will open these plots in new tabs\n",
    "* Re-organize the tabs to suit your workflow!\n",
    "\n",
    "Alternatively, click on the dashboard link displayed in the Client details above: http://127.0.0.1:8787/status. It will open a new browser tab with the Dashboard."
   ]
  },
  {
   "cell_type": "markdown",
   "metadata": {
    "tags": []
   },
   "source": [
    "## Reading and working with datasets\n",
    "\n",
    "Let's read an extract of flights in the USA across several years. This data is specific to flights out of the three airports in the New York City area."
   ]
  },
  {
   "cell_type": "code",
   "execution_count": 3,
   "metadata": {
    "execution": {
     "iopub.execute_input": "2023-02-09T17:23:37.617139Z",
     "iopub.status.busy": "2023-02-09T17:23:37.616729Z",
     "iopub.status.idle": "2023-02-09T17:23:37.619735Z",
     "shell.execute_reply": "2023-02-09T17:23:37.619185Z"
    }
   },
   "outputs": [],
   "source": [
    "import os\n",
    "import dask"
   ]
  },
  {
   "cell_type": "markdown",
   "metadata": {},
   "source": [
    "By convention, we import the module `dask.dataframe` as `dd`, and call the corresponding `DataFrame` object `ddf`.\n",
    "\n",
    "**Note**: The term \"Dask DataFrame\" is slightly overloaded. Depending on the context, it can refer to the module or the DataFrame object. To avoid confusion, throughout this notebook:\n",
    "- `dask.dataframe` (note the all lowercase) refers to the API, and\n",
    "- `DataFrame` (note the CamelCase) refers to the object.\n",
    "\n",
    "The following filename includes a glob pattern `*`, so all files in the path matching that pattern will be read into the same `DataFrame`."
   ]
  },
  {
   "cell_type": "code",
   "execution_count": 4,
   "metadata": {
    "execution": {
     "iopub.execute_input": "2023-02-09T17:23:37.622368Z",
     "iopub.status.busy": "2023-02-09T17:23:37.622100Z",
     "iopub.status.idle": "2023-02-09T17:23:37.784897Z",
     "shell.execute_reply": "2023-02-09T17:23:37.784195Z"
    }
   },
   "outputs": [
    {
     "data": {
      "text/html": [
       "<div><strong>Dask DataFrame Structure:</strong></div>\n",
       "<div>\n",
       "<style scoped>\n",
       "    .dataframe tbody tr th:only-of-type {\n",
       "        vertical-align: middle;\n",
       "    }\n",
       "\n",
       "    .dataframe tbody tr th {\n",
       "        vertical-align: top;\n",
       "    }\n",
       "\n",
       "    .dataframe thead th {\n",
       "        text-align: right;\n",
       "    }\n",
       "</style>\n",
       "<table border=\"1\" class=\"dataframe\">\n",
       "  <thead>\n",
       "    <tr style=\"text-align: right;\">\n",
       "      <th></th>\n",
       "      <th>Date</th>\n",
       "      <th>DayOfWeek</th>\n",
       "      <th>DepTime</th>\n",
       "      <th>CRSDepTime</th>\n",
       "      <th>ArrTime</th>\n",
       "      <th>CRSArrTime</th>\n",
       "      <th>UniqueCarrier</th>\n",
       "      <th>FlightNum</th>\n",
       "      <th>TailNum</th>\n",
       "      <th>ActualElapsedTime</th>\n",
       "      <th>CRSElapsedTime</th>\n",
       "      <th>AirTime</th>\n",
       "      <th>ArrDelay</th>\n",
       "      <th>DepDelay</th>\n",
       "      <th>Origin</th>\n",
       "      <th>Dest</th>\n",
       "      <th>Distance</th>\n",
       "      <th>TaxiIn</th>\n",
       "      <th>TaxiOut</th>\n",
       "      <th>Cancelled</th>\n",
       "      <th>Diverted</th>\n",
       "    </tr>\n",
       "    <tr>\n",
       "      <th>npartitions=10</th>\n",
       "      <th></th>\n",
       "      <th></th>\n",
       "      <th></th>\n",
       "      <th></th>\n",
       "      <th></th>\n",
       "      <th></th>\n",
       "      <th></th>\n",
       "      <th></th>\n",
       "      <th></th>\n",
       "      <th></th>\n",
       "      <th></th>\n",
       "      <th></th>\n",
       "      <th></th>\n",
       "      <th></th>\n",
       "      <th></th>\n",
       "      <th></th>\n",
       "      <th></th>\n",
       "      <th></th>\n",
       "      <th></th>\n",
       "      <th></th>\n",
       "      <th></th>\n",
       "    </tr>\n",
       "  </thead>\n",
       "  <tbody>\n",
       "    <tr>\n",
       "      <th></th>\n",
       "      <td>datetime64[ns]</td>\n",
       "      <td>int64</td>\n",
       "      <td>float64</td>\n",
       "      <td>int64</td>\n",
       "      <td>float64</td>\n",
       "      <td>int64</td>\n",
       "      <td>object</td>\n",
       "      <td>int64</td>\n",
       "      <td>float64</td>\n",
       "      <td>float64</td>\n",
       "      <td>int64</td>\n",
       "      <td>float64</td>\n",
       "      <td>float64</td>\n",
       "      <td>float64</td>\n",
       "      <td>object</td>\n",
       "      <td>object</td>\n",
       "      <td>float64</td>\n",
       "      <td>float64</td>\n",
       "      <td>float64</td>\n",
       "      <td>int64</td>\n",
       "      <td>int64</td>\n",
       "    </tr>\n",
       "    <tr>\n",
       "      <th></th>\n",
       "      <td>...</td>\n",
       "      <td>...</td>\n",
       "      <td>...</td>\n",
       "      <td>...</td>\n",
       "      <td>...</td>\n",
       "      <td>...</td>\n",
       "      <td>...</td>\n",
       "      <td>...</td>\n",
       "      <td>...</td>\n",
       "      <td>...</td>\n",
       "      <td>...</td>\n",
       "      <td>...</td>\n",
       "      <td>...</td>\n",
       "      <td>...</td>\n",
       "      <td>...</td>\n",
       "      <td>...</td>\n",
       "      <td>...</td>\n",
       "      <td>...</td>\n",
       "      <td>...</td>\n",
       "      <td>...</td>\n",
       "      <td>...</td>\n",
       "    </tr>\n",
       "    <tr>\n",
       "      <th>...</th>\n",
       "      <td>...</td>\n",
       "      <td>...</td>\n",
       "      <td>...</td>\n",
       "      <td>...</td>\n",
       "      <td>...</td>\n",
       "      <td>...</td>\n",
       "      <td>...</td>\n",
       "      <td>...</td>\n",
       "      <td>...</td>\n",
       "      <td>...</td>\n",
       "      <td>...</td>\n",
       "      <td>...</td>\n",
       "      <td>...</td>\n",
       "      <td>...</td>\n",
       "      <td>...</td>\n",
       "      <td>...</td>\n",
       "      <td>...</td>\n",
       "      <td>...</td>\n",
       "      <td>...</td>\n",
       "      <td>...</td>\n",
       "      <td>...</td>\n",
       "    </tr>\n",
       "    <tr>\n",
       "      <th></th>\n",
       "      <td>...</td>\n",
       "      <td>...</td>\n",
       "      <td>...</td>\n",
       "      <td>...</td>\n",
       "      <td>...</td>\n",
       "      <td>...</td>\n",
       "      <td>...</td>\n",
       "      <td>...</td>\n",
       "      <td>...</td>\n",
       "      <td>...</td>\n",
       "      <td>...</td>\n",
       "      <td>...</td>\n",
       "      <td>...</td>\n",
       "      <td>...</td>\n",
       "      <td>...</td>\n",
       "      <td>...</td>\n",
       "      <td>...</td>\n",
       "      <td>...</td>\n",
       "      <td>...</td>\n",
       "      <td>...</td>\n",
       "      <td>...</td>\n",
       "    </tr>\n",
       "    <tr>\n",
       "      <th></th>\n",
       "      <td>...</td>\n",
       "      <td>...</td>\n",
       "      <td>...</td>\n",
       "      <td>...</td>\n",
       "      <td>...</td>\n",
       "      <td>...</td>\n",
       "      <td>...</td>\n",
       "      <td>...</td>\n",
       "      <td>...</td>\n",
       "      <td>...</td>\n",
       "      <td>...</td>\n",
       "      <td>...</td>\n",
       "      <td>...</td>\n",
       "      <td>...</td>\n",
       "      <td>...</td>\n",
       "      <td>...</td>\n",
       "      <td>...</td>\n",
       "      <td>...</td>\n",
       "      <td>...</td>\n",
       "      <td>...</td>\n",
       "      <td>...</td>\n",
       "    </tr>\n",
       "  </tbody>\n",
       "</table>\n",
       "</div>\n",
       "<div>Dask Name: read-csv, 1 graph layer</div>"
      ],
      "text/plain": [
       "Dask DataFrame Structure:\n",
       "                          Date DayOfWeek  DepTime CRSDepTime  ArrTime CRSArrTime UniqueCarrier FlightNum  TailNum ActualElapsedTime CRSElapsedTime  AirTime ArrDelay DepDelay  Origin    Dest Distance   TaxiIn  TaxiOut Cancelled Diverted\n",
       "npartitions=10                                                                                                                                                                                                                             \n",
       "                datetime64[ns]     int64  float64      int64  float64      int64        object     int64  float64           float64          int64  float64  float64  float64  object  object  float64  float64  float64     int64    int64\n",
       "                           ...       ...      ...        ...      ...        ...           ...       ...      ...               ...            ...      ...      ...      ...     ...     ...      ...      ...      ...       ...      ...\n",
       "...                        ...       ...      ...        ...      ...        ...           ...       ...      ...               ...            ...      ...      ...      ...     ...     ...      ...      ...      ...       ...      ...\n",
       "                           ...       ...      ...        ...      ...        ...           ...       ...      ...               ...            ...      ...      ...      ...     ...     ...      ...      ...      ...       ...      ...\n",
       "                           ...       ...      ...        ...      ...        ...           ...       ...      ...               ...            ...      ...      ...      ...     ...     ...      ...      ...      ...       ...      ...\n",
       "Dask Name: read-csv, 1 graph layer"
      ]
     },
     "execution_count": 4,
     "metadata": {},
     "output_type": "execute_result"
    }
   ],
   "source": [
    "import dask.dataframe as dd\n",
    "\n",
    "ddf = dd.read_csv(\n",
    "    os.path.join(\"data\", \"nycflights\", \"*.csv\"), parse_dates={\"Date\": [0, 1, 2]}\n",
    ")\n",
    "ddf"
   ]
  },
  {
   "cell_type": "markdown",
   "metadata": {},
   "source": [
    "Dask has not loaded the data yet, it has:\n",
    "- investigated the input path and found that there are ten matching files\n",
    "- intelligently created a set of jobs for each chunk -- one per original CSV file in this case"
   ]
  },
  {
   "cell_type": "markdown",
   "metadata": {},
   "source": [
    "Notice that the representation of the `DataFrame` object contains no data - Dask has just done enough to read the start of the first file, and infer the column names and dtypes."
   ]
  },
  {
   "cell_type": "markdown",
   "metadata": {},
   "source": [
    "### Lazy Evaluation\n",
    "\n",
    "Most Dask Collections, including Dask `DataFrame` are evaluated lazily, which means Dask constructs the logic (called task graph) of your computation immediately but \"evaluates\" them  only when necessary. You can view this task graph using `.visualize()`.\n",
    "\n",
    "You will learn more about this in the Delayed notebook, but for now, note that we need to call `.compute()` to trigger actual computations."
   ]
  },
  {
   "cell_type": "code",
   "execution_count": 5,
   "metadata": {
    "execution": {
     "iopub.execute_input": "2023-02-09T17:23:37.788101Z",
     "iopub.status.busy": "2023-02-09T17:23:37.787839Z",
     "iopub.status.idle": "2023-02-09T17:23:38.293398Z",
     "shell.execute_reply": "2023-02-09T17:23:38.292679Z"
    }
   },
   "outputs": [
    {
     "data": {
      "image/png": "[encoded data removed]",
      "text/plain": [
       "<IPython.core.display.Image object>"
      ]
     },
     "execution_count": 5,
     "metadata": {},
     "output_type": "execute_result"
    }
   ],
   "source": [
    "ddf.visualize()"
   ]
  },
  {
   "cell_type": "markdown",
   "metadata": {},
   "source": [
    "Some functions like `len` and `head` also trigger a computation. Specifically, calling `len` will:\n",
    "- load actual data, (that is, load each file into a pandas DataFrame)\n",
    "- then apply the corresponding functions to each pandas DataFrame (also known as a partition)\n",
    "- combine the subtotals to give you the final grand total"
   ]
  },
  {
   "cell_type": "code",
   "execution_count": 6,
   "metadata": {
    "execution": {
     "iopub.execute_input": "2023-02-09T17:23:38.296622Z",
     "iopub.status.busy": "2023-02-09T17:23:38.296119Z",
     "iopub.status.idle": "2023-02-09T17:23:39.196146Z",
     "shell.execute_reply": "2023-02-09T17:23:39.195072Z"
    }
   },
   "outputs": [
    {
     "data": {
      "text/plain": [
       "9990"
      ]
     },
     "execution_count": 6,
     "metadata": {},
     "output_type": "execute_result"
    }
   ],
   "source": [
    "# load and count number of rows\n",
    "len(ddf)"
   ]
  },
  {
   "cell_type": "markdown",
   "metadata": {},
   "source": [
    "You can view the start and end of the data as you would in pandas:"
   ]
  },
  {
   "cell_type": "code",
   "execution_count": 7,
   "metadata": {
    "execution": {
     "iopub.execute_input": "2023-02-09T17:23:39.199942Z",
     "iopub.status.busy": "2023-02-09T17:23:39.199492Z",
     "iopub.status.idle": "2023-02-09T17:23:39.270668Z",
     "shell.execute_reply": "2023-02-09T17:23:39.269769Z"
    }
   },
   "outputs": [
    {
     "data": {
      "text/html": [
       "<div>\n",
       "<style scoped>\n",
       "    .dataframe tbody tr th:only-of-type {\n",
       "        vertical-align: middle;\n",
       "    }\n",
       "\n",
       "    .dataframe tbody tr th {\n",
       "        vertical-align: top;\n",
       "    }\n",
       "\n",
       "    .dataframe thead th {\n",
       "        text-align: right;\n",
       "    }\n",
       "</style>\n",
       "<table border=\"1\" class=\"dataframe\">\n",
       "  <thead>\n",
       "    <tr style=\"text-align: right;\">\n",
       "      <th></th>\n",
       "      <th>Date</th>\n",
       "      <th>DayOfWeek</th>\n",
       "      <th>DepTime</th>\n",
       "      <th>CRSDepTime</th>\n",
       "      <th>ArrTime</th>\n",
       "      <th>CRSArrTime</th>\n",
       "      <th>UniqueCarrier</th>\n",
       "      <th>FlightNum</th>\n",
       "      <th>TailNum</th>\n",
       "      <th>ActualElapsedTime</th>\n",
       "      <th>...</th>\n",
       "      <th>AirTime</th>\n",
       "      <th>ArrDelay</th>\n",
       "      <th>DepDelay</th>\n",
       "      <th>Origin</th>\n",
       "      <th>Dest</th>\n",
       "      <th>Distance</th>\n",
       "      <th>TaxiIn</th>\n",
       "      <th>TaxiOut</th>\n",
       "      <th>Cancelled</th>\n",
       "      <th>Diverted</th>\n",
       "    </tr>\n",
       "  </thead>\n",
       "  <tbody>\n",
       "    <tr>\n",
       "      <th>0</th>\n",
       "      <td>1990-01-01</td>\n",
       "      <td>1</td>\n",
       "      <td>1621.0</td>\n",
       "      <td>1540</td>\n",
       "      <td>1747.0</td>\n",
       "      <td>1701</td>\n",
       "      <td>US</td>\n",
       "      <td>33</td>\n",
       "      <td>NaN</td>\n",
       "      <td>86.0</td>\n",
       "      <td>...</td>\n",
       "      <td>NaN</td>\n",
       "      <td>46.0</td>\n",
       "      <td>41.0</td>\n",
       "      <td>EWR</td>\n",
       "      <td>PIT</td>\n",
       "      <td>319.0</td>\n",
       "      <td>NaN</td>\n",
       "      <td>NaN</td>\n",
       "      <td>0</td>\n",
       "      <td>0</td>\n",
       "    </tr>\n",
       "    <tr>\n",
       "      <th>1</th>\n",
       "      <td>1990-01-02</td>\n",
       "      <td>2</td>\n",
       "      <td>1547.0</td>\n",
       "      <td>1540</td>\n",
       "      <td>1700.0</td>\n",
       "      <td>1701</td>\n",
       "      <td>US</td>\n",
       "      <td>33</td>\n",
       "      <td>NaN</td>\n",
       "      <td>73.0</td>\n",
       "      <td>...</td>\n",
       "      <td>NaN</td>\n",
       "      <td>-1.0</td>\n",
       "      <td>7.0</td>\n",
       "      <td>EWR</td>\n",
       "      <td>PIT</td>\n",
       "      <td>319.0</td>\n",
       "      <td>NaN</td>\n",
       "      <td>NaN</td>\n",
       "      <td>0</td>\n",
       "      <td>0</td>\n",
       "    </tr>\n",
       "    <tr>\n",
       "      <th>2</th>\n",
       "      <td>1990-01-03</td>\n",
       "      <td>3</td>\n",
       "      <td>1546.0</td>\n",
       "      <td>1540</td>\n",
       "      <td>1710.0</td>\n",
       "      <td>1701</td>\n",
       "      <td>US</td>\n",
       "      <td>33</td>\n",
       "      <td>NaN</td>\n",
       "      <td>84.0</td>\n",
       "      <td>...</td>\n",
       "      <td>NaN</td>\n",
       "      <td>9.0</td>\n",
       "      <td>6.0</td>\n",
       "      <td>EWR</td>\n",
       "      <td>PIT</td>\n",
       "      <td>319.0</td>\n",
       "      <td>NaN</td>\n",
       "      <td>NaN</td>\n",
       "      <td>0</td>\n",
       "      <td>0</td>\n",
       "    </tr>\n",
       "    <tr>\n",
       "      <th>3</th>\n",
       "      <td>1990-01-04</td>\n",
       "      <td>4</td>\n",
       "      <td>1542.0</td>\n",
       "      <td>1540</td>\n",
       "      <td>1710.0</td>\n",
       "      <td>1701</td>\n",
       "      <td>US</td>\n",
       "      <td>33</td>\n",
       "      <td>NaN</td>\n",
       "      <td>88.0</td>\n",
       "      <td>...</td>\n",
       "      <td>NaN</td>\n",
       "      <td>9.0</td>\n",
       "      <td>2.0</td>\n",
       "      <td>EWR</td>\n",
       "      <td>PIT</td>\n",
       "      <td>319.0</td>\n",
       "      <td>NaN</td>\n",
       "      <td>NaN</td>\n",
       "      <td>0</td>\n",
       "      <td>0</td>\n",
       "    </tr>\n",
       "    <tr>\n",
       "      <th>4</th>\n",
       "      <td>1990-01-05</td>\n",
       "      <td>5</td>\n",
       "      <td>1549.0</td>\n",
       "      <td>1540</td>\n",
       "      <td>1706.0</td>\n",
       "      <td>1701</td>\n",
       "      <td>US</td>\n",
       "      <td>33</td>\n",
       "      <td>NaN</td>\n",
       "      <td>77.0</td>\n",
       "      <td>...</td>\n",
       "      <td>NaN</td>\n",
       "      <td>5.0</td>\n",
       "      <td>9.0</td>\n",
       "      <td>EWR</td>\n",
       "      <td>PIT</td>\n",
       "      <td>319.0</td>\n",
       "      <td>NaN</td>\n",
       "      <td>NaN</td>\n",
       "      <td>0</td>\n",
       "      <td>0</td>\n",
       "    </tr>\n",
       "  </tbody>\n",
       "</table>\n",
       "<p>5 rows × 21 columns</p>\n",
       "</div>"
      ],
      "text/plain": [
       "        Date  DayOfWeek  DepTime  CRSDepTime  ArrTime  CRSArrTime  \\\n",
       "0 1990-01-01          1   1621.0        1540   1747.0        1701   \n",
       "1 1990-01-02          2   1547.0        1540   1700.0        1701   \n",
       "2 1990-01-03          3   1546.0        1540   1710.0        1701   \n",
       "3 1990-01-04          4   1542.0        1540   1710.0        1701   \n",
       "4 1990-01-05          5   1549.0        1540   1706.0        1701   \n",
       "\n",
       "  UniqueCarrier  FlightNum  TailNum  ActualElapsedTime  ...  AirTime  \\\n",
       "0            US         33      NaN               86.0  ...      NaN   \n",
       "1            US         33      NaN               73.0  ...      NaN   \n",
       "2            US         33      NaN               84.0  ...      NaN   \n",
       "3            US         33      NaN               88.0  ...      NaN   \n",
       "4            US         33      NaN               77.0  ...      NaN   \n",
       "\n",
       "   ArrDelay  DepDelay  Origin Dest Distance  TaxiIn  TaxiOut  Cancelled  \\\n",
       "0      46.0      41.0     EWR  PIT    319.0     NaN      NaN          0   \n",
       "1      -1.0       7.0     EWR  PIT    319.0     NaN      NaN          0   \n",
       "2       9.0       6.0     EWR  PIT    319.0     NaN      NaN          0   \n",
       "3       9.0       2.0     EWR  PIT    319.0     NaN      NaN          0   \n",
       "4       5.0       9.0     EWR  PIT    319.0     NaN      NaN          0   \n",
       "\n",
       "   Diverted  \n",
       "0         0  \n",
       "1         0  \n",
       "2         0  \n",
       "3         0  \n",
       "4         0  \n",
       "\n",
       "[5 rows x 21 columns]"
      ]
     },
     "execution_count": 7,
     "metadata": {},
     "output_type": "execute_result"
    }
   ],
   "source": [
    "ddf.head()"
   ]
  },
  {
   "cell_type": "markdown",
   "metadata": {
    "tags": [
     "raises-exception"
    ]
   },
   "source": [
    "```python\n",
    "ddf.tail()\n",
    "\n",
    "# ValueError: Mismatched dtypes found in `pd.read_csv`/`pd.read_table`.\n",
    "\n",
    "# +----------------+---------+----------+\n",
    "# | Column         | Found   | Expected |\n",
    "# +----------------+---------+----------+\n",
    "# | CRSElapsedTime | float64 | int64    |\n",
    "# | TailNum        | object  | float64  |\n",
    "# +----------------+---------+----------+\n",
    "\n",
    "# The following columns also raised exceptions on conversion:\n",
    "\n",
    "# - TailNum\n",
    "#   ValueError(\"could not convert string to float: 'N54711'\")\n",
    "\n",
    "# Usually this is due to dask's dtype inference failing, and\n",
    "# *may* be fixed by specifying dtypes manually by adding:\n",
    "\n",
    "# dtype={'CRSElapsedTime': 'float64',\n",
    "#        'TailNum': 'object'}\n",
    "\n",
    "# to the call to `read_csv`/`read_table`.\n",
    "\n",
    "```"
   ]
  },
  {
   "cell_type": "markdown",
   "metadata": {},
   "source": [
    "Unlike `pandas.read_csv` which reads in the entire file before inferring datatypes, `dask.dataframe.read_csv` only reads in a sample from the beginning of the file (or first file if using a glob). These inferred datatypes are then enforced when reading all partitions.\n",
    "\n",
    "In this case, the datatypes inferred in the sample are incorrect. The first `n` rows have no value for `CRSElapsedTime` (which pandas infers as a `float`), and later on turn out to be strings (`object` dtype). Note that Dask gives an informative error message about the mismatch. When this happens you have a few options:\n",
    "\n",
    "- Specify dtypes directly using the `dtype` keyword. This is the recommended solution, as it's the least error prone (better to be explicit than implicit) and also the most performant.\n",
    "- Increase the size of the `sample` keyword (in bytes)\n",
    "- Use `assume_missing` to make `dask` assume that columns inferred to be `int` (which don't allow missing values) are actually `floats` (which do allow missing values). In our particular case this doesn't apply.\n",
    "\n",
    "In our case we'll use the first option and directly specify the `dtypes` of the offending columns. "
   ]
  },
  {
   "cell_type": "code",
   "execution_count": 8,
   "metadata": {
    "execution": {
     "iopub.execute_input": "2023-02-09T17:23:39.274094Z",
     "iopub.status.busy": "2023-02-09T17:23:39.273679Z",
     "iopub.status.idle": "2023-02-09T17:23:39.289649Z",
     "shell.execute_reply": "2023-02-09T17:23:39.288771Z"
    }
   },
   "outputs": [],
   "source": [
    "ddf = dd.read_csv(\n",
    "    os.path.join(\"data\", \"nycflights\", \"*.csv\"),\n",
    "    parse_dates={\"Date\": [0, 1, 2]},\n",
    "    dtype={\"TailNum\": str, \"CRSElapsedTime\": float, \"Cancelled\": bool},\n",
    ")"
   ]
  },
  {
   "cell_type": "code",
   "execution_count": 9,
   "metadata": {
    "execution": {
     "iopub.execute_input": "2023-02-09T17:23:39.293193Z",
     "iopub.status.busy": "2023-02-09T17:23:39.292583Z",
     "iopub.status.idle": "2023-02-09T17:23:39.364454Z",
     "shell.execute_reply": "2023-02-09T17:23:39.363293Z"
    }
   },
   "outputs": [
    {
     "data": {
      "text/html": [
       "<div>\n",
       "<style scoped>\n",
       "    .dataframe tbody tr th:only-of-type {\n",
       "        vertical-align: middle;\n",
       "    }\n",
       "\n",
       "    .dataframe tbody tr th {\n",
       "        vertical-align: top;\n",
       "    }\n",
       "\n",
       "    .dataframe thead th {\n",
       "        text-align: right;\n",
       "    }\n",
       "</style>\n",
       "<table border=\"1\" class=\"dataframe\">\n",
       "  <thead>\n",
       "    <tr style=\"text-align: right;\">\n",
       "      <th></th>\n",
       "      <th>Date</th>\n",
       "      <th>DayOfWeek</th>\n",
       "      <th>DepTime</th>\n",
       "      <th>CRSDepTime</th>\n",
       "      <th>ArrTime</th>\n",
       "      <th>CRSArrTime</th>\n",
       "      <th>UniqueCarrier</th>\n",
       "      <th>FlightNum</th>\n",
       "      <th>TailNum</th>\n",
       "      <th>ActualElapsedTime</th>\n",
       "      <th>...</th>\n",
       "      <th>AirTime</th>\n",
       "      <th>ArrDelay</th>\n",
       "      <th>DepDelay</th>\n",
       "      <th>Origin</th>\n",
       "      <th>Dest</th>\n",
       "      <th>Distance</th>\n",
       "      <th>TaxiIn</th>\n",
       "      <th>TaxiOut</th>\n",
       "      <th>Cancelled</th>\n",
       "      <th>Diverted</th>\n",
       "    </tr>\n",
       "  </thead>\n",
       "  <tbody>\n",
       "    <tr>\n",
       "      <th>994</th>\n",
       "      <td>1999-01-25</td>\n",
       "      <td>1</td>\n",
       "      <td>632.0</td>\n",
       "      <td>635</td>\n",
       "      <td>803.0</td>\n",
       "      <td>817</td>\n",
       "      <td>CO</td>\n",
       "      <td>437</td>\n",
       "      <td>N27213</td>\n",
       "      <td>91.0</td>\n",
       "      <td>...</td>\n",
       "      <td>68.0</td>\n",
       "      <td>-14.0</td>\n",
       "      <td>-3.0</td>\n",
       "      <td>EWR</td>\n",
       "      <td>RDU</td>\n",
       "      <td>416.0</td>\n",
       "      <td>4.0</td>\n",
       "      <td>19.0</td>\n",
       "      <td>False</td>\n",
       "      <td>0</td>\n",
       "    </tr>\n",
       "    <tr>\n",
       "      <th>995</th>\n",
       "      <td>1999-01-26</td>\n",
       "      <td>2</td>\n",
       "      <td>632.0</td>\n",
       "      <td>635</td>\n",
       "      <td>751.0</td>\n",
       "      <td>817</td>\n",
       "      <td>CO</td>\n",
       "      <td>437</td>\n",
       "      <td>N16217</td>\n",
       "      <td>79.0</td>\n",
       "      <td>...</td>\n",
       "      <td>62.0</td>\n",
       "      <td>-26.0</td>\n",
       "      <td>-3.0</td>\n",
       "      <td>EWR</td>\n",
       "      <td>RDU</td>\n",
       "      <td>416.0</td>\n",
       "      <td>3.0</td>\n",
       "      <td>14.0</td>\n",
       "      <td>False</td>\n",
       "      <td>0</td>\n",
       "    </tr>\n",
       "    <tr>\n",
       "      <th>996</th>\n",
       "      <td>1999-01-27</td>\n",
       "      <td>3</td>\n",
       "      <td>631.0</td>\n",
       "      <td>635</td>\n",
       "      <td>756.0</td>\n",
       "      <td>817</td>\n",
       "      <td>CO</td>\n",
       "      <td>437</td>\n",
       "      <td>N12216</td>\n",
       "      <td>85.0</td>\n",
       "      <td>...</td>\n",
       "      <td>66.0</td>\n",
       "      <td>-21.0</td>\n",
       "      <td>-4.0</td>\n",
       "      <td>EWR</td>\n",
       "      <td>RDU</td>\n",
       "      <td>416.0</td>\n",
       "      <td>4.0</td>\n",
       "      <td>15.0</td>\n",
       "      <td>False</td>\n",
       "      <td>0</td>\n",
       "    </tr>\n",
       "    <tr>\n",
       "      <th>997</th>\n",
       "      <td>1999-01-28</td>\n",
       "      <td>4</td>\n",
       "      <td>629.0</td>\n",
       "      <td>635</td>\n",
       "      <td>803.0</td>\n",
       "      <td>817</td>\n",
       "      <td>CO</td>\n",
       "      <td>437</td>\n",
       "      <td>N26210</td>\n",
       "      <td>94.0</td>\n",
       "      <td>...</td>\n",
       "      <td>69.0</td>\n",
       "      <td>-14.0</td>\n",
       "      <td>-6.0</td>\n",
       "      <td>EWR</td>\n",
       "      <td>RDU</td>\n",
       "      <td>416.0</td>\n",
       "      <td>5.0</td>\n",
       "      <td>20.0</td>\n",
       "      <td>False</td>\n",
       "      <td>0</td>\n",
       "    </tr>\n",
       "    <tr>\n",
       "      <th>998</th>\n",
       "      <td>1999-01-29</td>\n",
       "      <td>5</td>\n",
       "      <td>632.0</td>\n",
       "      <td>635</td>\n",
       "      <td>802.0</td>\n",
       "      <td>817</td>\n",
       "      <td>CO</td>\n",
       "      <td>437</td>\n",
       "      <td>N12225</td>\n",
       "      <td>90.0</td>\n",
       "      <td>...</td>\n",
       "      <td>67.0</td>\n",
       "      <td>-15.0</td>\n",
       "      <td>-3.0</td>\n",
       "      <td>EWR</td>\n",
       "      <td>RDU</td>\n",
       "      <td>416.0</td>\n",
       "      <td>5.0</td>\n",
       "      <td>18.0</td>\n",
       "      <td>False</td>\n",
       "      <td>0</td>\n",
       "    </tr>\n",
       "  </tbody>\n",
       "</table>\n",
       "<p>5 rows × 21 columns</p>\n",
       "</div>"
      ],
      "text/plain": [
       "          Date  DayOfWeek  DepTime  CRSDepTime  ArrTime  CRSArrTime  \\\n",
       "994 1999-01-25          1    632.0         635    803.0         817   \n",
       "995 1999-01-26          2    632.0         635    751.0         817   \n",
       "996 1999-01-27          3    631.0         635    756.0         817   \n",
       "997 1999-01-28          4    629.0         635    803.0         817   \n",
       "998 1999-01-29          5    632.0         635    802.0         817   \n",
       "\n",
       "    UniqueCarrier  FlightNum TailNum  ActualElapsedTime  ...  AirTime  \\\n",
       "994            CO        437  N27213               91.0  ...     68.0   \n",
       "995            CO        437  N16217               79.0  ...     62.0   \n",
       "996            CO        437  N12216               85.0  ...     66.0   \n",
       "997            CO        437  N26210               94.0  ...     69.0   \n",
       "998            CO        437  N12225               90.0  ...     67.0   \n",
       "\n",
       "     ArrDelay  DepDelay  Origin Dest Distance  TaxiIn  TaxiOut  Cancelled  \\\n",
       "994     -14.0      -3.0     EWR  RDU    416.0     4.0     19.0      False   \n",
       "995     -26.0      -3.0     EWR  RDU    416.0     3.0     14.0      False   \n",
       "996     -21.0      -4.0     EWR  RDU    416.0     4.0     15.0      False   \n",
       "997     -14.0      -6.0     EWR  RDU    416.0     5.0     20.0      False   \n",
       "998     -15.0      -3.0     EWR  RDU    416.0     5.0     18.0      False   \n",
       "\n",
       "     Diverted  \n",
       "994         0  \n",
       "995         0  \n",
       "996         0  \n",
       "997         0  \n",
       "998         0  \n",
       "\n",
       "[5 rows x 21 columns]"
      ]
     },
     "execution_count": 9,
     "metadata": {},
     "output_type": "execute_result"
    }
   ],
   "source": [
    "ddf.tail()  # now works"
   ]
  },
  {
   "cell_type": "markdown",
   "metadata": {},
   "source": [
    "### Reading from remote storage\n",
    "\n",
    "If you're thinking about distributed computing, your data is probably stored remotely on services (like Amazon's S3 or Google's cloud storage) and is in a friendlier format (like Parquet). Dask can read data in various formats directly from these remote locations **lazily** and **in parallel**.\n",
    "\n",
    "Here's how you can read the NYC taxi cab data from Amazon S3:\n",
    "\n",
    "```python\n",
    "ddf = dd.read_parquet(\n",
    "    \"s3://nyc-tlc/trip data/yellow_tripdata_2012-*.parquet\",\n",
    ")\n",
    "```\n",
    "\n",
    "You can also leverage Parquet-specific optimizations like column selection and metadata handling, learn more in [the Dask documentation on working with Parquet files](https://docs.dask.org/en/stable/dataframe-parquet.html)."
   ]
  },
  {
   "cell_type": "markdown",
   "metadata": {
    "tags": []
   },
   "source": [
    "## Computations with `dask.dataframe`\n",
    "\n",
    "Let's compute the maximum of the flight delay.\n",
    "\n",
    "With just pandas, we would loop over each file to find the individual maximums, then find the final maximum over all the individual maximums.\n",
    "\n",
    "```python\n",
    "import pandas as pd\n",
    "\n",
    "files = os.listdir(os.path.join('data', 'nycflights'))\n",
    "\n",
    "maxes = []\n",
    "\n",
    "for file in files:\n",
    "    df = pd.read_csv(os.path.join('data', 'nycflights', file))\n",
    "    maxes.append(df.DepDelay.max())\n",
    "    \n",
    "final_max = max(maxes)\n",
    "```\n",
    "\n",
    "`dask.dataframe` lets us write pandas-like code, that operates on larger-than-memory datasets in parallel."
   ]
  },
  {
   "cell_type": "code",
   "execution_count": 10,
   "metadata": {
    "execution": {
     "iopub.execute_input": "2023-02-09T17:23:39.368572Z",
     "iopub.status.busy": "2023-02-09T17:23:39.368137Z",
     "iopub.status.idle": "2023-02-09T17:23:39.477858Z",
     "shell.execute_reply": "2023-02-09T17:23:39.477048Z"
    }
   },
   "outputs": [
    {
     "name": "stdout",
     "output_type": "stream",
     "text": [
      "CPU times: user 33.1 ms, sys: 0 ns, total: 33.1 ms\n",
      "Wall time: 101 ms\n"
     ]
    },
    {
     "data": {
      "text/plain": [
       "409.0"
      ]
     },
     "execution_count": 10,
     "metadata": {},
     "output_type": "execute_result"
    }
   ],
   "source": [
    "%%time\n",
    "result = ddf.DepDelay.max()\n",
    "result.compute()"
   ]
  },
  {
   "cell_type": "markdown",
   "metadata": {},
   "source": [
    "This creates the lazy computation for us and then runs it.  "
   ]
  },
  {
   "cell_type": "markdown",
   "metadata": {},
   "source": [
    "**Note:** Dask will delete intermediate results (like the full pandas DataFrame for each file) as soon as possible. This means you can handle datasets that are larger than memory but, repeated computations will have to load all of the data in each time. (Run the code above again, is it faster or slower than you would expect?)"
   ]
  },
  {
   "cell_type": "markdown",
   "metadata": {},
   "source": [
    "You can view the underlying task graph using `.visualize()`:"
   ]
  },
  {
   "cell_type": "code",
   "execution_count": 11,
   "metadata": {
    "execution": {
     "iopub.execute_input": "2023-02-09T17:23:39.481029Z",
     "iopub.status.busy": "2023-02-09T17:23:39.480765Z",
     "iopub.status.idle": "2023-02-09T17:23:39.795295Z",
     "shell.execute_reply": "2023-02-09T17:23:39.794538Z"
    }
   },
   "outputs": [
    {
     "data": {
      "image/png": "[encoded data removed]",
      "text/plain": [
       "<IPython.core.display.Image object>"
      ]
     },
     "execution_count": 11,
     "metadata": {},
     "output_type": "execute_result"
    }
   ],
   "source": [
    "# notice the parallelism\n",
    "result.visualize()"
   ]
  },
  {
   "cell_type": "markdown",
   "metadata": {},
   "source": [
    "## Exercises\n",
    "\n",
    "In this section you will do a few `dask.dataframe` computations. If you are comfortable with pandas then these should be familiar. You will have to think about when to call `.compute()`."
   ]
  },
  {
   "cell_type": "markdown",
   "metadata": {},
   "source": [
    "### 1. How many rows are in our dataset?\n",
    "\n",
    "_Hint_: how would you check how many items are in a list?"
   ]
  },
  {
   "cell_type": "code",
   "execution_count": 12,
   "metadata": {
    "execution": {
     "iopub.execute_input": "2023-02-09T17:23:39.800200Z",
     "iopub.status.busy": "2023-02-09T17:23:39.799611Z",
     "iopub.status.idle": "2023-02-09T17:23:39.803785Z",
     "shell.execute_reply": "2023-02-09T17:23:39.803178Z"
    }
   },
   "outputs": [],
   "source": [
    "# Your code here"
   ]
  },
  {
   "cell_type": "code",
   "execution_count": 13,
   "metadata": {
    "execution": {
     "iopub.execute_input": "2023-02-09T17:23:39.806566Z",
     "iopub.status.busy": "2023-02-09T17:23:39.806323Z",
     "iopub.status.idle": "2023-02-09T17:23:39.912934Z",
     "shell.execute_reply": "2023-02-09T17:23:39.911657Z"
    },
    "jupyter": {
     "source_hidden": true
    },
    "tags": []
   },
   "outputs": [
    {
     "data": {
      "text/plain": [
       "9990"
      ]
     },
     "execution_count": 13,
     "metadata": {},
     "output_type": "execute_result"
    }
   ],
   "source": [
    "len(ddf)"
   ]
  },
  {
   "cell_type": "markdown",
   "metadata": {},
   "source": [
    "### 2. In total, how many non-canceled flights were taken?\n",
    "\n",
    "_Hint_: use [boolean indexing](https://pandas.pydata.org/pandas-docs/stable/indexing.html#boolean-indexing)."
   ]
  },
  {
   "cell_type": "code",
   "execution_count": 14,
   "metadata": {
    "execution": {
     "iopub.execute_input": "2023-02-09T17:23:39.916765Z",
     "iopub.status.busy": "2023-02-09T17:23:39.916342Z",
     "iopub.status.idle": "2023-02-09T17:23:39.919878Z",
     "shell.execute_reply": "2023-02-09T17:23:39.919214Z"
    }
   },
   "outputs": [],
   "source": [
    "# Your code here"
   ]
  },
  {
   "cell_type": "code",
   "execution_count": 15,
   "metadata": {
    "execution": {
     "iopub.execute_input": "2023-02-09T17:23:39.923058Z",
     "iopub.status.busy": "2023-02-09T17:23:39.922662Z",
     "iopub.status.idle": "2023-02-09T17:23:40.046679Z",
     "shell.execute_reply": "2023-02-09T17:23:40.045571Z"
    },
    "jupyter": {
     "source_hidden": true
    },
    "tags": []
   },
   "outputs": [
    {
     "data": {
      "text/plain": [
       "9383"
      ]
     },
     "execution_count": 15,
     "metadata": {},
     "output_type": "execute_result"
    }
   ],
   "source": [
    "len(ddf[~ddf.Cancelled])"
   ]
  },
  {
   "cell_type": "markdown",
   "metadata": {},
   "source": [
    "### 3. In total, how many non-canceled flights were taken from each airport?\n",
    "\n",
    "*Hint*: use [groupby](https://pandas.pydata.org/pandas-docs/stable/groupby.html)."
   ]
  },
  {
   "cell_type": "code",
   "execution_count": 16,
   "metadata": {
    "execution": {
     "iopub.execute_input": "2023-02-09T17:23:40.051334Z",
     "iopub.status.busy": "2023-02-09T17:23:40.051069Z",
     "iopub.status.idle": "2023-02-09T17:23:40.054783Z",
     "shell.execute_reply": "2023-02-09T17:23:40.053678Z"
    }
   },
   "outputs": [],
   "source": [
    "# Your code here"
   ]
  },
  {
   "cell_type": "code",
   "execution_count": 17,
   "metadata": {
    "execution": {
     "iopub.execute_input": "2023-02-09T17:23:40.058797Z",
     "iopub.status.busy": "2023-02-09T17:23:40.058437Z",
     "iopub.status.idle": "2023-02-09T17:23:40.194300Z",
     "shell.execute_reply": "2023-02-09T17:23:40.193593Z"
    },
    "jupyter": {
     "source_hidden": true
    },
    "tags": []
   },
   "outputs": [
    {
     "data": {
      "text/plain": [
       "Origin\n",
       "EWR    4132\n",
       "JFK    1085\n",
       "LGA    4166\n",
       "Name: Origin, dtype: int64"
      ]
     },
     "execution_count": 17,
     "metadata": {},
     "output_type": "execute_result"
    }
   ],
   "source": [
    "ddf[~ddf.Cancelled].groupby(\"Origin\").Origin.count().compute()"
   ]
  },
  {
   "cell_type": "markdown",
   "metadata": {},
   "source": [
    "### 4. What was the average departure delay from each airport?"
   ]
  },
  {
   "cell_type": "code",
   "execution_count": 18,
   "metadata": {
    "execution": {
     "iopub.execute_input": "2023-02-09T17:23:40.197686Z",
     "iopub.status.busy": "2023-02-09T17:23:40.197280Z",
     "iopub.status.idle": "2023-02-09T17:23:40.200151Z",
     "shell.execute_reply": "2023-02-09T17:23:40.199590Z"
    }
   },
   "outputs": [],
   "source": [
    "# Your code here"
   ]
  },
  {
   "cell_type": "code",
   "execution_count": 19,
   "metadata": {
    "execution": {
     "iopub.execute_input": "2023-02-09T17:23:40.202887Z",
     "iopub.status.busy": "2023-02-09T17:23:40.202501Z",
     "iopub.status.idle": "2023-02-09T17:23:40.394928Z",
     "shell.execute_reply": "2023-02-09T17:23:40.394243Z"
    },
    "jupyter": {
     "source_hidden": true
    },
    "tags": []
   },
   "outputs": [
    {
     "data": {
      "text/plain": [
       "Origin\n",
       "EWR    12.500968\n",
       "JFK    17.053456\n",
       "LGA    10.169227\n",
       "Name: DepDelay, dtype: float64"
      ]
     },
     "execution_count": 19,
     "metadata": {},
     "output_type": "execute_result"
    }
   ],
   "source": [
    "ddf.groupby(\"Origin\").DepDelay.mean().compute()"
   ]
  },
  {
   "cell_type": "markdown",
   "metadata": {},
   "source": [
    "### 5. What day of the week has the worst average departure delay?"
   ]
  },
  {
   "cell_type": "code",
   "execution_count": 20,
   "metadata": {
    "execution": {
     "iopub.execute_input": "2023-02-09T17:23:40.398260Z",
     "iopub.status.busy": "2023-02-09T17:23:40.397660Z",
     "iopub.status.idle": "2023-02-09T17:23:40.400985Z",
     "shell.execute_reply": "2023-02-09T17:23:40.400376Z"
    }
   },
   "outputs": [],
   "source": [
    "# Your code here"
   ]
  },
  {
   "cell_type": "code",
   "execution_count": 21,
   "metadata": {
    "execution": {
     "iopub.execute_input": "2023-02-09T17:23:40.403630Z",
     "iopub.status.busy": "2023-02-09T17:23:40.403239Z",
     "iopub.status.idle": "2023-02-09T17:23:40.588477Z",
     "shell.execute_reply": "2023-02-09T17:23:40.587517Z"
    },
    "jupyter": {
     "source_hidden": true
    },
    "tags": []
   },
   "outputs": [
    {
     "data": {
      "text/plain": [
       "5"
      ]
     },
     "execution_count": 21,
     "metadata": {},
     "output_type": "execute_result"
    }
   ],
   "source": [
    "ddf.groupby(\"DayOfWeek\").DepDelay.mean().idxmax().compute()"
   ]
  },
  {
   "cell_type": "markdown",
   "metadata": {},
   "source": [
    "### 6. Let's say the distance column is erroneous and you need to add 1 to all values, how would you do this?"
   ]
  },
  {
   "cell_type": "code",
   "execution_count": 22,
   "metadata": {
    "execution": {
     "iopub.execute_input": "2023-02-09T17:23:40.594268Z",
     "iopub.status.busy": "2023-02-09T17:23:40.593889Z",
     "iopub.status.idle": "2023-02-09T17:23:40.598582Z",
     "shell.execute_reply": "2023-02-09T17:23:40.597794Z"
    }
   },
   "outputs": [],
   "source": [
    "# Your code here"
   ]
  },
  {
   "cell_type": "code",
   "execution_count": 23,
   "metadata": {
    "execution": {
     "iopub.execute_input": "2023-02-09T17:23:40.602371Z",
     "iopub.status.busy": "2023-02-09T17:23:40.602093Z",
     "iopub.status.idle": "2023-02-09T17:23:40.803288Z",
     "shell.execute_reply": "2023-02-09T17:23:40.802365Z"
    },
    "jupyter": {
     "source_hidden": true
    },
    "tags": []
   },
   "outputs": [
    {
     "name": "stderr",
     "output_type": "stream",
     "text": [
      "/usr/share/miniconda3/envs/dask-tutorial/lib/python3.10/site-packages/dask/dataframe/core.py:4139: UserWarning: \n",
      "You did not provide metadata, so Dask is running your function on a small dataset to guess output types. It is possible that Dask will guess incorrectly.\n",
      "To provide an explicit output types or to silence this message, please provide the `meta=` keyword, as described in the map or apply function that you are using.\n",
      "  Before: .apply(func)\n",
      "  After:  .apply(func, meta=('Distance', 'float64'))\n",
      "\n",
      "  warnings.warn(meta_warning(meta))\n"
     ]
    },
    {
     "data": {
      "text/plain": [
       "0      320.0\n",
       "1      320.0\n",
       "2      320.0\n",
       "3      320.0\n",
       "4      320.0\n",
       "       ...  \n",
       "994    417.0\n",
       "995    417.0\n",
       "996    417.0\n",
       "997    417.0\n",
       "998    417.0\n",
       "Name: Distance, Length: 9990, dtype: float64"
      ]
     },
     "execution_count": 23,
     "metadata": {},
     "output_type": "execute_result"
    }
   ],
   "source": [
    "ddf[\"Distance\"].apply(\n",
    "    lambda x: x + 1\n",
    ").compute()  # don't worry about the warning, we'll discuss in the next sections\n",
    "\n",
    "# OR\n",
    "\n",
    "(ddf[\"Distance\"] + 1).compute()"
   ]
  },
  {
   "cell_type": "markdown",
   "metadata": {},
   "source": [
    "## Sharing Intermediate Results\n",
    "\n",
    "When computing all of the above, we sometimes did the same operation more than once. For most operations, `dask.dataframe` stores the arguments, allowing duplicate computations to be shared and only computed once.\n",
    "\n",
    "For example, let's compute the mean and standard deviation for departure delay of all non-canceled flights. Since Dask operations are lazy, those values aren't the final results yet. They're just the steps required to get the result.\n",
    "\n",
    "If you compute them with two calls to compute, there is no sharing of intermediate computations."
   ]
  },
  {
   "cell_type": "code",
   "execution_count": 24,
   "metadata": {
    "execution": {
     "iopub.execute_input": "2023-02-09T17:23:40.806852Z",
     "iopub.status.busy": "2023-02-09T17:23:40.805850Z",
     "iopub.status.idle": "2023-02-09T17:23:40.825682Z",
     "shell.execute_reply": "2023-02-09T17:23:40.823274Z"
    }
   },
   "outputs": [],
   "source": [
    "non_canceled = ddf[~ddf.Cancelled]\n",
    "mean_delay = non_canceled.DepDelay.mean()\n",
    "std_delay = non_canceled.DepDelay.std()"
   ]
  },
  {
   "cell_type": "code",
   "execution_count": 25,
   "metadata": {
    "execution": {
     "iopub.execute_input": "2023-02-09T17:23:40.830304Z",
     "iopub.status.busy": "2023-02-09T17:23:40.830014Z",
     "iopub.status.idle": "2023-02-09T17:23:41.120151Z",
     "shell.execute_reply": "2023-02-09T17:23:41.119136Z"
    },
    "tags": []
   },
   "outputs": [
    {
     "name": "stdout",
     "output_type": "stream",
     "text": [
      "CPU times: user 95.9 ms, sys: 2.8 ms, total: 98.7 ms\n",
      "Wall time: 283 ms\n"
     ]
    }
   ],
   "source": [
    "%%time\n",
    "\n",
    "mean_delay_res = mean_delay.compute()\n",
    "std_delay_res = std_delay.compute()"
   ]
  },
  {
   "cell_type": "markdown",
   "metadata": {},
   "source": [
    "### `dask.compute`"
   ]
  },
  {
   "cell_type": "markdown",
   "metadata": {},
   "source": [
    "But let's try by passing both to a single `compute` call."
   ]
  },
  {
   "cell_type": "code",
   "execution_count": 26,
   "metadata": {
    "execution": {
     "iopub.execute_input": "2023-02-09T17:23:41.124143Z",
     "iopub.status.busy": "2023-02-09T17:23:41.123580Z",
     "iopub.status.idle": "2023-02-09T17:23:41.310643Z",
     "shell.execute_reply": "2023-02-09T17:23:41.309296Z"
    },
    "tags": []
   },
   "outputs": [
    {
     "name": "stdout",
     "output_type": "stream",
     "text": [
      "CPU times: user 61.3 ms, sys: 7.09 ms, total: 68.4 ms\n",
      "Wall time: 179 ms\n"
     ]
    }
   ],
   "source": [
    "%%time\n",
    "\n",
    "mean_delay_res, std_delay_res = dask.compute(mean_delay, std_delay)"
   ]
  },
  {
   "cell_type": "markdown",
   "metadata": {},
   "source": [
    "Using `dask.compute` takes roughly 1/2 the time. This is because the task graphs for both results are merged when calling `dask.compute`, allowing shared operations to only be done once instead of twice. In particular, using `dask.compute` only does the following once:\n",
    "\n",
    "- the calls to `read_csv`\n",
    "- the filter (`df[~df.Cancelled]`)\n",
    "- some of the necessary reductions (`sum`, `count`)"
   ]
  },
  {
   "cell_type": "markdown",
   "metadata": {},
   "source": [
    "To see what the merged task graphs between multiple results look like (and what's shared), you can use the `dask.visualize` function (you might want to use `filename='graph.pdf'` to save the graph to disk so that you can zoom in more easily):"
   ]
  },
  {
   "cell_type": "code",
   "execution_count": 27,
   "metadata": {
    "execution": {
     "iopub.execute_input": "2023-02-09T17:23:41.315520Z",
     "iopub.status.busy": "2023-02-09T17:23:41.313901Z",
     "iopub.status.idle": "2023-02-09T17:23:42.135864Z",
     "shell.execute_reply": "2023-02-09T17:23:42.135070Z"
    }
   },
   "outputs": [
    {
     "data": {
      "application/vnd.jupyter.widget-view+json": {
       "model_id": "6f70812f6d144f67bb6bb59f4246b09f",
       "version_major": 2,
       "version_minor": 0
      },
      "text/plain": [
       "CytoscapeWidget(cytoscape_layout={'name': 'dagre', 'rankDir': 'BT', 'nodeSep': 10, 'edgeSep': 10, 'spacingFact…"
      ]
     },
     "execution_count": 27,
     "metadata": {},
     "output_type": "execute_result"
    }
   ],
   "source": [
    "dask.visualize(mean_delay, std_delay, engine=\"cytoscape\")"
   ]
  },
  {
   "cell_type": "markdown",
   "metadata": {
    "tags": []
   },
   "source": [
    "### `.persist()`\n",
    "\n",
    "While using a distributed scheduler (you will learn more about schedulers in the upcoming notebooks), you can keep some _data that you want to use often_ in the _distributed memory_. \n",
    "\n",
    "`persist` generates \"Futures\" (more on this later as well) and stores them in the same structure as your output. You can use `persist` with any data or computation that fits in memory."
   ]
  },
  {
   "cell_type": "markdown",
   "metadata": {},
   "source": [
    "If you want to analyze data only for non-canceled flights departing from JFK airport, you can either have two compute calls like in the previous section:"
   ]
  },
  {
   "cell_type": "code",
   "execution_count": 28,
   "metadata": {
    "execution": {
     "iopub.execute_input": "2023-02-09T17:23:42.139860Z",
     "iopub.status.busy": "2023-02-09T17:23:42.139171Z",
     "iopub.status.idle": "2023-02-09T17:23:42.145737Z",
     "shell.execute_reply": "2023-02-09T17:23:42.145129Z"
    }
   },
   "outputs": [],
   "source": [
    "non_cancelled = ddf[~ddf.Cancelled]\n",
    "ddf_jfk = non_cancelled[non_cancelled.Origin == \"JFK\"]"
   ]
  },
  {
   "cell_type": "code",
   "execution_count": 29,
   "metadata": {
    "execution": {
     "iopub.execute_input": "2023-02-09T17:23:42.149777Z",
     "iopub.status.busy": "2023-02-09T17:23:42.149210Z",
     "iopub.status.idle": "2023-02-09T17:23:42.427623Z",
     "shell.execute_reply": "2023-02-09T17:23:42.426893Z"
    }
   },
   "outputs": [
    {
     "name": "stdout",
     "output_type": "stream",
     "text": [
      "CPU times: user 77.2 ms, sys: 15.1 ms, total: 92.3 ms\n",
      "Wall time: 270 ms\n"
     ]
    },
    {
     "data": {
      "text/plain": [
       "18503.0"
      ]
     },
     "execution_count": 29,
     "metadata": {},
     "output_type": "execute_result"
    }
   ],
   "source": [
    "%%time\n",
    "ddf_jfk.DepDelay.mean().compute()\n",
    "ddf_jfk.DepDelay.sum().compute()"
   ]
  },
  {
   "cell_type": "markdown",
   "metadata": {},
   "source": [
    "Or, consider persisting that subset of data in memory.\n",
    "\n",
    "See the \"Graph\" dashboard plot, the red squares indicate persisted data stored as Futures in memory. You will also notice an increase in Worker Memory (another dashboard plot) consumption."
   ]
  },
  {
   "cell_type": "code",
   "execution_count": 30,
   "metadata": {
    "execution": {
     "iopub.execute_input": "2023-02-09T17:23:42.431305Z",
     "iopub.status.busy": "2023-02-09T17:23:42.430549Z",
     "iopub.status.idle": "2023-02-09T17:23:42.466441Z",
     "shell.execute_reply": "2023-02-09T17:23:42.465581Z"
    }
   },
   "outputs": [],
   "source": [
    "ddf_jfk = ddf_jfk.persist()  # returns back control immediately"
   ]
  },
  {
   "cell_type": "code",
   "execution_count": 31,
   "metadata": {
    "execution": {
     "iopub.execute_input": "2023-02-09T17:23:42.470067Z",
     "iopub.status.busy": "2023-02-09T17:23:42.469388Z",
     "iopub.status.idle": "2023-02-09T17:23:42.700931Z",
     "shell.execute_reply": "2023-02-09T17:23:42.700034Z"
    }
   },
   "outputs": [
    {
     "name": "stdout",
     "output_type": "stream",
     "text": [
      "CPU times: user 96.2 ms, sys: 1.13 ms, total: 97.3 ms\n",
      "Wall time: 222 ms\n"
     ]
    },
    {
     "data": {
      "text/plain": [
       "36.85799641792652"
      ]
     },
     "execution_count": 31,
     "metadata": {},
     "output_type": "execute_result"
    }
   ],
   "source": [
    "%%time\n",
    "ddf_jfk.DepDelay.mean().compute()\n",
    "ddf_jfk.DepDelay.std().compute()"
   ]
  },
  {
   "cell_type": "markdown",
   "metadata": {},
   "source": [
    "Analyses on this persisted data is faster because we are not repeating the loading and selecting (non-canceled, JFK departure) operations."
   ]
  },
  {
   "cell_type": "markdown",
   "metadata": {},
   "source": [
    "## Custom code with Dask DataFrame\n",
    "\n",
    "`dask.dataframe` only covers a small but well-used portion of the pandas API.\n",
    "\n",
    "This limitation is for two reasons:\n",
    "\n",
    "1.  The Pandas API is *huge*\n",
    "2.  Some operations are genuinely hard to do in parallel, e.g, sorting.\n",
    "\n",
    "Additionally, some important operations like `set_index` work, but are slower than in pandas because they include substantial shuffling of data, and may write out to disk.\n",
    "\n",
    "**What if you want to use some custom functions that aren't (or can't be) implemented for Dask DataFrame yet?**\n",
    "\n",
    "You can open an issue on the [Dask issue tracker](https://github.com/dask/dask/issues) to check how feasible the function could be to implement, and you can consider contributing this function to Dask.\n",
    "\n",
    "In case it's a custom function or tricky to implement, `dask.dataframe` provides a few methods to make applying custom functions to Dask DataFrames easier:\n",
    "\n",
    "- [`map_partitions`](https://docs.dask.org/en/latest/generated/dask.dataframe.DataFrame.map_partitions.html): to run a function on each partition (each pandas DataFrame) of the Dask DataFrame\n",
    "- [`map_overlap`](https://docs.dask.org/en/latest/generated/dask.dataframe.rolling.map_overlap.html): to run a function on each partition (each pandas DataFrame) of the Dask DataFrame, with some rows shared between neighboring partitions\n",
    "- [`reduction`](https://docs.dask.org/en/latest/generated/dask.dataframe.Series.reduction.html): for custom row-wise reduction operations."
   ]
  },
  {
   "cell_type": "markdown",
   "metadata": {},
   "source": [
    "Let's take a quick look at the `map_partitions()` function:"
   ]
  },
  {
   "cell_type": "code",
   "execution_count": 32,
   "metadata": {
    "execution": {
     "iopub.execute_input": "2023-02-09T17:23:42.704054Z",
     "iopub.status.busy": "2023-02-09T17:23:42.703792Z",
     "iopub.status.idle": "2023-02-09T17:23:42.709709Z",
     "shell.execute_reply": "2023-02-09T17:23:42.709003Z"
    },
    "tags": []
   },
   "outputs": [
    {
     "name": "stdout",
     "output_type": "stream",
     "text": [
      "Help on method map_partitions in module dask.dataframe.core:\n",
      "\n",
      "map_partitions(func, *args, **kwargs) method of dask.dataframe.core.DataFrame instance\n",
      "    Apply Python function on each DataFrame partition.\n",
      "    \n",
      "    Note that the index and divisions are assumed to remain unchanged.\n",
      "    \n",
      "    Parameters\n",
      "    ----------\n",
      "    func : function\n",
      "        The function applied to each partition. If this function accepts\n",
      "        the special ``partition_info`` keyword argument, it will receive\n",
      "        information on the partition's relative location within the\n",
      "        dataframe.\n",
      "    args, kwargs :\n",
      "        Positional and keyword arguments to pass to the function.\n",
      "        Positional arguments are computed on a per-partition basis, while\n",
      "        keyword arguments are shared across all partitions. The partition\n",
      "        itself will be the first positional argument, with all other\n",
      "        arguments passed *after*. Arguments can be ``Scalar``, ``Delayed``,\n",
      "        or regular Python objects. DataFrame-like args (both dask and\n",
      "        pandas) will be repartitioned to align (if necessary) before\n",
      "        applying the function; see ``align_dataframes`` to control this\n",
      "        behavior.\n",
      "    enforce_metadata : bool, default True\n",
      "        Whether to enforce at runtime that the structure of the DataFrame\n",
      "        produced by ``func`` actually matches the structure of ``meta``.\n",
      "        This will rename and reorder columns for each partition,\n",
      "        and will raise an error if this doesn't work,\n",
      "        but it won't raise if dtypes don't match.\n",
      "    transform_divisions : bool, default True\n",
      "        Whether to apply the function onto the divisions and apply those\n",
      "        transformed divisions to the output.\n",
      "    align_dataframes : bool, default True\n",
      "        Whether to repartition DataFrame- or Series-like args\n",
      "        (both dask and pandas) so their divisions align before applying\n",
      "        the function. This requires all inputs to have known divisions.\n",
      "        Single-partition inputs will be split into multiple partitions.\n",
      "    \n",
      "        If False, all inputs must have either the same number of partitions\n",
      "        or a single partition. Single-partition inputs will be broadcast to\n",
      "        every partition of multi-partition inputs.\n",
      "    meta : pd.DataFrame, pd.Series, dict, iterable, tuple, optional\n",
      "        An empty ``pd.DataFrame`` or ``pd.Series`` that matches the dtypes\n",
      "        and column names of the output. This metadata is necessary for\n",
      "        many algorithms in dask dataframe to work.  For ease of use, some\n",
      "        alternative inputs are also available. Instead of a ``DataFrame``,\n",
      "        a ``dict`` of ``{name: dtype}`` or iterable of ``(name, dtype)``\n",
      "        can be provided (note that the order of the names should match the\n",
      "        order of the columns). Instead of a series, a tuple of ``(name,\n",
      "        dtype)`` can be used. If not provided, dask will try to infer the\n",
      "        metadata. This may lead to unexpected results, so providing\n",
      "        ``meta`` is recommended. For more information, see\n",
      "        ``dask.dataframe.utils.make_meta``.\n",
      "    \n",
      "    Examples\n",
      "    --------\n",
      "    Given a DataFrame, Series, or Index, such as:\n",
      "    \n",
      "    >>> import pandas as pd\n",
      "    >>> import dask.dataframe as dd\n",
      "    >>> df = pd.DataFrame({'x': [1, 2, 3, 4, 5],\n",
      "    ...                    'y': [1., 2., 3., 4., 5.]})\n",
      "    >>> ddf = dd.from_pandas(df, npartitions=2)\n",
      "    \n",
      "    One can use ``map_partitions`` to apply a function on each partition.\n",
      "    Extra arguments and keywords can optionally be provided, and will be\n",
      "    passed to the function after the partition.\n",
      "    \n",
      "    Here we apply a function with arguments and keywords to a DataFrame,\n",
      "    resulting in a Series:\n",
      "    \n",
      "    >>> def myadd(df, a, b=1):\n",
      "    ...     return df.x + df.y + a + b\n",
      "    >>> res = ddf.map_partitions(myadd, 1, b=2)\n",
      "    >>> res.dtype\n",
      "    dtype('float64')\n",
      "    \n",
      "    Here we apply a function to a Series resulting in a Series:\n",
      "    \n",
      "    >>> res = ddf.x.map_partitions(lambda x: len(x)) # ddf.x is a Dask Series Structure\n",
      "    >>> res.dtype\n",
      "    dtype('int64')\n",
      "    \n",
      "    By default, dask tries to infer the output metadata by running your\n",
      "    provided function on some fake data. This works well in many cases, but\n",
      "    can sometimes be expensive, or even fail. To avoid this, you can\n",
      "    manually specify the output metadata with the ``meta`` keyword. This\n",
      "    can be specified in many forms, for more information see\n",
      "    ``dask.dataframe.utils.make_meta``.\n",
      "    \n",
      "    Here we specify the output is a Series with no name, and dtype\n",
      "    ``float64``:\n",
      "    \n",
      "    >>> res = ddf.map_partitions(myadd, 1, b=2, meta=(None, 'f8'))\n",
      "    \n",
      "    Here we map a function that takes in a DataFrame, and returns a\n",
      "    DataFrame with a new column:\n",
      "    \n",
      "    >>> res = ddf.map_partitions(lambda df: df.assign(z=df.x * df.y))\n",
      "    >>> res.dtypes\n",
      "    x      int64\n",
      "    y    float64\n",
      "    z    float64\n",
      "    dtype: object\n",
      "    \n",
      "    As before, the output metadata can also be specified manually. This\n",
      "    time we pass in a ``dict``, as the output is a DataFrame:\n",
      "    \n",
      "    >>> res = ddf.map_partitions(lambda df: df.assign(z=df.x * df.y),\n",
      "    ...                          meta={'x': 'i8', 'y': 'f8', 'z': 'f8'})\n",
      "    \n",
      "    In the case where the metadata doesn't change, you can also pass in\n",
      "    the object itself directly:\n",
      "    \n",
      "    >>> res = ddf.map_partitions(lambda df: df.head(), meta=ddf)\n",
      "    \n",
      "    Also note that the index and divisions are assumed to remain unchanged.\n",
      "    If the function you're mapping changes the index/divisions, you'll need\n",
      "    to clear them afterwards:\n",
      "    \n",
      "    >>> ddf.map_partitions(func).clear_divisions()  # doctest: +SKIP\n",
      "    \n",
      "    Your map function gets information about where it is in the dataframe by\n",
      "    accepting a special ``partition_info`` keyword argument.\n",
      "    \n",
      "    >>> def func(partition, partition_info=None):\n",
      "    ...     pass\n",
      "    \n",
      "    This will receive the following information:\n",
      "    \n",
      "    >>> partition_info  # doctest: +SKIP\n",
      "    {'number': 1, 'division': 3}\n",
      "    \n",
      "    For each argument and keyword arguments that are dask dataframes you will\n",
      "    receive the number (n) which represents the nth partition of the dataframe\n",
      "    and the division (the first index value in the partition). If divisions\n",
      "    are not known (for instance if the index is not sorted) then you will get\n",
      "    None as the division.\n",
      "\n"
     ]
    }
   ],
   "source": [
    "help(ddf.map_partitions)"
   ]
  },
  {
   "cell_type": "markdown",
   "metadata": {},
   "source": [
    "The \"Distance\" column in `ddf` is currently in miles. Let's say we want to convert the units to kilometers and we have a general helper function as shown below. In this case, we can use `map_partitions` to apply this function across each of the internal pandas `DataFrame`s in parallel. "
   ]
  },
  {
   "cell_type": "code",
   "execution_count": 33,
   "metadata": {
    "execution": {
     "iopub.execute_input": "2023-02-09T17:23:42.712877Z",
     "iopub.status.busy": "2023-02-09T17:23:42.712450Z",
     "iopub.status.idle": "2023-02-09T17:23:42.719617Z",
     "shell.execute_reply": "2023-02-09T17:23:42.718832Z"
    }
   },
   "outputs": [],
   "source": [
    "def my_custom_converter(df, multiplier=1):\n",
    "    return df * multiplier\n",
    "\n",
    "\n",
    "meta = pd.Series(name=\"Distance\", dtype=\"float64\")\n",
    "\n",
    "distance_km = ddf.Distance.map_partitions(\n",
    "    my_custom_converter, multiplier=0.6, meta=meta\n",
    ")"
   ]
  },
  {
   "cell_type": "code",
   "execution_count": 34,
   "metadata": {
    "execution": {
     "iopub.execute_input": "2023-02-09T17:23:42.722494Z",
     "iopub.status.busy": "2023-02-09T17:23:42.722249Z",
     "iopub.status.idle": "2023-02-09T17:23:42.929414Z",
     "shell.execute_reply": "2023-02-09T17:23:42.928527Z"
    }
   },
   "outputs": [
    {
     "data": {
      "image/png": "[encoded data removed]",
      "text/plain": [
       "<IPython.core.display.Image object>"
      ]
     },
     "execution_count": 34,
     "metadata": {},
     "output_type": "execute_result"
    }
   ],
   "source": [
    "distance_km.visualize()"
   ]
  },
  {
   "cell_type": "code",
   "execution_count": 35,
   "metadata": {
    "execution": {
     "iopub.execute_input": "2023-02-09T17:23:42.933183Z",
     "iopub.status.busy": "2023-02-09T17:23:42.932503Z",
     "iopub.status.idle": "2023-02-09T17:23:42.978290Z",
     "shell.execute_reply": "2023-02-09T17:23:42.976660Z"
    }
   },
   "outputs": [
    {
     "data": {
      "text/plain": [
       "0    191.4\n",
       "1    191.4\n",
       "2    191.4\n",
       "3    191.4\n",
       "4    191.4\n",
       "Name: Distance, dtype: float64"
      ]
     },
     "execution_count": 35,
     "metadata": {},
     "output_type": "execute_result"
    }
   ],
   "source": [
    "distance_km.head()"
   ]
  },
  {
   "cell_type": "markdown",
   "metadata": {},
   "source": [
    "### What is `meta`?\n",
    "\n",
    "Since Dask operates lazily, it doesn't always have enough information to infer the output structure (which includes datatypes) of certain operations.\n",
    "\n",
    "`meta` is a _suggestion_ to Dask about the output of your computation. Importantly, `meta` _never infers with the output structure_. Dask uses this `meta` until it can determine the actual output structure.\n",
    "\n",
    "Even though there are many ways to define `meta`, we suggest using a small pandas Series or DataFrame that matches the structure of your final output."
   ]
  },
  {
   "cell_type": "markdown",
   "metadata": {
    "tags": []
   },
   "source": [
    "## Close you local Dask Cluster"
   ]
  },
  {
   "cell_type": "markdown",
   "metadata": {},
   "source": [
    "It's good practice to always close any Dask cluster you create:"
   ]
  },
  {
   "cell_type": "code",
   "execution_count": 36,
   "metadata": {
    "execution": {
     "iopub.execute_input": "2023-02-09T17:23:42.982800Z",
     "iopub.status.busy": "2023-02-09T17:23:42.982218Z",
     "iopub.status.idle": "2023-02-09T17:23:43.540545Z",
     "shell.execute_reply": "2023-02-09T17:23:43.539838Z"
    }
   },
   "outputs": [],
   "source": [
    "client.shutdown()"
   ]
  }
 ],
 "metadata": {
  "anaconda-cloud": {},
  "kernelspec": {
   "display_name": "Python 3 (ipykernel)",
   "language": "python",
   "name": "python3"
  },
  "language_info": {
   "codemirror_mode": {
    "name": "ipython",
    "version": 3
   },
   "file_extension": ".py",
   "mimetype": "text/x-python",
   "name": "python",
   "nbconvert_exporter": "python",
   "pygments_lexer": "ipython3",
   "version": "3.10.9"
  },
  "widgets": {
   "application/vnd.jupyter.widget-state+json": {
    "state": {
     "0044d6e4d201438da803708622bd3fba": {
      "model_module": "jupyter-cytoscape",
      "model_module_version": "^1.3.3",
      "model_name": "EdgeModel",
      "state": {
       "_model_module": "jupyter-cytoscape",
       "_model_module_version": "^1.3.3",
       "_model_name": "EdgeModel",
       "_view_count": null,
       "_view_module": "jupyter-cytoscape",
       "_view_module_version": "^1.3.3",
       "_view_name": "EdgeView",
       "classes": " directed ",
       "data": {
        "source": "9137326455314178785",
        "target": "-7825143019702143457"
       },
       "pannable": true,
       "removed": false,
       "selectable": false,
       "selected": false
      }
     },
     "00e45535bac24c0ba9ef7b36ca05e37e": {
      "model_module": "jupyter-cytoscape",
      "model_module_version": "^1.3.3",
      "model_name": "NodeModel",
      "state": {
       "_model_module": "jupyter-cytoscape",
       "_model_module_version": "^1.3.3",
       "_model_name": "NodeModel",
       "_view_count": null,
       "_view_module": "jupyter-cytoscape",
       "_view_module_version": "^1.3.3",
       "_view_name": "NodeView",
       "classes": "",
       "data": {
        "color": "gray",
        "id": "2002484257718393725",
        "label": "5",
        "shape": "rectangle"
       },
       "grabbable": true,
       "grabbed": false,
       "locked": false,
       "pannable": false,
       "position": {},
       "removed": false,
       "selectable": false,
       "selected": false
      }
     },
     "012515b3b78d4f9d8aeb831824a6177b": {
      "model_module": "jupyter-cytoscape",
      "model_module_version": "^1.3.3",
      "model_name": "EdgeModel",
      "state": {
       "_model_module": "jupyter-cytoscape",
       "_model_module_version": "^1.3.3",
       "_model_name": "EdgeModel",
       "_view_count": null,
       "_view_module": "jupyter-cytoscape",
       "_view_module_version": "^1.3.3",
       "_view_name": "EdgeView",
       "classes": " directed ",
       "data": {
        "source": "-86761478958341776",
        "target": "-5426521304922855690"
       },
       "pannable": true,
       "removed": false,
       "selectable": false,
       "selected": false
      }
     },
     "021ba0fd02eb4ad3bccf009bc77d1329": {
      "model_module": "jupyter-cytoscape",
      "model_module_version": "^1.3.3",
      "model_name": "EdgeModel",
      "state": {
       "_model_module": "jupyter-cytoscape",
       "_model_module_version": "^1.3.3",
       "_model_name": "EdgeModel",
       "_view_count": null,
       "_view_module": "jupyter-cytoscape",
       "_view_module_version": "^1.3.3",
       "_view_name": "EdgeView",
       "classes": " directed ",
       "data": {
        "source": "-3811954577793553631",
        "target": "2054509409036201635"
       },
       "pannable": true,
       "removed": false,
       "selectable": false,
       "selected": false
      }
     },
     "03994e26c5bc4a9882b5dc69d3238308": {
      "model_module": "jupyter-cytoscape",
      "model_module_version": "^1.3.3",
      "model_name": "EdgeModel",
      "state": {
       "_model_module": "jupyter-cytoscape",
       "_model_module_version": "^1.3.3",
       "_model_name": "EdgeModel",
       "_view_count": null,
       "_view_module": "jupyter-cytoscape",
       "_view_module_version": "^1.3.3",
       "_view_name": "EdgeView",
       "classes": " directed ",
       "data": {
        "source": "5678987528542613587",
        "target": "-2391829575837266754"
       },
       "pannable": true,
       "removed": false,
       "selectable": false,
       "selected": false
      }
     },
     "03ca58997cc54980b2248929c851a161": {
      "model_module": "jupyter-cytoscape",
      "model_module_version": "^1.3.3",
      "model_name": "NodeModel",
      "state": {
       "_model_module": "jupyter-cytoscape",
       "_model_module_version": "^1.3.3",
       "_model_name": "NodeModel",
       "_view_count": null,
       "_view_module": "jupyter-cytoscape",
       "_view_module_version": "^1.3.3",
       "_view_name": "NodeView",
       "classes": "",
       "data": {
        "color": "gray",
        "id": "6512582012684697501",
        "label": "6",
        "shape": "rectangle"
       },
       "grabbable": true,
       "grabbed": false,
       "locked": false,
       "pannable": false,
       "position": {},
       "removed": false,
       "selectable": false,
       "selected": false
      }
     },
     "05d141b3e9fe4aa08e3e08f53c6d9620": {
      "model_module": "jupyter-cytoscape",
      "model_module_version": "^1.3.3",
      "model_name": "NodeModel",
      "state": {
       "_model_module": "jupyter-cytoscape",
       "_model_module_version": "^1.3.3",
       "_model_name": "NodeModel",
       "_view_count": null,
       "_view_module": "jupyter-cytoscape",
       "_view_module_version": "^1.3.3",
       "_view_name": "NodeView",
       "classes": "",
       "data": {
        "color": "gray",
        "id": "-8433422143760217297",
        "label": "getitem",
        "shape": "ellipse"
       },
       "grabbable": true,
       "grabbed": false,
       "locked": false,
       "pannable": false,
       "position": {},
       "removed": false,
       "selectable": false,
       "selected": false
      }
     },
     "067ca452566f46ff9d19c9cf55cc2730": {
      "model_module": "jupyter-cytoscape",
      "model_module_version": "^1.3.3",
      "model_name": "NodeModel",
      "state": {
       "_model_module": "jupyter-cytoscape",
       "_model_module_version": "^1.3.3",
       "_model_name": "NodeModel",
       "_view_count": null,
       "_view_module": "jupyter-cytoscape",
       "_view_module_version": "^1.3.3",
       "_view_name": "NodeView",
       "classes": "",
       "data": {
        "color": "gray",
        "id": "-565427266404841403",
        "label": "read-csv",
        "shape": "ellipse"
       },
       "grabbable": true,
       "grabbed": false,
       "locked": false,
       "pannable": false,
       "position": {},
       "removed": false,
       "selectable": false,
       "selected": false
      }
     },
     "06fbd176441549baafb472cb789549d7": {
      "model_module": "jupyter-cytoscape",
      "model_module_version": "^1.3.3",
      "model_name": "NodeModel",
      "state": {
       "_model_module": "jupyter-cytoscape",
       "_model_module_version": "^1.3.3",
       "_model_name": "NodeModel",
       "_view_count": null,
       "_view_module": "jupyter-cytoscape",
       "_view_module_version": "^1.3.3",
       "_view_name": "NodeView",
       "classes": "",
       "data": {
        "color": "gray",
        "id": "785913499569917221",
        "label": "8",
        "shape": "rectangle"
       },
       "grabbable": true,
       "grabbed": false,
       "locked": false,
       "pannable": false,
       "position": {},
       "removed": false,
       "selectable": false,
       "selected": false
      }
     },
     "07c8cbe9e28242cdbb4f16a028072da9": {
      "model_module": "jupyter-cytoscape",
      "model_module_version": "^1.3.3",
      "model_name": "NodeModel",
      "state": {
       "_model_module": "jupyter-cytoscape",
       "_model_module_version": "^1.3.3",
       "_model_name": "NodeModel",
       "_view_count": null,
       "_view_module": "jupyter-cytoscape",
       "_view_module_version": "^1.3.3",
       "_view_name": "NodeView",
       "classes": "",
       "data": {
        "color": "gray",
        "id": "7810156434728006639",
        "label": "series-sum-chunk",
        "shape": "ellipse"
       },
       "grabbable": true,
       "grabbed": false,
       "locked": false,
       "pannable": false,
       "position": {},
       "removed": false,
       "selectable": false,
       "selected": false
      }
     },
     "08162334a3ee40da9bb905a65ca6ae6e": {
      "model_module": "jupyter-cytoscape",
      "model_module_version": "^1.3.3",
      "model_name": "EdgeModel",
      "state": {
       "_model_module": "jupyter-cytoscape",
       "_model_module_version": "^1.3.3",
       "_model_name": "EdgeModel",
       "_view_count": null,
       "_view_module": "jupyter-cytoscape",
       "_view_module_version": "^1.3.3",
       "_view_name": "EdgeView",
       "classes": " directed ",
       "data": {
        "source": "-6154383170744313460",
        "target": "-4494552228035901720"
       },
       "pannable": true,
       "removed": false,
       "selectable": false,
       "selected": false
      }
     },
     "0899fd8145314856a37beff13de567ff": {
      "model_module": "jupyter-cytoscape",
      "model_module_version": "^1.3.3",
      "model_name": "NodeModel",
      "state": {
       "_model_module": "jupyter-cytoscape",
       "_model_module_version": "^1.3.3",
       "_model_name": "NodeModel",
       "_view_count": null,
       "_view_module": "jupyter-cytoscape",
       "_view_module_version": "^1.3.3",
       "_view_name": "NodeView",
       "classes": "",
       "data": {
        "color": "gray",
        "id": "-2821771266337075426",
        "label": "6",
        "shape": "rectangle"
       },
       "grabbable": true,
       "grabbed": false,
       "locked": false,
       "pannable": false,
       "position": {},
       "removed": false,
       "selectable": false,
       "selected": false
      }
     },
     "093cf0a6b9064512b8cd528598ab0658": {
      "model_module": "jupyter-cytoscape",
      "model_module_version": "^1.3.3",
      "model_name": "NodeModel",
      "state": {
       "_model_module": "jupyter-cytoscape",
       "_model_module_version": "^1.3.3",
       "_model_name": "NodeModel",
       "_view_count": null,
       "_view_module": "jupyter-cytoscape",
       "_view_module_version": "^1.3.3",
       "_view_name": "NodeView",
       "classes": "",
       "data": {
        "color": "gray",
        "id": "2629685699212180360",
        "label": "0",
        "shape": "rectangle"
       },
       "grabbable": true,
       "grabbed": false,
       "locked": false,
       "pannable": false,
       "position": {},
       "removed": false,
       "selectable": false,
       "selected": false
      }
     },
     "09f606793bd445b4bfe7d7d55af22e9d": {
      "model_module": "jupyter-cytoscape",
      "model_module_version": "^1.3.3",
      "model_name": "EdgeModel",
      "state": {
       "_model_module": "jupyter-cytoscape",
       "_model_module_version": "^1.3.3",
       "_model_name": "EdgeModel",
       "_view_count": null,
       "_view_module": "jupyter-cytoscape",
       "_view_module_version": "^1.3.3",
       "_view_name": "EdgeView",
       "classes": " directed ",
       "data": {
        "source": "-8511482895934652330",
        "target": "5598287532537155435"
       },
       "pannable": true,
       "removed": false,
       "selectable": false,
       "selected": false
      }
     },
     "0a292e3072e041339c1454a9f605bd36": {
      "model_module": "jupyter-cytoscape",
      "model_module_version": "^1.3.3",
      "model_name": "EdgeModel",
      "state": {
       "_model_module": "jupyter-cytoscape",
       "_model_module_version": "^1.3.3",
       "_model_name": "EdgeModel",
       "_view_count": null,
       "_view_module": "jupyter-cytoscape",
       "_view_module_version": "^1.3.3",
       "_view_name": "EdgeView",
       "classes": " directed ",
       "data": {
        "source": "2487933770581262959",
        "target": "-1158508209911528911"
       },
       "pannable": true,
       "removed": false,
       "selectable": false,
       "selected": false
      }
     },
     "0a53b88db4f049cda1d6ded390672c51": {
      "model_module": "jupyter-cytoscape",
      "model_module_version": "^1.3.3",
      "model_name": "EdgeModel",
      "state": {
       "_model_module": "jupyter-cytoscape",
       "_model_module_version": "^1.3.3",
       "_model_name": "EdgeModel",
       "_view_count": null,
       "_view_module": "jupyter-cytoscape",
       "_view_module_version": "^1.3.3",
       "_view_name": "EdgeView",
       "classes": " directed ",
       "data": {
        "source": "4085247683239269979",
        "target": "-6545621366584007782"
       },
       "pannable": true,
       "removed": false,
       "selectable": false,
       "selected": false
      }
     },
     "0b51841ef7654c639c9e9c68c592add5": {
      "model_module": "jupyter-cytoscape",
      "model_module_version": "^1.3.3",
      "model_name": "EdgeModel",
      "state": {
       "_model_module": "jupyter-cytoscape",
       "_model_module_version": "^1.3.3",
       "_model_name": "EdgeModel",
       "_view_count": null,
       "_view_module": "jupyter-cytoscape",
       "_view_module_version": "^1.3.3",
       "_view_name": "EdgeView",
       "classes": " directed ",
       "data": {
        "source": "2717369954156600471",
        "target": "-4257297376197091680"
       },
       "pannable": true,
       "removed": false,
       "selectable": false,
       "selected": false
      }
     },
     "0bb8b188ac484eacaa8092ce211caa28": {
      "model_module": "jupyter-cytoscape",
      "model_module_version": "^1.3.3",
      "model_name": "EdgeModel",
      "state": {
       "_model_module": "jupyter-cytoscape",
       "_model_module_version": "^1.3.3",
       "_model_name": "EdgeModel",
       "_view_count": null,
       "_view_module": "jupyter-cytoscape",
       "_view_module_version": "^1.3.3",
       "_view_name": "EdgeView",
       "classes": " directed ",
       "data": {
        "source": "1754204838462551909",
        "target": "-2642730649067789621"
       },
       "pannable": true,
       "removed": false,
       "selectable": false,
       "selected": false
      }
     },
     "0d7e4c4fec6744ffb770903b68c1582b": {
      "model_module": "jupyter-cytoscape",
      "model_module_version": "^1.3.3",
      "model_name": "NodeModel",
      "state": {
       "_model_module": "jupyter-cytoscape",
       "_model_module_version": "^1.3.3",
       "_model_name": "NodeModel",
       "_view_count": null,
       "_view_module": "jupyter-cytoscape",
       "_view_module_version": "^1.3.3",
       "_view_name": "NodeView",
       "classes": "",
       "data": {
        "color": "gray",
        "id": "8127148739813999560",
        "label": "8",
        "shape": "rectangle"
       },
       "grabbable": true,
       "grabbed": false,
       "locked": false,
       "pannable": false,
       "position": {},
       "removed": false,
       "selectable": false,
       "selected": false
      }
     },
     "0f6d841d78f34ddbbc36247895873edb": {
      "model_module": "jupyter-cytoscape",
      "model_module_version": "^1.3.3",
      "model_name": "GraphModel",
      "state": {
       "_adj": {},
       "_model_module": "jupyter-cytoscape",
       "_model_module_version": "^1.3.3",
       "_model_name": "GraphModel",
       "_view_count": null,
       "_view_module": "jupyter-cytoscape",
       "_view_module_version": "^1.3.3",
       "_view_name": null,
       "edges": [],
       "nodes": []
      }
     },
     "0f71b2464bc44178a3e1b5456c38068d": {
      "model_module": "jupyter-cytoscape",
      "model_module_version": "^1.3.3",
      "model_name": "EdgeModel",
      "state": {
       "_model_module": "jupyter-cytoscape",
       "_model_module_version": "^1.3.3",
       "_model_name": "EdgeModel",
       "_view_count": null,
       "_view_module": "jupyter-cytoscape",
       "_view_module_version": "^1.3.3",
       "_view_name": "EdgeView",
       "classes": " directed ",
       "data": {
        "source": "7412432421160479257",
        "target": "-5470554817909911220"
       },
       "pannable": true,
       "removed": false,
       "selectable": false,
       "selected": false
      }
     },
     "0fefc850d9684c6f96e2c6997870ce7c": {
      "model_module": "jupyter-cytoscape",
      "model_module_version": "^1.3.3",
      "model_name": "NodeModel",
      "state": {
       "_model_module": "jupyter-cytoscape",
       "_model_module_version": "^1.3.3",
       "_model_name": "NodeModel",
       "_view_count": null,
       "_view_module": "jupyter-cytoscape",
       "_view_module_version": "^1.3.3",
       "_view_name": "NodeView",
       "classes": "",
       "data": {
        "color": "gray",
        "id": "-2685424149539673939",
        "label": "getitem",
        "shape": "ellipse"
       },
       "grabbable": true,
       "grabbed": false,
       "locked": false,
       "pannable": false,
       "position": {},
       "removed": false,
       "selectable": false,
       "selected": false
      }
     },
     "1149b1679c9842ff99c7577f6663b7c6": {
      "model_module": "jupyter-cytoscape",
      "model_module_version": "^1.3.3",
      "model_name": "EdgeModel",
      "state": {
       "_model_module": "jupyter-cytoscape",
       "_model_module_version": "^1.3.3",
       "_model_name": "EdgeModel",
       "_view_count": null,
       "_view_module": "jupyter-cytoscape",
       "_view_module_version": "^1.3.3",
       "_view_name": "EdgeView",
       "classes": " directed ",
       "data": {
        "source": "4152557693480550832",
        "target": "8127148739813999560"
       },
       "pannable": true,
       "removed": false,
       "selectable": false,
       "selected": false
      }
     },
     "1161e02d5a2040cb9aa4443847bf3b06": {
      "model_module": "jupyter-cytoscape",
      "model_module_version": "^1.3.3",
      "model_name": "EdgeModel",
      "state": {
       "_model_module": "jupyter-cytoscape",
       "_model_module_version": "^1.3.3",
       "_model_name": "EdgeModel",
       "_view_count": null,
       "_view_module": "jupyter-cytoscape",
       "_view_module_version": "^1.3.3",
       "_view_name": "EdgeView",
       "classes": " directed ",
       "data": {
        "source": "-8229006598630537056",
        "target": "-2685424149539673939"
       },
       "pannable": true,
       "removed": false,
       "selectable": false,
       "selected": false
      }
     },
     "117f70868858420cbec063b788c4b045": {
      "model_module": "jupyter-cytoscape",
      "model_module_version": "^1.3.3",
      "model_name": "NodeModel",
      "state": {
       "_model_module": "jupyter-cytoscape",
       "_model_module_version": "^1.3.3",
       "_model_name": "NodeModel",
       "_view_count": null,
       "_view_module": "jupyter-cytoscape",
       "_view_module_version": "^1.3.3",
       "_view_name": "NodeView",
       "classes": "",
       "data": {
        "color": "gray",
        "id": "5736938628313029061",
        "label": "5",
        "shape": "rectangle"
       },
       "grabbable": true,
       "grabbed": false,
       "locked": false,
       "pannable": false,
       "position": {},
       "removed": false,
       "selectable": false,
       "selected": false
      }
     },
     "11ac356e2e87450e819a7175f5b1ebd3": {
      "model_module": "jupyter-cytoscape",
      "model_module_version": "^1.3.3",
      "model_name": "NodeModel",
      "state": {
       "_model_module": "jupyter-cytoscape",
       "_model_module_version": "^1.3.3",
       "_model_name": "NodeModel",
       "_view_count": null,
       "_view_module": "jupyter-cytoscape",
       "_view_module_version": "^1.3.3",
       "_view_name": "NodeView",
       "classes": "",
       "data": {
        "color": "gray",
        "id": "-7694850891266070772",
        "label": "3",
        "shape": "rectangle"
       },
       "grabbable": true,
       "grabbed": false,
       "locked": false,
       "pannable": false,
       "position": {},
       "removed": false,
       "selectable": false,
       "selected": false
      }
     },
     "1224f76642084a5293de0ba6b2d4d2b0": {
      "model_module": "jupyter-cytoscape",
      "model_module_version": "^1.3.3",
      "model_name": "EdgeModel",
      "state": {
       "_model_module": "jupyter-cytoscape",
       "_model_module_version": "^1.3.3",
       "_model_name": "EdgeModel",
       "_view_count": null,
       "_view_module": "jupyter-cytoscape",
       "_view_module_version": "^1.3.3",
       "_view_name": "EdgeView",
       "classes": " directed ",
       "data": {
        "source": "-4586346540241213963",
        "target": "-781306398136672344"
       },
       "pannable": true,
       "removed": false,
       "selectable": false,
       "selected": false
      }
     },
     "124c6e44a22d4158b9dae3db51516f93": {
      "model_module": "jupyter-cytoscape",
      "model_module_version": "^1.3.3",
      "model_name": "NodeModel",
      "state": {
       "_model_module": "jupyter-cytoscape",
       "_model_module_version": "^1.3.3",
       "_model_name": "NodeModel",
       "_view_count": null,
       "_view_module": "jupyter-cytoscape",
       "_view_module_version": "^1.3.3",
       "_view_name": "NodeView",
       "classes": "",
       "data": {
        "color": "gray",
        "id": "5528288664769083815",
        "label": "2",
        "shape": "rectangle"
       },
       "grabbable": true,
       "grabbed": false,
       "locked": false,
       "pannable": false,
       "position": {},
       "removed": false,
       "selectable": false,
       "selected": false
      }
     },
     "12ac6865345a426d8779828e0e31fefb": {
      "model_module": "jupyter-cytoscape",
      "model_module_version": "^1.3.3",
      "model_name": "EdgeModel",
      "state": {
       "_model_module": "jupyter-cytoscape",
       "_model_module_version": "^1.3.3",
       "_model_name": "EdgeModel",
       "_view_count": null,
       "_view_module": "jupyter-cytoscape",
       "_view_module_version": "^1.3.3",
       "_view_name": "EdgeView",
       "classes": " directed ",
       "data": {
        "source": "5572522568292831214",
        "target": "-2172934766607634222"
       },
       "pannable": true,
       "removed": false,
       "selectable": false,
       "selected": false
      }
     },
     "134b975c68ab4df9961b639e97fb4ac5": {
      "model_module": "jupyter-cytoscape",
      "model_module_version": "^1.3.3",
      "model_name": "EdgeModel",
      "state": {
       "_model_module": "jupyter-cytoscape",
       "_model_module_version": "^1.3.3",
       "_model_name": "EdgeModel",
       "_view_count": null,
       "_view_module": "jupyter-cytoscape",
       "_view_module_version": "^1.3.3",
       "_view_name": "EdgeView",
       "classes": " directed ",
       "data": {
        "source": "1142692037050967999",
        "target": "-2819058435188451524"
       },
       "pannable": true,
       "removed": false,
       "selectable": false,
       "selected": false
      }
     },
     "13cd3e1a237045fa89d42e9b6205d06d": {
      "model_module": "jupyter-cytoscape",
      "model_module_version": "^1.3.3",
      "model_name": "NodeModel",
      "state": {
       "_model_module": "jupyter-cytoscape",
       "_model_module_version": "^1.3.3",
       "_model_name": "NodeModel",
       "_view_count": null,
       "_view_module": "jupyter-cytoscape",
       "_view_module_version": "^1.3.3",
       "_view_name": "NodeView",
       "classes": "",
       "data": {
        "color": "gray",
        "id": "2074015593784244842",
        "label": "2",
        "shape": "rectangle"
       },
       "grabbable": true,
       "grabbed": false,
       "locked": false,
       "pannable": false,
       "position": {},
       "removed": false,
       "selectable": false,
       "selected": false
      }
     },
     "1410b27f1a3047298e17c9494ea6232a": {
      "model_module": "jupyter-cytoscape",
      "model_module_version": "^1.3.3",
      "model_name": "EdgeModel",
      "state": {
       "_model_module": "jupyter-cytoscape",
       "_model_module_version": "^1.3.3",
       "_model_name": "EdgeModel",
       "_view_count": null,
       "_view_module": "jupyter-cytoscape",
       "_view_module_version": "^1.3.3",
       "_view_name": "EdgeView",
       "classes": " directed ",
       "data": {
        "source": "-5727692240079586261",
        "target": "5598287532537155435"
       },
       "pannable": true,
       "removed": false,
       "selectable": false,
       "selected": false
      }
     },
     "16678485b3784cf68c8b12c2f26324cf": {
      "model_module": "jupyter-cytoscape",
      "model_module_version": "^1.3.3",
      "model_name": "NodeModel",
      "state": {
       "_model_module": "jupyter-cytoscape",
       "_model_module_version": "^1.3.3",
       "_model_name": "NodeModel",
       "_view_count": null,
       "_view_module": "jupyter-cytoscape",
       "_view_module_version": "^1.3.3",
       "_view_name": "NodeView",
       "classes": "",
       "data": {
        "color": "gray",
        "id": "8766037249049135276",
        "label": "6",
        "shape": "rectangle"
       },
       "grabbable": true,
       "grabbed": false,
       "locked": false,
       "pannable": false,
       "position": {},
       "removed": false,
       "selectable": false,
       "selected": false
      }
     },
     "173ea39448ce48249c3ef8bb2814307e": {
      "model_module": "jupyter-cytoscape",
      "model_module_version": "^1.3.3",
      "model_name": "NodeModel",
      "state": {
       "_model_module": "jupyter-cytoscape",
       "_model_module_version": "^1.3.3",
       "_model_name": "NodeModel",
       "_view_count": null,
       "_view_module": "jupyter-cytoscape",
       "_view_module_version": "^1.3.3",
       "_view_name": "NodeView",
       "classes": "",
       "data": {
        "color": "gray",
        "id": "-4112752719650055817",
        "label": "6",
        "shape": "rectangle"
       },
       "grabbable": true,
       "grabbed": false,
       "locked": false,
       "pannable": false,
       "position": {},
       "removed": false,
       "selectable": false,
       "selected": false
      }
     },
     "175418be155a48a3819a00890eb06ad7": {
      "model_module": "jupyter-cytoscape",
      "model_module_version": "^1.3.3",
      "model_name": "EdgeModel",
      "state": {
       "_model_module": "jupyter-cytoscape",
       "_model_module_version": "^1.3.3",
       "_model_name": "EdgeModel",
       "_view_count": null,
       "_view_module": "jupyter-cytoscape",
       "_view_module_version": "^1.3.3",
       "_view_name": "EdgeView",
       "classes": " directed ",
       "data": {
        "source": "-4505156498383604700",
        "target": "2558331743611124951"
       },
       "pannable": true,
       "removed": false,
       "selectable": false,
       "selected": false
      }
     },
     "18f0e4c9d5384008b0496be9839a489d": {
      "model_module": "jupyter-cytoscape",
      "model_module_version": "^1.3.3",
      "model_name": "NodeModel",
      "state": {
       "_model_module": "jupyter-cytoscape",
       "_model_module_version": "^1.3.3",
       "_model_name": "NodeModel",
       "_view_count": null,
       "_view_module": "jupyter-cytoscape",
       "_view_module_version": "^1.3.3",
       "_view_name": "NodeView",
       "classes": "",
       "data": {
        "color": "gray",
        "id": "3042746352614232499",
        "label": "series-sum-chunk",
        "shape": "ellipse"
       },
       "grabbable": true,
       "grabbed": false,
       "locked": false,
       "pannable": false,
       "position": {},
       "removed": false,
       "selectable": false,
       "selected": false
      }
     },
     "19c119b6902d40f0a608dc92c9f063e5": {
      "model_module": "jupyter-cytoscape",
      "model_module_version": "^1.3.3",
      "model_name": "EdgeModel",
      "state": {
       "_model_module": "jupyter-cytoscape",
       "_model_module_version": "^1.3.3",
       "_model_name": "EdgeModel",
       "_view_count": null,
       "_view_module": "jupyter-cytoscape",
       "_view_module_version": "^1.3.3",
       "_view_name": "EdgeView",
       "classes": " directed ",
       "data": {
        "source": "1955137428295681231",
        "target": "-5667983632582110800"
       },
       "pannable": true,
       "removed": false,
       "selectable": false,
       "selected": false
      }
     },
     "19ed76b6d74d43ffb3d22e9f24096e61": {
      "model_module": "jupyter-cytoscape",
      "model_module_version": "^1.3.3",
      "model_name": "EdgeModel",
      "state": {
       "_model_module": "jupyter-cytoscape",
       "_model_module_version": "^1.3.3",
       "_model_name": "EdgeModel",
       "_view_count": null,
       "_view_module": "jupyter-cytoscape",
       "_view_module_version": "^1.3.3",
       "_view_name": "EdgeView",
       "classes": " directed ",
       "data": {
        "source": "2519358392187782891",
        "target": "-6274681723058484262"
       },
       "pannable": true,
       "removed": false,
       "selectable": false,
       "selected": false
      }
     },
     "1a16553daa7a4ecb8bbbbfead700436f": {
      "model_module": "jupyter-cytoscape",
      "model_module_version": "^1.3.3",
      "model_name": "EdgeModel",
      "state": {
       "_model_module": "jupyter-cytoscape",
       "_model_module_version": "^1.3.3",
       "_model_name": "EdgeModel",
       "_view_count": null,
       "_view_module": "jupyter-cytoscape",
       "_view_module_version": "^1.3.3",
       "_view_name": "EdgeView",
       "classes": " directed ",
       "data": {
        "source": "7041274146138007207",
        "target": "2629685699212180360"
       },
       "pannable": true,
       "removed": false,
       "selectable": false,
       "selected": false
      }
     },
     "1aa45685cb7749d08cef716ebf2a2d87": {
      "model_module": "jupyter-cytoscape",
      "model_module_version": "^1.3.3",
      "model_name": "EdgeModel",
      "state": {
       "_model_module": "jupyter-cytoscape",
       "_model_module_version": "^1.3.3",
       "_model_name": "EdgeModel",
       "_view_count": null,
       "_view_module": "jupyter-cytoscape",
       "_view_module_version": "^1.3.3",
       "_view_name": "EdgeView",
       "classes": " directed ",
       "data": {
        "source": "-6119723225512906759",
        "target": "8348816619486636810"
       },
       "pannable": true,
       "removed": false,
       "selectable": false,
       "selected": false
      }
     },
     "1ac76e892955463984616b518e98a2be": {
      "model_module": "jupyter-cytoscape",
      "model_module_version": "^1.3.3",
      "model_name": "NodeModel",
      "state": {
       "_model_module": "jupyter-cytoscape",
       "_model_module_version": "^1.3.3",
       "_model_name": "NodeModel",
       "_view_count": null,
       "_view_module": "jupyter-cytoscape",
       "_view_module_version": "^1.3.3",
       "_view_name": "NodeView",
       "classes": "",
       "data": {
        "color": "gray",
        "id": "-6896543375505121886",
        "label": "8",
        "shape": "rectangle"
       },
       "grabbable": true,
       "grabbed": false,
       "locked": false,
       "pannable": false,
       "position": {},
       "removed": false,
       "selectable": false,
       "selected": false
      }
     },
     "1b318c460df7452e88e2e60939b9e473": {
      "model_module": "jupyter-cytoscape",
      "model_module_version": "^1.3.3",
      "model_name": "NodeModel",
      "state": {
       "_model_module": "jupyter-cytoscape",
       "_model_module_version": "^1.3.3",
       "_model_name": "NodeModel",
       "_view_count": null,
       "_view_module": "jupyter-cytoscape",
       "_view_module_version": "^1.3.3",
       "_view_name": "NodeView",
       "classes": "",
       "data": {
        "color": "gray",
        "id": "2013088528066096705",
        "label": "2",
        "shape": "rectangle"
       },
       "grabbable": true,
       "grabbed": false,
       "locked": false,
       "pannable": false,
       "position": {},
       "removed": false,
       "selectable": false,
       "selected": false
      }
     },
     "1d27d2d318934ebf950c75ffec0f3645": {
      "model_module": "jupyter-cytoscape",
      "model_module_version": "^1.3.3",
      "model_name": "EdgeModel",
      "state": {
       "_model_module": "jupyter-cytoscape",
       "_model_module_version": "^1.3.3",
       "_model_name": "EdgeModel",
       "_view_count": null,
       "_view_module": "jupyter-cytoscape",
       "_view_module_version": "^1.3.3",
       "_view_name": "EdgeView",
       "classes": " directed ",
       "data": {
        "source": "8874587552752043465",
        "target": "6848211457268377597"
       },
       "pannable": true,
       "removed": false,
       "selectable": false,
       "selected": false
      }
     },
     "1dd2d2a3542d446688f0c6b0da00c6f0": {
      "model_module": "jupyter-cytoscape",
      "model_module_version": "^1.3.3",
      "model_name": "EdgeModel",
      "state": {
       "_model_module": "jupyter-cytoscape",
       "_model_module_version": "^1.3.3",
       "_model_name": "EdgeModel",
       "_view_count": null,
       "_view_module": "jupyter-cytoscape",
       "_view_module_version": "^1.3.3",
       "_view_name": "EdgeView",
       "classes": " directed ",
       "data": {
        "source": "6512582012684697501",
        "target": "3856782804520259570"
       },
       "pannable": true,
       "removed": false,
       "selectable": false,
       "selected": false
      }
     },
     "1def7407e96342cc89e0bf52419983e8": {
      "model_module": "jupyter-cytoscape",
      "model_module_version": "^1.3.3",
      "model_name": "EdgeModel",
      "state": {
       "_model_module": "jupyter-cytoscape",
       "_model_module_version": "^1.3.3",
       "_model_name": "EdgeModel",
       "_view_count": null,
       "_view_module": "jupyter-cytoscape",
       "_view_module_version": "^1.3.3",
       "_view_name": "EdgeView",
       "classes": " directed ",
       "data": {
        "source": "5572522568292831214",
        "target": "-808882047645422660"
       },
       "pannable": true,
       "removed": false,
       "selectable": false,
       "selected": false
      }
     },
     "1e0bac43d94441b9871d320c0a57f005": {
      "model_module": "jupyter-cytoscape",
      "model_module_version": "^1.3.3",
      "model_name": "EdgeModel",
      "state": {
       "_model_module": "jupyter-cytoscape",
       "_model_module_version": "^1.3.3",
       "_model_name": "EdgeModel",
       "_view_count": null,
       "_view_module": "jupyter-cytoscape",
       "_view_module_version": "^1.3.3",
       "_view_name": "EdgeView",
       "classes": " directed ",
       "data": {
        "source": "-3785325943648538243",
        "target": "4796879183921162774"
       },
       "pannable": true,
       "removed": false,
       "selectable": false,
       "selected": false
      }
     },
     "1ec14e2543b84532a04cd7e30e66ede4": {
      "model_module": "jupyter-cytoscape",
      "model_module_version": "^1.3.3",
      "model_name": "NodeModel",
      "state": {
       "_model_module": "jupyter-cytoscape",
       "_model_module_version": "^1.3.3",
       "_model_name": "NodeModel",
       "_view_count": null,
       "_view_module": "jupyter-cytoscape",
       "_view_module_version": "^1.3.3",
       "_view_name": "NodeView",
       "classes": "",
       "data": {
        "color": "gray",
        "id": "4300649065814536547",
        "label": "getitem",
        "shape": "ellipse"
       },
       "grabbable": true,
       "grabbed": false,
       "locked": false,
       "pannable": false,
       "position": {},
       "removed": false,
       "selectable": false,
       "selected": false
      }
     },
     "1edb7240ff634407bf5157f353a14f5a": {
      "model_module": "jupyter-cytoscape",
      "model_module_version": "^1.3.3",
      "model_name": "NodeModel",
      "state": {
       "_model_module": "jupyter-cytoscape",
       "_model_module_version": "^1.3.3",
       "_model_name": "NodeModel",
       "_view_count": null,
       "_view_module": "jupyter-cytoscape",
       "_view_module_version": "^1.3.3",
       "_view_name": "NodeView",
       "classes": "",
       "data": {
        "color": "gray",
        "id": "-3785325943648538243",
        "label": "values",
        "shape": "ellipse"
       },
       "grabbable": true,
       "grabbed": false,
       "locked": false,
       "pannable": false,
       "position": {},
       "removed": false,
       "selectable": false,
       "selected": false
      }
     },
     "1ef50841223d419d9d75ec0babb0a743": {
      "model_module": "jupyter-cytoscape",
      "model_module_version": "^1.3.3",
      "model_name": "NodeModel",
      "state": {
       "_model_module": "jupyter-cytoscape",
       "_model_module_version": "^1.3.3",
       "_model_name": "NodeModel",
       "_view_count": null,
       "_view_module": "jupyter-cytoscape",
       "_view_module_version": "^1.3.3",
       "_view_name": "NodeView",
       "classes": "",
       "data": {
        "color": "gray",
        "id": "-4625039462178049713",
        "label": "getitem",
        "shape": "ellipse"
       },
       "grabbable": true,
       "grabbed": false,
       "locked": false,
       "pannable": false,
       "position": {},
       "removed": false,
       "selectable": false,
       "selected": false
      }
     },
     "1f2f32b22f984adca43953cd487d3ee5": {
      "model_module": "jupyter-cytoscape",
      "model_module_version": "^1.3.3",
      "model_name": "EdgeModel",
      "state": {
       "_model_module": "jupyter-cytoscape",
       "_model_module_version": "^1.3.3",
       "_model_name": "EdgeModel",
       "_view_count": null,
       "_view_module": "jupyter-cytoscape",
       "_view_module_version": "^1.3.3",
       "_view_name": "EdgeView",
       "classes": " directed ",
       "data": {
        "source": "4738928084150747300",
        "target": "-7551483226870930168"
       },
       "pannable": true,
       "removed": false,
       "selectable": false,
       "selected": false
      }
     },
     "1f4360f7980843a3aecf288ac6c40f6c": {
      "model_module": "jupyter-cytoscape",
      "model_module_version": "^1.3.3",
      "model_name": "EdgeModel",
      "state": {
       "_model_module": "jupyter-cytoscape",
       "_model_module_version": "^1.3.3",
       "_model_name": "EdgeModel",
       "_view_count": null,
       "_view_module": "jupyter-cytoscape",
       "_view_module_version": "^1.3.3",
       "_view_name": "EdgeView",
       "classes": " directed ",
       "data": {
        "source": "-7977930571088082270",
        "target": "5678987528542613587"
       },
       "pannable": true,
       "removed": false,
       "selectable": false,
       "selected": false
      }
     },
     "1fb4600a62a14f309797b2d8aa21ac12": {
      "model_module": "jupyter-cytoscape",
      "model_module_version": "^1.3.3",
      "model_name": "NodeModel",
      "state": {
       "_model_module": "jupyter-cytoscape",
       "_model_module_version": "^1.3.3",
       "_model_name": "NodeModel",
       "_view_count": null,
       "_view_module": "jupyter-cytoscape",
       "_view_module_version": "^1.3.3",
       "_view_name": "NodeView",
       "classes": "",
       "data": {
        "color": "gray",
        "id": "-5626292261069431928",
        "label": "values",
        "shape": "ellipse"
       },
       "grabbable": true,
       "grabbed": false,
       "locked": false,
       "pannable": false,
       "position": {},
       "removed": false,
       "selectable": false,
       "selected": false
      }
     },
     "1fd60958a9c84ae1a4fbee51c1d5eb1c": {
      "model_module": "jupyter-cytoscape",
      "model_module_version": "^1.3.3",
      "model_name": "EdgeModel",
      "state": {
       "_model_module": "jupyter-cytoscape",
       "_model_module_version": "^1.3.3",
       "_model_name": "EdgeModel",
       "_view_count": null,
       "_view_module": "jupyter-cytoscape",
       "_view_module_version": "^1.3.3",
       "_view_name": "EdgeView",
       "classes": " directed ",
       "data": {
        "source": "2074015593784244842",
        "target": "-4433715405637590577"
       },
       "pannable": true,
       "removed": false,
       "selectable": false,
       "selected": false
      }
     },
     "2057ef4f61e64d06adc2eecce8390ae0": {
      "model_module": "jupyter-cytoscape",
      "model_module_version": "^1.3.3",
      "model_name": "NodeModel",
      "state": {
       "_model_module": "jupyter-cytoscape",
       "_model_module_version": "^1.3.3",
       "_model_name": "NodeModel",
       "_view_count": null,
       "_view_module": "jupyter-cytoscape",
       "_view_module_version": "^1.3.3",
       "_view_name": "NodeView",
       "classes": "",
       "data": {
        "color": "gray",
        "id": "2944965432535025934",
        "label": "moment_chunk",
        "shape": "ellipse"
       },
       "grabbable": true,
       "grabbed": false,
       "locked": false,
       "pannable": false,
       "position": {},
       "removed": false,
       "selectable": false,
       "selected": false
      }
     },
     "2202d8035d9e4e169b969394538caf7e": {
      "model_module": "jupyter-cytoscape",
      "model_module_version": "^1.3.3",
      "model_name": "EdgeModel",
      "state": {
       "_model_module": "jupyter-cytoscape",
       "_model_module_version": "^1.3.3",
       "_model_name": "EdgeModel",
       "_view_count": null,
       "_view_module": "jupyter-cytoscape",
       "_view_module_version": "^1.3.3",
       "_view_name": "EdgeView",
       "classes": " directed ",
       "data": {
        "source": "-4112752719650055817",
        "target": "2282974287755212044"
       },
       "pannable": true,
       "removed": false,
       "selectable": false,
       "selected": false
      }
     },
     "2238a0dc162a4706a307268bd7323fc5": {
      "model_module": "jupyter-cytoscape",
      "model_module_version": "^1.3.3",
      "model_name": "EdgeModel",
      "state": {
       "_model_module": "jupyter-cytoscape",
       "_model_module_version": "^1.3.3",
       "_model_name": "EdgeModel",
       "_view_count": null,
       "_view_module": "jupyter-cytoscape",
       "_view_module_version": "^1.3.3",
       "_view_name": "EdgeView",
       "classes": " directed ",
       "data": {
        "source": "-7254193139457174837",
        "target": "9026999148289781316"
       },
       "pannable": true,
       "removed": false,
       "selectable": false,
       "selected": false
      }
     },
     "24c1fda42faf44d68322517e494fc812": {
      "model_module": "jupyter-cytoscape",
      "model_module_version": "^1.3.3",
      "model_name": "EdgeModel",
      "state": {
       "_model_module": "jupyter-cytoscape",
       "_model_module_version": "^1.3.3",
       "_model_name": "EdgeModel",
       "_view_count": null,
       "_view_module": "jupyter-cytoscape",
       "_view_module_version": "^1.3.3",
       "_view_name": "EdgeView",
       "classes": " directed ",
       "data": {
        "source": "7293554255671915646",
        "target": "-5978474033132357694"
       },
       "pannable": true,
       "removed": false,
       "selectable": false,
       "selected": false
      }
     },
     "2505589439f342efa7791e7e08267bdf": {
      "model_module": "jupyter-cytoscape",
      "model_module_version": "^1.3.3",
      "model_name": "NodeModel",
      "state": {
       "_model_module": "jupyter-cytoscape",
       "_model_module_version": "^1.3.3",
       "_model_name": "NodeModel",
       "_view_count": null,
       "_view_module": "jupyter-cytoscape",
       "_view_module_version": "^1.3.3",
       "_view_name": "NodeView",
       "classes": "",
       "data": {
        "color": "gray",
        "id": "7910133727375015374",
        "label": "0",
        "shape": "rectangle"
       },
       "grabbable": true,
       "grabbed": false,
       "locked": false,
       "pannable": false,
       "position": {},
       "removed": false,
       "selectable": false,
       "selected": false
      }
     },
     "25245a5bf6044748bbf83e0b6e4586cc": {
      "model_module": "jupyter-cytoscape",
      "model_module_version": "^1.3.3",
      "model_name": "EdgeModel",
      "state": {
       "_model_module": "jupyter-cytoscape",
       "_model_module_version": "^1.3.3",
       "_model_name": "EdgeModel",
       "_view_count": null,
       "_view_module": "jupyter-cytoscape",
       "_view_module_version": "^1.3.3",
       "_view_name": "EdgeView",
       "classes": " directed ",
       "data": {
        "source": "-9150371405169788046",
        "target": "7958576497265578578"
       },
       "pannable": true,
       "removed": false,
       "selectable": false,
       "selected": false
      }
     },
     "255ac05a590645f288966aeba74fe569": {
      "model_module": "jupyter-cytoscape",
      "model_module_version": "^1.3.3",
      "model_name": "NodeModel",
      "state": {
       "_model_module": "jupyter-cytoscape",
       "_model_module_version": "^1.3.3",
       "_model_name": "NodeModel",
       "_view_count": null,
       "_view_module": "jupyter-cytoscape",
       "_view_module_version": "^1.3.3",
       "_view_name": "NodeView",
       "classes": "",
       "data": {
        "color": "gray",
        "id": "-7667573071521055037",
        "label": "0",
        "shape": "rectangle"
       },
       "grabbable": true,
       "grabbed": false,
       "locked": false,
       "pannable": false,
       "position": {},
       "removed": false,
       "selectable": false,
       "selected": false
      }
     },
     "2575279f9113464d9ecedcd148e6dbf1": {
      "model_module": "jupyter-cytoscape",
      "model_module_version": "^1.3.3",
      "model_name": "NodeModel",
      "state": {
       "_model_module": "jupyter-cytoscape",
       "_model_module_version": "^1.3.3",
       "_model_name": "NodeModel",
       "_view_count": null,
       "_view_module": "jupyter-cytoscape",
       "_view_module_version": "^1.3.3",
       "_view_name": "NodeView",
       "classes": "",
       "data": {
        "color": "gray",
        "id": "7813178480235993364",
        "label": "series-mean",
        "shape": "ellipse"
       },
       "grabbable": true,
       "grabbed": false,
       "locked": false,
       "pannable": false,
       "position": {},
       "removed": false,
       "selectable": false,
       "selected": false
      }
     },
     "26047ce6a3fe42d59a7de9a7b8b54786": {
      "model_module": "jupyter-cytoscape",
      "model_module_version": "^1.3.3",
      "model_name": "EdgeModel",
      "state": {
       "_model_module": "jupyter-cytoscape",
       "_model_module_version": "^1.3.3",
       "_model_name": "EdgeModel",
       "_view_count": null,
       "_view_module": "jupyter-cytoscape",
       "_view_module_version": "^1.3.3",
       "_view_name": "EdgeView",
       "classes": " directed ",
       "data": {
        "source": "1804429350168819224",
        "target": "8995574526683261384"
       },
       "pannable": true,
       "removed": false,
       "selectable": false,
       "selected": false
      }
     },
     "29208796fe63475c9623e1da4edbae93": {
      "model_module": "jupyter-cytoscape",
      "model_module_version": "^1.3.3",
      "model_name": "NodeModel",
      "state": {
       "_model_module": "jupyter-cytoscape",
       "_model_module_version": "^1.3.3",
       "_model_name": "NodeModel",
       "_view_count": null,
       "_view_module": "jupyter-cytoscape",
       "_view_module_version": "^1.3.3",
       "_view_name": "NodeView",
       "classes": "",
       "data": {
        "color": "gray",
        "id": "5032132732572698123",
        "label": "series-count-chunk",
        "shape": "ellipse"
       },
       "grabbable": true,
       "grabbed": false,
       "locked": false,
       "pannable": false,
       "position": {},
       "removed": false,
       "selectable": false,
       "selected": false
      }
     },
     "297268f80ed94bcab5e7d17814d506a7": {
      "model_module": "jupyter-cytoscape",
      "model_module_version": "^1.3.3",
      "model_name": "NodeModel",
      "state": {
       "_model_module": "jupyter-cytoscape",
       "_model_module_version": "^1.3.3",
       "_model_name": "NodeModel",
       "_view_count": null,
       "_view_module": "jupyter-cytoscape",
       "_view_module_version": "^1.3.3",
       "_view_name": "NodeView",
       "classes": "",
       "data": {
        "color": "gray",
        "id": "9143195929476779555",
        "label": "moment_chunk",
        "shape": "ellipse"
       },
       "grabbable": true,
       "grabbed": false,
       "locked": false,
       "pannable": false,
       "position": {},
       "removed": false,
       "selectable": false,
       "selected": false
      }
     },
     "297a9521910d49259dd5d67636848691": {
      "model_module": "jupyter-cytoscape",
      "model_module_version": "^1.3.3",
      "model_name": "EdgeModel",
      "state": {
       "_model_module": "jupyter-cytoscape",
       "_model_module_version": "^1.3.3",
       "_model_name": "EdgeModel",
       "_view_count": null,
       "_view_module": "jupyter-cytoscape",
       "_view_module_version": "^1.3.3",
       "_view_name": "EdgeView",
       "classes": " directed ",
       "data": {
        "source": "-8864074819991834782",
        "target": "-7825143019702143457"
       },
       "pannable": true,
       "removed": false,
       "selectable": false,
       "selected": false
      }
     },
     "2a2801a35ce94057ab73dd22ad96728e": {
      "model_module": "jupyter-cytoscape",
      "model_module_version": "^1.3.3",
      "model_name": "EdgeModel",
      "state": {
       "_model_module": "jupyter-cytoscape",
       "_model_module_version": "^1.3.3",
       "_model_name": "EdgeModel",
       "_view_count": null,
       "_view_module": "jupyter-cytoscape",
       "_view_module_version": "^1.3.3",
       "_view_name": "EdgeView",
       "classes": " directed ",
       "data": {
        "source": "-1020838954517715109",
        "target": "-2412321347944766871"
       },
       "pannable": true,
       "removed": false,
       "selectable": false,
       "selected": false
      }
     },
     "2a8a8370b6f3422f8020d43d7ef33dcc": {
      "model_module": "jupyter-cytoscape",
      "model_module_version": "^1.3.3",
      "model_name": "EdgeModel",
      "state": {
       "_model_module": "jupyter-cytoscape",
       "_model_module_version": "^1.3.3",
       "_model_name": "EdgeModel",
       "_view_count": null,
       "_view_module": "jupyter-cytoscape",
       "_view_module_version": "^1.3.3",
       "_view_name": "EdgeView",
       "classes": " directed ",
       "data": {
        "source": "7825977804657268989",
        "target": "5598287532537155435"
       },
       "pannable": true,
       "removed": false,
       "selectable": false,
       "selected": false
      }
     },
     "2ac43796804747a89f66f89642b68a4e": {
      "model_module": "jupyter-cytoscape",
      "model_module_version": "^1.3.3",
      "model_name": "EdgeModel",
      "state": {
       "_model_module": "jupyter-cytoscape",
       "_model_module_version": "^1.3.3",
       "_model_name": "EdgeModel",
       "_view_count": null,
       "_view_module": "jupyter-cytoscape",
       "_view_module_version": "^1.3.3",
       "_view_name": "EdgeView",
       "classes": " directed ",
       "data": {
        "source": "7870150832040137183",
        "target": "-1768712671951251125"
       },
       "pannable": true,
       "removed": false,
       "selectable": false,
       "selected": false
      }
     },
     "2afe91881d624038b90a4db5ef83f2bb": {
      "model_module": "jupyter-cytoscape",
      "model_module_version": "^1.3.3",
      "model_name": "NodeModel",
      "state": {
       "_model_module": "jupyter-cytoscape",
       "_model_module_version": "^1.3.3",
       "_model_name": "NodeModel",
       "_view_count": null,
       "_view_module": "jupyter-cytoscape",
       "_view_module_version": "^1.3.3",
       "_view_name": "NodeView",
       "classes": "",
       "data": {
        "color": "gray",
        "id": "6386447930201766889",
        "label": "moment_chunk",
        "shape": "ellipse"
       },
       "grabbable": true,
       "grabbed": false,
       "locked": false,
       "pannable": false,
       "position": {},
       "removed": false,
       "selectable": false,
       "selected": false
      }
     },
     "2c13889b2e1544e5a2ba60377ce889fe": {
      "model_module": "jupyter-cytoscape",
      "model_module_version": "^1.3.3",
      "model_name": "EdgeModel",
      "state": {
       "_model_module": "jupyter-cytoscape",
       "_model_module_version": "^1.3.3",
       "_model_name": "EdgeModel",
       "_view_count": null,
       "_view_module": "jupyter-cytoscape",
       "_view_module_version": "^1.3.3",
       "_view_name": "EdgeView",
       "classes": " directed ",
       "data": {
        "source": "-37980610482009357",
        "target": "-2784073144757156028"
       },
       "pannable": true,
       "removed": false,
       "selectable": false,
       "selected": false
      }
     },
     "2f651d1d704c45238f4bf70742ae2748": {
      "model_module": "jupyter-cytoscape",
      "model_module_version": "^1.3.3",
      "model_name": "NodeModel",
      "state": {
       "_model_module": "jupyter-cytoscape",
       "_model_module_version": "^1.3.3",
       "_model_name": "NodeModel",
       "_view_count": null,
       "_view_module": "jupyter-cytoscape",
       "_view_module_version": "^1.3.3",
       "_view_name": "NodeView",
       "classes": "",
       "data": {
        "color": "gray",
        "id": "-6274681723058484262",
        "label": "moment_combine-partial",
        "shape": "ellipse"
       },
       "grabbable": true,
       "grabbed": false,
       "locked": false,
       "pannable": false,
       "position": {},
       "removed": false,
       "selectable": false,
       "selected": false
      }
     },
     "2f8ce3b67673426bb37d628c933277fb": {
      "model_module": "jupyter-cytoscape",
      "model_module_version": "^1.3.3",
      "model_name": "EdgeModel",
      "state": {
       "_model_module": "jupyter-cytoscape",
       "_model_module_version": "^1.3.3",
       "_model_name": "EdgeModel",
       "_view_count": null,
       "_view_module": "jupyter-cytoscape",
       "_view_module_version": "^1.3.3",
       "_view_name": "EdgeView",
       "classes": " directed ",
       "data": {
        "source": "8127148739813999560",
        "target": "-4581373977005740986"
       },
       "pannable": true,
       "removed": false,
       "selectable": false,
       "selected": false
      }
     },
     "3027299ca6554b8695075749be9f1fe2": {
      "model_module": "jupyter-cytoscape",
      "model_module_version": "^1.3.3",
      "model_name": "NodeModel",
      "state": {
       "_model_module": "jupyter-cytoscape",
       "_model_module_version": "^1.3.3",
       "_model_name": "NodeModel",
       "_view_count": null,
       "_view_module": "jupyter-cytoscape",
       "_view_module_version": "^1.3.3",
       "_view_name": "NodeView",
       "classes": "",
       "data": {
        "color": "gray",
        "id": "-808882047645422660",
        "label": "series-sum-chunk",
        "shape": "ellipse"
       },
       "grabbable": true,
       "grabbed": false,
       "locked": false,
       "pannable": false,
       "position": {},
       "removed": false,
       "selectable": false,
       "selected": false
      }
     },
     "30f4a0b5933d4cae87019dfc14d436ee": {
      "model_module": "jupyter-cytoscape",
      "model_module_version": "^1.3.3",
      "model_name": "EdgeModel",
      "state": {
       "_model_module": "jupyter-cytoscape",
       "_model_module_version": "^1.3.3",
       "_model_name": "EdgeModel",
       "_view_count": null,
       "_view_module": "jupyter-cytoscape",
       "_view_module_version": "^1.3.3",
       "_view_name": "EdgeView",
       "classes": " directed ",
       "data": {
        "source": "7351505355442331120",
        "target": "6914538839876648421"
       },
       "pannable": true,
       "removed": false,
       "selectable": false,
       "selected": false
      }
     },
     "30fd47bdfb504f4e84e4ce70e66b81fa": {
      "model_module": "jupyter-cytoscape",
      "model_module_version": "^1.3.3",
      "model_name": "EdgeModel",
      "state": {
       "_model_module": "jupyter-cytoscape",
       "_model_module_version": "^1.3.3",
       "_model_name": "EdgeModel",
       "_view_count": null,
       "_view_module": "jupyter-cytoscape",
       "_view_module_version": "^1.3.3",
       "_view_name": "EdgeView",
       "classes": " directed ",
       "data": {
        "source": "-5426521304922855690",
        "target": "3895475726457095320"
       },
       "pannable": true,
       "removed": false,
       "selectable": false,
       "selected": false
      }
     },
     "3111b70976074f06ba35382bc77e3a5c": {
      "model_module": "jupyter-cytoscape",
      "model_module_version": "^1.3.3",
      "model_name": "NodeModel",
      "state": {
       "_model_module": "jupyter-cytoscape",
       "_model_module_version": "^1.3.3",
       "_model_name": "NodeModel",
       "_view_count": null,
       "_view_module": "jupyter-cytoscape",
       "_view_module_version": "^1.3.3",
       "_view_name": "NodeView",
       "classes": "",
       "data": {
        "color": "gray",
        "id": "-3173066068558417915",
        "label": "7",
        "shape": "rectangle"
       },
       "grabbable": true,
       "grabbed": false,
       "locked": false,
       "pannable": false,
       "position": {},
       "removed": false,
       "selectable": false,
       "selected": false
      }
     },
     "32e427c44db84d36acaaafa67c2c7f7a": {
      "model_module": "jupyter-cytoscape",
      "model_module_version": "^1.3.3",
      "model_name": "NodeModel",
      "state": {
       "_model_module": "jupyter-cytoscape",
       "_model_module_version": "^1.3.3",
       "_model_name": "NodeModel",
       "_view_count": null,
       "_view_module": "jupyter-cytoscape",
       "_view_module_version": "^1.3.3",
       "_view_name": "NodeView",
       "classes": "",
       "data": {
        "color": "gray",
        "id": "-7977930571088082270",
        "label": "read-csv",
        "shape": "ellipse"
       },
       "grabbable": true,
       "grabbed": false,
       "locked": false,
       "pannable": false,
       "position": {},
       "removed": false,
       "selectable": false,
       "selected": false
      }
     },
     "347da929ad1949d29b5ccac09fa5004e": {
      "model_module": "jupyter-cytoscape",
      "model_module_version": "^1.3.3",
      "model_name": "NodeModel",
      "state": {
       "_model_module": "jupyter-cytoscape",
       "_model_module_version": "^1.3.3",
       "_model_name": "NodeModel",
       "_view_count": null,
       "_view_module": "jupyter-cytoscape",
       "_view_module_version": "^1.3.3",
       "_view_name": "NodeView",
       "classes": "",
       "data": {
        "color": "gray",
        "id": "7681805941410461511",
        "label": "2",
        "shape": "rectangle"
       },
       "grabbable": true,
       "grabbed": false,
       "locked": false,
       "pannable": false,
       "position": {},
       "removed": false,
       "selectable": false,
       "selected": false
      }
     },
     "3501593fa8af4ac69c89785c8ec143be": {
      "model_module": "jupyter-cytoscape",
      "model_module_version": "^1.3.3",
      "model_name": "EdgeModel",
      "state": {
       "_model_module": "jupyter-cytoscape",
       "_model_module_version": "^1.3.3",
       "_model_name": "EdgeModel",
       "_view_count": null,
       "_view_module": "jupyter-cytoscape",
       "_view_module_version": "^1.3.3",
       "_view_name": "EdgeView",
       "classes": " directed ",
       "data": {
        "source": "-1768712671951251125",
        "target": "1804429350168819224"
       },
       "pannable": true,
       "removed": false,
       "selectable": false,
       "selected": false
      }
     },
     "35d288c224cf4de48c5680abdec0febb": {
      "model_module": "jupyter-cytoscape",
      "model_module_version": "^1.3.3",
      "model_name": "NodeModel",
      "state": {
       "_model_module": "jupyter-cytoscape",
       "_model_module_version": "^1.3.3",
       "_model_name": "NodeModel",
       "_view_count": null,
       "_view_module": "jupyter-cytoscape",
       "_view_module_version": "^1.3.3",
       "_view_name": "NodeView",
       "classes": "",
       "data": {
        "color": "gray",
        "id": "2282974287755212044",
        "label": "inv",
        "shape": "ellipse"
       },
       "grabbable": true,
       "grabbed": false,
       "locked": false,
       "pannable": false,
       "position": {},
       "removed": false,
       "selectable": false,
       "selected": false
      }
     },
     "36262bd85cea409c8fdb759b66d6b9c5": {
      "model_module": "jupyter-cytoscape",
      "model_module_version": "^1.3.3",
      "model_name": "EdgeModel",
      "state": {
       "_model_module": "jupyter-cytoscape",
       "_model_module_version": "^1.3.3",
       "_model_name": "EdgeModel",
       "_view_count": null,
       "_view_module": "jupyter-cytoscape",
       "_view_module_version": "^1.3.3",
       "_view_name": "EdgeView",
       "classes": " directed ",
       "data": {
        "source": "-2801776862293374406",
        "target": "-7825143019702143457"
       },
       "pannable": true,
       "removed": false,
       "selectable": false,
       "selected": false
      }
     },
     "377bae0bd8414a84a015032ae3d60bfb": {
      "model_module": "jupyter-cytoscape",
      "model_module_version": "^1.3.3",
      "model_name": "NodeModel",
      "state": {
       "_model_module": "jupyter-cytoscape",
       "_model_module_version": "^1.3.3",
       "_model_name": "NodeModel",
       "_view_count": null,
       "_view_module": "jupyter-cytoscape",
       "_view_module_version": "^1.3.3",
       "_view_name": "NodeView",
       "classes": "",
       "data": {
        "color": "gray",
        "id": "4796879183921162774",
        "label": "0",
        "shape": "rectangle"
       },
       "grabbable": true,
       "grabbed": false,
       "locked": false,
       "pannable": false,
       "position": {},
       "removed": false,
       "selectable": false,
       "selected": false
      }
     },
     "380aba5c9f404839a5dd2f59d85e97e8": {
      "model_module": "jupyter-cytoscape",
      "model_module_version": "^1.3.3",
      "model_name": "EdgeModel",
      "state": {
       "_model_module": "jupyter-cytoscape",
       "_model_module_version": "^1.3.3",
       "_model_name": "EdgeModel",
       "_view_count": null,
       "_view_module": "jupyter-cytoscape",
       "_view_module_version": "^1.3.3",
       "_view_name": "EdgeView",
       "classes": " directed ",
       "data": {
        "source": "1229854809122270983",
        "target": "8766037249049135276"
       },
       "pannable": true,
       "removed": false,
       "selectable": false,
       "selected": false
      }
     },
     "38a1b7bbd6ec4a15a4551d38e3f30672": {
      "model_module": "jupyter-cytoscape",
      "model_module_version": "^1.3.3",
      "model_name": "NodeModel",
      "state": {
       "_model_module": "jupyter-cytoscape",
       "_model_module_version": "^1.3.3",
       "_model_name": "NodeModel",
       "_view_count": null,
       "_view_module": "jupyter-cytoscape",
       "_view_module_version": "^1.3.3",
       "_view_name": "NodeView",
       "classes": "",
       "data": {
        "color": "gray",
        "id": "-8066140097531114281",
        "label": "8",
        "shape": "rectangle"
       },
       "grabbable": true,
       "grabbed": false,
       "locked": false,
       "pannable": false,
       "position": {},
       "removed": false,
       "selectable": false,
       "selected": false
      }
     },
     "38c6c086193a46b4b1ab5925e9b10d8d": {
      "model_module": "jupyter-cytoscape",
      "model_module_version": "^1.3.3",
      "model_name": "EdgeModel",
      "state": {
       "_model_module": "jupyter-cytoscape",
       "_model_module_version": "^1.3.3",
       "_model_name": "EdgeModel",
       "_view_count": null,
       "_view_module": "jupyter-cytoscape",
       "_view_module_version": "^1.3.3",
       "_view_name": "EdgeView",
       "classes": " directed ",
       "data": {
        "source": "7826350597957497374",
        "target": "-3923946721089635408"
       },
       "pannable": true,
       "removed": false,
       "selectable": false,
       "selected": false
      }
     },
     "3a30c792fc704f34a5011f9bf2b904c7": {
      "model_module": "jupyter-cytoscape",
      "model_module_version": "^1.3.3",
      "model_name": "EdgeModel",
      "state": {
       "_model_module": "jupyter-cytoscape",
       "_model_module_version": "^1.3.3",
       "_model_name": "EdgeModel",
       "_view_count": null,
       "_view_module": "jupyter-cytoscape",
       "_view_module_version": "^1.3.3",
       "_view_name": "EdgeView",
       "classes": " directed ",
       "data": {
        "source": "-5426521304922855690",
        "target": "6156303101781520643"
       },
       "pannable": true,
       "removed": false,
       "selectable": false,
       "selected": false
      }
     },
     "3a99ee75bfa0438aa686e5e04a95b7d8": {
      "model_module": "jupyter-cytoscape",
      "model_module_version": "^1.3.3",
      "model_name": "EdgeModel",
      "state": {
       "_model_module": "jupyter-cytoscape",
       "_model_module_version": "^1.3.3",
       "_model_name": "EdgeModel",
       "_view_count": null,
       "_view_module": "jupyter-cytoscape",
       "_view_module_version": "^1.3.3",
       "_view_name": "EdgeView",
       "classes": " directed ",
       "data": {
        "source": "-979352091332914610",
        "target": "5829049600450326880"
       },
       "pannable": true,
       "removed": false,
       "selectable": false,
       "selected": false
      }
     },
     "3aea6d0a92cf4adc96f05063f50aecee": {
      "model_module": "jupyter-cytoscape",
      "model_module_version": "^1.3.3",
      "model_name": "EdgeModel",
      "state": {
       "_model_module": "jupyter-cytoscape",
       "_model_module_version": "^1.3.3",
       "_model_name": "EdgeModel",
       "_view_count": null,
       "_view_module": "jupyter-cytoscape",
       "_view_module_version": "^1.3.3",
       "_view_name": "EdgeView",
       "classes": " directed ",
       "data": {
        "source": "843864599340332695",
        "target": "6386447930201766889"
       },
       "pannable": true,
       "removed": false,
       "selectable": false,
       "selected": false
      }
     },
     "3b0806d8c2754174915dd92f19621a70": {
      "model_module": "jupyter-cytoscape",
      "model_module_version": "^1.3.3",
      "model_name": "EdgeModel",
      "state": {
       "_model_module": "jupyter-cytoscape",
       "_model_module_version": "^1.3.3",
       "_model_name": "EdgeModel",
       "_view_count": null,
       "_view_module": "jupyter-cytoscape",
       "_view_module_version": "^1.3.3",
       "_view_name": "EdgeView",
       "classes": " directed ",
       "data": {
        "source": "2629685699212180360",
        "target": "-7825143019702143457"
       },
       "pannable": true,
       "removed": false,
       "selectable": false,
       "selected": false
      }
     },
     "3bf5c2c56c4b4fca8b1ba464fe4c9373": {
      "model_module": "jupyter-cytoscape",
      "model_module_version": "^1.3.3",
      "model_name": "EdgeModel",
      "state": {
       "_model_module": "jupyter-cytoscape",
       "_model_module_version": "^1.3.3",
       "_model_name": "EdgeModel",
       "_view_count": null,
       "_view_module": "jupyter-cytoscape",
       "_view_module_version": "^1.3.3",
       "_view_name": "EdgeView",
       "classes": " directed ",
       "data": {
        "source": "4015821015065735090",
        "target": "5736938628313029061"
       },
       "pannable": true,
       "removed": false,
       "selectable": false,
       "selected": false
      }
     },
     "3cc26579687f4f20a20d04e1ba94644d": {
      "model_module": "jupyter-cytoscape",
      "model_module_version": "^1.3.3",
      "model_name": "NodeModel",
      "state": {
       "_model_module": "jupyter-cytoscape",
       "_model_module_version": "^1.3.3",
       "_model_name": "NodeModel",
       "_view_count": null,
       "_view_module": "jupyter-cytoscape",
       "_view_module_version": "^1.3.3",
       "_view_name": "NodeView",
       "classes": "",
       "data": {
        "color": "gray",
        "id": "1955137428295681231",
        "label": "4",
        "shape": "rectangle"
       },
       "grabbable": true,
       "grabbed": false,
       "locked": false,
       "pannable": false,
       "position": {},
       "removed": false,
       "selectable": false,
       "selected": false
      }
     },
     "3de51491568247b9968c4eec9b1ddca6": {
      "model_module": "jupyter-cytoscape",
      "model_module_version": "^1.3.3",
      "model_name": "NodeModel",
      "state": {
       "_model_module": "jupyter-cytoscape",
       "_model_module_version": "^1.3.3",
       "_model_name": "NodeModel",
       "_view_count": null,
       "_view_module": "jupyter-cytoscape",
       "_view_module_version": "^1.3.3",
       "_view_name": "NodeView",
       "classes": "",
       "data": {
        "color": "gray",
        "id": "-2391829575837266754",
        "label": "getitem",
        "shape": "ellipse"
       },
       "grabbable": true,
       "grabbed": false,
       "locked": false,
       "pannable": false,
       "position": {},
       "removed": false,
       "selectable": false,
       "selected": false
      }
     },
     "3de6bf16aa5f4c7f9cbcabadf40c76f5": {
      "model_module": "jupyter-cytoscape",
      "model_module_version": "^1.3.3",
      "model_name": "EdgeModel",
      "state": {
       "_model_module": "jupyter-cytoscape",
       "_model_module_version": "^1.3.3",
       "_model_name": "EdgeModel",
       "_view_count": null,
       "_view_module": "jupyter-cytoscape",
       "_view_module_version": "^1.3.3",
       "_view_name": "EdgeView",
       "classes": " directed ",
       "data": {
        "source": "3895475726457095320",
        "target": "7351505355442331120"
       },
       "pannable": true,
       "removed": false,
       "selectable": false,
       "selected": false
      }
     },
     "3e32db4b004c46dca5ca35c960803762": {
      "model_module": "jupyter-cytoscape",
      "model_module_version": "^1.3.3",
      "model_name": "NodeModel",
      "state": {
       "_model_module": "jupyter-cytoscape",
       "_model_module_version": "^1.3.3",
       "_model_name": "NodeModel",
       "_view_count": null,
       "_view_module": "jupyter-cytoscape",
       "_view_module_version": "^1.3.3",
       "_view_name": "NodeView",
       "classes": "",
       "data": {
        "color": "gray",
        "id": "-4257297376197091680",
        "label": "3",
        "shape": "rectangle"
       },
       "grabbable": true,
       "grabbed": false,
       "locked": false,
       "pannable": false,
       "position": {},
       "removed": false,
       "selectable": false,
       "selected": false
      }
     },
     "3f29fa097fe1491b9c7bc090267e89e2": {
      "model_module": "jupyter-cytoscape",
      "model_module_version": "^1.3.3",
      "model_name": "NodeModel",
      "state": {
       "_model_module": "jupyter-cytoscape",
       "_model_module_version": "^1.3.3",
       "_model_name": "NodeModel",
       "_view_count": null,
       "_view_module": "jupyter-cytoscape",
       "_view_module_version": "^1.3.3",
       "_view_name": "NodeView",
       "classes": "",
       "data": {
        "color": "gray",
        "id": "-247150690772206060",
        "label": "9",
        "shape": "rectangle"
       },
       "grabbable": true,
       "grabbed": false,
       "locked": false,
       "pannable": false,
       "position": {},
       "removed": false,
       "selectable": false,
       "selected": false
      }
     },
     "3f9cfe3b22da48988cc496f2f12cad54": {
      "model_module": "jupyter-cytoscape",
      "model_module_version": "^1.3.3",
      "model_name": "EdgeModel",
      "state": {
       "_model_module": "jupyter-cytoscape",
       "_model_module_version": "^1.3.3",
       "_model_name": "EdgeModel",
       "_view_count": null,
       "_view_module": "jupyter-cytoscape",
       "_view_module_version": "^1.3.3",
       "_view_name": "EdgeView",
       "classes": " directed ",
       "data": {
        "source": "5910102119164742139",
        "target": "-1204491708059149465"
       },
       "pannable": true,
       "removed": false,
       "selectable": false,
       "selected": false
      }
     },
     "3fa9e051dcb54cc089fadc0c8745cc5e": {
      "model_module": "jupyter-cytoscape",
      "model_module_version": "^1.3.3",
      "model_name": "EdgeModel",
      "state": {
       "_model_module": "jupyter-cytoscape",
       "_model_module_version": "^1.3.3",
       "_model_name": "EdgeModel",
       "_view_count": null,
       "_view_module": "jupyter-cytoscape",
       "_view_module_version": "^1.3.3",
       "_view_name": "EdgeView",
       "classes": " directed ",
       "data": {
        "source": "8127148739813999560",
        "target": "-8051121799489138365"
       },
       "pannable": true,
       "removed": false,
       "selectable": false,
       "selected": false
      }
     },
     "40b8b33302704fc7871dbb1b2fe51669": {
      "model_module": "jupyter-cytoscape",
      "model_module_version": "^1.3.3",
      "model_name": "NodeModel",
      "state": {
       "_model_module": "jupyter-cytoscape",
       "_model_module_version": "^1.3.3",
       "_model_name": "NodeModel",
       "_view_count": null,
       "_view_module": "jupyter-cytoscape",
       "_view_module_version": "^1.3.3",
       "_view_name": "NodeView",
       "classes": "",
       "data": {
        "color": "gray",
        "id": "-7836602819896988173",
        "label": "3",
        "shape": "rectangle"
       },
       "grabbable": true,
       "grabbed": false,
       "locked": false,
       "pannable": false,
       "position": {},
       "removed": false,
       "selectable": false,
       "selected": false
      }
     },
     "41524cb7a730465886e574c1b6f5f6e5": {
      "model_module": "jupyter-cytoscape",
      "model_module_version": "^1.3.3",
      "model_name": "EdgeModel",
      "state": {
       "_model_module": "jupyter-cytoscape",
       "_model_module_version": "^1.3.3",
       "_model_name": "EdgeModel",
       "_view_count": null,
       "_view_module": "jupyter-cytoscape",
       "_view_module_version": "^1.3.3",
       "_view_name": "EdgeView",
       "classes": " directed ",
       "data": {
        "source": "3124361357021445241",
        "target": "4847378048539249516"
       },
       "pannable": true,
       "removed": false,
       "selectable": false,
       "selected": false
      }
     },
     "4260cb97780a4d4baa55c0733dc92648": {
      "model_module": "jupyter-cytoscape",
      "model_module_version": "^1.3.3",
      "model_name": "EdgeModel",
      "state": {
       "_model_module": "jupyter-cytoscape",
       "_model_module_version": "^1.3.3",
       "_model_name": "EdgeModel",
       "_view_count": null,
       "_view_module": "jupyter-cytoscape",
       "_view_module_version": "^1.3.3",
       "_view_name": "EdgeView",
       "classes": " directed ",
       "data": {
        "source": "3685869489764922999",
        "target": "-4586346540241213963"
       },
       "pannable": true,
       "removed": false,
       "selectable": false,
       "selected": false
      }
     },
     "426bf7a76fcd4aef814a3d3e278ee387": {
      "model_module": "jupyter-cytoscape",
      "model_module_version": "^1.3.3",
      "model_name": "EdgeModel",
      "state": {
       "_model_module": "jupyter-cytoscape",
       "_model_module_version": "^1.3.3",
       "_model_name": "EdgeModel",
       "_view_count": null,
       "_view_module": "jupyter-cytoscape",
       "_view_module_version": "^1.3.3",
       "_view_name": "EdgeView",
       "classes": " directed ",
       "data": {
        "source": "7050384369868986184",
        "target": "-1207204539207773367"
       },
       "pannable": true,
       "removed": false,
       "selectable": false,
       "selected": false
      }
     },
     "42c535184d854690904311ebb01e76e3": {
      "model_module": "jupyter-cytoscape",
      "model_module_version": "^1.3.3",
      "model_name": "NodeModel",
      "state": {
       "_model_module": "jupyter-cytoscape",
       "_model_module_version": "^1.3.3",
       "_model_name": "NodeModel",
       "_view_count": null,
       "_view_module": "jupyter-cytoscape",
       "_view_module_version": "^1.3.3",
       "_view_name": "NodeView",
       "classes": "",
       "data": {
        "color": "gray",
        "id": "-6136964253667188585",
        "label": "read-csv",
        "shape": "ellipse"
       },
       "grabbable": true,
       "grabbed": false,
       "locked": false,
       "pannable": false,
       "position": {},
       "removed": false,
       "selectable": false,
       "selected": false
      }
     },
     "44f371a28e154286a8a6a0079fc97550": {
      "model_module": "jupyter-cytoscape",
      "model_module_version": "^1.3.3",
      "model_name": "NodeModel",
      "state": {
       "_model_module": "jupyter-cytoscape",
       "_model_module_version": "^1.3.3",
       "_model_name": "NodeModel",
       "_view_count": null,
       "_view_module": "jupyter-cytoscape",
       "_view_module_version": "^1.3.3",
       "_view_name": "NodeView",
       "classes": "",
       "data": {
        "color": "gray",
        "id": "7041274146138007207",
        "label": "series-sum-chunk",
        "shape": "ellipse"
       },
       "grabbable": true,
       "grabbed": false,
       "locked": false,
       "pannable": false,
       "position": {},
       "removed": false,
       "selectable": false,
       "selected": false
      }
     },
     "45e7f3b2ad9a449a985740ed3af804a0": {
      "model_module": "jupyter-cytoscape",
      "model_module_version": "^1.3.3",
      "model_name": "EdgeModel",
      "state": {
       "_model_module": "jupyter-cytoscape",
       "_model_module_version": "^1.3.3",
       "_model_name": "EdgeModel",
       "_view_count": null,
       "_view_module": "jupyter-cytoscape",
       "_view_module_version": "^1.3.3",
       "_view_name": "EdgeView",
       "classes": " directed ",
       "data": {
        "source": "2332520259843700756",
        "target": "-2943528790924291807"
       },
       "pannable": true,
       "removed": false,
       "selectable": false,
       "selected": false
      }
     },
     "462749ac522e41cea5d0256c22ddd135": {
      "model_module": "jupyter-cytoscape",
      "model_module_version": "^1.3.3",
      "model_name": "EdgeModel",
      "state": {
       "_model_module": "jupyter-cytoscape",
       "_model_module_version": "^1.3.3",
       "_model_name": "EdgeModel",
       "_view_count": null,
       "_view_module": "jupyter-cytoscape",
       "_view_module_version": "^1.3.3",
       "_view_name": "EdgeView",
       "classes": " directed ",
       "data": {
        "source": "-1204491708059149465",
        "target": "-5470554817909911220"
       },
       "pannable": true,
       "removed": false,
       "selectable": false,
       "selected": false
      }
     },
     "46f2d9d1aff34d7b88387690771a64d7": {
      "model_module": "jupyter-cytoscape",
      "model_module_version": "^1.3.3",
      "model_name": "EdgeModel",
      "state": {
       "_model_module": "jupyter-cytoscape",
       "_model_module_version": "^1.3.3",
       "_model_name": "EdgeModel",
       "_view_count": null,
       "_view_module": "jupyter-cytoscape",
       "_view_module_version": "^1.3.3",
       "_view_name": "EdgeView",
       "classes": " directed ",
       "data": {
        "source": "6848211457268377597",
        "target": "-1979946239608582986"
       },
       "pannable": true,
       "removed": false,
       "selectable": false,
       "selected": false
      }
     },
     "47988a3b74924d84a5207b327b3b33cd": {
      "model_module": "jupyter-cytoscape",
      "model_module_version": "^1.3.3",
      "model_name": "EdgeModel",
      "state": {
       "_model_module": "jupyter-cytoscape",
       "_model_module_version": "^1.3.3",
       "_model_name": "EdgeModel",
       "_view_count": null,
       "_view_module": "jupyter-cytoscape",
       "_view_module_version": "^1.3.3",
       "_view_name": "EdgeView",
       "classes": " directed ",
       "data": {
        "source": "-3173066068558417915",
        "target": "5598287532537155435"
       },
       "pannable": true,
       "removed": false,
       "selectable": false,
       "selected": false
      }
     },
     "486eadd4f1a74f92b3d2bb12bd495d66": {
      "model_module": "jupyter-cytoscape",
      "model_module_version": "^1.3.3",
      "model_name": "NodeModel",
      "state": {
       "_model_module": "jupyter-cytoscape",
       "_model_module_version": "^1.3.3",
       "_model_name": "NodeModel",
       "_view_count": null,
       "_view_module": "jupyter-cytoscape",
       "_view_module_version": "^1.3.3",
       "_view_name": "NodeView",
       "classes": "",
       "data": {
        "color": "gray",
        "id": "7958576497265578578",
        "label": "series-count-chunk",
        "shape": "ellipse"
       },
       "grabbable": true,
       "grabbed": false,
       "locked": false,
       "pannable": false,
       "position": {},
       "removed": false,
       "selectable": false,
       "selected": false
      }
     },
     "487ba732320d4908823462a2ea172c83": {
      "model_module": "jupyter-cytoscape",
      "model_module_version": "^1.3.3",
      "model_name": "NodeModel",
      "state": {
       "_model_module": "jupyter-cytoscape",
       "_model_module_version": "^1.3.3",
       "_model_name": "NodeModel",
       "_view_count": null,
       "_view_module": "jupyter-cytoscape",
       "_view_module_version": "^1.3.3",
       "_view_name": "NodeView",
       "classes": "",
       "data": {
        "color": "gray",
        "id": "338565131902394957",
        "label": "moment_chunk",
        "shape": "ellipse"
       },
       "grabbable": true,
       "grabbed": false,
       "locked": false,
       "pannable": false,
       "position": {},
       "removed": false,
       "selectable": false,
       "selected": false
      }
     },
     "49797d2593064c2fb1035985dfccb049": {
      "model_module": "jupyter-cytoscape",
      "model_module_version": "^1.3.3",
      "model_name": "NodeModel",
      "state": {
       "_model_module": "jupyter-cytoscape",
       "_model_module_version": "^1.3.3",
       "_model_name": "NodeModel",
       "_view_count": null,
       "_view_module": "jupyter-cytoscape",
       "_view_module_version": "^1.3.3",
       "_view_name": "NodeView",
       "classes": "",
       "data": {
        "color": "gray",
        "id": "-5426521304922855690",
        "label": "7",
        "shape": "rectangle"
       },
       "grabbable": true,
       "grabbed": false,
       "locked": false,
       "pannable": false,
       "position": {},
       "removed": false,
       "selectable": false,
       "selected": false
      }
     },
     "4a50d3f9ead44f2aa91bb4665796e428": {
      "model_module": "jupyter-cytoscape",
      "model_module_version": "^1.3.3",
      "model_name": "EdgeModel",
      "state": {
       "_model_module": "jupyter-cytoscape",
       "_model_module_version": "^1.3.3",
       "_model_name": "EdgeModel",
       "_view_count": null,
       "_view_module": "jupyter-cytoscape",
       "_view_module_version": "^1.3.3",
       "_view_name": "EdgeView",
       "classes": " directed ",
       "data": {
        "source": "-1652547337611311416",
        "target": "-7551483226870930168"
       },
       "pannable": true,
       "removed": false,
       "selectable": false,
       "selected": false
      }
     },
     "4a6b3f01a8944c0ab2b7d408cc512014": {
      "model_module": "jupyter-cytoscape",
      "model_module_version": "^1.3.3",
      "model_name": "NodeModel",
      "state": {
       "_model_module": "jupyter-cytoscape",
       "_model_module_version": "^1.3.3",
       "_model_name": "NodeModel",
       "_view_count": null,
       "_view_module": "jupyter-cytoscape",
       "_view_module_version": "^1.3.3",
       "_view_name": "NodeView",
       "classes": "",
       "data": {
        "color": "gray",
        "id": "7351505355442331120",
        "label": "7",
        "shape": "rectangle"
       },
       "grabbable": true,
       "grabbed": false,
       "locked": false,
       "pannable": false,
       "position": {},
       "removed": false,
       "selectable": false,
       "selected": false
      }
     },
     "4a6d960c79b3408489e8f27ee8e2c67c": {
      "model_module": "jupyter-cytoscape",
      "model_module_version": "^1.3.3",
      "model_name": "EdgeModel",
      "state": {
       "_model_module": "jupyter-cytoscape",
       "_model_module_version": "^1.3.3",
       "_model_name": "EdgeModel",
       "_view_count": null,
       "_view_module": "jupyter-cytoscape",
       "_view_module_version": "^1.3.3",
       "_view_name": "EdgeView",
       "classes": " directed ",
       "data": {
        "source": "7910133727375015374",
        "target": "7813178480235993364"
       },
       "pannable": true,
       "removed": false,
       "selectable": false,
       "selected": false
      }
     },
     "4bb6299839ec400889fc76e33f784095": {
      "model_module": "jupyter-cytoscape",
      "model_module_version": "^1.3.3",
      "model_name": "NodeModel",
      "state": {
       "_model_module": "jupyter-cytoscape",
       "_model_module_version": "^1.3.3",
       "_model_name": "NodeModel",
       "_view_count": null,
       "_view_module": "jupyter-cytoscape",
       "_view_module_version": "^1.3.3",
       "_view_name": "NodeView",
       "classes": "",
       "data": {
        "color": "gray",
        "id": "717365426190231266",
        "label": "getitem",
        "shape": "ellipse"
       },
       "grabbable": true,
       "grabbed": false,
       "locked": false,
       "pannable": false,
       "position": {},
       "removed": false,
       "selectable": false,
       "selected": false
      }
     },
     "4bde8d1c34f54aed876b3684bb589013": {
      "model_module": "jupyter-cytoscape",
      "model_module_version": "^1.3.3",
      "model_name": "EdgeModel",
      "state": {
       "_model_module": "jupyter-cytoscape",
       "_model_module_version": "^1.3.3",
       "_model_name": "EdgeModel",
       "_view_count": null,
       "_view_module": "jupyter-cytoscape",
       "_view_module_version": "^1.3.3",
       "_view_name": "EdgeView",
       "classes": " directed ",
       "data": {
        "source": "4738928084150747300",
        "target": "2332520259843700756"
       },
       "pannable": true,
       "removed": false,
       "selectable": false,
       "selected": false
      }
     },
     "4c0b53c9618141d8a7790939159dd86f": {
      "model_module": "jupyter-cytoscape",
      "model_module_version": "^1.3.3",
      "model_name": "NodeModel",
      "state": {
       "_model_module": "jupyter-cytoscape",
       "_model_module_version": "^1.3.3",
       "_model_name": "NodeModel",
       "_view_count": null,
       "_view_module": "jupyter-cytoscape",
       "_view_module_version": "^1.3.3",
       "_view_name": "NodeView",
       "classes": "",
       "data": {
        "color": "gray",
        "id": "-6542908535435383880",
        "label": "0",
        "shape": "rectangle"
       },
       "grabbable": true,
       "grabbed": false,
       "locked": false,
       "pannable": false,
       "position": {},
       "removed": false,
       "selectable": false,
       "selected": false
      }
     },
     "4c397e6c5cca4fbfae06522ad580a45a": {
      "model_module": "jupyter-cytoscape",
      "model_module_version": "^1.3.3",
      "model_name": "NodeModel",
      "state": {
       "_model_module": "jupyter-cytoscape",
       "_model_module_version": "^1.3.3",
       "_model_name": "NodeModel",
       "_view_count": null,
       "_view_module": "jupyter-cytoscape",
       "_view_module_version": "^1.3.3",
       "_view_name": "NodeView",
       "classes": "",
       "data": {
        "color": "gray",
        "id": "3856782804520259570",
        "label": "values",
        "shape": "ellipse"
       },
       "grabbable": true,
       "grabbed": false,
       "locked": false,
       "pannable": false,
       "position": {},
       "removed": false,
       "selectable": false,
       "selected": false
      }
     },
     "4cc860f7e4234cb3adf8bdcdb87f7de3": {
      "model_module": "jupyter-cytoscape",
      "model_module_version": "^1.3.3",
      "model_name": "NodeModel",
      "state": {
       "_model_module": "jupyter-cytoscape",
       "_model_module_version": "^1.3.3",
       "_model_name": "NodeModel",
       "_view_count": null,
       "_view_module": "jupyter-cytoscape",
       "_view_module_version": "^1.3.3",
       "_view_name": "NodeView",
       "classes": "",
       "data": {
        "color": "gray",
        "id": "-7288947154238670769",
        "label": "6",
        "shape": "rectangle"
       },
       "grabbable": true,
       "grabbed": false,
       "locked": false,
       "pannable": false,
       "position": {},
       "removed": false,
       "selectable": false,
       "selected": false
      }
     },
     "4cfafaa3094245c9b2bfa787ee9dd433": {
      "model_module": "jupyter-cytoscape",
      "model_module_version": "^1.3.3",
      "model_name": "NodeModel",
      "state": {
       "_model_module": "jupyter-cytoscape",
       "_model_module_version": "^1.3.3",
       "_model_name": "NodeModel",
       "_view_count": null,
       "_view_module": "jupyter-cytoscape",
       "_view_module_version": "^1.3.3",
       "_view_name": "NodeView",
       "classes": "",
       "data": {
        "color": "gray",
        "id": "-7981147476444024036",
        "label": "0",
        "shape": "rectangle"
       },
       "grabbable": true,
       "grabbed": false,
       "locked": false,
       "pannable": false,
       "position": {},
       "removed": false,
       "selectable": false,
       "selected": false
      }
     },
     "4d0fef9685ec4f109bd1b7f857be8a87": {
      "model_module": "jupyter-cytoscape",
      "model_module_version": "^1.3.3",
      "model_name": "NodeModel",
      "state": {
       "_model_module": "jupyter-cytoscape",
       "_model_module_version": "^1.3.3",
       "_model_name": "NodeModel",
       "_view_count": null,
       "_view_module": "jupyter-cytoscape",
       "_view_module_version": "^1.3.3",
       "_view_name": "NodeView",
       "classes": "",
       "data": {
        "color": "gray",
        "id": "-37980610482009357",
        "label": "4",
        "shape": "rectangle"
       },
       "grabbable": true,
       "grabbed": false,
       "locked": false,
       "pannable": false,
       "position": {},
       "removed": false,
       "selectable": false,
       "selected": false
      }
     },
     "4d2e3db091d240b89b8ea1bd9184cf01": {
      "model_module": "jupyter-cytoscape",
      "model_module_version": "^1.3.3",
      "model_name": "NodeModel",
      "state": {
       "_model_module": "jupyter-cytoscape",
       "_model_module_version": "^1.3.3",
       "_model_name": "NodeModel",
       "_view_count": null,
       "_view_module": "jupyter-cytoscape",
       "_view_module_version": "^1.3.3",
       "_view_name": "NodeView",
       "classes": "",
       "data": {
        "color": "gray",
        "id": "-3923946721089635408",
        "label": "inv",
        "shape": "ellipse"
       },
       "grabbable": true,
       "grabbed": false,
       "locked": false,
       "pannable": false,
       "position": {},
       "removed": false,
       "selectable": false,
       "selected": false
      }
     },
     "4d3692a31ccb4e0eadccba63a041cca6": {
      "model_module": "jupyter-cytoscape",
      "model_module_version": "^1.3.3",
      "model_name": "EdgeModel",
      "state": {
       "_model_module": "jupyter-cytoscape",
       "_model_module_version": "^1.3.3",
       "_model_name": "EdgeModel",
       "_view_count": null,
       "_view_module": "jupyter-cytoscape",
       "_view_module_version": "^1.3.3",
       "_view_name": "EdgeView",
       "classes": " directed ",
       "data": {
        "source": "2054509409036201635",
        "target": "4567714699587265051"
       },
       "pannable": true,
       "removed": false,
       "selectable": false,
       "selected": false
      }
     },
     "4d4da1d086254595a57779f3e84b5b7d": {
      "model_module": "jupyter-cytoscape",
      "model_module_version": "^1.3.3",
      "model_name": "NodeModel",
      "state": {
       "_model_module": "jupyter-cytoscape",
       "_model_module_version": "^1.3.3",
       "_model_name": "NodeModel",
       "_view_count": null,
       "_view_module": "jupyter-cytoscape",
       "_view_module_version": "^1.3.3",
       "_view_name": "NodeView",
       "classes": "",
       "data": {
        "color": "gray",
        "id": "1765736428231983474",
        "label": "getitem",
        "shape": "ellipse"
       },
       "grabbable": true,
       "grabbed": false,
       "locked": false,
       "pannable": false,
       "position": {},
       "removed": false,
       "selectable": false,
       "selected": false
      }
     },
     "4d5389d200644c4986ebded3f4a31a02": {
      "model_module": "jupyter-cytoscape",
      "model_module_version": "^1.3.3",
      "model_name": "EdgeModel",
      "state": {
       "_model_module": "jupyter-cytoscape",
       "_model_module_version": "^1.3.3",
       "_model_name": "EdgeModel",
       "_view_count": null,
       "_view_module": "jupyter-cytoscape",
       "_view_module_version": "^1.3.3",
       "_view_name": "EdgeView",
       "classes": " directed ",
       "data": {
        "source": "-1207204539207773367",
        "target": "-347027367802321355"
       },
       "pannable": true,
       "removed": false,
       "selectable": false,
       "selected": false
      }
     },
     "4d792665856941dca5b797c6bfe23f96": {
      "model_module": "jupyter-cytoscape",
      "model_module_version": "^1.3.3",
      "model_name": "EdgeModel",
      "state": {
       "_model_module": "jupyter-cytoscape",
       "_model_module_version": "^1.3.3",
       "_model_name": "EdgeModel",
       "_view_count": null,
       "_view_module": "jupyter-cytoscape",
       "_view_module_version": "^1.3.3",
       "_view_name": "EdgeView",
       "classes": " directed ",
       "data": {
        "source": "3688582320913546901",
        "target": "-5470554817909911220"
       },
       "pannable": true,
       "removed": false,
       "selectable": false,
       "selected": false
      }
     },
     "4e61ac1fb20e4609858af81fa58cdcc0": {
      "model_module": "jupyter-cytoscape",
      "model_module_version": "^1.3.3",
      "model_name": "NodeModel",
      "state": {
       "_model_module": "jupyter-cytoscape",
       "_model_module_version": "^1.3.3",
       "_model_name": "NodeModel",
       "_view_count": null,
       "_view_module": "jupyter-cytoscape",
       "_view_module_version": "^1.3.3",
       "_view_name": "NodeView",
       "classes": "",
       "data": {
        "color": "gray",
        "id": "-4931054639454705723",
        "label": "5",
        "shape": "rectangle"
       },
       "grabbable": true,
       "grabbed": false,
       "locked": false,
       "pannable": false,
       "position": {},
       "removed": false,
       "selectable": false,
       "selected": false
      }
     },
     "4f6d2207a2a24732abe3f8b1e2cf627c": {
      "model_module": "jupyter-cytoscape",
      "model_module_version": "^1.3.3",
      "model_name": "NodeModel",
      "state": {
       "_model_module": "jupyter-cytoscape",
       "_model_module_version": "^1.3.3",
       "_model_name": "NodeModel",
       "_view_count": null,
       "_view_module": "jupyter-cytoscape",
       "_view_module_version": "^1.3.3",
       "_view_name": "NodeView",
       "classes": "",
       "data": {
        "color": "gray",
        "id": "3685869489764922999",
        "label": "7",
        "shape": "rectangle"
       },
       "grabbable": true,
       "grabbed": false,
       "locked": false,
       "pannable": false,
       "position": {},
       "removed": false,
       "selectable": false,
       "selected": false
      }
     },
     "5031e2e4f988464b88a4a6aebdc16994": {
      "model_module": "jupyter-cytoscape",
      "model_module_version": "^1.3.3",
      "model_name": "NodeModel",
      "state": {
       "_model_module": "jupyter-cytoscape",
       "_model_module_version": "^1.3.3",
       "_model_name": "NodeModel",
       "_view_count": null,
       "_view_module": "jupyter-cytoscape",
       "_view_module_version": "^1.3.3",
       "_view_name": "NodeView",
       "classes": "",
       "data": {
        "color": "gray",
        "id": "-2367700661888899338",
        "label": "read-csv",
        "shape": "ellipse"
       },
       "grabbable": true,
       "grabbed": false,
       "locked": false,
       "pannable": false,
       "position": {},
       "removed": false,
       "selectable": false,
       "selected": false
      }
     },
     "5066684eacb54a7eb06d38d5d94d758f": {
      "model_module": "jupyter-cytoscape",
      "model_module_version": "^1.3.3",
      "model_name": "NodeModel",
      "state": {
       "_model_module": "jupyter-cytoscape",
       "_model_module_version": "^1.3.3",
       "_model_name": "NodeModel",
       "_view_count": null,
       "_view_module": "jupyter-cytoscape",
       "_view_module_version": "^1.3.3",
       "_view_name": "NodeView",
       "classes": "",
       "data": {
        "color": "gray",
        "id": "-6896916168805350271",
        "label": "4",
        "shape": "rectangle"
       },
       "grabbable": true,
       "grabbed": false,
       "locked": false,
       "pannable": false,
       "position": {},
       "removed": false,
       "selectable": false,
       "selected": false
      }
     },
     "506a92c366ed4f8fa82181ea900457c7": {
      "model_module": "jupyter-cytoscape",
      "model_module_version": "^1.3.3",
      "model_name": "NodeModel",
      "state": {
       "_model_module": "jupyter-cytoscape",
       "_model_module_version": "^1.3.3",
       "_model_name": "NodeModel",
       "_view_count": null,
       "_view_module": "jupyter-cytoscape",
       "_view_module_version": "^1.3.3",
       "_view_name": "NodeView",
       "classes": "",
       "data": {
        "color": "gray",
        "id": "-6154383170744313460",
        "label": "values",
        "shape": "ellipse"
       },
       "grabbable": true,
       "grabbed": false,
       "locked": false,
       "pannable": false,
       "position": {},
       "removed": false,
       "selectable": false,
       "selected": false
      }
     },
     "5070307b22024241aa1465332ffa1479": {
      "model_module": "jupyter-cytoscape",
      "model_module_version": "^1.3.3",
      "model_name": "NodeModel",
      "state": {
       "_model_module": "jupyter-cytoscape",
       "_model_module_version": "^1.3.3",
       "_model_name": "NodeModel",
       "_view_count": null,
       "_view_module": "jupyter-cytoscape",
       "_view_module_version": "^1.3.3",
       "_view_name": "NodeView",
       "classes": "",
       "data": {
        "color": "gray",
        "id": "2458431326469634754",
        "label": "8",
        "shape": "rectangle"
       },
       "grabbable": true,
       "grabbed": false,
       "locked": false,
       "pannable": false,
       "position": {},
       "removed": false,
       "selectable": false,
       "selected": false
      }
     },
     "50dc4f9535aa4a20b39d4ab1508415f7": {
      "model_module": "jupyter-cytoscape",
      "model_module_version": "^1.3.3",
      "model_name": "NodeModel",
      "state": {
       "_model_module": "jupyter-cytoscape",
       "_model_module_version": "^1.3.3",
       "_model_name": "NodeModel",
       "_view_count": null,
       "_view_module": "jupyter-cytoscape",
       "_view_module_version": "^1.3.3",
       "_view_name": "NodeView",
       "classes": "",
       "data": {
        "color": "gray",
        "id": "-35267779333385455",
        "label": "1",
        "shape": "rectangle"
       },
       "grabbable": true,
       "grabbed": false,
       "locked": false,
       "pannable": false,
       "position": {},
       "removed": false,
       "selectable": false,
       "selected": false
      }
     },
     "50e9f113b35142c2bf85f766eeee9317": {
      "model_module": "jupyter-cytoscape",
      "model_module_version": "^1.3.3",
      "model_name": "EdgeModel",
      "state": {
       "_model_module": "jupyter-cytoscape",
       "_model_module_version": "^1.3.3",
       "_model_name": "EdgeModel",
       "_view_count": null,
       "_view_module": "jupyter-cytoscape",
       "_view_module_version": "^1.3.3",
       "_view_name": "EdgeView",
       "classes": " directed ",
       "data": {
        "source": "7066023926891564141",
        "target": "4738928084150747300"
       },
       "pannable": true,
       "removed": false,
       "selectable": false,
       "selected": false
      }
     },
     "50f245a02e2d44ab9b53ff87693814d7": {
      "model_module": "jupyter-cytoscape",
      "model_module_version": "^1.3.3",
      "model_name": "EdgeModel",
      "state": {
       "_model_module": "jupyter-cytoscape",
       "_model_module_version": "^1.3.3",
       "_model_name": "EdgeModel",
       "_view_count": null,
       "_view_module": "jupyter-cytoscape",
       "_view_module_version": "^1.3.3",
       "_view_name": "EdgeView",
       "classes": " directed ",
       "data": {
        "source": "-2784073144757156028",
        "target": "-4505156498383604700"
       },
       "pannable": true,
       "removed": false,
       "selectable": false,
       "selected": false
      }
     },
     "511d6b41d11d4367b97fbef8af722f20": {
      "model_module": "jupyter-cytoscape",
      "model_module_version": "^1.3.3",
      "model_name": "NodeModel",
      "state": {
       "_model_module": "jupyter-cytoscape",
       "_model_module_version": "^1.3.3",
       "_model_name": "NodeModel",
       "_view_count": null,
       "_view_module": "jupyter-cytoscape",
       "_view_module_version": "^1.3.3",
       "_view_name": "NodeView",
       "classes": "",
       "data": {
        "color": "gray",
        "id": "-979352091332914610",
        "label": "1",
        "shape": "rectangle"
       },
       "grabbable": true,
       "grabbed": false,
       "locked": false,
       "pannable": false,
       "position": {},
       "removed": false,
       "selectable": false,
       "selected": false
      }
     },
     "513d4eee06884824a399f193e701d701": {
      "model_module": "jupyter-cytoscape",
      "model_module_version": "^1.3.3",
      "model_name": "NodeModel",
      "state": {
       "_model_module": "jupyter-cytoscape",
       "_model_module_version": "^1.3.3",
       "_model_name": "NodeModel",
       "_view_count": null,
       "_view_module": "jupyter-cytoscape",
       "_view_module_version": "^1.3.3",
       "_view_name": "NodeView",
       "classes": "",
       "data": {
        "color": "gray",
        "id": "9137326455314178785",
        "label": "1",
        "shape": "rectangle"
       },
       "grabbable": true,
       "grabbed": false,
       "locked": false,
       "pannable": false,
       "position": {},
       "removed": false,
       "selectable": false,
       "selected": false
      }
     },
     "515ac26a2f6840e3ab43e8c9fae3627e": {
      "model_module": "jupyter-cytoscape",
      "model_module_version": "^1.3.3",
      "model_name": "EdgeModel",
      "state": {
       "_model_module": "jupyter-cytoscape",
       "_model_module_version": "^1.3.3",
       "_model_name": "EdgeModel",
       "_view_count": null,
       "_view_module": "jupyter-cytoscape",
       "_view_module_version": "^1.3.3",
       "_view_name": "EdgeView",
       "classes": " directed ",
       "data": {
        "source": "2944965432535025934",
        "target": "-6542908535435383880"
       },
       "pannable": true,
       "removed": false,
       "selectable": false,
       "selected": false
      }
     },
     "5167a988145b4e6c817b6a3ca69e456c": {
      "model_module": "jupyter-cytoscape",
      "model_module_version": "^1.3.3",
      "model_name": "EdgeModel",
      "state": {
       "_model_module": "jupyter-cytoscape",
       "_model_module_version": "^1.3.3",
       "_model_name": "EdgeModel",
       "_view_count": null,
       "_view_module": "jupyter-cytoscape",
       "_view_module_version": "^1.3.3",
       "_view_name": "EdgeView",
       "classes": " directed ",
       "data": {
        "source": "-2642730649067789621",
        "target": "5151866381069614361"
       },
       "pannable": true,
       "removed": false,
       "selectable": false,
       "selected": false
      }
     },
     "5184f60b6ec947f397c07da978d11346": {
      "model_module": "jupyter-cytoscape",
      "model_module_version": "^1.3.3",
      "model_name": "NodeModel",
      "state": {
       "_model_module": "jupyter-cytoscape",
       "_model_module_version": "^1.3.3",
       "_model_name": "NodeModel",
       "_view_count": null,
       "_view_module": "jupyter-cytoscape",
       "_view_module_version": "^1.3.3",
       "_view_name": "NodeView",
       "classes": "",
       "data": {
        "color": "gray",
        "id": "9026999148289781316",
        "label": "9",
        "shape": "rectangle"
       },
       "grabbable": true,
       "grabbed": false,
       "locked": false,
       "pannable": false,
       "position": {},
       "removed": false,
       "selectable": false,
       "selected": false
      }
     },
     "51985d8274e64850accdd0579b53f7e0": {
      "model_module": "jupyter-cytoscape",
      "model_module_version": "^1.3.3",
      "model_name": "NodeModel",
      "state": {
       "_model_module": "jupyter-cytoscape",
       "_model_module_version": "^1.3.3",
       "_model_name": "NodeModel",
       "_view_count": null,
       "_view_module": "jupyter-cytoscape",
       "_view_module_version": "^1.3.3",
       "_view_name": "NodeView",
       "classes": "",
       "data": {
        "color": "gray",
        "id": "8312079320624149884",
        "label": "0",
        "shape": "rectangle"
       },
       "grabbable": true,
       "grabbed": false,
       "locked": false,
       "pannable": false,
       "position": {},
       "removed": false,
       "selectable": false,
       "selected": false
      }
     },
     "5231a3d6371e420fb164b96bb96ea135": {
      "model_module": "jupyter-cytoscape",
      "model_module_version": "^1.3.3",
      "model_name": "EdgeModel",
      "state": {
       "_model_module": "jupyter-cytoscape",
       "_model_module_version": "^1.3.3",
       "_model_name": "EdgeModel",
       "_view_count": null,
       "_view_module": "jupyter-cytoscape",
       "_view_module_version": "^1.3.3",
       "_view_name": "EdgeView",
       "classes": " directed ",
       "data": {
        "source": "904791665058480832",
        "target": "-5470554817909911220"
       },
       "pannable": true,
       "removed": false,
       "selectable": false,
       "selected": false
      }
     },
     "53d56a496fc747448ad68f3af60178b4": {
      "model_module": "jupyter-cytoscape",
      "model_module_version": "^1.3.3",
      "model_name": "EdgeModel",
      "state": {
       "_model_module": "jupyter-cytoscape",
       "_model_module_version": "^1.3.3",
       "_model_name": "EdgeModel",
       "_view_count": null,
       "_view_module": "jupyter-cytoscape",
       "_view_module_version": "^1.3.3",
       "_view_name": "EdgeView",
       "classes": " directed ",
       "data": {
        "source": "-5727319446779357876",
        "target": "3281120778090696937"
       },
       "pannable": true,
       "removed": false,
       "selectable": false,
       "selected": false
      }
     },
     "54117686647848e4b005e76a09200430": {
      "model_module": "jupyter-cytoscape",
      "model_module_version": "^1.3.3",
      "model_name": "EdgeModel",
      "state": {
       "_model_module": "jupyter-cytoscape",
       "_model_module_version": "^1.3.3",
       "_model_name": "EdgeModel",
       "_view_count": null,
       "_view_module": "jupyter-cytoscape",
       "_view_module_version": "^1.3.3",
       "_view_name": "EdgeView",
       "classes": " directed ",
       "data": {
        "source": "8995574526683261384",
        "target": "5926214000660163664"
       },
       "pannable": true,
       "removed": false,
       "selectable": false,
       "selected": false
      }
     },
     "545c4443ab2b440dbf1e1bfb48207de6": {
      "model_module": "jupyter-cytoscape",
      "model_module_version": "^1.3.3",
      "model_name": "NodeModel",
      "state": {
       "_model_module": "jupyter-cytoscape",
       "_model_module_version": "^1.3.3",
       "_model_name": "NodeModel",
       "_view_count": null,
       "_view_module": "jupyter-cytoscape",
       "_view_module_version": "^1.3.3",
       "_view_name": "NodeView",
       "classes": "",
       "data": {
        "color": "gray",
        "id": "833260328992629715",
        "label": "9",
        "shape": "rectangle"
       },
       "grabbable": true,
       "grabbed": false,
       "locked": false,
       "pannable": false,
       "position": {},
       "removed": false,
       "selectable": false,
       "selected": false
      }
     },
     "54d1e47a706c408d9e710ffa155d5639": {
      "model_module": "jupyter-cytoscape",
      "model_module_version": "^1.3.3",
      "model_name": "EdgeModel",
      "state": {
       "_model_module": "jupyter-cytoscape",
       "_model_module_version": "^1.3.3",
       "_model_name": "EdgeModel",
       "_view_count": null,
       "_view_module": "jupyter-cytoscape",
       "_view_module_version": "^1.3.3",
       "_view_name": "EdgeView",
       "classes": " directed ",
       "data": {
        "source": "5151866381069614361",
        "target": "6656753875931504979"
       },
       "pannable": true,
       "removed": false,
       "selectable": false,
       "selected": false
      }
     },
     "553256c894b049849b36a5fbbae1f010": {
      "model_module": "jupyter-cytoscape",
      "model_module_version": "^1.3.3",
      "model_name": "NodeModel",
      "state": {
       "_model_module": "jupyter-cytoscape",
       "_model_module_version": "^1.3.3",
       "_model_name": "NodeModel",
       "_view_count": null,
       "_view_module": "jupyter-cytoscape",
       "_view_module_version": "^1.3.3",
       "_view_name": "NodeView",
       "classes": "",
       "data": {
        "color": "gray",
        "id": "7066023926891564141",
        "label": "read-csv",
        "shape": "ellipse"
       },
       "grabbable": true,
       "grabbed": false,
       "locked": false,
       "pannable": false,
       "position": {},
       "removed": false,
       "selectable": false,
       "selected": false
      }
     },
     "58b01ef729de4876b0419a15f9980f0a": {
      "model_module": "jupyter-cytoscape",
      "model_module_version": "^1.3.3",
      "model_name": "EdgeModel",
      "state": {
       "_model_module": "jupyter-cytoscape",
       "_model_module_version": "^1.3.3",
       "_model_name": "EdgeModel",
       "_view_count": null,
       "_view_module": "jupyter-cytoscape",
       "_view_module_version": "^1.3.3",
       "_view_name": "EdgeView",
       "classes": " directed ",
       "data": {
        "source": "3281120778090696937",
        "target": "-37980610482009357"
       },
       "pannable": true,
       "removed": false,
       "selectable": false,
       "selected": false
      }
     },
     "58fd988d80ed457f857749b6567aabde": {
      "model_module": "jupyter-cytoscape",
      "model_module_version": "^1.3.3",
      "model_name": "EdgeModel",
      "state": {
       "_model_module": "jupyter-cytoscape",
       "_model_module_version": "^1.3.3",
       "_model_name": "EdgeModel",
       "_view_count": null,
       "_view_module": "jupyter-cytoscape",
       "_view_module_version": "^1.3.3",
       "_view_name": "EdgeView",
       "classes": " directed ",
       "data": {
        "source": "-8524918260484342332",
        "target": "-3811954577793553631"
       },
       "pannable": true,
       "removed": false,
       "selectable": false,
       "selected": false
      }
     },
     "59d93dd1b5864de4830019b1249ee95f": {
      "model_module": "jupyter-cytoscape",
      "model_module_version": "^1.3.3",
      "model_name": "EdgeModel",
      "state": {
       "_model_module": "jupyter-cytoscape",
       "_model_module_version": "^1.3.3",
       "_model_name": "EdgeModel",
       "_view_count": null,
       "_view_module": "jupyter-cytoscape",
       "_view_module_version": "^1.3.3",
       "_view_name": "EdgeView",
       "classes": " directed ",
       "data": {
        "source": "7813178480235993364",
        "target": "-7667573071521055037"
       },
       "pannable": true,
       "removed": false,
       "selectable": false,
       "selected": false
      }
     },
     "5ab4cfa5eb9942efa5a5bccf960e19fa": {
      "model_module": "jupyter-cytoscape",
      "model_module_version": "^1.3.3",
      "model_name": "EdgeModel",
      "state": {
       "_model_module": "jupyter-cytoscape",
       "_model_module_version": "^1.3.3",
       "_model_name": "EdgeModel",
       "_view_count": null,
       "_view_module": "jupyter-cytoscape",
       "_view_module_version": "^1.3.3",
       "_view_name": "EdgeView",
       "classes": " directed ",
       "data": {
        "source": "7293554255671915646",
        "target": "-8433422143760217297"
       },
       "pannable": true,
       "removed": false,
       "selectable": false,
       "selected": false
      }
     },
     "5aeba898706d4a61b0254be3418ef1a1": {
      "model_module": "jupyter-cytoscape",
      "model_module_version": "^1.3.3",
      "model_name": "NodeModel",
      "state": {
       "_model_module": "jupyter-cytoscape",
       "_model_module_version": "^1.3.3",
       "_model_name": "NodeModel",
       "_view_count": null,
       "_view_module": "jupyter-cytoscape",
       "_view_module_version": "^1.3.3",
       "_view_name": "NodeView",
       "classes": "",
       "data": {
        "color": "gray",
        "id": "8462778184397679656",
        "label": "5",
        "shape": "rectangle"
       },
       "grabbable": true,
       "grabbed": false,
       "locked": false,
       "pannable": false,
       "position": {},
       "removed": false,
       "selectable": false,
       "selected": false
      }
     },
     "5bb6138a531847cfae3beb35ac1cf968": {
      "model_module": "jupyter-cytoscape",
      "model_module_version": "^1.3.3",
      "model_name": "NodeModel",
      "state": {
       "_model_module": "jupyter-cytoscape",
       "_model_module_version": "^1.3.3",
       "_model_name": "NodeModel",
       "_view_count": null,
       "_view_module": "jupyter-cytoscape",
       "_view_module_version": "^1.3.3",
       "_view_name": "NodeView",
       "classes": "",
       "data": {
        "color": "gray",
        "id": "-966399588917445790",
        "label": "series-count-chunk",
        "shape": "ellipse"
       },
       "grabbable": true,
       "grabbed": false,
       "locked": false,
       "pannable": false,
       "position": {},
       "removed": false,
       "selectable": false,
       "selected": false
      }
     },
     "5bfe998590c54655bfe2298f42c445fe": {
      "model_module": "jupyter-cytoscape",
      "model_module_version": "^1.3.3",
      "model_name": "EdgeModel",
      "state": {
       "_model_module": "jupyter-cytoscape",
       "_model_module_version": "^1.3.3",
       "_model_name": "EdgeModel",
       "_view_count": null,
       "_view_module": "jupyter-cytoscape",
       "_view_module_version": "^1.3.3",
       "_view_name": "EdgeView",
       "classes": " directed ",
       "data": {
        "source": "2458431326469634754",
        "target": "-7292886061394010587"
       },
       "pannable": true,
       "removed": false,
       "selectable": false,
       "selected": false
      }
     },
     "5c274f7a83c8495facddd55d4efb2396": {
      "model_module": "jupyter-cytoscape",
      "model_module_version": "^1.3.3",
      "model_name": "NodeModel",
      "state": {
       "_model_module": "jupyter-cytoscape",
       "_model_module_version": "^1.3.3",
       "_model_name": "NodeModel",
       "_view_count": null,
       "_view_module": "jupyter-cytoscape",
       "_view_module_version": "^1.3.3",
       "_view_name": "NodeView",
       "classes": "",
       "data": {
        "color": "gray",
        "id": "-9150371405169788046",
        "label": "4",
        "shape": "rectangle"
       },
       "grabbable": true,
       "grabbed": false,
       "locked": false,
       "pannable": false,
       "position": {},
       "removed": false,
       "selectable": false,
       "selected": false
      }
     },
     "5c5a6d6d94ee4080b9e912c44745c4e9": {
      "model_module": "jupyter-cytoscape",
      "model_module_version": "^1.3.3",
      "model_name": "NodeModel",
      "state": {
       "_model_module": "jupyter-cytoscape",
       "_model_module_version": "^1.3.3",
       "_model_name": "NodeModel",
       "_view_count": null,
       "_view_module": "jupyter-cytoscape",
       "_view_module_version": "^1.3.3",
       "_view_name": "NodeView",
       "classes": "",
       "data": {
        "color": "gray",
        "id": "2717369954156600471",
        "label": "getitem",
        "shape": "ellipse"
       },
       "grabbable": true,
       "grabbed": false,
       "locked": false,
       "pannable": false,
       "position": {},
       "removed": false,
       "selectable": false,
       "selected": false
      }
     },
     "5c90cb1aada64bfeb6d1cb6d32418233": {
      "model_module": "jupyter-cytoscape",
      "model_module_version": "^1.3.3",
      "model_name": "EdgeModel",
      "state": {
       "_model_module": "jupyter-cytoscape",
       "_model_module_version": "^1.3.3",
       "_model_name": "EdgeModel",
       "_view_count": null,
       "_view_module": "jupyter-cytoscape",
       "_view_module_version": "^1.3.3",
       "_view_name": "EdgeView",
       "classes": " directed ",
       "data": {
        "source": "-4625039462178049713",
        "target": "-7288947154238670769"
       },
       "pannable": true,
       "removed": false,
       "selectable": false,
       "selected": false
      }
     },
     "5cb806476e6f4319be1ce6fc98669ea8": {
      "model_module": "jupyter-cytoscape",
      "model_module_version": "^1.3.3",
      "model_name": "EdgeModel",
      "state": {
       "_model_module": "jupyter-cytoscape",
       "_model_module_version": "^1.3.3",
       "_model_name": "EdgeModel",
       "_view_count": null,
       "_view_module": "jupyter-cytoscape",
       "_view_module_version": "^1.3.3",
       "_view_name": "EdgeView",
       "classes": " directed ",
       "data": {
        "source": "-7288947154238670769",
        "target": "717365426190231266"
       },
       "pannable": true,
       "removed": false,
       "selectable": false,
       "selected": false
      }
     },
     "5d0a461f91e2410bbe3ae50c59f3a53e": {
      "model_module": "jupyter-cytoscape",
      "model_module_version": "^1.3.3",
      "model_name": "NodeModel",
      "state": {
       "_model_module": "jupyter-cytoscape",
       "_model_module_version": "^1.3.3",
       "_model_name": "NodeModel",
       "_view_count": null,
       "_view_module": "jupyter-cytoscape",
       "_view_module_version": "^1.3.3",
       "_view_name": "NodeView",
       "classes": "",
       "data": {
        "color": "gray",
        "id": "4567714699587265051",
        "label": "9",
        "shape": "rectangle"
       },
       "grabbable": true,
       "grabbed": false,
       "locked": false,
       "pannable": false,
       "position": {},
       "removed": false,
       "selectable": false,
       "selected": false
      }
     },
     "5d16458dfe6245f4b4a6336ae6c47b91": {
      "model_module": "jupyter-cytoscape",
      "model_module_version": "^1.3.3",
      "model_name": "EdgeModel",
      "state": {
       "_model_module": "jupyter-cytoscape",
       "_model_module_version": "^1.3.3",
       "_model_name": "EdgeModel",
       "_view_count": null,
       "_view_module": "jupyter-cytoscape",
       "_view_module_version": "^1.3.3",
       "_view_name": "EdgeView",
       "classes": " directed ",
       "data": {
        "source": "8766037249049135276",
        "target": "5598287532537155435"
       },
       "pannable": true,
       "removed": false,
       "selectable": false,
       "selected": false
      }
     },
     "5dfe15aebad94e09868afb170940c1c0": {
      "model_module": "jupyter-cytoscape",
      "model_module_version": "^1.3.3",
      "model_name": "EdgeModel",
      "state": {
       "_model_module": "jupyter-cytoscape",
       "_model_module_version": "^1.3.3",
       "_model_name": "EdgeModel",
       "_view_count": null,
       "_view_module": "jupyter-cytoscape",
       "_view_module_version": "^1.3.3",
       "_view_name": "EdgeView",
       "classes": " directed ",
       "data": {
        "source": "-6631148748276159362",
        "target": "-4112752719650055817"
       },
       "pannable": true,
       "removed": false,
       "selectable": false,
       "selected": false
      }
     },
     "5eae232085b94f0783fce2f1d07d4f30": {
      "model_module": "jupyter-cytoscape",
      "model_module_version": "^1.3.3",
      "model_name": "EdgeModel",
      "state": {
       "_model_module": "jupyter-cytoscape",
       "_model_module_version": "^1.3.3",
       "_model_name": "EdgeModel",
       "_view_count": null,
       "_view_module": "jupyter-cytoscape",
       "_view_module_version": "^1.3.3",
       "_view_name": "EdgeView",
       "classes": " directed ",
       "data": {
        "source": "-4494552228035901720",
        "target": "9143195929476779555"
       },
       "pannable": true,
       "removed": false,
       "selectable": false,
       "selected": false
      }
     },
     "603f6a6062d44295a2fb742b0a5b49f8": {
      "model_module": "jupyter-cytoscape",
      "model_module_version": "^1.3.3",
      "model_name": "EdgeModel",
      "state": {
       "_model_module": "jupyter-cytoscape",
       "_model_module_version": "^1.3.3",
       "_model_name": "EdgeModel",
       "_view_count": null,
       "_view_module": "jupyter-cytoscape",
       "_view_module_version": "^1.3.3",
       "_view_name": "EdgeView",
       "classes": " directed ",
       "data": {
        "source": "5697749121941153255",
        "target": "3627655255195398764"
       },
       "pannable": true,
       "removed": false,
       "selectable": false,
       "selected": false
      }
     },
     "6096195742ee4980b3207d3de1e9f160": {
      "model_module": "jupyter-cytoscape",
      "model_module_version": "^1.3.3",
      "model_name": "NodeModel",
      "state": {
       "_model_module": "jupyter-cytoscape",
       "_model_module_version": "^1.3.3",
       "_model_name": "NodeModel",
       "_view_count": null,
       "_view_module": "jupyter-cytoscape",
       "_view_module_version": "^1.3.3",
       "_view_name": "NodeView",
       "classes": "",
       "data": {
        "color": "gray",
        "id": "-5727692240079586261",
        "label": "0",
        "shape": "rectangle"
       },
       "grabbable": true,
       "grabbed": false,
       "locked": false,
       "pannable": false,
       "position": {},
       "removed": false,
       "selectable": false,
       "selected": false
      }
     },
     "60ea0cd299314dd395ce5d3051c29337": {
      "model_module": "jupyter-cytoscape",
      "model_module_version": "^1.3.3",
      "model_name": "NodeModel",
      "state": {
       "_model_module": "jupyter-cytoscape",
       "_model_module_version": "^1.3.3",
       "_model_name": "NodeModel",
       "_view_count": null,
       "_view_module": "jupyter-cytoscape",
       "_view_module_version": "^1.3.3",
       "_view_name": "NodeView",
       "classes": "",
       "data": {
        "color": "gray",
        "id": "-5332837348518615543",
        "label": "read-csv",
        "shape": "ellipse"
       },
       "grabbable": true,
       "grabbed": false,
       "locked": false,
       "pannable": false,
       "position": {},
       "removed": false,
       "selectable": false,
       "selected": false
      }
     },
     "62c04ca660ae4227a4476e2309663a32": {
      "model_module": "jupyter-cytoscape",
      "model_module_version": "^1.3.3",
      "model_name": "EdgeModel",
      "state": {
       "_model_module": "jupyter-cytoscape",
       "_model_module_version": "^1.3.3",
       "_model_name": "EdgeModel",
       "_view_count": null,
       "_view_module": "jupyter-cytoscape",
       "_view_module_version": "^1.3.3",
       "_view_name": "EdgeView",
       "classes": " directed ",
       "data": {
        "source": "1765736428231983474",
        "target": "2487933770581262959"
       },
       "pannable": true,
       "removed": false,
       "selectable": false,
       "selected": false
      }
     },
     "62e776f90596414fa36b3c0636a8287d": {
      "model_module": "jupyter-cytoscape",
      "model_module_version": "^1.3.3",
      "model_name": "EdgeModel",
      "state": {
       "_model_module": "jupyter-cytoscape",
       "_model_module_version": "^1.3.3",
       "_model_name": "EdgeModel",
       "_view_count": null,
       "_view_module": "jupyter-cytoscape",
       "_view_module_version": "^1.3.3",
       "_view_name": "EdgeView",
       "classes": " directed ",
       "data": {
        "source": "2013088528066096705",
        "target": "-3096627135387924609"
       },
       "pannable": true,
       "removed": false,
       "selectable": false,
       "selected": false
      }
     },
     "639b884991bc4c81970ad24467c759d1": {
      "model_module": "jupyter-cytoscape",
      "model_module_version": "^1.3.3",
      "model_name": "NodeModel",
      "state": {
       "_model_module": "jupyter-cytoscape",
       "_model_module_version": "^1.3.3",
       "_model_name": "NodeModel",
       "_view_count": null,
       "_view_module": "jupyter-cytoscape",
       "_view_module_version": "^1.3.3",
       "_view_name": "NodeView",
       "classes": "",
       "data": {
        "color": "gray",
        "id": "48662832161684008",
        "label": "series-std",
        "shape": "ellipse"
       },
       "grabbable": true,
       "grabbed": false,
       "locked": false,
       "pannable": false,
       "position": {},
       "removed": false,
       "selectable": false,
       "selected": false
      }
     },
     "63cf1d9ffd1045c2abba12df59da2c5b": {
      "model_module": "jupyter-cytoscape",
      "model_module_version": "^1.3.3",
      "model_name": "NodeModel",
      "state": {
       "_model_module": "jupyter-cytoscape",
       "_model_module_version": "^1.3.3",
       "_model_name": "NodeModel",
       "_view_count": null,
       "_view_module": "jupyter-cytoscape",
       "_view_module_version": "^1.3.3",
       "_view_name": "NodeView",
       "classes": "",
       "data": {
        "color": "gray",
        "id": "5042187148802202920",
        "label": "3",
        "shape": "rectangle"
       },
       "grabbable": true,
       "grabbed": false,
       "locked": false,
       "pannable": false,
       "position": {},
       "removed": false,
       "selectable": false,
       "selected": false
      }
     },
     "63e1b45439fe4af2a8eabacd17251d99": {
      "model_module": "jupyter-cytoscape",
      "model_module_version": "^1.3.3",
      "model_name": "EdgeModel",
      "state": {
       "_model_module": "jupyter-cytoscape",
       "_model_module_version": "^1.3.3",
       "_model_name": "EdgeModel",
       "_view_count": null,
       "_view_module": "jupyter-cytoscape",
       "_view_module_version": "^1.3.3",
       "_view_name": "EdgeView",
       "classes": " directed ",
       "data": {
        "source": "5572522568292831214",
        "target": "-6154383170744313460"
       },
       "pannable": true,
       "removed": false,
       "selectable": false,
       "selected": false
      }
     },
     "642114a7bc6b405a91ea39e309929ce5": {
      "model_module": "jupyter-cytoscape",
      "model_module_version": "^1.3.3",
      "model_name": "EdgeModel",
      "state": {
       "_model_module": "jupyter-cytoscape",
       "_model_module_version": "^1.3.3",
       "_model_name": "EdgeModel",
       "_view_count": null,
       "_view_module": "jupyter-cytoscape",
       "_view_module_version": "^1.3.3",
       "_view_name": "EdgeView",
       "classes": " directed ",
       "data": {
        "source": "-6896543375505121886",
        "target": "7050384369868986184"
       },
       "pannable": true,
       "removed": false,
       "selectable": false,
       "selected": false
      }
     },
     "661bb671af544fd78c474ae3807af22e": {
      "model_module": "jupyter-cytoscape",
      "model_module_version": "^1.3.3",
      "model_name": "EdgeModel",
      "state": {
       "_model_module": "jupyter-cytoscape",
       "_model_module_version": "^1.3.3",
       "_model_name": "EdgeModel",
       "_view_count": null,
       "_view_module": "jupyter-cytoscape",
       "_view_module_version": "^1.3.3",
       "_view_name": "EdgeView",
       "classes": " directed ",
       "data": {
        "source": "-6896916168805350271",
        "target": "5598287532537155435"
       },
       "pannable": true,
       "removed": false,
       "selectable": false,
       "selected": false
      }
     },
     "66638b886f284b0abc9d41d1b4368208": {
      "model_module": "jupyter-cytoscape",
      "model_module_version": "^1.3.3",
      "model_name": "EdgeModel",
      "state": {
       "_model_module": "jupyter-cytoscape",
       "_model_module_version": "^1.3.3",
       "_model_name": "EdgeModel",
       "_view_count": null,
       "_view_module": "jupyter-cytoscape",
       "_view_module_version": "^1.3.3",
       "_view_name": "EdgeView",
       "classes": " directed ",
       "data": {
        "source": "-8051121799489138365",
        "target": "-8066140097531114281"
       },
       "pannable": true,
       "removed": false,
       "selectable": false,
       "selected": false
      }
     },
     "67052735c47541c3a5433b30377b8334": {
      "model_module": "jupyter-cytoscape",
      "model_module_version": "^1.3.3",
      "model_name": "NodeModel",
      "state": {
       "_model_module": "jupyter-cytoscape",
       "_model_module_version": "^1.3.3",
       "_model_name": "NodeModel",
       "_view_count": null,
       "_view_module": "jupyter-cytoscape",
       "_view_module_version": "^1.3.3",
       "_view_name": "NodeView",
       "classes": "",
       "data": {
        "color": "gray",
        "id": "-4586346540241213963",
        "label": "getitem",
        "shape": "ellipse"
       },
       "grabbable": true,
       "grabbed": false,
       "locked": false,
       "pannable": false,
       "position": {},
       "removed": false,
       "selectable": false,
       "selected": false
      }
     },
     "68724c764f434e588850f0999f1f7bab": {
      "model_module": "jupyter-cytoscape",
      "model_module_version": "^1.3.3",
      "model_name": "NodeModel",
      "state": {
       "_model_module": "jupyter-cytoscape",
       "_model_module_version": "^1.3.3",
       "_model_name": "NodeModel",
       "_view_count": null,
       "_view_module": "jupyter-cytoscape",
       "_view_module_version": "^1.3.3",
       "_view_name": "NodeView",
       "classes": "",
       "data": {
        "color": "gray",
        "id": "-154071489199622629",
        "label": "inv",
        "shape": "ellipse"
       },
       "grabbable": true,
       "grabbed": false,
       "locked": false,
       "pannable": false,
       "position": {},
       "removed": false,
       "selectable": false,
       "selected": false
      }
     },
     "689c76c0ca674882b85d283f49341136": {
      "model_module": "jupyter-cytoscape",
      "model_module_version": "^1.3.3",
      "model_name": "NodeModel",
      "state": {
       "_model_module": "jupyter-cytoscape",
       "_model_module_version": "^1.3.3",
       "_model_name": "NodeModel",
       "_view_count": null,
       "_view_module": "jupyter-cytoscape",
       "_view_module_version": "^1.3.3",
       "_view_name": "NodeView",
       "classes": "",
       "data": {
        "color": "gray",
        "id": "-5978474033132357694",
        "label": "getitem",
        "shape": "ellipse"
       },
       "grabbable": true,
       "grabbed": false,
       "locked": false,
       "pannable": false,
       "position": {},
       "removed": false,
       "selectable": false,
       "selected": false
      }
     },
     "68a196e075014b8da9bc811fc558bddd": {
      "model_module": "jupyter-cytoscape",
      "model_module_version": "^1.3.3",
      "model_name": "NodeModel",
      "state": {
       "_model_module": "jupyter-cytoscape",
       "_model_module_version": "^1.3.3",
       "_model_name": "NodeModel",
       "_view_count": null,
       "_view_module": "jupyter-cytoscape",
       "_view_module_version": "^1.3.3",
       "_view_name": "NodeView",
       "classes": "",
       "data": {
        "color": "gray",
        "id": "-1158508209911528911",
        "label": "inv",
        "shape": "ellipse"
       },
       "grabbable": true,
       "grabbed": false,
       "locked": false,
       "pannable": false,
       "position": {},
       "removed": false,
       "selectable": false,
       "selected": false
      }
     },
     "6983d851b5e845da9b1818c7214112e5": {
      "model_module": "jupyter-cytoscape",
      "model_module_version": "^1.3.3",
      "model_name": "EdgeModel",
      "state": {
       "_model_module": "jupyter-cytoscape",
       "_model_module_version": "^1.3.3",
       "_model_name": "EdgeModel",
       "_view_count": null,
       "_view_module": "jupyter-cytoscape",
       "_view_module_version": "^1.3.3",
       "_view_name": "EdgeView",
       "classes": " directed ",
       "data": {
        "source": "7681805941410461511",
        "target": "-5626292261069431928"
       },
       "pannable": true,
       "removed": false,
       "selectable": false,
       "selected": false
      }
     },
     "6a5efce68c974598ac56579425dac395": {
      "model_module": "jupyter-cytoscape",
      "model_module_version": "^1.3.3",
      "model_name": "NodeModel",
      "state": {
       "_model_module": "jupyter-cytoscape",
       "_model_module_version": "^1.3.3",
       "_model_name": "NodeModel",
       "_view_count": null,
       "_view_module": "jupyter-cytoscape",
       "_view_module_version": "^1.3.3",
       "_view_name": "NodeView",
       "classes": "",
       "data": {
        "color": "gray",
        "id": "904791665058480832",
        "label": "6",
        "shape": "rectangle"
       },
       "grabbable": true,
       "grabbed": false,
       "locked": false,
       "pannable": false,
       "position": {},
       "removed": false,
       "selectable": false,
       "selected": false
      }
     },
     "6a71f5b89f044ace870f4a07c667c7cb": {
      "model_module": "jupyter-cytoscape",
      "model_module_version": "^1.3.3",
      "model_name": "EdgeModel",
      "state": {
       "_model_module": "jupyter-cytoscape",
       "_model_module_version": "^1.3.3",
       "_model_name": "EdgeModel",
       "_view_count": null,
       "_view_module": "jupyter-cytoscape",
       "_view_module_version": "^1.3.3",
       "_view_name": "EdgeView",
       "classes": " directed ",
       "data": {
        "source": "5598287532537155435",
        "target": "-3337048831945179802"
       },
       "pannable": true,
       "removed": false,
       "selectable": false,
       "selected": false
      }
     },
     "6aad3b43189a4ab580c273e15160a858": {
      "model_module": "jupyter-cytoscape",
      "model_module_version": "^1.3.3",
      "model_name": "EdgeModel",
      "state": {
       "_model_module": "jupyter-cytoscape",
       "_model_module_version": "^1.3.3",
       "_model_name": "EdgeModel",
       "_view_count": null,
       "_view_module": "jupyter-cytoscape",
       "_view_module_version": "^1.3.3",
       "_view_name": "EdgeView",
       "classes": " directed ",
       "data": {
        "source": "-5332837348518615543",
        "target": "1955137428295681231"
       },
       "pannable": true,
       "removed": false,
       "selectable": false,
       "selected": false
      }
     },
     "6b7e6e0d61ca4e169c1762103d835254": {
      "model_module": "jupyter-cytoscape",
      "model_module_version": "^1.3.3",
      "model_name": "EdgeModel",
      "state": {
       "_model_module": "jupyter-cytoscape",
       "_model_module_version": "^1.3.3",
       "_model_name": "EdgeModel",
       "_view_count": null,
       "_view_module": "jupyter-cytoscape",
       "_view_module_version": "^1.3.3",
       "_view_name": "EdgeView",
       "classes": " directed ",
       "data": {
        "source": "5829049600450326880",
        "target": "6764739716149973308"
       },
       "pannable": true,
       "removed": false,
       "selectable": false,
       "selected": false
      }
     },
     "6ce7f644a1364a9e9518054a5e9dc578": {
      "model_module": "jupyter-cytoscape",
      "model_module_version": "^1.3.3",
      "model_name": "EdgeModel",
      "state": {
       "_model_module": "jupyter-cytoscape",
       "_model_module_version": "^1.3.3",
       "_model_name": "EdgeModel",
       "_view_count": null,
       "_view_module": "jupyter-cytoscape",
       "_view_module_version": "^1.3.3",
       "_view_name": "EdgeView",
       "classes": " directed ",
       "data": {
        "source": "-4257297376197091680",
        "target": "-4013901084028527907"
       },
       "pannable": true,
       "removed": false,
       "selectable": false,
       "selected": false
      }
     },
     "6daef9db33dd41c7a4e5605f612231ef": {
      "model_module": "jupyter-cytoscape",
      "model_module_version": "^1.3.3",
      "model_name": "NodeModel",
      "state": {
       "_model_module": "jupyter-cytoscape",
       "_model_module_version": "^1.3.3",
       "_model_name": "NodeModel",
       "_view_count": null,
       "_view_module": "jupyter-cytoscape",
       "_view_module_version": "^1.3.3",
       "_view_name": "NodeView",
       "classes": "",
       "data": {
        "color": "gray",
        "id": "5678987528542613587",
        "label": "7",
        "shape": "rectangle"
       },
       "grabbable": true,
       "grabbed": false,
       "locked": false,
       "pannable": false,
       "position": {},
       "removed": false,
       "selectable": false,
       "selected": false
      }
     },
     "6e47adad30ec4e07bd095ff2660203ac": {
      "model_module": "jupyter-cytoscape",
      "model_module_version": "^1.3.3",
      "model_name": "EdgeModel",
      "state": {
       "_model_module": "jupyter-cytoscape",
       "_model_module_version": "^1.3.3",
       "_model_name": "EdgeModel",
       "_view_count": null,
       "_view_module": "jupyter-cytoscape",
       "_view_module_version": "^1.3.3",
       "_view_name": "EdgeView",
       "classes": " directed ",
       "data": {
        "source": "-35267779333385455",
        "target": "-4433715405637590577"
       },
       "pannable": true,
       "removed": false,
       "selectable": false,
       "selected": false
      }
     },
     "6eceb70d51474e07a6c45f4f480f67ae": {
      "model_module": "jupyter-cytoscape",
      "model_module_version": "^1.3.3",
      "model_name": "NodeModel",
      "state": {
       "_model_module": "jupyter-cytoscape",
       "_model_module_version": "^1.3.3",
       "_model_name": "NodeModel",
       "_view_count": null,
       "_view_module": "jupyter-cytoscape",
       "_view_module_version": "^1.3.3",
       "_view_name": "NodeView",
       "classes": "",
       "data": {
        "color": "gray",
        "id": "-8524918260484342332",
        "label": "getitem",
        "shape": "ellipse"
       },
       "grabbable": true,
       "grabbed": false,
       "locked": false,
       "pannable": false,
       "position": {},
       "removed": false,
       "selectable": false,
       "selected": false
      }
     },
     "6f70812f6d144f67bb6bb59f4246b09f": {
      "model_module": "jupyter-cytoscape",
      "model_module_version": "^1.3.3",
      "model_name": "CytoscapeModel",
      "state": {
       "_dom_classes": [],
       "_interaction_handlers": {},
       "_model_module": "jupyter-cytoscape",
       "_model_module_version": "^1.3.3",
       "_model_name": "CytoscapeModel",
       "_view_count": null,
       "_view_module": "jupyter-cytoscape",
       "_view_module_version": "^1.3.3",
       "_view_name": "CytoscapeView",
       "auto_ungrabify": false,
       "auto_unselectify": true,
       "autolock": false,
       "box_selection_enabled": false,
       "cytoscape_layout": {
        "edgeSep": 10,
        "name": "dagre",
        "nodeDimensionsIncludeLabels": true,
        "nodeSep": 10,
        "rankDir": "BT",
        "spacingFactor": 1
       },
       "cytoscape_style": [
        {
         "selector": "node",
         "style": {
          "background-color": "#eee",
          "border-color": "data(color)",
          "border-width": 4,
          "color": "black",
          "font-family": "helvetica",
          "font-size": "24px",
          "font-weight": "bold",
          "height": 64,
          "label": "data(label)",
          "opacity": "1.0",
          "shape": "data(shape)",
          "text-halign": "center",
          "text-valign": "center",
          "width": 64
         }
        },
        {
         "selector": "edge",
         "style": {
          "curve-style": "bezier",
          "line-color": "gray",
          "target-arrow-color": "gray",
          "target-arrow-shape": "triangle",
          "width": 8
         }
        }
       ],
       "desktop_tap_threshold": 4,
       "graph": "IPY_MODEL_fe5a0e58bec14d83961fcc62a26f8a2f",
       "headless": false,
       "hide_edges_on_viewport": false,
       "layout": "IPY_MODEL_9fb66435fd98460eb6327b662897836c",
       "max_zoom": 4.0,
       "min_zoom": 0.2,
       "motion_blur": false,
       "motion_blur_opacity": 0.2,
       "panning_enabled": true,
       "pixel_ratio": "auto",
       "rendered_position": {
        "renderedPosition": {
         "x": 100,
         "y": 100
        }
       },
       "selection_type": "single",
       "style_enabled": true,
       "tabbable": null,
       "texture_on_viewport": false,
       "tooltip": null,
       "tooltip_source": "tooltip",
       "touch_tap_threshold": 8,
       "user_panning_enabled": true,
       "user_zooming_enabled": true,
       "wheel_sensitivity": 0.1,
       "zoom": 2.0,
       "zooming_enabled": true
      }
     },
     "6f8521dde96d4a4b99408e35753163f3": {
      "model_module": "jupyter-cytoscape",
      "model_module_version": "^1.3.3",
      "model_name": "NodeModel",
      "state": {
       "_model_module": "jupyter-cytoscape",
       "_model_module_version": "^1.3.3",
       "_model_name": "NodeModel",
       "_view_count": null,
       "_view_module": "jupyter-cytoscape",
       "_view_module_version": "^1.3.3",
       "_view_name": "NodeView",
       "classes": "",
       "data": {
        "color": "gray",
        "id": "1142692037050967999",
        "label": "moment_chunk",
        "shape": "ellipse"
       },
       "grabbable": true,
       "grabbed": false,
       "locked": false,
       "pannable": false,
       "position": {},
       "removed": false,
       "selectable": false,
       "selected": false
      }
     },
     "6fb7096e232e4e7d83c2a1b3b5b6f3c9": {
      "model_module": "jupyter-cytoscape",
      "model_module_version": "^1.3.3",
      "model_name": "NodeModel",
      "state": {
       "_model_module": "jupyter-cytoscape",
       "_model_module_version": "^1.3.3",
       "_model_name": "NodeModel",
       "_view_count": null,
       "_view_module": "jupyter-cytoscape",
       "_view_module_version": "^1.3.3",
       "_view_name": "NodeView",
       "classes": "",
       "data": {
        "color": "gray",
        "id": "6656753875931504979",
        "label": "5",
        "shape": "rectangle"
       },
       "grabbable": true,
       "grabbed": false,
       "locked": false,
       "pannable": false,
       "position": {},
       "removed": false,
       "selectable": false,
       "selected": false
      }
     },
     "6fcd42744ed147e78080cb8a51c4e4f7": {
      "model_module": "jupyter-cytoscape",
      "model_module_version": "^1.3.3",
      "model_name": "NodeModel",
      "state": {
       "_model_module": "jupyter-cytoscape",
       "_model_module_version": "^1.3.3",
       "_model_name": "NodeModel",
       "_view_count": null,
       "_view_module": "jupyter-cytoscape",
       "_view_module_version": "^1.3.3",
       "_view_name": "NodeView",
       "classes": "",
       "data": {
        "color": "gray",
        "id": "6914538839876648421",
        "label": "moment_chunk",
        "shape": "ellipse"
       },
       "grabbable": true,
       "grabbed": false,
       "locked": false,
       "pannable": false,
       "position": {},
       "removed": false,
       "selectable": false,
       "selected": false
      }
     },
     "70552a4890cf4345988caa732cd70852": {
      "model_module": "jupyter-cytoscape",
      "model_module_version": "^1.3.3",
      "model_name": "NodeModel",
      "state": {
       "_model_module": "jupyter-cytoscape",
       "_model_module_version": "^1.3.3",
       "_model_name": "NodeModel",
       "_view_count": null,
       "_view_module": "jupyter-cytoscape",
       "_view_module_version": "^1.3.3",
       "_view_name": "NodeView",
       "classes": "",
       "data": {
        "color": "gray",
        "id": "1240472957130174564",
        "label": "series-sum-chunk",
        "shape": "ellipse"
       },
       "grabbable": true,
       "grabbed": false,
       "locked": false,
       "pannable": false,
       "position": {},
       "removed": false,
       "selectable": false,
       "selected": false
      }
     },
     "71922225acea45809cd3dcaabf4b79a3": {
      "model_module": "jupyter-cytoscape",
      "model_module_version": "^1.3.3",
      "model_name": "NodeModel",
      "state": {
       "_model_module": "jupyter-cytoscape",
       "_model_module_version": "^1.3.3",
       "_model_name": "NodeModel",
       "_view_count": null,
       "_view_module": "jupyter-cytoscape",
       "_view_module_version": "^1.3.3",
       "_view_name": "NodeView",
       "classes": "",
       "data": {
        "color": "gray",
        "id": "8995574526683261384",
        "label": "1",
        "shape": "rectangle"
       },
       "grabbable": true,
       "grabbed": false,
       "locked": false,
       "pannable": false,
       "position": {},
       "removed": false,
       "selectable": false,
       "selected": false
      }
     },
     "71e0e1b59d954671b698035f16ed44af": {
      "model_module": "jupyter-cytoscape",
      "model_module_version": "^1.3.3",
      "model_name": "EdgeModel",
      "state": {
       "_model_module": "jupyter-cytoscape",
       "_model_module_version": "^1.3.3",
       "_model_name": "EdgeModel",
       "_view_count": null,
       "_view_module": "jupyter-cytoscape",
       "_view_module_version": "^1.3.3",
       "_view_name": "EdgeView",
       "classes": " directed ",
       "data": {
        "source": "2282974287755212044",
        "target": "-2821771266337075426"
       },
       "pannable": true,
       "removed": false,
       "selectable": false,
       "selected": false
      }
     },
     "7287c51dbe34418cbced2143a053ae22": {
      "model_module": "jupyter-cytoscape",
      "model_module_version": "^1.3.3",
      "model_name": "NodeModel",
      "state": {
       "_model_module": "jupyter-cytoscape",
       "_model_module_version": "^1.3.3",
       "_model_name": "NodeModel",
       "_view_count": null,
       "_view_module": "jupyter-cytoscape",
       "_view_module_version": "^1.3.3",
       "_view_name": "NodeView",
       "classes": "",
       "data": {
        "color": "gray",
        "id": "-2201009540536566391",
        "label": "series-sum-chunk",
        "shape": "ellipse"
       },
       "grabbable": true,
       "grabbed": false,
       "locked": false,
       "pannable": false,
       "position": {},
       "removed": false,
       "selectable": false,
       "selected": false
      }
     },
     "7287ce7cbb8d4d0ba162d1df49e1164a": {
      "model_module": "jupyter-cytoscape",
      "model_module_version": "^1.3.3",
      "model_name": "EdgeModel",
      "state": {
       "_model_module": "jupyter-cytoscape",
       "_model_module_version": "^1.3.3",
       "_model_name": "EdgeModel",
       "_view_count": null,
       "_view_module": "jupyter-cytoscape",
       "_view_module_version": "^1.3.3",
       "_view_name": "EdgeView",
       "classes": " directed ",
       "data": {
        "source": "-1768712671951251125",
        "target": "-8027829037907954918"
       },
       "pannable": true,
       "removed": false,
       "selectable": false,
       "selected": false
      }
     },
     "7394731de07446f8ba2d64f99689cd5d": {
      "model_module": "jupyter-cytoscape",
      "model_module_version": "^1.3.3",
      "model_name": "NodeModel",
      "state": {
       "_model_module": "jupyter-cytoscape",
       "_model_module_version": "^1.3.3",
       "_model_name": "NodeModel",
       "_view_count": null,
       "_view_module": "jupyter-cytoscape",
       "_view_module_version": "^1.3.3",
       "_view_name": "NodeView",
       "classes": "",
       "data": {
        "color": "gray",
        "id": "6764739716149973308",
        "label": "()",
        "shape": "rectangle"
       },
       "grabbable": true,
       "grabbed": false,
       "locked": false,
       "pannable": false,
       "position": {},
       "removed": false,
       "selectable": false,
       "selected": false
      }
     },
     "73e105dba6ab4c6984cd710a148da1a9": {
      "model_module": "jupyter-cytoscape",
      "model_module_version": "^1.3.3",
      "model_name": "NodeModel",
      "state": {
       "_model_module": "jupyter-cytoscape",
       "_model_module_version": "^1.3.3",
       "_model_name": "NodeModel",
       "_view_count": null,
       "_view_module": "jupyter-cytoscape",
       "_view_module_version": "^1.3.3",
       "_view_name": "NodeView",
       "classes": "",
       "data": {
        "color": "gray",
        "id": "7433946819223948491",
        "label": "3",
        "shape": "rectangle"
       },
       "grabbable": true,
       "grabbed": false,
       "locked": false,
       "pannable": false,
       "position": {},
       "removed": false,
       "selectable": false,
       "selected": false
      }
     },
     "7532732c53454d5f83bb7cd6e789d113": {
      "model_module": "jupyter-cytoscape",
      "model_module_version": "^1.3.3",
      "model_name": "NodeModel",
      "state": {
       "_model_module": "jupyter-cytoscape",
       "_model_module_version": "^1.3.3",
       "_model_name": "NodeModel",
       "_view_count": null,
       "_view_module": "jupyter-cytoscape",
       "_view_module_version": "^1.3.3",
       "_view_name": "NodeView",
       "classes": "",
       "data": {
        "color": "gray",
        "id": "-8229006598630537056",
        "label": "1",
        "shape": "rectangle"
       },
       "grabbable": true,
       "grabbed": false,
       "locked": false,
       "pannable": false,
       "position": {},
       "removed": false,
       "selectable": false,
       "selected": false
      }
     },
     "7548632efc454260bb1f21c2d01438d7": {
      "model_module": "jupyter-cytoscape",
      "model_module_version": "^1.3.3",
      "model_name": "NodeModel",
      "state": {
       "_model_module": "jupyter-cytoscape",
       "_model_module_version": "^1.3.3",
       "_model_name": "NodeModel",
       "_view_count": null,
       "_view_module": "jupyter-cytoscape",
       "_view_module_version": "^1.3.3",
       "_view_name": "NodeView",
       "classes": "",
       "data": {
        "color": "gray",
        "id": "-8027829037907954918",
        "label": "getitem",
        "shape": "ellipse"
       },
       "grabbable": true,
       "grabbed": false,
       "locked": false,
       "pannable": false,
       "position": {},
       "removed": false,
       "selectable": false,
       "selected": false
      }
     },
     "7711212516b544bf9dea45df6fe01483": {
      "model_module": "jupyter-cytoscape",
      "model_module_version": "^1.3.3",
      "model_name": "EdgeModel",
      "state": {
       "_model_module": "jupyter-cytoscape",
       "_model_module_version": "^1.3.3",
       "_model_name": "EdgeModel",
       "_view_count": null,
       "_view_module": "jupyter-cytoscape",
       "_view_module_version": "^1.3.3",
       "_view_name": "EdgeView",
       "classes": " directed ",
       "data": {
        "source": "-4433715405637590577",
        "target": "8312079320624149884"
       },
       "pannable": true,
       "removed": false,
       "selectable": false,
       "selected": false
      }
     },
     "7856946ac97c4584b7eb8dc38518fba4": {
      "model_module": "jupyter-cytoscape",
      "model_module_version": "^1.3.3",
      "model_name": "NodeModel",
      "state": {
       "_model_module": "jupyter-cytoscape",
       "_model_module_version": "^1.3.3",
       "_model_name": "NodeModel",
       "_view_count": null,
       "_view_module": "jupyter-cytoscape",
       "_view_module_version": "^1.3.3",
       "_view_name": "NodeView",
       "classes": "",
       "data": {
        "color": "gray",
        "id": "-4013901084028527907",
        "label": "series-count-chunk",
        "shape": "ellipse"
       },
       "grabbable": true,
       "grabbed": false,
       "locked": false,
       "pannable": false,
       "position": {},
       "removed": false,
       "selectable": false,
       "selected": false
      }
     },
     "78a3cf0cbeee4506a51acfc73e4d5f2a": {
      "model_module": "jupyter-cytoscape",
      "model_module_version": "^1.3.3",
      "model_name": "EdgeModel",
      "state": {
       "_model_module": "jupyter-cytoscape",
       "_model_module_version": "^1.3.3",
       "_model_name": "EdgeModel",
       "_view_count": null,
       "_view_module": "jupyter-cytoscape",
       "_view_module_version": "^1.3.3",
       "_view_name": "EdgeView",
       "classes": " directed ",
       "data": {
        "source": "-4041975857957460076",
        "target": "7968102526588414775"
       },
       "pannable": true,
       "removed": false,
       "selectable": false,
       "selected": false
      }
     },
     "79ae23f761f64cc59be4b8ddb6ee3d1c": {
      "model_module": "jupyter-cytoscape",
      "model_module_version": "^1.3.3",
      "model_name": "EdgeModel",
      "state": {
       "_model_module": "jupyter-cytoscape",
       "_model_module_version": "^1.3.3",
       "_model_name": "EdgeModel",
       "_view_count": null,
       "_view_module": "jupyter-cytoscape",
       "_view_module_version": "^1.3.3",
       "_view_name": "EdgeView",
       "classes": " directed ",
       "data": {
        "source": "717365426190231266",
        "target": "6512582012684697501"
       },
       "pannable": true,
       "removed": false,
       "selectable": false,
       "selected": false
      }
     },
     "7a252d2b57964e7d894379d06531d250": {
      "model_module": "jupyter-cytoscape",
      "model_module_version": "^1.3.3",
      "model_name": "EdgeModel",
      "state": {
       "_model_module": "jupyter-cytoscape",
       "_model_module_version": "^1.3.3",
       "_model_name": "EdgeModel",
       "_view_count": null,
       "_view_module": "jupyter-cytoscape",
       "_view_module_version": "^1.3.3",
       "_view_name": "EdgeView",
       "classes": " directed ",
       "data": {
        "source": "-2391829575837266754",
        "target": "-9005826748622752183"
       },
       "pannable": true,
       "removed": false,
       "selectable": false,
       "selected": false
      }
     },
     "7a8c136806fc4d9e8267bbe6689ada69": {
      "model_module": "jupyter-cytoscape",
      "model_module_version": "^1.3.3",
      "model_name": "NodeModel",
      "state": {
       "_model_module": "jupyter-cytoscape",
       "_model_module_version": "^1.3.3",
       "_model_name": "NodeModel",
       "_view_count": null,
       "_view_module": "jupyter-cytoscape",
       "_view_module_version": "^1.3.3",
       "_view_name": "NodeView",
       "classes": "",
       "data": {
        "color": "gray",
        "id": "-347027367802321355",
        "label": "getitem",
        "shape": "ellipse"
       },
       "grabbable": true,
       "grabbed": false,
       "locked": false,
       "pannable": false,
       "position": {},
       "removed": false,
       "selectable": false,
       "selected": false
      }
     },
     "7af1a1c631b84a55968b160f3dd4ade2": {
      "model_module": "jupyter-cytoscape",
      "model_module_version": "^1.3.3",
      "model_name": "EdgeModel",
      "state": {
       "_model_module": "jupyter-cytoscape",
       "_model_module_version": "^1.3.3",
       "_model_name": "EdgeModel",
       "_view_count": null,
       "_view_module": "jupyter-cytoscape",
       "_view_module_version": "^1.3.3",
       "_view_name": "EdgeView",
       "classes": " directed ",
       "data": {
        "source": "5736938628313029061",
        "target": "5910102119164742139"
       },
       "pannable": true,
       "removed": false,
       "selectable": false,
       "selected": false
      }
     },
     "7c4194af19bf42a4a98b9a0910428846": {
      "model_module": "jupyter-cytoscape",
      "model_module_version": "^1.3.3",
      "model_name": "NodeModel",
      "state": {
       "_model_module": "jupyter-cytoscape",
       "_model_module_version": "^1.3.3",
       "_model_name": "NodeModel",
       "_view_count": null,
       "_view_module": "jupyter-cytoscape",
       "_view_module_version": "^1.3.3",
       "_view_name": "NodeView",
       "classes": "",
       "data": {
        "color": "gray",
        "id": "5910102119164742139",
        "label": "moment_chunk",
        "shape": "ellipse"
       },
       "grabbable": true,
       "grabbed": false,
       "locked": false,
       "pannable": false,
       "position": {},
       "removed": false,
       "selectable": false,
       "selected": false
      }
     },
     "7c8a178def8c47e9aaaa6aa7d835587c": {
      "model_module": "jupyter-cytoscape",
      "model_module_version": "^1.3.3",
      "model_name": "EdgeModel",
      "state": {
       "_model_module": "jupyter-cytoscape",
       "_model_module_version": "^1.3.3",
       "_model_name": "EdgeModel",
       "_view_count": null,
       "_view_module": "jupyter-cytoscape",
       "_view_module_version": "^1.3.3",
       "_view_name": "EdgeView",
       "classes": " directed ",
       "data": {
        "source": "8462778184397679656",
        "target": "-5827021843127586320"
       },
       "pannable": true,
       "removed": false,
       "selectable": false,
       "selected": false
      }
     },
     "7cab19de442a4a18b5c413d37023e4e8": {
      "model_module": "jupyter-cytoscape",
      "model_module_version": "^1.3.3",
      "model_name": "NodeModel",
      "state": {
       "_model_module": "jupyter-cytoscape",
       "_model_module_version": "^1.3.3",
       "_model_name": "NodeModel",
       "_view_count": null,
       "_view_module": "jupyter-cytoscape",
       "_view_module_version": "^1.3.3",
       "_view_name": "NodeView",
       "classes": "",
       "data": {
        "color": "gray",
        "id": "-1020838954517715109",
        "label": "series-var",
        "shape": "ellipse"
       },
       "grabbable": true,
       "grabbed": false,
       "locked": false,
       "pannable": false,
       "position": {},
       "removed": false,
       "selectable": false,
       "selected": false
      }
     },
     "7daa07b3e8124f1e996fbd40ec92e11e": {
      "model_module": "jupyter-cytoscape",
      "model_module_version": "^1.3.3",
      "model_name": "NodeModel",
      "state": {
       "_model_module": "jupyter-cytoscape",
       "_model_module_version": "^1.3.3",
       "_model_name": "NodeModel",
       "_view_count": null,
       "_view_module": "jupyter-cytoscape",
       "_view_module_version": "^1.3.3",
       "_view_name": "NodeView",
       "classes": "",
       "data": {
        "color": "gray",
        "id": "3630831659601244575",
        "label": "read-csv",
        "shape": "ellipse"
       },
       "grabbable": true,
       "grabbed": false,
       "locked": false,
       "pannable": false,
       "position": {},
       "removed": false,
       "selectable": false,
       "selected": false
      }
     },
     "7e47c06590f644ba98ebe36fb11a2a4f": {
      "model_module": "jupyter-cytoscape",
      "model_module_version": "^1.3.3",
      "model_name": "NodeModel",
      "state": {
       "_model_module": "jupyter-cytoscape",
       "_model_module_version": "^1.3.3",
       "_model_name": "NodeModel",
       "_view_count": null,
       "_view_module": "jupyter-cytoscape",
       "_view_module_version": "^1.3.3",
       "_view_name": "NodeView",
       "classes": "",
       "data": {
        "color": "gray",
        "id": "-3811954577793553631",
        "label": "9",
        "shape": "rectangle"
       },
       "grabbable": true,
       "grabbed": false,
       "locked": false,
       "pannable": false,
       "position": {},
       "removed": false,
       "selectable": false,
       "selected": false
      }
     },
     "7e93c5785ae54dadac9a124aadae50ad": {
      "model_module": "jupyter-cytoscape",
      "model_module_version": "^1.3.3",
      "model_name": "EdgeModel",
      "state": {
       "_model_module": "jupyter-cytoscape",
       "_model_module_version": "^1.3.3",
       "_model_name": "EdgeModel",
       "_view_count": null,
       "_view_module": "jupyter-cytoscape",
       "_view_module_version": "^1.3.3",
       "_view_name": "EdgeView",
       "classes": " directed ",
       "data": {
        "source": "-3854862873483052387",
        "target": "-8511482895934652330"
       },
       "pannable": true,
       "removed": false,
       "selectable": false,
       "selected": false
      }
     },
     "7f2be667974b4fc2a9765dd2627c78d9": {
      "model_module": "jupyter-cytoscape",
      "model_module_version": "^1.3.3",
      "model_name": "EdgeModel",
      "state": {
       "_model_module": "jupyter-cytoscape",
       "_model_module_version": "^1.3.3",
       "_model_name": "EdgeModel",
       "_view_count": null,
       "_view_module": "jupyter-cytoscape",
       "_view_module_version": "^1.3.3",
       "_view_name": "EdgeView",
       "classes": " directed ",
       "data": {
        "source": "8312079320624149884",
        "target": "5829049600450326880"
       },
       "pannable": true,
       "removed": false,
       "selectable": false,
       "selected": false
      }
     },
     "7fd44dbc9824408a8f752654d94d6da6": {
      "model_module": "jupyter-cytoscape",
      "model_module_version": "^1.3.3",
      "model_name": "EdgeModel",
      "state": {
       "_model_module": "jupyter-cytoscape",
       "_model_module_version": "^1.3.3",
       "_model_name": "EdgeModel",
       "_view_count": null,
       "_view_module": "jupyter-cytoscape",
       "_view_module_version": "^1.3.3",
       "_view_name": "EdgeView",
       "classes": " directed ",
       "data": {
        "source": "-5626292261069431928",
        "target": "2013088528066096705"
       },
       "pannable": true,
       "removed": false,
       "selectable": false,
       "selected": false
      }
     },
     "801a0465e8b244e78b3aa42c273056db": {
      "model_module": "jupyter-cytoscape",
      "model_module_version": "^1.3.3",
      "model_name": "EdgeModel",
      "state": {
       "_model_module": "jupyter-cytoscape",
       "_model_module_version": "^1.3.3",
       "_model_name": "EdgeModel",
       "_view_count": null,
       "_view_module": "jupyter-cytoscape",
       "_view_module_version": "^1.3.3",
       "_view_name": "EdgeView",
       "classes": " directed ",
       "data": {
        "source": "-3811954577793553631",
        "target": "-966399588917445790"
       },
       "pannable": true,
       "removed": false,
       "selectable": false,
       "selected": false
      }
     },
     "80524d78c16b464faab91a3023e32df5": {
      "model_module": "jupyter-cytoscape",
      "model_module_version": "^1.3.3",
      "model_name": "EdgeModel",
      "state": {
       "_model_module": "jupyter-cytoscape",
       "_model_module_version": "^1.3.3",
       "_model_name": "EdgeModel",
       "_view_count": null,
       "_view_module": "jupyter-cytoscape",
       "_view_module_version": "^1.3.3",
       "_view_name": "EdgeView",
       "classes": " directed ",
       "data": {
        "source": "-3923946721089635408",
        "target": "-4931054639454705723"
       },
       "pannable": true,
       "removed": false,
       "selectable": false,
       "selected": false
      }
     },
     "8156439abb3b40b49378c273b434bed4": {
      "model_module": "jupyter-cytoscape",
      "model_module_version": "^1.3.3",
      "model_name": "NodeModel",
      "state": {
       "_model_module": "jupyter-cytoscape",
       "_model_module_version": "^1.3.3",
       "_model_name": "NodeModel",
       "_view_count": null,
       "_view_module": "jupyter-cytoscape",
       "_view_module_version": "^1.3.3",
       "_view_name": "NodeView",
       "classes": "",
       "data": {
        "color": "gray",
        "id": "7282065525053125107",
        "label": "series-sum-chunk",
        "shape": "ellipse"
       },
       "grabbable": true,
       "grabbed": false,
       "locked": false,
       "pannable": false,
       "position": {},
       "removed": false,
       "selectable": false,
       "selected": false
      }
     },
     "81f2a8d5ecf6489c85f98df42c761f7c": {
      "model_module": "jupyter-cytoscape",
      "model_module_version": "^1.3.3",
      "model_name": "NodeModel",
      "state": {
       "_model_module": "jupyter-cytoscape",
       "_model_module_version": "^1.3.3",
       "_model_name": "NodeModel",
       "_view_count": null,
       "_view_module": "jupyter-cytoscape",
       "_view_module_version": "^1.3.3",
       "_view_name": "NodeView",
       "classes": "",
       "data": {
        "color": "gray",
        "id": "-4581373977005740986",
        "label": "values",
        "shape": "ellipse"
       },
       "grabbable": true,
       "grabbed": false,
       "locked": false,
       "pannable": false,
       "position": {},
       "removed": false,
       "selectable": false,
       "selected": false
      }
     },
     "8218ba59f1d84c73857beccc5956e28a": {
      "model_module": "jupyter-cytoscape",
      "model_module_version": "^1.3.3",
      "model_name": "EdgeModel",
      "state": {
       "_model_module": "jupyter-cytoscape",
       "_model_module_version": "^1.3.3",
       "_model_name": "EdgeModel",
       "_view_count": null,
       "_view_module": "jupyter-cytoscape",
       "_view_module_version": "^1.3.3",
       "_view_name": "EdgeView",
       "classes": " directed ",
       "data": {
        "source": "-2821771266337075426",
        "target": "-4625039462178049713"
       },
       "pannable": true,
       "removed": false,
       "selectable": false,
       "selected": false
      }
     },
     "830979fca7a04f64883263258217cfb1": {
      "model_module": "jupyter-cytoscape",
      "model_module_version": "^1.3.3",
      "model_name": "NodeModel",
      "state": {
       "_model_module": "jupyter-cytoscape",
       "_model_module_version": "^1.3.3",
       "_model_name": "NodeModel",
       "_view_count": null,
       "_view_module": "jupyter-cytoscape",
       "_view_module_version": "^1.3.3",
       "_view_name": "NodeView",
       "classes": "",
       "data": {
        "color": "gray",
        "id": "-5674380427109368710",
        "label": "8",
        "shape": "rectangle"
       },
       "grabbable": true,
       "grabbed": false,
       "locked": false,
       "pannable": false,
       "position": {},
       "removed": false,
       "selectable": false,
       "selected": false
      }
     },
     "8385356ceed84418a0b1d2eecb507b69": {
      "model_module": "jupyter-cytoscape",
      "model_module_version": "^1.3.3",
      "model_name": "NodeModel",
      "state": {
       "_model_module": "jupyter-cytoscape",
       "_model_module_version": "^1.3.3",
       "_model_name": "NodeModel",
       "_view_count": null,
       "_view_module": "jupyter-cytoscape",
       "_view_module_version": "^1.3.3",
       "_view_name": "NodeView",
       "classes": "",
       "data": {
        "color": "gray",
        "id": "2519358392187782891",
        "label": "8",
        "shape": "rectangle"
       },
       "grabbable": true,
       "grabbed": false,
       "locked": false,
       "pannable": false,
       "position": {},
       "removed": false,
       "selectable": false,
       "selected": false
      }
     },
     "83c4828112244751869c4dca4be314ec": {
      "model_module": "jupyter-cytoscape",
      "model_module_version": "^1.3.3",
      "model_name": "NodeModel",
      "state": {
       "_model_module": "jupyter-cytoscape",
       "_model_module_version": "^1.3.3",
       "_model_name": "NodeModel",
       "_view_count": null,
       "_view_module": "jupyter-cytoscape",
       "_view_module_version": "^1.3.3",
       "_view_name": "NodeView",
       "classes": "",
       "data": {
        "color": "gray",
        "id": "-6440328712975458999",
        "label": "series-sum-chunk",
        "shape": "ellipse"
       },
       "grabbable": true,
       "grabbed": false,
       "locked": false,
       "pannable": false,
       "position": {},
       "removed": false,
       "selectable": false,
       "selected": false
      }
     },
     "84f3b4dc2d4b45818bda93ac4b0a7fd5": {
      "model_module": "jupyter-cytoscape",
      "model_module_version": "^1.3.3",
      "model_name": "EdgeModel",
      "state": {
       "_model_module": "jupyter-cytoscape",
       "_model_module_version": "^1.3.3",
       "_model_name": "EdgeModel",
       "_view_count": null,
       "_view_module": "jupyter-cytoscape",
       "_view_module_version": "^1.3.3",
       "_view_name": "EdgeView",
       "classes": " directed ",
       "data": {
        "source": "-6136964253667188585",
        "target": "8462778184397679656"
       },
       "pannable": true,
       "removed": false,
       "selectable": false,
       "selected": false
      }
     },
     "8516ae6d690f4f1a9e512eda834f2b7c": {
      "model_module": "jupyter-cytoscape",
      "model_module_version": "^1.3.3",
      "model_name": "EdgeModel",
      "state": {
       "_model_module": "jupyter-cytoscape",
       "_model_module_version": "^1.3.3",
       "_model_name": "EdgeModel",
       "_view_count": null,
       "_view_module": "jupyter-cytoscape",
       "_view_module_version": "^1.3.3",
       "_view_name": "EdgeView",
       "classes": " directed ",
       "data": {
        "source": "86719889715495271",
        "target": "5300436216894225058"
       },
       "pannable": true,
       "removed": false,
       "selectable": false,
       "selected": false
      }
     },
     "85c6e9726b0e47caa8a200e32ad3905f": {
      "model_module": "jupyter-cytoscape",
      "model_module_version": "^1.3.3",
      "model_name": "EdgeModel",
      "state": {
       "_model_module": "jupyter-cytoscape",
       "_model_module_version": "^1.3.3",
       "_model_name": "EdgeModel",
       "_view_count": null,
       "_view_module": "jupyter-cytoscape",
       "_view_module_version": "^1.3.3",
       "_view_name": "EdgeView",
       "classes": " directed ",
       "data": {
        "source": "5042187148802202920",
        "target": "5598287532537155435"
       },
       "pannable": true,
       "removed": false,
       "selectable": false,
       "selected": false
      }
     },
     "85ccd0b061594f888ebe7e42c2a75991": {
      "model_module": "jupyter-cytoscape",
      "model_module_version": "^1.3.3",
      "model_name": "EdgeModel",
      "state": {
       "_model_module": "jupyter-cytoscape",
       "_model_module_version": "^1.3.3",
       "_model_name": "EdgeModel",
       "_view_count": null,
       "_view_module": "jupyter-cytoscape",
       "_view_module_version": "^1.3.3",
       "_view_name": "EdgeView",
       "classes": " directed ",
       "data": {
        "source": "-2201009540536566391",
        "target": "-7694850891266070772"
       },
       "pannable": true,
       "removed": false,
       "selectable": false,
       "selected": false
      }
     },
     "863aa71129094e2eb0d5bf2b6f1053f5": {
      "model_module": "jupyter-cytoscape",
      "model_module_version": "^1.3.3",
      "model_name": "EdgeModel",
      "state": {
       "_model_module": "jupyter-cytoscape",
       "_model_module_version": "^1.3.3",
       "_model_name": "EdgeModel",
       "_view_count": null,
       "_view_module": "jupyter-cytoscape",
       "_view_module_version": "^1.3.3",
       "_view_name": "EdgeView",
       "classes": " directed ",
       "data": {
        "source": "-3971000791019138416",
        "target": "-7825143019702143457"
       },
       "pannable": true,
       "removed": false,
       "selectable": false,
       "selected": false
      }
     },
     "86bc37f46833409e9993e8b1144c4093": {
      "model_module": "jupyter-cytoscape",
      "model_module_version": "^1.3.3",
      "model_name": "NodeModel",
      "state": {
       "_model_module": "jupyter-cytoscape",
       "_model_module_version": "^1.3.3",
       "_model_name": "NodeModel",
       "_view_count": null,
       "_view_module": "jupyter-cytoscape",
       "_view_module_version": "^1.3.3",
       "_view_name": "NodeView",
       "classes": "",
       "data": {
        "color": "gray",
        "id": "-6545621366584007782",
        "label": "3",
        "shape": "rectangle"
       },
       "grabbable": true,
       "grabbed": false,
       "locked": false,
       "pannable": false,
       "position": {},
       "removed": false,
       "selectable": false,
       "selected": false
      }
     },
     "875859a586f740e6bb858327762eb0c7": {
      "model_module": "jupyter-cytoscape",
      "model_module_version": "^1.3.3",
      "model_name": "NodeModel",
      "state": {
       "_model_module": "jupyter-cytoscape",
       "_model_module_version": "^1.3.3",
       "_model_name": "NodeModel",
       "_view_count": null,
       "_view_module": "jupyter-cytoscape",
       "_view_module_version": "^1.3.3",
       "_view_name": "NodeView",
       "classes": "",
       "data": {
        "color": "gray",
        "id": "5697749121941153255",
        "label": "values",
        "shape": "ellipse"
       },
       "grabbable": true,
       "grabbed": false,
       "locked": false,
       "pannable": false,
       "position": {},
       "removed": false,
       "selectable": false,
       "selected": false
      }
     },
     "87e81bb94ca449f6a4e247d389ca6796": {
      "model_module": "jupyter-cytoscape",
      "model_module_version": "^1.3.3",
      "model_name": "EdgeModel",
      "state": {
       "_model_module": "jupyter-cytoscape",
       "_model_module_version": "^1.3.3",
       "_model_name": "EdgeModel",
       "_view_count": null,
       "_view_module": "jupyter-cytoscape",
       "_view_module_version": "^1.3.3",
       "_view_name": "EdgeView",
       "classes": " directed ",
       "data": {
        "source": "-3096627135387924609",
        "target": "2074015593784244842"
       },
       "pannable": true,
       "removed": false,
       "selectable": false,
       "selected": false
      }
     },
     "8860e5475d104457af1057d117e81628": {
      "model_module": "jupyter-cytoscape",
      "model_module_version": "^1.3.3",
      "model_name": "EdgeModel",
      "state": {
       "_model_module": "jupyter-cytoscape",
       "_model_module_version": "^1.3.3",
       "_model_name": "EdgeModel",
       "_view_count": null,
       "_view_module": "jupyter-cytoscape",
       "_view_module_version": "^1.3.3",
       "_view_name": "EdgeView",
       "classes": " directed ",
       "data": {
        "source": "6914538839876648421",
        "target": "7412432421160479257"
       },
       "pannable": true,
       "removed": false,
       "selectable": false,
       "selected": false
      }
     },
     "88e94942bb7d49c0a5e905cab86b33ec": {
      "model_module": "jupyter-cytoscape",
      "model_module_version": "^1.3.3",
      "model_name": "NodeModel",
      "state": {
       "_model_module": "jupyter-cytoscape",
       "_model_module_version": "^1.3.3",
       "_model_name": "NodeModel",
       "_view_count": null,
       "_view_module": "jupyter-cytoscape",
       "_view_module_version": "^1.3.3",
       "_view_name": "NodeView",
       "classes": "",
       "data": {
        "color": "gray",
        "id": "-3096627135387924609",
        "label": "moment_chunk",
        "shape": "ellipse"
       },
       "grabbable": true,
       "grabbed": false,
       "locked": false,
       "pannable": false,
       "position": {},
       "removed": false,
       "selectable": false,
       "selected": false
      }
     },
     "8ab3b167420a4317809acca3e367005a": {
      "model_module": "jupyter-cytoscape",
      "model_module_version": "^1.3.3",
      "model_name": "NodeModel",
      "state": {
       "_model_module": "jupyter-cytoscape",
       "_model_module_version": "^1.3.3",
       "_model_name": "NodeModel",
       "_view_count": null,
       "_view_module": "jupyter-cytoscape",
       "_view_module_version": "^1.3.3",
       "_view_name": "NodeView",
       "classes": "",
       "data": {
        "color": "gray",
        "id": "-2784073144757156028",
        "label": "getitem",
        "shape": "ellipse"
       },
       "grabbable": true,
       "grabbed": false,
       "locked": false,
       "pannable": false,
       "position": {},
       "removed": false,
       "selectable": false,
       "selected": false
      }
     },
     "8ae7394d9fe648588fc2e92f5cea3c72": {
      "model_module": "jupyter-cytoscape",
      "model_module_version": "^1.3.3",
      "model_name": "EdgeModel",
      "state": {
       "_model_module": "jupyter-cytoscape",
       "_model_module_version": "^1.3.3",
       "_model_name": "EdgeModel",
       "_view_count": null,
       "_view_module": "jupyter-cytoscape",
       "_view_module_version": "^1.3.3",
       "_view_name": "EdgeView",
       "classes": " directed ",
       "data": {
        "source": "-781306398136672344",
        "target": "-86761478958341776"
       },
       "pannable": true,
       "removed": false,
       "selectable": false,
       "selected": false
      }
     },
     "8b7d4dc5cf7b4ce49d84ca49d7a3d61f": {
      "model_module": "jupyter-cytoscape",
      "model_module_version": "^1.3.3",
      "model_name": "EdgeModel",
      "state": {
       "_model_module": "jupyter-cytoscape",
       "_model_module_version": "^1.3.3",
       "_model_name": "EdgeModel",
       "_view_count": null,
       "_view_module": "jupyter-cytoscape",
       "_view_module_version": "^1.3.3",
       "_view_name": "EdgeView",
       "classes": " directed ",
       "data": {
        "source": "-2406393583825735088",
        "target": "785913499569917221"
       },
       "pannable": true,
       "removed": false,
       "selectable": false,
       "selected": false
      }
     },
     "8dce1c9dd9e248b2b9fe3b9358f6fae9": {
      "model_module": "jupyter-cytoscape",
      "model_module_version": "^1.3.3",
      "model_name": "EdgeModel",
      "state": {
       "_model_module": "jupyter-cytoscape",
       "_model_module_version": "^1.3.3",
       "_model_name": "EdgeModel",
       "_view_count": null,
       "_view_module": "jupyter-cytoscape",
       "_view_module_version": "^1.3.3",
       "_view_name": "EdgeView",
       "classes": " directed ",
       "data": {
        "source": "6512582012684697501",
        "target": "1229854809122270983"
       },
       "pannable": true,
       "removed": false,
       "selectable": false,
       "selected": false
      }
     },
     "8e8e265ae7804c17833a84324da36379": {
      "model_module": "jupyter-cytoscape",
      "model_module_version": "^1.3.3",
      "model_name": "NodeModel",
      "state": {
       "_model_module": "jupyter-cytoscape",
       "_model_module_version": "^1.3.3",
       "_model_name": "NodeModel",
       "_view_count": null,
       "_view_module": "jupyter-cytoscape",
       "_view_module_version": "^1.3.3",
       "_view_name": "NodeView",
       "classes": "",
       "data": {
        "color": "gray",
        "id": "4738928084150747300",
        "label": "2",
        "shape": "rectangle"
       },
       "grabbable": true,
       "grabbed": false,
       "locked": false,
       "pannable": false,
       "position": {},
       "removed": false,
       "selectable": false,
       "selected": false
      }
     },
     "9066df25abf040c69d62cddaf94c0c79": {
      "model_module": "jupyter-cytoscape",
      "model_module_version": "^1.3.3",
      "model_name": "NodeModel",
      "state": {
       "_model_module": "jupyter-cytoscape",
       "_model_module_version": "^1.3.3",
       "_model_name": "NodeModel",
       "_view_count": null,
       "_view_module": "jupyter-cytoscape",
       "_view_module_version": "^1.3.3",
       "_view_name": "NodeView",
       "classes": "",
       "data": {
        "color": "gray",
        "id": "-2819058435188451524",
        "label": "3",
        "shape": "rectangle"
       },
       "grabbable": true,
       "grabbed": false,
       "locked": false,
       "pannable": false,
       "position": {},
       "removed": false,
       "selectable": false,
       "selected": false
      }
     },
     "91012cc14d0d4db1a4a06c97573b0541": {
      "model_module": "jupyter-cytoscape",
      "model_module_version": "^1.3.3",
      "model_name": "EdgeModel",
      "state": {
       "_model_module": "jupyter-cytoscape",
       "_model_module_version": "^1.3.3",
       "_model_name": "EdgeModel",
       "_view_count": null,
       "_view_module": "jupyter-cytoscape",
       "_view_module_version": "^1.3.3",
       "_view_name": "EdgeView",
       "classes": " directed ",
       "data": {
        "source": "7433946819223948491",
        "target": "2717369954156600471"
       },
       "pannable": true,
       "removed": false,
       "selectable": false,
       "selected": false
      }
     },
     "9160255911fd4b8ea8031fba00e31216": {
      "model_module": "jupyter-cytoscape",
      "model_module_version": "^1.3.3",
      "model_name": "EdgeModel",
      "state": {
       "_model_module": "jupyter-cytoscape",
       "_model_module_version": "^1.3.3",
       "_model_name": "EdgeModel",
       "_view_count": null,
       "_view_module": "jupyter-cytoscape",
       "_view_module_version": "^1.3.3",
       "_view_name": "EdgeView",
       "classes": " directed ",
       "data": {
        "source": "-2367700661888899338",
        "target": "7293554255671915646"
       },
       "pannable": true,
       "removed": false,
       "selectable": false,
       "selected": false
      }
     },
     "95690469fcb84ce39cb903836e72a722": {
      "model_module": "jupyter-cytoscape",
      "model_module_version": "^1.3.3",
      "model_name": "NodeModel",
      "state": {
       "_model_module": "jupyter-cytoscape",
       "_model_module_version": "^1.3.3",
       "_model_name": "NodeModel",
       "_view_count": null,
       "_view_module": "jupyter-cytoscape",
       "_view_module_version": "^1.3.3",
       "_view_name": "NodeView",
       "classes": "",
       "data": {
        "color": "gray",
        "id": "-5827021843127586320",
        "label": "getitem",
        "shape": "ellipse"
       },
       "grabbable": true,
       "grabbed": false,
       "locked": false,
       "pannable": false,
       "position": {},
       "removed": false,
       "selectable": false,
       "selected": false
      }
     },
     "95961621fd2a4fa39a5592c3fe4ab5e4": {
      "model_module": "jupyter-cytoscape",
      "model_module_version": "^1.3.3",
      "model_name": "NodeModel",
      "state": {
       "_model_module": "jupyter-cytoscape",
       "_model_module_version": "^1.3.3",
       "_model_name": "NodeModel",
       "_view_count": null,
       "_view_module": "jupyter-cytoscape",
       "_view_module_version": "^1.3.3",
       "_view_name": "NodeView",
       "classes": "",
       "data": {
        "color": "gray",
        "id": "-2642730649067789621",
        "label": "5",
        "shape": "rectangle"
       },
       "grabbable": true,
       "grabbed": false,
       "locked": false,
       "pannable": false,
       "position": {},
       "removed": false,
       "selectable": false,
       "selected": false
      }
     },
     "95c3a5ab766d41569893436692e5f6a8": {
      "model_module": "jupyter-cytoscape",
      "model_module_version": "^1.3.3",
      "model_name": "EdgeModel",
      "state": {
       "_model_module": "jupyter-cytoscape",
       "_model_module_version": "^1.3.3",
       "_model_name": "EdgeModel",
       "_view_count": null,
       "_view_module": "jupyter-cytoscape",
       "_view_module_version": "^1.3.3",
       "_view_name": "EdgeView",
       "classes": " directed ",
       "data": {
        "source": "-388902619403123461",
        "target": "86719889715495271"
       },
       "pannable": true,
       "removed": false,
       "selectable": false,
       "selected": false
      }
     },
     "95ca42dc55e841a8b39a1688687cefbc": {
      "model_module": "jupyter-cytoscape",
      "model_module_version": "^1.3.3",
      "model_name": "NodeModel",
      "state": {
       "_model_module": "jupyter-cytoscape",
       "_model_module_version": "^1.3.3",
       "_model_name": "NodeModel",
       "_view_count": null,
       "_view_module": "jupyter-cytoscape",
       "_view_module_version": "^1.3.3",
       "_view_name": "NodeView",
       "classes": "",
       "data": {
        "color": "gray",
        "id": "7293554255671915646",
        "label": "9",
        "shape": "rectangle"
       },
       "grabbable": true,
       "grabbed": false,
       "locked": false,
       "pannable": false,
       "position": {},
       "removed": false,
       "selectable": false,
       "selected": false
      }
     },
     "967e4cf711d44f8199bb37c117ca3c6e": {
      "model_module": "jupyter-cytoscape",
      "model_module_version": "^1.3.3",
      "model_name": "NodeModel",
      "state": {
       "_model_module": "jupyter-cytoscape",
       "_model_module_version": "^1.3.3",
       "_model_name": "NodeModel",
       "_view_count": null,
       "_view_module": "jupyter-cytoscape",
       "_view_module_version": "^1.3.3",
       "_view_name": "NodeView",
       "classes": "",
       "data": {
        "color": "gray",
        "id": "8874587552752043465",
        "label": "read-csv",
        "shape": "ellipse"
       },
       "grabbable": true,
       "grabbed": false,
       "locked": false,
       "pannable": false,
       "position": {},
       "removed": false,
       "selectable": false,
       "selected": false
      }
     },
     "9728aed1fe354ef1bfa2d9a4fd9c4cfc": {
      "model_module": "jupyter-cytoscape",
      "model_module_version": "^1.3.3",
      "model_name": "EdgeModel",
      "state": {
       "_model_module": "jupyter-cytoscape",
       "_model_module_version": "^1.3.3",
       "_model_name": "EdgeModel",
       "_view_count": null,
       "_view_module": "jupyter-cytoscape",
       "_view_module_version": "^1.3.3",
       "_view_name": "EdgeView",
       "classes": " directed ",
       "data": {
        "source": "6656753875931504979",
        "target": "5598287532537155435"
       },
       "pannable": true,
       "removed": false,
       "selectable": false,
       "selected": false
      }
     },
     "98a2ad3e63de4bd0957e4c795d139fb3": {
      "model_module": "jupyter-cytoscape",
      "model_module_version": "^1.3.3",
      "model_name": "NodeModel",
      "state": {
       "_model_module": "jupyter-cytoscape",
       "_model_module_version": "^1.3.3",
       "_model_name": "NodeModel",
       "_view_count": null,
       "_view_module": "jupyter-cytoscape",
       "_view_module_version": "^1.3.3",
       "_view_name": "NodeView",
       "classes": "",
       "data": {
        "color": "gray",
        "id": "-7292886061394010587",
        "label": "moment_chunk",
        "shape": "ellipse"
       },
       "grabbable": true,
       "grabbed": false,
       "locked": false,
       "pannable": false,
       "position": {},
       "removed": false,
       "selectable": false,
       "selected": false
      }
     },
     "99c1aa9cf04d4470b498fc13e8248c15": {
      "model_module": "jupyter-cytoscape",
      "model_module_version": "^1.3.3",
      "model_name": "EdgeModel",
      "state": {
       "_model_module": "jupyter-cytoscape",
       "_model_module_version": "^1.3.3",
       "_model_name": "EdgeModel",
       "_view_count": null,
       "_view_module": "jupyter-cytoscape",
       "_view_module_version": "^1.3.3",
       "_view_name": "EdgeView",
       "classes": " directed ",
       "data": {
        "source": "7282065525053125107",
        "target": "-8864074819991834782"
       },
       "pannable": true,
       "removed": false,
       "selectable": false,
       "selected": false
      }
     },
     "9a59cbc9032f4150b1125fcc73b11151": {
      "model_module": "jupyter-cytoscape",
      "model_module_version": "^1.3.3",
      "model_name": "EdgeModel",
      "state": {
       "_model_module": "jupyter-cytoscape",
       "_model_module_version": "^1.3.3",
       "_model_name": "EdgeModel",
       "_view_count": null,
       "_view_module": "jupyter-cytoscape",
       "_view_module_version": "^1.3.3",
       "_view_name": "EdgeView",
       "classes": " directed ",
       "data": {
        "source": "6571839432282593364",
        "target": "-7836602819896988173"
       },
       "pannable": true,
       "removed": false,
       "selectable": false,
       "selected": false
      }
     },
     "9ac554949d784a539f1666669c51ab7c": {
      "model_module": "jupyter-cytoscape",
      "model_module_version": "^1.3.3",
      "model_name": "EdgeModel",
      "state": {
       "_model_module": "jupyter-cytoscape",
       "_model_module_version": "^1.3.3",
       "_model_name": "EdgeModel",
       "_view_count": null,
       "_view_module": "jupyter-cytoscape",
       "_view_module_version": "^1.3.3",
       "_view_name": "EdgeView",
       "classes": " directed ",
       "data": {
        "source": "-5674380427109368710",
        "target": "4152557693480550832"
       },
       "pannable": true,
       "removed": false,
       "selectable": false,
       "selected": false
      }
     },
     "9b8930fc72584f7ebebeb46ed97c1acb": {
      "model_module": "jupyter-cytoscape",
      "model_module_version": "^1.3.3",
      "model_name": "NodeModel",
      "state": {
       "_model_module": "jupyter-cytoscape",
       "_model_module_version": "^1.3.3",
       "_model_name": "NodeModel",
       "_view_count": null,
       "_view_module": "jupyter-cytoscape",
       "_view_module_version": "^1.3.3",
       "_view_name": "NodeView",
       "classes": "",
       "data": {
        "color": "gray",
        "id": "-7825143019702143457",
        "label": "series-sum-agg",
        "shape": "ellipse"
       },
       "grabbable": true,
       "grabbed": false,
       "locked": false,
       "pannable": false,
       "position": {},
       "removed": false,
       "selectable": false,
       "selected": false
      }
     },
     "9d7edaf6d8ba4924b0872763d2f556af": {
      "model_module": "jupyter-cytoscape",
      "model_module_version": "^1.3.3",
      "model_name": "EdgeModel",
      "state": {
       "_model_module": "jupyter-cytoscape",
       "_model_module_version": "^1.3.3",
       "_model_name": "EdgeModel",
       "_view_count": null,
       "_view_module": "jupyter-cytoscape",
       "_view_module_version": "^1.3.3",
       "_view_name": "EdgeView",
       "classes": " directed ",
       "data": {
        "source": "-4013901084028527907",
        "target": "5042187148802202920"
       },
       "pannable": true,
       "removed": false,
       "selectable": false,
       "selected": false
      }
     },
     "9eb8a0b8dfe9421ea13936f1755639ef": {
      "model_module": "jupyter-cytoscape",
      "model_module_version": "^1.3.3",
      "model_name": "NodeModel",
      "state": {
       "_model_module": "jupyter-cytoscape",
       "_model_module_version": "^1.3.3",
       "_model_name": "NodeModel",
       "_view_count": null,
       "_view_module": "jupyter-cytoscape",
       "_view_module_version": "^1.3.3",
       "_view_name": "NodeView",
       "classes": "",
       "data": {
        "color": "gray",
        "id": "7825977804657268989",
        "label": "1",
        "shape": "rectangle"
       },
       "grabbable": true,
       "grabbed": false,
       "locked": false,
       "pannable": false,
       "position": {},
       "removed": false,
       "selectable": false,
       "selected": false
      }
     },
     "9ef5d594563a4a56bb400651b70e29ae": {
      "model_module": "jupyter-cytoscape",
      "model_module_version": "^1.3.3",
      "model_name": "EdgeModel",
      "state": {
       "_model_module": "jupyter-cytoscape",
       "_model_module_version": "^1.3.3",
       "_model_name": "EdgeModel",
       "_view_count": null,
       "_view_module": "jupyter-cytoscape",
       "_view_module_version": "^1.3.3",
       "_view_name": "EdgeView",
       "classes": " directed ",
       "data": {
        "source": "-3335932569657840690",
        "target": "-8256961136802021121"
       },
       "pannable": true,
       "removed": false,
       "selectable": false,
       "selected": false
      }
     },
     "9f0f82b000824a819d40358a67bc13f8": {
      "model_module": "jupyter-cytoscape",
      "model_module_version": "^1.3.3",
      "model_name": "NodeModel",
      "state": {
       "_model_module": "jupyter-cytoscape",
       "_model_module_version": "^1.3.3",
       "_model_name": "NodeModel",
       "_view_count": null,
       "_view_module": "jupyter-cytoscape",
       "_view_module_version": "^1.3.3",
       "_view_name": "NodeView",
       "classes": "",
       "data": {
        "color": "gray",
        "id": "3569704155424983290",
        "label": "6",
        "shape": "rectangle"
       },
       "grabbable": true,
       "grabbed": false,
       "locked": false,
       "pannable": false,
       "position": {},
       "removed": false,
       "selectable": false,
       "selected": false
      }
     },
     "9f43f40bf4d34713b52354fc298d9f8b": {
      "model_module": "jupyter-cytoscape",
      "model_module_version": "^1.3.3",
      "model_name": "NodeModel",
      "state": {
       "_model_module": "jupyter-cytoscape",
       "_model_module_version": "^1.3.3",
       "_model_name": "NodeModel",
       "_view_count": null,
       "_view_module": "jupyter-cytoscape",
       "_view_module_version": "^1.3.3",
       "_view_name": "NodeView",
       "classes": "",
       "data": {
        "color": "gray",
        "id": "-7551483226870930168",
        "label": "getitem",
        "shape": "ellipse"
       },
       "grabbable": true,
       "grabbed": false,
       "locked": false,
       "pannable": false,
       "position": {},
       "removed": false,
       "selectable": false,
       "selected": false
      }
     },
     "9f440a2fd7aa43769eba87c45cbb8014": {
      "model_module": "jupyter-cytoscape",
      "model_module_version": "^1.3.3",
      "model_name": "EdgeModel",
      "state": {
       "_model_module": "jupyter-cytoscape",
       "_model_module_version": "^1.3.3",
       "_model_name": "EdgeModel",
       "_view_count": null,
       "_view_module": "jupyter-cytoscape",
       "_view_module_version": "^1.3.3",
       "_view_name": "EdgeView",
       "classes": " directed ",
       "data": {
        "source": "-2685424149539673939",
        "target": "5572522568292831214"
       },
       "pannable": true,
       "removed": false,
       "selectable": false,
       "selected": false
      }
     },
     "9fb66435fd98460eb6327b662897836c": {
      "model_module": "@jupyter-widgets/base",
      "model_module_version": "2.0.0",
      "model_name": "LayoutModel",
      "state": {
       "_model_module": "@jupyter-widgets/base",
       "_model_module_version": "2.0.0",
       "_model_name": "LayoutModel",
       "_view_count": null,
       "_view_module": "@jupyter-widgets/base",
       "_view_module_version": "2.0.0",
       "_view_name": "LayoutView",
       "align_content": null,
       "align_items": null,
       "align_self": null,
       "border_bottom": null,
       "border_left": null,
       "border_right": null,
       "border_top": null,
       "bottom": null,
       "display": null,
       "flex": null,
       "flex_flow": null,
       "grid_area": null,
       "grid_auto_columns": null,
       "grid_auto_flow": null,
       "grid_auto_rows": null,
       "grid_column": null,
       "grid_gap": null,
       "grid_row": null,
       "grid_template_areas": null,
       "grid_template_columns": null,
       "grid_template_rows": null,
       "height": "400px",
       "justify_content": null,
       "justify_items": null,
       "left": null,
       "margin": null,
       "max_height": null,
       "max_width": null,
       "min_height": null,
       "min_width": null,
       "object_fit": null,
       "object_position": null,
       "order": null,
       "overflow": null,
       "padding": null,
       "right": null,
       "top": null,
       "visibility": null,
       "width": null
      }
     },
     "a05f882b3fa34617b65b485a2329debe": {
      "model_module": "jupyter-cytoscape",
      "model_module_version": "^1.3.3",
      "model_name": "EdgeModel",
      "state": {
       "_model_module": "jupyter-cytoscape",
       "_model_module_version": "^1.3.3",
       "_model_name": "EdgeModel",
       "_view_count": null,
       "_view_module": "jupyter-cytoscape",
       "_view_module_version": "^1.3.3",
       "_view_name": "EdgeView",
       "classes": " directed ",
       "data": {
        "source": "4883712670035126184",
        "target": "-1187210135164072347"
       },
       "pannable": true,
       "removed": false,
       "selectable": false,
       "selected": false
      }
     },
     "a0673650f06e46e996ec5f91fa4e862d": {
      "model_module": "jupyter-cytoscape",
      "model_module_version": "^1.3.3",
      "model_name": "NodeModel",
      "state": {
       "_model_module": "jupyter-cytoscape",
       "_model_module_version": "^1.3.3",
       "_model_name": "NodeModel",
       "_view_count": null,
       "_view_module": "jupyter-cytoscape",
       "_view_module_version": "^1.3.3",
       "_view_name": "NodeView",
       "classes": "",
       "data": {
        "color": "gray",
        "id": "-4433715405637590577",
        "label": "moment_combine-partial",
        "shape": "ellipse"
       },
       "grabbable": true,
       "grabbed": false,
       "locked": false,
       "pannable": false,
       "position": {},
       "removed": false,
       "selectable": false,
       "selected": false
      }
     },
     "a0ced8cdf3ae415d96ce6647ab02c901": {
      "model_module": "jupyter-cytoscape",
      "model_module_version": "^1.3.3",
      "model_name": "NodeModel",
      "state": {
       "_model_module": "jupyter-cytoscape",
       "_model_module_version": "^1.3.3",
       "_model_name": "NodeModel",
       "_view_count": null,
       "_view_module": "jupyter-cytoscape",
       "_view_module_version": "^1.3.3",
       "_view_name": "NodeView",
       "classes": "",
       "data": {
        "color": "gray",
        "id": "5829049600450326880",
        "label": "moment_agg-aggregate",
        "shape": "ellipse"
       },
       "grabbable": true,
       "grabbed": false,
       "locked": false,
       "pannable": false,
       "position": {},
       "removed": false,
       "selectable": false,
       "selected": false
      }
     },
     "a11c62ce3e8f4228ade71c96f2b2868c": {
      "model_module": "jupyter-cytoscape",
      "model_module_version": "^1.3.3",
      "model_name": "EdgeModel",
      "state": {
       "_model_module": "jupyter-cytoscape",
       "_model_module_version": "^1.3.3",
       "_model_name": "EdgeModel",
       "_view_count": null,
       "_view_module": "jupyter-cytoscape",
       "_view_module_version": "^1.3.3",
       "_view_name": "EdgeView",
       "classes": " directed ",
       "data": {
        "source": "-1558499341429115856",
        "target": "5598287532537155435"
       },
       "pannable": true,
       "removed": false,
       "selectable": false,
       "selected": false
      }
     },
     "a1a07c01334c44a88e136590c6c3d2bd": {
      "model_module": "jupyter-cytoscape",
      "model_module_version": "^1.3.3",
      "model_name": "EdgeModel",
      "state": {
       "_model_module": "jupyter-cytoscape",
       "_model_module_version": "^1.3.3",
       "_model_name": "EdgeModel",
       "_view_count": null,
       "_view_module": "jupyter-cytoscape",
       "_view_module_version": "^1.3.3",
       "_view_name": "EdgeView",
       "classes": " directed ",
       "data": {
        "source": "8520729284168095130",
        "target": "1142692037050967999"
       },
       "pannable": true,
       "removed": false,
       "selectable": false,
       "selected": false
      }
     },
     "a289ee6face640e5aede94e3df67ca91": {
      "model_module": "jupyter-cytoscape",
      "model_module_version": "^1.3.3",
      "model_name": "EdgeModel",
      "state": {
       "_model_module": "jupyter-cytoscape",
       "_model_module_version": "^1.3.3",
       "_model_name": "EdgeModel",
       "_view_count": null,
       "_view_module": "jupyter-cytoscape",
       "_view_module_version": "^1.3.3",
       "_view_name": "EdgeView",
       "classes": " directed ",
       "data": {
        "source": "-2412321347944766871",
        "target": "48662832161684008"
       },
       "pannable": true,
       "removed": false,
       "selectable": false,
       "selected": false
      }
     },
     "a28cf74c16e54140952a13750fab5290": {
      "model_module": "jupyter-cytoscape",
      "model_module_version": "^1.3.3",
      "model_name": "EdgeModel",
      "state": {
       "_model_module": "jupyter-cytoscape",
       "_model_module_version": "^1.3.3",
       "_model_name": "EdgeModel",
       "_view_count": null,
       "_view_module": "jupyter-cytoscape",
       "_view_module_version": "^1.3.3",
       "_view_name": "EdgeView",
       "classes": " directed ",
       "data": {
        "source": "-154071489199622629",
        "target": "-1652547337611311416"
       },
       "pannable": true,
       "removed": false,
       "selectable": false,
       "selected": false
      }
     },
     "a3383aff9c4a4395a74426750a94911d": {
      "model_module": "jupyter-cytoscape",
      "model_module_version": "^1.3.3",
      "model_name": "EdgeModel",
      "state": {
       "_model_module": "jupyter-cytoscape",
       "_model_module_version": "^1.3.3",
       "_model_name": "EdgeModel",
       "_view_count": null,
       "_view_module": "jupyter-cytoscape",
       "_view_module_version": "^1.3.3",
       "_view_name": "EdgeView",
       "classes": " directed ",
       "data": {
        "source": "-2356434063889836357",
        "target": "-7825143019702143457"
       },
       "pannable": true,
       "removed": false,
       "selectable": false,
       "selected": false
      }
     },
     "a44b0076d20243c884ab0a3f2d3b04b7": {
      "model_module": "jupyter-cytoscape",
      "model_module_version": "^1.3.3",
      "model_name": "NodeModel",
      "state": {
       "_model_module": "jupyter-cytoscape",
       "_model_module_version": "^1.3.3",
       "_model_name": "NodeModel",
       "_view_count": null,
       "_view_module": "jupyter-cytoscape",
       "_view_module_version": "^1.3.3",
       "_view_name": "NodeView",
       "classes": "",
       "data": {
        "color": "gray",
        "id": "5856787332486628775",
        "label": "values",
        "shape": "ellipse"
       },
       "grabbable": true,
       "grabbed": false,
       "locked": false,
       "pannable": false,
       "position": {},
       "removed": false,
       "selectable": false,
       "selected": false
      }
     },
     "a4bb0e6ee0ca4531a3c47a0dbac9bf59": {
      "model_module": "jupyter-cytoscape",
      "model_module_version": "^1.3.3",
      "model_name": "NodeModel",
      "state": {
       "_model_module": "jupyter-cytoscape",
       "_model_module_version": "^1.3.3",
       "_model_name": "NodeModel",
       "_view_count": null,
       "_view_module": "jupyter-cytoscape",
       "_view_module_version": "^1.3.3",
       "_view_name": "NodeView",
       "classes": "",
       "data": {
        "color": "gray",
        "id": "5598287532537155435",
        "label": "series-count-agg",
        "shape": "ellipse"
       },
       "grabbable": true,
       "grabbed": false,
       "locked": false,
       "pannable": false,
       "position": {},
       "removed": false,
       "selectable": false,
       "selected": false
      }
     },
     "a5afbf145fe7419db2c208f5e63302e7": {
      "model_module": "jupyter-cytoscape",
      "model_module_version": "^1.3.3",
      "model_name": "NodeModel",
      "state": {
       "_model_module": "jupyter-cytoscape",
       "_model_module_version": "^1.3.3",
       "_model_name": "NodeModel",
       "_view_count": null,
       "_view_module": "jupyter-cytoscape",
       "_view_module_version": "^1.3.3",
       "_view_name": "NodeView",
       "classes": "",
       "data": {
        "color": "gray",
        "id": "6156303101781520643",
        "label": "series-count-chunk",
        "shape": "ellipse"
       },
       "grabbable": true,
       "grabbed": false,
       "locked": false,
       "pannable": false,
       "position": {},
       "removed": false,
       "selectable": false,
       "selected": false
      }
     },
     "a5df49776ee14baeae868fd9bef68c72": {
      "model_module": "jupyter-cytoscape",
      "model_module_version": "^1.3.3",
      "model_name": "EdgeModel",
      "state": {
       "_model_module": "jupyter-cytoscape",
       "_model_module_version": "^1.3.3",
       "_model_name": "EdgeModel",
       "_view_count": null,
       "_view_module": "jupyter-cytoscape",
       "_view_module_version": "^1.3.3",
       "_view_name": "EdgeView",
       "classes": " directed ",
       "data": {
        "source": "-9150371405169788046",
        "target": "5697749121941153255"
       },
       "pannable": true,
       "removed": false,
       "selectable": false,
       "selected": false
      }
     },
     "a71ee859411943308a6d9dd709b820b3": {
      "model_module": "jupyter-cytoscape",
      "model_module_version": "^1.3.3",
      "model_name": "EdgeModel",
      "state": {
       "_model_module": "jupyter-cytoscape",
       "_model_module_version": "^1.3.3",
       "_model_name": "EdgeModel",
       "_view_count": null,
       "_view_module": "jupyter-cytoscape",
       "_view_module_version": "^1.3.3",
       "_view_name": "EdgeView",
       "classes": " directed ",
       "data": {
        "source": "-4257297376197091680",
        "target": "5856787332486628775"
       },
       "pannable": true,
       "removed": false,
       "selectable": false,
       "selected": false
      }
     },
     "a7bb916eb7ba4294ba320778d946f90b": {
      "model_module": "jupyter-cytoscape",
      "model_module_version": "^1.3.3",
      "model_name": "EdgeModel",
      "state": {
       "_model_module": "jupyter-cytoscape",
       "_model_module_version": "^1.3.3",
       "_model_name": "EdgeModel",
       "_view_count": null,
       "_view_module": "jupyter-cytoscape",
       "_view_module_version": "^1.3.3",
       "_view_name": "EdgeView",
       "classes": " directed ",
       "data": {
        "source": "-1979946239608582986",
        "target": "7433946819223948491"
       },
       "pannable": true,
       "removed": false,
       "selectable": false,
       "selected": false
      }
     },
     "a835f1abb38f4be4bbc5bac6fcc9be85": {
      "model_module": "jupyter-cytoscape",
      "model_module_version": "^1.3.3",
      "model_name": "EdgeModel",
      "state": {
       "_model_module": "jupyter-cytoscape",
       "_model_module_version": "^1.3.3",
       "_model_name": "EdgeModel",
       "_view_count": null,
       "_view_module": "jupyter-cytoscape",
       "_view_module_version": "^1.3.3",
       "_view_name": "EdgeView",
       "classes": " directed ",
       "data": {
        "source": "6156303101781520643",
        "target": "-3173066068558417915"
       },
       "pannable": true,
       "removed": false,
       "selectable": false,
       "selected": false
      }
     },
     "a857585435a24e3b8a17a60c91aa4147": {
      "model_module": "jupyter-cytoscape",
      "model_module_version": "^1.3.3",
      "model_name": "NodeModel",
      "state": {
       "_model_module": "jupyter-cytoscape",
       "_model_module_version": "^1.3.3",
       "_model_name": "NodeModel",
       "_view_count": null,
       "_view_module": "jupyter-cytoscape",
       "_view_module_version": "^1.3.3",
       "_view_name": "NodeView",
       "classes": "",
       "data": {
        "color": "gray",
        "id": "-8051121799489138365",
        "label": "series-count-chunk",
        "shape": "ellipse"
       },
       "grabbable": true,
       "grabbed": false,
       "locked": false,
       "pannable": false,
       "position": {},
       "removed": false,
       "selectable": false,
       "selected": false
      }
     },
     "a8f472ef33d44195977db8fffb073ea5": {
      "model_module": "jupyter-cytoscape",
      "model_module_version": "^1.3.3",
      "model_name": "EdgeModel",
      "state": {
       "_model_module": "jupyter-cytoscape",
       "_model_module_version": "^1.3.3",
       "_model_name": "EdgeModel",
       "_view_count": null,
       "_view_module": "jupyter-cytoscape",
       "_view_module_version": "^1.3.3",
       "_view_name": "EdgeView",
       "classes": " directed ",
       "data": {
        "source": "6386447930201766889",
        "target": "904791665058480832"
       },
       "pannable": true,
       "removed": false,
       "selectable": false,
       "selected": false
      }
     },
     "ab34f1c2db974c6eb378064668d79b7a": {
      "model_module": "jupyter-cytoscape",
      "model_module_version": "^1.3.3",
      "model_name": "EdgeModel",
      "state": {
       "_model_module": "jupyter-cytoscape",
       "_model_module_version": "^1.3.3",
       "_model_name": "EdgeModel",
       "_view_count": null,
       "_view_module": "jupyter-cytoscape",
       "_view_module_version": "^1.3.3",
       "_view_name": "EdgeView",
       "classes": " directed ",
       "data": {
        "source": "-8256961136802021121",
        "target": "-7981147476444024036"
       },
       "pannable": true,
       "removed": false,
       "selectable": false,
       "selected": false
      }
     },
     "ab5b53361ce447538025deb0cc9fe483": {
      "model_module": "jupyter-cytoscape",
      "model_module_version": "^1.3.3",
      "model_name": "EdgeModel",
      "state": {
       "_model_module": "jupyter-cytoscape",
       "_model_module_version": "^1.3.3",
       "_model_name": "EdgeModel",
       "_view_count": null,
       "_view_module": "jupyter-cytoscape",
       "_view_module_version": "^1.3.3",
       "_view_name": "EdgeView",
       "classes": " directed ",
       "data": {
        "source": "9143195929476779555",
        "target": "-35267779333385455"
       },
       "pannable": true,
       "removed": false,
       "selectable": false,
       "selected": false
      }
     },
     "acef205974a74b09addca06032de88cf": {
      "model_module": "jupyter-cytoscape",
      "model_module_version": "^1.3.3",
      "model_name": "EdgeModel",
      "state": {
       "_model_module": "jupyter-cytoscape",
       "_model_module_version": "^1.3.3",
       "_model_name": "EdgeModel",
       "_view_count": null,
       "_view_module": "jupyter-cytoscape",
       "_view_module_version": "^1.3.3",
       "_view_name": "EdgeView",
       "classes": " directed ",
       "data": {
        "source": "7810156434728006639",
        "target": "-2356434063889836357"
       },
       "pannable": true,
       "removed": false,
       "selectable": false,
       "selected": false
      }
     },
     "acf0c94f5a2c41fb9900ed375b8d587b": {
      "model_module": "jupyter-cytoscape",
      "model_module_version": "^1.3.3",
      "model_name": "NodeModel",
      "state": {
       "_model_module": "jupyter-cytoscape",
       "_model_module_version": "^1.3.3",
       "_model_name": "NodeModel",
       "_view_count": null,
       "_view_module": "jupyter-cytoscape",
       "_view_module_version": "^1.3.3",
       "_view_name": "NodeView",
       "classes": "",
       "data": {
        "color": "gray",
        "id": "-5727319446779357876",
        "label": "4",
        "shape": "rectangle"
       },
       "grabbable": true,
       "grabbed": false,
       "locked": false,
       "pannable": false,
       "position": {},
       "removed": false,
       "selectable": false,
       "selected": false
      }
     },
     "ad92f37e272c4065983818d9ba9e4cfa": {
      "model_module": "jupyter-cytoscape",
      "model_module_version": "^1.3.3",
      "model_name": "NodeModel",
      "state": {
       "_model_module": "jupyter-cytoscape",
       "_model_module_version": "^1.3.3",
       "_model_name": "NodeModel",
       "_view_count": null,
       "_view_module": "jupyter-cytoscape",
       "_view_module_version": "^1.3.3",
       "_view_name": "NodeView",
       "classes": "",
       "data": {
        "color": "gray",
        "id": "4152557693480550832",
        "label": "getitem",
        "shape": "ellipse"
       },
       "grabbable": true,
       "grabbed": false,
       "locked": false,
       "pannable": false,
       "position": {},
       "removed": false,
       "selectable": false,
       "selected": false
      }
     },
     "adba166a58cc488f847a86762b82f462": {
      "model_module": "jupyter-cytoscape",
      "model_module_version": "^1.3.3",
      "model_name": "EdgeModel",
      "state": {
       "_model_module": "jupyter-cytoscape",
       "_model_module_version": "^1.3.3",
       "_model_name": "EdgeModel",
       "_view_count": null,
       "_view_module": "jupyter-cytoscape",
       "_view_module_version": "^1.3.3",
       "_view_name": "EdgeView",
       "classes": " directed ",
       "data": {
        "source": "3569704155424983290",
        "target": "-6631148748276159362"
       },
       "pannable": true,
       "removed": false,
       "selectable": false,
       "selected": false
      }
     },
     "adee3b0b7bd947db8f62cb0196bf2e1a": {
      "model_module": "jupyter-cytoscape",
      "model_module_version": "^1.3.3",
      "model_name": "NodeModel",
      "state": {
       "_model_module": "jupyter-cytoscape",
       "_model_module_version": "^1.3.3",
       "_model_name": "NodeModel",
       "_view_count": null,
       "_view_module": "jupyter-cytoscape",
       "_view_module_version": "^1.3.3",
       "_view_name": "NodeView",
       "classes": "",
       "data": {
        "color": "gray",
        "id": "-4494552228035901720",
        "label": "1",
        "shape": "rectangle"
       },
       "grabbable": true,
       "grabbed": false,
       "locked": false,
       "pannable": false,
       "position": {},
       "removed": false,
       "selectable": false,
       "selected": false
      }
     },
     "ae013fc73fe64e2bab381bdc3472bfbc": {
      "model_module": "jupyter-cytoscape",
      "model_module_version": "^1.3.3",
      "model_name": "NodeModel",
      "state": {
       "_model_module": "jupyter-cytoscape",
       "_model_module_version": "^1.3.3",
       "_model_name": "NodeModel",
       "_view_count": null,
       "_view_module": "jupyter-cytoscape",
       "_view_module_version": "^1.3.3",
       "_view_name": "NodeView",
       "classes": "",
       "data": {
        "color": "gray",
        "id": "-8864074819991834782",
        "label": "7",
        "shape": "rectangle"
       },
       "grabbable": true,
       "grabbed": false,
       "locked": false,
       "pannable": false,
       "position": {},
       "removed": false,
       "selectable": false,
       "selected": false
      }
     },
     "ae78f865daec45aabf1caebf74233690": {
      "model_module": "jupyter-cytoscape",
      "model_module_version": "^1.3.3",
      "model_name": "EdgeModel",
      "state": {
       "_model_module": "jupyter-cytoscape",
       "_model_module_version": "^1.3.3",
       "_model_name": "EdgeModel",
       "_view_count": null,
       "_view_module": "jupyter-cytoscape",
       "_view_module_version": "^1.3.3",
       "_view_name": "EdgeView",
       "classes": " directed ",
       "data": {
        "source": "7681805941410461511",
        "target": "-6440328712975458999"
       },
       "pannable": true,
       "removed": false,
       "selectable": false,
       "selected": false
      }
     },
     "afcb23a2ff1240c4b35b1960e1d06ce2": {
      "model_module": "jupyter-cytoscape",
      "model_module_version": "^1.3.3",
      "model_name": "NodeModel",
      "state": {
       "_model_module": "jupyter-cytoscape",
       "_model_module_version": "^1.3.3",
       "_model_name": "NodeModel",
       "_view_count": null,
       "_view_module": "jupyter-cytoscape",
       "_view_module_version": "^1.3.3",
       "_view_name": "NodeView",
       "classes": "",
       "data": {
        "color": "gray",
        "id": "3281120778090696937",
        "label": "inv",
        "shape": "ellipse"
       },
       "grabbable": true,
       "grabbed": false,
       "locked": false,
       "pannable": false,
       "position": {},
       "removed": false,
       "selectable": false,
       "selected": false
      }
     },
     "b03c7f4968f349b188d175dff860f958": {
      "model_module": "jupyter-cytoscape",
      "model_module_version": "^1.3.3",
      "model_name": "EdgeModel",
      "state": {
       "_model_module": "jupyter-cytoscape",
       "_model_module_version": "^1.3.3",
       "_model_name": "EdgeModel",
       "_view_count": null,
       "_view_module": "jupyter-cytoscape",
       "_view_module_version": "^1.3.3",
       "_view_name": "EdgeView",
       "classes": " directed ",
       "data": {
        "source": "4567714699587265051",
        "target": "-7254193139457174837"
       },
       "pannable": true,
       "removed": false,
       "selectable": false,
       "selected": false
      }
     },
     "b0a6450388704784b7c6615caf3bcc09": {
      "model_module": "jupyter-cytoscape",
      "model_module_version": "^1.3.3",
      "model_name": "NodeModel",
      "state": {
       "_model_module": "jupyter-cytoscape",
       "_model_module_version": "^1.3.3",
       "_model_name": "NodeModel",
       "_view_count": null,
       "_view_module": "jupyter-cytoscape",
       "_view_module_version": "^1.3.3",
       "_view_name": "NodeView",
       "classes": "",
       "data": {
        "color": "gray",
        "id": "3895475726457095320",
        "label": "values",
        "shape": "ellipse"
       },
       "grabbable": true,
       "grabbed": false,
       "locked": false,
       "pannable": false,
       "position": {},
       "removed": false,
       "selectable": false,
       "selected": false
      }
     },
     "b1d6a721db2540f28c4d6aebd9bcdae3": {
      "model_module": "jupyter-cytoscape",
      "model_module_version": "^1.3.3",
      "model_name": "NodeModel",
      "state": {
       "_model_module": "jupyter-cytoscape",
       "_model_module_version": "^1.3.3",
       "_model_name": "NodeModel",
       "_view_count": null,
       "_view_module": "jupyter-cytoscape",
       "_view_module_version": "^1.3.3",
       "_view_name": "NodeView",
       "classes": "",
       "data": {
        "color": "gray",
        "id": "-1652547337611311416",
        "label": "2",
        "shape": "rectangle"
       },
       "grabbable": true,
       "grabbed": false,
       "locked": false,
       "pannable": false,
       "position": {},
       "removed": false,
       "selectable": false,
       "selected": false
      }
     },
     "b228d808baa948c5a3e9fb0ec4ac6c21": {
      "model_module": "jupyter-cytoscape",
      "model_module_version": "^1.3.3",
      "model_name": "NodeModel",
      "state": {
       "_model_module": "jupyter-cytoscape",
       "_model_module_version": "^1.3.3",
       "_model_name": "NodeModel",
       "_view_count": null,
       "_view_module": "jupyter-cytoscape",
       "_view_module_version": "^1.3.3",
       "_view_name": "NodeView",
       "classes": "",
       "data": {
        "color": "gray",
        "id": "-8511482895934652330",
        "label": "2",
        "shape": "rectangle"
       },
       "grabbable": true,
       "grabbed": false,
       "locked": false,
       "pannable": false,
       "position": {},
       "removed": false,
       "selectable": false,
       "selected": false
      }
     },
     "b26a01b76c324cb3beda0257e69f5d18": {
      "model_module": "jupyter-cytoscape",
      "model_module_version": "^1.3.3",
      "model_name": "NodeModel",
      "state": {
       "_model_module": "jupyter-cytoscape",
       "_model_module_version": "^1.3.3",
       "_model_name": "NodeModel",
       "_view_count": null,
       "_view_module": "jupyter-cytoscape",
       "_view_module_version": "^1.3.3",
       "_view_name": "NodeView",
       "classes": "",
       "data": {
        "color": "gray",
        "id": "-1207204539207773367",
        "label": "8",
        "shape": "rectangle"
       },
       "grabbable": true,
       "grabbed": false,
       "locked": false,
       "pannable": false,
       "position": {},
       "removed": false,
       "selectable": false,
       "selected": false
      }
     },
     "b3168d7fff78481885bff7806a8d16a8": {
      "model_module": "jupyter-cytoscape",
      "model_module_version": "^1.3.3",
      "model_name": "NodeModel",
      "state": {
       "_model_module": "jupyter-cytoscape",
       "_model_module_version": "^1.3.3",
       "_model_name": "NodeModel",
       "_view_count": null,
       "_view_module": "jupyter-cytoscape",
       "_view_module_version": "^1.3.3",
       "_view_name": "NodeView",
       "classes": "",
       "data": {
        "color": "gray",
        "id": "7826350597957497374",
        "label": "5",
        "shape": "rectangle"
       },
       "grabbable": true,
       "grabbed": false,
       "locked": false,
       "pannable": false,
       "position": {},
       "removed": false,
       "selectable": false,
       "selected": false
      }
     },
     "b42b88a6f5ff43dc88ff4a195e1d92d4": {
      "model_module": "jupyter-cytoscape",
      "model_module_version": "^1.3.3",
      "model_name": "NodeModel",
      "state": {
       "_model_module": "jupyter-cytoscape",
       "_model_module_version": "^1.3.3",
       "_model_name": "NodeModel",
       "_view_count": null,
       "_view_module": "jupyter-cytoscape",
       "_view_module_version": "^1.3.3",
       "_view_name": "NodeView",
       "classes": "",
       "data": {
        "color": "gray",
        "id": "-3971000791019138416",
        "label": "6",
        "shape": "rectangle"
       },
       "grabbable": true,
       "grabbed": false,
       "locked": false,
       "pannable": false,
       "position": {},
       "removed": false,
       "selectable": false,
       "selected": false
      }
     },
     "b4f78967e1f849f0b4908388b5c74e8f": {
      "model_module": "jupyter-cytoscape",
      "model_module_version": "^1.3.3",
      "model_name": "NodeModel",
      "state": {
       "_model_module": "jupyter-cytoscape",
       "_model_module_version": "^1.3.3",
       "_model_name": "NodeModel",
       "_view_count": null,
       "_view_module": "jupyter-cytoscape",
       "_view_module_version": "^1.3.3",
       "_view_name": "NodeView",
       "classes": "",
       "data": {
        "color": "gray",
        "id": "-9005826748622752183",
        "label": "7",
        "shape": "rectangle"
       },
       "grabbable": true,
       "grabbed": false,
       "locked": false,
       "pannable": false,
       "position": {},
       "removed": false,
       "selectable": false,
       "selected": false
      }
     },
     "b59b4aa191a842968061be3febd56d15": {
      "model_module": "jupyter-cytoscape",
      "model_module_version": "^1.3.3",
      "model_name": "NodeModel",
      "state": {
       "_model_module": "jupyter-cytoscape",
       "_model_module_version": "^1.3.3",
       "_model_name": "NodeModel",
       "_view_count": null,
       "_view_module": "jupyter-cytoscape",
       "_view_module_version": "^1.3.3",
       "_view_name": "NodeView",
       "classes": "",
       "data": {
        "color": "gray",
        "id": "8520729284168095130",
        "label": "3",
        "shape": "rectangle"
       },
       "grabbable": true,
       "grabbed": false,
       "locked": false,
       "pannable": false,
       "position": {},
       "removed": false,
       "selectable": false,
       "selected": false
      }
     },
     "b59cc98b124542a2a63c8b2acf67ffd8": {
      "model_module": "jupyter-cytoscape",
      "model_module_version": "^1.3.3",
      "model_name": "NodeModel",
      "state": {
       "_model_module": "jupyter-cytoscape",
       "_model_module_version": "^1.3.3",
       "_model_name": "NodeModel",
       "_view_count": null,
       "_view_module": "jupyter-cytoscape",
       "_view_module_version": "^1.3.3",
       "_view_name": "NodeView",
       "classes": "",
       "data": {
        "color": "gray",
        "id": "-2412321347944766871",
        "label": "0",
        "shape": "rectangle"
       },
       "grabbable": true,
       "grabbed": false,
       "locked": false,
       "pannable": false,
       "position": {},
       "removed": false,
       "selectable": false,
       "selected": false
      }
     },
     "b5d7aa1b8b314998bb13fa53096f7008": {
      "model_module": "jupyter-cytoscape",
      "model_module_version": "^1.3.3",
      "model_name": "NodeModel",
      "state": {
       "_model_module": "jupyter-cytoscape",
       "_model_module_version": "^1.3.3",
       "_model_name": "NodeModel",
       "_view_count": null,
       "_view_module": "jupyter-cytoscape",
       "_view_module_version": "^1.3.3",
       "_view_name": "NodeView",
       "classes": "",
       "data": {
        "color": "gray",
        "id": "-6268809425238594695",
        "label": "0",
        "shape": "rectangle"
       },
       "grabbable": true,
       "grabbed": false,
       "locked": false,
       "pannable": false,
       "position": {},
       "removed": false,
       "selectable": false,
       "selected": false
      }
     },
     "b63a6a126bb946028fc3122dfb32f191": {
      "model_module": "jupyter-cytoscape",
      "model_module_version": "^1.3.3",
      "model_name": "NodeModel",
      "state": {
       "_model_module": "jupyter-cytoscape",
       "_model_module_version": "^1.3.3",
       "_model_name": "NodeModel",
       "_view_count": null,
       "_view_module": "jupyter-cytoscape",
       "_view_module_version": "^1.3.3",
       "_view_name": "NodeView",
       "classes": "",
       "data": {
        "color": "gray",
        "id": "-1204491708059149465",
        "label": "5",
        "shape": "rectangle"
       },
       "grabbable": true,
       "grabbed": false,
       "locked": false,
       "pannable": false,
       "position": {},
       "removed": false,
       "selectable": false,
       "selected": false
      }
     },
     "b640c49a498d45ceac802f558b82223e": {
      "model_module": "jupyter-cytoscape",
      "model_module_version": "^1.3.3",
      "model_name": "EdgeModel",
      "state": {
       "_model_module": "jupyter-cytoscape",
       "_model_module_version": "^1.3.3",
       "_model_name": "EdgeModel",
       "_view_count": null,
       "_view_module": "jupyter-cytoscape",
       "_view_module_version": "^1.3.3",
       "_view_name": "EdgeView",
       "classes": " directed ",
       "data": {
        "source": "-7825143019702143457",
        "target": "7910133727375015374"
       },
       "pannable": true,
       "removed": false,
       "selectable": false,
       "selected": false
      }
     },
     "b65bfefc7e34430db466517ba4430509": {
      "model_module": "jupyter-cytoscape",
      "model_module_version": "^1.3.3",
      "model_name": "EdgeModel",
      "state": {
       "_model_module": "jupyter-cytoscape",
       "_model_module_version": "^1.3.3",
       "_model_name": "EdgeModel",
       "_view_count": null,
       "_view_module": "jupyter-cytoscape",
       "_view_module_version": "^1.3.3",
       "_view_name": "EdgeView",
       "classes": " directed ",
       "data": {
        "source": "-565427266404841403",
        "target": "3569704155424983290"
       },
       "pannable": true,
       "removed": false,
       "selectable": false,
       "selected": false
      }
     },
     "b698891ae78841678b356207d656b421": {
      "model_module": "jupyter-cytoscape",
      "model_module_version": "^1.3.3",
      "model_name": "NodeModel",
      "state": {
       "_model_module": "jupyter-cytoscape",
       "_model_module_version": "^1.3.3",
       "_model_name": "NodeModel",
       "_view_count": null,
       "_view_module": "jupyter-cytoscape",
       "_view_module_version": "^1.3.3",
       "_view_name": "NodeView",
       "classes": "",
       "data": {
        "color": "gray",
        "id": "7870150832040137183",
        "label": "read-csv",
        "shape": "ellipse"
       },
       "grabbable": true,
       "grabbed": false,
       "locked": false,
       "pannable": false,
       "position": {},
       "removed": false,
       "selectable": false,
       "selected": false
      }
     },
     "b6b42f70aaa14e9e9c23b1f83ce9b960": {
      "model_module": "jupyter-cytoscape",
      "model_module_version": "^1.3.3",
      "model_name": "EdgeModel",
      "state": {
       "_model_module": "jupyter-cytoscape",
       "_model_module_version": "^1.3.3",
       "_model_name": "EdgeModel",
       "_view_count": null,
       "_view_module": "jupyter-cytoscape",
       "_view_module_version": "^1.3.3",
       "_view_name": "EdgeView",
       "classes": " directed ",
       "data": {
        "source": "2558331743611124951",
        "target": "-9150371405169788046"
       },
       "pannable": true,
       "removed": false,
       "selectable": false,
       "selected": false
      }
     },
     "b6ee68cac76348acbc6e5df61c24aab0": {
      "model_module": "jupyter-cytoscape",
      "model_module_version": "^1.3.3",
      "model_name": "NodeModel",
      "state": {
       "_model_module": "jupyter-cytoscape",
       "_model_module_version": "^1.3.3",
       "_model_name": "NodeModel",
       "_view_count": null,
       "_view_module": "jupyter-cytoscape",
       "_view_module_version": "^1.3.3",
       "_view_name": "NodeView",
       "classes": "",
       "data": {
        "color": "gray",
        "id": "7968102526588414775",
        "label": "5",
        "shape": "rectangle"
       },
       "grabbable": true,
       "grabbed": false,
       "locked": false,
       "pannable": false,
       "position": {},
       "removed": false,
       "selectable": false,
       "selected": false
      }
     },
     "b720446a5d8347aaa8da253f26138258": {
      "model_module": "jupyter-cytoscape",
      "model_module_version": "^1.3.3",
      "model_name": "EdgeModel",
      "state": {
       "_model_module": "jupyter-cytoscape",
       "_model_module_version": "^1.3.3",
       "_model_name": "EdgeModel",
       "_view_count": null,
       "_view_module": "jupyter-cytoscape",
       "_view_module_version": "^1.3.3",
       "_view_name": "EdgeView",
       "classes": " directed ",
       "data": {
        "source": "785913499569917221",
        "target": "3815091433007580698"
       },
       "pannable": true,
       "removed": false,
       "selectable": false,
       "selected": false
      }
     },
     "b81e1cdd234b4fac9c1b9c4699c1b7a7": {
      "model_module": "jupyter-cytoscape",
      "model_module_version": "^1.3.3",
      "model_name": "NodeModel",
      "state": {
       "_model_module": "jupyter-cytoscape",
       "_model_module_version": "^1.3.3",
       "_model_name": "NodeModel",
       "_view_count": null,
       "_view_module": "jupyter-cytoscape",
       "_view_module_version": "^1.3.3",
       "_view_name": "NodeView",
       "classes": "",
       "data": {
        "color": "gray",
        "id": "4085247683239269979",
        "label": "inv",
        "shape": "ellipse"
       },
       "grabbable": true,
       "grabbed": false,
       "locked": false,
       "pannable": false,
       "position": {},
       "removed": false,
       "selectable": false,
       "selected": false
      }
     },
     "b882aa7bb33747789479a412aae4f45e": {
      "model_module": "jupyter-cytoscape",
      "model_module_version": "^1.3.3",
      "model_name": "EdgeModel",
      "state": {
       "_model_module": "jupyter-cytoscape",
       "_model_module_version": "^1.3.3",
       "_model_name": "EdgeModel",
       "_view_count": null,
       "_view_module": "jupyter-cytoscape",
       "_view_module_version": "^1.3.3",
       "_view_name": "EdgeView",
       "classes": " directed ",
       "data": {
        "source": "-5978474033132357694",
        "target": "833260328992629715"
       },
       "pannable": true,
       "removed": false,
       "selectable": false,
       "selected": false
      }
     },
     "b8a9bb287a7a44fc839bf06e04f1de26": {
      "model_module": "jupyter-cytoscape",
      "model_module_version": "^1.3.3",
      "model_name": "NodeModel",
      "state": {
       "_model_module": "jupyter-cytoscape",
       "_model_module_version": "^1.3.3",
       "_model_name": "NodeModel",
       "_view_count": null,
       "_view_module": "jupyter-cytoscape",
       "_view_module_version": "^1.3.3",
       "_view_name": "NodeView",
       "classes": "",
       "data": {
        "color": "gray",
        "id": "2558331743611124951",
        "label": "getitem",
        "shape": "ellipse"
       },
       "grabbable": true,
       "grabbed": false,
       "locked": false,
       "pannable": false,
       "position": {},
       "removed": false,
       "selectable": false,
       "selected": false
      }
     },
     "b97a007043cd4f2aa98938f596c30a03": {
      "model_module": "jupyter-cytoscape",
      "model_module_version": "^1.3.3",
      "model_name": "EdgeModel",
      "state": {
       "_model_module": "jupyter-cytoscape",
       "_model_module_version": "^1.3.3",
       "_model_name": "EdgeModel",
       "_view_count": null,
       "_view_module": "jupyter-cytoscape",
       "_view_module_version": "^1.3.3",
       "_view_name": "EdgeView",
       "classes": " directed ",
       "data": {
        "source": "-4581373977005740986",
        "target": "2458431326469634754"
       },
       "pannable": true,
       "removed": false,
       "selectable": false,
       "selected": false
      }
     },
     "b983f041b0fe473290aa4b44a4406827": {
      "model_module": "jupyter-cytoscape",
      "model_module_version": "^1.3.3",
      "model_name": "EdgeModel",
      "state": {
       "_model_module": "jupyter-cytoscape",
       "_model_module_version": "^1.3.3",
       "_model_name": "EdgeModel",
       "_view_count": null,
       "_view_module": "jupyter-cytoscape",
       "_view_module_version": "^1.3.3",
       "_view_name": "EdgeView",
       "classes": " directed ",
       "data": {
        "source": "-8027829037907954918",
        "target": "-8229006598630537056"
       },
       "pannable": true,
       "removed": false,
       "selectable": false,
       "selected": false
      }
     },
     "b98568c506d84e5da711b610d7055e2b": {
      "model_module": "jupyter-cytoscape",
      "model_module_version": "^1.3.3",
      "model_name": "EdgeModel",
      "state": {
       "_model_module": "jupyter-cytoscape",
       "_model_module_version": "^1.3.3",
       "_model_name": "EdgeModel",
       "_view_count": null,
       "_view_module": "jupyter-cytoscape",
       "_view_module_version": "^1.3.3",
       "_view_name": "EdgeView",
       "classes": " directed ",
       "data": {
        "source": "3042746352614232499",
        "target": "-3971000791019138416"
       },
       "pannable": true,
       "removed": false,
       "selectable": false,
       "selected": false
      }
     },
     "ba2b81c122de4933ab4a6f3524d30862": {
      "model_module": "jupyter-cytoscape",
      "model_module_version": "^1.3.3",
      "model_name": "EdgeModel",
      "state": {
       "_model_module": "jupyter-cytoscape",
       "_model_module_version": "^1.3.3",
       "_model_name": "EdgeModel",
       "_view_count": null,
       "_view_module": "jupyter-cytoscape",
       "_view_module_version": "^1.3.3",
       "_view_name": "EdgeView",
       "classes": " directed ",
       "data": {
        "source": "-8066140097531114281",
        "target": "5598287532537155435"
       },
       "pannable": true,
       "removed": false,
       "selectable": false,
       "selected": false
      }
     },
     "ba3027a755db4c1d8848d155c0688b37": {
      "model_module": "jupyter-cytoscape",
      "model_module_version": "^1.3.3",
      "model_name": "NodeModel",
      "state": {
       "_model_module": "jupyter-cytoscape",
       "_model_module_version": "^1.3.3",
       "_model_name": "NodeModel",
       "_view_count": null,
       "_view_module": "jupyter-cytoscape",
       "_view_module_version": "^1.3.3",
       "_view_name": "NodeView",
       "classes": "",
       "data": {
        "color": "gray",
        "id": "4015821015065735090",
        "label": "values",
        "shape": "ellipse"
       },
       "grabbable": true,
       "grabbed": false,
       "locked": false,
       "pannable": false,
       "position": {},
       "removed": false,
       "selectable": false,
       "selected": false
      }
     },
     "ba91add6f9554a2194e79da6b701c207": {
      "model_module": "jupyter-cytoscape",
      "model_module_version": "^1.3.3",
      "model_name": "NodeModel",
      "state": {
       "_model_module": "jupyter-cytoscape",
       "_model_module_version": "^1.3.3",
       "_model_name": "NodeModel",
       "_view_count": null,
       "_view_module": "jupyter-cytoscape",
       "_view_module_version": "^1.3.3",
       "_view_name": "NodeView",
       "classes": "",
       "data": {
        "color": "gray",
        "id": "-86761478958341776",
        "label": "getitem",
        "shape": "ellipse"
       },
       "grabbable": true,
       "grabbed": false,
       "locked": false,
       "pannable": false,
       "position": {},
       "removed": false,
       "selectable": false,
       "selected": false
      }
     },
     "ba985caed7ad40bcafaf5f4d68a8e902": {
      "model_module": "jupyter-cytoscape",
      "model_module_version": "^1.3.3",
      "model_name": "NodeModel",
      "state": {
       "_model_module": "jupyter-cytoscape",
       "_model_module_version": "^1.3.3",
       "_model_name": "NodeModel",
       "_view_count": null,
       "_view_module": "jupyter-cytoscape",
       "_view_module_version": "^1.3.3",
       "_view_name": "NodeView",
       "classes": "",
       "data": {
        "color": "gray",
        "id": "3688582320913546901",
        "label": "4",
        "shape": "rectangle"
       },
       "grabbable": true,
       "grabbed": false,
       "locked": false,
       "pannable": false,
       "position": {},
       "removed": false,
       "selectable": false,
       "selected": false
      }
     },
     "bb68cfc0a12342f4bc7d6e9e48e8abb6": {
      "model_module": "jupyter-cytoscape",
      "model_module_version": "^1.3.3",
      "model_name": "EdgeModel",
      "state": {
       "_model_module": "jupyter-cytoscape",
       "_model_module_version": "^1.3.3",
       "_model_name": "EdgeModel",
       "_view_count": null,
       "_view_module": "jupyter-cytoscape",
       "_view_module_version": "^1.3.3",
       "_view_name": "EdgeView",
       "classes": " directed ",
       "data": {
        "source": "9026999148289781316",
        "target": "-6274681723058484262"
       },
       "pannable": true,
       "removed": false,
       "selectable": false,
       "selected": false
      }
     },
     "bc13d2a4cac1453abbc4db1a9f71d520": {
      "model_module": "jupyter-cytoscape",
      "model_module_version": "^1.3.3",
      "model_name": "NodeModel",
      "state": {
       "_model_module": "jupyter-cytoscape",
       "_model_module_version": "^1.3.3",
       "_model_name": "NodeModel",
       "_view_count": null,
       "_view_module": "jupyter-cytoscape",
       "_view_module_version": "^1.3.3",
       "_view_name": "NodeView",
       "classes": "",
       "data": {
        "color": "gray",
        "id": "86719889715495271",
        "label": "inv",
        "shape": "ellipse"
       },
       "grabbable": true,
       "grabbed": false,
       "locked": false,
       "pannable": false,
       "position": {},
       "removed": false,
       "selectable": false,
       "selected": false
      }
     },
     "bca2fcd93dc2438f935232331070f7f6": {
      "model_module": "jupyter-cytoscape",
      "model_module_version": "^1.3.3",
      "model_name": "NodeModel",
      "state": {
       "_model_module": "jupyter-cytoscape",
       "_model_module_version": "^1.3.3",
       "_model_name": "NodeModel",
       "_view_count": null,
       "_view_module": "jupyter-cytoscape",
       "_view_module_version": "^1.3.3",
       "_view_name": "NodeView",
       "classes": "",
       "data": {
        "color": "gray",
        "id": "6571839432282593364",
        "label": "getitem",
        "shape": "ellipse"
       },
       "grabbable": true,
       "grabbed": false,
       "locked": false,
       "pannable": false,
       "position": {},
       "removed": false,
       "selectable": false,
       "selected": false
      }
     },
     "bcbc6d51d58c407fb36538a4df81ec13": {
      "model_module": "jupyter-cytoscape",
      "model_module_version": "^1.3.3",
      "model_name": "EdgeModel",
      "state": {
       "_model_module": "jupyter-cytoscape",
       "_model_module_version": "^1.3.3",
       "_model_name": "EdgeModel",
       "_view_count": null,
       "_view_module": "jupyter-cytoscape",
       "_view_module_version": "^1.3.3",
       "_view_name": "EdgeView",
       "classes": " directed ",
       "data": {
        "source": "-5426521304922855690",
        "target": "7282065525053125107"
       },
       "pannable": true,
       "removed": false,
       "selectable": false,
       "selected": false
      }
     },
     "bd495eafa228442d96e503cdaa016b1b": {
      "model_module": "jupyter-cytoscape",
      "model_module_version": "^1.3.3",
      "model_name": "NodeModel",
      "state": {
       "_model_module": "jupyter-cytoscape",
       "_model_module_version": "^1.3.3",
       "_model_name": "NodeModel",
       "_view_count": null,
       "_view_module": "jupyter-cytoscape",
       "_view_module_version": "^1.3.3",
       "_view_name": "NodeView",
       "classes": "",
       "data": {
        "color": "gray",
        "id": "3124361357021445241",
        "label": "0",
        "shape": "rectangle"
       },
       "grabbable": true,
       "grabbed": false,
       "locked": false,
       "pannable": false,
       "position": {},
       "removed": false,
       "selectable": false,
       "selected": false
      }
     },
     "bd4e4ca814824a678a8de348354dd14e": {
      "model_module": "jupyter-cytoscape",
      "model_module_version": "^1.3.3",
      "model_name": "EdgeModel",
      "state": {
       "_model_module": "jupyter-cytoscape",
       "_model_module_version": "^1.3.3",
       "_model_name": "EdgeModel",
       "_view_count": null,
       "_view_module": "jupyter-cytoscape",
       "_view_module_version": "^1.3.3",
       "_view_name": "EdgeView",
       "classes": " directed ",
       "data": {
        "source": "-2172934766607634222",
        "target": "7825977804657268989"
       },
       "pannable": true,
       "removed": false,
       "selectable": false,
       "selected": false
      }
     },
     "be2a1f71761c45c294dc0e333a5b913f": {
      "model_module": "jupyter-cytoscape",
      "model_module_version": "^1.3.3",
      "model_name": "EdgeModel",
      "state": {
       "_model_module": "jupyter-cytoscape",
       "_model_module_version": "^1.3.3",
       "_model_name": "EdgeModel",
       "_view_count": null,
       "_view_module": "jupyter-cytoscape",
       "_view_module_version": "^1.3.3",
       "_view_name": "EdgeView",
       "classes": " directed ",
       "data": {
        "source": "-4257297376197091680",
        "target": "-2201009540536566391"
       },
       "pannable": true,
       "removed": false,
       "selectable": false,
       "selected": false
      }
     },
     "be631b9f24134b03be462e51ca863d4c": {
      "model_module": "jupyter-cytoscape",
      "model_module_version": "^1.3.3",
      "model_name": "EdgeModel",
      "state": {
       "_model_module": "jupyter-cytoscape",
       "_model_module_version": "^1.3.3",
       "_model_name": "EdgeModel",
       "_view_count": null,
       "_view_module": "jupyter-cytoscape",
       "_view_module_version": "^1.3.3",
       "_view_name": "EdgeView",
       "classes": " directed ",
       "data": {
        "source": "1955137428295681231",
        "target": "-2784073144757156028"
       },
       "pannable": true,
       "removed": false,
       "selectable": false,
       "selected": false
      }
     },
     "be757a1c1dc64d1cbea1255355f44a9d": {
      "model_module": "jupyter-cytoscape",
      "model_module_version": "^1.3.3",
      "model_name": "EdgeModel",
      "state": {
       "_model_module": "jupyter-cytoscape",
       "_model_module_version": "^1.3.3",
       "_model_name": "EdgeModel",
       "_view_count": null,
       "_view_module": "jupyter-cytoscape",
       "_view_module_version": "^1.3.3",
       "_view_name": "EdgeView",
       "classes": " directed ",
       "data": {
        "source": "-808882047645422660",
        "target": "9137326455314178785"
       },
       "pannable": true,
       "removed": false,
       "selectable": false,
       "selected": false
      }
     },
     "bfea92b2c75b45dc9ed4d362b0f37537": {
      "model_module": "jupyter-cytoscape",
      "model_module_version": "^1.3.3",
      "model_name": "NodeModel",
      "state": {
       "_model_module": "jupyter-cytoscape",
       "_model_module_version": "^1.3.3",
       "_model_name": "NodeModel",
       "_view_count": null,
       "_view_module": "jupyter-cytoscape",
       "_view_module_version": "^1.3.3",
       "_view_name": "NodeView",
       "classes": "",
       "data": {
        "color": "gray",
        "id": "-3335932569657840690",
        "label": "0",
        "shape": "rectangle"
       },
       "grabbable": true,
       "grabbed": false,
       "locked": false,
       "pannable": false,
       "position": {},
       "removed": false,
       "selectable": false,
       "selected": false
      }
     },
     "c001043aa0e148c0a78319c0db3a33b3": {
      "model_module": "jupyter-cytoscape",
      "model_module_version": "^1.3.3",
      "model_name": "NodeModel",
      "state": {
       "_model_module": "jupyter-cytoscape",
       "_model_module_version": "^1.3.3",
       "_model_name": "NodeModel",
       "_view_count": null,
       "_view_module": "jupyter-cytoscape",
       "_view_module_version": "^1.3.3",
       "_view_name": "NodeView",
       "classes": "",
       "data": {
        "color": "gray",
        "id": "-2356434063889836357",
        "label": "8",
        "shape": "rectangle"
       },
       "grabbable": true,
       "grabbed": false,
       "locked": false,
       "pannable": false,
       "position": {},
       "removed": false,
       "selectable": false,
       "selected": false
      }
     },
     "c006b08047f44fc688ba4c5cf3fdcefd": {
      "model_module": "jupyter-cytoscape",
      "model_module_version": "^1.3.3",
      "model_name": "EdgeModel",
      "state": {
       "_model_module": "jupyter-cytoscape",
       "_model_module_version": "^1.3.3",
       "_model_name": "EdgeModel",
       "_view_count": null,
       "_view_module": "jupyter-cytoscape",
       "_view_module_version": "^1.3.3",
       "_view_name": "EdgeView",
       "classes": " directed ",
       "data": {
        "source": "-7551483226870930168",
        "target": "-6119723225512906759"
       },
       "pannable": true,
       "removed": false,
       "selectable": false,
       "selected": false
      }
     },
     "c099952c63dc4bacbaa6a0829ecef2c2": {
      "model_module": "jupyter-cytoscape",
      "model_module_version": "^1.3.3",
      "model_name": "EdgeModel",
      "state": {
       "_model_module": "jupyter-cytoscape",
       "_model_module_version": "^1.3.3",
       "_model_name": "EdgeModel",
       "_view_count": null,
       "_view_module": "jupyter-cytoscape",
       "_view_module_version": "^1.3.3",
       "_view_name": "EdgeView",
       "classes": " directed ",
       "data": {
        "source": "5528288664769083815",
        "target": "5829049600450326880"
       },
       "pannable": true,
       "removed": false,
       "selectable": false,
       "selected": false
      }
     },
     "c0a30030bd5d4ac5aac4d459464e295b": {
      "model_module": "jupyter-cytoscape",
      "model_module_version": "^1.3.3",
      "model_name": "EdgeModel",
      "state": {
       "_model_module": "jupyter-cytoscape",
       "_model_module_version": "^1.3.3",
       "_model_name": "EdgeModel",
       "_view_count": null,
       "_view_module": "jupyter-cytoscape",
       "_view_module_version": "^1.3.3",
       "_view_name": "EdgeView",
       "classes": " directed ",
       "data": {
        "source": "-3811954577793553631",
        "target": "1240472957130174564"
       },
       "pannable": true,
       "removed": false,
       "selectable": false,
       "selected": false
      }
     },
     "c0f081c375dc4059a5d7e4ba61ff8f45": {
      "model_module": "jupyter-cytoscape",
      "model_module_version": "^1.3.3",
      "model_name": "EdgeModel",
      "state": {
       "_model_module": "jupyter-cytoscape",
       "_model_module_version": "^1.3.3",
       "_model_name": "EdgeModel",
       "_view_count": null,
       "_view_module": "jupyter-cytoscape",
       "_view_module_version": "^1.3.3",
       "_view_name": "EdgeView",
       "classes": " directed ",
       "data": {
        "source": "3124361357021445241",
        "target": "1765736428231983474"
       },
       "pannable": true,
       "removed": false,
       "selectable": false,
       "selected": false
      }
     },
     "c13dce1c0570438b8dd1056d08a74d6d": {
      "model_module": "jupyter-cytoscape",
      "model_module_version": "^1.3.3",
      "model_name": "EdgeModel",
      "state": {
       "_model_module": "jupyter-cytoscape",
       "_model_module_version": "^1.3.3",
       "_model_name": "EdgeModel",
       "_view_count": null,
       "_view_module": "jupyter-cytoscape",
       "_view_module_version": "^1.3.3",
       "_view_name": "EdgeView",
       "classes": " directed ",
       "data": {
        "source": "-3337048831945179802",
        "target": "7813178480235993364"
       },
       "pannable": true,
       "removed": false,
       "selectable": false,
       "selected": false
      }
     },
     "c1d807fa520b47648a82b2b59c74e4a5": {
      "model_module": "jupyter-cytoscape",
      "model_module_version": "^1.3.3",
      "model_name": "NodeModel",
      "state": {
       "_model_module": "jupyter-cytoscape",
       "_model_module_version": "^1.3.3",
       "_model_name": "NodeModel",
       "_view_count": null,
       "_view_module": "jupyter-cytoscape",
       "_view_module_version": "^1.3.3",
       "_view_name": "NodeView",
       "classes": "",
       "data": {
        "color": "gray",
        "id": "2332520259843700756",
        "label": "getitem",
        "shape": "ellipse"
       },
       "grabbable": true,
       "grabbed": false,
       "locked": false,
       "pannable": false,
       "position": {},
       "removed": false,
       "selectable": false,
       "selected": false
      }
     },
     "c24f976ed6784f6d91012f8020de1618": {
      "model_module": "jupyter-cytoscape",
      "model_module_version": "^1.3.3",
      "model_name": "NodeModel",
      "state": {
       "_model_module": "jupyter-cytoscape",
       "_model_module_version": "^1.3.3",
       "_model_name": "NodeModel",
       "_view_count": null,
       "_view_module": "jupyter-cytoscape",
       "_view_module_version": "^1.3.3",
       "_view_name": "NodeView",
       "classes": "",
       "data": {
        "color": "gray",
        "id": "-6119723225512906759",
        "label": "2",
        "shape": "rectangle"
       },
       "grabbable": true,
       "grabbed": false,
       "locked": false,
       "pannable": false,
       "position": {},
       "removed": false,
       "selectable": false,
       "selected": false
      }
     },
     "c3d454ffea8f493d8372f030f0ec955e": {
      "model_module": "jupyter-cytoscape",
      "model_module_version": "^1.3.3",
      "model_name": "NodeModel",
      "state": {
       "_model_module": "jupyter-cytoscape",
       "_model_module_version": "^1.3.3",
       "_model_name": "NodeModel",
       "_view_count": null,
       "_view_module": "jupyter-cytoscape",
       "_view_module_version": "^1.3.3",
       "_view_name": "NodeView",
       "classes": "",
       "data": {
        "color": "gray",
        "id": "-2406393583825735088",
        "label": "read-csv",
        "shape": "ellipse"
       },
       "grabbable": true,
       "grabbed": false,
       "locked": false,
       "pannable": false,
       "position": {},
       "removed": false,
       "selectable": false,
       "selected": false
      }
     },
     "c46a016d0b104be8a8d0c42511b453dd": {
      "model_module": "jupyter-cytoscape",
      "model_module_version": "^1.3.3",
      "model_name": "NodeModel",
      "state": {
       "_model_module": "jupyter-cytoscape",
       "_model_module_version": "^1.3.3",
       "_model_name": "NodeModel",
       "_view_count": null,
       "_view_module": "jupyter-cytoscape",
       "_view_module_version": "^1.3.3",
       "_view_name": "NodeView",
       "classes": "",
       "data": {
        "color": "gray",
        "id": "-6631148748276159362",
        "label": "getitem",
        "shape": "ellipse"
       },
       "grabbable": true,
       "grabbed": false,
       "locked": false,
       "pannable": false,
       "position": {},
       "removed": false,
       "selectable": false,
       "selected": false
      }
     },
     "c4c4e6b21ff44b60bcaf179cf172c23a": {
      "model_module": "jupyter-cytoscape",
      "model_module_version": "^1.3.3",
      "model_name": "EdgeModel",
      "state": {
       "_model_module": "jupyter-cytoscape",
       "_model_module_version": "^1.3.3",
       "_model_name": "EdgeModel",
       "_view_count": null,
       "_view_module": "jupyter-cytoscape",
       "_view_module_version": "^1.3.3",
       "_view_name": "EdgeView",
       "classes": " directed ",
       "data": {
        "source": "3856782804520259570",
        "target": "843864599340332695"
       },
       "pannable": true,
       "removed": false,
       "selectable": false,
       "selected": false
      }
     },
     "c530475f36e24a309418980fc57a6477": {
      "model_module": "jupyter-cytoscape",
      "model_module_version": "^1.3.3",
      "model_name": "EdgeModel",
      "state": {
       "_model_module": "jupyter-cytoscape",
       "_model_module_version": "^1.3.3",
       "_model_name": "EdgeModel",
       "_view_count": null,
       "_view_module": "jupyter-cytoscape",
       "_view_module_version": "^1.3.3",
       "_view_name": "EdgeView",
       "classes": " directed ",
       "data": {
        "source": "-6542908535435383880",
        "target": "-4433715405637590577"
       },
       "pannable": true,
       "removed": false,
       "selectable": false,
       "selected": false
      }
     },
     "c580f512ed504063aaa62fcdb3b758b2": {
      "model_module": "jupyter-cytoscape",
      "model_module_version": "^1.3.3",
      "model_name": "NodeModel",
      "state": {
       "_model_module": "jupyter-cytoscape",
       "_model_module_version": "^1.3.3",
       "_model_name": "NodeModel",
       "_view_count": null,
       "_view_module": "jupyter-cytoscape",
       "_view_module_version": "^1.3.3",
       "_view_name": "NodeView",
       "classes": "",
       "data": {
        "color": "gray",
        "id": "-2943528790924291807",
        "label": "2",
        "shape": "rectangle"
       },
       "grabbable": true,
       "grabbed": false,
       "locked": false,
       "pannable": false,
       "position": {},
       "removed": false,
       "selectable": false,
       "selected": false
      }
     },
     "c5989d383088411aba738b65ea1e74dd": {
      "model_module": "jupyter-cytoscape",
      "model_module_version": "^1.3.3",
      "model_name": "NodeModel",
      "state": {
       "_model_module": "jupyter-cytoscape",
       "_model_module_version": "^1.3.3",
       "_model_name": "NodeModel",
       "_view_count": null,
       "_view_module": "jupyter-cytoscape",
       "_view_module_version": "^1.3.3",
       "_view_name": "NodeView",
       "classes": "",
       "data": {
        "color": "gray",
        "id": "7412432421160479257",
        "label": "7",
        "shape": "rectangle"
       },
       "grabbable": true,
       "grabbed": false,
       "locked": false,
       "pannable": false,
       "position": {},
       "removed": false,
       "selectable": false,
       "selected": false
      }
     },
     "c5a542cd528442a6b539255966364f05": {
      "model_module": "jupyter-cytoscape",
      "model_module_version": "^1.3.3",
      "model_name": "NodeModel",
      "state": {
       "_model_module": "jupyter-cytoscape",
       "_model_module_version": "^1.3.3",
       "_model_name": "NodeModel",
       "_view_count": null,
       "_view_module": "jupyter-cytoscape",
       "_view_module_version": "^1.3.3",
       "_view_name": "NodeView",
       "classes": "",
       "data": {
        "color": "gray",
        "id": "-5667983632582110800",
        "label": "getitem",
        "shape": "ellipse"
       },
       "grabbable": true,
       "grabbed": false,
       "locked": false,
       "pannable": false,
       "position": {},
       "removed": false,
       "selectable": false,
       "selected": false
      }
     },
     "c5bed3279e0d43ab806be9a494b729b0": {
      "model_module": "jupyter-cytoscape",
      "model_module_version": "^1.3.3",
      "model_name": "NodeModel",
      "state": {
       "_model_module": "jupyter-cytoscape",
       "_model_module_version": "^1.3.3",
       "_model_name": "NodeModel",
       "_view_count": null,
       "_view_module": "jupyter-cytoscape",
       "_view_module_version": "^1.3.3",
       "_view_name": "NodeView",
       "classes": "",
       "data": {
        "color": "gray",
        "id": "-388902619403123461",
        "label": "9",
        "shape": "rectangle"
       },
       "grabbable": true,
       "grabbed": false,
       "locked": false,
       "pannable": false,
       "position": {},
       "removed": false,
       "selectable": false,
       "selected": false
      }
     },
     "c5f92c453f1145f4ad6db369b54c029d": {
      "model_module": "jupyter-cytoscape",
      "model_module_version": "^1.3.3",
      "model_name": "EdgeModel",
      "state": {
       "_model_module": "jupyter-cytoscape",
       "_model_module_version": "^1.3.3",
       "_model_name": "EdgeModel",
       "_view_count": null,
       "_view_module": "jupyter-cytoscape",
       "_view_module_version": "^1.3.3",
       "_view_name": "EdgeView",
       "classes": " directed ",
       "data": {
        "source": "8348816619486636810",
        "target": "7681805941410461511"
       },
       "pannable": true,
       "removed": false,
       "selectable": false,
       "selected": false
      }
     },
     "c61e679fabe542dc900c0be654df8360": {
      "model_module": "jupyter-cytoscape",
      "model_module_version": "^1.3.3",
      "model_name": "NodeModel",
      "state": {
       "_model_module": "jupyter-cytoscape",
       "_model_module_version": "^1.3.3",
       "_model_name": "NodeModel",
       "_view_count": null,
       "_view_module": "jupyter-cytoscape",
       "_view_module_version": "^1.3.3",
       "_view_name": "NodeView",
       "classes": "",
       "data": {
        "color": "gray",
        "id": "-3761830710728941713",
        "label": "1",
        "shape": "rectangle"
       },
       "grabbable": true,
       "grabbed": false,
       "locked": false,
       "pannable": false,
       "position": {},
       "removed": false,
       "selectable": false,
       "selected": false
      }
     },
     "c7575136d04c4b7b921cb53252550886": {
      "model_module": "jupyter-cytoscape",
      "model_module_version": "^1.3.3",
      "model_name": "NodeModel",
      "state": {
       "_model_module": "jupyter-cytoscape",
       "_model_module_version": "^1.3.3",
       "_model_name": "NodeModel",
       "_view_count": null,
       "_view_module": "jupyter-cytoscape",
       "_view_module_version": "^1.3.3",
       "_view_name": "NodeView",
       "classes": "",
       "data": {
        "color": "gray",
        "id": "-1187210135164072347",
        "label": "4",
        "shape": "rectangle"
       },
       "grabbable": true,
       "grabbed": false,
       "locked": false,
       "pannable": false,
       "position": {},
       "removed": false,
       "selectable": false,
       "selected": false
      }
     },
     "c7703ca1435e4abc8da85e660159f0b4": {
      "model_module": "jupyter-cytoscape",
      "model_module_version": "^1.3.3",
      "model_name": "EdgeModel",
      "state": {
       "_model_module": "jupyter-cytoscape",
       "_model_module_version": "^1.3.3",
       "_model_name": "EdgeModel",
       "_view_count": null,
       "_view_module": "jupyter-cytoscape",
       "_view_module_version": "^1.3.3",
       "_view_name": "EdgeView",
       "classes": " directed ",
       "data": {
        "source": "-7694850891266070772",
        "target": "-7825143019702143457"
       },
       "pannable": true,
       "removed": false,
       "selectable": false,
       "selected": false
      }
     },
     "c7cb133fed98470e8d2f74babee23500": {
      "model_module": "jupyter-cytoscape",
      "model_module_version": "^1.3.3",
      "model_name": "NodeModel",
      "state": {
       "_model_module": "jupyter-cytoscape",
       "_model_module_version": "^1.3.3",
       "_model_name": "NodeModel",
       "_view_count": null,
       "_view_module": "jupyter-cytoscape",
       "_view_module_version": "^1.3.3",
       "_view_name": "NodeView",
       "classes": "",
       "data": {
        "color": "gray",
        "id": "-1768712671951251125",
        "label": "1",
        "shape": "rectangle"
       },
       "grabbable": true,
       "grabbed": false,
       "locked": false,
       "pannable": false,
       "position": {},
       "removed": false,
       "selectable": false,
       "selected": false
      }
     },
     "c7e2fa124d1144139c10e95e46219cc2": {
      "model_module": "jupyter-cytoscape",
      "model_module_version": "^1.3.3",
      "model_name": "EdgeModel",
      "state": {
       "_model_module": "jupyter-cytoscape",
       "_model_module_version": "^1.3.3",
       "_model_name": "EdgeModel",
       "_view_count": null,
       "_view_module": "jupyter-cytoscape",
       "_view_module_version": "^1.3.3",
       "_view_name": "EdgeView",
       "classes": " directed ",
       "data": {
        "source": "48662832161684008",
        "target": "-6268809425238594695"
       },
       "pannable": true,
       "removed": false,
       "selectable": false,
       "selected": false
      }
     },
     "c892a028f8174aeca5d668db38f82092": {
      "model_module": "jupyter-cytoscape",
      "model_module_version": "^1.3.3",
      "model_name": "EdgeModel",
      "state": {
       "_model_module": "jupyter-cytoscape",
       "_model_module_version": "^1.3.3",
       "_model_name": "EdgeModel",
       "_view_count": null,
       "_view_module": "jupyter-cytoscape",
       "_view_module_version": "^1.3.3",
       "_view_name": "EdgeView",
       "classes": " directed ",
       "data": {
        "source": "-1158508209911528911",
        "target": "8177272606878611478"
       },
       "pannable": true,
       "removed": false,
       "selectable": false,
       "selected": false
      }
     },
     "c92a363438774688a32ef9143c5d26a4": {
      "model_module": "jupyter-cytoscape",
      "model_module_version": "^1.3.3",
      "model_name": "EdgeModel",
      "state": {
       "_model_module": "jupyter-cytoscape",
       "_model_module_version": "^1.3.3",
       "_model_name": "EdgeModel",
       "_view_count": null,
       "_view_module": "jupyter-cytoscape",
       "_view_module_version": "^1.3.3",
       "_view_name": "EdgeView",
       "classes": " directed ",
       "data": {
        "source": "-7981147476444024036",
        "target": "-3785325943648538243"
       },
       "pannable": true,
       "removed": false,
       "selectable": false,
       "selected": false
      }
     },
     "c9af145f1c7b4f20b7835faef0281024": {
      "model_module": "jupyter-cytoscape",
      "model_module_version": "^1.3.3",
      "model_name": "NodeModel",
      "state": {
       "_model_module": "jupyter-cytoscape",
       "_model_module_version": "^1.3.3",
       "_model_name": "NodeModel",
       "_view_count": null,
       "_view_module": "jupyter-cytoscape",
       "_view_module_version": "^1.3.3",
       "_view_name": "NodeView",
       "classes": "",
       "data": {
        "color": "gray",
        "id": "-8256961136802021121",
        "label": "getitem",
        "shape": "ellipse"
       },
       "grabbable": true,
       "grabbed": false,
       "locked": false,
       "pannable": false,
       "position": {},
       "removed": false,
       "selectable": false,
       "selected": false
      }
     },
     "cb0fe3d399a64eca817c4083221d6beb": {
      "model_module": "jupyter-cytoscape",
      "model_module_version": "^1.3.3",
      "model_name": "NodeModel",
      "state": {
       "_model_module": "jupyter-cytoscape",
       "_model_module_version": "^1.3.3",
       "_model_name": "NodeModel",
       "_view_count": null,
       "_view_module": "jupyter-cytoscape",
       "_view_module_version": "^1.3.3",
       "_view_name": "NodeView",
       "classes": "",
       "data": {
        "color": "gray",
        "id": "4847378048539249516",
        "label": "getitem",
        "shape": "ellipse"
       },
       "grabbable": true,
       "grabbed": false,
       "locked": false,
       "pannable": false,
       "position": {},
       "removed": false,
       "selectable": false,
       "selected": false
      }
     },
     "cbb4d95533fa48ecbed54082d9db6232": {
      "model_module": "jupyter-cytoscape",
      "model_module_version": "^1.3.3",
      "model_name": "NodeModel",
      "state": {
       "_model_module": "jupyter-cytoscape",
       "_model_module_version": "^1.3.3",
       "_model_name": "NodeModel",
       "_view_count": null,
       "_view_module": "jupyter-cytoscape",
       "_view_module_version": "^1.3.3",
       "_view_name": "NodeView",
       "classes": "",
       "data": {
        "color": "gray",
        "id": "-7254193139457174837",
        "label": "moment_chunk",
        "shape": "ellipse"
       },
       "grabbable": true,
       "grabbed": false,
       "locked": false,
       "pannable": false,
       "position": {},
       "removed": false,
       "selectable": false,
       "selected": false
      }
     },
     "ccd833c45ae943e48bb0994d3727ec9f": {
      "model_module": "jupyter-cytoscape",
      "model_module_version": "^1.3.3",
      "model_name": "EdgeModel",
      "state": {
       "_model_module": "jupyter-cytoscape",
       "_model_module_version": "^1.3.3",
       "_model_name": "EdgeModel",
       "_view_count": null,
       "_view_module": "jupyter-cytoscape",
       "_view_module_version": "^1.3.3",
       "_view_name": "EdgeView",
       "classes": " directed ",
       "data": {
        "source": "3815091433007580698",
        "target": "-6896543375505121886"
       },
       "pannable": true,
       "removed": false,
       "selectable": false,
       "selected": false
      }
     },
     "cd350d0739434da1acc741614ea018b8": {
      "model_module": "jupyter-cytoscape",
      "model_module_version": "^1.3.3",
      "model_name": "EdgeModel",
      "state": {
       "_model_module": "jupyter-cytoscape",
       "_model_module_version": "^1.3.3",
       "_model_name": "EdgeModel",
       "_view_count": null,
       "_view_module": "jupyter-cytoscape",
       "_view_module_version": "^1.3.3",
       "_view_name": "EdgeView",
       "classes": " directed ",
       "data": {
        "source": "-2642730649067789621",
        "target": "4015821015065735090"
       },
       "pannable": true,
       "removed": false,
       "selectable": false,
       "selected": false
      }
     },
     "cd503f96920141b89361c806419fe953": {
      "model_module": "jupyter-cytoscape",
      "model_module_version": "^1.3.3",
      "model_name": "EdgeModel",
      "state": {
       "_model_module": "jupyter-cytoscape",
       "_model_module_version": "^1.3.3",
       "_model_name": "EdgeModel",
       "_view_count": null,
       "_view_module": "jupyter-cytoscape",
       "_view_module_version": "^1.3.3",
       "_view_name": "EdgeView",
       "classes": " directed ",
       "data": {
        "source": "-347027367802321355",
        "target": "-5674380427109368710"
       },
       "pannable": true,
       "removed": false,
       "selectable": false,
       "selected": false
      }
     },
     "cdaed067e31c4e3da40f8ae6c037ffd0": {
      "model_module": "jupyter-cytoscape",
      "model_module_version": "^1.3.3",
      "model_name": "NodeModel",
      "state": {
       "_model_module": "jupyter-cytoscape",
       "_model_module_version": "^1.3.3",
       "_model_name": "NodeModel",
       "_view_count": null,
       "_view_module": "jupyter-cytoscape",
       "_view_module_version": "^1.3.3",
       "_view_name": "NodeView",
       "classes": "",
       "data": {
        "color": "gray",
        "id": "2487933770581262959",
        "label": "0",
        "shape": "rectangle"
       },
       "grabbable": true,
       "grabbed": false,
       "locked": false,
       "pannable": false,
       "position": {},
       "removed": false,
       "selectable": false,
       "selected": false
      }
     },
     "ce5cda7c8bee4bcf92e5d2ef6ca35852": {
      "model_module": "jupyter-cytoscape",
      "model_module_version": "^1.3.3",
      "model_name": "NodeModel",
      "state": {
       "_model_module": "jupyter-cytoscape",
       "_model_module_version": "^1.3.3",
       "_model_name": "NodeModel",
       "_view_count": null,
       "_view_module": "jupyter-cytoscape",
       "_view_module_version": "^1.3.3",
       "_view_name": "NodeView",
       "classes": "",
       "data": {
        "color": "gray",
        "id": "2054509409036201635",
        "label": "values",
        "shape": "ellipse"
       },
       "grabbable": true,
       "grabbed": false,
       "locked": false,
       "pannable": false,
       "position": {},
       "removed": false,
       "selectable": false,
       "selected": false
      }
     },
     "cf333230047045da92f4517830ee9500": {
      "model_module": "jupyter-cytoscape",
      "model_module_version": "^1.3.3",
      "model_name": "NodeModel",
      "state": {
       "_model_module": "jupyter-cytoscape",
       "_model_module_version": "^1.3.3",
       "_model_name": "NodeModel",
       "_view_count": null,
       "_view_module": "jupyter-cytoscape",
       "_view_module_version": "^1.3.3",
       "_view_name": "NodeView",
       "classes": "",
       "data": {
        "color": "gray",
        "id": "-5470554817909911220",
        "label": "moment_combine-partial",
        "shape": "ellipse"
       },
       "grabbable": true,
       "grabbed": false,
       "locked": false,
       "pannable": false,
       "position": {},
       "removed": false,
       "selectable": false,
       "selected": false
      }
     },
     "cf3d696e50ac497bbba493224211dfa2": {
      "model_module": "jupyter-cytoscape",
      "model_module_version": "^1.3.3",
      "model_name": "NodeModel",
      "state": {
       "_model_module": "jupyter-cytoscape",
       "_model_module_version": "^1.3.3",
       "_model_name": "NodeModel",
       "_view_count": null,
       "_view_module": "jupyter-cytoscape",
       "_view_module_version": "^1.3.3",
       "_view_name": "NodeView",
       "classes": "",
       "data": {
        "color": "gray",
        "id": "-3337048831945179802",
        "label": "0",
        "shape": "rectangle"
       },
       "grabbable": true,
       "grabbed": false,
       "locked": false,
       "pannable": false,
       "position": {},
       "removed": false,
       "selectable": false,
       "selected": false
      }
     },
     "d0189ae909294bdbb84e9197f2cccb02": {
      "model_module": "jupyter-cytoscape",
      "model_module_version": "^1.3.3",
      "model_name": "EdgeModel",
      "state": {
       "_model_module": "jupyter-cytoscape",
       "_model_module_version": "^1.3.3",
       "_model_name": "EdgeModel",
       "_view_count": null,
       "_view_module": "jupyter-cytoscape",
       "_view_module_version": "^1.3.3",
       "_view_name": "EdgeView",
       "classes": " directed ",
       "data": {
        "source": "7968102526588414775",
        "target": "-7825143019702143457"
       },
       "pannable": true,
       "removed": false,
       "selectable": false,
       "selected": false
      }
     },
     "d0722f672a3f4c148394291a63a558d4": {
      "model_module": "jupyter-cytoscape",
      "model_module_version": "^1.3.3",
      "model_name": "NodeModel",
      "state": {
       "_model_module": "jupyter-cytoscape",
       "_model_module_version": "^1.3.3",
       "_model_name": "NodeModel",
       "_view_count": null,
       "_view_module": "jupyter-cytoscape",
       "_view_module_version": "^1.3.3",
       "_view_name": "NodeView",
       "classes": "",
       "data": {
        "color": "gray",
        "id": "-781306398136672344",
        "label": "7",
        "shape": "rectangle"
       },
       "grabbable": true,
       "grabbed": false,
       "locked": false,
       "pannable": false,
       "position": {},
       "removed": false,
       "selectable": false,
       "selected": false
      }
     },
     "d0b87c395c154494abd2484f76b43b3d": {
      "model_module": "jupyter-cytoscape",
      "model_module_version": "^1.3.3",
      "model_name": "EdgeModel",
      "state": {
       "_model_module": "jupyter-cytoscape",
       "_model_module_version": "^1.3.3",
       "_model_name": "EdgeModel",
       "_view_count": null,
       "_view_module": "jupyter-cytoscape",
       "_view_module_version": "^1.3.3",
       "_view_name": "EdgeView",
       "classes": " directed ",
       "data": {
        "source": "-7981147476444024036",
        "target": "5032132732572698123"
       },
       "pannable": true,
       "removed": false,
       "selectable": false,
       "selected": false
      }
     },
     "d0dba6eb142f47239c0b81676bb49135": {
      "model_module": "jupyter-cytoscape",
      "model_module_version": "^1.3.3",
      "model_name": "EdgeModel",
      "state": {
       "_model_module": "jupyter-cytoscape",
       "_model_module_version": "^1.3.3",
       "_model_name": "EdgeModel",
       "_view_count": null,
       "_view_module": "jupyter-cytoscape",
       "_view_module_version": "^1.3.3",
       "_view_name": "EdgeView",
       "classes": " directed ",
       "data": {
        "source": "-1187210135164072347",
        "target": "-7825143019702143457"
       },
       "pannable": true,
       "removed": false,
       "selectable": false,
       "selected": false
      }
     },
     "d0f8c84d12164ef5ac0c859cca1bc534": {
      "model_module": "jupyter-cytoscape",
      "model_module_version": "^1.3.3",
      "model_name": "EdgeModel",
      "state": {
       "_model_module": "jupyter-cytoscape",
       "_model_module_version": "^1.3.3",
       "_model_name": "EdgeModel",
       "_view_count": null,
       "_view_module": "jupyter-cytoscape",
       "_view_module_version": "^1.3.3",
       "_view_name": "EdgeView",
       "classes": " directed ",
       "data": {
        "source": "-7836602819896988173",
        "target": "4085247683239269979"
       },
       "pannable": true,
       "removed": false,
       "selectable": false,
       "selected": false
      }
     },
     "d18dadba2fa04525a3a76588559797ea": {
      "model_module": "jupyter-cytoscape",
      "model_module_version": "^1.3.3",
      "model_name": "EdgeModel",
      "state": {
       "_model_module": "jupyter-cytoscape",
       "_model_module_version": "^1.3.3",
       "_model_name": "EdgeModel",
       "_view_count": null,
       "_view_module": "jupyter-cytoscape",
       "_view_module_version": "^1.3.3",
       "_view_name": "EdgeView",
       "classes": " directed ",
       "data": {
        "source": "7958576497265578578",
        "target": "-6896916168805350271"
       },
       "pannable": true,
       "removed": false,
       "selectable": false,
       "selected": false
      }
     },
     "d1d14dba67b44a02b435b5ae1e966e7d": {
      "model_module": "jupyter-cytoscape",
      "model_module_version": "^1.3.3",
      "model_name": "EdgeModel",
      "state": {
       "_model_module": "jupyter-cytoscape",
       "_model_module_version": "^1.3.3",
       "_model_name": "EdgeModel",
       "_view_count": null,
       "_view_module": "jupyter-cytoscape",
       "_view_module_version": "^1.3.3",
       "_view_name": "EdgeView",
       "classes": " directed ",
       "data": {
        "source": "338565131902394957",
        "target": "3688582320913546901"
       },
       "pannable": true,
       "removed": false,
       "selectable": false,
       "selected": false
      }
     },
     "d3a63dae87074cfdb5cb63e048547317": {
      "model_module": "jupyter-cytoscape",
      "model_module_version": "^1.3.3",
      "model_name": "EdgeModel",
      "state": {
       "_model_module": "jupyter-cytoscape",
       "_model_module_version": "^1.3.3",
       "_model_name": "EdgeModel",
       "_view_count": null,
       "_view_module": "jupyter-cytoscape",
       "_view_module_version": "^1.3.3",
       "_view_name": "EdgeView",
       "classes": " directed ",
       "data": {
        "source": "8127148739813999560",
        "target": "7810156434728006639"
       },
       "pannable": true,
       "removed": false,
       "selectable": false,
       "selected": false
      }
     },
     "d4087b3f48e64acfa0616dbc648856c3": {
      "model_module": "jupyter-cytoscape",
      "model_module_version": "^1.3.3",
      "model_name": "EdgeModel",
      "state": {
       "_model_module": "jupyter-cytoscape",
       "_model_module_version": "^1.3.3",
       "_model_name": "EdgeModel",
       "_view_count": null,
       "_view_module": "jupyter-cytoscape",
       "_view_module_version": "^1.3.3",
       "_view_name": "EdgeView",
       "classes": " directed ",
       "data": {
        "source": "-6440328712975458999",
        "target": "-2801776862293374406"
       },
       "pannable": true,
       "removed": false,
       "selectable": false,
       "selected": false
      }
     },
     "d5e5693797264e10ae4a69867fdeed2e": {
      "model_module": "jupyter-cytoscape",
      "model_module_version": "^1.3.3",
      "model_name": "EdgeModel",
      "state": {
       "_model_module": "jupyter-cytoscape",
       "_model_module_version": "^1.3.3",
       "_model_name": "EdgeModel",
       "_view_count": null,
       "_view_module": "jupyter-cytoscape",
       "_view_module_version": "^1.3.3",
       "_view_name": "EdgeView",
       "classes": " directed ",
       "data": {
        "source": "-4931054639454705723",
        "target": "4300649065814536547"
       },
       "pannable": true,
       "removed": false,
       "selectable": false,
       "selected": false
      }
     },
     "d5e9123ccb6c4a5cbd3a7521c6abb024": {
      "model_module": "jupyter-cytoscape",
      "model_module_version": "^1.3.3",
      "model_name": "EdgeModel",
      "state": {
       "_model_module": "jupyter-cytoscape",
       "_model_module_version": "^1.3.3",
       "_model_name": "EdgeModel",
       "_view_count": null,
       "_view_module": "jupyter-cytoscape",
       "_view_module_version": "^1.3.3",
       "_view_name": "EdgeView",
       "classes": " directed ",
       "data": {
        "source": "5678987528542613587",
        "target": "-4586346540241213963"
       },
       "pannable": true,
       "removed": false,
       "selectable": false,
       "selected": false
      }
     },
     "d64e1cd40174434ea43c983aadc6798a": {
      "model_module": "jupyter-cytoscape",
      "model_module_version": "^1.3.3",
      "model_name": "EdgeModel",
      "state": {
       "_model_module": "jupyter-cytoscape",
       "_model_module_version": "^1.3.3",
       "_model_name": "EdgeModel",
       "_view_count": null,
       "_view_module": "jupyter-cytoscape",
       "_view_module_version": "^1.3.3",
       "_view_name": "EdgeView",
       "classes": " directed ",
       "data": {
        "source": "3627655255195398764",
        "target": "338565131902394957"
       },
       "pannable": true,
       "removed": false,
       "selectable": false,
       "selected": false
      }
     },
     "d70aaa2346034ed19016d93d04cd25fe": {
      "model_module": "jupyter-cytoscape",
      "model_module_version": "^1.3.3",
      "model_name": "EdgeModel",
      "state": {
       "_model_module": "jupyter-cytoscape",
       "_model_module_version": "^1.3.3",
       "_model_name": "EdgeModel",
       "_view_count": null,
       "_view_module": "jupyter-cytoscape",
       "_view_module_version": "^1.3.3",
       "_view_name": "EdgeView",
       "classes": " directed ",
       "data": {
        "source": "-2943528790924291807",
        "target": "-154071489199622629"
       },
       "pannable": true,
       "removed": false,
       "selectable": false,
       "selected": false
      }
     },
     "d80479c631b74aa282179af8c5dfccc3": {
      "model_module": "jupyter-cytoscape",
      "model_module_version": "^1.3.3",
      "model_name": "NodeModel",
      "state": {
       "_model_module": "jupyter-cytoscape",
       "_model_module_version": "^1.3.3",
       "_model_name": "NodeModel",
       "_view_count": null,
       "_view_module": "jupyter-cytoscape",
       "_view_module_version": "^1.3.3",
       "_view_name": "NodeView",
       "classes": "",
       "data": {
        "color": "gray",
        "id": "843864599340332695",
        "label": "6",
        "shape": "rectangle"
       },
       "grabbable": true,
       "grabbed": false,
       "locked": false,
       "pannable": false,
       "position": {},
       "removed": false,
       "selectable": false,
       "selected": false
      }
     },
     "d80b36f5dbbe44a2b6225589b514e675": {
      "model_module": "jupyter-cytoscape",
      "model_module_version": "^1.3.3",
      "model_name": "EdgeModel",
      "state": {
       "_model_module": "jupyter-cytoscape",
       "_model_module_version": "^1.3.3",
       "_model_name": "EdgeModel",
       "_view_count": null,
       "_view_module": "jupyter-cytoscape",
       "_view_module_version": "^1.3.3",
       "_view_name": "EdgeView",
       "classes": " directed ",
       "data": {
        "source": "6512582012684697501",
        "target": "3042746352614232499"
       },
       "pannable": true,
       "removed": false,
       "selectable": false,
       "selected": false
      }
     },
     "d8d5b891beb04aea964b2bbd45c1843d": {
      "model_module": "jupyter-cytoscape",
      "model_module_version": "^1.3.3",
      "model_name": "NodeModel",
      "state": {
       "_model_module": "jupyter-cytoscape",
       "_model_module_version": "^1.3.3",
       "_model_name": "NodeModel",
       "_view_count": null,
       "_view_module": "jupyter-cytoscape",
       "_view_module_version": "^1.3.3",
       "_view_name": "NodeView",
       "classes": "",
       "data": {
        "color": "gray",
        "id": "6848211457268377597",
        "label": "3",
        "shape": "rectangle"
       },
       "grabbable": true,
       "grabbed": false,
       "locked": false,
       "pannable": false,
       "position": {},
       "removed": false,
       "selectable": false,
       "selected": false
      }
     },
     "d97d665a784b42d9b0ab6cb6fc9d5767": {
      "model_module": "jupyter-cytoscape",
      "model_module_version": "^1.3.3",
      "model_name": "NodeModel",
      "state": {
       "_model_module": "jupyter-cytoscape",
       "_model_module_version": "^1.3.3",
       "_model_name": "NodeModel",
       "_view_count": null,
       "_view_module": "jupyter-cytoscape",
       "_view_module_version": "^1.3.3",
       "_view_name": "NodeView",
       "classes": "",
       "data": {
        "color": "gray",
        "id": "1478847382606639002",
        "label": "inv",
        "shape": "ellipse"
       },
       "grabbable": true,
       "grabbed": false,
       "locked": false,
       "pannable": false,
       "position": {},
       "removed": false,
       "selectable": false,
       "selected": false
      }
     },
     "da2d033fa34e405f950b7b716b005e5b": {
      "model_module": "jupyter-cytoscape",
      "model_module_version": "^1.3.3",
      "model_name": "NodeModel",
      "state": {
       "_model_module": "jupyter-cytoscape",
       "_model_module_version": "^1.3.3",
       "_model_name": "NodeModel",
       "_view_count": null,
       "_view_module": "jupyter-cytoscape",
       "_view_module_version": "^1.3.3",
       "_view_name": "NodeView",
       "classes": "",
       "data": {
        "color": "gray",
        "id": "5572522568292831214",
        "label": "1",
        "shape": "rectangle"
       },
       "grabbable": true,
       "grabbed": false,
       "locked": false,
       "pannable": false,
       "position": {},
       "removed": false,
       "selectable": false,
       "selected": false
      }
     },
     "da33a88307654e598945e7a2e1578b77": {
      "model_module": "jupyter-cytoscape",
      "model_module_version": "^1.3.3",
      "model_name": "EdgeModel",
      "state": {
       "_model_module": "jupyter-cytoscape",
       "_model_module_version": "^1.3.3",
       "_model_name": "EdgeModel",
       "_view_count": null,
       "_view_module": "jupyter-cytoscape",
       "_view_module_version": "^1.3.3",
       "_view_name": "EdgeView",
       "classes": " directed ",
       "data": {
        "source": "4847378048539249516",
        "target": "-3335932569657840690"
       },
       "pannable": true,
       "removed": false,
       "selectable": false,
       "selected": false
      }
     },
     "da4fd0c657c242d69f917cea87d6acd2": {
      "model_module": "jupyter-cytoscape",
      "model_module_version": "^1.3.3",
      "model_name": "EdgeModel",
      "state": {
       "_model_module": "jupyter-cytoscape",
       "_model_module_version": "^1.3.3",
       "_model_name": "EdgeModel",
       "_view_count": null,
       "_view_module": "jupyter-cytoscape",
       "_view_module_version": "^1.3.3",
       "_view_name": "EdgeView",
       "classes": " directed ",
       "data": {
        "source": "5032132732572698123",
        "target": "-5727692240079586261"
       },
       "pannable": true,
       "removed": false,
       "selectable": false,
       "selected": false
      }
     },
     "db31c44c47714500bc6111b237cf0a49": {
      "model_module": "jupyter-cytoscape",
      "model_module_version": "^1.3.3",
      "model_name": "EdgeModel",
      "state": {
       "_model_module": "jupyter-cytoscape",
       "_model_module_version": "^1.3.3",
       "_model_name": "EdgeModel",
       "_view_count": null,
       "_view_module": "jupyter-cytoscape",
       "_view_module_version": "^1.3.3",
       "_view_name": "EdgeView",
       "classes": " directed ",
       "data": {
        "source": "7681805941410461511",
        "target": "-3854862873483052387"
       },
       "pannable": true,
       "removed": false,
       "selectable": false,
       "selected": false
      }
     },
     "dc0e507101a44f64b30f6954f801b7fc": {
      "model_module": "jupyter-cytoscape",
      "model_module_version": "^1.3.3",
      "model_name": "EdgeModel",
      "state": {
       "_model_module": "jupyter-cytoscape",
       "_model_module_version": "^1.3.3",
       "_model_name": "EdgeModel",
       "_view_count": null,
       "_view_module": "jupyter-cytoscape",
       "_view_module_version": "^1.3.3",
       "_view_name": "EdgeView",
       "classes": " directed ",
       "data": {
        "source": "-7292886061394010587",
        "target": "2519358392187782891"
       },
       "pannable": true,
       "removed": false,
       "selectable": false,
       "selected": false
      }
     },
     "dc398aae43b844aeac57d71d192092de": {
      "model_module": "jupyter-cytoscape",
      "model_module_version": "^1.3.3",
      "model_name": "EdgeModel",
      "state": {
       "_model_module": "jupyter-cytoscape",
       "_model_module_version": "^1.3.3",
       "_model_name": "EdgeModel",
       "_view_count": null,
       "_view_module": "jupyter-cytoscape",
       "_view_module_version": "^1.3.3",
       "_view_name": "EdgeView",
       "classes": " directed ",
       "data": {
        "source": "-9150371405169788046",
        "target": "4883712670035126184"
       },
       "pannable": true,
       "removed": false,
       "selectable": false,
       "selected": false
      }
     },
     "dc71ce7c42614280b42401d1b021288b": {
      "model_module": "jupyter-cytoscape",
      "model_module_version": "^1.3.3",
      "model_name": "NodeModel",
      "state": {
       "_model_module": "jupyter-cytoscape",
       "_model_module_version": "^1.3.3",
       "_model_name": "NodeModel",
       "_view_count": null,
       "_view_module": "jupyter-cytoscape",
       "_view_module_version": "^1.3.3",
       "_view_name": "NodeView",
       "classes": "",
       "data": {
        "color": "gray",
        "id": "3627655255195398764",
        "label": "4",
        "shape": "rectangle"
       },
       "grabbable": true,
       "grabbed": false,
       "locked": false,
       "pannable": false,
       "position": {},
       "removed": false,
       "selectable": false,
       "selected": false
      }
     },
     "dc7b44344df54c239faebfc5434fd753": {
      "model_module": "jupyter-cytoscape",
      "model_module_version": "^1.3.3",
      "model_name": "NodeModel",
      "state": {
       "_model_module": "jupyter-cytoscape",
       "_model_module_version": "^1.3.3",
       "_model_name": "NodeModel",
       "_view_count": null,
       "_view_module": "jupyter-cytoscape",
       "_view_module_version": "^1.3.3",
       "_view_name": "NodeView",
       "classes": "",
       "data": {
        "color": "gray",
        "id": "1229854809122270983",
        "label": "series-count-chunk",
        "shape": "ellipse"
       },
       "grabbable": true,
       "grabbed": false,
       "locked": false,
       "pannable": false,
       "position": {},
       "removed": false,
       "selectable": false,
       "selected": false
      }
     },
     "dcac4d056eef4b488cd35008806791a2": {
      "model_module": "jupyter-cytoscape",
      "model_module_version": "^1.3.3",
      "model_name": "EdgeModel",
      "state": {
       "_model_module": "jupyter-cytoscape",
       "_model_module_version": "^1.3.3",
       "_model_name": "EdgeModel",
       "_view_count": null,
       "_view_module": "jupyter-cytoscape",
       "_view_module_version": "^1.3.3",
       "_view_name": "EdgeView",
       "classes": " directed ",
       "data": {
        "source": "6848211457268377597",
        "target": "6571839432282593364"
       },
       "pannable": true,
       "removed": false,
       "selectable": false,
       "selected": false
      }
     },
     "dcad9a5a0da3404aace8ffd409857bd2": {
      "model_module": "jupyter-cytoscape",
      "model_module_version": "^1.3.3",
      "model_name": "NodeModel",
      "state": {
       "_model_module": "jupyter-cytoscape",
       "_model_module_version": "^1.3.3",
       "_model_name": "NodeModel",
       "_view_count": null,
       "_view_module": "jupyter-cytoscape",
       "_view_module_version": "^1.3.3",
       "_view_name": "NodeView",
       "classes": "",
       "data": {
        "color": "gray",
        "id": "8348816619486636810",
        "label": "getitem",
        "shape": "ellipse"
       },
       "grabbable": true,
       "grabbed": false,
       "locked": false,
       "pannable": false,
       "position": {},
       "removed": false,
       "selectable": false,
       "selected": false
      }
     },
     "dcafd8eeec6345dbb77500a35246d139": {
      "model_module": "jupyter-cytoscape",
      "model_module_version": "^1.3.3",
      "model_name": "EdgeModel",
      "state": {
       "_model_module": "jupyter-cytoscape",
       "_model_module_version": "^1.3.3",
       "_model_name": "EdgeModel",
       "_view_count": null,
       "_view_module": "jupyter-cytoscape",
       "_view_module_version": "^1.3.3",
       "_view_name": "EdgeView",
       "classes": " directed ",
       "data": {
        "source": "-966399588917445790",
        "target": "-1558499341429115856"
       },
       "pannable": true,
       "removed": false,
       "selectable": false,
       "selected": false
      }
     },
     "de085cb206c44b2da5f7a81bd61c9df1": {
      "model_module": "jupyter-cytoscape",
      "model_module_version": "^1.3.3",
      "model_name": "EdgeModel",
      "state": {
       "_model_module": "jupyter-cytoscape",
       "_model_module_version": "^1.3.3",
       "_model_name": "EdgeModel",
       "_view_count": null,
       "_view_module": "jupyter-cytoscape",
       "_view_module_version": "^1.3.3",
       "_view_name": "EdgeView",
       "classes": " directed ",
       "data": {
        "source": "-6274681723058484262",
        "target": "5528288664769083815"
       },
       "pannable": true,
       "removed": false,
       "selectable": false,
       "selected": false
      }
     },
     "de245e15860e448193dc88054d03ea6f": {
      "model_module": "jupyter-cytoscape",
      "model_module_version": "^1.3.3",
      "model_name": "EdgeModel",
      "state": {
       "_model_module": "jupyter-cytoscape",
       "_model_module_version": "^1.3.3",
       "_model_name": "EdgeModel",
       "_view_count": null,
       "_view_module": "jupyter-cytoscape",
       "_view_module_version": "^1.3.3",
       "_view_name": "EdgeView",
       "classes": " directed ",
       "data": {
        "source": "8177272606878611478",
        "target": "4847378048539249516"
       },
       "pannable": true,
       "removed": false,
       "selectable": false,
       "selected": false
      }
     },
     "ded1d12011d04b00af85a778a2dca093": {
      "model_module": "jupyter-cytoscape",
      "model_module_version": "^1.3.3",
      "model_name": "EdgeModel",
      "state": {
       "_model_module": "jupyter-cytoscape",
       "_model_module_version": "^1.3.3",
       "_model_name": "EdgeModel",
       "_view_count": null,
       "_view_module": "jupyter-cytoscape",
       "_view_module_version": "^1.3.3",
       "_view_name": "EdgeView",
       "classes": " directed ",
       "data": {
        "source": "-247150690772206060",
        "target": "-7825143019702143457"
       },
       "pannable": true,
       "removed": false,
       "selectable": false,
       "selected": false
      }
     },
     "dfa7082bf45748c8a0ea3de2a183b18b": {
      "model_module": "jupyter-cytoscape",
      "model_module_version": "^1.3.3",
      "model_name": "NodeModel",
      "state": {
       "_model_module": "jupyter-cytoscape",
       "_model_module_version": "^1.3.3",
       "_model_name": "NodeModel",
       "_view_count": null,
       "_view_module": "jupyter-cytoscape",
       "_view_module_version": "^1.3.3",
       "_view_name": "NodeView",
       "classes": "",
       "data": {
        "color": "gray",
        "id": "-1979946239608582986",
        "label": "getitem",
        "shape": "ellipse"
       },
       "grabbable": true,
       "grabbed": false,
       "locked": false,
       "pannable": false,
       "position": {},
       "removed": false,
       "selectable": false,
       "selected": false
      }
     },
     "e02095a3d217427f93bbe031968b8c63": {
      "model_module": "jupyter-cytoscape",
      "model_module_version": "^1.3.3",
      "model_name": "EdgeModel",
      "state": {
       "_model_module": "jupyter-cytoscape",
       "_model_module_version": "^1.3.3",
       "_model_name": "EdgeModel",
       "_view_count": null,
       "_view_module": "jupyter-cytoscape",
       "_view_module_version": "^1.3.3",
       "_view_name": "EdgeView",
       "classes": " directed ",
       "data": {
        "source": "8462778184397679656",
        "target": "4300649065814536547"
       },
       "pannable": true,
       "removed": false,
       "selectable": false,
       "selected": false
      }
     },
     "e0aa7a37c1954ac69b07b2ff6eb5f084": {
      "model_module": "jupyter-cytoscape",
      "model_module_version": "^1.3.3",
      "model_name": "EdgeModel",
      "state": {
       "_model_module": "jupyter-cytoscape",
       "_model_module_version": "^1.3.3",
       "_model_name": "EdgeModel",
       "_view_count": null,
       "_view_module": "jupyter-cytoscape",
       "_view_module_version": "^1.3.3",
       "_view_name": "EdgeView",
       "classes": " directed ",
       "data": {
        "source": "5300436216894225058",
        "target": "-5978474033132357694"
       },
       "pannable": true,
       "removed": false,
       "selectable": false,
       "selected": false
      }
     },
     "e20e26ed7a6145dc80aa554d1c43d122": {
      "model_module": "jupyter-cytoscape",
      "model_module_version": "^1.3.3",
      "model_name": "EdgeModel",
      "state": {
       "_model_module": "jupyter-cytoscape",
       "_model_module_version": "^1.3.3",
       "_model_name": "EdgeModel",
       "_view_count": null,
       "_view_module": "jupyter-cytoscape",
       "_view_module_version": "^1.3.3",
       "_view_name": "EdgeView",
       "classes": " directed ",
       "data": {
        "source": "-5827021843127586320",
        "target": "7826350597957497374"
       },
       "pannable": true,
       "removed": false,
       "selectable": false,
       "selected": false
      }
     },
     "e273a3c7e121415194119b3ea4cfb00c": {
      "model_module": "jupyter-cytoscape",
      "model_module_version": "^1.3.3",
      "model_name": "NodeModel",
      "state": {
       "_model_module": "jupyter-cytoscape",
       "_model_module_version": "^1.3.3",
       "_model_name": "NodeModel",
       "_view_count": null,
       "_view_module": "jupyter-cytoscape",
       "_view_module_version": "^1.3.3",
       "_view_name": "NodeView",
       "classes": "",
       "data": {
        "color": "gray",
        "id": "4883712670035126184",
        "label": "series-sum-chunk",
        "shape": "ellipse"
       },
       "grabbable": true,
       "grabbed": false,
       "locked": false,
       "pannable": false,
       "position": {},
       "removed": false,
       "selectable": false,
       "selected": false
      }
     },
     "e2e31ae2cc3149fc9582f114e9655d50": {
      "model_module": "jupyter-cytoscape",
      "model_module_version": "^1.3.3",
      "model_name": "NodeModel",
      "state": {
       "_model_module": "jupyter-cytoscape",
       "_model_module_version": "^1.3.3",
       "_model_name": "NodeModel",
       "_view_count": null,
       "_view_module": "jupyter-cytoscape",
       "_view_module_version": "^1.3.3",
       "_view_name": "NodeView",
       "classes": "",
       "data": {
        "color": "gray",
        "id": "1754204838462551909",
        "label": "getitem",
        "shape": "ellipse"
       },
       "grabbable": true,
       "grabbed": false,
       "locked": false,
       "pannable": false,
       "position": {},
       "removed": false,
       "selectable": false,
       "selected": false
      }
     },
     "e6faa521c060458c8b7134ca1ba0e212": {
      "model_module": "jupyter-cytoscape",
      "model_module_version": "^1.3.3",
      "model_name": "EdgeModel",
      "state": {
       "_model_module": "jupyter-cytoscape",
       "_model_module_version": "^1.3.3",
       "_model_name": "EdgeModel",
       "_view_count": null,
       "_view_module": "jupyter-cytoscape",
       "_view_module_version": "^1.3.3",
       "_view_name": "EdgeView",
       "classes": " directed ",
       "data": {
        "source": "1478847382606639002",
        "target": "3685869489764922999"
       },
       "pannable": true,
       "removed": false,
       "selectable": false,
       "selected": false
      }
     },
     "e7f4aff4537e468ba79b1ecdf15acab2": {
      "model_module": "jupyter-cytoscape",
      "model_module_version": "^1.3.3",
      "model_name": "EdgeModel",
      "state": {
       "_model_module": "jupyter-cytoscape",
       "_model_module_version": "^1.3.3",
       "_model_name": "EdgeModel",
       "_view_count": null,
       "_view_module": "jupyter-cytoscape",
       "_view_module_version": "^1.3.3",
       "_view_name": "EdgeView",
       "classes": " directed ",
       "data": {
        "source": "-8433422143760217297",
        "target": "-388902619403123461"
       },
       "pannable": true,
       "removed": false,
       "selectable": false,
       "selected": false
      }
     },
     "e868c41072a84adc8150764062331bb3": {
      "model_module": "jupyter-cytoscape",
      "model_module_version": "^1.3.3",
      "model_name": "EdgeModel",
      "state": {
       "_model_module": "jupyter-cytoscape",
       "_model_module_version": "^1.3.3",
       "_model_name": "EdgeModel",
       "_view_count": null,
       "_view_module": "jupyter-cytoscape",
       "_view_module_version": "^1.3.3",
       "_view_name": "EdgeView",
       "classes": " directed ",
       "data": {
        "source": "-7981147476444024036",
        "target": "7041274146138007207"
       },
       "pannable": true,
       "removed": false,
       "selectable": false,
       "selected": false
      }
     },
     "e96470e5a0254b598e9490d52d2f4f21": {
      "model_module": "jupyter-cytoscape",
      "model_module_version": "^1.3.3",
      "model_name": "NodeModel",
      "state": {
       "_model_module": "jupyter-cytoscape",
       "_model_module_version": "^1.3.3",
       "_model_name": "NodeModel",
       "_view_count": null,
       "_view_module": "jupyter-cytoscape",
       "_view_module_version": "^1.3.3",
       "_view_name": "NodeView",
       "classes": "",
       "data": {
        "color": "gray",
        "id": "-4505156498383604700",
        "label": "4",
        "shape": "rectangle"
       },
       "grabbable": true,
       "grabbed": false,
       "locked": false,
       "pannable": false,
       "position": {},
       "removed": false,
       "selectable": false,
       "selected": false
      }
     },
     "ea49005a3bf54c678389b4ca084e8d2b": {
      "model_module": "jupyter-cytoscape",
      "model_module_version": "^1.3.3",
      "model_name": "EdgeModel",
      "state": {
       "_model_module": "jupyter-cytoscape",
       "_model_module_version": "^1.3.3",
       "_model_name": "EdgeModel",
       "_view_count": null,
       "_view_module": "jupyter-cytoscape",
       "_view_module_version": "^1.3.3",
       "_view_name": "EdgeView",
       "classes": " directed ",
       "data": {
        "source": "1240472957130174564",
        "target": "-247150690772206060"
       },
       "pannable": true,
       "removed": false,
       "selectable": false,
       "selected": false
      }
     },
     "ea6d0470d7a94cce8321a9c630865b05": {
      "model_module": "jupyter-cytoscape",
      "model_module_version": "^1.3.3",
      "model_name": "NodeModel",
      "state": {
       "_model_module": "jupyter-cytoscape",
       "_model_module_version": "^1.3.3",
       "_model_name": "NodeModel",
       "_view_count": null,
       "_view_module": "jupyter-cytoscape",
       "_view_module_version": "^1.3.3",
       "_view_name": "NodeView",
       "classes": "",
       "data": {
        "color": "gray",
        "id": "-2801776862293374406",
        "label": "2",
        "shape": "rectangle"
       },
       "grabbable": true,
       "grabbed": false,
       "locked": false,
       "pannable": false,
       "position": {},
       "removed": false,
       "selectable": false,
       "selected": false
      }
     },
     "eac2512743994166b3196947d6b056a8": {
      "model_module": "jupyter-cytoscape",
      "model_module_version": "^1.3.3",
      "model_name": "EdgeModel",
      "state": {
       "_model_module": "jupyter-cytoscape",
       "_model_module_version": "^1.3.3",
       "_model_name": "EdgeModel",
       "_view_count": null,
       "_view_module": "jupyter-cytoscape",
       "_view_module_version": "^1.3.3",
       "_view_name": "EdgeView",
       "classes": " directed ",
       "data": {
        "source": "-5667983632582110800",
        "target": "-5727319446779357876"
       },
       "pannable": true,
       "removed": false,
       "selectable": false,
       "selected": false
      }
     },
     "eacbae06a9f14ccc970f53f0a0ebb26f": {
      "model_module": "jupyter-cytoscape",
      "model_module_version": "^1.3.3",
      "model_name": "EdgeModel",
      "state": {
       "_model_module": "jupyter-cytoscape",
       "_model_module_version": "^1.3.3",
       "_model_name": "EdgeModel",
       "_view_count": null,
       "_view_module": "jupyter-cytoscape",
       "_view_module_version": "^1.3.3",
       "_view_name": "EdgeView",
       "classes": " directed ",
       "data": {
        "source": "-2819058435188451524",
        "target": "-4433715405637590577"
       },
       "pannable": true,
       "removed": false,
       "selectable": false,
       "selected": false
      }
     },
     "eb94f61e14e644fe8fdd1a29f8a7d42f": {
      "model_module": "jupyter-cytoscape",
      "model_module_version": "^1.3.3",
      "model_name": "EdgeModel",
      "state": {
       "_model_module": "jupyter-cytoscape",
       "_model_module_version": "^1.3.3",
       "_model_name": "EdgeModel",
       "_view_count": null,
       "_view_module": "jupyter-cytoscape",
       "_view_module_version": "^1.3.3",
       "_view_name": "EdgeView",
       "classes": " directed ",
       "data": {
        "source": "6764739716149973308",
        "target": "-1020838954517715109"
       },
       "pannable": true,
       "removed": false,
       "selectable": false,
       "selected": false
      }
     },
     "ec7d605d54a44993955480ddb5daa3fd": {
      "model_module": "jupyter-cytoscape",
      "model_module_version": "^1.3.3",
      "model_name": "EdgeModel",
      "state": {
       "_model_module": "jupyter-cytoscape",
       "_model_module_version": "^1.3.3",
       "_model_name": "EdgeModel",
       "_view_count": null,
       "_view_module": "jupyter-cytoscape",
       "_view_module_version": "^1.3.3",
       "_view_name": "EdgeView",
       "classes": " directed ",
       "data": {
        "source": "2002484257718393725",
        "target": "1754204838462551909"
       },
       "pannable": true,
       "removed": false,
       "selectable": false,
       "selected": false
      }
     },
     "ef63f9bd59af4c0c8f663864280a9361": {
      "model_module": "jupyter-cytoscape",
      "model_module_version": "^1.3.3",
      "model_name": "EdgeModel",
      "state": {
       "_model_module": "jupyter-cytoscape",
       "_model_module_version": "^1.3.3",
       "_model_name": "EdgeModel",
       "_view_count": null,
       "_view_module": "jupyter-cytoscape",
       "_view_module_version": "^1.3.3",
       "_view_name": "EdgeView",
       "classes": " directed ",
       "data": {
        "source": "833260328992629715",
        "target": "-8524918260484342332"
       },
       "pannable": true,
       "removed": false,
       "selectable": false,
       "selected": false
      }
     },
     "f0147804ffe142dc928f1fd3809e255d": {
      "model_module": "jupyter-cytoscape",
      "model_module_version": "^1.3.3",
      "model_name": "EdgeModel",
      "state": {
       "_model_module": "jupyter-cytoscape",
       "_model_module_version": "^1.3.3",
       "_model_name": "EdgeModel",
       "_view_count": null,
       "_view_module": "jupyter-cytoscape",
       "_view_module_version": "^1.3.3",
       "_view_name": "EdgeView",
       "classes": " directed ",
       "data": {
        "source": "5856787332486628775",
        "target": "8520729284168095130"
       },
       "pannable": true,
       "removed": false,
       "selectable": false,
       "selected": false
      }
     },
     "f040f74c261c4c6e81baa2abe749e87b": {
      "model_module": "jupyter-cytoscape",
      "model_module_version": "^1.3.3",
      "model_name": "EdgeModel",
      "state": {
       "_model_module": "jupyter-cytoscape",
       "_model_module_version": "^1.3.3",
       "_model_name": "EdgeModel",
       "_view_count": null,
       "_view_module": "jupyter-cytoscape",
       "_view_module_version": "^1.3.3",
       "_view_name": "EdgeView",
       "classes": " directed ",
       "data": {
        "source": "-2642730649067789621",
        "target": "-4041975857957460076"
       },
       "pannable": true,
       "removed": false,
       "selectable": false,
       "selected": false
      }
     },
     "f1cd654ea8d6494fb0a8f5bccba73f4d": {
      "model_module": "jupyter-cytoscape",
      "model_module_version": "^1.3.3",
      "model_name": "EdgeModel",
      "state": {
       "_model_module": "jupyter-cytoscape",
       "_model_module_version": "^1.3.3",
       "_model_name": "EdgeModel",
       "_view_count": null,
       "_view_module": "jupyter-cytoscape",
       "_view_module_version": "^1.3.3",
       "_view_name": "EdgeView",
       "classes": " directed ",
       "data": {
        "source": "-9005826748622752183",
        "target": "1478847382606639002"
       },
       "pannable": true,
       "removed": false,
       "selectable": false,
       "selected": false
      }
     },
     "f212cc7c73044f0d8c0733b749394d23": {
      "model_module": "jupyter-cytoscape",
      "model_module_version": "^1.3.3",
      "model_name": "EdgeModel",
      "state": {
       "_model_module": "jupyter-cytoscape",
       "_model_module_version": "^1.3.3",
       "_model_name": "EdgeModel",
       "_view_count": null,
       "_view_module": "jupyter-cytoscape",
       "_view_module_version": "^1.3.3",
       "_view_name": "EdgeView",
       "classes": " directed ",
       "data": {
        "source": "-5470554817909911220",
        "target": "-979352091332914610"
       },
       "pannable": true,
       "removed": false,
       "selectable": false,
       "selected": false
      }
     },
     "f2bbaa4213db4df0ba38154940761a1c": {
      "model_module": "jupyter-cytoscape",
      "model_module_version": "^1.3.3",
      "model_name": "NodeModel",
      "state": {
       "_model_module": "jupyter-cytoscape",
       "_model_module_version": "^1.3.3",
       "_model_name": "NodeModel",
       "_view_count": null,
       "_view_module": "jupyter-cytoscape",
       "_view_module_version": "^1.3.3",
       "_view_name": "NodeView",
       "classes": "",
       "data": {
        "color": "gray",
        "id": "-1558499341429115856",
        "label": "9",
        "shape": "rectangle"
       },
       "grabbable": true,
       "grabbed": false,
       "locked": false,
       "pannable": false,
       "position": {},
       "removed": false,
       "selectable": false,
       "selected": false
      }
     },
     "f3a8568be61e4bcea24c0906af852d5a": {
      "model_module": "jupyter-cytoscape",
      "model_module_version": "^1.3.3",
      "model_name": "NodeModel",
      "state": {
       "_model_module": "jupyter-cytoscape",
       "_model_module_version": "^1.3.3",
       "_model_name": "NodeModel",
       "_view_count": null,
       "_view_module": "jupyter-cytoscape",
       "_view_module_version": "^1.3.3",
       "_view_name": "NodeView",
       "classes": "",
       "data": {
        "color": "gray",
        "id": "5151866381069614361",
        "label": "series-count-chunk",
        "shape": "ellipse"
       },
       "grabbable": true,
       "grabbed": false,
       "locked": false,
       "pannable": false,
       "position": {},
       "removed": false,
       "selectable": false,
       "selected": false
      }
     },
     "f453b25531b4465db95276a9ba325cae": {
      "model_module": "jupyter-cytoscape",
      "model_module_version": "^1.3.3",
      "model_name": "NodeModel",
      "state": {
       "_model_module": "jupyter-cytoscape",
       "_model_module_version": "^1.3.3",
       "_model_name": "NodeModel",
       "_view_count": null,
       "_view_module": "jupyter-cytoscape",
       "_view_module_version": "^1.3.3",
       "_view_name": "NodeView",
       "classes": "",
       "data": {
        "color": "gray",
        "id": "5926214000660163664",
        "label": "inv",
        "shape": "ellipse"
       },
       "grabbable": true,
       "grabbed": false,
       "locked": false,
       "pannable": false,
       "position": {},
       "removed": false,
       "selectable": false,
       "selected": false
      }
     },
     "f614f4653d8a4d248413b74d3962865c": {
      "model_module": "jupyter-cytoscape",
      "model_module_version": "^1.3.3",
      "model_name": "NodeModel",
      "state": {
       "_model_module": "jupyter-cytoscape",
       "_model_module_version": "^1.3.3",
       "_model_name": "NodeModel",
       "_view_count": null,
       "_view_module": "jupyter-cytoscape",
       "_view_module_version": "^1.3.3",
       "_view_name": "NodeView",
       "classes": "",
       "data": {
        "color": "gray",
        "id": "-4041975857957460076",
        "label": "series-sum-chunk",
        "shape": "ellipse"
       },
       "grabbable": true,
       "grabbed": false,
       "locked": false,
       "pannable": false,
       "position": {},
       "removed": false,
       "selectable": false,
       "selected": false
      }
     },
     "f79f38bb815c4e0a9c7490cb5d6b1d9c": {
      "model_module": "jupyter-cytoscape",
      "model_module_version": "^1.3.3",
      "model_name": "NodeModel",
      "state": {
       "_model_module": "jupyter-cytoscape",
       "_model_module_version": "^1.3.3",
       "_model_name": "NodeModel",
       "_view_count": null,
       "_view_module": "jupyter-cytoscape",
       "_view_module_version": "^1.3.3",
       "_view_name": "NodeView",
       "classes": "",
       "data": {
        "color": "gray",
        "id": "1804429350168819224",
        "label": "getitem",
        "shape": "ellipse"
       },
       "grabbable": true,
       "grabbed": false,
       "locked": false,
       "pannable": false,
       "position": {},
       "removed": false,
       "selectable": false,
       "selected": false
      }
     },
     "f7b5040b9f904a3d80cf7e27830b8601": {
      "model_module": "jupyter-cytoscape",
      "model_module_version": "^1.3.3",
      "model_name": "NodeModel",
      "state": {
       "_model_module": "jupyter-cytoscape",
       "_model_module_version": "^1.3.3",
       "_model_name": "NodeModel",
       "_view_count": null,
       "_view_module": "jupyter-cytoscape",
       "_view_module_version": "^1.3.3",
       "_view_name": "NodeView",
       "classes": "",
       "data": {
        "color": "gray",
        "id": "7050384369868986184",
        "label": "inv",
        "shape": "ellipse"
       },
       "grabbable": true,
       "grabbed": false,
       "locked": false,
       "pannable": false,
       "position": {},
       "removed": false,
       "selectable": false,
       "selected": false
      }
     },
     "f84e8408a5ec4091bc8994c53214db02": {
      "model_module": "jupyter-cytoscape",
      "model_module_version": "^1.3.3",
      "model_name": "NodeModel",
      "state": {
       "_model_module": "jupyter-cytoscape",
       "_model_module_version": "^1.3.3",
       "_model_name": "NodeModel",
       "_view_count": null,
       "_view_module": "jupyter-cytoscape",
       "_view_module_version": "^1.3.3",
       "_view_name": "NodeView",
       "classes": "",
       "data": {
        "color": "gray",
        "id": "-2172934766607634222",
        "label": "series-count-chunk",
        "shape": "ellipse"
       },
       "grabbable": true,
       "grabbed": false,
       "locked": false,
       "pannable": false,
       "position": {},
       "removed": false,
       "selectable": false,
       "selected": false
      }
     },
     "f85228fcc3c34d1cb2a3981a267a424c": {
      "model_module": "jupyter-cytoscape",
      "model_module_version": "^1.3.3",
      "model_name": "EdgeModel",
      "state": {
       "_model_module": "jupyter-cytoscape",
       "_model_module_version": "^1.3.3",
       "_model_name": "EdgeModel",
       "_view_count": null,
       "_view_module": "jupyter-cytoscape",
       "_view_module_version": "^1.3.3",
       "_view_name": "EdgeView",
       "classes": " directed ",
       "data": {
        "source": "4796879183921162774",
        "target": "2944965432535025934"
       },
       "pannable": true,
       "removed": false,
       "selectable": false,
       "selected": false
      }
     },
     "f88734b89dae46f7825a51f6e35dbf26": {
      "model_module": "jupyter-cytoscape",
      "model_module_version": "^1.3.3",
      "model_name": "EdgeModel",
      "state": {
       "_model_module": "jupyter-cytoscape",
       "_model_module_version": "^1.3.3",
       "_model_name": "EdgeModel",
       "_view_count": null,
       "_view_module": "jupyter-cytoscape",
       "_view_module_version": "^1.3.3",
       "_view_name": "EdgeView",
       "classes": " directed ",
       "data": {
        "source": "-3761830710728941713",
        "target": "-8027829037907954918"
       },
       "pannable": true,
       "removed": false,
       "selectable": false,
       "selected": false
      }
     },
     "f8f13bbac2864dac92a7105c111d8af0": {
      "model_module": "jupyter-cytoscape",
      "model_module_version": "^1.3.3",
      "model_name": "EdgeModel",
      "state": {
       "_model_module": "jupyter-cytoscape",
       "_model_module_version": "^1.3.3",
       "_model_name": "EdgeModel",
       "_view_count": null,
       "_view_module": "jupyter-cytoscape",
       "_view_module_version": "^1.3.3",
       "_view_name": "EdgeView",
       "classes": " directed ",
       "data": {
        "source": "785913499569917221",
        "target": "-347027367802321355"
       },
       "pannable": true,
       "removed": false,
       "selectable": false,
       "selected": false
      }
     },
     "f9e67d74268e4ecab32b0dff59f5fc23": {
      "model_module": "jupyter-cytoscape",
      "model_module_version": "^1.3.3",
      "model_name": "EdgeModel",
      "state": {
       "_model_module": "jupyter-cytoscape",
       "_model_module_version": "^1.3.3",
       "_model_name": "EdgeModel",
       "_view_count": null,
       "_view_module": "jupyter-cytoscape",
       "_view_module_version": "^1.3.3",
       "_view_name": "EdgeView",
       "classes": " directed ",
       "data": {
        "source": "4300649065814536547",
        "target": "2002484257718393725"
       },
       "pannable": true,
       "removed": false,
       "selectable": false,
       "selected": false
      }
     },
     "fb2c3b28d9ea449395ca281fd24cb8a3": {
      "model_module": "jupyter-cytoscape",
      "model_module_version": "^1.3.3",
      "model_name": "EdgeModel",
      "state": {
       "_model_module": "jupyter-cytoscape",
       "_model_module_version": "^1.3.3",
       "_model_name": "EdgeModel",
       "_view_count": null,
       "_view_module": "jupyter-cytoscape",
       "_view_module_version": "^1.3.3",
       "_view_name": "EdgeView",
       "classes": " directed ",
       "data": {
        "source": "5926214000660163664",
        "target": "-3761830710728941713"
       },
       "pannable": true,
       "removed": false,
       "selectable": false,
       "selected": false
      }
     },
     "fb6e251fef994514a1b18480a4ca138f": {
      "model_module": "jupyter-cytoscape",
      "model_module_version": "^1.3.3",
      "model_name": "EdgeModel",
      "state": {
       "_model_module": "jupyter-cytoscape",
       "_model_module_version": "^1.3.3",
       "_model_name": "EdgeModel",
       "_view_count": null,
       "_view_module": "jupyter-cytoscape",
       "_view_module_version": "^1.3.3",
       "_view_name": "EdgeView",
       "classes": " directed ",
       "data": {
        "source": "-6545621366584007782",
        "target": "-1979946239608582986"
       },
       "pannable": true,
       "removed": false,
       "selectable": false,
       "selected": false
      }
     },
     "fbc9667ea9e246759198cffc9126808b": {
      "model_module": "jupyter-cytoscape",
      "model_module_version": "^1.3.3",
      "model_name": "NodeModel",
      "state": {
       "_model_module": "jupyter-cytoscape",
       "_model_module_version": "^1.3.3",
       "_model_name": "NodeModel",
       "_view_count": null,
       "_view_module": "jupyter-cytoscape",
       "_view_module_version": "^1.3.3",
       "_view_name": "NodeView",
       "classes": "",
       "data": {
        "color": "gray",
        "id": "8177272606878611478",
        "label": "0",
        "shape": "rectangle"
       },
       "grabbable": true,
       "grabbed": false,
       "locked": false,
       "pannable": false,
       "position": {},
       "removed": false,
       "selectable": false,
       "selected": false
      }
     },
     "fd914b3ffc714cd9b300abb54bd90d95": {
      "model_module": "jupyter-cytoscape",
      "model_module_version": "^1.3.3",
      "model_name": "NodeModel",
      "state": {
       "_model_module": "jupyter-cytoscape",
       "_model_module_version": "^1.3.3",
       "_model_name": "NodeModel",
       "_view_count": null,
       "_view_module": "jupyter-cytoscape",
       "_view_module_version": "^1.3.3",
       "_view_name": "NodeView",
       "classes": "",
       "data": {
        "color": "gray",
        "id": "5300436216894225058",
        "label": "9",
        "shape": "rectangle"
       },
       "grabbable": true,
       "grabbed": false,
       "locked": false,
       "pannable": false,
       "position": {},
       "removed": false,
       "selectable": false,
       "selected": false
      }
     },
     "fdbd05fb487743c98ee2da9f7fd4c23d": {
      "model_module": "jupyter-cytoscape",
      "model_module_version": "^1.3.3",
      "model_name": "NodeModel",
      "state": {
       "_model_module": "jupyter-cytoscape",
       "_model_module_version": "^1.3.3",
       "_model_name": "NodeModel",
       "_view_count": null,
       "_view_module": "jupyter-cytoscape",
       "_view_module_version": "^1.3.3",
       "_view_name": "NodeView",
       "classes": "",
       "data": {
        "color": "gray",
        "id": "3815091433007580698",
        "label": "getitem",
        "shape": "ellipse"
       },
       "grabbable": true,
       "grabbed": false,
       "locked": false,
       "pannable": false,
       "position": {},
       "removed": false,
       "selectable": false,
       "selected": false
      }
     },
     "fe20bb67cba34f7ca028ae071498ab54": {
      "model_module": "jupyter-cytoscape",
      "model_module_version": "^1.3.3",
      "model_name": "EdgeModel",
      "state": {
       "_model_module": "jupyter-cytoscape",
       "_model_module_version": "^1.3.3",
       "_model_name": "EdgeModel",
       "_view_count": null,
       "_view_module": "jupyter-cytoscape",
       "_view_module_version": "^1.3.3",
       "_view_name": "EdgeView",
       "classes": " directed ",
       "data": {
        "source": "3569704155424983290",
        "target": "-4625039462178049713"
       },
       "pannable": true,
       "removed": false,
       "selectable": false,
       "selected": false
      }
     },
     "fe5a0e58bec14d83961fcc62a26f8a2f": {
      "model_module": "jupyter-cytoscape",
      "model_module_version": "^1.3.3",
      "model_name": "GraphModel",
      "state": {
       "_adj": {
        "-1020838954517715109": {},
        "-1158508209911528911": {},
        "-1187210135164072347": {},
        "-1204491708059149465": {},
        "-1207204539207773367": {},
        "-154071489199622629": {},
        "-1558499341429115856": {},
        "-1652547337611311416": {},
        "-1768712671951251125": {},
        "-1979946239608582986": {},
        "-2172934766607634222": {},
        "-2201009540536566391": {},
        "-2356434063889836357": {},
        "-2367700661888899338": {},
        "-2391829575837266754": {},
        "-2406393583825735088": {},
        "-2412321347944766871": {},
        "-247150690772206060": {},
        "-2642730649067789621": {},
        "-2685424149539673939": {},
        "-2784073144757156028": {},
        "-2801776862293374406": {},
        "-2819058435188451524": {},
        "-2821771266337075426": {},
        "-2943528790924291807": {},
        "-3096627135387924609": {},
        "-3173066068558417915": {},
        "-3335932569657840690": {},
        "-3337048831945179802": {},
        "-347027367802321355": {},
        "-35267779333385455": {},
        "-3761830710728941713": {},
        "-3785325943648538243": {},
        "-37980610482009357": {},
        "-3811954577793553631": {},
        "-3854862873483052387": {},
        "-388902619403123461": {},
        "-3923946721089635408": {},
        "-3971000791019138416": {},
        "-4013901084028527907": {},
        "-4041975857957460076": {},
        "-4112752719650055817": {},
        "-4257297376197091680": {},
        "-4433715405637590577": {},
        "-4494552228035901720": {},
        "-4505156498383604700": {},
        "-4581373977005740986": {},
        "-4586346540241213963": {},
        "-4625039462178049713": {},
        "-4931054639454705723": {},
        "-5332837348518615543": {},
        "-5426521304922855690": {},
        "-5470554817909911220": {},
        "-5626292261069431928": {},
        "-565427266404841403": {},
        "-5667983632582110800": {},
        "-5674380427109368710": {},
        "-5727319446779357876": {},
        "-5727692240079586261": {},
        "-5827021843127586320": {},
        "-5978474033132357694": {},
        "-6119723225512906759": {},
        "-6136964253667188585": {},
        "-6154383170744313460": {},
        "-6268809425238594695": {},
        "-6274681723058484262": {},
        "-6440328712975458999": {},
        "-6542908535435383880": {},
        "-6545621366584007782": {},
        "-6631148748276159362": {},
        "-6896543375505121886": {},
        "-6896916168805350271": {},
        "-7254193139457174837": {},
        "-7288947154238670769": {},
        "-7292886061394010587": {},
        "-7551483226870930168": {},
        "-7667573071521055037": {},
        "-7694850891266070772": {},
        "-781306398136672344": {},
        "-7825143019702143457": {},
        "-7836602819896988173": {},
        "-7977930571088082270": {},
        "-7981147476444024036": {},
        "-8027829037907954918": {},
        "-8051121799489138365": {},
        "-8066140097531114281": {},
        "-808882047645422660": {},
        "-8229006598630537056": {},
        "-8256961136802021121": {},
        "-8433422143760217297": {},
        "-8511482895934652330": {},
        "-8524918260484342332": {},
        "-86761478958341776": {},
        "-8864074819991834782": {},
        "-9005826748622752183": {},
        "-9150371405169788046": {},
        "-966399588917445790": {},
        "-979352091332914610": {},
        "1142692037050967999": {},
        "1229854809122270983": {},
        "1240472957130174564": {},
        "1478847382606639002": {},
        "1754204838462551909": {},
        "1765736428231983474": {},
        "1804429350168819224": {},
        "1955137428295681231": {},
        "2002484257718393725": {},
        "2013088528066096705": {},
        "2054509409036201635": {},
        "2074015593784244842": {},
        "2282974287755212044": {},
        "2332520259843700756": {},
        "2458431326469634754": {},
        "2487933770581262959": {},
        "2519358392187782891": {},
        "2558331743611124951": {},
        "2629685699212180360": {},
        "2717369954156600471": {},
        "2944965432535025934": {},
        "3042746352614232499": {},
        "3124361357021445241": {},
        "3281120778090696937": {},
        "338565131902394957": {},
        "3569704155424983290": {},
        "3627655255195398764": {},
        "3630831659601244575": {},
        "3685869489764922999": {},
        "3688582320913546901": {},
        "3815091433007580698": {},
        "3856782804520259570": {},
        "3895475726457095320": {},
        "4015821015065735090": {},
        "4085247683239269979": {},
        "4152557693480550832": {},
        "4300649065814536547": {},
        "4567714699587265051": {},
        "4738928084150747300": {},
        "4796879183921162774": {},
        "4847378048539249516": {},
        "48662832161684008": {},
        "4883712670035126184": {},
        "5032132732572698123": {},
        "5042187148802202920": {},
        "5151866381069614361": {},
        "5300436216894225058": {},
        "5528288664769083815": {},
        "5572522568292831214": {},
        "5598287532537155435": {},
        "5678987528542613587": {},
        "5697749121941153255": {},
        "5736938628313029061": {},
        "5829049600450326880": {},
        "5856787332486628775": {},
        "5910102119164742139": {},
        "5926214000660163664": {},
        "6156303101781520643": {},
        "6386447930201766889": {},
        "6512582012684697501": {},
        "6571839432282593364": {},
        "6656753875931504979": {},
        "6764739716149973308": {},
        "6848211457268377597": {},
        "6914538839876648421": {},
        "7041274146138007207": {},
        "7050384369868986184": {},
        "7066023926891564141": {},
        "717365426190231266": {},
        "7282065525053125107": {},
        "7293554255671915646": {},
        "7351505355442331120": {},
        "7412432421160479257": {},
        "7433946819223948491": {},
        "7681805941410461511": {},
        "7810156434728006639": {},
        "7813178480235993364": {},
        "7825977804657268989": {},
        "7826350597957497374": {},
        "785913499569917221": {},
        "7870150832040137183": {},
        "7910133727375015374": {},
        "7958576497265578578": {},
        "7968102526588414775": {},
        "8127148739813999560": {},
        "8177272606878611478": {},
        "8312079320624149884": {},
        "833260328992629715": {},
        "8348816619486636810": {},
        "843864599340332695": {},
        "8462778184397679656": {},
        "8520729284168095130": {},
        "86719889715495271": {},
        "8766037249049135276": {},
        "8874587552752043465": {},
        "8995574526683261384": {},
        "9026999148289781316": {},
        "904791665058480832": {},
        "9137326455314178785": {},
        "9143195929476779555": {}
       },
       "_model_module": "jupyter-cytoscape",
       "_model_module_version": "^1.3.3",
       "_model_name": "GraphModel",
       "_view_count": null,
       "_view_module": "jupyter-cytoscape",
       "_view_module_version": "^1.3.3",
       "_view_name": null,
       "edges": [
        "IPY_MODEL_59d93dd1b5864de4830019b1249ee95f",
        "IPY_MODEL_c13dce1c0570438b8dd1056d08a74d6d",
        "IPY_MODEL_4a6d960c79b3408489e8f27ee8e2c67c",
        "IPY_MODEL_da33a88307654e598945e7a2e1578b77",
        "IPY_MODEL_41524cb7a730465886e574c1b6f5f6e5",
        "IPY_MODEL_de245e15860e448193dc88054d03ea6f",
        "IPY_MODEL_b983f041b0fe473290aa4b44a4406827",
        "IPY_MODEL_7287ce7cbb8d4d0ba162d1df49e1164a",
        "IPY_MODEL_f88734b89dae46f7825a51f6e35dbf26",
        "IPY_MODEL_c006b08047f44fc688ba4c5cf3fdcefd",
        "IPY_MODEL_4a50d3f9ead44f2aa91bb4665796e428",
        "IPY_MODEL_1f2f32b22f984adca43953cd487d3ee5",
        "IPY_MODEL_a7bb916eb7ba4294ba320778d946f90b",
        "IPY_MODEL_fb6e251fef994514a1b18480a4ca138f",
        "IPY_MODEL_46f2d9d1aff34d7b88387690771a64d7",
        "IPY_MODEL_50f245a02e2d44ab9b53ff87693814d7",
        "IPY_MODEL_2c13889b2e1544e5a2ba60377ce889fe",
        "IPY_MODEL_be631b9f24134b03be462e51ca863d4c",
        "IPY_MODEL_f9e67d74268e4ecab32b0dff59f5fc23",
        "IPY_MODEL_e02095a3d217427f93bbe031968b8c63",
        "IPY_MODEL_d5e5693797264e10ae4a69867fdeed2e",
        "IPY_MODEL_5c90cb1aada64bfeb6d1cb6d32418233",
        "IPY_MODEL_fe20bb67cba34f7ca028ae071498ab54",
        "IPY_MODEL_8218ba59f1d84c73857beccc5956e28a",
        "IPY_MODEL_1224f76642084a5293de0ba6b2d4d2b0",
        "IPY_MODEL_d5e9123ccb6c4a5cbd3a7521c6abb024",
        "IPY_MODEL_4260cb97780a4d4baa55c0733dc92648",
        "IPY_MODEL_cd503f96920141b89361c806419fe953",
        "IPY_MODEL_4d5389d200644c4986ebded3f4a31a02",
        "IPY_MODEL_f8f13bbac2864dac92a7105c111d8af0",
        "IPY_MODEL_b882aa7bb33747789479a412aae4f45e",
        "IPY_MODEL_e0aa7a37c1954ac69b07b2ff6eb5f084",
        "IPY_MODEL_24c1fda42faf44d68322517e494fc812",
        "IPY_MODEL_fecbb40b90f14f66806419de92d6cf4f",
        "IPY_MODEL_2ac43796804747a89f66f89642b68a4e",
        "IPY_MODEL_50e9f113b35142c2bf85f766eeee9317",
        "IPY_MODEL_1d27d2d318934ebf950c75ffec0f3645",
        "IPY_MODEL_6aad3b43189a4ab580c273e15160a858",
        "IPY_MODEL_84f3b4dc2d4b45818bda93ac4b0a7fd5",
        "IPY_MODEL_b65bfefc7e34430db466517ba4430509",
        "IPY_MODEL_1f4360f7980843a3aecf288ac6c40f6c",
        "IPY_MODEL_8b7d4dc5cf7b4ce49d84ca49d7a3d61f",
        "IPY_MODEL_9160255911fd4b8ea8031fba00e31216",
        "IPY_MODEL_62c04ca660ae4227a4476e2309663a32",
        "IPY_MODEL_c0f081c375dc4059a5d7e4ba61ff8f45",
        "IPY_MODEL_26047ce6a3fe42d59a7de9a7b8b54786",
        "IPY_MODEL_3501593fa8af4ac69c89785c8ec143be",
        "IPY_MODEL_45e7f3b2ad9a449a985740ed3af804a0",
        "IPY_MODEL_4bde8d1c34f54aed876b3684bb589013",
        "IPY_MODEL_9a59cbc9032f4150b1125fcc73b11151",
        "IPY_MODEL_dcac4d056eef4b488cd35008806791a2",
        "IPY_MODEL_eac2512743994166b3196947d6b056a8",
        "IPY_MODEL_19c119b6902d40f0a608dc92c9f063e5",
        "IPY_MODEL_e20e26ed7a6145dc80aa554d1c43d122",
        "IPY_MODEL_7c8a178def8c47e9aaaa6aa7d835587c",
        "IPY_MODEL_5dfe15aebad94e09868afb170940c1c0",
        "IPY_MODEL_adba166a58cc488f847a86762b82f462",
        "IPY_MODEL_7a252d2b57964e7d894379d06531d250",
        "IPY_MODEL_03994e26c5bc4a9882b5dc69d3238308",
        "IPY_MODEL_ccd833c45ae943e48bb0994d3727ec9f",
        "IPY_MODEL_b720446a5d8347aaa8da253f26138258",
        "IPY_MODEL_e7f4aff4537e468ba79b1ecdf15acab2",
        "IPY_MODEL_5ab4cfa5eb9942efa5a5bccf960e19fa",
        "IPY_MODEL_c892a028f8174aeca5d668db38f82092",
        "IPY_MODEL_0a292e3072e041339c1454a9f605bd36",
        "IPY_MODEL_fb2c3b28d9ea449395ca281fd24cb8a3",
        "IPY_MODEL_54117686647848e4b005e76a09200430",
        "IPY_MODEL_a28cf74c16e54140952a13750fab5290",
        "IPY_MODEL_d70aaa2346034ed19016d93d04cd25fe",
        "IPY_MODEL_0a53b88db4f049cda1d6ded390672c51",
        "IPY_MODEL_d0f8c84d12164ef5ac0c859cca1bc534",
        "IPY_MODEL_58b01ef729de4876b0419a15f9980f0a",
        "IPY_MODEL_53d56a496fc747448ad68f3af60178b4",
        "IPY_MODEL_80524d78c16b464faab91a3023e32df5",
        "IPY_MODEL_38c6c086193a46b4b1ab5925e9b10d8d",
        "IPY_MODEL_71e0e1b59d954671b698035f16ed44af",
        "IPY_MODEL_2202d8035d9e4e169b969394538caf7e",
        "IPY_MODEL_e6faa521c060458c8b7134ca1ba0e212",
        "IPY_MODEL_f1cd654ea8d6494fb0a8f5bccba73f4d",
        "IPY_MODEL_426bf7a76fcd4aef814a3d3e278ee387",
        "IPY_MODEL_642114a7bc6b405a91ea39e309929ce5",
        "IPY_MODEL_8516ae6d690f4f1a9e512eda834f2b7c",
        "IPY_MODEL_95c3a5ab766d41569893436692e5f6a8",
        "IPY_MODEL_ab34f1c2db974c6eb378064668d79b7a",
        "IPY_MODEL_9ef5d594563a4a56bb400651b70e29ae",
        "IPY_MODEL_9f440a2fd7aa43769eba87c45cbb8014",
        "IPY_MODEL_1161e02d5a2040cb9aa4443847bf3b06",
        "IPY_MODEL_c5f92c453f1145f4ad6db369b54c029d",
        "IPY_MODEL_1aa45685cb7749d08cef716ebf2a2d87",
        "IPY_MODEL_0b51841ef7654c639c9e9c68c592add5",
        "IPY_MODEL_91012cc14d0d4db1a4a06c97573b0541",
        "IPY_MODEL_b6b42f70aaa14e9e9c23b1f83ce9b960",
        "IPY_MODEL_175418be155a48a3819a00890eb06ad7",
        "IPY_MODEL_0bb8b188ac484eacaa8092ce211caa28",
        "IPY_MODEL_ec7d605d54a44993955480ddb5daa3fd",
        "IPY_MODEL_79ae23f761f64cc59be4b8ddb6ee3d1c",
        "IPY_MODEL_5cb806476e6f4319be1ce6fc98669ea8",
        "IPY_MODEL_012515b3b78d4f9d8aeb831824a6177b",
        "IPY_MODEL_8ae7394d9fe648588fc2e92f5cea3c72",
        "IPY_MODEL_1149b1679c9842ff99c7577f6663b7c6",
        "IPY_MODEL_9ac554949d784a539f1666669c51ab7c",
        "IPY_MODEL_58fd988d80ed457f857749b6567aabde",
        "IPY_MODEL_ef63f9bd59af4c0c8f663864280a9361",
        "IPY_MODEL_1a16553daa7a4ecb8bbbbfead700436f",
        "IPY_MODEL_e868c41072a84adc8150764062331bb3",
        "IPY_MODEL_be757a1c1dc64d1cbea1255355f44a9d",
        "IPY_MODEL_1def7407e96342cc89e0bf52419983e8",
        "IPY_MODEL_d4087b3f48e64acfa0616dbc648856c3",
        "IPY_MODEL_ae78f865daec45aabf1caebf74233690",
        "IPY_MODEL_85ccd0b061594f888ebe7e42c2a75991",
        "IPY_MODEL_be2a1f71761c45c294dc0e333a5b913f",
        "IPY_MODEL_a05f882b3fa34617b65b485a2329debe",
        "IPY_MODEL_dc398aae43b844aeac57d71d192092de",
        "IPY_MODEL_78a3cf0cbeee4506a51acfc73e4d5f2a",
        "IPY_MODEL_f040f74c261c4c6e81baa2abe749e87b",
        "IPY_MODEL_b98568c506d84e5da711b610d7055e2b",
        "IPY_MODEL_d80b36f5dbbe44a2b6225589b514e675",
        "IPY_MODEL_99c1aa9cf04d4470b498fc13e8248c15",
        "IPY_MODEL_bcbc6d51d58c407fb36538a4df81ec13",
        "IPY_MODEL_acef205974a74b09addca06032de88cf",
        "IPY_MODEL_d3a63dae87074cfdb5cb63e048547317",
        "IPY_MODEL_ea49005a3bf54c678389b4ca084e8d2b",
        "IPY_MODEL_c0a30030bd5d4ac5aac4d459464e295b",
        "IPY_MODEL_b640c49a498d45ceac802f558b82223e",
        "IPY_MODEL_0044d6e4d201438da803708622bd3fba",
        "IPY_MODEL_297a9521910d49259dd5d67636848691",
        "IPY_MODEL_d0dba6eb142f47239c0b81676bb49135",
        "IPY_MODEL_3b0806d8c2754174915dd92f19621a70",
        "IPY_MODEL_c7703ca1435e4abc8da85e660159f0b4",
        "IPY_MODEL_863aa71129094e2eb0d5bf2b6f1053f5",
        "IPY_MODEL_ded1d12011d04b00af85a778a2dca093",
        "IPY_MODEL_d0189ae909294bdbb84e9197f2cccb02",
        "IPY_MODEL_36262bd85cea409c8fdb759b66d6b9c5",
        "IPY_MODEL_a3383aff9c4a4395a74426750a94911d",
        "IPY_MODEL_da4fd0c657c242d69f917cea87d6acd2",
        "IPY_MODEL_d0b87c395c154494abd2484f76b43b3d",
        "IPY_MODEL_bd4e4ca814824a678a8de348354dd14e",
        "IPY_MODEL_12ac6865345a426d8779828e0e31fefb",
        "IPY_MODEL_7e93c5785ae54dadac9a124aadae50ad",
        "IPY_MODEL_db31c44c47714500bc6111b237cf0a49",
        "IPY_MODEL_9d7edaf6d8ba4924b0872763d2f556af",
        "IPY_MODEL_6ce7f644a1364a9e9518054a5e9dc578",
        "IPY_MODEL_d18dadba2fa04525a3a76588559797ea",
        "IPY_MODEL_25245a5bf6044748bbf83e0b6e4586cc",
        "IPY_MODEL_54d1e47a706c408d9e710ffa155d5639",
        "IPY_MODEL_5167a988145b4e6c817b6a3ca69e456c",
        "IPY_MODEL_380aba5c9f404839a5dd2f59d85e97e8",
        "IPY_MODEL_8dce1c9dd9e248b2b9fe3b9358f6fae9",
        "IPY_MODEL_a835f1abb38f4be4bbc5bac6fcc9be85",
        "IPY_MODEL_3a30c792fc704f34a5011f9bf2b904c7",
        "IPY_MODEL_66638b886f284b0abc9d41d1b4368208",
        "IPY_MODEL_3fa9e051dcb54cc089fadc0c8745cc5e",
        "IPY_MODEL_dcafd8eeec6345dbb77500a35246d139",
        "IPY_MODEL_801a0465e8b244e78b3aa42c273056db",
        "IPY_MODEL_6a71f5b89f044ace870f4a07c667c7cb",
        "IPY_MODEL_661bb671af544fd78c474ae3807af22e",
        "IPY_MODEL_47988a3b74924d84a5207b327b3b33cd",
        "IPY_MODEL_85c6e9726b0e47caa8a200e32ad3905f",
        "IPY_MODEL_1410b27f1a3047298e17c9494ea6232a",
        "IPY_MODEL_5d16458dfe6245f4b4a6336ae6c47b91",
        "IPY_MODEL_a11c62ce3e8f4228ade71c96f2b2868c",
        "IPY_MODEL_9728aed1fe354ef1bfa2d9a4fd9c4cfc",
        "IPY_MODEL_09f606793bd445b4bfe7d7d55af22e9d",
        "IPY_MODEL_ba2b81c122de4933ab4a6f3524d30862",
        "IPY_MODEL_2a8a8370b6f3422f8020d43d7ef33dcc",
        "IPY_MODEL_1e0bac43d94441b9871d320c0a57f005",
        "IPY_MODEL_c92a363438774688a32ef9143c5d26a4",
        "IPY_MODEL_08162334a3ee40da9bb905a65ca6ae6e",
        "IPY_MODEL_63e1b45439fe4af2a8eabacd17251d99",
        "IPY_MODEL_7fd44dbc9824408a8f752654d94d6da6",
        "IPY_MODEL_6983d851b5e845da9b1818c7214112e5",
        "IPY_MODEL_f0147804ffe142dc928f1fd3809e255d",
        "IPY_MODEL_a71ee859411943308a6d9dd709b820b3",
        "IPY_MODEL_603f6a6062d44295a2fb742b0a5b49f8",
        "IPY_MODEL_a5df49776ee14baeae868fd9bef68c72",
        "IPY_MODEL_3bf5c2c56c4b4fca8b1ba464fe4c9373",
        "IPY_MODEL_cd350d0739434da1acc741614ea018b8",
        "IPY_MODEL_c4c4e6b21ff44b60bcaf179cf172c23a",
        "IPY_MODEL_1dd2d2a3542d446688f0c6b0da00c6f0",
        "IPY_MODEL_3de6bf16aa5f4c7f9cbcabadf40c76f5",
        "IPY_MODEL_30fd47bdfb504f4e84e4ce70e66b81fa",
        "IPY_MODEL_b97a007043cd4f2aa98938f596c30a03",
        "IPY_MODEL_2f8ce3b67673426bb37d628c933277fb",
        "IPY_MODEL_4d3692a31ccb4e0eadccba63a041cca6",
        "IPY_MODEL_021ba0fd02eb4ad3bccf009bc77d1329",
        "IPY_MODEL_515ac26a2f6840e3ab43e8c9fae3627e",
        "IPY_MODEL_f85228fcc3c34d1cb2a3981a267a424c",
        "IPY_MODEL_ab5b53361ce447538025deb0cc9fe483",
        "IPY_MODEL_5eae232085b94f0783fce2f1d07d4f30",
        "IPY_MODEL_87e81bb94ca449f6a4e247d389ca6796",
        "IPY_MODEL_62e776f90596414fa36b3c0636a8287d",
        "IPY_MODEL_134b975c68ab4df9961b639e97fb4ac5",
        "IPY_MODEL_a1a07c01334c44a88e136590c6c3d2bd",
        "IPY_MODEL_d1d14dba67b44a02b435b5ae1e966e7d",
        "IPY_MODEL_d64e1cd40174434ea43c983aadc6798a",
        "IPY_MODEL_3f9cfe3b22da48988cc496f2f12cad54",
        "IPY_MODEL_7af1a1c631b84a55968b160f3dd4ade2",
        "IPY_MODEL_a8f472ef33d44195977db8fffb073ea5",
        "IPY_MODEL_3aea6d0a92cf4adc96f05063f50aecee",
        "IPY_MODEL_8860e5475d104457af1057d117e81628",
        "IPY_MODEL_30f4a0b5933d4cae87019dfc14d436ee",
        "IPY_MODEL_dc0e507101a44f64b30f6954f801b7fc",
        "IPY_MODEL_5bfe998590c54655bfe2298f42c445fe",
        "IPY_MODEL_2238a0dc162a4706a307268bd7323fc5",
        "IPY_MODEL_b03c7f4968f349b188d175dff860f958",
        "IPY_MODEL_7711212516b544bf9dea45df6fe01483",
        "IPY_MODEL_c530475f36e24a309418980fc57a6477",
        "IPY_MODEL_6e47adad30ec4e07bd095ff2660203ac",
        "IPY_MODEL_1fd60958a9c84ae1a4fbee51c1d5eb1c",
        "IPY_MODEL_eacbae06a9f14ccc970f53f0a0ebb26f",
        "IPY_MODEL_f212cc7c73044f0d8c0733b749394d23",
        "IPY_MODEL_5231a3d6371e420fb164b96bb96ea135",
        "IPY_MODEL_0f71b2464bc44178a3e1b5456c38068d",
        "IPY_MODEL_4d792665856941dca5b797c6bfe23f96",
        "IPY_MODEL_462749ac522e41cea5d0256c22ddd135",
        "IPY_MODEL_de085cb206c44b2da5f7a81bd61c9df1",
        "IPY_MODEL_19ed76b6d74d43ffb3d22e9f24096e61",
        "IPY_MODEL_bb68cfc0a12342f4bc7d6e9e48e8abb6",
        "IPY_MODEL_6b7e6e0d61ca4e169c1762103d835254",
        "IPY_MODEL_7f2be667974b4fc2a9765dd2627c78d9",
        "IPY_MODEL_3a99ee75bfa0438aa686e5e04a95b7d8",
        "IPY_MODEL_c099952c63dc4bacbaa6a0829ecef2c2",
        "IPY_MODEL_2a2801a35ce94057ab73dd22ad96728e",
        "IPY_MODEL_eb94f61e14e644fe8fdd1a29f8a7d42f",
        "IPY_MODEL_c7e2fa124d1144139c10e95e46219cc2",
        "IPY_MODEL_a289ee6face640e5aede94e3df67ca91"
       ],
       "nodes": [
        "IPY_MODEL_2575279f9113464d9ecedcd148e6dbf1",
        "IPY_MODEL_cf3d696e50ac497bbba493224211dfa2",
        "IPY_MODEL_2505589439f342efa7791e7e08267bdf",
        "IPY_MODEL_255ac05a590645f288966aeba74fe569",
        "IPY_MODEL_cb0fe3d399a64eca817c4083221d6beb",
        "IPY_MODEL_bd495eafa228442d96e503cdaa016b1b",
        "IPY_MODEL_fbc9667ea9e246759198cffc9126808b",
        "IPY_MODEL_bfea92b2c75b45dc9ed4d362b0f37537",
        "IPY_MODEL_7548632efc454260bb1f21c2d01438d7",
        "IPY_MODEL_c7cb133fed98470e8d2f74babee23500",
        "IPY_MODEL_c61e679fabe542dc900c0be654df8360",
        "IPY_MODEL_7532732c53454d5f83bb7cd6e789d113",
        "IPY_MODEL_9f43f40bf4d34713b52354fc298d9f8b",
        "IPY_MODEL_b1d6a721db2540f28c4d6aebd9bcdae3",
        "IPY_MODEL_8e8e265ae7804c17833a84324da36379",
        "IPY_MODEL_c24f976ed6784f6d91012f8020de1618",
        "IPY_MODEL_dfa7082bf45748c8a0ea3de2a183b18b",
        "IPY_MODEL_86bc37f46833409e9993e8b1144c4093",
        "IPY_MODEL_d8d5b891beb04aea964b2bbd45c1843d",
        "IPY_MODEL_73e105dba6ab4c6984cd710a148da1a9",
        "IPY_MODEL_8ab3b167420a4317809acca3e367005a",
        "IPY_MODEL_4d0fef9685ec4f109bd1b7f857be8a87",
        "IPY_MODEL_3cc26579687f4f20a20d04e1ba94644d",
        "IPY_MODEL_e96470e5a0254b598e9490d52d2f4f21",
        "IPY_MODEL_1ec14e2543b84532a04cd7e30e66ede4",
        "IPY_MODEL_5aeba898706d4a61b0254be3418ef1a1",
        "IPY_MODEL_4e61ac1fb20e4609858af81fa58cdcc0",
        "IPY_MODEL_00e45535bac24c0ba9ef7b36ca05e37e",
        "IPY_MODEL_1ef50841223d419d9d75ec0babb0a743",
        "IPY_MODEL_9f0f82b000824a819d40358a67bc13f8",
        "IPY_MODEL_0899fd8145314856a37beff13de567ff",
        "IPY_MODEL_4cc860f7e4234cb3adf8bdcdb87f7de3",
        "IPY_MODEL_67052735c47541c3a5433b30377b8334",
        "IPY_MODEL_6daef9db33dd41c7a4e5605f612231ef",
        "IPY_MODEL_4f6d2207a2a24732abe3f8b1e2cf627c",
        "IPY_MODEL_d0722f672a3f4c148394291a63a558d4",
        "IPY_MODEL_7a8c136806fc4d9e8267bbe6689ada69",
        "IPY_MODEL_b26a01b76c324cb3beda0257e69f5d18",
        "IPY_MODEL_06fbd176441549baafb472cb789549d7",
        "IPY_MODEL_830979fca7a04f64883263258217cfb1",
        "IPY_MODEL_689c76c0ca674882b85d283f49341136",
        "IPY_MODEL_fd914b3ffc714cd9b300abb54bd90d95",
        "IPY_MODEL_95ca42dc55e841a8b39a1688687cefbc",
        "IPY_MODEL_545c4443ab2b440dbf1e1bfb48207de6",
        "IPY_MODEL_7daa07b3e8124f1e996fbd40ec92e11e",
        "IPY_MODEL_b698891ae78841678b356207d656b421",
        "IPY_MODEL_553256c894b049849b36a5fbbae1f010",
        "IPY_MODEL_967e4cf711d44f8199bb37c117ca3c6e",
        "IPY_MODEL_60ea0cd299314dd395ce5d3051c29337",
        "IPY_MODEL_42c535184d854690904311ebb01e76e3",
        "IPY_MODEL_067ca452566f46ff9d19c9cf55cc2730",
        "IPY_MODEL_32e427c44db84d36acaaafa67c2c7f7a",
        "IPY_MODEL_c3d454ffea8f493d8372f030f0ec955e",
        "IPY_MODEL_5031e2e4f988464b88a4a6aebdc16994",
        "IPY_MODEL_4d4da1d086254595a57779f3e84b5b7d",
        "IPY_MODEL_cdaed067e31c4e3da40f8ae6c037ffd0",
        "IPY_MODEL_f79f38bb815c4e0a9c7490cb5d6b1d9c",
        "IPY_MODEL_71922225acea45809cd3dcaabf4b79a3",
        "IPY_MODEL_c1d807fa520b47648a82b2b59c74e4a5",
        "IPY_MODEL_c580f512ed504063aaa62fcdb3b758b2",
        "IPY_MODEL_bca2fcd93dc2438f935232331070f7f6",
        "IPY_MODEL_40b8b33302704fc7871dbb1b2fe51669",
        "IPY_MODEL_c5a542cd528442a6b539255966364f05",
        "IPY_MODEL_acf0c94f5a2c41fb9900ed375b8d587b",
        "IPY_MODEL_95690469fcb84ce39cb903836e72a722",
        "IPY_MODEL_b3168d7fff78481885bff7806a8d16a8",
        "IPY_MODEL_c46a016d0b104be8a8d0c42511b453dd",
        "IPY_MODEL_173ea39448ce48249c3ef8bb2814307e",
        "IPY_MODEL_3de51491568247b9968c4eec9b1ddca6",
        "IPY_MODEL_b4f78967e1f849f0b4908388b5c74e8f",
        "IPY_MODEL_fdbd05fb487743c98ee2da9f7fd4c23d",
        "IPY_MODEL_1ac76e892955463984616b518e98a2be",
        "IPY_MODEL_05d141b3e9fe4aa08e3e08f53c6d9620",
        "IPY_MODEL_c5bed3279e0d43ab806be9a494b729b0",
        "IPY_MODEL_68a196e075014b8da9bc811fc558bddd",
        "IPY_MODEL_f453b25531b4465db95276a9ba325cae",
        "IPY_MODEL_68724c764f434e588850f0999f1f7bab",
        "IPY_MODEL_b81e1cdd234b4fac9c1b9c4699c1b7a7",
        "IPY_MODEL_afcb23a2ff1240c4b35b1960e1d06ce2",
        "IPY_MODEL_4d2e3db091d240b89b8ea1bd9184cf01",
        "IPY_MODEL_35d288c224cf4de48c5680abdec0febb",
        "IPY_MODEL_d97d665a784b42d9b0ab6cb6fc9d5767",
        "IPY_MODEL_f7b5040b9f904a3d80cf7e27830b8601",
        "IPY_MODEL_bc13d2a4cac1453abbc4db1a9f71d520",
        "IPY_MODEL_c9af145f1c7b4f20b7835faef0281024",
        "IPY_MODEL_4cfafaa3094245c9b2bfa787ee9dd433",
        "IPY_MODEL_0fefc850d9684c6f96e2c6997870ce7c",
        "IPY_MODEL_da2d033fa34e405f950b7b716b005e5b",
        "IPY_MODEL_dcad9a5a0da3404aace8ffd409857bd2",
        "IPY_MODEL_347da929ad1949d29b5ccac09fa5004e",
        "IPY_MODEL_5c5a6d6d94ee4080b9e912c44745c4e9",
        "IPY_MODEL_3e32db4b004c46dca5ca35c960803762",
        "IPY_MODEL_b8a9bb287a7a44fc839bf06e04f1de26",
        "IPY_MODEL_5c274f7a83c8495facddd55d4efb2396",
        "IPY_MODEL_e2e31ae2cc3149fc9582f114e9655d50",
        "IPY_MODEL_95961621fd2a4fa39a5592c3fe4ab5e4",
        "IPY_MODEL_4bb6299839ec400889fc76e33f784095",
        "IPY_MODEL_03ca58997cc54980b2248929c851a161",
        "IPY_MODEL_ba91add6f9554a2194e79da6b701c207",
        "IPY_MODEL_49797d2593064c2fb1035985dfccb049",
        "IPY_MODEL_ad92f37e272c4065983818d9ba9e4cfa",
        "IPY_MODEL_0d7e4c4fec6744ffb770903b68c1582b",
        "IPY_MODEL_6eceb70d51474e07a6c45f4f480f67ae",
        "IPY_MODEL_7e47c06590f644ba98ebe36fb11a2a4f",
        "IPY_MODEL_44f371a28e154286a8a6a0079fc97550",
        "IPY_MODEL_093cf0a6b9064512b8cd528598ab0658",
        "IPY_MODEL_3027299ca6554b8695075749be9f1fe2",
        "IPY_MODEL_513d4eee06884824a399f193e701d701",
        "IPY_MODEL_83c4828112244751869c4dca4be314ec",
        "IPY_MODEL_ea6d0470d7a94cce8321a9c630865b05",
        "IPY_MODEL_7287c51dbe34418cbced2143a053ae22",
        "IPY_MODEL_11ac356e2e87450e819a7175f5b1ebd3",
        "IPY_MODEL_e273a3c7e121415194119b3ea4cfb00c",
        "IPY_MODEL_c7575136d04c4b7b921cb53252550886",
        "IPY_MODEL_f614f4653d8a4d248413b74d3962865c",
        "IPY_MODEL_b6ee68cac76348acbc6e5df61c24aab0",
        "IPY_MODEL_18f0e4c9d5384008b0496be9839a489d",
        "IPY_MODEL_b42b88a6f5ff43dc88ff4a195e1d92d4",
        "IPY_MODEL_8156439abb3b40b49378c273b434bed4",
        "IPY_MODEL_ae013fc73fe64e2bab381bdc3472bfbc",
        "IPY_MODEL_07c8cbe9e28242cdbb4f16a028072da9",
        "IPY_MODEL_c001043aa0e148c0a78319c0db3a33b3",
        "IPY_MODEL_70552a4890cf4345988caa732cd70852",
        "IPY_MODEL_3f29fa097fe1491b9c7bc090267e89e2",
        "IPY_MODEL_9b8930fc72584f7ebebeb46ed97c1acb",
        "IPY_MODEL_29208796fe63475c9623e1da4edbae93",
        "IPY_MODEL_6096195742ee4980b3207d3de1e9f160",
        "IPY_MODEL_f84e8408a5ec4091bc8994c53214db02",
        "IPY_MODEL_9eb8a0b8dfe9421ea13936f1755639ef",
        "IPY_MODEL_ffeb908280104532bbadbe81ebb910ac",
        "IPY_MODEL_b228d808baa948c5a3e9fb0ec4ac6c21",
        "IPY_MODEL_7856946ac97c4584b7eb8dc38518fba4",
        "IPY_MODEL_63cf1d9ffd1045c2abba12df59da2c5b",
        "IPY_MODEL_486eadd4f1a74f92b3d2bb12bd495d66",
        "IPY_MODEL_5066684eacb54a7eb06d38d5d94d758f",
        "IPY_MODEL_f3a8568be61e4bcea24c0906af852d5a",
        "IPY_MODEL_6fb7096e232e4e7d83c2a1b3b5b6f3c9",
        "IPY_MODEL_dc7b44344df54c239faebfc5434fd753",
        "IPY_MODEL_16678485b3784cf68c8b12c2f26324cf",
        "IPY_MODEL_a5afbf145fe7419db2c208f5e63302e7",
        "IPY_MODEL_3111b70976074f06ba35382bc77e3a5c",
        "IPY_MODEL_a857585435a24e3b8a17a60c91aa4147",
        "IPY_MODEL_38a1b7bbd6ec4a15a4551d38e3f30672",
        "IPY_MODEL_5bb6138a531847cfae3beb35ac1cf968",
        "IPY_MODEL_f2bbaa4213db4df0ba38154940761a1c",
        "IPY_MODEL_a4bb0e6ee0ca4531a3c47a0dbac9bf59",
        "IPY_MODEL_1edb7240ff634407bf5157f353a14f5a",
        "IPY_MODEL_377bae0bd8414a84a015032ae3d60bfb",
        "IPY_MODEL_506a92c366ed4f8fa82181ea900457c7",
        "IPY_MODEL_adee3b0b7bd947db8f62cb0196bf2e1a",
        "IPY_MODEL_1fb4600a62a14f309797b2d8aa21ac12",
        "IPY_MODEL_1b318c460df7452e88e2e60939b9e473",
        "IPY_MODEL_a44b0076d20243c884ab0a3f2d3b04b7",
        "IPY_MODEL_b59b4aa191a842968061be3febd56d15",
        "IPY_MODEL_875859a586f740e6bb858327762eb0c7",
        "IPY_MODEL_dc71ce7c42614280b42401d1b021288b",
        "IPY_MODEL_ba3027a755db4c1d8848d155c0688b37",
        "IPY_MODEL_117f70868858420cbec063b788c4b045",
        "IPY_MODEL_4c397e6c5cca4fbfae06522ad580a45a",
        "IPY_MODEL_d80479c631b74aa282179af8c5dfccc3",
        "IPY_MODEL_b0a6450388704784b7c6615caf3bcc09",
        "IPY_MODEL_4a6b3f01a8944c0ab2b7d408cc512014",
        "IPY_MODEL_81f2a8d5ecf6489c85f98df42c761f7c",
        "IPY_MODEL_5070307b22024241aa1465332ffa1479",
        "IPY_MODEL_ce5cda7c8bee4bcf92e5d2ef6ca35852",
        "IPY_MODEL_5d0a461f91e2410bbe3ae50c59f3a53e",
        "IPY_MODEL_2057ef4f61e64d06adc2eecce8390ae0",
        "IPY_MODEL_4c0b53c9618141d8a7790939159dd86f",
        "IPY_MODEL_297268f80ed94bcab5e7d17814d506a7",
        "IPY_MODEL_50dc4f9535aa4a20b39d4ab1508415f7",
        "IPY_MODEL_88e94942bb7d49c0a5e905cab86b33ec",
        "IPY_MODEL_13cd3e1a237045fa89d42e9b6205d06d",
        "IPY_MODEL_6f8521dde96d4a4b99408e35753163f3",
        "IPY_MODEL_9066df25abf040c69d62cddaf94c0c79",
        "IPY_MODEL_487ba732320d4908823462a2ea172c83",
        "IPY_MODEL_ba985caed7ad40bcafaf5f4d68a8e902",
        "IPY_MODEL_7c4194af19bf42a4a98b9a0910428846",
        "IPY_MODEL_b63a6a126bb946028fc3122dfb32f191",
        "IPY_MODEL_2afe91881d624038b90a4db5ef83f2bb",
        "IPY_MODEL_6a5efce68c974598ac56579425dac395",
        "IPY_MODEL_6fcd42744ed147e78080cb8a51c4e4f7",
        "IPY_MODEL_c5989d383088411aba738b65ea1e74dd",
        "IPY_MODEL_98a2ad3e63de4bd0957e4c795d139fb3",
        "IPY_MODEL_8385356ceed84418a0b1d2eecb507b69",
        "IPY_MODEL_cbb4d95533fa48ecbed54082d9db6232",
        "IPY_MODEL_5184f60b6ec947f397c07da978d11346",
        "IPY_MODEL_a0673650f06e46e996ec5f91fa4e862d",
        "IPY_MODEL_51985d8274e64850accdd0579b53f7e0",
        "IPY_MODEL_cf333230047045da92f4517830ee9500",
        "IPY_MODEL_511d6b41d11d4367b97fbef8af722f20",
        "IPY_MODEL_2f651d1d704c45238f4bf70742ae2748",
        "IPY_MODEL_124c6e44a22d4158b9dae3db51516f93",
        "IPY_MODEL_a0ced8cdf3ae415d96ce6647ab02c901",
        "IPY_MODEL_7394731de07446f8ba2d64f99689cd5d",
        "IPY_MODEL_7cab19de442a4a18b5c413d37023e4e8",
        "IPY_MODEL_b59cc98b124542a2a63c8b2acf67ffd8",
        "IPY_MODEL_639b884991bc4c81970ad24467c759d1",
        "IPY_MODEL_b5d7aa1b8b314998bb13fa53096f7008"
       ]
      }
     },
     "fecbb40b90f14f66806419de92d6cf4f": {
      "model_module": "jupyter-cytoscape",
      "model_module_version": "^1.3.3",
      "model_name": "EdgeModel",
      "state": {
       "_model_module": "jupyter-cytoscape",
       "_model_module_version": "^1.3.3",
       "_model_name": "EdgeModel",
       "_view_count": null,
       "_view_module": "jupyter-cytoscape",
       "_view_module_version": "^1.3.3",
       "_view_name": "EdgeView",
       "classes": " directed ",
       "data": {
        "source": "3630831659601244575",
        "target": "3124361357021445241"
       },
       "pannable": true,
       "removed": false,
       "selectable": false,
       "selected": false
      }
     },
     "ffeb908280104532bbadbe81ebb910ac": {
      "model_module": "jupyter-cytoscape",
      "model_module_version": "^1.3.3",
      "model_name": "NodeModel",
      "state": {
       "_model_module": "jupyter-cytoscape",
       "_model_module_version": "^1.3.3",
       "_model_name": "NodeModel",
       "_view_count": null,
       "_view_module": "jupyter-cytoscape",
       "_view_module_version": "^1.3.3",
       "_view_name": "NodeView",
       "classes": "",
       "data": {
        "color": "gray",
        "id": "-3854862873483052387",
        "label": "series-count-chunk",
        "shape": "ellipse"
       },
       "grabbable": true,
       "grabbed": false,
       "locked": false,
       "pannable": false,
       "position": {},
       "removed": false,
       "selectable": false,
       "selected": false
      }
     }
    },
    "version_major": 2,
    "version_minor": 0
   }
  }
 },
 "nbformat": 4,
 "nbformat_minor": 4
}
